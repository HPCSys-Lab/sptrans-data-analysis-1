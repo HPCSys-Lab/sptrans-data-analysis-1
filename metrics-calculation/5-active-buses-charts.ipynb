{
 "cells": [
  {
   "cell_type": "code",
   "execution_count": null,
   "metadata": {},
   "outputs": [],
   "source": [
    "# Active buses charts"
   ]
  },
  {
   "cell_type": "code",
   "execution_count": 1,
   "metadata": {},
   "outputs": [],
   "source": [
    "import pandas as pd\n",
    "import matplotlib.pyplot as plt\n",
    "\n",
    "# actives buses per day\n",
    "\n",
    "df_actives_per_day = pd.read_csv(\"./metrics-calculation/actives-buses/active-buses-per-day.csv\")\n",
    "\n",
    "day_column = [day for day in range(1,32)]\n",
    "df_actives_per_day[\"day\"] = day_column\n",
    "\n",
    "df_final = df_actives_per_day.sort_values(by=[\"day\"])"
   ]
  },
  {
   "cell_type": "code",
   "execution_count": null,
   "metadata": {},
   "outputs": [],
   "source": [
    "ax = df_final.plot.bar(x =\"day\",y = \"number_of_vehicles\",title=f\"Número de ônibus ativos por dia\",figsize=(26,10))\n",
    "# x axis label\n",
    "ax.set_xlabel(\"dia\",size=15)\n",
    "# y axis label\n",
    "ax.set_ylabel(\"ônibus ativos\",size=15)\n",
    "\n",
    "# size of the number in both axis\n",
    "ax.tick_params(axis='both', which='major', labelsize=15)\n",
    "\n",
    "# title fontsize\n",
    "ax.title.set_size(30)\n",
    "# Setting x axis ticks\n",
    "plt.xticks([hour for hour in range(1,32)])\n",
    "# saving chart as png\n",
    "ax.get_figure().savefig('./charts-results/actives-bus-per-day.png')"
   ]
  },
  {
   "cell_type": "code",
   "execution_count": 16,
   "metadata": {},
   "outputs": [],
   "source": [
    "import pandas as pd\n",
    "import matplotlib.pyplot as plt\n",
    "\n",
    "# Buses per hour per day\n",
    "for day in range (1,32):\n",
    "    df_hour_day = pd.read_parquet(f\"./metrics-calculation/actives-buses/active-buses-per-hour/MO_1510{day}/\").sort_values(by=[\"hour_avl\"])\n",
    "    ax = df_hour_day.plot(x =\"hour_avl\",y = \"number_buses\",title=f\"Número de ônibus ativos por hora no dia {day}/10/2015\",figsize=(8,6))\n",
    "    # x axis label\n",
    "    ax.set_xlabel(\"hora\",size=15)\n",
    "    # y axis label\n",
    "    ax.set_ylabel(\"ônibus ativos\",size=15)\n",
    "    #plt.xticks([hour for hour in range(6,23)])\n",
    "    # size of the number in both axis\n",
    "    ax.tick_params(axis='both', which='major', labelsize=15)\n",
    "    # title fontsize\n",
    "    ax.title.set_size(15)\n",
    "    plt.grid(True)\n",
    "    # saving chart as png\n",
    "    ax.get_figure().savefig(f'./charts-results/active-buses-per-hour/actives-bus-per-hour-{day}-10-2015.png')\n",
    "    plt.close()"
   ]
  },
  {
   "cell_type": "code",
   "execution_count": 8,
   "metadata": {},
   "outputs": [],
   "source": [
    "# Number of buses per region per hour\n",
    "\n",
    "import pandas as pd\n",
    "import matplotlib.pyplot as plt\n",
    "import geopandas as gpd\n",
    "\n",
    "# Sao Paulo shape\n",
    "sp = gpd.read_file(\"./shape-files-sp/DISTRITO_MUNICIPAL_SP_SMDUPolygon.shp\")\n",
    "\n",
    "days_to_analyze = [1,4,12,17,20]\n",
    "\n",
    "for day in days_to_analyze:\n",
    "    # speed by region per day\n",
    "    actives_buses_region_hour = pd.read_parquet(f\"./metrics-calculation/actives-buses/active-buses-per-hour-per-region/MO_1510{day}/\")\n",
    "    \n",
    "    # getting the shape of the region\n",
    "    df = pd.merge(actives_buses_region_hour, sp, left_on = \"region\", right_on = \"Nome\").drop(columns = [\"Nome\"])\n",
    "    \n",
    "    for hour in range(6,23):\n",
    "\n",
    "        df_final = df[df[\"hour_avl\"] == hour]\n",
    "\n",
    "        geo_df = gpd.GeoDataFrame(df_final, geometry = \"geometry\")\n",
    "\n",
    "        # Plotting map\n",
    "#         ax = geo_df.plot(column=\"number_buses\",legend=True,cmap='RdYlBu_r',legend_kwds={'label': \"ônibus ativos\"},figsize = (10,10))\n",
    "        #ax = geo_df.plot(column=\"number_buses\",figsize = (10,10),scheme=\"quantiles\",cmap='RdYlBu_r',legend=True)\n",
    "        ax = geo_df.plot(column=\"number_buses\",figsize = (10,10),scheme=\"User_Defined\",cmap='RdYlBu_r',legend=True,classification_kwds=dict(bins=[10,197,294,414,579,710,1667]))\n",
    "        \n",
    "        ax.axes.xaxis.set_visible(False)\n",
    "        ax.axes.yaxis.set_visible(False)\n",
    "        \n",
    "        plt.savefig(f'./charts-results/actives-buses-region-hour/active_bus_hour_region_{day}-10-2015/actives-bus-by-region-{hour}-hour-day_{day}-10-2015.png',bbox_inches='tight')\n",
    "        \n",
    "        plt.close()\n",
    "        "
   ]
  },
  {
   "cell_type": "code",
   "execution_count": 13,
   "metadata": {},
   "outputs": [
    {
     "data": {
      "image/png": "[encoded data removed]",
      "text/plain": [
       "<Figure size 576x288 with 1 Axes>"
      ]
     },
     "metadata": {
      "needs_background": "light"
     },
     "output_type": "display_data"
    }
   ],
   "source": [
    "# https://matplotlib.org/3.1.0/gallery/statistics/histogram_cumulative.html\n",
    "\n",
    "import numpy as np\n",
    "import matplotlib.pyplot as plt\n",
    "import pandas as pd\n",
    "\n",
    "np.random.seed(19680801)\n",
    "\n",
    "actives_buses_region_hour = pd.read_parquet(f\"./metrics-calculation/actives-buses/active-buses-per-hour-per-region/MO_15101/\").sort_values(by=[\"hour_avl\"])\n",
    "\n",
    "mu = 200\n",
    "sigma = 25\n",
    "n_bins = 50\n",
    "x = np.random.normal(mu, sigma, size=100)\n",
    "\n",
    "fig, ax = plt.subplots(figsize=(8, 4))\n",
    "\n",
    "# plot the cumulative histogram\n",
    "n, bins, patches = ax.hist(actives_buses_region_hour[\"number_buses\"], n_bins, density=True, histtype='step',\n",
    "                           cumulative=True, label='Empirical')\n",
    "\n",
    "# Add a line showing the expected distribution.\n",
    "y = ((1 / (np.sqrt(2 * np.pi) * sigma)) *\n",
    "     np.exp(-0.5 * (1 / sigma * (bins - mu))**2))\n",
    "y = y.cumsum()\n",
    "y /= y[-1]\n",
    "\n",
    "ax.plot(bins, y, 'k--', linewidth=1.5, label='Theoretical')\n",
    "\n",
    "# # Overlay a reversed cumulative histogram.\n",
    "# ax.hist(x, bins=bins, density=True, histtype='step', cumulative=-1,\n",
    "#         label='Reversed emp.')\n",
    "\n",
    "# tidy up the figure\n",
    "ax.grid(True)\n",
    "ax.legend(loc='right')\n",
    "ax.set_title('Cumulative step histograms')\n",
    "ax.set_xlabel('Annual rainfall (mm)')\n",
    "ax.set_ylabel('Likelihood of occurrence')\n",
    "\n",
    "plt.show()"
   ]
  },
  {
   "cell_type": "code",
   "execution_count": null,
   "metadata": {},
   "outputs": [],
   "source": []
  }
 ],
 "metadata": {
  "kernelspec": {
   "display_name": "Python 3",
   "language": "python",
   "name": "python3"
  },
  "language_info": {
   "codemirror_mode": {
    "name": "ipython",
    "version": 3
   },
   "file_extension": ".py",
   "mimetype": "text/x-python",
   "name": "python",
   "nbconvert_exporter": "python",
   "pygments_lexer": "ipython3",
   "version": "3.7.4"
  }
 },
 "nbformat": 4,
 "nbformat_minor": 2
}
