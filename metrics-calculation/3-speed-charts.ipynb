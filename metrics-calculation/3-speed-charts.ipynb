{
 "cells": [
  {
   "cell_type": "code",
   "execution_count": null,
   "metadata": {},
   "outputs": [],
   "source": [
    "import pandas as pd\n",
    "\n",
    "speed_per_day = pd.read_csv(\"./metrics-calculation/speed-calculation/statistics/1-speed_per_vehicle_stats.csv\")\n",
    "speed_per_day.head(5)"
   ]
  },
  {
   "cell_type": "code",
   "execution_count": null,
   "metadata": {},
   "outputs": [],
   "source": [
    "# average speed per day\n",
    "\n",
    "day_column = [day for day in range(1,32)]\n",
    "speed_per_day[\"day\"] = day_column\n",
    "\n",
    "ax = speed_per_day.plot.bar(x =\"day\",y = \"avg_speed\",title=f\"Velocidade média de ônibus por dia\",figsize=(26,10))\n",
    "# x axis label\n",
    "ax.set_xlabel(\"dia\",size=15)\n",
    "# y axis label\n",
    "ax.set_ylabel(\"velocidade média (km/h)\",size=15)\n",
    "# y range\n",
    "ax.set_ylim(0,16)\n",
    "# size of the number in both axis\n",
    "ax.tick_params(axis='both', which='major', labelsize=15)\n",
    "for p in ax.patches:\n",
    "    ax.annotate(str(round(p.get_height(),2)), (p.get_x() * 1.00, p.get_height() * 1.006),size=13)\n",
    "# title fontsize\n",
    "ax.title.set_size(30)\n",
    "\n",
    "# saving chart as png\n",
    "ax.get_figure().savefig('/charts-results/avg-speed-per-day.png')\n"
   ]
  },
  {
   "cell_type": "code",
   "execution_count": null,
   "metadata": {},
   "outputs": [],
   "source": [
    "# Boxplot pandas - https://kanoki.org/2019/09/16/dataframe-visualization-with-pandas-plot/\n",
    "# Boxplot pandas - https://www.simplypsychology.org/boxplots.html\n",
    "\n",
    "import matplotlib.pyplot as plt\n",
    "\n",
    "for i in range(0,31):\n",
    "    fig, ax = plt.subplots()\n",
    "\n",
    "    boxes = [\n",
    "        {\n",
    "            'label' : f\"Intervalos da velocidade média de ônibus no dia {i+1}-10-2015\",\n",
    "            'whislo': speed_per_day[\"avg_speed_min\"][i],    # Bottom whisker position\n",
    "            'q1'    : speed_per_day[\"avg_speed_quantile_25\"][i],    # First quartile (25th percentile)\n",
    "            'med'   : speed_per_day[\"avg_speed_quantile_50\"][i],    # Median         (50th percentile)\n",
    "            'q3'    : speed_per_day[\"avg_speed_quantile_75\"][i],    # Third quartile (75th percentile)\n",
    "            'whishi': speed_per_day[\"avg_speed_max\"][i],    # Top whisker position\n",
    "            'fliers': [],        # Outliers,\n",
    "            'mean':   speed_per_day[\"avg_speed\"][i]\n",
    "        }\n",
    "    ]\n",
    "\n",
    "    ax.bxp(boxes, showfliers=False)\n",
    "\n",
    "\n",
    "    ax.set_ylabel(\"velocidade (km/h)\")\n",
    "    plt.plot()\n",
    "    plt.savefig(f\"./charts-results/boxplot-avg-speed-day/avg-speed_day_boxplot_{i+1}-10-2015.png\")\n",
    "    plt.close()"
   ]
  },
  {
   "cell_type": "code",
   "execution_count": null,
   "metadata": {},
   "outputs": [],
   "source": [
    "# average speed per hour per day\n",
    "import pandas as pd\n",
    "import matplotlib.pyplot as plt\n",
    "\n",
    "for day in range(1,32):\n",
    "\n",
    "    speed_per_hour = pd.read_parquet(f\"./metrics-calculation/speed-calculation/speed-per-hour-per-day/MO_1510{day}/\").sort_values(by=[\"hour_avl\"])\n",
    "\n",
    "    ax = speed_per_hour.plot(x=\"hour_avl\",y =\"avg_speed\",title=f\"Velocidade média de ônibus por hora\",figsize=(26,10))\n",
    "    # x axis label\n",
    "    ax.set_xlabel(\"hora\",size=15)\n",
    "    # y axis label\n",
    "    ax.set_ylabel(\"velocidade média (km/h)\",size=15)\n",
    "    # Setting x axis ticks\n",
    "    plt.xticks([hour for hour in range(6,23)])\n",
    "    # Title size\n",
    "    ax.title.set_size(30)\n",
    "\n",
    "    # size of the number in both axis\n",
    "    ax.tick_params(axis='both', which='major', labelsize=15)\n",
    "\n",
    "    # saving chart as png\n",
    "    ax.get_figure().savefig(f'./charts-results/speed-per-hour-charts/avg-speed-per-hour-day-{day}-10-2015.png')\n",
    "    plt.close()"
   ]
  },
  {
   "cell_type": "code",
   "execution_count": null,
   "metadata": {},
   "outputs": [],
   "source": [
    "len(speed_per_hour)"
   ]
  },
  {
   "cell_type": "code",
   "execution_count": null,
   "metadata": {},
   "outputs": [],
   "source": [
    "# average speed per region per day\n",
    "# plotting on map using colormap --> https://matplotlib.org/3.1.0/tutorials/colors/colormaps.html\n",
    "\n",
    "import geopandas as gpd\n",
    "\n",
    "# Sao Paulo shape\n",
    "sp = gpd.read_file(\"./shape-files-sp/DISTRITO_MUNICIPAL_SP_SMDUPolygon.shp\")\n",
    "\n",
    "for day in range(1,32):\n",
    "    # speed by region per day\n",
    "    speed_region = pd.read_parquet(f\"./metrics-calculation/speed-calculation/speed-per-region-per-day/MO_1510{day}/\")\n",
    "    \n",
    "    # getting the shape of the region\n",
    "    df_final = pd.merge(speed_region, sp, left_on = \"region\", right_on = \"Nome\").drop(columns = [\"Nome\"])\n",
    "    \n",
    "    geo_df = gpd.GeoDataFrame(df_final, geometry = \"geometry\")\n",
    "\n",
    "    # Plotting map\n",
    "    geo_df.plot(column=\"avg_speed\",legend=True,cmap='RdBu',figsize = (15,15),legend_kwds={'label': \"velocidade média (km/h)\"})\n",
    "    plt.savefig(f'./charts-results/speed-region-day/speed-by-region-day_{day}-10-2015.png')\n",
    "    plt.close()"
   ]
  },
  {
   "cell_type": "code",
   "execution_count": null,
   "metadata": {},
   "outputs": [],
   "source": [
    "# average speed per hour/per region/per day\n",
    "\n",
    "import pandas as pd\n",
    "import geopandas as gpd\n",
    "import matplotlib.pyplot as plt\n",
    "\n",
    "# Sao Paulo shape\n",
    "sp = gpd.read_file(\"./shape-files-sp/DISTRITO_MUNICIPAL_SP_SMDUPolygon.shp\")\n",
    "\n",
    "# analyzing weekends sat/sundays, holidays, workind days\n",
    "day_to_analyze = [1,17,4,12,20]\n",
    "\n",
    "for day in day_to_analyze:\n",
    "    # reading traces\n",
    "    speed_per_hour_per_region = pd.read_parquet(f\"./metrics-calculation/speed-calculation/speed-per-hour-per-region-per-day/MO_1510{day}/\")\n",
    "    \n",
    "    # getting the shape of the region\n",
    "    df_with_shape = pd.merge(speed_per_hour_per_region, sp, left_on = \"region\", right_on = \"Nome\").drop(columns = [\"Nome\"])\n",
    "    \n",
    "    for hour in list(range(6,23)):\n",
    "        df = df_with_shape[df_with_shape[\"hour_avl\"] == hour]\n",
    "        geo_df = gpd.GeoDataFrame(df, geometry = \"geometry\")\n",
    "        # Plotting map\n",
    "        geo_df.plot(column=\"avg_speed\",legend=True,cmap='RdBu',figsize = (15,15),legend_kwds={'label': \"velocidade média (km/h)\"})\n",
    "        plt.savefig(f'./charts-results/speed-hour-region-day/{day}-10-2015/speed-per-hour-per-region-day_hour-{hour}_{day}-10-2015.png')\n",
    "        plt.close()"
   ]
  },
  {
   "cell_type": "code",
   "execution_count": null,
   "metadata": {},
   "outputs": [],
   "source": []
  },
  {
   "cell_type": "code",
   "execution_count": null,
   "metadata": {},
   "outputs": [],
   "source": []
  },
  {
   "cell_type": "code",
   "execution_count": null,
   "metadata": {},
   "outputs": [],
   "source": []
  },
  {
   "cell_type": "code",
   "execution_count": null,
   "metadata": {},
   "outputs": [],
   "source": []
  },
  {
   "cell_type": "code",
   "execution_count": null,
   "metadata": {},
   "outputs": [],
   "source": [
    "### just training"
   ]
  },
  {
   "cell_type": "code",
   "execution_count": null,
   "metadata": {},
   "outputs": [],
   "source": [
    "# PDF/ CDF --> https://stackoverflow.com/questions/25577352/plotting-cdf-of-a-pandas-series-in-python"
   ]
  },
  {
   "cell_type": "code",
   "execution_count": null,
   "metadata": {},
   "outputs": [],
   "source": [
    "# Find distribution \n",
    "#ECDF --> https://towardsdatascience.com/how-to-generate-ecdf-plot-using-python-and-r-247ef81fbf3f"
   ]
  },
  {
   "cell_type": "code",
   "execution_count": null,
   "metadata": {},
   "outputs": [],
   "source": [
    "# https://stackoverflow.com/questions/6620471/fitting-empirical-distribution-to-theoretical-ones-with-scipy-python"
   ]
  },
  {
   "cell_type": "code",
   "execution_count": null,
   "metadata": {},
   "outputs": [],
   "source": [
    "#https://www.kite.com/python/answers/how-to-fit-data-to-a-distribution-in-python"
   ]
  },
  {
   "cell_type": "code",
   "execution_count": null,
   "metadata": {},
   "outputs": [],
   "source": [
    "import scipy\n",
    "import numpy as np\n",
    "import matplotlib.pyplot as plt"
   ]
  },
  {
   "cell_type": "code",
   "execution_count": null,
   "metadata": {},
   "outputs": [],
   "source": [
    "t = scipy.stats.distributions.dgamma.fit(list(speed_per_day[\"avg_speed\"]))\n",
    "\n",
    "print(t)\n",
    "x = np.linspace(13,15,100)\n",
    "\n",
    "df_novo = speed_per_day.loc[speed_per_day[\"avg_speed\"] < 14]\n",
    "\n",
    "fitted_data = scipy.stats.distributions.norm.pdf(x, mean, var)\n",
    "\n",
    "plt.hist(list(df_novo[\"avg_speed\"]), density=True)\n",
    "\n",
    "plt.plot(x,fitted_data,'r-')"
   ]
  },
  {
   "cell_type": "code",
   "execution_count": null,
   "metadata": {},
   "outputs": [],
   "source": [
    "dir(scipy.stats.distributions)"
   ]
  },
  {
   "cell_type": "code",
   "execution_count": null,
   "metadata": {},
   "outputs": [],
   "source": [
    "#https://medium.com/@amirarsalan.rajabi/distribution-fitting-with-python-scipy-bb70a42c0aed\n",
    "#https://stackoverflow.com/questions/20011122/fitting-a-normal-distribution-to-1d-data\n",
    "# https://www.johndcook.com/blog/distributions_scipy/\n",
    "df = speed_per_day.loc[speed_per_day[\"avg_speed\"]<14]\n",
    "from scipy import stats\n",
    "#list_of_dists = ['bradford','burr','burr12','cauchy','chi','chi2','cosine','dgamma','dweibull','erlang','expon','exponnorm','exponweib','exponpow','f','fatiguelife','fisk','foldcauchy','foldnorm','genlogistic','genpareto','gennorm','genexpon','genextreme','gausshyper','gamma','gengamma','genhalflogistic','gilbrat','gompertz','gumbel_r','gumbel_l','halfcauchy','halflogistic','halfnorm','halfgennorm','hypsecant','invgamma','invgauss','invweibull','johnsonsb','johnsonsu','kstwobign','laplace','levy','levy_l','logistic','loggamma','loglaplace','lognorm','lomax','maxwell','mielke','nakagami','ncx2','ncf','nct','norm','pareto','pearson3','powerlaw','powerlognorm','powernorm','rdist','reciprocal','rayleigh','rice','recipinvgauss','semicircular','t','triang','truncexpon','truncnorm','tukeylambda','uniform','vonmises','vonmises_line','wald','weibull_min','weibull_max']\n",
    "list_of_dists = [\"expon\",\"gamma\",\"lognorm\",\"norm\",'weibull_min','weibull_max',\"exponweib\"]\n",
    "# exponencial,gamma,lognormal,normal,weibull\n",
    "results = []\n",
    "for i in list_of_dists:\n",
    "    dist = getattr(stats, i)\n",
    "    param = dist.fit(df[\"avg_speed\"])\n",
    "    a = stats.kstest(df[\"avg_speed\"], i, args=param)\n",
    "    results.append((i,a[0],a[1]))\n",
    "    \n",
    "    \n",
    "results.sort(key=lambda x:float(x[2]), reverse=True)\n",
    "for j in results:\n",
    "    print(\"{}: statistic={}, pvalue={}\".format(j[0], j[1], j[2]))"
   ]
  },
  {
   "cell_type": "code",
   "execution_count": null,
   "metadata": {},
   "outputs": [],
   "source": [
    "# https://medium.com/@amirarsalan.rajabi/distribution-fitting-with-python-scipy-bb70a42c0aed\n",
    "# https://github.com/amirarsalan90/dist_fitting_medium/blob/master/dist_fitting.ipynb\n",
    "# https://glowingpython.blogspot.com/2012/07/distribution-fitting-with-scipy.html"
   ]
  },
  {
   "cell_type": "code",
   "execution_count": null,
   "metadata": {},
   "outputs": [],
   "source": [
    "plt.hist(speed_per_day[\"avg_speed\"])"
   ]
  },
  {
   "cell_type": "code",
   "execution_count": null,
   "metadata": {},
   "outputs": [],
   "source": [
    "dir(stats)"
   ]
  },
  {
   "cell_type": "code",
   "execution_count": null,
   "metadata": {},
   "outputs": [],
   "source": [
    "data = np.random.normal(0, 0.5, 1000)\n",
    "\n",
    "\n",
    "t1,t2,t3 = scipy.stats.distributions.gennorm.fit(data)\n",
    "\n",
    "\n",
    "x = np.linspace(-5,5,100)\n"
   ]
  },
  {
   "cell_type": "code",
   "execution_count": null,
   "metadata": {},
   "outputs": [],
   "source": [
    "(1.9753053701013514, -0.0008095699877689374, 0.6912687108373308)"
   ]
  },
  {
   "cell_type": "code",
   "execution_count": null,
   "metadata": {},
   "outputs": [],
   "source": [
    "list_of_dists = [\"expon\",\"gamma\",\"lognomr\",\"norm\",'weibull_min','weibull_max']"
   ]
  }
 ],
 "metadata": {
  "kernelspec": {
   "display_name": "Python 3",
   "language": "python",
   "name": "python3"
  },
  "language_info": {
   "codemirror_mode": {
    "name": "ipython",
    "version": 3
   },
   "file_extension": ".py",
   "mimetype": "text/x-python",
   "name": "python",
   "nbconvert_exporter": "python",
   "pygments_lexer": "ipython3",
   "version": "3.7.4"
  }
 },
 "nbformat": 4,
 "nbformat_minor": 2
}
