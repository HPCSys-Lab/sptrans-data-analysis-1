{
 "cells": [
  {
   "cell_type": "code",
   "execution_count": 2,
   "metadata": {},
   "outputs": [
    {
     "data": {
      "application/vnd.jupyter.widget-view+json": {
       "model_id": "8d5995fd2ebe4d62826f7f4a78a57457",
       "version_major": 2,
       "version_minor": 0
      },
      "text/plain": [
       "VBox()"
      ]
     },
     "metadata": {},
     "output_type": "display_data"
    },
    {
     "data": {
      "application/vnd.jupyter.widget-view+json": {
       "model_id": "",
       "version_major": 2,
       "version_minor": 0
      },
      "text/plain": [
       "FloatProgress(value=0.0, bar_style='info', description='Progress:', layout=Layout(height='25px', width='50%'),…"
      ]
     },
     "metadata": {},
     "output_type": "display_data"
    }
   ],
   "source": [
    "# Grouping data by intervals\n",
    "\n",
    "# 15 seconds interval, without region for partitioning\n",
    "import pyspark.sql.functions as F\n",
    "\n",
    "days_to_analyze = [1,4,12,17,20]\n",
    "\n",
    "for day in days_to_analyze:\n",
    "    traces = spark.read.parquet(\"s3://mobility-traces-sp/processed-data-avl-date/13-speed-calculation-filtered-columns/MO_1510\"+str(day)+\"/\")\n",
    "    df_graph_id = traces\\\n",
    "        .withColumn('minute_avl',F.minute(F.col(\"dt_avl\")))\\\n",
    "        .withColumn(\"second_avl\",F.second(\"dt_avl\"))\\\n",
    "        .withColumn(\"graph_id\",F.concat(F.col(\"hour_avl\"),F.lit(\"-\"),F.floor((F.col(\"minute_avl\")*60+F.col(\"second_avl\"))/15)))\n",
    "\n",
    "    df_graph_id.repartition(\"graph_id\").write.parquet(\"s3://mobility-traces-sp/processed-data-avl-date/14-speed-and-graph-id-15-seconds/MO_1510\"+str(day)+\"/\")"
   ]
  },
  {
   "cell_type": "code",
   "execution_count": null,
   "metadata": {},
   "outputs": [],
   "source": [
    "# Grouping data by intervals\n",
    "\n",
    "# 15 seconds interval, with region for partitioning\n",
    "import pyspark.sql.functions as F\n",
    "\n",
    "days_to_analyze = [1,4,12,17,20]\n",
    "\n",
    "for day in days_to_analyze:\n",
    "    traces = spark.read.parquet(\"s3://mobility-traces-sp/processed-data-avl-date/13-speed-calculation-filtered-columns/MO_1510\"+str(day)+\"/\")\n",
    "    df_graph_id = traces\\\n",
    "        .withColumn('minute_avl',F.minute(F.col(\"dt_avl\")))\\\n",
    "        .withColumn(\"second_avl\",F.second(\"dt_avl\"))\\\n",
    "        .withColumn(\"graph_id\",F.concat(F.col(\"hour_avl\"),F.lit(\"-\"),F.floor((F.col(\"minute_avl\")*60+F.col(\"second_avl\"))/15),F.lit(\"-\"),F.col(\"region\")))\n",
    "\n",
    "    df_graph_id.repartition(\"graph_id\").write.parquet(\"s3://mobility-traces-sp/processed-data-avl-date/14-speed-and-graph-id-15s-with-region/MO_1510\"+str(day)+\"/\")"
   ]
  },
  {
   "cell_type": "code",
   "execution_count": null,
   "metadata": {},
   "outputs": [],
   "source": [
    "# 15 seconds with region\n",
    "\n",
    "import pyspark.sql.functions as f\n",
    "\n",
    "new_df = spark.read.parquet(\"s3://mobility-traces-sp/processed-data-avl-date/14-speed-and-graph-id-15s-with-region/MO_1510\"+str(1)+\"/\")\n",
    "new_df = new_df.repartition(150)\n",
    "\n",
    "df2 = new_df\n",
    "\n",
    "new_df.alias('df1').join(df2.alias(\"df2\"),on=[\"graph_id\"],how=\"outer\")\\\n",
    "    .select(\n",
    "        f.col(\"df1.id_avl\").alias(\"id_avl_1\"),\n",
    "        f.col(\"df1.line_id\").alias(\"line_1\"),\n",
    "        f.col(\"df1.latitude\").alias(\"latitude_1\"),\n",
    "        f.col(\"df1.longitude\").alias(\"longitude_1\"),\n",
    "        f.col(\"df2.id_avl\").alias(\"id_avl_2\"),\n",
    "        f.col(\"df2.line_id\").alias(\"line_2\"),\n",
    "        f.col(\"df2.latitude\").alias(\"latitude_2\"),\n",
    "        f.col(\"df2.longitude\").alias(\"longitude_2\"),\n",
    "        f.col(\"graph_id\"),\n",
    "    \n",
    ").write.parquet(\"s3://mobility-traces-sp/teste_MO_15101_15s_with-region/\")\n"
   ]
  },
  {
   "cell_type": "code",
   "execution_count": 2,
   "metadata": {},
   "outputs": [
    {
     "data": {
      "application/vnd.jupyter.widget-view+json": {
       "model_id": "25932ee2a9a54c39841e24879a4e7103",
       "version_major": 2,
       "version_minor": 0
      },
      "text/plain": [
       "VBox()"
      ]
     },
     "metadata": {},
     "output_type": "display_data"
    },
    {
     "data": {
      "application/vnd.jupyter.widget-view+json": {
       "model_id": "",
       "version_major": 2,
       "version_minor": 0
      },
      "text/plain": [
       "FloatProgress(value=0.0, bar_style='info', description='Progress:', layout=Layout(height='25px', width='50%'),…"
      ]
     },
     "metadata": {},
     "output_type": "display_data"
    }
   ],
   "source": [
    "# 5 min interval with region\n",
    "\n",
    "import pyspark.sql.functions as f\n",
    "\n",
    "new_df = spark.read.parquet(\"s3://mobility-traces-sp/processed-data-avl-date/14-speed-and-graph-id/MO_1510\"+str(1)+\"/\")\n",
    "new_df = new_df.repartition(150)\n",
    "\n",
    "new_df = new_df.withColumn('graph_id_novo',f.concat(f.col(\"hour_avl\"),f.lit(\"-\"),f.floor(f.col(\"minute_avl\")/5),f.lit(\"-\"),f.col(\"region\")))\n",
    "\n",
    "df2 = new_df\n",
    "\n",
    "new_df.alias('df1').join(df2.alias(\"df2\"),on=[\"graph_id_novo\"],how=\"outer\")\\\n",
    "    .select(\n",
    "        f.col(\"df1.id_avl\").alias(\"id_avl_1\"),\n",
    "        f.col(\"df1.line_id\").alias(\"line_1\"),\n",
    "        f.col(\"df1.latitude\").alias(\"latitude_1\"),\n",
    "        f.col(\"df1.longitude\").alias(\"longitude_1\"),\n",
    "        f.col(\"df2.id_avl\").alias(\"id_avl_2\"),\n",
    "        f.col(\"df2.line_id\").alias(\"line_2\"),\n",
    "        f.col(\"df2.latitude\").alias(\"latitude_2\"),\n",
    "        f.col(\"df2.longitude\").alias(\"longitude_2\"),\n",
    "        f.col(\"graph_id_novo\").alias(\"graph_id\"),\n",
    "    \n",
    ").write.parquet(\"s3://mobility-traces-sp/teste_minute_MO_15101_5min/\")\n"
   ]
  },
  {
   "cell_type": "code",
   "execution_count": null,
   "metadata": {},
   "outputs": [],
   "source": [
    "# 1 min interval + region\n",
    "\n",
    "import pyspark.sql.functions as f\n",
    "\n",
    "new_df = spark.read.parquet(\"s3://mobility-traces-sp/processed-data-avl-date/14-speed-and-graph-id/MO_1510\"+str(1)+\"/\")\n",
    "new_df = new_df.repartition(150)\n",
    "\n",
    "new_df = new_df.withColumn('graph_id',f.concat(f.col(\"hour_avl\"),f.lit(\"-\"),f.col(\"minute_avl\"),f.lit(\"-\"),f.col(\"region\")))\n",
    "\n",
    "df2 = new_df\n",
    "\n",
    "new_df.alias('df1').join(df2.alias(\"df2\"),on=[\"graph_id\"],how=\"outer\")\\\n",
    "    .select(\n",
    "        f.col(\"df1.id_avl\").alias(\"id_avl_1\"),\n",
    "        f.col(\"df1.line_id\").alias(\"line_1\"),\n",
    "        f.col(\"df1.latitude\").alias(\"latitude_1\"),\n",
    "        f.col(\"df1.longitude\").alias(\"longitude_1\"),\n",
    "        f.col(\"df2.id_avl\").alias(\"id_avl_2\"),\n",
    "        f.col(\"df2.line_id\").alias(\"line_2\"),\n",
    "        f.col(\"df2.latitude\").alias(\"latitude_2\"),\n",
    "        f.col(\"df2.longitude\").alias(\"longitude_2\"),\n",
    "        f.col(\"graph_id\").alias(\"graph_id\"),\n",
    "    \n",
    ").write.parquet(\"s3://mobility-traces-sp/teste_minute_MO_15101/\")"
   ]
  }
 ],
 "metadata": {
  "kernelspec": {
   "display_name": "Python 3",
   "language": "python",
   "name": "python3"
  },
  "language_info": {
   "codemirror_mode": {
    "name": "ipython",
    "version": 3
   },
   "file_extension": ".py",
   "mimetype": "text/x-python",
   "name": "python",
   "nbconvert_exporter": "python",
   "pygments_lexer": "ipython3",
   "version": "3.7.4"
  }
 },
 "nbformat": 4,
 "nbformat_minor": 4
}
