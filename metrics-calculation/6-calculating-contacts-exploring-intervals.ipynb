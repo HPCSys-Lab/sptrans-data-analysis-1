{
 "cells": [
  {
   "cell_type": "markdown",
   "metadata": {},
   "source": [
    "- How to identity contact between buses?\n",
    "- 100m range --> references\n",
    "    - Trajectory Improves Data Delivery in Vehicular Networks = 300m\n",
    "    - Classificando Comportamentos Sociais em Redes Veiculares = 100 to 150m, janelas de agregação --> 5,15,30,60\n",
    "    - Explorando Dados Urbanos: um estudo usando viagens deT ́axi da cidade de S ̃ao Francisco 100m e 15 min\n",
    "    - An Alternative Approach to Mobility Analysis inVehicular Ad Hoc Network - 100m\n",
    "    - CARACTERIZAÇÃO DA MOBILIDADE VEICULAR E O SEU IMPACTO NASREDES VEICULARES TOLERANTES A ATRASOS E DESCONEXÕES - 100m\n",
    "    - nsights on Metropolitan-Scale VehicularMobility from a Networking Perspectiv - 100m e grafo\n",
    "    - Generation and Analysis of a Large-Scale UrbanVehicular Mobility Dataset 100m\n",
    "- Temporal Graph --> references procurar depois\n"
   ]
  },
  {
   "cell_type": "code",
   "execution_count": 2,
   "metadata": {},
   "outputs": [
    {
     "data": {
      "application/vnd.jupyter.widget-view+json": {
       "model_id": "8d5995fd2ebe4d62826f7f4a78a57457",
       "version_major": 2,
       "version_minor": 0
      },
      "text/plain": [
       "VBox()"
      ]
     },
     "metadata": {},
     "output_type": "display_data"
    },
    {
     "data": {
      "application/vnd.jupyter.widget-view+json": {
       "model_id": "",
       "version_major": 2,
       "version_minor": 0
      },
      "text/plain": [
       "FloatProgress(value=0.0, bar_style='info', description='Progress:', layout=Layout(height='25px', width='50%'),…"
      ]
     },
     "metadata": {},
     "output_type": "display_data"
    }
   ],
   "source": [
    "# Getting the minute of the date_avl, and getting the graph_id\n",
    "# The register will be modeled in a temporal graph where there is a graph for a moment. \n",
    "# This graph is composed by nodes which are buses, \n",
    "# and edges are connections between buses (nodes) if they are closer from each other less 100 meters\n",
    "\n",
    "# A graph in the moment t is composed by register in a interval of 15 seconds. Interval examples:\n",
    "# 10:00 - 10:00:14\n",
    "# 10:00:15 - 10:00:29\n",
    "# There will be a graph for each one of the interval above.\n",
    "# To define which interval the trace belong:\n",
    "# 1- We get the column hour_avl  (previous calculated) from the date of the register. Ex: 10:30 --> hour_avl = 10\n",
    "# 2- We get the column minute_avl the minute from the date of the register. Ex: 10:35 --> minute_avl = 35\n",
    "# 3- We calculate the second_avl of the date_avl ex:\n",
    "# 3- Calculate minute_avl/15, then we round to floor the division, and we have the interval in that hour. \n",
    "# Ex: 10:35, floor(35/15) = 2, so the interval is the second in the hour 10\n",
    "# 4- We concate the hour_avl, and the interval (partition) = graph_id. So, we have graph_id\n",
    "# Example of the intervals and graph id\n",
    "# 10:00 - 10:14:59 - interval 0 - graph_id = 10-0\n",
    "# 10:15 - 10:29:59 - interval 1 - graph_id = 10-1\n",
    "# 10:30 - 10:44:59 - interval 2 - graph_id = 10-2\n",
    "# 10:45 - 10:59:59 - interval 3 - graph_id = 10-3\n",
    "\n",
    "\n",
    "import pyspark.sql.functions as F\n",
    "\n",
    "days_to_analyze = [1,4,12,17,20]\n",
    "\n",
    "for day in days_to_analyze:\n",
    "    traces = spark.read.parquet(\"s3://mobility-traces-sp/processed-data-avl-date/13-speed-calculation-filtered-columns/MO_1510\"+str(day)+\"/\")\n",
    "    df_graph_id = traces\\\n",
    "        .withColumn('minute_avl',F.minute(F.col(\"dt_avl\")))\\\n",
    "        .withColumn(\"second_avl\",F.second(\"dt_avl\"))\\\n",
    "        .withColumn(\"graph_id\",F.concat(F.col(\"hour_avl\"),F.lit(\"-\"),F.floor((F.col(\"minute_avl\")*60+F.col(\"second_avl\"))/15)))\n",
    "\n",
    "    df_graph_id.repartition(\"graph_id\").write.parquet(\"s3://mobility-traces-sp/processed-data-avl-date/14-speed-and-graph-id-15-seconds/MO_1510\"+str(day)+\"/\")"
   ]
  },
  {
   "cell_type": "code",
   "execution_count": 2,
   "metadata": {},
   "outputs": [
    {
     "data": {
      "application/vnd.jupyter.widget-view+json": {
       "model_id": "25932ee2a9a54c39841e24879a4e7103",
       "version_major": 2,
       "version_minor": 0
      },
      "text/plain": [
       "VBox()"
      ]
     },
     "metadata": {},
     "output_type": "display_data"
    },
    {
     "data": {
      "application/vnd.jupyter.widget-view+json": {
       "model_id": "",
       "version_major": 2,
       "version_minor": 0
      },
      "text/plain": [
       "FloatProgress(value=0.0, bar_style='info', description='Progress:', layout=Layout(height='25px', width='50%'),…"
      ]
     },
     "metadata": {},
     "output_type": "display_data"
    }
   ],
   "source": [
    "import pyspark.sql.functions as f\n",
    "\n",
    "new_df = spark.read.parquet(\"s3://mobility-traces-sp/processed-data-avl-date/14-speed-and-graph-id/MO_1510\"+str(1)+\"/\")\n",
    "new_df = new_df.repartition(150)\n",
    "#new_df = df.withColumn('graph_id_minutes',f.concat(F.col(\"hour_avl\"),f.lit(\"-\"),f.col(\"minute_avl\"),f.lit(\"-\"),f.col(\"region\")))\n",
    "new_df = new_df.withColumn('graph_id_novo',f.concat(f.col(\"hour_avl\"),f.lit(\"-\"),f.floor(f.col(\"minute_avl\")/5),f.lit(\"-\"),f.col(\"region\")))\n",
    "\n",
    "df2 = new_df\n",
    "\n",
    "# new_df.groupby(\"region\",\"graph_id_minutes\").agg(F.count(\"id_avl\").alias(\"teste\")).select(F.max(\"teste\")).show()\n",
    "new_df.alias('df1').join(df2.alias(\"df2\"),on=[\"graph_id_novo\"],how=\"outer\")\\\n",
    "    .select(\n",
    "        f.col(\"df1.id_avl\").alias(\"id_avl_1\"),\n",
    "        f.col(\"df1.line_id\").alias(\"line_1\"),\n",
    "        f.col(\"df1.latitude\").alias(\"latitude_1\"),\n",
    "        f.col(\"df1.longitude\").alias(\"longitude_1\"),\n",
    "        f.col(\"df2.id_avl\").alias(\"id_avl_2\"),\n",
    "        f.col(\"df2.line_id\").alias(\"line_2\"),\n",
    "        f.col(\"df2.latitude\").alias(\"latitude_2\"),\n",
    "        f.col(\"df2.longitude\").alias(\"longitude_2\"),\n",
    "        f.col(\"graph_id_novo\").alias(\"graph_id\"),\n",
    "    \n",
    ").write.parquet(\"s3://mobility-traces-sp/teste_minute_MO_15101_5min/\")\n"
   ]
  },
  {
   "cell_type": "code",
   "execution_count": 1,
   "metadata": {},
   "outputs": [
    {
     "data": {
      "application/vnd.jupyter.widget-view+json": {
       "model_id": "5994e41ada484f2b9da541f90a17d0fd",
       "version_major": 2,
       "version_minor": 0
      },
      "text/plain": [
       "VBox()"
      ]
     },
     "metadata": {},
     "output_type": "display_data"
    },
    {
     "name": "stdout",
     "output_type": "stream",
     "text": [
      "Starting Spark application\n"
     ]
    },
    {
     "data": {
      "text/html": [
       "<table>\n",
       "<tr><th>ID</th><th>YARN Application ID</th><th>Kind</th><th>State</th><th>Spark UI</th><th>Driver log</th><th>Current session?</th></tr><tr><td>3</td><td>application_1610034250435_0004</td><td>pyspark</td><td>idle</td><td><a target=\"_blank\" href=\"http://ip-172-31-80-111.ec2.internal:20888/proxy/application_1610034250435_0004/\" >Link</a></td><td><a target=\"_blank\" href=\"http://ip-172-31-81-122.ec2.internal:8042/node/containerlogs/container_1610034250435_0004_01_000001/livy\" >Link</a></td><td>✔</td></tr></table>"
      ],
      "text/plain": [
       "<IPython.core.display.HTML object>"
      ]
     },
     "metadata": {},
     "output_type": "display_data"
    },
    {
     "data": {
      "application/vnd.jupyter.widget-view+json": {
       "model_id": "",
       "version_major": 2,
       "version_minor": 0
      },
      "text/plain": [
       "FloatProgress(value=0.0, bar_style='info', description='Progress:', layout=Layout(height='25px', width='50%'),…"
      ]
     },
     "metadata": {},
     "output_type": "display_data"
    },
    {
     "name": "stdout",
     "output_type": "stream",
     "text": [
      "SparkSession available as 'spark'.\n"
     ]
    },
    {
     "data": {
      "application/vnd.jupyter.widget-view+json": {
       "model_id": "",
       "version_major": 2,
       "version_minor": 0
      },
      "text/plain": [
       "FloatProgress(value=0.0, bar_style='info', description='Progress:', layout=Layout(height='25px', width='50%'),…"
      ]
     },
     "metadata": {},
     "output_type": "display_data"
    },
    {
     "name": "stderr",
     "output_type": "stream",
     "text": [
      "An error was encountered:\n",
      "name 'x' is not defined\n",
      "Traceback (most recent call last):\n",
      "NameError: name 'x' is not defined\n",
      "\n"
     ]
    }
   ],
   "source": [
    "x"
   ]
  },
  {
   "cell_type": "code",
   "execution_count": 25,
   "metadata": {},
   "outputs": [
    {
     "data": {
      "application/vnd.jupyter.widget-view+json": {
       "model_id": "cf486e31eecd4f999a1c4d9d21916e69",
       "version_major": 2,
       "version_minor": 0
      },
      "text/plain": [
       "VBox()"
      ]
     },
     "metadata": {},
     "output_type": "display_data"
    },
    {
     "data": {
      "application/vnd.jupyter.widget-view+json": {
       "model_id": "",
       "version_major": 2,
       "version_minor": 0
      },
      "text/plain": [
       "FloatProgress(value=0.0, bar_style='info', description='Progress:', layout=Layout(height='25px', width='50%'),…"
      ]
     },
     "metadata": {},
     "output_type": "display_data"
    }
   ],
   "source": [
    "traces = spark.read.parquet(\"s3://mobility-traces-sp/processed-data-avl-date/14-speed-and-graph-id-each-15/MO_1510\"+str(1)+\"/\")\n",
    "\n",
    "import pyspark.sql.functions as F\n",
    "\n",
    "# traces = traces.repartition(40)\n",
    "# traces.alias('l').join(traces.alias('r'), on='graph_id')\\\n",
    "#     .select(f.col(\"l.dt_avl\").alias(\"dt_avl\"), f.col('r.latitude').alias('longitude2')).where('r.id_avl != l.id_avl').write.parquet(\"s3://mobility-traces-sp/bebebeeb1213/MO_15101/\")\n",
    "# sql.functions.broadcas\n",
    "\n",
    "\n",
    "# traces.alias('l').join(traces.alias('r'),on=[\"graph_id\"],how=\"outer\").select(f.col(\"r.dt_avl\").alias(\"dt_avl\")).write.parquet(\"s3://mobility-traces-sp/bebebeeb1213/MO_151013232313123/\")\n",
    "\n"
   ]
  },
  {
   "cell_type": "code",
   "execution_count": 34,
   "metadata": {},
   "outputs": [
    {
     "data": {
      "application/vnd.jupyter.widget-view+json": {
       "model_id": "e102e82d55184eae95a38a6df089321a",
       "version_major": 2,
       "version_minor": 0
      },
      "text/plain": [
       "VBox()"
      ]
     },
     "metadata": {},
     "output_type": "display_data"
    },
    {
     "data": {
      "application/vnd.jupyter.widget-view+json": {
       "model_id": "",
       "version_major": 2,
       "version_minor": 0
      },
      "text/plain": [
       "FloatProgress(value=0.0, bar_style='info', description='Progress:', layout=Layout(height='25px', width='50%'),…"
      ]
     },
     "metadata": {},
     "output_type": "display_data"
    }
   ],
   "source": [
    "y = x.repartition(100)\n",
    "y.alias('l').join(y.alias('r'),on=[\"novo_id\"],how=\"outer\").select(F.col(\"r.dt_avl\").alias(\"dt_avl\")).write.parquet(\"s3://mobility-traces-sp/bebeb999eeb1213/MO_34343sdasdasd23424232/\")\n",
    "\n"
   ]
  }
 ],
 "metadata": {
  "kernelspec": {
   "display_name": "PySpark",
   "language": "",
   "name": "pysparkkernel"
  },
  "language_info": {
   "codemirror_mode": {
    "name": "python",
    "version": 3
   },
   "mimetype": "text/x-python",
   "name": "pyspark",
   "pygments_lexer": "python3"
  }
 },
 "nbformat": 4,
 "nbformat_minor": 4
}
