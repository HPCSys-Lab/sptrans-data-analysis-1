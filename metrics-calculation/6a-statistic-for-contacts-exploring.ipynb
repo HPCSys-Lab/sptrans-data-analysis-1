{
 "cells": [
  {
   "cell_type": "code",
   "execution_count": 2,
   "metadata": {},
   "outputs": [
    {
     "data": {
      "application/vnd.jupyter.widget-view+json": {
       "model_id": "321aacd2dae4454fbecfca8a8e89e457",
       "version_major": 2,
       "version_minor": 0
      },
      "text/plain": [
       "VBox()"
      ]
     },
     "metadata": {},
     "output_type": "display_data"
    },
    {
     "data": {
      "application/vnd.jupyter.widget-view+json": {
       "model_id": "",
       "version_major": 2,
       "version_minor": 0
      },
      "text/plain": [
       "FloatProgress(value=0.0, bar_style='info', description='Progress:', layout=Layout(height='25px', width='50%'),…"
      ]
     },
     "metadata": {},
     "output_type": "display_data"
    },
    {
     "name": "stdout",
     "output_type": "stream",
     "text": [
      "Collecting haversine\n",
      "  Using cached https://files.pythonhosted.org/packages/f4/52/a13286844780c7b1740edbbee8a8f0524e2a6d51c068b59dda39a6a119f5/haversine-2.3.0-py2.py3-none-any.whl\n",
      "Installing collected packages: haversine\n",
      "Successfully installed haversine-2.3.0"
     ]
    }
   ],
   "source": [
    "# installing required packages for this notebook session\n",
    "sc.install_pypi_package(\"haversine\")"
   ]
  },
  {
   "cell_type": "code",
   "execution_count": 5,
   "metadata": {},
   "outputs": [
    {
     "data": {
      "application/vnd.jupyter.widget-view+json": {
       "model_id": "6a1f79590abe4e768e67381610691c71",
       "version_major": 2,
       "version_minor": 0
      },
      "text/plain": [
       "VBox()"
      ]
     },
     "metadata": {},
     "output_type": "display_data"
    },
    {
     "data": {
      "application/vnd.jupyter.widget-view+json": {
       "model_id": "",
       "version_major": 2,
       "version_minor": 0
      },
      "text/plain": [
       "FloatProgress(value=0.0, bar_style='info', description='Progress:', layout=Layout(height='25px', width='50%'),…"
      ]
     },
     "metadata": {},
     "output_type": "display_data"
    }
   ],
   "source": [
    "traces = spark.read.parquet(\"s3://mobility-traces-sp/teste_minute_MO_15101/\")"
   ]
  },
  {
   "cell_type": "code",
   "execution_count": 6,
   "metadata": {},
   "outputs": [
    {
     "data": {
      "application/vnd.jupyter.widget-view+json": {
       "model_id": "02a0027cf90c48c18affed3f8566f786",
       "version_major": 2,
       "version_minor": 0
      },
      "text/plain": [
       "VBox()"
      ]
     },
     "metadata": {},
     "output_type": "display_data"
    },
    {
     "data": {
      "application/vnd.jupyter.widget-view+json": {
       "model_id": "",
       "version_major": 2,
       "version_minor": 0
      },
      "text/plain": [
       "FloatProgress(value=0.0, bar_style='info', description='Progress:', layout=Layout(height='25px', width='50%'),…"
      ]
     },
     "metadata": {},
     "output_type": "display_data"
    },
    {
     "name": "stdout",
     "output_type": "stream",
     "text": [
      "+--------+------+----------+-----------+--------+------+----------+-----------+--------------------+\n",
      "|id_avl_1|line_1|latitude_1|longitude_1|id_avl_2|line_2|latitude_2|longitude_2|    graph_id_minutes|\n",
      "+--------+------+----------+-----------+--------+------+----------+-----------+--------------------+\n",
      "|   58320| 34201| -23.47438| -46.714153|   55160| 33577|-23.465322| -46.721725|      18-56-PIRITUBA|\n",
      "|   58123| 32953|-23.677788| -46.762158|   40457|  1242|-23.690227| -46.773953|  14-0-JARDIM ANGELA|\n",
      "|   44116| 33128|-23.649757| -46.705398|   57768|  2236|-23.653923| -46.704765|    7-46-SANTO AMARO|\n",
      "|   57704|  2196|-23.561885|  -46.51017|   42274|  1026|-23.564513| -46.507637|    14-41-ARICANDUVA|\n",
      "|   23060|  1368|-23.505482|  -46.68894|   13178| 34128|-23.501038| -46.686545|         17-29-LIMAO|\n",
      "|   57708|  1492|-23.676597| -46.643258|   57529|  1287|-23.682227| -46.652157|  7-37-CIDADE ADEMAR|\n",
      "|    9840| 34404| -23.61417| -46.501255|   58486|  1631| -23.59842| -46.499913|      8-29-SAPOPEMBA|\n",
      "|    9656| 33311|-23.467617|  -46.66642|   47381| 33311|-23.465975| -46.652817|  14-15-CACHOEIRINHA|\n",
      "|   11107| 33116|-23.572208| -46.705222|   40960| 34660|-23.586358| -46.723607|       16-48-BUTANTA|\n",
      "|   13654| 32799|-23.659445|  -46.74416|   38665| 34788|-23.668022| -46.735248|9-55-JARDIM SAO LUIS|\n",
      "|   11490| 32838|-23.715295| -46.706797|   35016| 33908|-23.720145| -46.698407|    8-2-CIDADE DUTRA|\n",
      "|   55050| 33571|-23.438747| -46.708625|   55164|   805|-23.459567| -46.685847|    8-59-BRASILANDIA|\n",
      "|   36534| 32954|-23.654518|  -46.71514|   39100|     4|-23.639378| -46.696687|   20-10-SANTO AMARO|\n",
      "|   12983| 32846|-23.738292| -46.698325|   11415|    70| -23.75399| -46.690628|        11-15-GRAJAU|\n",
      "|   55425| 34205|-23.471253| -46.724795|   44218|   804|-23.487517| -46.714338|      16-14-PIRITUBA|\n",
      "|   47571| 34196|-23.647598| -46.702303|   58038| 34498|-23.663105| -46.707317|    16-8-SANTO AMARO|\n",
      "|   57595| 33758|-23.583017| -46.406927|   57680| 34937|-23.582577| -46.407657|15-21-CIDADE TIRA...|\n",
      "|   55127| 33645|-23.436058| -46.714038|   55055|   803|-23.454455| -46.742047|       14-13-JARAGUA|\n",
      "|   37915|   607|-23.594352| -46.636492|   38400|   478|-23.596923| -46.650523|  12-16-VILA MARIANA|\n",
      "|    9176|  1664|-23.603442| -46.603127|   56926|  1668|-23.602803|  -46.60244|      15-40-IPIRANGA|\n",
      "+--------+------+----------+-----------+--------+------+----------+-----------+--------------------+\n",
      "only showing top 20 rows"
     ]
    }
   ],
   "source": [
    "traces.show()"
   ]
  },
  {
   "cell_type": "code",
   "execution_count": 3,
   "metadata": {},
   "outputs": [
    {
     "data": {
      "application/vnd.jupyter.widget-view+json": {
       "model_id": "5fe8b69d6bd448a3bac3761815306430",
       "version_major": 2,
       "version_minor": 0
      },
      "text/plain": [
       "VBox()"
      ]
     },
     "metadata": {},
     "output_type": "display_data"
    },
    {
     "data": {
      "application/vnd.jupyter.widget-view+json": {
       "model_id": "",
       "version_major": 2,
       "version_minor": 0
      },
      "text/plain": [
       "FloatProgress(value=0.0, bar_style='info', description='Progress:', layout=Layout(height='25px', width='50%'),…"
      ]
     },
     "metadata": {},
     "output_type": "display_data"
    }
   ],
   "source": [
    "from haversine import haversine, Unit\n",
    "import pyspark.sql.functions as F\n",
    "\n",
    "def get_distance(lat1,lon1,lat2,lon2):\n",
    "    coord_1 = (lat1,lon1)\n",
    "    coord_2 = (lat2,lon2)\n",
    "\n",
    "    distance = haversine(coord_1,coord_2,unit=Unit.METERS)\n",
    "    \n",
    "    return distance\n",
    "    \n",
    "get_distance_udf = F.udf(get_distance)"
   ]
  },
  {
   "cell_type": "code",
   "execution_count": 47,
   "metadata": {},
   "outputs": [
    {
     "data": {
      "application/vnd.jupyter.widget-view+json": {
       "model_id": "ee0f9e6978364e999664d6d5abb05b2b",
       "version_major": 2,
       "version_minor": 0
      },
      "text/plain": [
       "VBox()"
      ]
     },
     "metadata": {},
     "output_type": "display_data"
    },
    {
     "data": {
      "application/vnd.jupyter.widget-view+json": {
       "model_id": "",
       "version_major": 2,
       "version_minor": 0
      },
      "text/plain": [
       "FloatProgress(value=0.0, bar_style='info', description='Progress:', layout=Layout(height='25px', width='50%'),…"
      ]
     },
     "metadata": {},
     "output_type": "display_data"
    }
   ],
   "source": [
    "# Analyzing 1 min + region \n",
    "df_1min = spark.read.parquet(\"s3://mobility-traces-sp/teste_minute_MO_15101/\")\n",
    "df_without_repeated = df_1min.filter(\"id_avl_1 != id_avl_2\")\n",
    "\n",
    "# save without repeated in s3\n",
    "\n",
    "df_final = df_without_repeated.withColumn(\"distance\",get_distance_udf(F.col(\"latitude_1\"),F.col(\"longitude_1\"),F.col(\"latitude_2\"),F.col(\"longitude_2\")))\n",
    "\n",
    "df_final.filter(\"distance <= 100\")\\\n",
    "    .groupby(\"id_avl_1\",\"graph_id_minutes\")\\\n",
    "    .agg(F.countDistinct(\"id_avl_2\").alias(\"counter_buses_connections\"))\\\n",
    "    .write.parquet(\"s3://mobility-traces-sp/teste_minute_MO_15101_count_vehicles/\")"
   ]
  },
  {
   "cell_type": "code",
   "execution_count": 48,
   "metadata": {},
   "outputs": [
    {
     "data": {
      "application/vnd.jupyter.widget-view+json": {
       "model_id": "46ab232d04f545a48e39b49aa1db2522",
       "version_major": 2,
       "version_minor": 0
      },
      "text/plain": [
       "VBox()"
      ]
     },
     "metadata": {},
     "output_type": "display_data"
    },
    {
     "data": {
      "application/vnd.jupyter.widget-view+json": {
       "model_id": "",
       "version_major": 2,
       "version_minor": 0
      },
      "text/plain": [
       "FloatProgress(value=0.0, bar_style='info', description='Progress:', layout=Layout(height='25px', width='50%'),…"
      ]
     },
     "metadata": {},
     "output_type": "display_data"
    },
    {
     "name": "stdout",
     "output_type": "stream",
     "text": [
      "+--------+--------------------+-------------------------+\n",
      "|id_avl_1|    graph_id_minutes|counter_buses_connections|\n",
      "+--------+--------------------+-------------------------+\n",
      "|   11974|          20-0-LIMAO|                        4|\n",
      "|    9209|       20-42-SANTANA|                       40|\n",
      "|   47750| 18-22-CIDADE ADEMAR|                        1|\n",
      "|   36880|             22-1-SE|                       79|\n",
      "|   38997|12-54-JARDIM PAUL...|                       14|\n",
      "|   57487|7-1-CIDADE TIRADE...|                       30|\n",
      "|   37694|     22-21-JABAQUARA|                       34|\n",
      "|   55116|      11-20-PIRITUBA|                       34|\n",
      "|   36895|         15-43-MOEMA|                        5|\n",
      "|   12398|      21-31-PIRITUBA|                       28|\n",
      "|   40182| 10-26-CAPAO REDONDO|                       30|\n",
      "|   11613|    12-3-SANTO AMARO|                       19|\n",
      "|   37211|       15-44-SOCORRO|                        1|\n",
      "|   13738|            13-59-SE|                        3|\n",
      "|   11521|  18-13-CIDADE DUTRA|                       10|\n",
      "|    9637|      22-41-MANDAQUI|                       37|\n",
      "|   11279|   14-56-PARELHEIROS|                       19|\n",
      "|   39826|     6-2-CAMPO LIMPO|                        9|\n",
      "|   40471|   10-12-SANTO AMARO|                        6|\n",
      "|   42005|         11-31-PENHA|                        8|\n",
      "+--------+--------------------+-------------------------+\n",
      "only showing top 20 rows\n",
      "\n",
      "+------------------------------+\n",
      "|avg(counter_buses_connections)|\n",
      "+------------------------------+\n",
      "|             6.246168604107917|\n",
      "+------------------------------+\n",
      "\n",
      "[2.0, 3.0, 7.0]"
     ]
    }
   ],
   "source": [
    "# Analyzing 1 min + region \n",
    "df_counts = spark.read.parquet(\"s3://mobility-traces-sp/teste_minute_MO_15101_count_vehicles/\")\n",
    "df_counts.show()\n",
    "df_counts.agg(F.avg(\"counter_buses_connections\")).show()\n",
    "\n",
    "x = df_counts.approxQuantile(\"counter_buses_connections\", [0.25,0.5,0.75], 0.0001)\n",
    "print(x)"
   ]
  },
  {
   "cell_type": "code",
   "execution_count": 51,
   "metadata": {},
   "outputs": [
    {
     "data": {
      "application/vnd.jupyter.widget-view+json": {
       "model_id": "84401ad14da1432393e522bd952b3184",
       "version_major": 2,
       "version_minor": 0
      },
      "text/plain": [
       "VBox()"
      ]
     },
     "metadata": {},
     "output_type": "display_data"
    },
    {
     "data": {
      "application/vnd.jupyter.widget-view+json": {
       "model_id": "",
       "version_major": 2,
       "version_minor": 0
      },
      "text/plain": [
       "FloatProgress(value=0.0, bar_style='info', description='Progress:', layout=Layout(height='25px', width='50%'),…"
      ]
     },
     "metadata": {},
     "output_type": "display_data"
    }
   ],
   "source": [
    "# Analyzing 5 min + region \n",
    "df_5min = spark.read.parquet(\"s3://mobility-traces-sp/teste_minute_MO_15101_5min/\")\n",
    "df_without_repeated_5min = df_5min.filter(\"id_avl_1 != id_avl_2\")\n",
    "\n",
    "# save without repeated in s3\n",
    "\n",
    "df_final_5min = df_without_repeated_5min.withColumn(\"distance\",get_distance_udf(F.col(\"latitude_1\"),F.col(\"longitude_1\"),F.col(\"latitude_2\"),F.col(\"longitude_2\")))\n",
    "\n",
    "df_final_5min.filter(\"distance <= 100\")\\\n",
    "    .groupby(\"id_avl_1\",\"graph_id\")\\\n",
    "    .agg(F.countDistinct(\"id_avl_2\").alias(\"counter_buses_connections\"))\\\n",
    "    .write.parquet(\"s3://mobility-traces-sp/teste_5m_MO_15101_count_vehicles/\")"
   ]
  },
  {
   "cell_type": "code",
   "execution_count": 52,
   "metadata": {},
   "outputs": [
    {
     "data": {
      "application/vnd.jupyter.widget-view+json": {
       "model_id": "ac20ef4f97ae447094fc4d3371e0f0f1",
       "version_major": 2,
       "version_minor": 0
      },
      "text/plain": [
       "VBox()"
      ]
     },
     "metadata": {},
     "output_type": "display_data"
    },
    {
     "data": {
      "application/vnd.jupyter.widget-view+json": {
       "model_id": "",
       "version_major": 2,
       "version_minor": 0
      },
      "text/plain": [
       "FloatProgress(value=0.0, bar_style='info', description='Progress:', layout=Layout(height='25px', width='50%'),…"
      ]
     },
     "metadata": {},
     "output_type": "display_data"
    },
    {
     "name": "stdout",
     "output_type": "stream",
     "text": [
      "2853558\n",
      "+--------+--------------------+-------------------------+\n",
      "|id_avl_1|            graph_id|counter_buses_connections|\n",
      "+--------+--------------------+-------------------------+\n",
      "|   37688|          12-9-MOEMA|                       23|\n",
      "|   34081|        7-2-PIRITUBA|                       58|\n",
      "|   11315|      16-0-PINHEIROS|                       60|\n",
      "|   11466|         13-7-GRAJAU|                       31|\n",
      "|   42186|         13-8-CARRAO|                       49|\n",
      "|   51281|        10-5-TATUAPE|                        8|\n",
      "|   10931|        10-3-CAMBUCI|                        9|\n",
      "|   42179|   10-1-CIDADE LIDER|                       30|\n",
      "|   11113|13-10-JARDIM SAO ...|                       25|\n",
      "|   35291|          17-11-BRAS|                        8|\n",
      "|   57002|        9-11-TATUAPE|                       42|\n",
      "|   39137|      8-5-ITAIM BIBI|                       37|\n",
      "|   41665|    16-11-ITAIM BIBI|                       11|\n",
      "|   39592|  14-2-CAPAO REDONDO|                       58|\n",
      "|    9633|         7-1-SANTANA|                       73|\n",
      "|   40771|10-1-JARDIM SAO LUIS|                       68|\n",
      "|   43275|       17-2-ITAQUERA|                       91|\n",
      "|   40105|    21-0-CAMPO LIMPO|                       71|\n",
      "|   37234|      22-6-JABAQUARA|                       52|\n",
      "|   58347|    22-6-SANTO AMARO|                       18|\n",
      "+--------+--------------------+-------------------------+\n",
      "only showing top 20 rows\n",
      "\n",
      "+------------------------------+\n",
      "|avg(counter_buses_connections)|\n",
      "+------------------------------+\n",
      "|            19.376508905724013|\n",
      "+------------------------------+\n",
      "\n",
      "[6.0, 14.0, 27.0]"
     ]
    }
   ],
   "source": [
    "# Analyzing 5 min + region \n",
    "df_5min_count = spark.read.parquet(\"s3://mobility-traces-sp/teste_5m_MO_15101_count_vehicles/\")\n",
    "print(df_5min_count.count())\n",
    "df_5min_count.show()\n",
    "df_5min_count.agg(F.avg(\"counter_buses_connections\")).show()\n",
    "\n",
    "results = df_5min_count.approxQuantile(\"counter_buses_connections\", [0.25,0.5,0.75], 0.0001)\n",
    "print(results)"
   ]
  },
  {
   "cell_type": "code",
   "execution_count": null,
   "metadata": {},
   "outputs": [],
   "source": [
    "# Analyzing 15 seconds + without region \n",
    "# toke too much to process\n",
    "df_15s = spark.read.parquet(\"s3://mobility-traces-sp/teste_MO_15101_15s_without-region/\")\n",
    "df_without_repeated_15s = df_15s.filter(\"id_avl_1 != id_avl_2\")\n",
    "\n",
    "# save without repeated in s3\n",
    "\n",
    "df_final_15s = df_without_repeated_15s.withColumn(\"distance\",get_distance_udf(F.col(\"latitude_1\"),F.col(\"longitude_1\"),F.col(\"latitude_2\"),F.col(\"longitude_2\")))\n",
    "\n",
    "df_final_15s.filter(\"distance <= 100\")\\\n",
    "    .groupby(\"id_avl_1\",\"graph_id\")\\\n",
    "    .agg(F.countDistinct(\"id_avl_2\").alias(\"counter_buses_connections\"))\\\n",
    "    .write.parquet(\"s3://mobility-traces-sp/teste_15s_MO_15101_count_vehicles/\")"
   ]
  },
  {
   "cell_type": "code",
   "execution_count": 4,
   "metadata": {},
   "outputs": [
    {
     "data": {
      "application/vnd.jupyter.widget-view+json": {
       "model_id": "0c34b6fc52c541fb9a10df6856b2d28f",
       "version_major": 2,
       "version_minor": 0
      },
      "text/plain": [
       "VBox()"
      ]
     },
     "metadata": {},
     "output_type": "display_data"
    },
    {
     "data": {
      "application/vnd.jupyter.widget-view+json": {
       "model_id": "",
       "version_major": 2,
       "version_minor": 0
      },
      "text/plain": [
       "FloatProgress(value=0.0, bar_style='info', description='Progress:', layout=Layout(height='25px', width='50%'),…"
      ]
     },
     "metadata": {},
     "output_type": "display_data"
    }
   ],
   "source": [
    "# Analyzing 15 seconds + with region \n",
    "\n",
    "df_15s_with_region = spark.read.parquet(\"s3://mobility-traces-sp/teste_MO_15101_15s_with-region/\")\n",
    "df_without_repeated_15s_with_region = df_15s_with_region.filter(\"id_avl_1 != id_avl_2\")\n",
    "\n",
    "# save without repeated in s3\n",
    "\n",
    "df_final_15s_with_region = df_without_repeated_15s_with_region.withColumn(\"distance\",get_distance_udf(F.col(\"latitude_1\"),F.col(\"longitude_1\"),F.col(\"latitude_2\"),F.col(\"longitude_2\")))\n",
    "\n",
    "df_final_15s_with_region.filter(\"distance <= 100\")\\\n",
    "    .groupby(\"id_avl_1\",\"graph_id\")\\\n",
    "    .agg(F.countDistinct(\"id_avl_2\").alias(\"counter_buses_connections\"))\\\n",
    "    .write.parquet(\"s3://mobility-traces-sp/teste_15s_with_region_MO_15101_count_vehicles/\")"
   ]
  },
  {
   "cell_type": "code",
   "execution_count": 5,
   "metadata": {},
   "outputs": [
    {
     "data": {
      "application/vnd.jupyter.widget-view+json": {
       "model_id": "0593d43f21584d909c8d5f9de3b0ab50",
       "version_major": 2,
       "version_minor": 0
      },
      "text/plain": [
       "VBox()"
      ]
     },
     "metadata": {},
     "output_type": "display_data"
    },
    {
     "data": {
      "application/vnd.jupyter.widget-view+json": {
       "model_id": "",
       "version_major": 2,
       "version_minor": 0
      },
      "text/plain": [
       "FloatProgress(value=0.0, bar_style='info', description='Progress:', layout=Layout(height='25px', width='50%'),…"
      ]
     },
     "metadata": {},
     "output_type": "display_data"
    },
    {
     "name": "stdout",
     "output_type": "stream",
     "text": [
      "+--------+-------------------+-------------------------+\n",
      "|id_avl_1|           graph_id|counter_buses_connections|\n",
      "+--------+-------------------+-------------------------+\n",
      "|   11338| 11-142-SANTO AMARO|                        2|\n",
      "|   36953|7-201-JARDIM ANGELA|                        2|\n",
      "|   42149|     10-7-SAPOPEMBA|                        2|\n",
      "|   55230|11-172-CACHOEIRINHA|                        9|\n",
      "|   11727|19-219-CIDADE DUTRA|                        2|\n",
      "|   35345|        8-4-TATUAPE|                        5|\n",
      "|   40961|   15-167-PINHEIROS|                        1|\n",
      "|   11698|         9-64-MOEMA|                        1|\n",
      "|   40471| 14-173-SANTO AMARO|                        2|\n",
      "|   56832|      16-88-TATUAPE|                        5|\n",
      "|   30891|      15-51-JAGUARA|                        5|\n",
      "|   47573|  9-100-CAMPO LIMPO|                        9|\n",
      "|   56001|    13-145-ITAQUERA|                        6|\n",
      "|   57402|    22-220-PEDREIRA|                        6|\n",
      "|   38372|   8-153-VILA SONIA|                        1|\n",
      "|   35378|            9-87-SE|                        7|\n",
      "|   38447| 14-187-RIO PEQUENO|                        1|\n",
      "|   38665|  17-54-SANTO AMARO|                        5|\n",
      "|   44455|      8-91-PIRITUBA|                       15|\n",
      "|   12164|         7-237-LAPA|                        2|\n",
      "+--------+-------------------+-------------------------+\n",
      "only showing top 20 rows\n",
      "\n",
      "+------------------------------+\n",
      "|avg(counter_buses_connections)|\n",
      "+------------------------------+\n",
      "|             2.792975230655913|\n",
      "+------------------------------+\n",
      "\n",
      "[1.0, 2.0, 3.0]"
     ]
    }
   ],
   "source": [
    "# Analyzing 15s + region \n",
    "df_15s_count_with_region = spark.read.parquet(\"s3://mobility-traces-sp/teste_15s_with_region_MO_15101_count_vehicles/\")\n",
    "df_15s_count_with_region.show()\n",
    "df_15s_count_with_region.agg(F.avg(\"counter_buses_connections\")).show()\n",
    "\n",
    "results_15s_with_region = df_15s_count_with_region.approxQuantile(\"counter_buses_connections\", [0.25,0.5,0.75], 0.0001)\n",
    "print(results_15s_with_region)"
   ]
  }
 ],
 "metadata": {
  "kernelspec": {
   "display_name": "Python 3",
   "language": "python",
   "name": "python3"
  },
  "language_info": {
   "codemirror_mode": {
    "name": "ipython",
    "version": 3
   },
   "file_extension": ".py",
   "mimetype": "text/x-python",
   "name": "python",
   "nbconvert_exporter": "python",
   "pygments_lexer": "ipython3",
   "version": "3.7.4"
  }
 },
 "nbformat": 4,
 "nbformat_minor": 4
}
