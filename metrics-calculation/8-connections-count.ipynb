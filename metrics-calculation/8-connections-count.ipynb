{
 "cells": [
  {
   "cell_type": "code",
   "execution_count": null,
   "metadata": {},
   "outputs": [],
   "source": []
  },
  {
   "cell_type": "code",
   "execution_count": 9,
   "metadata": {},
   "outputs": [
    {
     "data": {
      "application/vnd.jupyter.widget-view+json": {
       "model_id": "5ecc5a08d1204635b6e8137c3eefac4c",
       "version_major": 2,
       "version_minor": 0
      },
      "text/plain": [
       "VBox()"
      ]
     },
     "metadata": {},
     "output_type": "display_data"
    },
    {
     "data": {
      "application/vnd.jupyter.widget-view+json": {
       "model_id": "",
       "version_major": 2,
       "version_minor": 0
      },
      "text/plain": [
       "FloatProgress(value=0.0, bar_style='info', description='Progress:', layout=Layout(height='25px', width='50%'),…"
      ]
     },
     "metadata": {},
     "output_type": "display_data"
    }
   ],
   "source": [
    "# In one minute a bus meets n different vehicles\n",
    "import pyspark.sql.functions as F\n",
    "\n",
    "day = 1\n",
    "\n",
    "distances = spark.read.parquet(f\"s3://mobility-traces-sp/processed-data-avl-date/18-graphs-minutes-within-100m/MO_1510{day}/\")\n",
    "\n",
    "df_counts = distances.groupby(\"id_avl_1\",\"graph_id\").agg(F.countDistinct(\"id_avl_2\").alias(\"counter_buses_connections\"))\n",
    "\n",
    "df_counts.write.parquet(f\"s3://mobility-traces-sp/metrics-calculation/bus-connections/connections-per-vehicle-per-minute/MO_1510{day}/\")"
   ]
  },
  {
   "cell_type": "code",
   "execution_count": null,
   "metadata": {},
   "outputs": [],
   "source": []
  },
  {
   "cell_type": "code",
   "execution_count": null,
   "metadata": {},
   "outputs": [],
   "source": [
    "# 1 - Average of number of connections per bus with different vehicles per minute in one day"
   ]
  },
  {
   "cell_type": "code",
   "execution_count": 28,
   "metadata": {},
   "outputs": [
    {
     "data": {
      "application/vnd.jupyter.widget-view+json": {
       "model_id": "81ba1138324a466fa321dace5f492de9",
       "version_major": 2,
       "version_minor": 0
      },
      "text/plain": [
       "VBox()"
      ]
     },
     "metadata": {},
     "output_type": "display_data"
    },
    {
     "data": {
      "application/vnd.jupyter.widget-view+json": {
       "model_id": "",
       "version_major": 2,
       "version_minor": 0
      },
      "text/plain": [
       "FloatProgress(value=0.0, bar_style='info', description='Progress:', layout=Layout(height='25px', width='50%'),…"
      ]
     },
     "metadata": {},
     "output_type": "display_data"
    },
    {
     "name": "stdout",
     "output_type": "stream",
     "text": [
      "+-----------------+----------------+---+---+\n",
      "|              avg|          stddev|max|min|\n",
      "+-----------------+----------------+---+---+\n",
      "|6.246168604107917|7.71835474702658| 94|  1|\n",
      "+-----------------+----------------+---+---+\n",
      "\n",
      "[2.0, 3.0, 7.0]"
     ]
    }
   ],
   "source": [
    "# Statistics Day 1/10/2015\n",
    "import pyspark.sql.functions as F\n",
    "\n",
    "count_connections = spark.read.parquet(f\"s3://mobility-traces-sp/metrics-calculation/bus-connections/connections-per-vehicle-per-minute/MO_15101/\")\n",
    "\n",
    "count_connections.agg(\n",
    "    F.avg(\"counter_buses_connections\").alias(\"avg\"),\n",
    "    F.stddev(\"counter_buses_connections\").alias(\"stddev\"),\n",
    "    F.max(\"counter_buses_connections\").alias(\"max\"),\n",
    "    F.min(\"counter_buses_connections\").alias(\"min\"),\n",
    ").show()\n",
    " \n",
    "quantiles = count_connections.approxQuantile(\"counter_buses_connections\", [0.25,0.5,0.75], 0.0001)\n",
    "print(quantiles)"
   ]
  },
  {
   "cell_type": "code",
   "execution_count": 29,
   "metadata": {},
   "outputs": [
    {
     "data": {
      "application/vnd.jupyter.widget-view+json": {
       "model_id": "7137344c87df41de80b8a84015b3aa01",
       "version_major": 2,
       "version_minor": 0
      },
      "text/plain": [
       "VBox()"
      ]
     },
     "metadata": {},
     "output_type": "display_data"
    },
    {
     "data": {
      "application/vnd.jupyter.widget-view+json": {
       "model_id": "",
       "version_major": 2,
       "version_minor": 0
      },
      "text/plain": [
       "FloatProgress(value=0.0, bar_style='info', description='Progress:', layout=Layout(height='25px', width='50%'),…"
      ]
     },
     "metadata": {},
     "output_type": "display_data"
    },
    {
     "name": "stdout",
     "output_type": "stream",
     "text": [
      "+-----------------+------------------+---+---+\n",
      "|              avg|            stddev|max|min|\n",
      "+-----------------+------------------+---+---+\n",
      "|4.562726268319603|5.1501826636740855| 55|  1|\n",
      "+-----------------+------------------+---+---+\n",
      "\n",
      "[1.0, 2.0, 6.0]"
     ]
    }
   ],
   "source": [
    "# Statistics Day 4/10/2015\n",
    "import pyspark.sql.functions as F\n",
    "\n",
    "count_connections = spark.read.parquet(f\"s3://mobility-traces-sp/metrics-calculation/bus-connections/connections-per-vehicle-per-minute/MO_15104/\")\n",
    "\n",
    "count_connections.agg(\n",
    "    F.avg(\"counter_buses_connections\").alias(\"avg\"),\n",
    "    F.stddev(\"counter_buses_connections\").alias(\"stddev\"),\n",
    "    F.max(\"counter_buses_connections\").alias(\"max\"),\n",
    "    F.min(\"counter_buses_connections\").alias(\"min\"),\n",
    ").show()\n",
    " \n",
    "quantiles = count_connections.approxQuantile(\"counter_buses_connections\", [0.25,0.5,0.75], 0.0001)\n",
    "print(quantiles)"
   ]
  },
  {
   "cell_type": "code",
   "execution_count": 30,
   "metadata": {},
   "outputs": [
    {
     "data": {
      "application/vnd.jupyter.widget-view+json": {
       "model_id": "4d7a6277968841988f3f2db82accb7c4",
       "version_major": 2,
       "version_minor": 0
      },
      "text/plain": [
       "VBox()"
      ]
     },
     "metadata": {},
     "output_type": "display_data"
    },
    {
     "data": {
      "application/vnd.jupyter.widget-view+json": {
       "model_id": "",
       "version_major": 2,
       "version_minor": 0
      },
      "text/plain": [
       "FloatProgress(value=0.0, bar_style='info', description='Progress:', layout=Layout(height='25px', width='50%'),…"
      ]
     },
     "metadata": {},
     "output_type": "display_data"
    },
    {
     "name": "stdout",
     "output_type": "stream",
     "text": [
      "+-----------------+-----------------+---+---+\n",
      "|              avg|           stddev|max|min|\n",
      "+-----------------+-----------------+---+---+\n",
      "|4.854623552041216|5.415424437646948| 73|  1|\n",
      "+-----------------+-----------------+---+---+\n",
      "\n",
      "[1.0, 3.0, 6.0]"
     ]
    }
   ],
   "source": [
    "# Statistics Day 12/10/2015\n",
    "import pyspark.sql.functions as F\n",
    "\n",
    "count_connections = spark.read.parquet(f\"s3://mobility-traces-sp/metrics-calculation/bus-connections/connections-per-vehicle-per-minute/MO_151012/\")\n",
    "\n",
    "count_connections.agg(\n",
    "    F.avg(\"counter_buses_connections\").alias(\"avg\"),\n",
    "    F.stddev(\"counter_buses_connections\").alias(\"stddev\"),\n",
    "    F.max(\"counter_buses_connections\").alias(\"max\"),\n",
    "    F.min(\"counter_buses_connections\").alias(\"min\"),\n",
    ").show()\n",
    " \n",
    "quantiles = count_connections.approxQuantile(\"counter_buses_connections\", [0.25,0.5,0.75], 0.0001)\n",
    "print(quantiles)"
   ]
  },
  {
   "cell_type": "code",
   "execution_count": 31,
   "metadata": {},
   "outputs": [
    {
     "data": {
      "application/vnd.jupyter.widget-view+json": {
       "model_id": "30e4883008d9434ba8e7320759cb03a0",
       "version_major": 2,
       "version_minor": 0
      },
      "text/plain": [
       "VBox()"
      ]
     },
     "metadata": {},
     "output_type": "display_data"
    },
    {
     "data": {
      "application/vnd.jupyter.widget-view+json": {
       "model_id": "",
       "version_major": 2,
       "version_minor": 0
      },
      "text/plain": [
       "FloatProgress(value=0.0, bar_style='info', description='Progress:', layout=Layout(height='25px', width='50%'),…"
      ]
     },
     "metadata": {},
     "output_type": "display_data"
    },
    {
     "name": "stdout",
     "output_type": "stream",
     "text": [
      "+-----------------+-----------------+---+---+\n",
      "|              avg|           stddev|max|min|\n",
      "+-----------------+-----------------+---+---+\n",
      "|5.585783875851358|6.644852280295228| 68|  1|\n",
      "+-----------------+-----------------+---+---+\n",
      "\n",
      "[1.0, 3.0, 7.0]"
     ]
    }
   ],
   "source": [
    "# Statistics Day 17/10/2015\n",
    "import pyspark.sql.functions as F\n",
    "\n",
    "count_connections = spark.read.parquet(f\"s3://mobility-traces-sp/metrics-calculation/bus-connections/connections-per-vehicle-per-minute/MO_151017/\")\n",
    "\n",
    "count_connections.agg(\n",
    "    F.avg(\"counter_buses_connections\").alias(\"avg\"),\n",
    "    F.stddev(\"counter_buses_connections\").alias(\"stddev\"),\n",
    "    F.max(\"counter_buses_connections\").alias(\"max\"),\n",
    "    F.min(\"counter_buses_connections\").alias(\"min\"),\n",
    ").show()\n",
    " \n",
    "quantiles = count_connections.approxQuantile(\"counter_buses_connections\", [0.25,0.5,0.75], 0.0001)\n",
    "print(quantiles)"
   ]
  },
  {
   "cell_type": "code",
   "execution_count": 32,
   "metadata": {
    "scrolled": true
   },
   "outputs": [
    {
     "data": {
      "application/vnd.jupyter.widget-view+json": {
       "model_id": "cf3633ec741e425ebfa4077d592de407",
       "version_major": 2,
       "version_minor": 0
      },
      "text/plain": [
       "VBox()"
      ]
     },
     "metadata": {},
     "output_type": "display_data"
    },
    {
     "data": {
      "application/vnd.jupyter.widget-view+json": {
       "model_id": "",
       "version_major": 2,
       "version_minor": 0
      },
      "text/plain": [
       "FloatProgress(value=0.0, bar_style='info', description='Progress:', layout=Layout(height='25px', width='50%'),…"
      ]
     },
     "metadata": {},
     "output_type": "display_data"
    },
    {
     "name": "stdout",
     "output_type": "stream",
     "text": [
      "+-----------------+-----------------+---+---+\n",
      "|              avg|           stddev|max|min|\n",
      "+-----------------+-----------------+---+---+\n",
      "|6.390509389014727|7.909187862584228| 96|  1|\n",
      "+-----------------+-----------------+---+---+\n",
      "\n",
      "[2.0, 3.0, 7.0]"
     ]
    }
   ],
   "source": [
    "# Statistics Day 20/10/2015\n",
    "import pyspark.sql.functions as F\n",
    "\n",
    "count_connections = spark.read.parquet(f\"s3://mobility-traces-sp/metrics-calculation/bus-connections/connections-per-vehicle-per-minute/MO_151020/\")\n",
    "\n",
    "count_connections.agg(\n",
    "    F.avg(\"counter_buses_connections\").alias(\"avg\"),\n",
    "    F.stddev(\"counter_buses_connections\").alias(\"stddev\"),\n",
    "    F.max(\"counter_buses_connections\").alias(\"max\"),\n",
    "    F.min(\"counter_buses_connections\").alias(\"min\"),\n",
    ").show()\n",
    " \n",
    "quantiles = count_connections.approxQuantile(\"counter_buses_connections\", [0.25,0.5,0.75], 0.0001)\n",
    "print(quantiles)"
   ]
  },
  {
   "cell_type": "code",
   "execution_count": null,
   "metadata": {
    "scrolled": true
   },
   "outputs": [],
   "source": [
    "import pyspark.sql.functions as F\n",
    "\n",
    "# creating new columns based on graph_id\n",
    "day = 20\n",
    "\n",
    "df = spark.read.parquet(f\"s3://mobility-traces-sp/metrics-calculation/bus-connections/connections-per-vehicle-per-minute/MO_1510{day}/\")\n",
    " \n",
    "split_col = F.split(connections['graph_id'], '-')\n",
    "\n",
    "df = df.withColumn('splitted', F.split(df['graph_id'], '-'))\\\n",
    "    .withColumn('hour', F.col('splitted')[0])\\\n",
    "    .withColumn('minute', F.col('splitted')[1])\\\n",
    "    .withColumn('hour-minute', F.concat(F.col('hour'),F.lit(\":\"),F.col(\"minute\")))\\\n",
    "    .withColumn('region', F.col('splitted')[2])\\\n",
    "    .drop(\"splitted\")\n",
    "\n",
    "df = df.repartition(\"graph_id\")\n",
    "\n",
    "df.write.parquet(f\"s3://mobility-traces-sp/metrics-calculation/bus-connections/connections-per-vehicle-per-minute-hour-region-info/MO_1510{day}/\")\n",
    "\n"
   ]
  },
  {
   "cell_type": "code",
   "execution_count": null,
   "metadata": {},
   "outputs": [],
   "source": [
    "# Number of bus connections in one minute per region\n",
    "\n",
    "import pyspark.sql.functions as F\n",
    "\n",
    "day = 20\n",
    "\n",
    "df = spark.read.parquet(f\"s3://mobility-traces-sp/metrics-calculation/bus-connections/connections-per-vehicle-per-minute-hour-region-info/MO_1510{day}/\")\n",
    "\n",
    "df.groupby(\"region\").agg(F.avg(\"counter_buses_connections\").alias(\"connections_avg\")).write.parquet(f\"s3://mobility-traces-sp/metrics-calculation/bus-connections/connections-per-bus-per-region/MO_1510{day}/\")"
   ]
  },
  {
   "cell_type": "code",
   "execution_count": null,
   "metadata": {},
   "outputs": [],
   "source": []
  },
  {
   "cell_type": "code",
   "execution_count": 7,
   "metadata": {},
   "outputs": [
    {
     "data": {
      "application/vnd.jupyter.widget-view+json": {
       "model_id": "0939d46fc59a4428a399af621ff66077",
       "version_major": 2,
       "version_minor": 0
      },
      "text/plain": [
       "VBox()"
      ]
     },
     "metadata": {},
     "output_type": "display_data"
    },
    {
     "data": {
      "application/vnd.jupyter.widget-view+json": {
       "model_id": "",
       "version_major": 2,
       "version_minor": 0
      },
      "text/plain": [
       "FloatProgress(value=0.0, bar_style='info', description='Progress:', layout=Layout(height='25px', width='50%'),…"
      ]
     },
     "metadata": {},
     "output_type": "display_data"
    }
   ],
   "source": [
    "# Number (average) of different buses a bus met in one hour\n",
    "\n",
    "import pyspark.sql.functions as F\n",
    "\n",
    "day = 20\n",
    "\n",
    "df = spark.read.parquet(f\"s3://mobility-traces-sp/processed-data-avl-date/18-graphs-minutes-within-100m/MO_1510{day}/\")\n",
    "\n",
    "df = df.groupby(\"id_avl_1\",\"hour_avl\").agg(F.countDistinct(\"id_avl_2\").alias(\"count_bus\"))\n",
    "\n",
    "df_final = df.groupby(\"hour_avl\").agg(F.avg(\"count_bus\").alias(\"count_diff_buses\"))\n",
    "\n",
    "df_final.write.parquet(f\"s3://mobility-traces-sp/processed-data-avl-date/diff-buses-avg-per-hour/MO_1510{day}/\")"
   ]
  },
  {
   "cell_type": "code",
   "execution_count": 23,
   "metadata": {},
   "outputs": [
    {
     "data": {
      "application/vnd.jupyter.widget-view+json": {
       "model_id": "0b45e4999d1548219f8dc2bb186db892",
       "version_major": 2,
       "version_minor": 0
      },
      "text/plain": [
       "VBox()"
      ]
     },
     "metadata": {},
     "output_type": "display_data"
    },
    {
     "data": {
      "application/vnd.jupyter.widget-view+json": {
       "model_id": "",
       "version_major": 2,
       "version_minor": 0
      },
      "text/plain": [
       "FloatProgress(value=0.0, bar_style='info', description='Progress:', layout=Layout(height='25px', width='50%'),…"
      ]
     },
     "metadata": {},
     "output_type": "display_data"
    },
    {
     "name": "stdout",
     "output_type": "stream",
     "text": [
      "+-----------------+---+---+------------------+\n",
      "|              avg|min|max|            stddev|\n",
      "+-----------------+---+---+------------------+\n",
      "|88.48296761675982|  1|426|56.325555520497055|\n",
      "+-----------------+---+---+------------------+\n",
      "\n",
      "[46.0, 80.0, 121.0]"
     ]
    }
   ],
   "source": [
    "# Number (average) of different buses a bus met in one hour - distribution\n",
    "\n",
    "import pyspark.sql.functions as F\n",
    "\n",
    "day = 20\n",
    "\n",
    "df = spark.read.parquet(f\"s3://mobility-traces-sp/processed-data-avl-date/18-graphs-minutes-within-100m/MO_1510{day}/\")\n",
    "\n",
    "df = df.groupby(\"id_avl_1\",\"hour_avl\").agg(F.countDistinct(\"id_avl_2\").alias(\"count_bus\"))\n",
    "\n",
    "df.agg(\n",
    "    F.avg(\"count_bus\").alias(\"avg\"),\n",
    "    F.min(\"count_bus\").alias(\"min\"),\n",
    "    F.max(\"count_bus\").alias(\"max\"),\n",
    "    F.stddev(\"count_bus\").alias(\"stddev\"),\n",
    ").show()\n",
    "\n",
    "quantiles = df.approxQuantile(\"count_bus\", [0.25,0.5,0.75], 0.0001)\n",
    "print(quantiles)\n",
    "\n"
   ]
  },
  {
   "cell_type": "code",
   "execution_count": null,
   "metadata": {},
   "outputs": [],
   "source": [
    "# Number of diff buses connection per bus (avg) per region and hour\n",
    "\n",
    "\n",
    "import pyspark.sql.functions as F\n",
    "\n",
    "day = 20\n",
    "\n",
    "df = spark.read.parquet(f\"s3://mobility-traces-sp/processed-data-avl-date/18-graphs-minutes-within-100m/MO_1510{day}/\")\n",
    "\n",
    "df = df.groupby(\"id_avl_1\",\"hour_avl\",\"region\").agg(F.countDistinct(\"id_avl_2\").alias(\"count_bus\"))\n",
    "\n",
    "df.agg(\n",
    "    F.avg(\"count_bus\").alias(\"avg\"),\n",
    "    F.min(\"count_bus\").alias(\"min\"),\n",
    "    F.max(\"count_bus\").alias(\"max\"),\n",
    "    F.stddev(\"count_bus\").alias(\"stddev\"),\n",
    ").show()\n",
    "\n",
    "quantiles = df.approxQuantile(\"count_bus\", [0.25,0.5,0.75], 0.0001)\n",
    "print(quantiles)\n",
    "\n"
   ]
  },
  {
   "cell_type": "code",
   "execution_count": 28,
   "metadata": {},
   "outputs": [
    {
     "data": {
      "application/vnd.jupyter.widget-view+json": {
       "model_id": "328f2d789d20419186558e3f1d0d5f1e",
       "version_major": 2,
       "version_minor": 0
      },
      "text/plain": [
       "VBox()"
      ]
     },
     "metadata": {},
     "output_type": "display_data"
    },
    {
     "data": {
      "application/vnd.jupyter.widget-view+json": {
       "model_id": "",
       "version_major": 2,
       "version_minor": 0
      },
      "text/plain": [
       "FloatProgress(value=0.0, bar_style='info', description='Progress:', layout=Layout(height='25px', width='50%'),…"
      ]
     },
     "metadata": {},
     "output_type": "display_data"
    },
    {
     "name": "stdout",
     "output_type": "stream",
     "text": [
      "+-----------------+---+----+-----------------+\n",
      "|              avg|min| max|           stddev|\n",
      "+-----------------+---+----+-----------------+\n",
      "|720.4255837272597|  1|1997|339.4823964280447|\n",
      "+-----------------+---+----+-----------------+\n",
      "\n",
      "[475.0, 693.0, 930.0]"
     ]
    }
   ],
   "source": [
    "# Number of diff buses connection per bus (avg) per day\n",
    "import pyspark.sql.functions as F\n",
    "\n",
    "day = 20\n",
    "\n",
    "df = spark.read.parquet(f\"s3://mobility-traces-sp/processed-data-avl-date/18-graphs-minutes-within-100m/MO_1510{day}/\")\n",
    "\n",
    "df = df.groupby(\"id_avl_1\").agg(F.countDistinct(\"id_avl_2\").alias(\"count_bus\"))\n",
    "\n",
    "df.agg(\n",
    "    F.avg(\"count_bus\").alias(\"avg\"),\n",
    "    F.min(\"count_bus\").alias(\"min\"),\n",
    "    F.max(\"count_bus\").alias(\"max\"),\n",
    "    F.stddev(\"count_bus\").alias(\"stddev\"),\n",
    ").show()\n",
    "\n",
    "quantiles = df.approxQuantile(\"count_bus\", [0.25,0.5,0.75], 0.0001)\n",
    "print(quantiles)\n",
    "\n"
   ]
  },
  {
   "cell_type": "code",
   "execution_count": 31,
   "metadata": {},
   "outputs": [
    {
     "data": {
      "application/vnd.jupyter.widget-view+json": {
       "model_id": "f155e86544fc456baf2d07733b36a000",
       "version_major": 2,
       "version_minor": 0
      },
      "text/plain": [
       "VBox()"
      ]
     },
     "metadata": {},
     "output_type": "display_data"
    },
    {
     "data": {
      "application/vnd.jupyter.widget-view+json": {
       "model_id": "",
       "version_major": 2,
       "version_minor": 0
      },
      "text/plain": [
       "FloatProgress(value=0.0, bar_style='info', description='Progress:', layout=Layout(height='25px', width='50%'),…"
      ]
     },
     "metadata": {},
     "output_type": "display_data"
    }
   ],
   "source": [
    "# Number of diff buses connection per bus (avg) per region per day\n",
    "# One bus has a total off different buses it connected during one day, how much of it belongs to each region\n",
    "import pyspark.sql.functions as F\n",
    "\n",
    "day = 1\n",
    "\n",
    "df = spark.read.parquet(f\"s3://mobility-traces-sp/processed-data-avl-date/18-graphs-minutes-within-100m/MO_1510{day}/\")\n",
    "\n",
    "df = df.groupby(\"id_avl_1\",\"region\").agg(F.countDistinct(\"id_avl_2\").alias(\"count_bus\"))\n",
    "\n",
    "df.groupby(\"region\").agg(F.avg(\"count_bus\").alias(\"count_bus_avg_per_day\"))\\\n",
    "    .write.parquet(f\"s3://mobility-traces-sp/metrics-calculation/bus-connections/connection-diff-buses-per-day-per-region/MO_1510{day}/\")\n"
   ]
  },
  {
   "cell_type": "code",
   "execution_count": 15,
   "metadata": {},
   "outputs": [
    {
     "data": {
      "application/vnd.jupyter.widget-view+json": {
       "model_id": "7714af1d710f41818785c12a98db6199",
       "version_major": 2,
       "version_minor": 0
      },
      "text/plain": [
       "VBox()"
      ]
     },
     "metadata": {},
     "output_type": "display_data"
    },
    {
     "data": {
      "application/vnd.jupyter.widget-view+json": {
       "model_id": "",
       "version_major": 2,
       "version_minor": 0
      },
      "text/plain": [
       "FloatProgress(value=0.0, bar_style='info', description='Progress:', layout=Layout(height='25px', width='50%'),…"
      ]
     },
     "metadata": {},
     "output_type": "display_data"
    },
    {
     "name": "stdout",
     "output_type": "stream",
     "text": [
      "7856 7867"
     ]
    }
   ],
   "source": [
    "# How many buses did not have any connection during the day?\n",
    "\n",
    "day = 12\n",
    "\n",
    "connections = spark.read.parquet(f\"s3://mobility-traces-sp/processed-data-avl-date/18-graphs-minutes-within-100m/MO_1510{day}/\")\n",
    "traces = spark.read.parquet(f\"s3://mobility-traces-sp/processed-data-avl-date/13-speed-calculation-filtered-columns/MO_1510{day}/\")\n",
    "\n",
    "\n",
    "id_avls_connected = connections.select(\"id_avl_1\").drop_duplicates(subset=[\"id_avl_1\"]).count()\n",
    "total = traces.select(\"id_avl\").drop_duplicates(subset=[\"id_avl\"]).count()\n",
    "\n",
    "\n",
    "# only 2 - 11 buses not connect with no one during the day"
   ]
  },
  {
   "cell_type": "code",
   "execution_count": null,
   "metadata": {},
   "outputs": [],
   "source": []
  },
  {
   "cell_type": "code",
   "execution_count": null,
   "metadata": {},
   "outputs": [],
   "source": [
    "# About the repeated connections/duration of the contacts"
   ]
  },
  {
   "cell_type": "code",
   "execution_count": null,
   "metadata": {},
   "outputs": [],
   "source": [
    "import pyspark.sql.functions as F\n",
    "\n",
    "# Creating a connection_id for each connection with the buses.\n",
    "# Connection_id = id_avl_1+id_avl_2 if id_avl_1 < id_avl_2\n",
    "# Connection_id = id_avl_2+id_avl_1 if id_avl_2 < id_avl_1\n",
    "\n",
    "day = 1\n",
    "\n",
    "df = spark.read.parquet(f\"s3://mobility-traces-sp/processed-data-avl-date/18-graphs-minutes-within-100m/MO_1510{day}/\")\n",
    "\n",
    "df = df.withColumn(\"connection_id\",\n",
    "    F.when(F.col(\"id_avl_1\") < F.col(\"id_avl_2\"), F.concat(F.col(\"id_avl_1\"),F.lit(\"-\"),F.col(\"id_avl_2\")))\n",
    "    .otherwise(F.concat(F.col(\"id_avl_2\"),F.lit(\"-\"),F.col(\"id_avl_1\"))))\n",
    "\n",
    "df = df.repartition(\"graph_id\")\n",
    "\n",
    "df.write.parquet(f\"s3://mobility-traces-sp/processed-data-avl-date/19-graphs-minutes-within-100m-with-cnnection-id/MO_1510{day}/\")"
   ]
  },
  {
   "cell_type": "code",
   "execution_count": null,
   "metadata": {},
   "outputs": [],
   "source": [
    "# Number of repeated connections per day"
   ]
  },
  {
   "cell_type": "code",
   "execution_count": 33,
   "metadata": {},
   "outputs": [
    {
     "data": {
      "application/vnd.jupyter.widget-view+json": {
       "model_id": "f6d68855912140e6a089f330436c4b4b",
       "version_major": 2,
       "version_minor": 0
      },
      "text/plain": [
       "VBox()"
      ]
     },
     "metadata": {},
     "output_type": "display_data"
    },
    {
     "data": {
      "application/vnd.jupyter.widget-view+json": {
       "model_id": "",
       "version_major": 2,
       "version_minor": 0
      },
      "text/plain": [
       "FloatProgress(value=0.0, bar_style='info', description='Progress:', layout=Layout(height='25px', width='50%'),…"
      ]
     },
     "metadata": {},
     "output_type": "display_data"
    },
    {
     "name": "stdout",
     "output_type": "stream",
     "text": [
      "+-----------------+------------------+---+---+\n",
      "|              avg|            stddev|max|min|\n",
      "+-----------------+------------------+---+---+\n",
      "|5.098736130373099|10.740653074046406|858|  1|\n",
      "+-----------------+------------------+---+---+\n",
      "\n",
      "[1.0, 2.0, 5.0]"
     ]
    }
   ],
   "source": [
    "# Number of repeated connections per day/duration of the connections\n",
    "\n",
    "import pyspark.sql.functions as F\n",
    "\n",
    "day = 1\n",
    "\n",
    "df = spark.read.parquet(f\"s3://mobility-traces-sp/processed-data-avl-date/19-graphs-minutes-within-100m-with-cnnection-id/MO_1510{day}/\")\n",
    "\n",
    "df = df.drop_duplicates(subset=[\"connection_id\",\"graph_id\"])\n",
    "\n",
    "df_counts = df.groupby(\"connection_id\").agg(F.count(\"connection_id\").alias(\"count_per_day\"))\n",
    "\n",
    "df_counts.agg(\n",
    "    F.avg(\"count_per_day\").alias(\"avg\"),\n",
    "    F.stddev(\"count_per_day\").alias(\"stddev\"),\n",
    "    F.max(\"count_per_day\").alias(\"max\"),\n",
    "    F.min(\"count_per_day\").alias(\"min\"),\n",
    ").show()\n",
    " \n",
    "quantiles = df_counts.approxQuantile(\"count_per_day\", [0.25,0.5,0.75], 0.0001)\n",
    "print(quantiles)"
   ]
  },
  {
   "cell_type": "code",
   "execution_count": 39,
   "metadata": {
    "scrolled": true
   },
   "outputs": [
    {
     "data": {
      "application/vnd.jupyter.widget-view+json": {
       "model_id": "be794332deb44e04b1eee6b60a24ebaa",
       "version_major": 2,
       "version_minor": 0
      },
      "text/plain": [
       "VBox()"
      ]
     },
     "metadata": {},
     "output_type": "display_data"
    },
    {
     "data": {
      "application/vnd.jupyter.widget-view+json": {
       "model_id": "",
       "version_major": 2,
       "version_minor": 0
      },
      "text/plain": [
       "FloatProgress(value=0.0, bar_style='info', description='Progress:', layout=Layout(height='25px', width='50%'),…"
      ]
     },
     "metadata": {},
     "output_type": "display_data"
    }
   ],
   "source": [
    "# Number of repeated connections per hour/duration of the connections\n",
    "\n",
    "import pyspark.sql.functions as F\n",
    "\n",
    "day = 20\n",
    "\n",
    "df = spark.read.parquet(f\"s3://mobility-traces-sp/processed-data-avl-date/19-graphs-minutes-within-100m-with-cnnection-id/MO_1510{day}/\")\n",
    "\n",
    "df = df.drop_duplicates(subset=[\"graph_id\",\"connection_id\"])\n",
    "\n",
    "df_counts_per_hour = df.groupby(\"connection_id\",\"hour_avl\").agg(F.count(\"connection_id\").alias(\"count_connection\"))\n",
    "\n",
    "df_counts_per_hour_avg = df_counts_per_hour.groupby(\"hour_avl\").agg(F.avg(\"count_connection\").alias(\"count_avg\"))\n",
    "\n",
    "df_counts_per_hour_avg.write.parquet(f\"s3://mobility-traces-sp/metrics-calculation/bus-connections/connection-avg-repeated-per-hour/MO_1510{day}/\")"
   ]
  },
  {
   "cell_type": "code",
   "execution_count": 46,
   "metadata": {},
   "outputs": [
    {
     "data": {
      "application/vnd.jupyter.widget-view+json": {
       "model_id": "cd7ce756dea143d099e0b964f7aecc67",
       "version_major": 2,
       "version_minor": 0
      },
      "text/plain": [
       "VBox()"
      ]
     },
     "metadata": {},
     "output_type": "display_data"
    },
    {
     "data": {
      "application/vnd.jupyter.widget-view+json": {
       "model_id": "",
       "version_major": 2,
       "version_minor": 0
      },
      "text/plain": [
       "FloatProgress(value=0.0, bar_style='info', description='Progress:', layout=Layout(height='25px', width='50%'),…"
      ]
     },
     "metadata": {},
     "output_type": "display_data"
    }
   ],
   "source": [
    "# Number of distinct connections per hour/duration of the connections\n",
    "\n",
    "import pyspark.sql.functions as F\n",
    "\n",
    "day = 20\n",
    "\n",
    "df = spark.read.parquet(f\"s3://mobility-traces-sp/processed-data-avl-date/19-graphs-minutes-within-100m-with-cnnection-id/MO_1510{day}/\")\n",
    "\n",
    "df = df.drop_duplicates(subset=[\"graph_id\",\"connection_id\"])\n",
    "\n",
    "df_counts_per_hour = df.groupby(\"hour_avl\").agg(F.countDistinct(\"connection_id\").alias(\"count_connection\"))\n",
    "\n",
    "df_counts_per_hour.write.parquet(f\"s3://mobility-traces-sp/metrics-calculation/bus-connections/number-connections-per-hour/MO_1510{day}/\")\n"
   ]
  },
  {
   "cell_type": "code",
   "execution_count": 10,
   "metadata": {},
   "outputs": [
    {
     "data": {
      "application/vnd.jupyter.widget-view+json": {
       "model_id": "ee4f735159204d9a9c77014563c8cbd7",
       "version_major": 2,
       "version_minor": 0
      },
      "text/plain": [
       "VBox()"
      ]
     },
     "metadata": {},
     "output_type": "display_data"
    },
    {
     "data": {
      "application/vnd.jupyter.widget-view+json": {
       "model_id": "",
       "version_major": 2,
       "version_minor": 0
      },
      "text/plain": [
       "FloatProgress(value=0.0, bar_style='info', description='Progress:', layout=Layout(height='25px', width='50%'),…"
      ]
     },
     "metadata": {},
     "output_type": "display_data"
    }
   ],
   "source": [
    "# Number of total connections per hour/duration of the connections\n",
    "\n",
    "import pyspark.sql.functions as F\n",
    "\n",
    "day = 20\n",
    "\n",
    "df = spark.read.parquet(f\"s3://mobility-traces-sp/processed-data-avl-date/19-graphs-minutes-within-100m-with-cnnection-id/MO_1510{day}/\")\n",
    "\n",
    "df = df.drop_duplicates(subset=[\"graph_id\",\"connection_id\"])\n",
    "\n",
    "df_counts_per_hour = df.groupby(\"hour_avl\").agg(F.count(\"connection_id\").alias(\"count_connection\"))\n",
    "\n",
    "df_counts_per_hour.write.parquet(f\"s3://mobility-traces-sp/metrics-calculation/bus-connections/number-connections-per-hour-total/MO_1510{day}/\")\n"
   ]
  },
  {
   "cell_type": "code",
   "execution_count": 5,
   "metadata": {},
   "outputs": [
    {
     "data": {
      "application/vnd.jupyter.widget-view+json": {
       "model_id": "34165b44882f4a3a859570086c9be32e",
       "version_major": 2,
       "version_minor": 0
      },
      "text/plain": [
       "VBox()"
      ]
     },
     "metadata": {},
     "output_type": "display_data"
    },
    {
     "data": {
      "application/vnd.jupyter.widget-view+json": {
       "model_id": "",
       "version_major": 2,
       "version_minor": 0
      },
      "text/plain": [
       "FloatProgress(value=0.0, bar_style='info', description='Progress:', layout=Layout(height='25px', width='50%'),…"
      ]
     },
     "metadata": {},
     "output_type": "display_data"
    }
   ],
   "source": [
    "# Number of distinct connections per region/duration of the connections\n",
    "\n",
    "import pyspark.sql.functions as F\n",
    "\n",
    "day = 20\n",
    "\n",
    "df = spark.read.parquet(f\"s3://mobility-traces-sp/processed-data-avl-date/19-graphs-minutes-within-100m-with-cnnection-id/MO_1510{day}/\")\n",
    "\n",
    "df = df.drop_duplicates(subset=[\"graph_id\",\"connection_id\"])\n",
    "\n",
    "df_counts_per_hour = df.groupby(\"region\").agg(F.countDistinct(\"connection_id\").alias(\"count_connection\"))\n",
    "\n",
    "df_counts_per_hour.write.parquet(f\"s3://mobility-traces-sp/metrics-calculation/bus-connections/number-connections-per-region/MO_1510{day}/\")\n"
   ]
  },
  {
   "cell_type": "code",
   "execution_count": 15,
   "metadata": {},
   "outputs": [
    {
     "data": {
      "application/vnd.jupyter.widget-view+json": {
       "model_id": "606df64856ac493f95c8d7acc728b573",
       "version_major": 2,
       "version_minor": 0
      },
      "text/plain": [
       "VBox()"
      ]
     },
     "metadata": {},
     "output_type": "display_data"
    },
    {
     "data": {
      "application/vnd.jupyter.widget-view+json": {
       "model_id": "",
       "version_major": 2,
       "version_minor": 0
      },
      "text/plain": [
       "FloatProgress(value=0.0, bar_style='info', description='Progress:', layout=Layout(height='25px', width='50%'),…"
      ]
     },
     "metadata": {},
     "output_type": "display_data"
    }
   ],
   "source": [
    "# Number of total connections per region\n",
    "\n",
    "import pyspark.sql.functions as F\n",
    "\n",
    "day = 20\n",
    "\n",
    "df = spark.read.parquet(f\"s3://mobility-traces-sp/processed-data-avl-date/19-graphs-minutes-within-100m-with-cnnection-id/MO_1510{day}/\")\n",
    "\n",
    "df = df.drop_duplicates(subset=[\"graph_id\",\"connection_id\"])\n",
    "\n",
    "df_counts_per_hour = df.groupby(\"region\").agg(F.count(\"connection_id\").alias(\"count_connection\"))\n",
    "\n",
    "df_counts_per_hour.write.parquet(f\"s3://mobility-traces-sp/metrics-calculation/bus-connections/number-connections-per-region-total/MO_1510{day}/\")\n"
   ]
  },
  {
   "cell_type": "markdown",
   "metadata": {},
   "source": [
    "### Files/folder --> what it means\n",
    "- buses-connection-per-bu-per-day.csv --> Average of number of connections per bus with different vehicles per minute in one day\n",
    "- /bus-connections/connections-per-bus-per-region/ --> number of connection (average) of a bus in one minute per region\n",
    "- diff-buses-avg-per-hour - Number (average) of different buses a bus met in one hour\n",
    "- number-dff-bus-per-hour-stats.csv - number average and quantiles of connection per hour with diff buses"
   ]
  },
  {
   "cell_type": "code",
   "execution_count": null,
   "metadata": {},
   "outputs": [],
   "source": [
    "dd"
   ]
  }
 ],
 "metadata": {
  "kernelspec": {
   "display_name": "Python 3",
   "language": "python",
   "name": "python3"
  },
  "language_info": {
   "codemirror_mode": {
    "name": "ipython",
    "version": 3
   },
   "file_extension": ".py",
   "mimetype": "text/x-python",
   "name": "python",
   "nbconvert_exporter": "python",
   "pygments_lexer": "ipython3",
   "version": "3.7.4"
  }
 },
 "nbformat": 4,
 "nbformat_minor": 4
}
