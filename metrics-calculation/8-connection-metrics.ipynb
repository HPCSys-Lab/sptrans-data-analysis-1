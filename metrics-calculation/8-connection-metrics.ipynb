{
 "cells": [
  {
   "cell_type": "code",
   "execution_count": 21,
   "metadata": {},
   "outputs": [
    {
     "data": {
      "application/vnd.jupyter.widget-view+json": {
       "model_id": "a7c3af6c4de44939ac9dc28e709d096c",
       "version_major": 2,
       "version_minor": 0
      },
      "text/plain": [
       "VBox()"
      ]
     },
     "metadata": {},
     "output_type": "display_data"
    },
    {
     "data": {
      "application/vnd.jupyter.widget-view+json": {
       "model_id": "",
       "version_major": 2,
       "version_minor": 0
      },
      "text/plain": [
       "FloatProgress(value=0.0, bar_style='info', description='Progress:', layout=Layout(height='25px', width='50%'),…"
      ]
     },
     "metadata": {},
     "output_type": "display_data"
    }
   ],
   "source": [
    "# Dropping duplicates \n",
    "\n",
    "day = 1\n",
    "\n",
    "df_contacts = spark.read.parquet(f\"s3://mobility-traces-sp/processed-data-avl-date/18-graphs-minutes-within-100m/MO_1510{day}/\")\n",
    "\n",
    "df_no_duplicates = df_contacts.drop_duplicates(subset=[\"graph_id\",\"id_avl_1\",\"id_avl_2\"])\n",
    "\n",
    "df_no_duplicates.write.parquet(f\"s3://mobility-traces-sp/processed-data-avl-date/19-graphs-minutes-within-100m-graph-no-duplicates/MO_1510{day}/\")"
   ]
  },
  {
   "cell_type": "code",
   "execution_count": 28,
   "metadata": {},
   "outputs": [
    {
     "data": {
      "application/vnd.jupyter.widget-view+json": {
       "model_id": "4bc76cf1423a442e90c32ff8c095f275",
       "version_major": 2,
       "version_minor": 0
      },
      "text/plain": [
       "VBox()"
      ]
     },
     "metadata": {},
     "output_type": "display_data"
    },
    {
     "data": {
      "application/vnd.jupyter.widget-view+json": {
       "model_id": "",
       "version_major": 2,
       "version_minor": 0
      },
      "text/plain": [
       "FloatProgress(value=0.0, bar_style='info', description='Progress:', layout=Layout(height='25px', width='50%'),…"
      ]
     },
     "metadata": {},
     "output_type": "display_data"
    }
   ],
   "source": [
    "# adding column information to group the data statistics\n",
    "\n",
    "day = 1\n",
    "\n",
    "traces = spark.read.parquet(f\"s3://mobility-traces-sp/processed-data-avl-date/19-graphs-minutes-within-100m-graph-no-duplicates/MO_1510{day}/\")\n",
    "\n",
    "df = traces.groupby(\"id_avl_1\",\"graph_id\").agg(F.countDistinct(\"id_avl_2\").alias(\"counter_buses_connections\"))\n",
    "\n",
    "df = df.withColumn('splitted', F.split(df['graph_id'], '-'))\\\n",
    "    .withColumn('hour', F.col('splitted')[0])\\\n",
    "    .withColumn('minute', F.col('splitted')[1])\\\n",
    "    .withColumn('hour-minute', F.concat(F.col('hour'),F.lit(\":\"),F.col(\"minute\")))\\\n",
    "    .withColumn('region', F.col('splitted')[2])\\\n",
    "    .drop(\"splitted\")\n",
    "\n",
    "df = df.repartition(\"graph_id\")\n",
    "\n",
    "df.write.parquet(f\"s3://mobility-traces-sp/metrics-calculation/connectivity-metrics/vehicle-degree-per-graph/MO_1510{day}/\")"
   ]
  },
  {
   "cell_type": "code",
   "execution_count": null,
   "metadata": {},
   "outputs": [],
   "source": [
    "# Degree vehicle per average minute\n",
    "import pyspark.sql.functions as F\n",
    "day = 1\n",
    "\n",
    "df = spark.read.parquet(f\"s3://mobility-traces-sp/metrics-calculation/connectivity-metrics/vehicle-degree-per-graph/MO_1510{day}/\")\n",
    "df = df.groupby(\"hour-minute\")\\\n",
    "    .agg(F.avg(\"counter_buses_connections\").alias(\"avg_buses_count\"))\\\n",
    "    .withColumn('time', F.date_format('hour-minute','HH:mm'))\\\n",
    "    .drop(\"hour-minute\")\n",
    "\n",
    "df.write.parquet(f\"s3://mobility-traces-sp/metrics-calculation/connectivity-metrics/vehicle-degree-per-minute/MO_1510{day}/\")"
   ]
  },
  {
   "cell_type": "code",
   "execution_count": 37,
   "metadata": {},
   "outputs": [
    {
     "data": {
      "application/vnd.jupyter.widget-view+json": {
       "model_id": "bc252fe9951e417a8173dde05b3b24cc",
       "version_major": 2,
       "version_minor": 0
      },
      "text/plain": [
       "VBox()"
      ]
     },
     "metadata": {},
     "output_type": "display_data"
    },
    {
     "data": {
      "application/vnd.jupyter.widget-view+json": {
       "model_id": "",
       "version_major": 2,
       "version_minor": 0
      },
      "text/plain": [
       "FloatProgress(value=0.0, bar_style='info', description='Progress:', layout=Layout(height='25px', width='50%'),…"
      ]
     },
     "metadata": {},
     "output_type": "display_data"
    },
    {
     "name": "stdout",
     "output_type": "stream",
     "text": [
      "+-----------------+------------------+---+---+\n",
      "|              avg|            stddev|max|min|\n",
      "+-----------------+------------------+---+---+\n",
      "|6.246168604107917|7.7183547470265506| 94|  1|\n",
      "+-----------------+------------------+---+---+\n",
      "\n",
      "[2.0, 3.0, 7.0]"
     ]
    }
   ],
   "source": [
    "# Degree vehicle per day\n",
    "import pyspark.sql.functions as F\n",
    "\n",
    "day = 1\n",
    "count_connections = spark.read.parquet(f\"s3://mobility-traces-sp/metrics-calculation/connectivity-metrics/vehicle-degree-per-graph/MO_1510{day}/\")\n",
    "\n",
    "count_connections.agg(\n",
    "    F.avg(\"counter_buses_connections\").alias(\"avg\"),\n",
    "    F.stddev(\"counter_buses_connections\").alias(\"stddev\"),\n",
    "    F.max(\"counter_buses_connections\").alias(\"max\"),\n",
    "    F.min(\"counter_buses_connections\").alias(\"min\"),\n",
    ").show()\n",
    " \n",
    "quantiles = count_connections.approxQuantile(\"counter_buses_connections\", [0.25,0.5,0.75], 0.0001)\n",
    "print(quantiles)"
   ]
  },
  {
   "cell_type": "code",
   "execution_count": 22,
   "metadata": {},
   "outputs": [
    {
     "data": {
      "application/vnd.jupyter.widget-view+json": {
       "model_id": "7cd196f5784b4fb9bc6448151e14c1bb",
       "version_major": 2,
       "version_minor": 0
      },
      "text/plain": [
       "VBox()"
      ]
     },
     "metadata": {},
     "output_type": "display_data"
    },
    {
     "data": {
      "application/vnd.jupyter.widget-view+json": {
       "model_id": "",
       "version_major": 2,
       "version_minor": 0
      },
      "text/plain": [
       "FloatProgress(value=0.0, bar_style='info', description='Progress:', layout=Layout(height='25px', width='50%'),…"
      ]
     },
     "metadata": {},
     "output_type": "display_data"
    },
    {
     "name": "stdout",
     "output_type": "stream",
     "text": [
      "+------------------+--------------+\n",
      "|            region|count_register|\n",
      "+------------------+--------------+\n",
      "|       SANTO AMARO|        131948|\n",
      "|   JARDIM SAO LUIS|         87644|\n",
      "|           TATUAPE|         68982|\n",
      "|          ITAQUERA|         67701|\n",
      "|     CAPAO REDONDO|         59642|\n",
      "|            GRAJAU|         56224|\n",
      "|       PARELHEIROS|         40148|\n",
      "|              LAPA|         39494|\n",
      "|         PINHEIROS|         39172|\n",
      "|         REPUBLICA|         38813|\n",
      "|         JABAQUARA|         37459|\n",
      "|     JARDIM ANGELA|         36868|\n",
      "|             PENHA|         35551|\n",
      "|      CIDADE DUTRA|         34933|\n",
      "|          PEDREIRA|         30724|\n",
      "|      CACHOEIRINHA|         27567|\n",
      "|           SOCORRO|         27540|\n",
      "|       CAMPO LIMPO|         26798|\n",
      "|        SAO MATEUS|         26576|\n",
      "|           SANTANA|         24253|\n",
      "|       BARRA FUNDA|         23563|\n",
      "|    ITAIM PAULISTA|         23500|\n",
      "|       ARTUR ALVIM|         22580|\n",
      "| CIDADE TIRADENTES|         20813|\n",
      "|                SE|         20308|\n",
      "|          IPIRANGA|         19127|\n",
      "|         SAPOPEMBA|         18723|\n",
      "|     SANTA CECILIA|         18098|\n",
      "|        GUAIANASES|         17961|\n",
      "|        ITAIM BIBI|         16713|\n",
      "|          TREMEMBE|         16050|\n",
      "|      CIDADE LIDER|         15469|\n",
      "|            CARRAO|         14220|\n",
      "|           JAGUARA|         14118|\n",
      "|     VILA MEDEIROS|         13941|\n",
      "|           BUTANTA|         13432|\n",
      "|      VILA MARIANA|         13326|\n",
      "|          PIRITUBA|         12983|\n",
      "|    JOSE BONIFACIO|         12769|\n",
      "|             BELEM|         12304|\n",
      "|          TUCURUVI|         11861|\n",
      "|       BRASILANDIA|         11154|\n",
      "|     CIDADE ADEMAR|         10651|\n",
      "|           LAJEADO|         10005|\n",
      "|          MANDAQUI|          9404|\n",
      "|        SAO MIGUEL|          9228|\n",
      "|     VILA PRUDENTE|          8614|\n",
      "|              BRAS|          8343|\n",
      "|             MOEMA|          7992|\n",
      "|      CAMPO GRANDE|          7533|\n",
      "|   JARDIM PAULISTA|          6931|\n",
      "|    RAPOSO TAVARES|          6904|\n",
      "|       VILA CURUCA|          6525|\n",
      "|        VILA SONIA|          6432|\n",
      "|      SAO DOMINGOS|          6411|\n",
      "|             LIMAO|          6405|\n",
      "|        CONSOLACAO|          6215|\n",
      "|           JAGUARE|          5996|\n",
      "|         SAO LUCAS|          5313|\n",
      "|           JARAGUA|          4741|\n",
      "|        ARICANDUVA|          4654|\n",
      "|    FREGUESIA DO O|          4581|\n",
      "|            SACOMA|          3991|\n",
      "|          IGUATEMI|          3221|\n",
      "|        CAMPO BELO|          2903|\n",
      "|            JACANA|          2555|\n",
      "|             SAUDE|          2477|\n",
      "|        VILA JACUI|          2455|\n",
      "|        PONTE RASA|          2008|\n",
      "|      VILA FORMOSA|          1806|\n",
      "|        BELA VISTA|          1678|\n",
      "|        VILA MARIA|          1494|\n",
      "|             MOOCA|          1028|\n",
      "|      VILA MATILDE|           904|\n",
      "|     JARDIM HELENA|           711|\n",
      "|        CASA VERDE|           680|\n",
      "|        BOM RETIRO|           649|\n",
      "|       RIO PEQUENO|           584|\n",
      "|             PERUS|           280|\n",
      "|        SAO RAFAEL|           276|\n",
      "|          CANGAIBA|           275|\n",
      "|   PARQUE DO CARMO|           273|\n",
      "|    VILA GUILHERME|           195|\n",
      "|         AGUA RASA|           182|\n",
      "|ERMELINO MATARAZZO|           155|\n",
      "|         LIBERDADE|           124|\n",
      "|          PERDIZES|           111|\n",
      "|      VILA ANDRADE|            41|\n",
      "|           CAMBUCI|            20|\n",
      "|   VILA LEOPOLDINA|            17|\n",
      "|              PARI|            16|\n",
      "|           MORUMBI|            13|\n",
      "|        ANHANGUERA|             3|\n",
      "|           CURSINO|             2|\n",
      "+------------------+--------------+\n",
      "\n",
      "+----+--------------+\n",
      "|hour|count_register|\n",
      "+----+--------------+\n",
      "|  20|         95550|\n",
      "|   8|         91699|\n",
      "|  21|         91480|\n",
      "|   7|         91287|\n",
      "|  19|         91089|\n",
      "|  15|         89439|\n",
      "|  16|         88356|\n",
      "|   9|         88011|\n",
      "|  18|         85870|\n",
      "|  17|         85764|\n",
      "|  11|         85663|\n",
      "|  10|         85648|\n",
      "|  14|         84898|\n",
      "|   6|         81034|\n",
      "|  13|         80358|\n",
      "|  22|         79503|\n",
      "|  12|         79406|\n",
      "+----+--------------+\n",
      "\n",
      "vertices 8197926"
     ]
    }
   ],
   "source": [
    "# When the top vertix degree happed? and Where?\n",
    "import pyspark.sql.functions as F\n",
    "day = 1\n",
    "\n",
    "count_connections = spark.read.parquet(f\"s3://mobility-traces-sp/metrics-calculation/connectivity-metrics/vehicle-degree-per-graph/MO_1510{day}/\")\n",
    "\n",
    "df = count_connections.filter((F.col(\"counter_buses_connections\") > 7) & (F.col(\"counter_buses_connections\") <= 21))\n",
    "df.groupby(\"region\").agg(F.count(\"id_avl_1\").alias(\"count_register\")).sort(F.col(\"count_register\").desc()).show(96)\n",
    "df.groupby(\"hour\").agg(F.count(\"id_avl_1\").alias(\"count_register\")).sort(F.col(\"count_register\").desc()).show(96)\n",
    "print(\"vertices\",count_connections.count())"
   ]
  },
  {
   "cell_type": "code",
   "execution_count": null,
   "metadata": {},
   "outputs": [],
   "source": [
    "import pyspark.sql.functions as F\n",
    "\n",
    "# Creating a connection_id for each connection with the buses.\n",
    "# Connection_id = id_avl_1+id_avl_2 if id_avl_1 < id_avl_2\n",
    "# Connection_id = id_avl_2+id_avl_1 if id_avl_2 < id_avl_1\n",
    "\n",
    "day = 1\n",
    "\n",
    "df = spark.read.parquet(f\"s3://mobility-traces-sp/processed-data-avl-date/18-graphs-minutes-within-100m/MO_1510{day}/\")\n",
    "\n",
    "df = df.withColumn(\"connection_id\",\n",
    "    F.when(F.col(\"id_avl_1\") < F.col(\"id_avl_2\"), F.concat(F.col(\"id_avl_1\"),F.lit(\"-\"),F.col(\"id_avl_2\")))\n",
    "    .otherwise(F.concat(F.col(\"id_avl_2\"),F.lit(\"-\"),F.col(\"id_avl_1\"))))\n",
    "\n",
    "df = df.repartition(\"graph_id\")\n",
    "\n",
    "df.write.parquet(f\"s3://mobility-traces-sp/processed-data-avl-date/19-graphs-minutes-within-100m-with-cnnection-id/MO_1510{day}/\")"
   ]
  },
  {
   "cell_type": "code",
   "execution_count": 49,
   "metadata": {},
   "outputs": [
    {
     "data": {
      "application/vnd.jupyter.widget-view+json": {
       "model_id": "b9f0d09cba7d4c1bb4f0f3c7f1d46900",
       "version_major": 2,
       "version_minor": 0
      },
      "text/plain": [
       "VBox()"
      ]
     },
     "metadata": {},
     "output_type": "display_data"
    },
    {
     "data": {
      "application/vnd.jupyter.widget-view+json": {
       "model_id": "",
       "version_major": 2,
       "version_minor": 0
      },
      "text/plain": [
       "FloatProgress(value=0.0, bar_style='info', description='Progress:', layout=Layout(height='25px', width='50%'),…"
      ]
     },
     "metadata": {},
     "output_type": "display_data"
    },
    {
     "name": "stdout",
     "output_type": "stream",
     "text": [
      "+-----------------+-----------------+---+---+\n",
      "|              avg|           stddev|max|min|\n",
      "+-----------------+-----------------+---+---+\n",
      "|5.098736130373099|10.74065307404639|858|  1|\n",
      "+-----------------+-----------------+---+---+\n",
      "\n",
      "[1.0, 2.0, 5.0]"
     ]
    }
   ],
   "source": [
    "# Number of repeated connections per day/duration of the connections\n",
    "\n",
    "import pyspark.sql.functions as F\n",
    "\n",
    "day = 1\n",
    "\n",
    "df = spark.read.parquet(f\"s3://mobility-traces-sp/processed-data-avl-date/19-graphs-minutes-within-100m-with-cnnection-id/MO_1510{day}/\")\n",
    "\n",
    "df = df.drop_duplicates(subset=[\"connection_id\",\"graph_id\"])\n",
    "\n",
    "df_counts = df.groupby(\"connection_id\").agg(F.count(\"connection_id\").alias(\"count_per_day\"))\n",
    "\n",
    "df_counts.agg(\n",
    "    F.avg(\"count_per_day\").alias(\"avg\"),\n",
    "    F.stddev(\"count_per_day\").alias(\"stddev\"),\n",
    "    F.max(\"count_per_day\").alias(\"max\"),\n",
    "    F.min(\"count_per_day\").alias(\"min\"),\n",
    ").show()\n",
    " \n",
    "quantiles = df_counts.approxQuantile(\"count_per_day\", [0.25,0.5,0.75], 0.0001)\n",
    "print(quantiles)"
   ]
  },
  {
   "cell_type": "code",
   "execution_count": 27,
   "metadata": {},
   "outputs": [
    {
     "data": {
      "application/vnd.jupyter.widget-view+json": {
       "model_id": "9028feaf7e3f4d01b83e2533e5569912",
       "version_major": 2,
       "version_minor": 0
      },
      "text/plain": [
       "VBox()"
      ]
     },
     "metadata": {},
     "output_type": "display_data"
    },
    {
     "data": {
      "application/vnd.jupyter.widget-view+json": {
       "model_id": "",
       "version_major": 2,
       "version_minor": 0
      },
      "text/plain": [
       "FloatProgress(value=0.0, bar_style='info', description='Progress:', layout=Layout(height='25px', width='50%'),…"
      ]
     },
     "metadata": {},
     "output_type": "display_data"
    }
   ],
   "source": [
    "# Saving count of repeated connections\n",
    "\n",
    "import pyspark.sql.functions as F\n",
    "\n",
    "day = 12\n",
    "\n",
    "df = spark.read.parquet(f\"s3://mobility-traces-sp/processed-data-avl-date/19-graphs-minutes-within-100m-with-cnnection-id/MO_1510{day}/\")\n",
    "\n",
    "df = df.drop_duplicates(subset=[\"connection_id\",\"graph_id\"])\n",
    "\n",
    "df_counts = df.groupby(\"connection_id\").agg(F.count(\"connection_id\").alias(\"count_per_day\"))\n",
    "\n",
    "df_counts.write.parquet(f\"s3://mobility-traces-sp/metrics-calculation/connectivity-metrics/repeated-connection-per-day/MO_1510{day}\")\n"
   ]
  },
  {
   "cell_type": "code",
   "execution_count": 19,
   "metadata": {},
   "outputs": [
    {
     "data": {
      "application/vnd.jupyter.widget-view+json": {
       "model_id": "9a9a772db6114c15b7ea7bc8192ceaf5",
       "version_major": 2,
       "version_minor": 0
      },
      "text/plain": [
       "VBox()"
      ]
     },
     "metadata": {},
     "output_type": "display_data"
    },
    {
     "data": {
      "application/vnd.jupyter.widget-view+json": {
       "model_id": "",
       "version_major": 2,
       "version_minor": 0
      },
      "text/plain": [
       "FloatProgress(value=0.0, bar_style='info', description='Progress:', layout=Layout(height='25px', width='50%'),…"
      ]
     },
     "metadata": {},
     "output_type": "display_data"
    },
    {
     "name": "stdout",
     "output_type": "stream",
     "text": [
      "+--------------------+\n",
      "|number_distinct_conn|\n",
      "+--------------------+\n",
      "|             5021404|\n",
      "+--------------------+\n",
      "\n",
      "+-------------+\n",
      "|total_per_day|\n",
      "+-------------+\n",
      "|     25602814|\n",
      "+-------------+"
     ]
    }
   ],
   "source": [
    "# Total number of distinct connections per day\n",
    "import pyspark.sql.functions as F\n",
    "\n",
    "day = 1\n",
    "connections = spark.read.parquet(f\"s3://mobility-traces-sp/processed-data-avl-date/19-graphs-minutes-within-100m-with-cnnection-id/MO_1510{day}/\")\n",
    "\n",
    "connections.agg(F. countDistinct(\"connection_id\").alias(\"number_distinct_conn\")).show()\n",
    "connections.groupby(\"graph_id\",\"connection_id\").agg(F.countDistinct(\"connection_id\").alias(\"count_novo\"))\\\n",
    "    .agg(F.sum(\"count_novo\").alias(\"total_per_day\")).show()"
   ]
  },
  {
   "cell_type": "code",
   "execution_count": 20,
   "metadata": {},
   "outputs": [
    {
     "data": {
      "application/vnd.jupyter.widget-view+json": {
       "model_id": "1c2ddeb5ed2a4c40afdab0f797ebbbee",
       "version_major": 2,
       "version_minor": 0
      },
      "text/plain": [
       "VBox()"
      ]
     },
     "metadata": {},
     "output_type": "display_data"
    },
    {
     "data": {
      "application/vnd.jupyter.widget-view+json": {
       "model_id": "",
       "version_major": 2,
       "version_minor": 0
      },
      "text/plain": [
       "FloatProgress(value=0.0, bar_style='info', description='Progress:', layout=Layout(height='25px', width='50%'),…"
      ]
     },
     "metadata": {},
     "output_type": "display_data"
    },
    {
     "name": "stdout",
     "output_type": "stream",
     "text": [
      "+--------------------+\n",
      "|number_distinct_conn|\n",
      "+--------------------+\n",
      "|             1132836|\n",
      "+--------------------+\n",
      "\n",
      "+-------------+\n",
      "|total_per_day|\n",
      "+-------------+\n",
      "|      8013742|\n",
      "+-------------+"
     ]
    }
   ],
   "source": [
    "# Total number of connections per day\n",
    "import pyspark.sql.functions as F\n",
    "\n",
    "day = 4\n",
    "connections = spark.read.parquet(f\"s3://mobility-traces-sp/processed-data-avl-date/19-graphs-minutes-within-100m-with-cnnection-id/MO_1510{day}/\")\n",
    "\n",
    "connections.agg(F. countDistinct(\"connection_id\").alias(\"number_distinct_conn\")).show()\n",
    "connections.groupby(\"graph_id\",\"connection_id\").agg(F.countDistinct(\"connection_id\").alias(\"count_novo\"))\\\n",
    "    .agg(F.sum(\"count_novo\").alias(\"total_per_day\")).show()"
   ]
  },
  {
   "cell_type": "code",
   "execution_count": 15,
   "metadata": {},
   "outputs": [
    {
     "data": {
      "application/vnd.jupyter.widget-view+json": {
       "model_id": "0261435716f2464f88ba90a6642d0479",
       "version_major": 2,
       "version_minor": 0
      },
      "text/plain": [
       "VBox()"
      ]
     },
     "metadata": {},
     "output_type": "display_data"
    },
    {
     "data": {
      "application/vnd.jupyter.widget-view+json": {
       "model_id": "",
       "version_major": 2,
       "version_minor": 0
      },
      "text/plain": [
       "FloatProgress(value=0.0, bar_style='info', description='Progress:', layout=Layout(height='25px', width='50%'),…"
      ]
     },
     "metadata": {},
     "output_type": "display_data"
    }
   ],
   "source": [
    "# Total number of connections per region\n",
    "import pyspark.sql.functions as F\n",
    "\n",
    "day = 1\n",
    "\n",
    "connections = spark.read.parquet(f\"s3://mobility-traces-sp/processed-data-avl-date/19-graphs-minutes-within-100m-with-cnnection-id/MO_1510{day}/\")\n",
    "\n",
    "df = connections.groupby(\"hour_avl\",\"minute_avl\",\"region\").agg(F.countDistinct(\"connection_id\").alias(\"count_novo\"))\n",
    "# df.groupby(\"hour_avl\").agg(F.sum(\"count_novo\").alias(\"total_per_day\")).show()\n",
    "df.groupby(\"region\").agg(F.sum(\"count_novo\").alias(\"total_per_day\"))\\\n",
    "    .write.parquet(f\"s3://mobility-traces-sp/metrics-calculation/connectivity-metrics/region-conn/MO_1510{day}-2/\")"
   ]
  },
  {
   "cell_type": "code",
   "execution_count": 11,
   "metadata": {},
   "outputs": [
    {
     "data": {
      "application/vnd.jupyter.widget-view+json": {
       "model_id": "895f15b5c34e433289cbd518119d6645",
       "version_major": 2,
       "version_minor": 0
      },
      "text/plain": [
       "VBox()"
      ]
     },
     "metadata": {},
     "output_type": "display_data"
    },
    {
     "data": {
      "application/vnd.jupyter.widget-view+json": {
       "model_id": "",
       "version_major": 2,
       "version_minor": 0
      },
      "text/plain": [
       "FloatProgress(value=0.0, bar_style='info', description='Progress:', layout=Layout(height='25px', width='50%'),…"
      ]
     },
     "metadata": {},
     "output_type": "display_data"
    },
    {
     "name": "stdout",
     "output_type": "stream",
     "text": [
      "+--------+-------------+\n",
      "|hour_avl|total_per_day|\n",
      "+--------+-------------+\n",
      "|      18|       479570|\n",
      "|      21|       539537|\n",
      "|      17|       470792|\n",
      "|      19|       519058|\n",
      "|      22|       585297|\n",
      "|       6|       434444|\n",
      "|       9|       432817|\n",
      "|      10|       447487|\n",
      "|      12|       442759|\n",
      "|      11|       452778|\n",
      "|      13|       445037|\n",
      "|      14|       460295|\n",
      "|      15|       476463|\n",
      "|       7|       437406|\n",
      "|       8|       426251|\n",
      "|      20|       485790|\n",
      "|      16|       477961|\n",
      "+--------+-------------+"
     ]
    }
   ],
   "source": [
    "# Total number of connections per hour\n",
    "import pyspark.sql.functions as F\n",
    "\n",
    "day = 4\n",
    "\n",
    "connections = spark.read.parquet(f\"s3://mobility-traces-sp/processed-data-avl-date/19-graphs-minutes-within-100m-with-cnnection-id/MO_1510{day}/\")\n",
    "\n",
    "df = connections.groupby(\"hour_avl\",\"minute_avl\",\"region\").agg(F.countDistinct(\"connection_id\").alias(\"count_novo\"))\n",
    "# df.groupby(\"hour_avl\").agg(F.sum(\"count_novo\").alias(\"total_per_day\")).show()\n",
    "df.groupby(\"hour_avl\").agg(F.sum(\"count_novo\").alias(\"total_per_day\")).show(100)"
   ]
  },
  {
   "cell_type": "code",
   "execution_count": 33,
   "metadata": {},
   "outputs": [
    {
     "data": {
      "application/vnd.jupyter.widget-view+json": {
       "model_id": "aee05b6acf0741fe98b4ef286142a244",
       "version_major": 2,
       "version_minor": 0
      },
      "text/plain": [
       "VBox()"
      ]
     },
     "metadata": {},
     "output_type": "display_data"
    },
    {
     "data": {
      "application/vnd.jupyter.widget-view+json": {
       "model_id": "",
       "version_major": 2,
       "version_minor": 0
      },
      "text/plain": [
       "FloatProgress(value=0.0, bar_style='info', description='Progress:', layout=Layout(height='25px', width='50%'),…"
      ]
     },
     "metadata": {},
     "output_type": "display_data"
    }
   ],
   "source": [
    "# filtering data to plot on map\n",
    "import pyspark.sql.functions as F\n",
    "day = 1\n",
    "# connections = [\"13975-14010\",\"9134-9309\",\"35812-35908\",\"37220-38073\",\"39791-40346\",\"11665-47162\",\"11336-11670\",\"39297-40590\"]\n",
    "# connections_1 = [\"9981-11048\",\"38760-38795\",\"11984-12402\",\"39884-40427\",\"9673-9745\",\"42020-56337\",\"40749-57946\",\"42020-56337\",\"11007-44874\",\n",
    "#                  \"12006-12563\",\n",
    "#                 \"42562-56472\",\n",
    "#                 \"36796-42263\",\n",
    "#                 \"13367-40693\",\n",
    "#                 \"42857-52386\",\n",
    "#                 \"38682-43707\",\n",
    "#                 \"38682-43707\",\n",
    "#                 \"35758-51310\",\n",
    "#                 \"35205-58436\",\n",
    "#                 \"42577-57502\",\n",
    "#                 \"11386-38742\",\n",
    "#                 \"8563-56600\",\n",
    "#                  \"8565-47053\",\n",
    "#                 \"38301-41485\", \n",
    "#                 \"42046-56550\",\n",
    "#                 \"14408-37912\",]\n",
    "c3 = [\"38682-43707\",\n",
    "\"35758-51310\",\n",
    "\"35205-58436\",\n",
    "\"42577-57502\",\n",
    "\"11386-38742\",\n",
    "\"8563-56600\",\n",
    "\"8565-47053\",\n",
    "\"38301-41485\",\n",
    "\"42046-56550\",\n",
    "\"14408-37912\"]\n",
    "\n",
    "traces = spark.read.parquet(f\"s3://mobility-traces-sp/processed-data-avl-date/19-graphs-minutes-within-100m-with-cnnection-id/MO_1510{day}/\")\n",
    "df_novo = traces.filter(F.col(\"connection_id\").isin(c3)).drop_duplicates(subset=[\"graph_id\",\"connection_id\"])\n",
    "df_novo.write.parquet(f\"s3://mobility-traces-sp/metrics-calculation/connectivity-metrics/testing-plotting-map/MO_1510{day}-8/\")"
   ]
  },
  {
   "cell_type": "code",
   "execution_count": 28,
   "metadata": {},
   "outputs": [
    {
     "data": {
      "application/vnd.jupyter.widget-view+json": {
       "model_id": "3dd46f0ba6e346ae8b53b4b3241e6f34",
       "version_major": 2,
       "version_minor": 0
      },
      "text/plain": [
       "VBox()"
      ]
     },
     "metadata": {},
     "output_type": "display_data"
    },
    {
     "data": {
      "application/vnd.jupyter.widget-view+json": {
       "model_id": "",
       "version_major": 2,
       "version_minor": 0
      },
      "text/plain": [
       "FloatProgress(value=0.0, bar_style='info', description='Progress:', layout=Layout(height='25px', width='50%'),…"
      ]
     },
     "metadata": {},
     "output_type": "display_data"
    },
    {
     "name": "stdout",
     "output_type": "stream",
     "text": [
      "+-----------------+------------------+---+---+\n",
      "|              avg|            stddev|max|min|\n",
      "+-----------------+------------------+---+---+\n",
      "|5.098736130373099|10.740653074046444|858|  1|\n",
      "+-----------------+------------------+---+---+\n",
      "\n",
      "[1.0, 2.0, 5.0]"
     ]
    }
   ],
   "source": [
    "day = 1\n",
    "df = spark.read.parquet(f\"s3://mobility-traces-sp/metrics-calculation/connectivity-metrics/repeated-connection-per-day/MO_1510{day}/\")\n",
    "\n",
    "df.agg(\n",
    "    F.avg(\"count_per_day\").alias(\"avg\"),\n",
    "    F.stddev(\"count_per_day\").alias(\"stddev\"),\n",
    "    F.max(\"count_per_day\").alias(\"max\"),\n",
    "    F.min(\"count_per_day\").alias(\"min\"),\n",
    ").show()\n",
    " \n",
    "quantiles = df.approxQuantile(\"count_per_day\", [0.25,0.5,0.75], 0.0001)\n",
    "print(quantiles)"
   ]
  },
  {
   "cell_type": "code",
   "execution_count": 29,
   "metadata": {},
   "outputs": [
    {
     "data": {
      "application/vnd.jupyter.widget-view+json": {
       "model_id": "0d08c0f73b4648e0a93ca8596efae440",
       "version_major": 2,
       "version_minor": 0
      },
      "text/plain": [
       "VBox()"
      ]
     },
     "metadata": {},
     "output_type": "display_data"
    },
    {
     "data": {
      "application/vnd.jupyter.widget-view+json": {
       "model_id": "",
       "version_major": 2,
       "version_minor": 0
      },
      "text/plain": [
       "FloatProgress(value=0.0, bar_style='info', description='Progress:', layout=Layout(height='25px', width='50%'),…"
      ]
     },
     "metadata": {},
     "output_type": "display_data"
    },
    {
     "name": "stdout",
     "output_type": "stream",
     "text": [
      "+-----------------+------------------+---+---+\n",
      "|              avg|            stddev|max|min|\n",
      "+-----------------+------------------+---+---+\n",
      "|5.239781710781897|11.346529878417398|850|  1|\n",
      "+-----------------+------------------+---+---+\n",
      "\n",
      "[1.0, 2.0, 5.0]"
     ]
    }
   ],
   "source": [
    "day = 20\n",
    "df = spark.read.parquet(f\"s3://mobility-traces-sp/metrics-calculation/connectivity-metrics/repeated-connection-per-day/MO_1510{day}/\")\n",
    "\n",
    "df.agg(\n",
    "    F.avg(\"count_per_day\").alias(\"avg\"),\n",
    "    F.stddev(\"count_per_day\").alias(\"stddev\"),\n",
    "    F.max(\"count_per_day\").alias(\"max\"),\n",
    "    F.min(\"count_per_day\").alias(\"min\"),\n",
    ").show()\n",
    " \n",
    "quantiles = df.approxQuantile(\"count_per_day\", [0.25,0.5,0.75], 0.0001)\n",
    "print(quantiles)"
   ]
  },
  {
   "cell_type": "code",
   "execution_count": 30,
   "metadata": {},
   "outputs": [
    {
     "data": {
      "application/vnd.jupyter.widget-view+json": {
       "model_id": "f2d6ecc5990d47ad9ece3b90cefeeb6e",
       "version_major": 2,
       "version_minor": 0
      },
      "text/plain": [
       "VBox()"
      ]
     },
     "metadata": {},
     "output_type": "display_data"
    },
    {
     "data": {
      "application/vnd.jupyter.widget-view+json": {
       "model_id": "",
       "version_major": 2,
       "version_minor": 0
      },
      "text/plain": [
       "FloatProgress(value=0.0, bar_style='info', description='Progress:', layout=Layout(height='25px', width='50%'),…"
      ]
     },
     "metadata": {},
     "output_type": "display_data"
    },
    {
     "name": "stdout",
     "output_type": "stream",
     "text": [
      "+-----------------+-----------------+----+---+\n",
      "|              avg|           stddev| max|min|\n",
      "+-----------------+-----------------+----+---+\n",
      "|7.074053084471186|26.74176288941452|1001|  1|\n",
      "+-----------------+-----------------+----+---+\n",
      "\n",
      "[1.0, 2.0, 5.0]"
     ]
    }
   ],
   "source": [
    "day = 4\n",
    "df = spark.read.parquet(f\"s3://mobility-traces-sp/metrics-calculation/connectivity-metrics/repeated-connection-per-day/MO_1510{day}/\")\n",
    "\n",
    "df.agg(\n",
    "    F.avg(\"count_per_day\").alias(\"avg\"),\n",
    "    F.stddev(\"count_per_day\").alias(\"stddev\"),\n",
    "    F.max(\"count_per_day\").alias(\"max\"),\n",
    "    F.min(\"count_per_day\").alias(\"min\"),\n",
    ").show()\n",
    " \n",
    "quantiles = df.approxQuantile(\"count_per_day\", [0.25,0.5,0.75], 0.0001)\n",
    "print(quantiles)"
   ]
  },
  {
   "cell_type": "code",
   "execution_count": 31,
   "metadata": {},
   "outputs": [
    {
     "data": {
      "application/vnd.jupyter.widget-view+json": {
       "model_id": "e52ff63561024158b3e11be21a316ef2",
       "version_major": 2,
       "version_minor": 0
      },
      "text/plain": [
       "VBox()"
      ]
     },
     "metadata": {},
     "output_type": "display_data"
    },
    {
     "data": {
      "application/vnd.jupyter.widget-view+json": {
       "model_id": "",
       "version_major": 2,
       "version_minor": 0
      },
      "text/plain": [
       "FloatProgress(value=0.0, bar_style='info', description='Progress:', layout=Layout(height='25px', width='50%'),…"
      ]
     },
     "metadata": {},
     "output_type": "display_data"
    },
    {
     "name": "stdout",
     "output_type": "stream",
     "text": [
      "+----------------+-----------------+---+---+\n",
      "|             avg|           stddev|max|min|\n",
      "+----------------+-----------------+---+---+\n",
      "|7.45246349483829|29.10027859255961|987|  1|\n",
      "+----------------+-----------------+---+---+\n",
      "\n",
      "[1.0, 2.0, 6.0]"
     ]
    }
   ],
   "source": [
    "day = 12\n",
    "df = spark.read.parquet(f\"s3://mobility-traces-sp/metrics-calculation/connectivity-metrics/repeated-connection-per-day/MO_1510{day}/\")\n",
    "\n",
    "df.agg(\n",
    "    F.avg(\"count_per_day\").alias(\"avg\"),\n",
    "    F.stddev(\"count_per_day\").alias(\"stddev\"),\n",
    "    F.max(\"count_per_day\").alias(\"max\"),\n",
    "    F.min(\"count_per_day\").alias(\"min\"),\n",
    ").show()\n",
    " \n",
    "quantiles = df.approxQuantile(\"count_per_day\", [0.25,0.5,0.75], 0.0001)\n",
    "print(quantiles)"
   ]
  },
  {
   "cell_type": "code",
   "execution_count": 32,
   "metadata": {},
   "outputs": [
    {
     "data": {
      "application/vnd.jupyter.widget-view+json": {
       "model_id": "8d030696e15245dea23a696032d13c9a",
       "version_major": 2,
       "version_minor": 0
      },
      "text/plain": [
       "VBox()"
      ]
     },
     "metadata": {},
     "output_type": "display_data"
    },
    {
     "data": {
      "application/vnd.jupyter.widget-view+json": {
       "model_id": "",
       "version_major": 2,
       "version_minor": 0
      },
      "text/plain": [
       "FloatProgress(value=0.0, bar_style='info', description='Progress:', layout=Layout(height='25px', width='50%'),…"
      ]
     },
     "metadata": {},
     "output_type": "display_data"
    },
    {
     "name": "stdout",
     "output_type": "stream",
     "text": [
      "+-----------------+-----------------+---+---+\n",
      "|              avg|           stddev|max|min|\n",
      "+-----------------+-----------------+---+---+\n",
      "|6.429004381135884|20.39699195599561|994|  1|\n",
      "+-----------------+-----------------+---+---+\n",
      "\n",
      "[1.0, 2.0, 5.0]"
     ]
    }
   ],
   "source": [
    "day = 17\n",
    "df = spark.read.parquet(f\"s3://mobility-traces-sp/metrics-calculation/connectivity-metrics/repeated-connection-per-day/MO_1510{day}/\")\n",
    "\n",
    "df.agg(\n",
    "    F.avg(\"count_per_day\").alias(\"avg\"),\n",
    "    F.stddev(\"count_per_day\").alias(\"stddev\"),\n",
    "    F.max(\"count_per_day\").alias(\"max\"),\n",
    "    F.min(\"count_per_day\").alias(\"min\"),\n",
    ").show()\n",
    " \n",
    "quantiles = df.approxQuantile(\"count_per_day\", [0.25,0.5,0.75], 0.0001)\n",
    "print(quantiles)"
   ]
  },
  {
   "cell_type": "code",
   "execution_count": 5,
   "metadata": {},
   "outputs": [
    {
     "data": {
      "application/vnd.jupyter.widget-view+json": {
       "model_id": "5a47890c220c4430b88f0099f2a3a432",
       "version_major": 2,
       "version_minor": 0
      },
      "text/plain": [
       "VBox()"
      ]
     },
     "metadata": {},
     "output_type": "display_data"
    },
    {
     "data": {
      "application/vnd.jupyter.widget-view+json": {
       "model_id": "",
       "version_major": 2,
       "version_minor": 0
      },
      "text/plain": [
       "FloatProgress(value=0.0, bar_style='info', description='Progress:', layout=Layout(height='25px', width='50%'),…"
      ]
     },
     "metadata": {},
     "output_type": "display_data"
    },
    {
     "name": "stdout",
     "output_type": "stream",
     "text": [
      "+--------+----------+-------+\n",
      "|hour_avl|minute_avl|region |\n",
      "+--------+----------+-------+\n",
      "|19      |29        |JAGUARA|\n",
      "|19      |30        |JAGUARA|\n",
      "|19      |31        |JAGUARA|\n",
      "|19      |32        |JAGUARA|\n",
      "|19      |33        |JAGUARA|\n",
      "|19      |34        |JAGUARA|\n",
      "|19      |36        |JAGUARA|\n",
      "|19      |37        |JAGUARA|\n",
      "|19      |39        |JAGUARA|\n",
      "|19      |40        |JAGUARA|\n",
      "|19      |41        |JAGUARA|\n",
      "|19      |42        |JAGUARA|\n",
      "|19      |43        |JAGUARA|\n",
      "|19      |44        |JAGUARA|\n",
      "|19      |45        |JAGUARA|\n",
      "|19      |47        |JAGUARA|\n",
      "|19      |48        |JAGUARA|\n",
      "|19      |49        |JAGUARA|\n",
      "|19      |50        |JAGUARA|\n",
      "|19      |51        |JAGUARA|\n",
      "|19      |52        |JAGUARA|\n",
      "|19      |53        |JAGUARA|\n",
      "|19      |54        |JAGUARA|\n",
      "|19      |55        |JAGUARA|\n",
      "|19      |56        |JAGUARA|\n",
      "|19      |57        |JAGUARA|\n",
      "|19      |58        |JAGUARA|\n",
      "|19      |59        |JAGUARA|\n",
      "|20      |0         |JAGUARA|\n",
      "|20      |1         |JAGUARA|\n",
      "|20      |2         |JAGUARA|\n",
      "|20      |3         |JAGUARA|\n",
      "|20      |4         |JAGUARA|\n",
      "|20      |5         |JAGUARA|\n",
      "|20      |6         |JAGUARA|\n",
      "|20      |7         |JAGUARA|\n",
      "|20      |8         |JAGUARA|\n",
      "|20      |9         |JAGUARA|\n",
      "|20      |10        |JAGUARA|\n",
      "|20      |11        |JAGUARA|\n",
      "|20      |12        |JAGUARA|\n",
      "|20      |13        |JAGUARA|\n",
      "|20      |14        |JAGUARA|\n",
      "|20      |15        |JAGUARA|\n",
      "|20      |16        |JAGUARA|\n",
      "|20      |17        |JAGUARA|\n",
      "|20      |18        |JAGUARA|\n",
      "|20      |19        |JAGUARA|\n",
      "|20      |20        |JAGUARA|\n",
      "|20      |21        |JAGUARA|\n",
      "|20      |22        |JAGUARA|\n",
      "|20      |23        |JAGUARA|\n",
      "|20      |24        |JAGUARA|\n",
      "|20      |25        |JAGUARA|\n",
      "|20      |26        |JAGUARA|\n",
      "|20      |27        |JAGUARA|\n",
      "|20      |28        |JAGUARA|\n",
      "|20      |30        |JAGUARA|\n",
      "|20      |31        |JAGUARA|\n",
      "|20      |32        |JAGUARA|\n",
      "|20      |33        |JAGUARA|\n",
      "|20      |34        |JAGUARA|\n",
      "|20      |35        |JAGUARA|\n",
      "|20      |36        |JAGUARA|\n",
      "|20      |37        |JAGUARA|\n",
      "|20      |38        |JAGUARA|\n",
      "|20      |39        |JAGUARA|\n",
      "|20      |40        |JAGUARA|\n",
      "|20      |41        |JAGUARA|\n",
      "|20      |42        |JAGUARA|\n",
      "|20      |43        |JAGUARA|\n",
      "|20      |44        |JAGUARA|\n",
      "|20      |45        |JAGUARA|\n",
      "|20      |46        |JAGUARA|\n",
      "|20      |47        |JAGUARA|\n",
      "|20      |48        |JAGUARA|\n",
      "|20      |49        |JAGUARA|\n",
      "|20      |50        |JAGUARA|\n",
      "|20      |51        |JAGUARA|\n",
      "|20      |52        |JAGUARA|\n",
      "|20      |53        |JAGUARA|\n",
      "|20      |54        |JAGUARA|\n",
      "|20      |55        |JAGUARA|\n",
      "|20      |56        |JAGUARA|\n",
      "|20      |57        |JAGUARA|\n",
      "|20      |58        |JAGUARA|\n",
      "|20      |59        |JAGUARA|\n",
      "|21      |0         |JAGUARA|\n",
      "|21      |1         |JAGUARA|\n",
      "|21      |2         |JAGUARA|\n",
      "|21      |3         |JAGUARA|\n",
      "|21      |4         |JAGUARA|\n",
      "|21      |5         |JAGUARA|\n",
      "|21      |6         |JAGUARA|\n",
      "|21      |7         |JAGUARA|\n",
      "|21      |8         |JAGUARA|\n",
      "|21      |9         |JAGUARA|\n",
      "|21      |10        |JAGUARA|\n",
      "|21      |11        |JAGUARA|\n",
      "|21      |12        |JAGUARA|\n",
      "|21      |13        |JAGUARA|\n",
      "|21      |14        |JAGUARA|\n",
      "|21      |15        |JAGUARA|\n",
      "|21      |16        |JAGUARA|\n",
      "|21      |17        |JAGUARA|\n",
      "|21      |18        |JAGUARA|\n",
      "|21      |19        |JAGUARA|\n",
      "|21      |20        |JAGUARA|\n",
      "|21      |21        |JAGUARA|\n",
      "|21      |22        |JAGUARA|\n",
      "|21      |23        |JAGUARA|\n",
      "|21      |24        |JAGUARA|\n",
      "|21      |25        |JAGUARA|\n",
      "|21      |26        |JAGUARA|\n",
      "|21      |27        |JAGUARA|\n",
      "|21      |28        |JAGUARA|\n",
      "|21      |29        |JAGUARA|\n",
      "|21      |30        |JAGUARA|\n",
      "|21      |31        |JAGUARA|\n",
      "|21      |32        |JAGUARA|\n",
      "|21      |33        |JAGUARA|\n",
      "|21      |34        |JAGUARA|\n",
      "|21      |35        |JAGUARA|\n",
      "|21      |36        |JAGUARA|\n",
      "|21      |38        |JAGUARA|\n",
      "|21      |39        |JAGUARA|\n",
      "|21      |40        |JAGUARA|\n",
      "|21      |41        |JAGUARA|\n",
      "|21      |42        |JAGUARA|\n",
      "|21      |43        |JAGUARA|\n",
      "|21      |44        |JAGUARA|\n",
      "|21      |45        |JAGUARA|\n",
      "|21      |46        |JAGUARA|\n",
      "|21      |47        |JAGUARA|\n",
      "|21      |48        |JAGUARA|\n",
      "|21      |49        |JAGUARA|\n",
      "|21      |50        |JAGUARA|\n",
      "|21      |52        |JAGUARA|\n",
      "|21      |53        |JAGUARA|\n",
      "|21      |54        |JAGUARA|\n",
      "|21      |55        |JAGUARA|\n",
      "|21      |56        |JAGUARA|\n",
      "|21      |57        |JAGUARA|\n",
      "|21      |58        |JAGUARA|\n",
      "|21      |59        |JAGUARA|\n",
      "|22      |0         |JAGUARA|\n",
      "|22      |1         |JAGUARA|\n",
      "|22      |2         |JAGUARA|\n",
      "|22      |3         |JAGUARA|\n",
      "|22      |4         |JAGUARA|\n",
      "|22      |5         |JAGUARA|\n",
      "|22      |7         |JAGUARA|\n",
      "|22      |8         |JAGUARA|\n",
      "|22      |9         |JAGUARA|\n",
      "|22      |10        |JAGUARA|\n",
      "|22      |11        |JAGUARA|\n",
      "|22      |12        |JAGUARA|\n",
      "|22      |13        |JAGUARA|\n",
      "|22      |14        |JAGUARA|\n",
      "|22      |15        |JAGUARA|\n",
      "|22      |16        |JAGUARA|\n",
      "|22      |17        |JAGUARA|\n",
      "|22      |18        |JAGUARA|\n",
      "|22      |19        |JAGUARA|\n",
      "|22      |20        |JAGUARA|\n",
      "|22      |21        |JAGUARA|\n",
      "|22      |22        |JAGUARA|\n",
      "|22      |23        |JAGUARA|\n",
      "|22      |24        |JAGUARA|\n",
      "|22      |25        |JAGUARA|\n",
      "|22      |26        |JAGUARA|\n",
      "|22      |28        |JAGUARA|\n",
      "|22      |29        |JAGUARA|\n",
      "|22      |30        |JAGUARA|\n",
      "|22      |31        |JAGUARA|\n",
      "|22      |32        |JAGUARA|\n",
      "|22      |33        |JAGUARA|\n",
      "|22      |34        |JAGUARA|\n",
      "|22      |35        |JAGUARA|\n",
      "|22      |36        |JAGUARA|\n",
      "|22      |37        |JAGUARA|\n",
      "|22      |38        |JAGUARA|\n",
      "|22      |39        |JAGUARA|\n",
      "|22      |40        |JAGUARA|\n",
      "|22      |41        |JAGUARA|\n",
      "|22      |43        |JAGUARA|\n",
      "|22      |44        |JAGUARA|\n",
      "|22      |45        |JAGUARA|\n",
      "|22      |46        |JAGUARA|\n",
      "|22      |47        |JAGUARA|\n",
      "|22      |49        |JAGUARA|\n",
      "|22      |50        |JAGUARA|\n",
      "|22      |52        |JAGUARA|\n",
      "|22      |53        |JAGUARA|\n",
      "|22      |54        |JAGUARA|\n",
      "|22      |55        |JAGUARA|\n",
      "|22      |56        |JAGUARA|\n",
      "|22      |57        |JAGUARA|\n",
      "|22      |58        |JAGUARA|\n",
      "|22      |59        |JAGUARA|\n",
      "+--------+----------+-------+"
     ]
    }
   ],
   "source": [
    "# Verifying timestamps of connections\n",
    "import pyspark.sql.functions as F\n",
    "\n",
    "connection = \"14408-37912\"\n",
    "traces = spark.read.parquet(f\"s3://mobility-traces-sp/processed-data-avl-date/19-graphs-minutes-within-100m-with-cnnection-id/MO_1510{1}/\")\n",
    "traces.drop_duplicates(subset=[\"graph_id\",\"connection_id\"]).filter(f\"connection_id == '11984-12402'\").select(\"hour_avl\",\"minute_avl\",\"region\").sort(F.col(\"hour_avl\"),F.col(\"minute_avl\")).show(1000,False)"
   ]
  },
  {
   "cell_type": "code",
   "execution_count": null,
   "metadata": {},
   "outputs": [],
   "source": [
    "diferentes-bairros-14408-37912.png --> momentos diferentes do dia e em regioes distintas (12:15 --> Socorro, 13:21 --> Cidade Dutra, 10:31 --> Socorro)\n",
    "\n",
    "    \n",
    "curto-espaco-de-tempo - 9:17,9:18,9:20  - na regiao de vila mariana  \n",
    "encontro-8565-47053 - Se encontram as 17:14, 13:50, 9:27 em sao lucas\n",
    "lugares-diferente - 16:26/16:28,16:30, 32, tatuape, 9:49 carrao\n",
    "terminal rua 42020-56337 - se encontram as 8,7,16,20,14 itaquera\n",
    "\n",
    "11984-12402 -> 20,21,19 jaguara   \n",
    "\n"
   ]
  },
  {
   "cell_type": "code",
   "execution_count": 44,
   "metadata": {},
   "outputs": [
    {
     "data": {
      "application/vnd.jupyter.widget-view+json": {
       "model_id": "c7c52dd910c047b1939d62d576def983",
       "version_major": 2,
       "version_minor": 0
      },
      "text/plain": [
       "VBox()"
      ]
     },
     "metadata": {},
     "output_type": "display_data"
    },
    {
     "data": {
      "application/vnd.jupyter.widget-view+json": {
       "model_id": "",
       "version_major": 2,
       "version_minor": 0
      },
      "text/plain": [
       "FloatProgress(value=0.0, bar_style='info', description='Progress:', layout=Layout(height='25px', width='50%'),…"
      ]
     },
     "metadata": {},
     "output_type": "display_data"
    },
    {
     "name": "stdout",
     "output_type": "stream",
     "text": [
      "+-----------------+------------------+----+---+\n",
      "|              avg|            stddev| max|min|\n",
      "+-----------------+------------------+----+---+\n",
      "|717.2409655763462|338.69108484314785|1964|  1|\n",
      "+-----------------+------------------+----+---+\n",
      "\n",
      "[470.0, 691.0, 925.0]"
     ]
    }
   ],
   "source": [
    "traces = spark.read.parquet(f\"s3://mobility-traces-sp/processed-data-avl-date/19-graphs-minutes-within-100m-with-cnnection-id/MO_1510{1}/\")\n",
    "df = traces.groupby(\"id_avl_1\").agg(F.countDistinct(\"id_avl_2\").alias(\"diff_vehicles\"))\n",
    "df\n",
    "df.agg(\n",
    "    F.avg(\"diff_vehicles\").alias(\"avg\"),\n",
    "    F.stddev(\"diff_vehicles\").alias(\"stddev\"),\n",
    "    F.max(\"diff_vehicles\").alias(\"max\"),\n",
    "    F.min(\"diff_vehicles\").alias(\"min\"),\n",
    ").show()\n",
    " \n",
    "quantiles = df.approxQuantile(\"diff_vehicles\", [0.25,0.5,0.75], 0.0001)\n",
    "print(quantiles)"
   ]
  },
  {
   "cell_type": "code",
   "execution_count": null,
   "metadata": {},
   "outputs": [],
   "source": []
  },
  {
   "cell_type": "code",
   "execution_count": null,
   "metadata": {},
   "outputs": [],
   "source": []
  },
  {
   "cell_type": "code",
   "execution_count": null,
   "metadata": {},
   "outputs": [],
   "source": []
  }
 ],
 "metadata": {
  "kernelspec": {
   "display_name": "PySpark",
   "language": "",
   "name": "pysparkkernel"
  },
  "language_info": {
   "codemirror_mode": {
    "name": "python",
    "version": 3
   },
   "mimetype": "text/x-python",
   "name": "pyspark",
   "pygments_lexer": "python3"
  }
 },
 "nbformat": 4,
 "nbformat_minor": 4
}
