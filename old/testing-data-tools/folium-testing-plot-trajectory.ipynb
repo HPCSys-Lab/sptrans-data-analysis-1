{
 "cells": [
  {
   "cell_type": "code",
   "execution_count": null,
   "metadata": {},
   "outputs": [],
   "source": [
    "import folium"
   ]
  },
  {
   "cell_type": "code",
   "execution_count": 1,
   "metadata": {},
   "outputs": [
    {
     "ename": "ValueError",
     "evalue": "No objects to concatenate",
     "output_type": "error",
     "traceback": [
      "\u001b[0;31m---------------------------------------------------------------------------\u001b[0m",
      "\u001b[0;31mValueError\u001b[0m                                Traceback (most recent call last)",
      "\u001b[0;32m<ipython-input-1-b6990b0b1898>\u001b[0m in \u001b[0;36m<module>\u001b[0;34m\u001b[0m\n\u001b[1;32m     16\u001b[0m     \u001b[0mli\u001b[0m\u001b[0;34m.\u001b[0m\u001b[0mappend\u001b[0m\u001b[0;34m(\u001b[0m\u001b[0mdf\u001b[0m\u001b[0;34m)\u001b[0m\u001b[0;34m\u001b[0m\u001b[0;34m\u001b[0m\u001b[0m\n\u001b[1;32m     17\u001b[0m \u001b[0;34m\u001b[0m\u001b[0m\n\u001b[0;32m---> 18\u001b[0;31m \u001b[0mdf_51256\u001b[0m \u001b[0;34m=\u001b[0m \u001b[0mpd\u001b[0m\u001b[0;34m.\u001b[0m\u001b[0mconcat\u001b[0m\u001b[0;34m(\u001b[0m\u001b[0mli\u001b[0m\u001b[0;34m)\u001b[0m\u001b[0;34m\u001b[0m\u001b[0;34m\u001b[0m\u001b[0m\n\u001b[0m\u001b[1;32m     19\u001b[0m \u001b[0;34m\u001b[0m\u001b[0m\n\u001b[1;32m     20\u001b[0m \u001b[0;31m# bus 51256\u001b[0m\u001b[0;34m\u001b[0m\u001b[0;34m\u001b[0m\u001b[0;34m\u001b[0m\u001b[0m\n",
      "\u001b[0;32m/usr/local/lib/python3.7/site-packages/pandas/core/reshape/concat.py\u001b[0m in \u001b[0;36mconcat\u001b[0;34m(objs, axis, join, join_axes, ignore_index, keys, levels, names, verify_integrity, sort, copy)\u001b[0m\n\u001b[1;32m    253\u001b[0m         \u001b[0mverify_integrity\u001b[0m\u001b[0;34m=\u001b[0m\u001b[0mverify_integrity\u001b[0m\u001b[0;34m,\u001b[0m\u001b[0;34m\u001b[0m\u001b[0;34m\u001b[0m\u001b[0m\n\u001b[1;32m    254\u001b[0m         \u001b[0mcopy\u001b[0m\u001b[0;34m=\u001b[0m\u001b[0mcopy\u001b[0m\u001b[0;34m,\u001b[0m\u001b[0;34m\u001b[0m\u001b[0;34m\u001b[0m\u001b[0m\n\u001b[0;32m--> 255\u001b[0;31m         \u001b[0msort\u001b[0m\u001b[0;34m=\u001b[0m\u001b[0msort\u001b[0m\u001b[0;34m,\u001b[0m\u001b[0;34m\u001b[0m\u001b[0;34m\u001b[0m\u001b[0m\n\u001b[0m\u001b[1;32m    256\u001b[0m     )\n\u001b[1;32m    257\u001b[0m \u001b[0;34m\u001b[0m\u001b[0m\n",
      "\u001b[0;32m/usr/local/lib/python3.7/site-packages/pandas/core/reshape/concat.py\u001b[0m in \u001b[0;36m__init__\u001b[0;34m(self, objs, axis, join, join_axes, keys, levels, names, ignore_index, verify_integrity, copy, sort)\u001b[0m\n\u001b[1;32m    302\u001b[0m \u001b[0;34m\u001b[0m\u001b[0m\n\u001b[1;32m    303\u001b[0m         \u001b[0;32mif\u001b[0m \u001b[0mlen\u001b[0m\u001b[0;34m(\u001b[0m\u001b[0mobjs\u001b[0m\u001b[0;34m)\u001b[0m \u001b[0;34m==\u001b[0m \u001b[0;36m0\u001b[0m\u001b[0;34m:\u001b[0m\u001b[0;34m\u001b[0m\u001b[0;34m\u001b[0m\u001b[0m\n\u001b[0;32m--> 304\u001b[0;31m             \u001b[0;32mraise\u001b[0m \u001b[0mValueError\u001b[0m\u001b[0;34m(\u001b[0m\u001b[0;34m\"No objects to concatenate\"\u001b[0m\u001b[0;34m)\u001b[0m\u001b[0;34m\u001b[0m\u001b[0;34m\u001b[0m\u001b[0m\n\u001b[0m\u001b[1;32m    305\u001b[0m \u001b[0;34m\u001b[0m\u001b[0m\n\u001b[1;32m    306\u001b[0m         \u001b[0;32mif\u001b[0m \u001b[0mkeys\u001b[0m \u001b[0;32mis\u001b[0m \u001b[0;32mNone\u001b[0m\u001b[0;34m:\u001b[0m\u001b[0;34m\u001b[0m\u001b[0;34m\u001b[0m\u001b[0m\n",
      "\u001b[0;31mValueError\u001b[0m: No objects to concatenate"
     ]
    }
   ],
   "source": [
    "# https://deparkes.co.uk/2016/06/03/plot-lines-in-folium/\n",
    "import pandas as pd\n",
    "import glob\n",
    "import folium\n",
    "\n",
    "# bus 51256, day 1/10/2015\n",
    "path = r'./sample-bus-traces/working-day/51256' # use your path, id_avl = 44261\n",
    "all_files = glob.glob(path + \"/*.csv\")\n",
    "\n",
    "li = []\n",
    "column_names = \"dt_server,dt_avl,id_line,longitude,latitude,id_avl,event,id_point\".split(\",\")\n",
    "\n",
    "for filename in all_files:\n",
    "    df = pd.read_csv(filename, index_col=None, header=None)\n",
    "    df.columns=column_names\n",
    "    li.append(df)\n",
    "\n",
    "df_51256 = pd.concat(li)\n",
    "\n",
    "# bus 51256\n",
    "locations_51256 = df_51256[['longitude','latitude']]\n",
    "locationlist = locations_51256.values.tolist()\n",
    "geo_map = folium.Map(location=[-23.533773, -46.625290], zoom_start=12)\n",
    "\n",
    "for point in range(0, len(locationlist)):\n",
    "    icon = folium.features.CustomIcon('red-dot.png', icon_size=(5,5))\n",
    "    folium.Marker(locationlist[point],icon=icon).add_to(geo_map)\n",
    "    \n",
    "tile = folium.TileLayer('cartodbpositron').add_to(geo_map)\n",
    "geo_map"
   ]
  },
  {
   "cell_type": "code",
   "execution_count": null,
   "metadata": {},
   "outputs": [],
   "source": [
    "# https://deparkes.co.uk/2016/06/03/plot-lines-in-folium/\n",
    "import pandas as pd\n",
    "import glob\n",
    "import folium\n",
    "\n",
    "# bus 11332, day 1/10/2015\n",
    "path = r'./sample-bus-traces/working-day/11332' # use your path, id_avl = 11332\n",
    "all_files = glob.glob(path + \"/*.csv\")\n",
    "\n",
    "li = []\n",
    "column_names = \"dt_server,dt_avl,id_line,longitude,latitude,id_avl,event,id_point\".split(\",\")\n",
    "\n",
    "for filename in all_files:\n",
    "    df = pd.read_csv(filename, index_col=None, header=None)\n",
    "    df.columns=column_names\n",
    "    li.append(df)\n",
    "\n",
    "df_11332 = pd.concat(li)\n",
    "\n",
    "# bus 11332\n",
    "locations_11332 = df_11332[['longitude','latitude']]\n",
    "locationlist = locations_11332.values.tolist()\n",
    "geo_map = folium.Map(location=[-23.533773, -46.625290], zoom_start=12)\n",
    "\n",
    "for point in range(0, len(locationlist)):\n",
    "    icon = folium.features.CustomIcon('red-dot.png', icon_size=(5,5))\n",
    "    folium.Marker(locationlist[point],icon=icon).add_to(geo_map)\n",
    "    \n",
    "tile = folium.TileLayer('http://tile.stamen.com/toner/{z}/{x}/{y}.png',attr=\"eu\").add_to(geo_map)\n",
    "geo_map"
   ]
  },
  {
   "cell_type": "code",
   "execution_count": null,
   "metadata": {},
   "outputs": [],
   "source": [
    "# https://deparkes.co.uk/2016/06/03/plot-lines-in-folium/\n",
    "import pandas as pd\n",
    "import glob\n",
    "import folium\n",
    "\n",
    "# bus 13865, day 4/10/2015\n",
    "path = r'./sample-bus-traces/weekend/13865' # use your path, id_avl = 13865\n",
    "all_files = glob.glob(path + \"/*.csv\")\n",
    "\n",
    "li = []\n",
    "column_names = \"dt_server,dt_avl,id_line,longitude,latitude,id_avl,event,id_point\".split(\",\")\n",
    "\n",
    "for filename in all_files:\n",
    "    df = pd.read_csv(filename, index_col=None, header=None)\n",
    "    df.columns=column_names\n",
    "    li.append(df)\n",
    "\n",
    "df_13865 = pd.concat(li)\n",
    "\n",
    "# bus 51256\n",
    "locations_13865 = df_13865[['longitude','latitude']]\n",
    "locationlist = locations_13865.values.tolist()\n",
    "geo_map = folium.Map(location=[-23.533773, -46.625290], zoom_start=12)\n",
    "\n",
    "for point in range(0, len(locationlist)):\n",
    "    icon = folium.features.CustomIcon('red-dot.png', icon_size=(5,5))\n",
    "    folium.Marker(locationlist[point],icon=icon).add_to(geo_map)\n",
    "    \n",
    "tile = folium.TileLayer('cartodbpositron').add_to(geo_map)\n",
    "geo_map"
   ]
  },
  {
   "cell_type": "code",
   "execution_count": null,
   "metadata": {},
   "outputs": [],
   "source": [
    "# https://deparkes.co.uk/2016/06/03/plot-lines-in-folium/\n",
    "import pandas as pd\n",
    "import glob\n",
    "import folium\n",
    "\n",
    "# bus 44261, day 4/10/2015\n",
    "path = r'./sample-bus-traces/weekend/44261' # use your path, id_avl = 44261\n",
    "all_files = glob.glob(path + \"/*.csv\")\n",
    "\n",
    "li = []\n",
    "column_names = \"dt_server,dt_avl,id_line,longitude,latitude,id_avl,event,id_point\".split(\",\")\n",
    "\n",
    "for filename in all_files:\n",
    "    df = pd.read_csv(filename, index_col=None, header=None)\n",
    "    df.columns=column_names\n",
    "    li.append(df)\n",
    "\n",
    "df_44261 = pd.concat(li)\n",
    "\n",
    "# bus 44261\n",
    "locations_44261 = df_44261[['longitude','latitude']]\n",
    "locationlist = locations_44261.values.tolist()\n",
    "geo_map = folium.Map(location=[-23.533773, -46.625290], zoom_start=12)\n",
    "\n",
    "for point in range(0, len(locationlist)):\n",
    "    icon = folium.features.CustomIcon('red-dot.png', icon_size=(5,5))\n",
    "    folium.Marker(locationlist[point],icon=icon).add_to(geo_map)\n",
    "    \n",
    "tile = folium.TileLayer('cartodbpositron').add_to(geo_map)\n",
    "geo_map"
   ]
  },
  {
   "cell_type": "code",
   "execution_count": null,
   "metadata": {},
   "outputs": [],
   "source": []
  }
 ],
 "metadata": {
  "kernelspec": {
   "display_name": "Python 3",
   "language": "python",
   "name": "python3"
  },
  "language_info": {
   "codemirror_mode": {
    "name": "ipython",
    "version": 3
   },
   "file_extension": ".py",
   "mimetype": "text/x-python",
   "name": "python",
   "nbconvert_exporter": "python",
   "pygments_lexer": "ipython3",
   "version": "3.7.4"
  }
 },
 "nbformat": 4,
 "nbformat_minor": 2
}
