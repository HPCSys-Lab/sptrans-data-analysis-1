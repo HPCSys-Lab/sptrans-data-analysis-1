{
 "cells": [
  {
   "cell_type": "code",
   "execution_count": null,
   "metadata": {},
   "outputs": [],
   "source": [
    "- fazer processamento com base nas metricas mais importantes\n",
    "- focar regiao central\n",
    "- identificar metricas mais relevantes\n",
    "- velocidade sujeita a erro\n",
    "- numero de viagens, duracao de viagens, onibus recolhe onibus?\n",
    "- **identificar viagem (mais importante para derivar as outras metricas)\n",
    "- **enumerar metricas mais relevantes (focar nelas primeiros)\n",
    "- enumerar metricas com base no publico --> vanets/mobilidade\n",
    "- voltar nos trabalhos que citei e ver maneiras de limpar outliers"
   ]
  }
 ],
 "metadata": {
  "kernelspec": {
   "display_name": "Python 3",
   "language": "python",
   "name": "python3"
  },
  "language_info": {
   "codemirror_mode": {
    "name": "ipython",
    "version": 3
   },
   "file_extension": ".py",
   "mimetype": "text/x-python",
   "name": "python",
   "nbconvert_exporter": "python",
   "pygments_lexer": "ipython3",
   "version": "3.7.4"
  }
 },
 "nbformat": 4,
 "nbformat_minor": 4
}
