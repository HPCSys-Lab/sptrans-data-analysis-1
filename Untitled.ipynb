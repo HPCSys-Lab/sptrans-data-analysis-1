{
 "cells": [
  {
   "cell_type": "markdown",
   "metadata": {},
   "source": [
    "# Related work summary"
   ]
  },
  {
   "cell_type": "markdown",
   "metadata": {},
   "source": [
    "### Explorando Dados Urbanos: um estudo usando viagens de Táxi da cidade de São Francisco\n",
    "\n",
    "- we analyze taxicabs’ traces regarding encounters throughout the day in the city of San Fran- cisco\n",
    "- there are standards in the number of times these vehicles meet, mainly by comparing weekends with weekdays \n",
    "- metrics: repeated encounters throughout the day, repeated encounters throughout the day in the same place, and the ratio of the number of repeated encounters over the total number of encounters for each vehicle\n",
    "\n",
    "-Nas VANETs, a comunicac ̧a ̃o e ́ altamente influenciada pelos padro ̃es de mobili- dade dos ve ́ıculos\n",
    "\n",
    "- Eles se movem de acordo com as interac ̧o ̃es que realizam entre os motoristas, os limites de velocidade e direc ̧o ̃es impostas pelas sinalizac ̧o ̃es de traˆnsito\n",
    "\n",
    "-No entanto, as interac ̧o ̃es entre os diferentes per ́ıodos do dia, as rotinas dos motoristas e os ve ́ıculos tambe ́m podem influenciar nesta mobilidade \n",
    "\n",
    "- Estas caracter ́ısticas apresentadas sugerem a investigac ̧a ̃o da mobilidade do ta ́xi, a fim de compreender as interac ̧o ̃es que realizam durante suas trajeto ́rias. Ale ́m disso, para melhorar a conectivi- dade e os servic ̧os das VANETs, seria interessante encontrar ve ́ıculos que apresentem os mesmos destinos e tenham um comportamento semelhante.\n",
    "\n",
    "O obje- tivo e ́ usar me ́tricas para investigar encontros de ta ́xis ao longo do dia, durante um meˆs, ou seja, com que frequeˆncia dois ta ́xis diferentes conseguiram se comunicar.\n",
    "\n",
    "- Assim, neste traba- lho pretende-se aproveitar a localizac ̧a ̃o espacial dos encontros entre os ve ́ıculos de forma a extrair padro ̃es e caracter ́ısticas que venham ajudar no projeto de novos protocolos e servic ̧os para as redes ve ́ıculares.\n",
    "\n",
    "- Quanto mais encontros acontecerem entre os carros, melhor sera ́ para a rede. Isso signi- fica que compartilhar informac ̧o ̃es entre carros na rede e ́ mais fa ́cil, em situac ̧o ̃es graves todos os carros sera ̃o informados aproximadamente ao mesmo tempo. \n",
    "\n",
    "\n",
    "- E ́ importante observar lugares onde a frequeˆncia de encontros e ́ maior, podem ser u ́teis para disseminar informac ̧o ̃es.\n",
    "\n",
    "\n",
    "- Os ve ́ıculos que sa ̃o mais populares, encontram mais frequentemente com outros ve ́ıculos, sa ̃o excelentes opc ̧o ̃es para ajudar na transmissa ̃o da rede.\n",
    "\n",
    "\n",
    "- E ́ poss ́ıvel identificar, atrave ́s do nu ́mero de encontros, quais sa ̃o os dias e os hora ́rios em que a rede precisara ́ suportar uma maior quantidade de dados e conexo ̃es\n",
    "\n",
    "- Ale ́m disso, servic ̧os que ajudem os motoristas com rotas alternativas para evitar algumas regio ̃es em um determinado momento do dia, evitando os congestionamentos, podem ser projetados.\n",
    "\n",
    "\n",
    "#### Resumao\n",
    "\n",
    "- 500 táxis, 30 dias maio/junho 2008,\n",
    "\n",
    "- versao calibrada por loureiro do filling the gaps\n",
    "-modelagem de grafo tempo\n",
    "- a cada 15min\n",
    "\n",
    "- Métricas: encontros repetidos ao longo do dia\n",
    "- Encontros repetidos ao longo do dia na mesma localizac ̧a ̃o:\n",
    "- taxa de repeticao de encontros\n",
    "\n",
    "- este trabalho, desenvolveu-se uma ana ́lise espac ̧o temporal de encontros de ta ́xis em toda a cidade de Sa ̃o Francisco – EUA. Para o desenvolvimento, utilizou-se grafos temporais, traces de ta ́xis calibrados, como o conjunto de dados, e treˆs me ́tricas princi- pais: encontros repetidos ao longo do dia, encontros repetidos ao longo do dia na mesma localizac ̧a ̃o e taxa frequeˆncia. "
   ]
  },
  {
   "cell_type": "code",
   "execution_count": null,
   "metadata": {},
   "outputs": [],
   "source": [
    "### Criac ̧a ̃o de Modelo para Simulac ̧a ̃o de Movimentac ̧a ̃o de OˆnibusaPartirdeDadosReais∗\n",
    "\n"
   ]
  }
 ],
 "metadata": {
  "kernelspec": {
   "display_name": "Python 3",
   "language": "python",
   "name": "python3"
  },
  "language_info": {
   "codemirror_mode": {
    "name": "ipython",
    "version": 3
   },
   "file_extension": ".py",
   "mimetype": "text/x-python",
   "name": "python",
   "nbconvert_exporter": "python",
   "pygments_lexer": "ipython3",
   "version": "3.7.4"
  }
 },
 "nbformat": 4,
 "nbformat_minor": 2
}
