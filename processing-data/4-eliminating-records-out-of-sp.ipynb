{
 "cells": [
  {
   "cell_type": "code",
   "execution_count": null,
   "metadata": {},
   "outputs": [],
   "source": [
    "from pyspark import SparkConf\n",
    "from pyspark import SparkContext\n",
    "\n",
    "spark_conf = (SparkConf().set(\"spark.speculation\", \"false\"))\n",
    "sc = SparkContext.getOrCreate(conf = spark_conf)\n",
    "\n",
    "# sparkSession = spark --> in the case of EMR\n",
    "hadoop_conf = spark._jsc.hadoopConfiguration()\n",
    "hadoop_conf.set(\"fs.s3a.impl\", \"org.apache.hadoop.fs.s3a.S3AFileSystem\")\n",
    "hadoop_conf.set(\"mapreduce.fileoutputcommitter.algorithm.version\",\"2\")"
   ]
  },
  {
   "cell_type": "code",
   "execution_count": null,
   "metadata": {},
   "outputs": [],
   "source": [
    "from pyspark.sql.types import *\n",
    "\n",
    "# hours between 06:00 and 22:59:59\n",
    "for day in range(1,32):\n",
    "    traces = spark.read.parquet(\"s3a://mobility-traces-sp/processed-data/records_between-6-23-with-all-regions/MO_1510\"+ str(day) + \"/\")\n",
    "    traces_in_sp = traces.filter('region != \"None\"')\n",
    "    traces_out_sp = traces.filter('region == \"None\"')\n",
    "    traces_in_sp.repartition(60).write.parquet(\"s3://mobility-traces-sp/processed-data/records_between-6-23-only-in-sp-regions/MO_1510\"+ str(day) + \"/\")\n",
    "    traces_out_sp.repartition(60).write.parquet(\"s3://mobility-traces-sp/processed-data/records_between-6-23-out-of-sp-region/MO_1510\"+ str(day) + \"/\")"
   ]
  }
 ],
 "metadata": {
  "kernelspec": {
   "display_name": "Python 3",
   "language": "python",
   "name": "python3"
  },
  "language_info": {
   "codemirror_mode": {
    "name": "ipython",
    "version": 3
   },
   "file_extension": ".py",
   "mimetype": "text/x-python",
   "name": "python",
   "nbconvert_exporter": "python",
   "pygments_lexer": "ipython3",
   "version": "3.7.4"
  }
 },
 "nbformat": 4,
 "nbformat_minor": 4
}
