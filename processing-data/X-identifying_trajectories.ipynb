{
 "cells": [
  {
   "cell_type": "code",
   "execution_count": null,
   "metadata": {},
   "outputs": [],
   "source": [
    "# se vc procura pro trajectory tu nao acha muita coisa, se tu procura por trips/rides tu acha um monte de notebook \n",
    "# com uber NY (colocar NY uber como referencia de dataset)\n",
    "# https://www.datalabserasaexperian.com.br/datalab/desafios-dados-transporte-publico-sp/\n",
    "# https://www.nature.coxsm/articles/sdata201889\n",
    "# no futuro posso voronoi para onibus juntos https://www.datalabserasaexperian.com.br/datalab/challenges-of-sao-paulos-public-transportations-data-analysis/"
   ]
  },
  {
   "cell_type": "code",
   "execution_count": 1,
   "metadata": {},
   "outputs": [
    {
     "ename": "SyntaxError",
     "evalue": "invalid syntax (<ipython-input-1-b1c5169f2a86>, line 1)",
     "output_type": "error",
     "traceback": [
      "\u001b[0;36m  File \u001b[0;32m\"<ipython-input-1-b1c5169f2a86>\"\u001b[0;36m, line \u001b[0;32m1\u001b[0m\n\u001b[0;31m    - tempo de diferenca entre dois pontos consect > 100s\u001b[0m\n\u001b[0m             ^\u001b[0m\n\u001b[0;31mSyntaxError\u001b[0m\u001b[0;31m:\u001b[0m invalid syntax\n"
     ]
    }
   ],
   "source": [
    "- tempo de diferenca entre dois pontos consect > 100s\n",
    "- origin\n",
    "- identificar onde um carro termina a rota dele (terminal ou endpoint)\n",
    "- posso utilizar a direcao em que o veiculo estava indo e agora está voltando\n",
    "- cuidado com onibus andando pra tras\n",
    "- onibus nao se movimentou de um ponto para o outro\n",
    "\n",
    "# A identificação e reconstituição das viagens é feita da seguinte forma. Para cada posição reportada \n",
    "# pelo equipamento, a coordenada é normalizada ao associá-la ao segmento mais próximo \n",
    "# no trajeto da linha configurada para  o  equipamento.  Em  seguida  a  sequência  de  segmentos  \n",
    "# é  analisada  para determinar-se a cobertura dos registros\n",
    "# identificados e se a viagem reconstituída  teve  sua  origem  no  ponto  inicial  e  término  no  ponto  final. \n",
    "\n",
    "# Para avaliar o tempo de deslocamento em uma linha específica, é necessário agregar várias solicitações e identificar \n",
    "# quando um carro termina sua rota, em um terminal ou em um ponto final, e inicia na outra direção.\n",
    "\n",
    "\n",
    "# Sempre que um carro muda de direção, também muda de sinal. Ao agrupar conjuntos de pontos na mesma direção, ordenados pela hora em que cada carro envia sua posição, um “salto” pode ser observado no momento do \n",
    "# envio sempre que o carro retornar ao seu ponto de origem (ou seja, quando a viagem for concluída).\n",
    "\n",
    "# Observing this distribution, we find it safe to consider as a new trip whenever \n",
    "# the next observation of a new position of a car occurs more than 100 seconds after the last \n",
    "# observation (the estimated probability of observing an interval greater than 100 seconds is ~10−34)."
   ]
  },
  {
   "cell_type": "code",
   "execution_count": null,
   "metadata": {},
   "outputs": [],
   "source": [
    "# recursos do dataset que podem ajudar \n",
    "# sites para achar gtfs abertos http://transit.land) and TransitFeeds (http://transitfeeds.com). \n",
    "- gtfs lourdes - stops\n",
    "- graph hopper\n",
    "- ver se o campo aberto fechado significa algo\n",
    "- onibus an"
   ]
  }
 ],
 "metadata": {
  "kernelspec": {
   "display_name": "Python 3",
   "language": "python",
   "name": "python3"
  },
  "language_info": {
   "codemirror_mode": {
    "name": "ipython",
    "version": 3
   },
   "file_extension": ".py",
   "mimetype": "text/x-python",
   "name": "python",
   "nbconvert_exporter": "python",
   "pygments_lexer": "ipython3",
   "version": "3.7.4"
  }
 },
 "nbformat": 4,
 "nbformat_minor": 2
}
