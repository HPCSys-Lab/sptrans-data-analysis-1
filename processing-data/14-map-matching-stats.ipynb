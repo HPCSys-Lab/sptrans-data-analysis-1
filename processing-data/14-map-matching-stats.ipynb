{
 "cells": [
  {
   "cell_type": "code",
   "execution_count": 1,
   "metadata": {},
   "outputs": [
    {
     "data": {
      "application/vnd.jupyter.widget-view+json": {
       "model_id": "ab244db0b58c486a979a0f2c4cbbc41d",
       "version_major": 2,
       "version_minor": 0
      },
      "text/plain": [
       "VBox()"
      ]
     },
     "metadata": {},
     "output_type": "display_data"
    },
    {
     "name": "stdout",
     "output_type": "stream",
     "text": [
      "Starting Spark application\n"
     ]
    },
    {
     "data": {
      "text/html": [
       "<table>\n",
       "<tr><th>ID</th><th>YARN Application ID</th><th>Kind</th><th>State</th><th>Spark UI</th><th>Driver log</th><th>Current session?</th></tr><tr><td>2</td><td>application_1609092362676_0003</td><td>pyspark</td><td>idle</td><td><a target=\"_blank\" href=\"http://ip-172-31-93-16.ec2.internal:20888/proxy/application_1609092362676_0003/\" >Link</a></td><td><a target=\"_blank\" href=\"http://ip-172-31-86-236.ec2.internal:8042/node/containerlogs/container_1609092362676_0003_01_000001/livy\" >Link</a></td><td>✔</td></tr></table>"
      ],
      "text/plain": [
       "<IPython.core.display.HTML object>"
      ]
     },
     "metadata": {},
     "output_type": "display_data"
    },
    {
     "data": {
      "application/vnd.jupyter.widget-view+json": {
       "model_id": "",
       "version_major": 2,
       "version_minor": 0
      },
      "text/plain": [
       "FloatProgress(value=0.0, bar_style='info', description='Progress:', layout=Layout(height='25px', width='50%'),…"
      ]
     },
     "metadata": {},
     "output_type": "display_data"
    },
    {
     "name": "stdout",
     "output_type": "stream",
     "text": [
      "SparkSession available as 'spark'.\n"
     ]
    },
    {
     "data": {
      "application/vnd.jupyter.widget-view+json": {
       "model_id": "",
       "version_major": 2,
       "version_minor": 0
      },
      "text/plain": [
       "FloatProgress(value=0.0, bar_style='info', description='Progress:', layout=Layout(height='25px', width='50%'),…"
      ]
     },
     "metadata": {},
     "output_type": "display_data"
    }
   ],
   "source": [
    "# Exploring map matching stats"
   ]
  },
  {
   "cell_type": "code",
   "execution_count": 2,
   "metadata": {},
   "outputs": [
    {
     "data": {
      "application/vnd.jupyter.widget-view+json": {
       "model_id": "c54756cf81b745a990174b6575e40425",
       "version_major": 2,
       "version_minor": 0
      },
      "text/plain": [
       "VBox()"
      ]
     },
     "metadata": {},
     "output_type": "display_data"
    },
    {
     "data": {
      "application/vnd.jupyter.widget-view+json": {
       "model_id": "",
       "version_major": 2,
       "version_minor": 0
      },
      "text/plain": [
       "FloatProgress(value=0.0, bar_style='info', description='Progress:', layout=Layout(height='25px', width='50%'),…"
      ]
     },
     "metadata": {},
     "output_type": "display_data"
    },
    {
     "name": "stdout",
     "output_type": "stream",
     "text": [
      "Collecting boto3\n",
      "  Using cached https://files.pythonhosted.org/packages/55/c6/912cc2cfd1b4051621552fc5961c25e2f517a090d179a38f62d5cdaf5d37/boto3-1.16.43-py2.py3-none-any.whl\n",
      "Requirement already satisfied: jmespath<1.0.0,>=0.7.1 in /usr/local/lib/python3.7/site-packages (from boto3)\n",
      "Collecting botocore<1.20.0,>=1.19.43 (from boto3)\n",
      "  Using cached https://files.pythonhosted.org/packages/ef/6c/9f6e6a14f53b21b6f1670ccd789082015911458823914b7dabca333ae033/botocore-1.19.43-py2.py3-none-any.whl\n",
      "Collecting s3transfer<0.4.0,>=0.3.0 (from boto3)\n",
      "  Using cached https://files.pythonhosted.org/packages/69/79/e6afb3d8b0b4e96cefbdc690f741d7dd24547ff1f94240c997a26fa908d3/s3transfer-0.3.3-py2.py3-none-any.whl\n",
      "Collecting python-dateutil<3.0.0,>=2.1 (from botocore<1.20.0,>=1.19.43->boto3)\n",
      "  Using cached https://files.pythonhosted.org/packages/d4/70/d60450c3dd48ef87586924207ae8907090de0b306af2bce5d134d78615cb/python_dateutil-2.8.1-py2.py3-none-any.whl\n",
      "Collecting urllib3<1.27,>=1.25.4; python_version != \"3.4\" (from botocore<1.20.0,>=1.19.43->boto3)\n",
      "  Using cached https://files.pythonhosted.org/packages/f5/71/45d36a8df68f3ebb098d6861b2c017f3d094538c0fb98fa61d4dc43e69b9/urllib3-1.26.2-py2.py3-none-any.whl\n",
      "Requirement already satisfied: six>=1.5 in /usr/local/lib/python3.7/site-packages (from python-dateutil<3.0.0,>=2.1->botocore<1.20.0,>=1.19.43->boto3)\n",
      "Installing collected packages: python-dateutil, urllib3, botocore, s3transfer, boto3\n",
      "Successfully installed boto3-1.16.43 botocore-1.19.43 python-dateutil-2.8.1 s3transfer-0.3.3 urllib3-1.26.2"
     ]
    }
   ],
   "source": [
    "from pyspark import SparkConf\n",
    "from pyspark import SparkContext\n",
    "\n",
    "spark_conf = (SparkConf().set(\"spark.speculation\", \"false\"))\n",
    "sc = SparkContext.getOrCreate(conf = spark_conf)\n",
    "\n",
    "# spark = sparkSession\n",
    "hadoop_conf = spark._jsc.hadoopConfiguration()\n",
    "hadoop_conf.set(\"fs.s3a.impl\", \"org.apache.hadoop.fs.s3a.S3AFileSystem\")\n",
    "hadoop_conf.set(\"mapreduce.fileoutputcommitter.algorithm.version\",\"2\")\n",
    "\n",
    "# installing required packages for this notebook session\n",
    "sc.install_pypi_package(\"boto3\")\n"
   ]
  },
  {
   "cell_type": "code",
   "execution_count": 3,
   "metadata": {},
   "outputs": [
    {
     "data": {
      "application/vnd.jupyter.widget-view+json": {
       "model_id": "015a8749e4304d7f9891d3d5f9ee67c2",
       "version_major": 2,
       "version_minor": 0
      },
      "text/plain": [
       "VBox()"
      ]
     },
     "metadata": {},
     "output_type": "display_data"
    },
    {
     "data": {
      "application/vnd.jupyter.widget-view+json": {
       "model_id": "",
       "version_major": 2,
       "version_minor": 0
      },
      "text/plain": [
       "FloatProgress(value=0.0, bar_style='info', description='Progress:', layout=Layout(height='25px', width='50%'),…"
      ]
     },
     "metadata": {},
     "output_type": "display_data"
    },
    {
     "name": "stdout",
     "output_type": "stream",
     "text": [
      "{'ResponseMetadata': {'RequestId': 'E32DC2303A538C49', 'HostId': 'I6/eK8vS9wlt6wyQXCWTJ0IrR1qFG6tARGgXpcz0skdMTEzPvwBIOPcDXSjhLySQCr6PbTTgb4I=', 'HTTPStatusCode': 200, 'HTTPHeaders': {'x-amz-id-2': 'I6/eK8vS9wlt6wyQXCWTJ0IrR1qFG6tARGgXpcz0skdMTEzPvwBIOPcDXSjhLySQCr6PbTTgb4I=', 'x-amz-request-id': 'E32DC2303A538C49', 'date': 'Sun, 27 Dec 2020 20:39:10 GMT', 'etag': '\"d3578d76555551336210ebfdab6ca82e\"', 'content-length': '0', 'server': 'AmazonS3'}, 'RetryAttempts': 0}, 'ETag': '\"d3578d76555551336210ebfdab6ca82e\"'}"
     ]
    }
   ],
   "source": [
    "# Getting stats about distance between lat,long of the trace and the nearest shape\n",
    "\n",
    "from pyspark.sql import functions as F\n",
    "import boto3\n",
    "\n",
    "# new_line header\n",
    "csv_out = \"day,shape_distance_mean,shape_distance_min,shape_distance_max,shape_distance_stddev,shape_distance_quantile_25,shape_distance_quantile_50,shape_distance_quantile_75,total_size,shape_distance_higher_1000m,shape_distance_higher_4000m\\n\"\n",
    "\n",
    "\n",
    "# from october 1 to october 31 \n",
    "for day in range(1,32):\n",
    "    \n",
    "    # reading files\n",
    "    traces_shape_distance = spark.read.parquet(\"s3://mobility-traces-sp/processed-data-avl-date/8-map-matching/MO_1510\" + str(day) + \"/\")    \n",
    "    \n",
    "    total = traces_shape_distance.count()\n",
    "    higher_1000 = traces_shape_distance.filter(\"min_distance > 1000\").count()\n",
    "    higher_4000 = traces_shape_distance.filter(\"min_distance > 4000\").count()\n",
    "    \n",
    "    # getting shape_min_distance info (mean,min,max,stddev)\n",
    "    stats = traces_shape_distance.agg(F.mean('min_distance').alias('mean'),\n",
    "                       F.min('min_distance').alias('min'),\n",
    "                       F.max('min_distance').alias('max'),\n",
    "                       F.stddev('min_distance').alias(\"stddev\")).collect()\n",
    "\n",
    "    # getting shape_min_distance quantiles (25%, 50%, 75%)\n",
    "    # 0.0001 is the precision\n",
    "    shape_distance_quantile = traces_shape_distance.approxQuantile(\"min_distance\", [0.25,0.5,0.75], 0.0001)\n",
    "    \n",
    "    \n",
    "    csv_out += \"MO_1510\" + str(day) +\",\"+ str(stats[0][\"mean\"]) +\",\"+ str(stats[0][\"min\"]) + \",\" + str(stats[0][\"max\"]) + \",\" + str(stats[0][\"stddev\"]) + \",\" +str(shape_distance_quantile[0]) + \",\" +str(shape_distance_quantile[1]) +\",\" +str(shape_distance_quantile[2]) + \",\" + str(total) +\",\"+ str(higher_1000) + \",\"+ str(higher_4000) + \"\\n\"\n",
    "\n",
    "\n",
    "\n",
    "s3 = boto3.client('s3')\n",
    "\n",
    "# writing results in S3\n",
    "s3.put_object(Body=bytes(csv_out,\"utf-8\"), Bucket='mobility-traces-sp', Key='statistics/exploring-data/5-shape_distance-stats.csv')    \n"
   ]
  },
  {
   "cell_type": "code",
   "execution_count": 4,
   "metadata": {},
   "outputs": [
    {
     "data": {
      "application/vnd.jupyter.widget-view+json": {
       "model_id": "d5aa4158d6c743e4b65988e300eaaa2b",
       "version_major": 2,
       "version_minor": 0
      },
      "text/plain": [
       "VBox()"
      ]
     },
     "metadata": {},
     "output_type": "display_data"
    },
    {
     "data": {
      "application/vnd.jupyter.widget-view+json": {
       "model_id": "",
       "version_major": 2,
       "version_minor": 0
      },
      "text/plain": [
       "FloatProgress(value=0.0, bar_style='info', description='Progress:', layout=Layout(height='25px', width='50%'),…"
      ]
     },
     "metadata": {},
     "output_type": "display_data"
    },
    {
     "name": "stdout",
     "output_type": "stream",
     "text": [
      "+--------------------+------+-------+----------+----------+--------+------------------+---------------+--------------+---------+---------+--------+---------------+--------+-----------------+------------------+-------------------+-------------------+\n",
      "|              dt_avl|id_avl|line_id|   trace_y|   trace_x|hour_avl|         hour_diff|         region|time_variation|  trip_id|direction|route_id|      trip_head|shape_id|     min_distance|min_shape_sequence|min_shape_coord_lat|min_shape_coord_lon|\n",
      "+--------------------+------+-------+----------+----------+--------+------------------+---------------+--------------+---------+---------+--------+---------------+--------+-----------------+------------------+-------------------+-------------------+\n",
      "|2015-10-29 06:11:...|  8565|  33045|-23.572727|-46.448793|       6|1.5800000429153442|PARQUE DO CARMO|          45.0|3024-10-1|        1| 3024-10|Vila Industrial|   59555|9069.537797648747|             202.0|-23.608742000000003|         -46.528649|\n",
      "|2015-10-29 06:04:...|  8565|  33045| -23.57286|-46.448888|       6| 1.600000023841858|PARQUE DO CARMO|          45.0|3024-10-1|        1| 3024-10|Vila Industrial|   59555|9054.322581012118|             202.0|-23.608742000000003|         -46.528649|\n",
      "|2015-10-29 06:05:...|  8565|  33045|-23.572688|-46.448747|       6|1.6369999647140503|PARQUE DO CARMO|          45.0|3024-10-1|        1| 3024-10|Vila Industrial|   59555|9075.659701699526|             202.0|-23.608742000000003|         -46.528649|\n",
      "|2015-10-29 06:00:...|  8565|  33045|-23.574327|-46.450902|       6| 1.562999963760376|PARQUE DO CARMO|          null|3024-10-1|        1| 3024-10|Vila Industrial|   59555|8798.348342145337|             202.0|-23.608742000000003|         -46.528649|\n",
      "|2015-10-29 06:01:...|  8565|  33045| -23.57293|-46.448897|       6|              2.75|PARQUE DO CARMO|          45.0|3024-10-1|        1| 3024-10|Vila Industrial|   59555|9050.069789584644|             202.0|-23.608742000000003|         -46.528649|\n",
      "|2015-10-29 06:03:...|  8565|  33045|-23.572882| -46.44875|       6|1.1399999856948853|PARQUE DO CARMO|          45.0|3024-10-1|        1| 3024-10|Vila Industrial|   59555| 9065.87138617511|             202.0|-23.608742000000003|         -46.528649|\n",
      "|2015-10-29 06:01:...|  8565|  33045|-23.574275|  -46.4509|       6|1.5199999809265137|PARQUE DO CARMO|          45.0|3024-10-1|        1| 3024-10|Vila Industrial|   59555|8801.049661593748|             202.0|-23.608742000000003|         -46.528649|\n",
      "|2015-10-29 06:07:...|  8565|  33045|-23.572632|-46.448753|       6|1.6100000143051147|PARQUE DO CARMO|          45.0|3024-10-1|        1| 3024-10|Vila Industrial|   59555|9077.865265667928|             202.0|-23.608742000000003|         -46.528649|\n",
      "|2015-10-29 06:04:...|  8565|  33045|  -23.5729|-46.448868|       6|1.5199999809265137|PARQUE DO CARMO|          45.0|3024-10-1|        1| 3024-10|Vila Industrial|   59555| 9054.19230480458|             202.0|-23.608742000000003|         -46.528649|\n",
      "|2015-10-29 06:10:...|  8565|  33045|-23.572717|-46.448798|       6|1.6030000448226929|PARQUE DO CARMO|          45.0|3024-10-1|        1| 3024-10|Vila Industrial|   59555| 9069.57199348756|             202.0|-23.608742000000003|         -46.528649|\n",
      "+--------------------+------+-------+----------+----------+--------+------------------+---------------+--------------+---------+---------+--------+---------------+--------+-----------------+------------------+-------------------+-------------------+\n",
      "only showing top 10 rows"
     ]
    }
   ],
   "source": [
    "traces_shape_distance = spark.read.parquet(\"s3://mobility-traces-sp/processed-data-avl-date/8-map-matching/MO_1510\" + str(day) + \"/\")    \n",
    "traces_shape_distance.show(10)"
   ]
  },
  {
   "cell_type": "code",
   "execution_count": null,
   "metadata": {},
   "outputs": [],
   "source": [
    "# Results\n",
    "- Distance mean during work days - 436m and 466m\n",
    "- Distance mean for weekend days - 1007m and 1396m\n",
    "- Min value - 0 min\n",
    "- Max value - 54km\n",
    "- 25% quantile - 9 e 18\n",
    "- 50% quantile - 20 e 38, some value higher than 180 at sundays (4,11,18,25), and in a holiday october 12\n",
    "- 75% quantile - 53 e 57, some value higher than 1390m at weekends\n",
    "- around 2mi registers higher than 1000m\n",
    "- around 600000 register with distance more than 4000m"
   ]
  },
  {
   "cell_type": "code",
   "execution_count": null,
   "metadata": {},
   "outputs": [],
   "source": []
  }
 ],
 "metadata": {
  "kernelspec": {
   "display_name": "Python 3",
   "language": "python",
   "name": "python3"
  },
  "language_info": {
   "codemirror_mode": {
    "name": "ipython",
    "version": 3
   },
   "file_extension": ".py",
   "mimetype": "text/x-python",
   "name": "python",
   "nbconvert_exporter": "python",
   "pygments_lexer": "ipython3",
   "version": "3.7.4"
  }
 },
 "nbformat": 4,
 "nbformat_minor": 4
}
