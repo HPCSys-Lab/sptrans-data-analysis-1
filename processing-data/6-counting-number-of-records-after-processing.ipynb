{
 "cells": [
  {
   "cell_type": "code",
   "execution_count": 1,
   "metadata": {},
   "outputs": [
    {
     "data": {
      "application/vnd.jupyter.widget-view+json": {
       "model_id": "ea657a176f28465bb1d1925b5bdf6b06",
       "version_major": 2,
       "version_minor": 0
      },
      "text/plain": [
       "VBox()"
      ]
     },
     "metadata": {},
     "output_type": "display_data"
    },
    {
     "name": "stdout",
     "output_type": "stream",
     "text": [
      "Starting Spark application\n"
     ]
    },
    {
     "data": {
      "text/html": [
       "<table>\n",
       "<tr><th>ID</th><th>YARN Application ID</th><th>Kind</th><th>State</th><th>Spark UI</th><th>Driver log</th><th>Current session?</th></tr><tr><td>1</td><td>application_1607391432872_0002</td><td>pyspark</td><td>idle</td><td><a target=\"_blank\" href=\"http://ip-172-31-89-215.ec2.internal:20888/proxy/application_1607391432872_0002/\" >Link</a></td><td><a target=\"_blank\" href=\"http://ip-172-31-85-118.ec2.internal:8042/node/containerlogs/container_1607391432872_0002_01_000001/livy\" >Link</a></td><td>✔</td></tr></table>"
      ],
      "text/plain": [
       "<IPython.core.display.HTML object>"
      ]
     },
     "metadata": {},
     "output_type": "display_data"
    },
    {
     "data": {
      "application/vnd.jupyter.widget-view+json": {
       "model_id": "",
       "version_major": 2,
       "version_minor": 0
      },
      "text/plain": [
       "FloatProgress(value=0.0, bar_style='info', description='Progress:', layout=Layout(height='25px', width='50%'),…"
      ]
     },
     "metadata": {},
     "output_type": "display_data"
    },
    {
     "name": "stdout",
     "output_type": "stream",
     "text": [
      "SparkSession available as 'spark'.\n"
     ]
    },
    {
     "data": {
      "application/vnd.jupyter.widget-view+json": {
       "model_id": "",
       "version_major": 2,
       "version_minor": 0
      },
      "text/plain": [
       "FloatProgress(value=0.0, bar_style='info', description='Progress:', layout=Layout(height='25px', width='50%'),…"
      ]
     },
     "metadata": {},
     "output_type": "display_data"
    }
   ],
   "source": [
    "# Descrição\n",
    "# Este notebook conta o número de registros de cada arquivo em cada etapa de processamento.\n",
    "#\n",
    "# Description\n",
    "# This notebook counts the number of registers in each file in each processing step."
   ]
  },
  {
   "cell_type": "code",
   "execution_count": 2,
   "metadata": {},
   "outputs": [
    {
     "data": {
      "application/vnd.jupyter.widget-view+json": {
       "model_id": "7323a8303e344b62a8c1242987cb1348",
       "version_major": 2,
       "version_minor": 0
      },
      "text/plain": [
       "VBox()"
      ]
     },
     "metadata": {},
     "output_type": "display_data"
    },
    {
     "data": {
      "application/vnd.jupyter.widget-view+json": {
       "model_id": "",
       "version_major": 2,
       "version_minor": 0
      },
      "text/plain": [
       "FloatProgress(value=0.0, bar_style='info', description='Progress:', layout=Layout(height='25px', width='50%'),…"
      ]
     },
     "metadata": {},
     "output_type": "display_data"
    },
    {
     "name": "stdout",
     "output_type": "stream",
     "text": [
      "Collecting boto3\n",
      "  Downloading https://files.pythonhosted.org/packages/72/10/d3728714344aadf6d2859c065058d165682f013de6900c35ca8cfc8eb107/boto3-1.16.31.tar.gz (97kB)\n",
      "Collecting botocore<1.20.0,>=1.19.31 (from boto3)\n",
      "  Downloading https://files.pythonhosted.org/packages/95/df/b4268d55a03654ca97a33b58cd681fb8ccbc7040c7604a5b465c38f17bc4/botocore-1.19.31-py2.py3-none-any.whl (7.0MB)\n",
      "Requirement already satisfied: jmespath<1.0.0,>=0.7.1 in /usr/local/lib/python3.7/site-packages (from boto3)\n",
      "Collecting s3transfer<0.4.0,>=0.3.0 (from boto3)\n",
      "  Downloading https://files.pythonhosted.org/packages/69/79/e6afb3d8b0b4e96cefbdc690f741d7dd24547ff1f94240c997a26fa908d3/s3transfer-0.3.3-py2.py3-none-any.whl (69kB)\n",
      "Collecting python-dateutil<3.0.0,>=2.1 (from botocore<1.20.0,>=1.19.31->boto3)\n",
      "  Downloading https://files.pythonhosted.org/packages/d4/70/d60450c3dd48ef87586924207ae8907090de0b306af2bce5d134d78615cb/python_dateutil-2.8.1-py2.py3-none-any.whl (227kB)\n",
      "Collecting urllib3<1.27,>=1.25.4; python_version != \"3.4\" (from botocore<1.20.0,>=1.19.31->boto3)\n",
      "  Downloading https://files.pythonhosted.org/packages/f5/71/45d36a8df68f3ebb098d6861b2c017f3d094538c0fb98fa61d4dc43e69b9/urllib3-1.26.2-py2.py3-none-any.whl (136kB)\n",
      "Requirement already satisfied: six>=1.5 in /usr/local/lib/python3.7/site-packages (from python-dateutil<3.0.0,>=2.1->botocore<1.20.0,>=1.19.31->boto3)\n",
      "Building wheels for collected packages: boto3\n",
      "  Running setup.py bdist_wheel for boto3: started\n",
      "  Running setup.py bdist_wheel for boto3: finished with status 'done'\n",
      "  Stored in directory: /var/lib/livy/.cache/pip/wheels/d7/49/8d/c7b244e2b89911f7eb4d8db3b2ec5700b443e280fa68b6f9a0\n",
      "Successfully built boto3\n",
      "Installing collected packages: python-dateutil, urllib3, botocore, s3transfer, boto3\n",
      "Successfully installed boto3-1.16.31 botocore-1.19.31 python-dateutil-2.8.1 s3transfer-0.3.3 urllib3-1.26.2"
     ]
    }
   ],
   "source": [
    "# Spark Config\n",
    "from pyspark import SparkConf\n",
    "from pyspark import SparkContext\n",
    "\n",
    "spark_conf = (SparkConf().set(\"spark.speculation\", \"false\"))\n",
    "sc = SparkContext.getOrCreate(conf = spark_conf)\n",
    "\n",
    "# spark = sparkSession\n",
    "hadoop_conf = spark._jsc.hadoopConfiguration()\n",
    "hadoop_conf.set(\"fs.s3a.impl\", \"org.apache.hadoop.fs.s3a.S3AFileSystem\")\n",
    "hadoop_conf.set(\"mapreduce.fileoutputcommitter.algorithm.version\",\"2\")\n",
    "\n",
    "# installing necessary packages for notebook session\n",
    "sc.install_pypi_package(\"boto3\")"
   ]
  },
  {
   "cell_type": "code",
   "execution_count": 3,
   "metadata": {},
   "outputs": [
    {
     "data": {
      "application/vnd.jupyter.widget-view+json": {
       "model_id": "557a68cf231e4e89baf7add67aae3762",
       "version_major": 2,
       "version_minor": 0
      },
      "text/plain": [
       "VBox()"
      ]
     },
     "metadata": {},
     "output_type": "display_data"
    },
    {
     "data": {
      "application/vnd.jupyter.widget-view+json": {
       "model_id": "",
       "version_major": 2,
       "version_minor": 0
      },
      "text/plain": [
       "FloatProgress(value=0.0, bar_style='info', description='Progress:', layout=Layout(height='25px', width='50%'),…"
      ]
     },
     "metadata": {},
     "output_type": "display_data"
    },
    {
     "name": "stdout",
     "output_type": "stream",
     "text": [
      "{'ResponseMetadata': {'RequestId': 'B3A46F2AB9CD2AC5', 'HostId': 'ViWu0Ha2k5iU8Vb1RSaWl2zvQMkfCsvB2wghJpawXHiT8ohXSm4u9b6UMDh4cUsZBH73L2WWL+0=', 'HTTPStatusCode': 200, 'HTTPHeaders': {'x-amz-id-2': 'ViWu0Ha2k5iU8Vb1RSaWl2zvQMkfCsvB2wghJpawXHiT8ohXSm4u9b6UMDh4cUsZBH73L2WWL+0=', 'x-amz-request-id': 'B3A46F2AB9CD2AC5', 'date': 'Tue, 08 Dec 2020 02:21:09 GMT', 'etag': '\"b1762362e853bfed8270d0d79b975cc6\"', 'content-length': '0', 'server': 'AmazonS3'}, 'RetryAttempts': 0}, 'ETag': '\"b1762362e853bfed8270d0d79b975cc6\"'}"
     ]
    }
   ],
   "source": [
    "from dateutil import parser\n",
    "# lib boto3 to use aws services\n",
    "import boto3\n",
    "\n",
    "# counting file sizes aka number of records\n",
    "counters = {\"MO_1510\" + str(day): {\"raw_data\": 0, \"hour-6-23-no-duplicates\": 0, \"hour-6-23-in-sp\": 0} for day in range(1,32)}\n",
    "\n",
    "\n",
    "for key in counters.keys():\n",
    "    # reading raw data\n",
    "    traces_raw = spark.read.csv(\"s3a://mobility-traces-sp/raw-data/\" + key + \".csv\")\n",
    "    # count raw data records\n",
    "    counters[key][\"raw_data\"] = traces_raw.count()\n",
    "    \n",
    "    # reading records_between_6-23_hour-no-duplicates\n",
    "    traces_hour_6_23 = spark.read.parquet(\"s3a://mobility-traces-sp/processed-data-avl-date/1-records-between-6-23-avl-hour-dropped-columns-no-duplicates/\" + key + \"/\")\n",
    "    # counting records\n",
    "    counters[key][\"hour-6-23\"] = traces_hour_6_23.count()\n",
    "    \n",
    "    # reading records_between_6_23_only_in_sp\n",
    "    traces_hour_6_23_in_sp = spark.read.parquet(\"s3a://mobility-traces-sp/processed-data-avl-date/3-records-in-sp-between-6-23/\" + key + \"/\")\n",
    "    \n",
    "    # counting records\n",
    "    counters[key][\"hour-6-23-in-sp\"] = traces_hour_6_23_in_sp.count()\n",
    "\n",
    "# file header\n",
    "csv_out = \"day,raw_data_count,hour_6_23_count,hour_6_23_in_sp_count\\n\"\n",
    "for key in counters.keys():\n",
    "    # writing csv text\n",
    "    csv_out += key +\",\"+str(counters[key][\"raw_data\"])+\",\"+str(counters[key][\"hour-6-23\"])+\",\"+str(counters[key][\"hour-6-23-in-sp\"])+\"\\n\"\n",
    "    \n",
    "s3 = boto3.client('s3')\n",
    "\n",
    "# writing results in S3\n",
    "s3.put_object(Body=bytes(csv_out,\"utf-8\"), Bucket='mobility-traces-sp', Key='statistics/exploring-data/2-number-records-per-file-after-processing.csv')"
   ]
  },
  {
   "cell_type": "code",
   "execution_count": null,
   "metadata": {},
   "outputs": [],
   "source": [
    "# executed in a cluster with 1 master m5.xlarge, 4 m5.4xlarge, 2 nodes m5.xlarge\n",
    "# each round took in average 22/25seconds to run"
   ]
  }
 ],
 "metadata": {
  "kernelspec": {
   "display_name": "Python 3",
   "language": "python",
   "name": "python3"
  },
  "language_info": {
   "codemirror_mode": {
    "name": "python",
    "version": 3
   },
   "mimetype": "text/x-python",
   "name": "pyspark",
   "pygments_lexer": "python3"
  }
 },
 "nbformat": 4,
 "nbformat_minor": 4
}
