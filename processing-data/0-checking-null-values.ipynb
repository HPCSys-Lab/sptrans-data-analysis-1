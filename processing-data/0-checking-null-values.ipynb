{
 "cells": [
  {
   "cell_type": "code",
   "execution_count": null,
   "metadata": {},
   "outputs": [],
   "source": [
    "# Descrição\n",
    "# Este notebook verifica se há campos com valores nulos ou vazios nos dados não processados csv e \n",
    "# salva as estatísticas em formato csv.\n",
    "#\n",
    "# Description\n",
    "# This notebook verifies if there are empty or null fields in the csv raw data, then stores the results in csv file."
   ]
  },
  {
   "cell_type": "code",
   "execution_count": null,
   "metadata": {},
   "outputs": [],
   "source": [
    "# Spark Config\n",
    "from pyspark import SparkConf\n",
    "from pyspark import SparkContext\n",
    "\n",
    "spark_conf = (SparkConf().set(\"spark.speculation\", \"false\"))\n",
    "sc = SparkContext.getOrCreate(conf = spark_conf)\n",
    "\n",
    "# spark = sparkSession\n",
    "hadoop_conf = spark._jsc.hadoopConfiguration()\n",
    "hadoop_conf.set(\"fs.s3a.impl\", \"org.apache.hadoop.fs.s3a.S3AFileSystem\")\n",
    "hadoop_conf.set(\"mapreduce.fileoutputcommitter.algorithm.version\",\"2\")"
   ]
  },
  {
   "cell_type": "code",
   "execution_count": null,
   "metadata": {},
   "outputs": [],
   "source": [
    "from pyspark.sql.functions import col\n",
    "import numpy as np\n",
    "\n",
    "# schema of the raw data\n",
    "custom_schema = StructType([\n",
    "    StructField(\"dt_server\", StringType()),\n",
    "    StructField(\"dt_avl\", StringType()),\n",
    "    StructField(\"line_id\", IntegerType()),\n",
    "    StructField(\"latitude\", DoubleType()),\n",
    "    StructField(\"longitude\", DoubleType()),\n",
    "    StructField(\"id_avl\", IntegerType()),\n",
    "    StructField(\"event\", IntegerType()),\n",
    "    StructField(\"id_point\", IntegerType())\n",
    "])"
   ]
  },
  {
   "cell_type": "code",
   "execution_count": null,
   "metadata": {},
   "outputs": [],
   "source": [
    "# stores the name of the files which have nulls/nan/empty fields\n",
    "file_with_nulls = [\"Nenhum\"]\n",
    "\n",
    "# october days 1 to 31\n",
    "for day in range(1,32):\n",
    "    filename = \"MO_1510\" + str(day)\n",
    "    \n",
    "    # read raw data file\n",
    "    traces = spark.read.csv(\"s3a://mobility-traces-sp/raw-data/\"+ filename + \".csv\",header=\"false\",schema=custom_schema)\n",
    "    \n",
    "    # identity if there is an empty/null or Nan column in the file, if yes returns 1 (just the first found element --> limit 1)\n",
    "    nulls = [traces.where((col(column).isNull()) | isnan(col(column)) | (col(column) == \"\")).limit(1).count() for column in df.columns]\n",
    "    \n",
    "    # sum the number of columns which has empty/null/NaN values\n",
    "    num_nulls = np.sum(nulls)\n",
    "    \n",
    "    # if there is at least 1 column containing empty/null/NaN values\n",
    "    if num_nulls > 0:\n",
    "        # adds the filename in the list\n",
    "        file_with_nulls.append(filename)\n",
    "        \n",
    "    # saving accumulated results (aka partials) with the name of the current filename\n",
    "    output = spark.createDataFrame([file_with_nulls])\n",
    "    output.write.csv(\"s3://mobility-traces-sp/statistics/null-values/\" + filename)"
   ]
  },
  {
   "cell_type": "code",
   "execution_count": null,
   "metadata": {},
   "outputs": [],
   "source": [
    "# Resultados\n",
    "# Não há nenhum arquivo cujos campos tenham valores nulos ou vazios. \n",
    "# No futuro, talvez algum tratamento seja necessário para cada coluna ou tipo de dado para calculo das métricas.\n",
    "#\n",
    "# Results\n",
    "# There is no file with null/empty/NaN fields.\n",
    "# Maybe in the future, some treatment will be required for each column or data type to calculate the metrics.\n"
   ]
  }
 ],
 "metadata": {
  "kernelspec": {
   "display_name": "Python 3",
   "language": "python",
   "name": "python3"
  },
  "language_info": {
   "codemirror_mode": {
    "name": "ipython",
    "version": 3
   },
   "file_extension": ".py",
   "mimetype": "text/x-python",
   "name": "python",
   "nbconvert_exporter": "python",
   "pygments_lexer": "ipython3",
   "version": "3.7.4"
  }
 },
 "nbformat": 4,
 "nbformat_minor": 4
}
