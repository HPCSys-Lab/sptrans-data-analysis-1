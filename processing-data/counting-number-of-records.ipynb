{
 "cells": [
  {
   "cell_type": "code",
   "execution_count": null,
   "metadata": {},
   "outputs": [],
   "source": [
    "from pyspark import SparkConf\n",
    "from pyspark import SparkContext\n",
    "\n",
    "spark_conf = (SparkConf().set(\"spark.speculation\", \"false\"))\n",
    "sc = SparkContext.getOrCreate(conf = spark_conf)\n",
    "\n",
    "# sparkSession = spark --> in the case of EMR\n",
    "hadoop_conf = spark._jsc.hadoopConfiguration()\n",
    "hadoop_conf.set(\"fs.s3a.impl\", \"org.apache.hadoop.fs.s3a.S3AFileSystem\")\n",
    "hadoop_conf.set(\"mapreduce.fileoutputcommitter.algorithm.version\",\"2\")\n",
    "sc.install_pypi_package(\"boto3\")"
   ]
  },
  {
   "cell_type": "code",
   "execution_count": null,
   "metadata": {},
   "outputs": [],
   "source": [
    "from dateutil import parser\n",
    "import boto3\n",
    "\n",
    "# counting file sizes aka number of records\n",
    "counters = {\"MO_1510\" + str(day): {\"raw_data\":0,\"hour-6-23\":0,\"hour-6-23-in-sp\":0} for day in range(1,32)}\n",
    "\n",
    "for key in counters.keys():\n",
    "    traces_raw = spark.read.csv(\"s3a://mobility-traces-sp/raw-data/\" + key + \".csv\")\n",
    "    counters[key][\"raw_data\"] = traces_raw.count()\n",
    "    \n",
    "    traces_hour_6_23 = spark.read.parquet(\"s3a://mobility-traces-sp/processed-data/records-between-6-23-hour/\" + key + \"/\")\n",
    "    counters[key][\"hour-6-23\"] = traces_hour_6_23.count()\n",
    "    \n",
    "    traces_hour_6_23_in_sp = spark.read.parquet(\"s3a://mobility-traces-sp/processed-data/records_between-6-23-only-in-sp-regions/\" + key + \"/\")\n",
    "    counters[key][\"hour-6-23-in-sp\"] = traces_hour_6_23_in_sp.count()\n",
    "\n",
    "\n",
    "csv_out = \"day,raw_data_count,hour_6_23_count,hour_6_23_in_sp_count\\n\"\n",
    "for key in counters.keys():\n",
    "    csv_out += key +\",\"+str(counters[key][\"raw_data\"])+\",\"+str(counters[key][\"hour-6-23\"])+\",\"+str(counters[key][\"hour-6-23-in-sp\"])+\"\\n\"\n",
    "    \n",
    "s3 = boto3.client('s3')\n",
    "s3.put_object(Body=bytes(csv_out,\"utf-8\"), Bucket='mobility-traces-sp', Key='statistics/number-of-records/number-records-per-file.csv')\n",
    "    "
   ]
  },
  {
   "cell_type": "code",
   "execution_count": null,
   "metadata": {},
   "outputs": [],
   "source": []
  }
 ],
 "metadata": {
  "kernelspec": {
   "display_name": "PySpark",
   "language": "",
   "name": "pysparkkernel"
  },
  "language_info": {
   "codemirror_mode": {
    "name": "python",
    "version": 2
   },
   "mimetype": "text/x-python",
   "name": "pyspark",
   "pygments_lexer": "python2"
  }
 },
 "nbformat": 4,
 "nbformat_minor": 4
}
