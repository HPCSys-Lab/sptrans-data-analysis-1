{
 "cells": [
  {
   "cell_type": "code",
   "execution_count": null,
   "metadata": {},
   "outputs": [],
   "source": [
    "# Removing Records that not belongs to October. Eliminating all records with the date_avl out of October 2015"
   ]
  },
  {
   "cell_type": "code",
   "execution_count": 19,
   "metadata": {},
   "outputs": [
    {
     "data": {
      "application/vnd.jupyter.widget-view+json": {
       "model_id": "5c688954070e4e7fa25bd3a0b7bbd567",
       "version_major": 2,
       "version_minor": 0
      },
      "text/plain": [
       "VBox()"
      ]
     },
     "metadata": {},
     "output_type": "display_data"
    },
    {
     "data": {
      "application/vnd.jupyter.widget-view+json": {
       "model_id": "",
       "version_major": 2,
       "version_minor": 0
      },
      "text/plain": [
       "FloatProgress(value=0.0, bar_style='info', description='Progress:', layout=Layout(height='25px', width='50%'),…"
      ]
     },
     "metadata": {},
     "output_type": "display_data"
    }
   ],
   "source": [
    "from pyspark import SparkConf\n",
    "from pyspark import SparkContext\n",
    "\n",
    "spark_conf = (SparkConf().set(\"spark.speculation\", \"false\"))\n",
    "sc = SparkContext.getOrCreate(conf = spark_conf)\n",
    "\n",
    "# spark = sparkSession\n",
    "hadoop_conf = spark._jsc.hadoopConfiguration()\n",
    "hadoop_conf.set(\"fs.s3a.impl\", \"org.apache.hadoop.fs.s3a.S3AFileSystem\")\n",
    "hadoop_conf.set(\"mapreduce.fileoutputcommitter.algorithm.version\",\"2\")"
   ]
  },
  {
   "cell_type": "code",
   "execution_count": 25,
   "metadata": {},
   "outputs": [
    {
     "data": {
      "application/vnd.jupyter.widget-view+json": {
       "model_id": "c26cc4631e424fd9b690543f82a6deb8",
       "version_major": 2,
       "version_minor": 0
      },
      "text/plain": [
       "VBox()"
      ]
     },
     "metadata": {},
     "output_type": "display_data"
    },
    {
     "data": {
      "application/vnd.jupyter.widget-view+json": {
       "model_id": "",
       "version_major": 2,
       "version_minor": 0
      },
      "text/plain": [
       "FloatProgress(value=0.0, bar_style='info', description='Progress:', layout=Layout(height='25px', width='50%'),…"
      ]
     },
     "metadata": {},
     "output_type": "display_data"
    },
    {
     "name": "stdout",
     "output_type": "stream",
     "text": [
      "19381495 19381346\n",
      "19542228 19542228\n",
      "18583434 18583434\n",
      "17492844 17492844\n",
      "19625290 19625290\n",
      "19680078 19680078\n",
      "19725834 19725834\n",
      "19855438 19855438\n",
      "19846448 19846448\n",
      "18832814 18832814\n",
      "17948111 17948111\n",
      "18043141 18043141\n",
      "18883080 18883080\n",
      "19665453 19665453\n",
      "19563537 19563537\n",
      "19480608 19480608\n",
      "18833620 18833620\n",
      "17901777 17901777\n",
      "19567697 19567697\n",
      "19634098 19634098\n",
      "19785741 19785741\n",
      "19223432 19223432\n",
      "16754975 16754975\n",
      "18704148 18704148\n",
      "17869407 17869407\n",
      "19543783 19543783\n",
      "19745005 19745005\n",
      "19848537 19848537\n",
      "19832265 19832265\n",
      "19904904 19904904\n",
      "18709110 18709110"
     ]
    }
   ],
   "source": [
    "for day in range(1,32):\n",
    "    traces = spark.read.parquet(\"s3a://mobility-traces-sp/processed-data-avl-date/3-records-inside-sp-between-6-23/MO_1510\"+str(day)+\"/\")\n",
    "\n",
    "    traces_filtered = traces.filter(col(\"dt_avl\").contains(\"2015-10-\"))\n",
    "    print(traces.count(),traces_filtered.count())\n",
    "          \n",
    "    traces_filtered.repartition(60).write.parquet(\"s3://mobility-traces-sp/processed-data-avl-date/5-records-inside-sp-in-october/MO_1510\"+ str(day) + \"/\")      \n",
    "          "
   ]
  },
  {
   "cell_type": "code",
   "execution_count": null,
   "metadata": {},
   "outputs": [],
   "source": [
    "# Only MO_15101 had records out of October 2015. The file had 149 records of September of 2015 that were deleted"
   ]
  }
 ],
 "metadata": {
  "kernelspec": {
   "display_name": "Python 3",
   "language": "python",
   "name": "python3"
  },
  "language_info": {
   "codemirror_mode": {
    "name": "ipython",
    "version": 3
   },
   "file_extension": ".py",
   "mimetype": "text/x-python",
   "name": "python",
   "nbconvert_exporter": "python",
   "pygments_lexer": "ipython3",
   "version": "3.7.4"
  }
 },
 "nbformat": 4,
 "nbformat_minor": 4
}
