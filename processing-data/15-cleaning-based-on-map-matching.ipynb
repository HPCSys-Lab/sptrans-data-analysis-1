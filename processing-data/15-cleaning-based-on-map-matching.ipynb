{
 "cells": [
  {
   "cell_type": "code",
   "execution_count": null,
   "metadata": {},
   "outputs": [],
   "source": [
    "- Linhas circulares\n",
    "- Andando para trás\n",
    "- O onibus fica emitindo registros varias vezes a partirdo terminal de saída\n",
    "\n"
   ]
  },
  {
   "cell_type": "code",
   "execution_count": 1,
   "metadata": {},
   "outputs": [
    {
     "ename": "SyntaxError",
     "evalue": "invalid syntax (<ipython-input-1-54fc47a00951>, line 2)",
     "output_type": "error",
     "traceback": [
      "\u001b[0;36m  File \u001b[0;32m\"<ipython-input-1-54fc47a00951>\"\u001b[0;36m, line \u001b[0;32m2\u001b[0m\n\u001b[0;31m    1- Dada uma viagem (ordenacao de timestamp), pega o último registro, com o ultimo StopId da sequencia\u001b[0m\n\u001b[0m              ^\u001b[0m\n\u001b[0;31mSyntaxError\u001b[0m\u001b[0;31m:\u001b[0m invalid syntax\n"
     ]
    }
   ],
   "source": [
    "# Como calcular velocidade\n",
    "1- Dada uma viagem (ordenacao de timestamp), pega o último registro, com o ultimo StopId da sequencia\n",
    "2- Para cada registro consecutivos, calcular distancia entre pontos, calcular delta tempo. Vmedia = distancia/delta tempo = velocidade média escalar\n",
    "2a - Filtro de velocidade (onibus com velocidade muito alta ou muito baixao)\n",
    "3- A velocidade média dauqela viagem é a média de todas as velocidades escalares\n",
    "4- Velocidades serão agrupadas\n",
    "    Média por região\n",
    "    Média por dia\n",
    "    \n",
    "    \n",
    "    pq nao calcular --> VmViagem = (ponto final - ponto inicial)/(Tfinal - Tinicial) (validar ideia grosso)\n",
    "    \n",
    "    \n",
    "    \n",
    "\n"
   ]
  },
  {
   "cell_type": "code",
   "execution_count": 2,
   "metadata": {},
   "outputs": [
    {
     "ename": "SyntaxError",
     "evalue": "invalid syntax (<ipython-input-2-50561774a39d>, line 2)",
     "output_type": "error",
     "traceback": [
      "\u001b[0;36m  File \u001b[0;32m\"<ipython-input-2-50561774a39d>\"\u001b[0;36m, line \u001b[0;32m2\u001b[0m\n\u001b[0;31m    1- Particionar os dados por Dia / hora /min /região --> 08/19/36/pompeia\u001b[0m\n\u001b[0m                    ^\u001b[0m\n\u001b[0;31mSyntaxError\u001b[0m\u001b[0;31m:\u001b[0m invalid syntax\n"
     ]
    }
   ],
   "source": [
    "# Como calcular as métricas de conectividade\n",
    "1- Particionar os dados por Dia / hora /min /região --> 08/19/36/pompeia\n",
    "2- Computar distância para registros de cada partição.\n",
    "    Se distancia < 100m, criar conectividade\n",
    "Será montado um grafo com pesos\n",
    "quais regioes há mais conexoes\n",
    "O numero de conexoes será o numero de contatos do onibus"
   ]
  }
 ],
 "metadata": {
  "kernelspec": {
   "display_name": "Python 3",
   "language": "python",
   "name": "python3"
  },
  "language_info": {
   "codemirror_mode": {
    "name": "ipython",
    "version": 3
   },
   "file_extension": ".py",
   "mimetype": "text/x-python",
   "name": "python",
   "nbconvert_exporter": "python",
   "pygments_lexer": "ipython3",
   "version": "3.7.4"
  }
 },
 "nbformat": 4,
 "nbformat_minor": 2
}
