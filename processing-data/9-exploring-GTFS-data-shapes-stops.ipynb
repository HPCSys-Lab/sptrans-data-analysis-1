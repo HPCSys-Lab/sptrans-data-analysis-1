{
 "cells": [
  {
   "cell_type": "code",
   "execution_count": 1,
   "metadata": {},
   "outputs": [
    {
     "data": {
      "application/vnd.jupyter.widget-view+json": {
       "model_id": "a675173c5a8e4b98bf84948ad613644b",
       "version_major": 2,
       "version_minor": 0
      },
      "text/plain": [
       "VBox()"
      ]
     },
     "metadata": {},
     "output_type": "display_data"
    },
    {
     "name": "stdout",
     "output_type": "stream",
     "text": [
      "Starting Spark application\n"
     ]
    },
    {
     "data": {
      "text/html": [
       "<table>\n",
       "<tr><th>ID</th><th>YARN Application ID</th><th>Kind</th><th>State</th><th>Spark UI</th><th>Driver log</th><th>Current session?</th></tr><tr><td>1</td><td>application_1608594734397_0002</td><td>pyspark</td><td>idle</td><td></td><td></td><td>✔</td></tr></table>"
      ],
      "text/plain": [
       "<IPython.core.display.HTML object>"
      ]
     },
     "metadata": {},
     "output_type": "display_data"
    },
    {
     "data": {
      "application/vnd.jupyter.widget-view+json": {
       "model_id": "",
       "version_major": 2,
       "version_minor": 0
      },
      "text/plain": [
       "FloatProgress(value=0.0, bar_style='info', description='Progress:', layout=Layout(height='25px', width='50%'),…"
      ]
     },
     "metadata": {},
     "output_type": "display_data"
    },
    {
     "name": "stdout",
     "output_type": "stream",
     "text": [
      "SparkSession available as 'spark'.\n"
     ]
    },
    {
     "data": {
      "application/vnd.jupyter.widget-view+json": {
       "model_id": "",
       "version_major": 2,
       "version_minor": 0
      },
      "text/plain": [
       "FloatProgress(value=0.0, bar_style='info', description='Progress:', layout=Layout(height='25px', width='50%'),…"
      ]
     },
     "metadata": {},
     "output_type": "display_data"
    }
   ],
   "source": [
    "# Exploring and preparing GTFS file to use to clean the dataset"
   ]
  },
  {
   "cell_type": "code",
   "execution_count": 2,
   "metadata": {},
   "outputs": [
    {
     "data": {
      "application/vnd.jupyter.widget-view+json": {
       "model_id": "53da232dc2534553943832c0fa2f046e",
       "version_major": 2,
       "version_minor": 0
      },
      "text/plain": [
       "VBox()"
      ]
     },
     "metadata": {},
     "output_type": "display_data"
    },
    {
     "data": {
      "application/vnd.jupyter.widget-view+json": {
       "model_id": "",
       "version_major": 2,
       "version_minor": 0
      },
      "text/plain": [
       "FloatProgress(value=0.0, bar_style='info', description='Progress:', layout=Layout(height='25px', width='50%'),…"
      ]
     },
     "metadata": {},
     "output_type": "display_data"
    }
   ],
   "source": [
    "# Helpfunl links\n",
    "# https://sites.google.com/site/gtfschanges/proposals/route-type --> route types3 \n",
    "# GTFS Basics -- > https://www.youtube.com/watch?v=azd2Pbt2fho by Esri Working Group"
   ]
  },
  {
   "cell_type": "markdown",
   "metadata": {},
   "source": [
    "## O que é GTFS?/ What is GTFS?\n",
    "\n",
    "### GTFS --> https://developers.google.com/transit/gtfs\n",
    "\n",
    "A Especificação Geral sobre Feeds de Transporte Público (GTFS, na sigla em inglês), \n",
    "também chamada de GTFS estática ou transporte público estático para diferenciá-la da \n",
    "extensão GTFS Realtime, define um formato comum para os horários de transporte público e \n",
    "as informações geográficas relacionadas. Os \"feeds\" GTFS permitem que empresas publiquem \n",
    "dados relevantes e que desenvolvedores criem aplicativos que consumam essas informações com interoperabilidade.\n",
    "\n",
    "Cada arquivo modela um aspecto específico das informações sobre o transporte público: \n",
    "paradas, trajetos, viagens e outros dados relativos a horários. \n",
    "Os detalhes de cada arquivo são definidos na referência GTFS.\n",
    "\n",
    "\n",
    "### Referência de arquivos/ Files reference \n",
    "\n",
    "- **reference:** https://developers.google.com/transit/gtfs/reference\n",
    "\n",
    "\n",
    "### Arquivos utilizados para o processamento / GTFS Files for processing data\n",
    "\n",
    "- routes.txt\n",
    "- trips.txt\n",
    "- shapes.txt\n",
    "- stops.txt\n",
    "- stop_times.txt\n",
    "\n",
    "\n",
    "### Arquivos AVL / AVL Files\n",
    "- MO_XXX --> registro de posicoes dos veiculos do dia XXX de outubro/vehicle positions registers of the buses\n",
    "- AL_XXX --> arquivo descrevendo rota da linha e direção/file describing line route and direction"
   ]
  },
  {
   "cell_type": "code",
   "execution_count": 3,
   "metadata": {},
   "outputs": [
    {
     "data": {
      "application/vnd.jupyter.widget-view+json": {
       "model_id": "4d240be4162a43ef88ab343473878339",
       "version_major": 2,
       "version_minor": 0
      },
      "text/plain": [
       "VBox()"
      ]
     },
     "metadata": {},
     "output_type": "display_data"
    },
    {
     "data": {
      "application/vnd.jupyter.widget-view+json": {
       "model_id": "",
       "version_major": 2,
       "version_minor": 0
      },
      "text/plain": [
       "FloatProgress(value=0.0, bar_style='info', description='Progress:', layout=Layout(height='25px', width='50%'),…"
      ]
     },
     "metadata": {},
     "output_type": "display_data"
    }
   ],
   "source": [
    "# https://sites.google.com/site/gtfschanges/proposals/route-type --> route types3 \n",
    "# GTFS Basics -- > https://www.youtube.com/watch?v=azd2Pbt2fho by Esri Working Group"
   ]
  },
  {
   "cell_type": "code",
   "execution_count": 4,
   "metadata": {},
   "outputs": [
    {
     "data": {
      "application/vnd.jupyter.widget-view+json": {
       "model_id": "85fe03ba5a1343548aa296a883836578",
       "version_major": 2,
       "version_minor": 0
      },
      "text/plain": [
       "VBox()"
      ]
     },
     "metadata": {},
     "output_type": "display_data"
    },
    {
     "data": {
      "application/vnd.jupyter.widget-view+json": {
       "model_id": "",
       "version_major": 2,
       "version_minor": 0
      },
      "text/plain": [
       "FloatProgress(value=0.0, bar_style='info', description='Progress:', layout=Layout(height='25px', width='50%'),…"
      ]
     },
     "metadata": {},
     "output_type": "display_data"
    }
   ],
   "source": [
    "# Attempt 1\n",
    "# 1- Open file MO and AL\n",
    "# 2- For each row MO, get line_id\n",
    "# 3- search the line-id in AL file and get route and direction\n",
    "# 4- for each row in MO put route and direction found in AL file\n",
    "# PS1: in AL file the direction can be 1 or 2, while the direction in trips.txt (GTFS file) can be 0 or 1, \n",
    "# so a transformation in the future will be required\n",
    "# PS2: maybe stops.txt will be added for processing the dataset for identifying bus terminals\n",
    "\n",
    "# Tentativa 1\n",
    "# 1- Abrir os arquivos MO e AL\n",
    "# 2- Para cada linha em MO, obter o campo line_id\n",
    "# 3- Procurar o line_id no arquivo AL correspondente do MO, obter no arquivo AL a rota e direção\n",
    "# 4- Para cada linha em MO, identificar a rota e direção correspondente no arquivo AL\n",
    "# OBS1:  No arquivo AL a direção do veículo pode ser 1 ou 2, já no arquivo de trips.txt do GTFS a direcao é 1 ou 0 \n",
    "# no futuro alguma transformação será necessária para corrigir essa diferença\n",
    "# OBS2:  talvez o arquivo stops.txt será utilizado para processar o dataset para identificar os pontos em terminais  de onibus"
   ]
  },
  {
   "cell_type": "code",
   "execution_count": 5,
   "metadata": {},
   "outputs": [
    {
     "data": {
      "application/vnd.jupyter.widget-view+json": {
       "model_id": "37a764cf22c24617ad2a0c792c6f223c",
       "version_major": 2,
       "version_minor": 0
      },
      "text/plain": [
       "VBox()"
      ]
     },
     "metadata": {},
     "output_type": "display_data"
    },
    {
     "data": {
      "application/vnd.jupyter.widget-view+json": {
       "model_id": "",
       "version_major": 2,
       "version_minor": 0
      },
      "text/plain": [
       "FloatProgress(value=0.0, bar_style='info', description='Progress:', layout=Layout(height='25px', width='50%'),…"
      ]
     },
     "metadata": {},
     "output_type": "display_data"
    },
    {
     "name": "stdout",
     "output_type": "stream",
     "text": [
      "Collecting matplotlib\n",
      "  Using cached https://files.pythonhosted.org/packages/30/f2/10c822cb0ca5ebec58bd1892187bc3e3db64a867ac26531c6204663fc218/matplotlib-3.3.3-cp37-cp37m-manylinux1_x86_64.whl\n",
      "Requirement already satisfied: numpy>=1.15 in /usr/local/lib64/python3.7/site-packages (from matplotlib)\n",
      "Collecting python-dateutil>=2.1 (from matplotlib)\n",
      "  Using cached https://files.pythonhosted.org/packages/d4/70/d60450c3dd48ef87586924207ae8907090de0b306af2bce5d134d78615cb/python_dateutil-2.8.1-py2.py3-none-any.whl\n",
      "Collecting pyparsing!=2.0.4,!=2.1.2,!=2.1.6,>=2.0.3 (from matplotlib)\n",
      "  Using cached https://files.pythonhosted.org/packages/8a/bb/488841f56197b13700afd5658fc279a2025a39e22449b7cf29864669b15d/pyparsing-2.4.7-py2.py3-none-any.whl\n",
      "Collecting pillow>=6.2.0 (from matplotlib)\n",
      "  Using cached https://files.pythonhosted.org/packages/af/fa/c1302a26d5e1a17fa8e10e43417b6cf038b0648c4b79fcf2302a4a0c5d30/Pillow-8.0.1-cp37-cp37m-manylinux1_x86_64.whl\n",
      "Collecting cycler>=0.10 (from matplotlib)\n",
      "  Using cached https://files.pythonhosted.org/packages/f7/d2/e07d3ebb2bd7af696440ce7e754c59dd546ffe1bbe732c8ab68b9c834e61/cycler-0.10.0-py2.py3-none-any.whl\n",
      "Collecting kiwisolver>=1.0.1 (from matplotlib)\n",
      "  Using cached https://files.pythonhosted.org/packages/d2/46/231de802ade4225b76b96cffe419cf3ce52bbe92e3b092cf12db7d11c207/kiwisolver-1.3.1-cp37-cp37m-manylinux1_x86_64.whl\n",
      "Requirement already satisfied: six>=1.5 in /usr/local/lib/python3.7/site-packages (from python-dateutil>=2.1->matplotlib)\n",
      "Installing collected packages: python-dateutil, pyparsing, pillow, cycler, kiwisolver, matplotlib\n",
      "Successfully installed cycler-0.10.0 kiwisolver-1.3.1 matplotlib-3.3.3 pillow-8.0.1 pyparsing-2.4.7 python-dateutil-2.8.1\n",
      "\n",
      "Collecting descartes\n",
      "  Using cached https://files.pythonhosted.org/packages/e5/b6/1ed2eb03989ae574584664985367ba70cd9cf8b32ee8cad0e8aaeac819f3/descartes-1.1.0-py3-none-any.whl\n",
      "Requirement already satisfied: matplotlib in /mnt/tmp/1608600469005-0/lib/python3.7/site-packages (from descartes)\n",
      "Requirement already satisfied: numpy>=1.15 in /usr/local/lib64/python3.7/site-packages (from matplotlib->descartes)\n",
      "Requirement already satisfied: python-dateutil>=2.1 in /mnt/tmp/1608600469005-0/lib/python3.7/site-packages (from matplotlib->descartes)\n",
      "Requirement already satisfied: pyparsing!=2.0.4,!=2.1.2,!=2.1.6,>=2.0.3 in /mnt/tmp/1608600469005-0/lib/python3.7/site-packages (from matplotlib->descartes)\n",
      "Requirement already satisfied: pillow>=6.2.0 in /mnt/tmp/1608600469005-0/lib/python3.7/site-packages (from matplotlib->descartes)\n",
      "Requirement already satisfied: cycler>=0.10 in /mnt/tmp/1608600469005-0/lib/python3.7/site-packages (from matplotlib->descartes)\n",
      "Requirement already satisfied: kiwisolver>=1.0.1 in /mnt/tmp/1608600469005-0/lib/python3.7/site-packages (from matplotlib->descartes)\n",
      "Requirement already satisfied: six>=1.5 in /usr/local/lib/python3.7/site-packages (from python-dateutil>=2.1->matplotlib->descartes)\n",
      "Installing collected packages: descartes\n",
      "Successfully installed descartes-1.1.0\n",
      "\n",
      "Collecting shapely\n",
      "  Using cached https://files.pythonhosted.org/packages/98/f8/db4d3426a1aba9d5dfcc83ed5a3e2935d2b1deb73d350642931791a61c37/Shapely-1.7.1-cp37-cp37m-manylinux1_x86_64.whl\n",
      "Installing collected packages: shapely\n",
      "Successfully installed shapely-1.7.1\n",
      "\n",
      "Collecting pyproj==2.2.2\n",
      "  Using cached https://files.pythonhosted.org/packages/c9/28/1efec6032c100d956474e5fa4a4126b0cce1f43a4e2743f9c53c712c1453/pyproj-2.2.2-cp37-cp37m-manylinux1_x86_64.whl\n",
      "Installing collected packages: pyproj\n",
      "Successfully installed pyproj-2.2.2\n",
      "\n",
      "Collecting geopandas\n",
      "  Using cached https://files.pythonhosted.org/packages/f7/a4/e66aafbefcbb717813bf3a355c8c4fc3ed04ea1dd7feb2920f2f4f868921/geopandas-0.8.1-py2.py3-none-any.whl\n",
      "Requirement already satisfied: shapely in /mnt/tmp/1608600469005-0/lib/python3.7/site-packages (from geopandas)\n",
      "Collecting fiona (from geopandas)\n",
      "  Using cached https://files.pythonhosted.org/packages/47/c2/67d1d0acbaaee3b03e5e22e3b96c33219cb5dd392531c9ff9cee7c2eb3e4/Fiona-1.8.18-cp37-cp37m-manylinux1_x86_64.whl\n",
      "Requirement already satisfied: pyproj>=2.2.0 in /mnt/tmp/1608600469005-0/lib/python3.7/site-packages (from geopandas)\n",
      "Collecting pandas>=0.23.0 (from geopandas)\n",
      "  Using cached https://files.pythonhosted.org/packages/fd/70/e8eee0cbddf926bf51958c7d6a86bc69167c300fa2ba8e592330a2377d1b/pandas-1.1.5-cp37-cp37m-manylinux1_x86_64.whl\n",
      "Collecting cligj>=0.5 (from fiona->geopandas)\n",
      "  Using cached https://files.pythonhosted.org/packages/42/1e/947eadf10d6804bf276eb8a038bd5307996dceaaa41cfd21b7a15ec62f5d/cligj-0.7.1-py3-none-any.whl\n",
      "Collecting munch (from fiona->geopandas)\n",
      "  Using cached https://files.pythonhosted.org/packages/cc/ab/85d8da5c9a45e072301beb37ad7f833cd344e04c817d97e0cc75681d248f/munch-2.5.0-py2.py3-none-any.whl\n",
      "Collecting certifi (from fiona->geopandas)\n",
      "  Using cached https://files.pythonhosted.org/packages/5e/a0/5f06e1e1d463903cf0c0eebeb751791119ed7a4b3737fdc9a77f1cdfb51f/certifi-2020.12.5-py2.py3-none-any.whl\n",
      "Requirement already satisfied: click<8,>=4.0 in /usr/local/lib64/python3.7/site-packages (from fiona->geopandas)\n",
      "Requirement already satisfied: six>=1.7 in /usr/local/lib/python3.7/site-packages (from fiona->geopandas)\n",
      "Collecting attrs>=17 (from fiona->geopandas)\n",
      "  Using cached https://files.pythonhosted.org/packages/c3/aa/cb45262569fcc047bf070b5de61813724d6726db83259222cd7b4c79821a/attrs-20.3.0-py2.py3-none-any.whl\n",
      "Collecting click-plugins>=1.0 (from fiona->geopandas)\n",
      "  Using cached https://files.pythonhosted.org/packages/e9/da/824b92d9942f4e472702488857914bdd50f73021efea15b4cad9aca8ecef/click_plugins-1.1.1-py2.py3-none-any.whl\n",
      "Requirement already satisfied: numpy>=1.15.4 in /usr/local/lib64/python3.7/site-packages (from pandas>=0.23.0->geopandas)\n",
      "Requirement already satisfied: pytz>=2017.2 in /usr/local/lib/python3.7/site-packages (from pandas>=0.23.0->geopandas)\n",
      "Requirement already satisfied: python-dateutil>=2.7.3 in /mnt/tmp/1608600469005-0/lib/python3.7/site-packages (from pandas>=0.23.0->geopandas)\n",
      "Installing collected packages: cligj, munch, certifi, attrs, click-plugins, fiona, pandas, geopandas\n",
      "Successfully installed attrs-20.3.0 certifi-2020.12.5 click-plugins-1.1.1 cligj-0.7.1 fiona-1.8.18 geopandas-0.8.1 munch-2.5.0 pandas-1.1.5\n",
      "\n",
      "Collecting boto3\n",
      "  Using cached https://files.pythonhosted.org/packages/c9/c1/5c2b2259dd4a149f873f1ab9b4c5ef106c828a4abc7230c9452be8c27493/boto3-1.16.41-py2.py3-none-any.whl\n",
      "Requirement already satisfied: jmespath<1.0.0,>=0.7.1 in /usr/local/lib/python3.7/site-packages (from boto3)\n",
      "Collecting botocore<1.20.0,>=1.19.41 (from boto3)\n",
      "  Using cached https://files.pythonhosted.org/packages/b9/69/eecc498592e2ee9a300037881b38637358dbddd5211d2af061c8b177abe4/botocore-1.19.41-py2.py3-none-any.whl\n",
      "Collecting s3transfer<0.4.0,>=0.3.0 (from boto3)\n",
      "  Using cached https://files.pythonhosted.org/packages/69/79/e6afb3d8b0b4e96cefbdc690f741d7dd24547ff1f94240c997a26fa908d3/s3transfer-0.3.3-py2.py3-none-any.whl\n",
      "Requirement already satisfied: python-dateutil<3.0.0,>=2.1 in /mnt/tmp/1608600469005-0/lib/python3.7/site-packages (from botocore<1.20.0,>=1.19.41->boto3)\n",
      "Collecting urllib3<1.27,>=1.25.4; python_version != \"3.4\" (from botocore<1.20.0,>=1.19.41->boto3)\n",
      "  Using cached https://files.pythonhosted.org/packages/f5/71/45d36a8df68f3ebb098d6861b2c017f3d094538c0fb98fa61d4dc43e69b9/urllib3-1.26.2-py2.py3-none-any.whl\n",
      "Requirement already satisfied: six>=1.5 in /usr/local/lib/python3.7/site-packages (from python-dateutil<3.0.0,>=2.1->botocore<1.20.0,>=1.19.41->boto3)\n",
      "Installing collected packages: urllib3, botocore, s3transfer, boto3\n",
      "Successfully installed boto3-1.16.41 botocore-1.19.41 s3transfer-0.3.3 urllib3-1.26.2"
     ]
    }
   ],
   "source": [
    "from pyspark import SparkConf\n",
    "from pyspark import SparkContext\n",
    "\n",
    "spark_conf = (SparkConf().set(\"spark.speculation\", \"false\"))\n",
    "sc = SparkContext.getOrCreate(conf = spark_conf)\n",
    "\n",
    "# spark = sparkSession\n",
    "hadoop_conf = spark._jsc.hadoopConfiguration()\n",
    "hadoop_conf.set(\"fs.s3a.impl\", \"org.apache.hadoop.fs.s3a.S3AFileSystem\")\n",
    "hadoop_conf.set(\"mapreduce.fileoutputcommitter.algorithm.version\",\"2\")\n",
    "\n",
    "# installing required packages for this notebook session\n",
    "# installing required packages for this notebook session\n",
    "sc.install_pypi_package(\"matplotlib\")\n",
    "sc.install_pypi_package(\"descartes\")\n",
    "sc.install_pypi_package(\"shapely\")\n",
    "sc.install_pypi_package(\"pyproj==2.2.2\")\n",
    "sc.install_pypi_package(\"geopandas\")\n",
    "sc.install_pypi_package(\"boto3\")"
   ]
  },
  {
   "cell_type": "code",
   "execution_count": 6,
   "metadata": {},
   "outputs": [
    {
     "data": {
      "application/vnd.jupyter.widget-view+json": {
       "model_id": "f9b5c51052204d3795bd05596b40b327",
       "version_major": 2,
       "version_minor": 0
      },
      "text/plain": [
       "VBox()"
      ]
     },
     "metadata": {},
     "output_type": "display_data"
    },
    {
     "data": {
      "application/vnd.jupyter.widget-view+json": {
       "model_id": "",
       "version_major": 2,
       "version_minor": 0
      },
      "text/plain": [
       "FloatProgress(value=0.0, bar_style='info', description='Progress:', layout=Layout(height='25px', width='50%'),…"
      ]
     },
     "metadata": {},
     "output_type": "display_data"
    }
   ],
   "source": [
    "# libs\n",
    "import geopandas as gpd\n",
    "from shapely.geometry import Point, Polygon\n",
    "from pyspark.sql.functions import *\n",
    "\n",
    "# Reading São Paulo ESRI shape file\n",
    "sp_shape = gpd.read_file('s3://mobility-traces-sp/aux-files/shape-sp/DISTRITO_MUNICIPAL_SP_SMDUPolygon.shp')\n",
    "\n",
    "# Receives a point (lat,long) in a row, and sp variable shape file\n",
    "def get_region(row, sp):\n",
    "    # row[0] = longitude, row[1] = latitude\n",
    "    point = Point((float(row[0]), float(row[1])))\n",
    "    \n",
    "    # 96 districts\n",
    "    for i in range(96):\n",
    "        # if the point is within that region, the function return the region Name\n",
    "        if point.within(sp.loc[i, \"geometry\"]):\n",
    "            return sp.loc[i, \"Nome\"]\n",
    "    # if the point is outside sp, the function returns \"None\"\n",
    "    return \"None\"\n",
    "\n",
    "\n",
    "# user definied function for spark\n",
    "def get_region_udf(sp):\n",
    "    return udf(lambda x: get_region(x, sp))"
   ]
  },
  {
   "cell_type": "code",
   "execution_count": 7,
   "metadata": {},
   "outputs": [
    {
     "data": {
      "application/vnd.jupyter.widget-view+json": {
       "model_id": "6047750d81484d9cb9a4cef83d5880f1",
       "version_major": 2,
       "version_minor": 0
      },
      "text/plain": [
       "VBox()"
      ]
     },
     "metadata": {},
     "output_type": "display_data"
    },
    {
     "data": {
      "application/vnd.jupyter.widget-view+json": {
       "model_id": "",
       "version_major": 2,
       "version_minor": 0
      },
      "text/plain": [
       "FloatProgress(value=0.0, bar_style='info', description='Progress:', layout=Layout(height='25px', width='50%'),…"
      ]
     },
     "metadata": {},
     "output_type": "display_data"
    },
    {
     "name": "stdout",
     "output_type": "stream",
     "text": [
      "+-------+---------------+---------+----------+----------+\n",
      "|stop_id|      stop_name|stop_desc|  stop_lat|  stop_lon|\n",
      "+-------+---------------+---------+----------+----------+\n",
      "|  18848|       Clínicas|     null| -23.55419|-46.670723|\n",
      "|  18849|  Vila Madalena|     null| -23.54672|-46.690738|\n",
      "|  18850|     Consolação|     null|-23.557501|-46.660872|\n",
      "|  18851|      Conceição|     null|-23.636214|-46.641141|\n",
      "|  18852|      Jabaquara|     null|-23.645754|-46.642084|\n",
      "|  18853|      São Judas|     null| -23.62558|-46.640778|\n",
      "|  18854|          Saúde|     null|-23.618285|-46.639148|\n",
      "|  18855|Praça Da Árvore|     null|-23.610578|-46.637848|\n",
      "|  18856|     Santa Cruz|     null|-23.599225|-46.636659|\n",
      "|  18857|   Vila Mariana|     null|-23.589541|-46.634701|\n",
      "+-------+---------------+---------+----------+----------+\n",
      "only showing top 10 rows\n",
      "\n",
      "+---------+------------+--------------+---------+-------------+\n",
      "|  trip_id|arrival_time|departure_time|  stop_id|stop_sequence|\n",
      "+---------+------------+--------------+---------+-------------+\n",
      "|1015-10-0|    05:00:00|      05:00:00|   301726|            1|\n",
      "|1015-10-0|    05:06:00|      05:06:00|   301729|            2|\n",
      "|1015-10-0|    05:12:00|      05:12:00|   301727|            3|\n",
      "|1015-10-0|    05:18:00|      05:18:00| 30003001|            4|\n",
      "|1015-10-0|    05:30:00|      05:30:00| 30003051|            5|\n",
      "|1016-10-0|    12:00:00|      12:00:00|830004111|            1|\n",
      "|1016-10-0|    12:01:16|      12:01:16|  8312697|            2|\n",
      "|1016-10-0|    12:02:32|      12:02:32|830004014|            3|\n",
      "|1016-10-0|    12:03:48|      12:03:48|830004008|            4|\n",
      "|1016-10-0|    12:05:04|      12:05:04|  8313551|            5|\n",
      "+---------+------------+--------------+---------+-------------+\n",
      "only showing top 10 rows"
     ]
    }
   ],
   "source": [
    "# Joining Stop_time x Stops by stop_id\n",
    "\n",
    "stops = spark.read.csv(\"s3a://mobility-traces-sp/aux-files/gtfs/stops.csv\",header=True)\n",
    "stop_times = spark.read.csv(\"s3a://mobility-traces-sp/aux-files/gtfs/stop_times.csv\",header=True)\n",
    "\n",
    "\n",
    "stops.show(10)\n",
    "stop_times.show(10)\n"
   ]
  },
  {
   "cell_type": "code",
   "execution_count": 9,
   "metadata": {
    "scrolled": true
   },
   "outputs": [
    {
     "data": {
      "application/vnd.jupyter.widget-view+json": {
       "model_id": "1ada92a14766484bb8e3409e0895702e",
       "version_major": 2,
       "version_minor": 0
      },
      "text/plain": [
       "VBox()"
      ]
     },
     "metadata": {},
     "output_type": "display_data"
    },
    {
     "data": {
      "application/vnd.jupyter.widget-view+json": {
       "model_id": "",
       "version_major": 2,
       "version_minor": 0
      },
      "text/plain": [
       "FloatProgress(value=0.0, bar_style='info', description='Progress:', layout=Layout(height='25px', width='50%'),…"
      ]
     },
     "metadata": {},
     "output_type": "display_data"
    }
   ],
   "source": [
    "# Joining Stop_time x Stops by stop_id, and dropping not useful columns\n",
    "\n",
    "joined = stop_times.join(stops,on=[\"stop_id\"],how=\"left\").drop(\"arrival_time\",\"departure_time\",\"stop_name\",\"stop_desc\")\n",
    "\n",
    "\n",
    "# Adding region for each stop\n",
    "joined_with_region = joined.withColumn(\"region\", get_region_udf(sc.broadcast(sp_shape).value)\n",
    "                                                           (struct(joined[\"stop_lon\"],\n",
    "                                                             joined[\"stop_lat\"])))\n",
    "\n",
    "joined_with_region = joined_with_region.repartition(100)\n",
    "\n",
    "\n",
    "joined_with_region.repartition(100).write.parquet(\"s3://mobility-traces-sp/aux-files/gtfs/stopsXstop_times-region/\")"
   ]
  },
  {
   "cell_type": "code",
   "execution_count": 10,
   "metadata": {},
   "outputs": [
    {
     "data": {
      "application/vnd.jupyter.widget-view+json": {
       "model_id": "88db276eefd04f4b814c5622820c6c64",
       "version_major": 2,
       "version_minor": 0
      },
      "text/plain": [
       "VBox()"
      ]
     },
     "metadata": {},
     "output_type": "display_data"
    },
    {
     "data": {
      "application/vnd.jupyter.widget-view+json": {
       "model_id": "",
       "version_major": 2,
       "version_minor": 0
      },
      "text/plain": [
       "FloatProgress(value=0.0, bar_style='info', description='Progress:', layout=Layout(height='25px', width='50%'),…"
      ]
     },
     "metadata": {},
     "output_type": "display_data"
    }
   ],
   "source": [
    "# Checking if a shapes starts on the stops\n",
    "# Example \n",
    "# Trip_id 1016-10-0\n",
    "# Shape_ids = 53755 (checked in trips.csv)\n",
    "\n",
    "all_stops = spark.read.parquet(\"s3a://mobility-traces-sp/aux-files/gtfs/stopsXstop_times-region/\")\n",
    "\n",
    "coords_stops = all_stops.filter(\"trip_id == '1016-10-0'\").select(\"stop_lat\",\"stop_lon\").rdd.map(lambda r: [r[0],r[1]]).collect()\n",
    "\n",
    "# reading shapes\n",
    "all_shapes = spark.read.csv(\"s3a://mobility-traces-sp/aux-files/gtfs/shapes.csv\",header=True)\n",
    "\n",
    "coords_shapes = all_shapes.filter(\"shape_id == '53755'\").select(\"shape_pt_lat\",\"shape_pt_lon\").rdd.map(lambda r: [r[0],r[1]]).collect()"
   ]
  },
  {
   "cell_type": "code",
   "execution_count": 11,
   "metadata": {},
   "outputs": [
    {
     "data": {
      "application/vnd.jupyter.widget-view+json": {
       "model_id": "471f79342f234ef89c92e648e8a2f1e6",
       "version_major": 2,
       "version_minor": 0
      },
      "text/plain": [
       "VBox()"
      ]
     },
     "metadata": {},
     "output_type": "display_data"
    },
    {
     "data": {
      "application/vnd.jupyter.widget-view+json": {
       "model_id": "",
       "version_major": 2,
       "version_minor": 0
      },
      "text/plain": [
       "FloatProgress(value=0.0, bar_style='info', description='Progress:', layout=Layout(height='25px', width='50%'),…"
      ]
     },
     "metadata": {},
     "output_type": "display_data"
    },
    {
     "name": "stdout",
     "output_type": "stream",
     "text": [
      "Collecting folium\n",
      "  Using cached https://files.pythonhosted.org/packages/a4/f0/44e69d50519880287cc41e7c8a6acc58daa9a9acf5f6afc52bcc70f69a6d/folium-0.11.0-py2.py3-none-any.whl\n",
      "Collecting branca>=0.3.0 (from folium)\n",
      "  Using cached https://files.pythonhosted.org/packages/13/fb/9eacc24ba3216510c6b59a4ea1cd53d87f25ba76237d7f4393abeaf4c94e/branca-0.4.1-py3-none-any.whl\n",
      "Requirement already satisfied: numpy in /usr/local/lib64/python3.7/site-packages (from folium)\n",
      "Collecting jinja2>=2.9 (from folium)\n",
      "  Using cached https://files.pythonhosted.org/packages/30/9e/f663a2aa66a09d838042ae1a2c5659828bb9b41ea3a6efa20a20fd92b121/Jinja2-2.11.2-py2.py3-none-any.whl\n",
      "Collecting requests (from folium)\n",
      "  Using cached https://files.pythonhosted.org/packages/29/c1/24814557f1d22c56d50280771a17307e6bf87b70727d975fd6b2ce6b014a/requests-2.25.1-py2.py3-none-any.whl\n",
      "Collecting MarkupSafe>=0.23 (from jinja2>=2.9->folium)\n",
      "  Using cached https://files.pythonhosted.org/packages/98/7b/ff284bd8c80654e471b769062a9b43cc5d03e7a615048d96f4619df8d420/MarkupSafe-1.1.1-cp37-cp37m-manylinux1_x86_64.whl\n",
      "Requirement already satisfied: urllib3<1.27,>=1.21.1 in /mnt/tmp/1608600469005-0/lib/python3.7/site-packages (from requests->folium)\n",
      "Collecting chardet<5,>=3.0.2 (from requests->folium)\n",
      "  Using cached https://files.pythonhosted.org/packages/19/c7/fa589626997dd07bd87d9269342ccb74b1720384a4d739a1872bd84fbe68/chardet-4.0.0-py2.py3-none-any.whl\n",
      "Collecting idna<3,>=2.5 (from requests->folium)\n",
      "  Using cached https://files.pythonhosted.org/packages/a2/38/928ddce2273eaa564f6f50de919327bf3a00f091b5baba8dfa9460f3a8a8/idna-2.10-py2.py3-none-any.whl\n",
      "Requirement already satisfied: certifi>=2017.4.17 in /mnt/tmp/1608600469005-0/lib/python3.7/site-packages (from requests->folium)\n",
      "Installing collected packages: MarkupSafe, jinja2, branca, chardet, idna, requests, folium\n",
      "Successfully installed MarkupSafe-1.1.1 branca-0.4.1 chardet-4.0.0 folium-0.11.0 idna-2.10 jinja2-2.11.2 requests-2.25.1"
     ]
    }
   ],
   "source": [
    "sc.install_pypi_package(\"folium\")"
   ]
  },
  {
   "cell_type": "code",
   "execution_count": 19,
   "metadata": {},
   "outputs": [
    {
     "data": {
      "application/vnd.jupyter.widget-view+json": {
       "model_id": "7302c814d32c47108953b842aa60ed51",
       "version_major": 2,
       "version_minor": 0
      },
      "text/plain": [
       "VBox()"
      ]
     },
     "metadata": {},
     "output_type": "display_data"
    },
    {
     "data": {
      "application/vnd.jupyter.widget-view+json": {
       "model_id": "",
       "version_major": 2,
       "version_minor": 0
      },
      "text/plain": [
       "FloatProgress(value=0.0, bar_style='info', description='Progress:', layout=Layout(height='25px', width='50%'),…"
      ]
     },
     "metadata": {},
     "output_type": "display_data"
    },
    {
     "name": "stdout",
     "output_type": "stream",
     "text": [
      "259\n",
      "258\n",
      "257\n",
      "256\n",
      "255\n",
      "254\n",
      "253\n",
      "252\n",
      "251\n",
      "250\n",
      "249\n",
      "248\n",
      "247\n",
      "246\n",
      "245\n",
      "244\n",
      "243\n",
      "242\n",
      "241\n",
      "240\n",
      "239\n",
      "238\n",
      "237\n",
      "236\n",
      "235\n",
      "234\n",
      "233\n",
      "232\n",
      "231\n",
      "230\n",
      "229\n",
      "228\n",
      "227\n",
      "226\n",
      "225\n",
      "224\n",
      "223\n",
      "222\n",
      "221\n",
      "220\n",
      "219\n",
      "218\n",
      "217\n",
      "216\n",
      "215\n",
      "214\n",
      "213\n",
      "212\n",
      "211\n",
      "210\n",
      "209\n",
      "208\n",
      "207\n",
      "206\n",
      "205\n",
      "204\n",
      "203\n",
      "202\n",
      "201\n",
      "200\n",
      "199\n",
      "198\n",
      "197\n",
      "196\n",
      "195\n",
      "194\n",
      "193\n",
      "192\n",
      "191\n",
      "190\n",
      "189\n",
      "188\n",
      "187\n",
      "186\n",
      "185\n",
      "184\n",
      "183\n",
      "182\n",
      "181\n",
      "180\n",
      "179\n",
      "178\n",
      "177\n",
      "176\n",
      "175\n",
      "174\n",
      "173\n",
      "172\n",
      "171\n",
      "170\n",
      "169\n",
      "168\n",
      "167\n",
      "166\n",
      "165\n",
      "164\n",
      "163\n",
      "162\n",
      "161\n",
      "160\n",
      "159\n",
      "158\n",
      "157\n",
      "156\n",
      "155\n",
      "154\n",
      "153\n",
      "152\n",
      "151\n",
      "150\n",
      "149\n",
      "148\n",
      "147\n",
      "146\n",
      "145\n",
      "144\n",
      "143\n",
      "142\n",
      "141\n",
      "140\n",
      "139\n",
      "138\n",
      "137\n",
      "136\n",
      "135\n",
      "134\n",
      "133\n",
      "132\n",
      "131\n",
      "130\n",
      "129\n",
      "128\n",
      "127\n",
      "126\n",
      "125\n",
      "124\n",
      "123\n",
      "122\n",
      "121\n",
      "120\n",
      "119\n",
      "118\n",
      "117\n",
      "116\n",
      "115\n",
      "114\n",
      "113\n",
      "112\n",
      "111\n",
      "110\n",
      "109\n",
      "108\n",
      "107\n",
      "106\n",
      "105\n",
      "104\n",
      "103\n",
      "102\n",
      "101\n",
      "100\n",
      "99\n",
      "98\n",
      "97\n",
      "96\n",
      "95\n",
      "94\n",
      "93\n",
      "92\n",
      "91\n",
      "90\n",
      "89\n",
      "88\n",
      "87\n",
      "86\n",
      "85\n",
      "84\n",
      "83\n",
      "82\n",
      "81\n",
      "80\n",
      "79\n",
      "78\n",
      "77\n",
      "76\n",
      "75\n",
      "74\n",
      "73\n",
      "72\n",
      "71\n",
      "70\n",
      "69\n",
      "68\n",
      "67\n",
      "66\n",
      "65\n",
      "64\n",
      "63\n",
      "62\n",
      "61\n",
      "60\n",
      "59\n",
      "58\n",
      "57\n",
      "56\n",
      "55\n",
      "54\n",
      "53\n",
      "52\n",
      "51\n",
      "50\n",
      "49\n",
      "48\n",
      "47\n",
      "46\n",
      "45\n",
      "44\n",
      "43\n",
      "42\n",
      "41\n",
      "40\n",
      "39\n",
      "38\n",
      "37\n",
      "36\n",
      "35\n",
      "34\n",
      "33\n",
      "32\n",
      "31\n",
      "30\n",
      "29\n",
      "28\n",
      "27\n",
      "26\n",
      "25\n",
      "24\n",
      "23\n",
      "22\n",
      "21\n",
      "20\n",
      "19\n",
      "18\n",
      "17\n",
      "16\n",
      "15\n",
      "14\n",
      "13\n",
      "12\n",
      "11\n",
      "10\n",
      "9\n",
      "8\n",
      "7\n",
      "6\n",
      "5\n",
      "4\n",
      "3\n",
      "2\n",
      "1\n",
      "0\n",
      "-1\n",
      "-2\n",
      "-3\n",
      "-4\n",
      "-5\n",
      "-6\n",
      "-7\n",
      "-8\n",
      "-9\n",
      "-10\n",
      "-11\n",
      "-12\n",
      "-13\n",
      "-14\n",
      "-15\n",
      "-16\n",
      "-17\n",
      "-18\n",
      "-19\n",
      "-20\n",
      "-21\n",
      "-22\n",
      "-23\n",
      "-24\n",
      "-25\n",
      "-26\n",
      "-27\n",
      "-28\n",
      "-29\n",
      "-30\n",
      "-31\n",
      "-32\n",
      "-33\n",
      "-34\n",
      "-35\n",
      "-36\n",
      "-37\n",
      "-38\n",
      "-39\n",
      "-40"
     ]
    }
   ],
   "source": [
    "import folium\n",
    "\n",
    "map_folium = folium.Map([-23.477476,-46.610409], zoom_start=15)\n",
    "\n",
    "tile = folium.TileLayer('cartodbpositron').add_to(map_folium)\n",
    "\n",
    "\n",
    "counter = len(coords_shapes)\n",
    "\n",
    "for coord in coords_shapes:\n",
    "    counter = counter - 1\n",
    "    print(counter)\n",
    "    icon = folium.features.CustomIcon('/home/hadoop/green-point.png', icon_size=(10,10))\n",
    "    folium.Marker(coord,icon=icon).add_to(map_folium)\n",
    "    \n",
    "    \n",
    "for coord in coords_stops:\n",
    "    counter = counter - 1\n",
    "    print(counter)\n",
    "    icon = folium.features.CustomIcon('/home/hadoop/red-point.png', icon_size=(10,10))\n",
    "    folium.Marker(coord,icon=icon).add_to(map_folium)\n",
    "\n",
    "    \n",
    "map_folium.save(\"/tmp/visualizing-shapes-and-stops.html\")\n"
   ]
  },
  {
   "cell_type": "code",
   "execution_count": null,
   "metadata": {},
   "outputs": [],
   "source": [
    "# Some Notes\n",
    "# 1- Juntar arquivo MO e , no final dt_avl,id_avl,x,y,line_id,route_id (rota/direcao)\n",
    "# 2- Juntar arquivos routes, stops, trips, stop_times\n",
    "# 3- Cruzar dois arquivos --> dt_avl,id_avl,x,y,line_id,route_id, trip_id, stop_id, stop_sequence, stopX, direction\n",
    "# 4- Computar distancia entre Lat e Long do StopX,StopY.\n",
    "# 5- Fazer marcacao do ponto mais proximo\n"
   ]
  },
  {
   "cell_type": "code",
   "execution_count": null,
   "metadata": {},
   "outputs": [],
   "source": [
    "# # Some Notes\n",
    "\n",
    "# - Linhas circulares\n",
    "# - Andando para trás\n",
    "# - O onibus fica emitindo registros varias vezes a partirdo terminal de saída\n",
    "\n"
   ]
  },
  {
   "cell_type": "code",
   "execution_count": 20,
   "metadata": {},
   "outputs": [
    {
     "data": {
      "application/vnd.jupyter.widget-view+json": {
       "model_id": "b03c4dc073b54a8a86765bd6506f7d56",
       "version_major": 2,
       "version_minor": 0
      },
      "text/plain": [
       "VBox()"
      ]
     },
     "metadata": {},
     "output_type": "display_data"
    },
    {
     "data": {
      "application/vnd.jupyter.widget-view+json": {
       "model_id": "",
       "version_major": 2,
       "version_minor": 0
      },
      "text/plain": [
       "FloatProgress(value=0.0, bar_style='info', description='Progress:', layout=Layout(height='25px', width='50%'),…"
      ]
     },
     "metadata": {},
     "output_type": "display_data"
    }
   ],
   "source": [
    "# Some Notes\n",
    "# # Como calcular velocidade\n",
    "# 1- Dada uma viagem (ordenacao de timestamp), pega o último registro, com o ultimo StopId da sequencia\n",
    "# 2- Para cada registro consecutivos, calcular distancia entre pontos, calcular delta tempo. Vmedia = distancia/delta tempo = velocidade média escalar\n",
    "# 2a - Filtro de velocidade (onibus com velocidade muito alta ou muito baixao)\n",
    "# 3- A velocidade média dauqela viagem é a média de todas as velocidades escalares\n",
    "# 4- Velocidades serão agrupadas\n",
    "#     Média por região\n",
    "#     Média por dia\n",
    "    \n",
    "    \n",
    "#     pq nao calcular --> VmViagem = (ponto final - ponto inicial)/(Tfinal - Tinicial) (validar ideia grosso)\n",
    "    \n",
    "    \n",
    "    \n",
    "\n"
   ]
  },
  {
   "cell_type": "code",
   "execution_count": 21,
   "metadata": {},
   "outputs": [
    {
     "data": {
      "application/vnd.jupyter.widget-view+json": {
       "model_id": "c967c31d964a44b8913f2e6f0527b8a7",
       "version_major": 2,
       "version_minor": 0
      },
      "text/plain": [
       "VBox()"
      ]
     },
     "metadata": {},
     "output_type": "display_data"
    },
    {
     "data": {
      "application/vnd.jupyter.widget-view+json": {
       "model_id": "",
       "version_major": 2,
       "version_minor": 0
      },
      "text/plain": [
       "FloatProgress(value=0.0, bar_style='info', description='Progress:', layout=Layout(height='25px', width='50%'),…"
      ]
     },
     "metadata": {},
     "output_type": "display_data"
    }
   ],
   "source": [
    "# Some Notes\n",
    "\n",
    "# Como calcular as métricas de conectividade\n",
    "# 1- Particionar os dados por Dia / hora /min /região --> 08/19/36/pompeia\n",
    "# 2- Computar distância para registros de cada partição.\n",
    "#     Se distancia < 100m, criar conectividade\n",
    "# Será montado um grafo com pesos\n",
    "# quais regioes há mais conexoes\n",
    "# O numero de conexoes será o numero de contatos do onibus"
   ]
  }
 ],
 "metadata": {
  "kernelspec": {
   "display_name": "Python 3",
   "language": "python",
   "name": "python3"
  },
  "language_info": {
   "codemirror_mode": {
    "name": "ipython",
    "version": 3
   },
   "file_extension": ".py",
   "mimetype": "text/x-python",
   "name": "python",
   "nbconvert_exporter": "python",
   "pygments_lexer": "ipython3",
   "version": "3.7.4"
  }
 },
 "nbformat": 4,
 "nbformat_minor": 2
}
