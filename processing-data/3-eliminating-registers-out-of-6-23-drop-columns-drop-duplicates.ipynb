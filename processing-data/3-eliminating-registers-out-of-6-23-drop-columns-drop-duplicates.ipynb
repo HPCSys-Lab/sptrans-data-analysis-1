{
 "cells": [
  {
   "cell_type": "code",
   "execution_count": 30,
   "metadata": {},
   "outputs": [
    {
     "data": {
      "application/vnd.jupyter.widget-view+json": {
       "model_id": "435132fc60f3401584ea00cf4e0befd7",
       "version_major": 2,
       "version_minor": 0
      },
      "text/plain": [
       "VBox()"
      ]
     },
     "metadata": {},
     "output_type": "display_data"
    },
    {
     "data": {
      "application/vnd.jupyter.widget-view+json": {
       "model_id": "",
       "version_major": 2,
       "version_minor": 0
      },
      "text/plain": [
       "FloatProgress(value=0.0, bar_style='info', description='Progress:', layout=Layout(height='25px', width='50%'),…"
      ]
     },
     "metadata": {},
     "output_type": "display_data"
    }
   ],
   "source": [
    "# Descrição\n",
    "# Após definir a hora inteira de cada linha/registros, este notebook filtra \n",
    "# os dados mantendo os registros entre às 06:00 e 22:59 com base na hora do servidor (hour_server).\n",
    "# Eliminar colunas que não serão utilizadas.\n",
    "# Elimina registros duplicados.\n",
    "# Dado armazenado em parquet.\n",
    "#\n",
    "# Description\n",
    "# After defining the hour for each line/register (hour_server,hour_avl), this notebooks filters\n",
    "# filters the data keeping the registers between 06:00 and 22:59 \n",
    "# based on server hour (hour_server). The processed data is stored as parquet.\n",
    "# Drop not useful columns\n",
    "# Drop duplicates based on dt_avl, id_avl, line_id"
   ]
  },
  {
   "cell_type": "code",
   "execution_count": 31,
   "metadata": {},
   "outputs": [
    {
     "data": {
      "application/vnd.jupyter.widget-view+json": {
       "model_id": "67679b2445234553a41d76e07922ec01",
       "version_major": 2,
       "version_minor": 0
      },
      "text/plain": [
       "VBox()"
      ]
     },
     "metadata": {},
     "output_type": "display_data"
    },
    {
     "data": {
      "application/vnd.jupyter.widget-view+json": {
       "model_id": "",
       "version_major": 2,
       "version_minor": 0
      },
      "text/plain": [
       "FloatProgress(value=0.0, bar_style='info', description='Progress:', layout=Layout(height='25px', width='50%'),…"
      ]
     },
     "metadata": {},
     "output_type": "display_data"
    }
   ],
   "source": [
    "from pyspark import SparkConf\n",
    "from pyspark import SparkContext\n",
    "\n",
    "spark_conf = (SparkConf().set(\"spark.speculation\", \"false\"))\n",
    "sc = SparkContext.getOrCreate(conf = spark_conf)\n",
    "\n",
    "# sparkSession = spark --> in the case of EMR\n",
    "hadoop_conf = spark._jsc.hadoopConfiguration()\n",
    "hadoop_conf.set(\"fs.s3a.impl\", \"org.apache.hadoop.fs.s3a.S3AFileSystem\")\n",
    "hadoop_conf.set(\"mapreduce.fileoutputcommitter.algorithm.version\",\"2\")"
   ]
  },
  {
   "cell_type": "code",
   "execution_count": 32,
   "metadata": {},
   "outputs": [
    {
     "data": {
      "application/vnd.jupyter.widget-view+json": {
       "model_id": "afada18395614f48bd3d489327726328",
       "version_major": 2,
       "version_minor": 0
      },
      "text/plain": [
       "VBox()"
      ]
     },
     "metadata": {},
     "output_type": "display_data"
    },
    {
     "data": {
      "application/vnd.jupyter.widget-view+json": {
       "model_id": "",
       "version_major": 2,
       "version_minor": 0
      },
      "text/plain": [
       "FloatProgress(value=0.0, bar_style='info', description='Progress:', layout=Layout(height='25px', width='50%'),…"
      ]
     },
     "metadata": {},
     "output_type": "display_data"
    }
   ],
   "source": [
    "from pyspark.sql.types import *\n",
    "\n",
    "# Data schema\n",
    "custom_schema = StructType([\n",
    "    StructField(\"dt_server\", StringType()),\n",
    "    StructField(\"dt_avl\", StringType()),\n",
    "    StructField(\"line_id\", IntegerType()),\n",
    "    StructField(\"latitude\", DoubleType()),\n",
    "    StructField(\"longitude\", DoubleType()),\n",
    "    StructField(\"id_avl\", IntegerType()),\n",
    "    StructField(\"event\", IntegerType()),\n",
    "    StructField(\"id_point\", IntegerType()),\n",
    "    StructField(\"hour_server\", IntegerType()),\n",
    "    StructField(\"hour_avl\", IntegerType()),\n",
    "    StructField(\"hour_diff\", FloatType())\n",
    "])"
   ]
  },
  {
   "cell_type": "code",
   "execution_count": 33,
   "metadata": {},
   "outputs": [
    {
     "data": {
      "application/vnd.jupyter.widget-view+json": {
       "model_id": "30e1e46f47b743a69db75652a64b4b31",
       "version_major": 2,
       "version_minor": 0
      },
      "text/plain": [
       "VBox()"
      ]
     },
     "metadata": {},
     "output_type": "display_data"
    },
    {
     "data": {
      "application/vnd.jupyter.widget-view+json": {
       "model_id": "",
       "version_major": 2,
       "version_minor": 0
      },
      "text/plain": [
       "FloatProgress(value=0.0, bar_style='info', description='Progress:', layout=Layout(height='25px', width='50%'),…"
      ]
     },
     "metadata": {},
     "output_type": "display_data"
    }
   ],
   "source": [
    "# october days between 1 and 31\n",
    "for day in range(1,32):\n",
    "    \n",
    "    # reading raw enriched data\n",
    "    traces = spark.read.csv(\"s3a://mobility-traces-sp/raw-hour-dt_server-dt_avl-hour_diff/MO_1510\"+ str(day) + \"/\", header = 'false',schema=custom_schema)\n",
    "    \n",
    "    # dropping not useful columns\n",
    "    traces_dropped = traces.drop(\"dt_server\",\"event\",\"id_point\",\"hour_server\",\"hour_diff\")\n",
    "    \n",
    "    # filtering data between 06:00 and 22:59:59 based in hour_avl\n",
    "    traces_filtered = traces_dropped.filter('hour_avl in (6,7,8,9,10,11,12,13,14,15,16,17,18,19,20,21,22)')\n",
    "    \n",
    "    # Dropping duplicates by fields dt_avl, id_avl, line_id\n",
    "    traces_no_duplicates = traces_filtered.drop_duplicates(subset=[\"dt_avl\",\"id_avl\",\"line_id\"])\n",
    "    \n",
    "    \n",
    "    # storing filtered traces\n",
    "    traces_no_duplicates.repartition(60).write.parquet(\"s3://mobility-traces-sp/processed-data-avl-date/1-records-between-6-23-avl-hour-dropped-columns-no-duplicates/MO_1510\"+ str(day) + \"/\")"
   ]
  },
  {
   "cell_type": "markdown",
   "metadata": {},
   "source": [
    "# Results\n",
    "- Dropped not useful columns\n",
    "- Keep register between 6:00 and 22:59:59\n",
    "- Dropped register with the same dt_avl, id_avl, line_id --> a bus in different places at the same time. Drop duplicates search for equal lines based on the columns keeps the first and drops the rest.\n",
    "- Files with around 2.2-2.5GB for 450MB (reduction with the processing and the convertion to parquet)"
   ]
  }
 ],
 "metadata": {
  "kernelspec": {
   "display_name": "Python 3",
   "language": "python",
   "name": "python3"
  },
  "language_info": {
   "codemirror_mode": {
    "name": "ipython",
    "version": 3
   },
   "file_extension": ".py",
   "mimetype": "text/x-python",
   "name": "python",
   "nbconvert_exporter": "python",
   "pygments_lexer": "ipython3",
   "version": "3.7.4"
  }
 },
 "nbformat": 4,
 "nbformat_minor": 4
}
