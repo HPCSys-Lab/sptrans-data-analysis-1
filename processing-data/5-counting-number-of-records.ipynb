{
 "cells": [
  {
   "cell_type": "code",
   "execution_count": null,
   "metadata": {},
   "outputs": [],
   "source": [
    "# Descrição\n",
    "# Este notebook conta o número de registros de cada arquivo em cada etapa de processamento.\n",
    "#\n",
    "# Description\n",
    "# This notebook counts the number of register in each file in each processing step."
   ]
  },
  {
   "cell_type": "code",
   "execution_count": null,
   "metadata": {},
   "outputs": [],
   "source": [
    "# Spark Config\n",
    "from pyspark import SparkConf\n",
    "from pyspark import SparkContext\n",
    "\n",
    "spark_conf = (SparkConf().set(\"spark.speculation\", \"false\"))\n",
    "sc = SparkContext.getOrCreate(conf = spark_conf)\n",
    "\n",
    "# spark = sparkSession\n",
    "hadoop_conf = spark._jsc.hadoopConfiguration()\n",
    "hadoop_conf.set(\"fs.s3a.impl\", \"org.apache.hadoop.fs.s3a.S3AFileSystem\")\n",
    "hadoop_conf.set(\"mapreduce.fileoutputcommitter.algorithm.version\",\"2\")\n",
    "\n",
    "# installing necessary packages for notebook session\n",
    "sc.install_pypi_package(\"boto3\")"
   ]
  },
  {
   "cell_type": "code",
   "execution_count": null,
   "metadata": {},
   "outputs": [],
   "source": [
    "from dateutil import parser\n",
    "# lib boto3 to use aws services\n",
    "import boto3\n",
    "\n",
    "# counting file sizes aka number of records\n",
    "counters = {\"MO_1510\" + str(day): {\"raw_data\": 0, \"hour-6-23\": 0, \"hour-6-23-in-sp\": 0} for day in range(1,32)}\n",
    "\n",
    "\n",
    "for key in counters.keys():\n",
    "    # reading raw data\n",
    "    traces_raw = spark.read.csv(\"s3a://mobility-traces-sp/raw-data/\" + key + \".csv\")\n",
    "    # count raw data records\n",
    "    counters[key][\"raw_data\"] = traces_raw.count()\n",
    "    \n",
    "    # reading records_between_6-23_hour\n",
    "    traces_hour_6_23 = spark.read.parquet(\"s3a://mobility-traces-sp/processed-data/using-server-hour/records-between-6-23-server-hour/\" + key + \"/\")\n",
    "    # counting records\n",
    "    counters[key][\"hour-6-23\"] = traces_hour_6_23.count()\n",
    "    \n",
    "    # reading records_between_6_23_only_in_sp\n",
    "    traces_hour_6_23_in_sp = spark.read.parquet(\"s3a://mobility-traces-sp/processed-data/using-server-hour/records-between-6-23-only-sp-server-hour/\" + key + \"/\")\n",
    "    # counting records\n",
    "    counters[key][\"hour-6-23-in-sp\"] = traces_hour_6_23_in_sp.count()\n",
    "\n",
    "# file header\n",
    "csv_out = \"day,raw_data_count,hour_6_23_count,hour_6_23_in_sp_count\\n\"\n",
    "for key in counters.keys():\n",
    "    # writing csv text\n",
    "    csv_out += key +\",\"+str(counters[key][\"raw_data\"])+\",\"+str(counters[key][\"hour-6-23\"])+\",\"+str(counters[key][\"hour-6-23-in-sp\"])+\"\\n\"\n",
    "    \n",
    "s3 = boto3.client('s3')\n",
    "\n",
    "# writing results in S3\n",
    "s3.put_object(Body=bytes(csv_out,\"utf-8\"), Bucket='mobility-traces-sp', Key='statistics/number-of-records/number-records-per-file-using-server-hour.csv')"
   ]
  },
  {
   "cell_type": "code",
   "execution_count": null,
   "metadata": {},
   "outputs": [],
   "source": [
    "# Results"
   ]
  }
 ],
 "metadata": {
  "kernelspec": {
   "display_name": "Python 3",
   "language": "python",
   "name": "python3"
  },
  "language_info": {
   "codemirror_mode": {
    "name": "ipython",
    "version": 3
   },
   "file_extension": ".py",
   "mimetype": "text/x-python",
   "name": "python",
   "nbconvert_exporter": "python",
   "pygments_lexer": "ipython3",
   "version": "3.7.4"
  }
 },
 "nbformat": 4,
 "nbformat_minor": 4
}
