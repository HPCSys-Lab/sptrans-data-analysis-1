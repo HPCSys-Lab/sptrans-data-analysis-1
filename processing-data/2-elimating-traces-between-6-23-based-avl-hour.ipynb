{
 "cells": [
  {
   "cell_type": "code",
   "execution_count": 3,
   "metadata": {},
   "outputs": [],
   "source": [
    "# Descrição\n",
    "# Este notebook filtra os dados não processados e enriquecidos (hour_server,hour_avl e hour_diff) \n",
    "# cujos registros estão entre às 06:00 e 22:59 baseados no horário do servidor (hour_server). \n",
    "# Os dados processados são armazenados em parquet.\n",
    "#\n",
    "#\n",
    "# Description\n",
    "# This notebook filters the enriched raw data (hour_server, hour_avl and hour_diff) between 06:00 and 22:59 \n",
    "# based on server hour (hour-server). The processed data is stored as parquet."
   ]
  },
  {
   "cell_type": "code",
   "execution_count": null,
   "metadata": {},
   "outputs": [],
   "source": [
    "from pyspark import SparkConf\n",
    "from pyspark import SparkContext\n",
    "\n",
    "spark_conf = (SparkConf().set(\"spark.speculation\", \"false\"))\n",
    "sc = SparkContext.getOrCreate(conf = spark_conf)\n",
    "\n",
    "# sparkSession = spark --> in the case of EMR\n",
    "hadoop_conf = spark._jsc.hadoopConfiguration()\n",
    "hadoop_conf.set(\"fs.s3a.impl\", \"org.apache.hadoop.fs.s3a.S3AFileSystem\")\n",
    "hadoop_conf.set(\"mapreduce.fileoutputcommitter.algorithm.version\",\"2\")"
   ]
  },
  {
   "cell_type": "code",
   "execution_count": null,
   "metadata": {},
   "outputs": [],
   "source": [
    "from pyspark.sql.types import *\n",
    "\n",
    "# Raw enriched data schema\n",
    "custom_schema = StructType([\n",
    "    StructField(\"dt_server\", StringType()),\n",
    "    StructField(\"dt_avl\", StringType()),\n",
    "    StructField(\"line_id\", IntegerType()),\n",
    "    StructField(\"latitude\", DoubleType()),\n",
    "    StructField(\"longitude\", DoubleType()),\n",
    "    StructField(\"id_avl\", IntegerType()),\n",
    "    StructField(\"event\", IntegerType()),\n",
    "    StructField(\"id_point\", IntegerType()),\n",
    "    StructField(\"hour_server\", IntegerType()),\n",
    "    StructField(\"hour_avl\", IntegerType()),\n",
    "    StructField(\"hour_diff\", FloatType())\n",
    "])"
   ]
  },
  {
   "cell_type": "code",
   "execution_count": null,
   "metadata": {},
   "outputs": [],
   "source": [
    "# october days between 1 and 32\n",
    "for day in range(1,32):\n",
    "    \n",
    "    # reading raw enriched data\n",
    "    traces = spark.read.csv(\"s3a://mobility-traces-sp/raw-hour-dt_server-dt_avl-hour_diff/MO_1510\"+ str(day) + \"/\", header = 'false',schema=custom_schema)\n",
    "    \n",
    "    # filtering data between 06:00 and 22:59:59 based in hour_server\n",
    "    traces_filtered = traces.filter('hour_server in (6,7,8,9,10,11,12,13,14,15,16,17,18,19,20,21,22)')\n",
    "    \n",
    "    # storing filtered traces\n",
    "    traces_filtered.repartition(60).write.parquet(\"s3://mobility-traces-sp/processed-data/using-server-hour/records-between-6-23-server-hour/MO_1510\"+ str(day) + \"/\")"
   ]
  }
 ],
 "metadata": {
  "kernelspec": {
   "display_name": "Python 3",
   "language": "python",
   "name": "python3"
  },
  "language_info": {
   "codemirror_mode": {
    "name": "ipython",
    "version": 3
   },
   "file_extension": ".py",
   "mimetype": "text/x-python",
   "name": "python",
   "nbconvert_exporter": "python",
   "pygments_lexer": "ipython3",
   "version": "3.7.4"
  }
 },
 "nbformat": 4,
 "nbformat_minor": 4
}
