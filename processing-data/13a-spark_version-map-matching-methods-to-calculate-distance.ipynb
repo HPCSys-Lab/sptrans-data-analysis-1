{
 "cells": [
  {
   "cell_type": "code",
   "execution_count": 1,
   "metadata": {},
   "outputs": [
    {
     "data": {
      "application/vnd.jupyter.widget-view+json": {
       "model_id": "c84ea03bb34847cb888ed07782d4f2d7",
       "version_major": 2,
       "version_minor": 0
      },
      "text/plain": [
       "VBox()"
      ]
     },
     "metadata": {},
     "output_type": "display_data"
    },
    {
     "name": "stdout",
     "output_type": "stream",
     "text": [
      "Starting Spark application\n"
     ]
    },
    {
     "data": {
      "text/html": [
       "<table>\n",
       "<tr><th>ID</th><th>YARN Application ID</th><th>Kind</th><th>State</th><th>Spark UI</th><th>Driver log</th><th>Current session?</th></tr><tr><td>0</td><td>application_1608426013125_0001</td><td>pyspark</td><td>idle</td><td><a target=\"_blank\" href=\"http://ip-172-31-92-23.ec2.internal:20888/proxy/application_1608426013125_0001/\" >Link</a></td><td><a target=\"_blank\" href=\"http://ip-172-31-91-82.ec2.internal:8042/node/containerlogs/container_1608426013125_0001_01_000001/livy\" >Link</a></td><td>✔</td></tr></table>"
      ],
      "text/plain": [
       "<IPython.core.display.HTML object>"
      ]
     },
     "metadata": {},
     "output_type": "display_data"
    },
    {
     "data": {
      "application/vnd.jupyter.widget-view+json": {
       "model_id": "",
       "version_major": 2,
       "version_minor": 0
      },
      "text/plain": [
       "FloatProgress(value=0.0, bar_style='info', description='Progress:', layout=Layout(height='25px', width='50%'),…"
      ]
     },
     "metadata": {},
     "output_type": "display_data"
    },
    {
     "name": "stdout",
     "output_type": "stream",
     "text": [
      "SparkSession available as 'spark'.\n"
     ]
    },
    {
     "data": {
      "application/vnd.jupyter.widget-view+json": {
       "model_id": "",
       "version_major": 2,
       "version_minor": 0
      },
      "text/plain": [
       "FloatProgress(value=0.0, bar_style='info', description='Progress:', layout=Layout(height='25px', width='50%'),…"
      ]
     },
     "metadata": {},
     "output_type": "display_data"
    }
   ],
   "source": [
    "# Calculating the nearest shape for each record in MO python using spark and udf functions"
   ]
  },
  {
   "cell_type": "code",
   "execution_count": null,
   "metadata": {},
   "outputs": [],
   "source": [
    "# Spark Config\n",
    "from pyspark import SparkConf\n",
    "from pyspark import SparkContext\n",
    "\n",
    "spark_conf = (SparkConf().set(\"spark.speculation\", \"false\"))\n",
    "sc = SparkContext.getOrCreate(conf = spark_conf)\n",
    "\n",
    "# spark = sparkSession\n",
    "hadoop_conf = spark._jsc.hadoopConfiguration()\n",
    "hadoop_conf.set(\"fs.s3a.impl\", \"org.apache.hadoop.fs.s3a.S3AFileSystem\")\n",
    "hadoop_conf.set(\"mapreduce.fileoutputcommitter.algorithm.version\",\"2\")\n",
    "\n",
    "# installing required packages for this notebook session\n",
    "sc.install_pypi_package(\"matplotlib\")\n",
    "sc.install_pypi_package(\"descartes\")\n",
    "sc.install_pypi_package(\"shapely\")\n",
    "sc.install_pypi_package(\"pyproj==2.2.2\")\n",
    "sc.install_pypi_package(\"pandas\")\n",
    "sc.install_pypi_package(\"geopy==1.20.0\")\n",
    "sc.install_pypi_package(\"haversine\")"
   ]
  },
  {
   "cell_type": "code",
   "execution_count": 13,
   "metadata": {},
   "outputs": [
    {
     "data": {
      "application/vnd.jupyter.widget-view+json": {
       "model_id": "87dc854e00c946e79ba286cdb7c856cd",
       "version_major": 2,
       "version_minor": 0
      },
      "text/plain": [
       "VBox()"
      ]
     },
     "metadata": {},
     "output_type": "display_data"
    },
    {
     "data": {
      "application/vnd.jupyter.widget-view+json": {
       "model_id": "",
       "version_major": 2,
       "version_minor": 0
      },
      "text/plain": [
       "FloatProgress(value=0.0, bar_style='info', description='Progress:', layout=Layout(height='25px', width='50%'),…"
      ]
     },
     "metadata": {},
     "output_type": "display_data"
    }
   ],
   "source": [
    "from pyspark.sql.functions import *\n",
    "from pyspark.sql.types import *\n",
    "import geopy.distance\n",
    "\n",
    "# Getting shapes\n",
    "shapes_from_csv = spark.read.csv(\"s3://mobility-traces-sp/aux-files/gtfs/shapes.csv\",header=True).toPandas()\n",
    "\n",
    "# Broadcast shape variable\n",
    "shapes = sc.broadcast(shapes_from_csv).value\n",
    "\n",
    "# Find the nearest shape of each record in MO file\n",
    "def get_distance(trace_x, trace_y, shape_id):\n",
    "    \n",
    "    candidate_shapes = shapes.loc[shapes['shape_id'] == shape_id]\n",
    "    \n",
    "    trace_coord = (trace_x,trace_y)\n",
    "    \n",
    "    min_distance = 999999999999\n",
    "    \n",
    "    min_shape_sequence = \"\"\n",
    "    \n",
    "    min_shape_coord_lat = 0\n",
    "    \n",
    "    min_shape_coord_lon = 0\n",
    "    \n",
    "    \n",
    "    for _,shape in candidate_shapes.iterrows():\n",
    "        shape_coord = (shape[\"shape_pt_lon\"], shape[\"shape_pt_lat\"])\n",
    "        \n",
    "#         distance = geopy.distance.distance(shape_coord,trace_coord).m\n",
    "        distance = haversine_formula2(shape_coord,trace_coord)\n",
    "        \n",
    "        # if the distance is lower than the min_distance, so it is the new min_distance\n",
    "        if distance <= min_distance:\n",
    "            min_distance = distance\n",
    "            min_shape_sequence = shape[\"shape_pt_sequence\"]\n",
    "            min_shape_coord_lat = shape[\"shape_pt_lat\"]\n",
    "            min_shape_coord_lon = shape[\"shape_pt_lon\"]\n",
    "            \n",
    "    return (int(min_shape_sequence),min_distance,min_shape_coord_lat,min_shape_coord_lon)\n",
    "    \n",
    "\n",
    "schema = StructType([\n",
    "    StructField(\"sequence\", IntegerType()),\n",
    "    StructField(\"distance\", FloatType()),\n",
    "    StructField(\"shape_lat\", StringType()),\n",
    "    StructField(\"shape_lon\", StringType())\n",
    "    \n",
    "])\n",
    "\n",
    "get_distance_udf = udf(get_distance, schema)"
   ]
  },
  {
   "cell_type": "code",
   "execution_count": null,
   "metadata": {},
   "outputs": [],
   "source": [
    "# https://stackoverflow.com/questions/47669895/how-to-add-multiple-columns-using-udf\n",
    "\n",
    "for day in range(1,32):\n",
    "    traces = spark.read.parquet(\"s3a://mobility-traces-sp/processed-data-avl-date/7-records-inside-sp-in-october-enriched-shapes/MO_1510\"+str(day)+\"/\")\n",
    "    traces.repartition(100)\n",
    "\n",
    "    traces_with_shape = traces.withColumn(\"shape_info\", get_distance_udf(\"longitude\",\"latitude\",\"shape_id\")) \\\n",
    "                            .withColumn(\"shape_sequence\",col(\"shape_info.sequence\"))  \\\n",
    "                            .withColumn(\"shape_distance\",col(\"shape_info.distance\"))  \\\n",
    "                            .withColumn(\"shape_lat\",col(\"shape_info.shape_lat\"))  \\\n",
    "                            .withColumn(\"shape_lon\",col(\"shape_info.shape_lon\"))  \\\n",
    "                            .drop(\"shape_info\")\n",
    "    \n",
    "    traces_with_shape.write.parquet(\"s3://mobility-traces-sp/processed-data-avl-date/8-map-matching/MO_1510\"+str(day)+\"/\")\n"
   ]
  },
  {
   "cell_type": "code",
   "execution_count": 15,
   "metadata": {},
   "outputs": [
    {
     "data": {
      "application/vnd.jupyter.widget-view+json": {
       "model_id": "290c8c66cb6245e2a8449122322230c6",
       "version_major": 2,
       "version_minor": 0
      },
      "text/plain": [
       "VBox()"
      ]
     },
     "metadata": {},
     "output_type": "display_data"
    },
    {
     "data": {
      "application/vnd.jupyter.widget-view+json": {
       "model_id": "",
       "version_major": 2,
       "version_minor": 0
      },
      "text/plain": [
       "FloatProgress(value=0.0, bar_style='info', description='Progress:', layout=Layout(height='25px', width='50%'),…"
      ]
     },
     "metadata": {},
     "output_type": "display_data"
    },
    {
     "name": "stdout",
     "output_type": "stream",
     "text": [
      "distance using geopy great circle:  388681.3196170513\n",
      "Geopy geodesic 388472.46938148164 meters\n",
      "Geopy Vincenty 388472.46938007645 meters\n",
      "Haversine lib 388681.3074154888\n",
      "Harversine formula 388790.58460842626 meters\n",
      "Haversine formula2 360624.01682591485 meters"
     ]
    }
   ],
   "source": [
    "# Methods to calculate distances\n",
    "# Helpful links\n",
    "# https://github.com/ashutoshb418/Foodies-Visualization/blob/master/Foodies_Chain.ipynb\n",
    "# https://janakiev.com/blog/gps-points-distance-python/\n",
    "# https://www.kite.com/python/answers/how-to-find-the-distance-between-two-lat-long-coordinates-in-python\n",
    "# https://towardsdatascience.com/calculating-distance-between-two-geolocations-in-python-26ad3afe287b\n",
    "\n",
    "import math\n",
    "from geopy import distance\n",
    "import math\n",
    "\n",
    "# -23.49150063078416, -46.65645272614161 # Rio de Janeiro\n",
    "# -22.91593838910498, -43.184773075383035 # Masp museum in Sao Paulo\n",
    "\n",
    "lat1 = -23.49150063078416\n",
    "lon1 = -46.65645272614161\n",
    "lat2 = -22.91593838910498\n",
    "lon2 = -43.184773075383035\n",
    "coord_1 = (lon1,lat1)\n",
    "coord_2 = (lon2,lat2)\n",
    "\n",
    "############### Geopy lib #######################\n",
    "# distance_geopy = distance.distance(coord_1, coord_2).m\n",
    "# print('distance using geopy Vincenty’s formula: ', distance_geopy)\n",
    "    \n",
    "distance_geopy_great_circle = distance.great_circle(coord_1, coord_2).m\n",
    "print('distance using geopy great circle: ', distance_geopy_great_circle)\n",
    "\n",
    "print(\"Geopy geodesic\",distance.geodesic(coord_1, coord_2).meters,\"meters\")\n",
    "\n",
    "print(\"Geopy Vincenty\",distance.vincenty(coord_1, coord_2).meters,\"meters\")\n",
    "\n",
    "############ Haversine Lib #######################\n",
    "import haversine as hs\n",
    "\n",
    "print(\"Haversine lib\",hs.haversine(coord_1,coord_2,unit=hs.Unit.METERS))\n",
    "\n",
    "############### Haversine formula ################\n",
    "\n",
    "def haversine_formula(coord1, coord2):\n",
    "    \n",
    "    R = 6372800  # Earth radius in meters\n",
    "    lat1, lon1 = float(coord1[0]),float(coord1[1])\n",
    "    lat2, lon2 = float(coord2[0]),float(coord2[1])\n",
    "    \n",
    "    phi1, phi2 = math.radians(lat1), math.radians(lat2) \n",
    "    dphi       = math.radians(lat2 - lat1)\n",
    "    dlambda    = math.radians(lon2 - lon1)\n",
    "    \n",
    "    a = math.sin(dphi/2)**2 + \\\n",
    "        math.cos(phi1)*math.cos(phi2)*math.sin(dlambda/2)**2\n",
    "    \n",
    "    return 2*R*math.atan2(math.sqrt(a), math.sqrt(1 - a))\n",
    "\n",
    "\n",
    "print(\"Harversine formula\",haversine_formula(coord_1,coord_2),\"meters\")\n",
    "\n",
    "def haversine_formula2(coord1,coord2):\n",
    "    \n",
    "    lon1, lat1 = coord1\n",
    "    lon2, lat2 = coord2\n",
    "    lat1 = math.radians(lat1)\n",
    "    lon1 = math.radians(lon1)\n",
    "    lat2 = math.radians(lat2)\n",
    "    lon2 = math.radians(lon2)\n",
    "    \n",
    "    dlon = lon2 - lon1\n",
    "    dlat = lat2 - lat1\n",
    "\n",
    "    R = 6372800\n",
    "    a = math.sin(dlat / 2)**2 + math.cos(lat1) * math.cos(lat2) * math.sin(dlon / 2)**2\n",
    "    c = 2 * math.atan2(math.sqrt(a), math.sqrt(1 - a))\n",
    "    distance = R * c\n",
    "    return distance\n",
    "\n",
    "print(\"Haversine formula2\",haversine_formula2(coord_1,coord_2),\"meters\")"
   ]
  },
  {
   "cell_type": "code",
   "execution_count": null,
   "metadata": {},
   "outputs": [],
   "source": [
    "# Results according to research\n",
    "# The Haversine is simple, but it does not have accuracy like Vincenty and Geodesic\n",
    "# The Vicenty is more accurate\n",
    "# The Geodesic is more accurate than Vincenty, but it has the lowest speed"
   ]
  }
 ],
 "metadata": {
  "kernelspec": {
   "display_name": "Python 3",
   "language": "python",
   "name": "python3"
  },
  "language_info": {
   "codemirror_mode": {
    "name": "ipython",
    "version": 3
   },
   "file_extension": ".py",
   "mimetype": "text/x-python",
   "name": "python",
   "nbconvert_exporter": "python",
   "pygments_lexer": "ipython3",
   "version": "3.7.4"
  }
 },
 "nbformat": 4,
 "nbformat_minor": 4
}
