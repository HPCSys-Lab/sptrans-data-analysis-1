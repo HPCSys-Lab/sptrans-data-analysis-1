{
 "cells": [
  {
   "cell_type": "code",
   "execution_count": 1,
   "metadata": {},
   "outputs": [],
   "source": [
    "# Descrição\n",
    "# Após determinar a região de cada registro, este notebook filtra os dados com base na coluna \"region\" \n",
    "# eliminando os registros que não estão dentro do território de São Paulo. \n",
    "# Nesse caso, seleciona-se os registros cujo campo \"region\" tenha o valor diferente de None.\n",
    "# Registros fora da área de São Paulo são salvos num arquivo separado para eventuais análises.\n",
    "#\n",
    "#\n",
    "# Description\n",
    "# After idetifying the region/district for each register in the files, \n",
    "# this notebooks filters the data based in the \"region\" column \n",
    "# eliminating the registers outside São Paulo territory.\n",
    "# In this case, registers that have the \"region\" field with a value different of None are kept.\n",
    "# Register outside São Paulo area are stored in a separated file for future analysis."
   ]
  },
  {
   "cell_type": "code",
   "execution_count": null,
   "metadata": {},
   "outputs": [],
   "source": [
    "# Spark config\n",
    "from pyspark import SparkConf\n",
    "from pyspark import SparkContext\n",
    "\n",
    "spark_conf = (SparkConf().set(\"spark.speculation\", \"false\"))\n",
    "sc = SparkContext.getOrCreate(conf = spark_conf)\n",
    "\n",
    "# spark = sparkSession\n",
    "hadoop_conf = spark._jsc.hadoopConfiguration()\n",
    "hadoop_conf.set(\"fs.s3a.impl\", \"org.apache.hadoop.fs.s3a.S3AFileSystem\")\n",
    "hadoop_conf.set(\"mapreduce.fileoutputcommitter.algorithm.version\",\"2\")"
   ]
  },
  {
   "cell_type": "code",
   "execution_count": null,
   "metadata": {},
   "outputs": [],
   "source": [
    "from pyspark.sql.types import *\n",
    "\n",
    "# october days 1 to day 31\n",
    "for day in range(1,32):\n",
    "    # reading records between 6:00 and 22:59 based in hour_server, with all regions\n",
    "    traces = spark.read.parquet(\"s3a://mobility-traces-sp/processed-data-avl-date/2-register-between-6-23-with-all-region/MO_1510\"+ str(day) + \"/\")\n",
    "    \n",
    "    # selecting traces inside São Paulo regions\n",
    "    traces_in_sp = traces.filter('region != \"None\"')\n",
    "    \n",
    "    # selecting traces outside São Paulo regions\n",
    "    traces_out_sp = traces.filter('region == \"None\"')\n",
    "    \n",
    "    # saving traces inside Sao Paulo in a file\n",
    "    traces_in_sp.repartition(60).write.parquet(\"s3://mobility-traces-sp/processed-data-avl-date/3-records-in-sp-between-6-23/MO_1510\"+ str(day) + \"/\")\n",
    "    \n",
    "    # saving traces outside Sao Paulo in a file\n",
    "    traces_out_sp.repartition(60).write.parquet(\"s3://mobility-traces-sp/processed-data-avl-date/4-records-out-of-sp-between-6-23/MO_1510\"+ str(day) + \"/\")"
   ]
  }
 ],
 "metadata": {
  "kernelspec": {
   "display_name": "Python 3",
   "language": "python",
   "name": "python3"
  },
  "language_info": {
   "codemirror_mode": {
    "name": "ipython",
    "version": 3
   },
   "file_extension": ".py",
   "mimetype": "text/x-python",
   "name": "python",
   "nbconvert_exporter": "python",
   "pygments_lexer": "ipython3",
   "version": "3.7.4"
  }
 },
 "nbformat": 4,
 "nbformat_minor": 4
}
