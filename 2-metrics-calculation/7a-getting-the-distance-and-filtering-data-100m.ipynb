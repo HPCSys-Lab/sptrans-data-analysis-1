{
 "cells": [
  {
   "cell_type": "code",
   "execution_count": null,
   "metadata": {},
   "outputs": [],
   "source": [
    "# installing required packages for this notebook session\n",
    "sc.install_pypi_package(\"haversine\")"
   ]
  },
  {
   "cell_type": "code",
   "execution_count": null,
   "metadata": {},
   "outputs": [],
   "source": [
    "from haversine import haversine, Unit\n",
    "import pyspark.sql.functions as F\n",
    "\n",
    "def get_distance(lat1,lon1,lat2,lon2):\n",
    "    coord_1 = (lat1,lon1)\n",
    "    coord_2 = (lat2,lon2)\n",
    "\n",
    "    distance = haversine(coord_1,coord_2,unit=Unit.METERS)\n",
    "    \n",
    "    return distance\n",
    "    \n",
    "get_distance_udf = F.udf(get_distance)"
   ]
  },
  {
   "cell_type": "code",
   "execution_count": null,
   "metadata": {},
   "outputs": [],
   "source": [
    "day = 20\n",
    "df = spark.read.parquet(f\"s3://mobility-traces-sp/processed-data-avl-date/16-graph-joined-minute/MO_1510{day}/\")\n",
    "df.filter(\"id_avl_1 != id_avl_2\").write.parquet(f\"s3://mobility-traces-sp/processed-data-avl-date/17-graphs-minutes-no-repeated/MO_1510{day}/\")\n"
   ]
  },
  {
   "cell_type": "code",
   "execution_count": null,
   "metadata": {},
   "outputs": [],
   "source": [
    "day = 20\n",
    "df_no_repeated = spark.read.parquet(f\"s3://mobility-traces-sp/processed-data-avl-date/17-graphs-minutes-no-repeated/MO_1510{day}/\")\n",
    "\n",
    "df_final = df_no_repeated.withColumn(\"distance\",get_distance_udf(F.col(\"latitude_1\"),F.col(\"longitude_1\"),F.col(\"latitude_2\"),F.col(\"longitude_2\")))\n",
    "\n",
    "df_final = df_final.repartition(\"graph_id\")\n",
    "\n",
    "df_final.filter(\"distance <= 100\")\\\n",
    "    .repartition(\"graph_id\")\\\n",
    "    .write.parquet(f\"s3://mobility-traces-sp/processed-data-avl-date/18-graphs-minutes-within-100m/MO_1510{day}/\")"
   ]
  },
  {
   "cell_type": "code",
   "execution_count": null,
   "metadata": {},
   "outputs": [],
   "source": []
  },
  {
   "cell_type": "code",
   "execution_count": null,
   "metadata": {},
   "outputs": [],
   "source": []
  },
  {
   "cell_type": "code",
   "execution_count": null,
   "metadata": {},
   "outputs": [],
   "source": []
  },
  {
   "cell_type": "code",
   "execution_count": null,
   "metadata": {},
   "outputs": [],
   "source": [
    "distances = spark.read.parquet(\"s3://mobility-traces-sp/processed-data-avl-date/18-graphs-minutes-within-100m/MO_15101/\")\n",
    "df_counts = distances.groupby(\"id_avl_1\",\"graph_id\").agg(F.countDistinct(\"id_avl_2\").alias(\"counter_buses_connections\"))\n",
    "\n",
    "df_counts.agg(F.avg(\"counter_buses_connections\")).show()\n",
    " \n",
    "x = df_counts.approxQuantile(\"counter_buses_connections\", [0.25,0.5,0.75], 0.0001)"
   ]
  }
 ],
 "metadata": {
  "kernelspec": {
   "display_name": "Python 3",
   "language": "python",
   "name": "python3"
  },
  "language_info": {
   "codemirror_mode": {
    "name": "ipython",
    "version": 3
   },
   "file_extension": ".py",
   "mimetype": "text/x-python",
   "name": "python",
   "nbconvert_exporter": "python",
   "pygments_lexer": "ipython3",
   "version": "3.7.4"
  }
 },
 "nbformat": 4,
 "nbformat_minor": 4
}
