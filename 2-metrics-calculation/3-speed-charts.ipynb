{
 "cells": [
  {
   "cell_type": "code",
   "execution_count": 2,
   "metadata": {},
   "outputs": [
    {
     "data": {
      "text/html": [
       "<div>\n",
       "<style scoped>\n",
       "    .dataframe tbody tr th:only-of-type {\n",
       "        vertical-align: middle;\n",
       "    }\n",
       "\n",
       "    .dataframe tbody tr th {\n",
       "        vertical-align: top;\n",
       "    }\n",
       "\n",
       "    .dataframe thead th {\n",
       "        text-align: right;\n",
       "    }\n",
       "</style>\n",
       "<table border=\"1\" class=\"dataframe\">\n",
       "  <thead>\n",
       "    <tr style=\"text-align: right;\">\n",
       "      <th></th>\n",
       "      <th>day</th>\n",
       "      <th>n_vehicles</th>\n",
       "      <th>n_lines</th>\n",
       "      <th>n_vehicles_lines</th>\n",
       "      <th>avg_speed</th>\n",
       "      <th>avg_speed_min</th>\n",
       "      <th>avg_speed_max</th>\n",
       "      <th>avg_speed_stddev</th>\n",
       "      <th>avg_speed_quantile_6.25</th>\n",
       "      <th>avg_speed_quantile_12.5</th>\n",
       "      <th>avg_speed_quantile_25</th>\n",
       "      <th>avg_speed_quantile_50</th>\n",
       "      <th>avg_speed_quantile_75</th>\n",
       "    </tr>\n",
       "  </thead>\n",
       "  <tbody>\n",
       "    <tr>\n",
       "      <th>0</th>\n",
       "      <td>MO_15101</td>\n",
       "      <td>14004</td>\n",
       "      <td>2071</td>\n",
       "      <td>29702</td>\n",
       "      <td>13.661619</td>\n",
       "      <td>0.216087</td>\n",
       "      <td>43.253766</td>\n",
       "      <td>4.032125</td>\n",
       "      <td>8.105143</td>\n",
       "      <td>9.920853</td>\n",
       "      <td>11.484203</td>\n",
       "      <td>13.491341</td>\n",
       "      <td>15.814732</td>\n",
       "    </tr>\n",
       "    <tr>\n",
       "      <th>1</th>\n",
       "      <td>MO_15102</td>\n",
       "      <td>14006</td>\n",
       "      <td>2080</td>\n",
       "      <td>29830</td>\n",
       "      <td>13.472536</td>\n",
       "      <td>0.215484</td>\n",
       "      <td>48.852402</td>\n",
       "      <td>3.969593</td>\n",
       "      <td>7.952510</td>\n",
       "      <td>9.823276</td>\n",
       "      <td>11.361074</td>\n",
       "      <td>13.299600</td>\n",
       "      <td>15.570455</td>\n",
       "    </tr>\n",
       "    <tr>\n",
       "      <th>2</th>\n",
       "      <td>MO_15103</td>\n",
       "      <td>10548</td>\n",
       "      <td>1871</td>\n",
       "      <td>20087</td>\n",
       "      <td>13.696948</td>\n",
       "      <td>0.161638</td>\n",
       "      <td>46.956914</td>\n",
       "      <td>4.881822</td>\n",
       "      <td>5.265949</td>\n",
       "      <td>9.167012</td>\n",
       "      <td>11.364083</td>\n",
       "      <td>13.721299</td>\n",
       "      <td>16.477192</td>\n",
       "    </tr>\n",
       "    <tr>\n",
       "      <th>3</th>\n",
       "      <td>MO_15104</td>\n",
       "      <td>7614</td>\n",
       "      <td>1751</td>\n",
       "      <td>14131</td>\n",
       "      <td>14.591877</td>\n",
       "      <td>0.167213</td>\n",
       "      <td>47.098071</td>\n",
       "      <td>5.826973</td>\n",
       "      <td>2.898824</td>\n",
       "      <td>8.507270</td>\n",
       "      <td>11.810078</td>\n",
       "      <td>14.891262</td>\n",
       "      <td>18.137630</td>\n",
       "    </tr>\n",
       "    <tr>\n",
       "      <th>4</th>\n",
       "      <td>MO_15105</td>\n",
       "      <td>13955</td>\n",
       "      <td>2072</td>\n",
       "      <td>29637</td>\n",
       "      <td>13.699473</td>\n",
       "      <td>0.244892</td>\n",
       "      <td>65.146744</td>\n",
       "      <td>4.040148</td>\n",
       "      <td>8.011532</td>\n",
       "      <td>9.963049</td>\n",
       "      <td>11.551267</td>\n",
       "      <td>13.537739</td>\n",
       "      <td>15.829789</td>\n",
       "    </tr>\n",
       "  </tbody>\n",
       "</table>\n",
       "</div>"
      ],
      "text/plain": [
       "        day  n_vehicles  n_lines  n_vehicles_lines  avg_speed  avg_speed_min  \\\n",
       "0  MO_15101       14004     2071             29702  13.661619       0.216087   \n",
       "1  MO_15102       14006     2080             29830  13.472536       0.215484   \n",
       "2  MO_15103       10548     1871             20087  13.696948       0.161638   \n",
       "3  MO_15104        7614     1751             14131  14.591877       0.167213   \n",
       "4  MO_15105       13955     2072             29637  13.699473       0.244892   \n",
       "\n",
       "   avg_speed_max  avg_speed_stddev  avg_speed_quantile_6.25  \\\n",
       "0      43.253766          4.032125                 8.105143   \n",
       "1      48.852402          3.969593                 7.952510   \n",
       "2      46.956914          4.881822                 5.265949   \n",
       "3      47.098071          5.826973                 2.898824   \n",
       "4      65.146744          4.040148                 8.011532   \n",
       "\n",
       "   avg_speed_quantile_12.5  avg_speed_quantile_25  avg_speed_quantile_50  \\\n",
       "0                 9.920853              11.484203              13.491341   \n",
       "1                 9.823276              11.361074              13.299600   \n",
       "2                 9.167012              11.364083              13.721299   \n",
       "3                 8.507270              11.810078              14.891262   \n",
       "4                 9.963049              11.551267              13.537739   \n",
       "\n",
       "   avg_speed_quantile_75  \n",
       "0              15.814732  \n",
       "1              15.570455  \n",
       "2              16.477192  \n",
       "3              18.137630  \n",
       "4              15.829789  "
      ]
     },
     "execution_count": 2,
     "metadata": {},
     "output_type": "execute_result"
    }
   ],
   "source": [
    "import pandas as pd\n",
    "\n",
    "speed_per_day = pd.read_csv(\"./metrics-calculation/speed-calculation/statistics/1-speed_per_vehicle_stats.csv\")\n",
    "speed_per_day.head(5)"
   ]
  },
  {
   "cell_type": "code",
   "execution_count": null,
   "metadata": {},
   "outputs": [],
   "source": [
    "# average speed per day\n",
    "\n",
    "day_column = [day for day in range(1,32)]\n",
    "speed_per_day[\"day\"] = day_column\n",
    "\n",
    "ax = speed_per_day.plot.bar(x =\"day\",y = \"avg_speed\",title=f\"Velocidade média de ônibus por dia\",figsize=(10,8))\n",
    "# x axis label\n",
    "ax.set_xlabel(\"dia\",size=15)\n",
    "# y axis label\n",
    "ax.set_ylabel(\"velocidade média (km/h)\",size=15)\n",
    "# y range\n",
    "ax.set_ylim(0,16)\n",
    "# size of the number in both axis\n",
    "ax.tick_params(axis='both', which='major', labelsize=15)\n",
    "# for p in ax.patches:\n",
    "#     ax.annotate(str(round(p.get_height(),2)), (p.get_x() * 1.00, p.get_height() * 1.006),size=13)\n",
    "# title fontsize\n",
    "ax.title.set_size(20)\n",
    "\n",
    "# saving chart as png\n",
    "ax.get_figure().savefig('./charts-results/avg-speed-per-day.png')\n"
   ]
  },
  {
   "cell_type": "code",
   "execution_count": null,
   "metadata": {},
   "outputs": [],
   "source": [
    "# Boxplot pandas - https://kanoki.org/2019/09/16/dataframe-visualization-with-pandas-plot/\n",
    "# Boxplot pandas - https://www.simplypsychology.org/boxplots.html\n",
    "\n",
    "import matplotlib.pyplot as plt\n",
    "\n",
    "for i in range(0,31):\n",
    "    fig, ax = plt.subplots()\n",
    "\n",
    "    boxes = [\n",
    "        {\n",
    "            'label' : f\"Intervalos da velocidade média de ônibus no dia {i+1}-10-2015\",\n",
    "            'whislo': speed_per_day[\"avg_speed_min\"][i],    # Bottom whisker position\n",
    "            'q1'    : speed_per_day[\"avg_speed_quantile_25\"][i],    # First quartile (25th percentile)\n",
    "            'med'   : speed_per_day[\"avg_speed_quantile_50\"][i],    # Median         (50th percentile)\n",
    "            'q3'    : speed_per_day[\"avg_speed_quantile_75\"][i],    # Third quartile (75th percentile)\n",
    "            'whishi': speed_per_day[\"avg_speed_max\"][i],    # Top whisker position\n",
    "            'fliers': [],        # Outliers,\n",
    "            'mean':   speed_per_day[\"avg_speed\"][i]\n",
    "        }\n",
    "    ]\n",
    "\n",
    "    ax.bxp(boxes, showfliers=False)\n",
    "\n",
    "\n",
    "    ax.set_ylabel(\"velocidade (km/h)\")\n",
    "    plt.plot()\n",
    "    plt.savefig(f\"./charts-results/boxplot-avg-speed-day/avg-speed_day_boxplot_{i+1}-10-2015.png\")\n",
    "    plt.close()"
   ]
  },
  {
   "cell_type": "code",
   "execution_count": 21,
   "metadata": {},
   "outputs": [],
   "source": [
    "# average speed per hour per day\n",
    "import pandas as pd\n",
    "import matplotlib.pyplot as plt\n",
    "\n",
    "for day in range(1,32):\n",
    "\n",
    "    speed_per_hour = pd.read_parquet(f\"./metrics-calculation/speed-calculation/speed-per-hour-per-day/MO_1510{day}/\").sort_values(by=[\"hour_avl\"])\n",
    "\n",
    "    ax = speed_per_hour.plot(x=\"hour_avl\",y =\"avg_speed\",title=f\"Velocidade média de ônibus por hora - {day}/10/2015\",figsize=(10,8))\n",
    "    # x axis label\n",
    "    ax.set_xlabel(\"hora\",size=20)\n",
    "    # y axis label\n",
    "    ax.set_ylabel(\"velocidade média (km/h)\",size=20)\n",
    "    # Setting x axis ticks\n",
    "#     plt.xticks([hour for hour in range(6,23)])\n",
    "    # Title size\n",
    "    ax.title.set_size(20)\n",
    "\n",
    "    # size of the number in both axis\n",
    "    ax.tick_params(axis='both', which='major', labelsize=20)\n",
    "    plt.grid(True)\n",
    "\n",
    "    # saving chart as png\n",
    "    ax.get_figure().savefig(f'./charts-results/speed-per-hour-charts/avg-speed-per-hour-day-{day}-10-2015.png',bbox_inches='tight')\n",
    "    plt.close()"
   ]
  },
  {
   "cell_type": "code",
   "execution_count": null,
   "metadata": {},
   "outputs": [],
   "source": [
    "len(speed_per_hour)"
   ]
  },
  {
   "cell_type": "code",
   "execution_count": 37,
   "metadata": {},
   "outputs": [],
   "source": [
    "# average speed per region per day\n",
    "# plotting on map using colormap --> https://matplotlib.org/3.1.0/tutorials/colors/colormaps.html\n",
    "\n",
    "import geopandas as gpd\n",
    "import matplotlib\n",
    "\n",
    "# Sao Paulo shape\n",
    "sp = gpd.read_file(\"./shape-files-sp/DISTRITO_MUNICIPAL_SP_SMDUPolygon.shp\")\n",
    "font = {'size': 20}\n",
    "\n",
    "matplotlib.rc('font', **font)\n",
    "for day in range(1,32):\n",
    "    # speed by region per day\n",
    "    speed_region = pd.read_parquet(f\"./metrics-calculation/speed-calculation/speed-per-region-per-day/MO_1510{day}/\")\n",
    "    \n",
    "    # getting the shape of the region\n",
    "    df_final = pd.merge(speed_region, sp, left_on = \"region\", right_on = \"Nome\").drop(columns = [\"Nome\"])\n",
    "    \n",
    "    geo_df = gpd.GeoDataFrame(df_final, geometry = \"geometry\")\n",
    "   \n",
    "    # Plotting map\n",
    "    ax = geo_df.plot(column=\"avg_speed\",legend=True,cmap='RdBu',figsize = (15,15),legend_kwds={'label': \"velocidade média (km/h)\"})\n",
    "    ax.axes.xaxis.set_visible(False)\n",
    "    ax.axes.yaxis.set_visible(False)\n",
    "    plt.savefig(f'./charts-results/speed-region-day/speed-by-region-day_{day}-10-2015.png',bbox_inches='tight')\n",
    "    plt.close()"
   ]
  },
  {
   "cell_type": "code",
   "execution_count": null,
   "metadata": {},
   "outputs": [],
   "source": [
    "# average speed per hour/per region/per day\n",
    "\n",
    "import pandas as pd\n",
    "import geopandas as gpd\n",
    "import matplotlib.pyplot as plt\n",
    "\n",
    "# Sao Paulo shape\n",
    "sp = gpd.read_file(\"./shape-files-sp/DISTRITO_MUNICIPAL_SP_SMDUPolygon.shp\")\n",
    "\n",
    "# analyzing weekends sat/sundays, holidays, workind days\n",
    "day_to_analyze = [1,17,4,12,20]\n",
    "\n",
    "for day in day_to_analyze:\n",
    "    # reading traces\n",
    "    speed_per_hour_per_region = pd.read_parquet(f\"./metrics-calculation/speed-calculation/speed-per-hour-per-region-per-day/MO_1510{day}/\")\n",
    "    \n",
    "    # getting the shape of the region\n",
    "    df_with_shape = pd.merge(speed_per_hour_per_region, sp, left_on = \"region\", right_on = \"Nome\").drop(columns = [\"Nome\"])\n",
    "    \n",
    "    for hour in list(range(6,23)):\n",
    "        df = df_with_shape[df_with_shape[\"hour_avl\"] == hour]\n",
    "        geo_df = gpd.GeoDataFrame(df, geometry = \"geometry\")\n",
    "        # Plotting map\n",
    "        geo_df.plot(column=\"avg_speed\",legend=True,cmap='RdBu',figsize = (15,15),legend_kwds={'label': \"velocidade média (km/h)\"})\n",
    "        plt.savefig(f'./charts-results/speed-hour-region-day/{day}-10-2015/speed-per-hour-per-region-day_hour-{hour}_{day}-10-2015.png')\n",
    "        plt.close()"
   ]
  },
  {
   "cell_type": "code",
   "execution_count": null,
   "metadata": {},
   "outputs": [],
   "source": []
  },
  {
   "cell_type": "code",
   "execution_count": null,
   "metadata": {},
   "outputs": [],
   "source": []
  },
  {
   "cell_type": "code",
   "execution_count": null,
   "metadata": {},
   "outputs": [],
   "source": []
  },
  {
   "cell_type": "code",
   "execution_count": null,
   "metadata": {},
   "outputs": [],
   "source": []
  },
  {
   "cell_type": "code",
   "execution_count": null,
   "metadata": {},
   "outputs": [],
   "source": [
    "### just training"
   ]
  },
  {
   "cell_type": "code",
   "execution_count": null,
   "metadata": {},
   "outputs": [],
   "source": [
    "# PDF/ CDF --> https://stackoverflow.com/questions/25577352/plotting-cdf-of-a-pandas-series-in-python"
   ]
  },
  {
   "cell_type": "code",
   "execution_count": null,
   "metadata": {},
   "outputs": [],
   "source": [
    "# Find distribution \n",
    "#ECDF --> https://towardsdatascience.com/how-to-generate-ecdf-plot-using-python-and-r-247ef81fbf3f"
   ]
  },
  {
   "cell_type": "code",
   "execution_count": null,
   "metadata": {},
   "outputs": [],
   "source": [
    "# https://stackoverflow.com/questions/6620471/fitting-empirical-distribution-to-theoretical-ones-with-scipy-python"
   ]
  },
  {
   "cell_type": "code",
   "execution_count": null,
   "metadata": {},
   "outputs": [],
   "source": [
    "#https://www.kite.com/python/answers/how-to-fit-data-to-a-distribution-in-python"
   ]
  },
  {
   "cell_type": "code",
   "execution_count": null,
   "metadata": {},
   "outputs": [],
   "source": [
    "import scipy\n",
    "import numpy as np\n",
    "import matplotlib.pyplot as plt"
   ]
  },
  {
   "cell_type": "code",
   "execution_count": null,
   "metadata": {},
   "outputs": [],
   "source": [
    "t = scipy.stats.distributions.dgamma.fit(list(speed_per_day[\"avg_speed\"]))\n",
    "\n",
    "print(t)\n",
    "x = np.linspace(13,15,100)\n",
    "\n",
    "df_novo = speed_per_day.loc[speed_per_day[\"avg_speed\"] < 14]\n",
    "\n",
    "fitted_data = scipy.stats.distributions.norm.pdf(x, mean, var)\n",
    "\n",
    "plt.hist(list(df_novo[\"avg_speed\"]), density=True)\n",
    "\n",
    "plt.plot(x,fitted_data,'r-')"
   ]
  },
  {
   "cell_type": "code",
   "execution_count": null,
   "metadata": {},
   "outputs": [],
   "source": [
    "dir(scipy.stats.distributions)"
   ]
  },
  {
   "cell_type": "code",
   "execution_count": null,
   "metadata": {},
   "outputs": [],
   "source": [
    "#https://medium.com/@amirarsalan.rajabi/distribution-fitting-with-python-scipy-bb70a42c0aed\n",
    "#https://stackoverflow.com/questions/20011122/fitting-a-normal-distribution-to-1d-data\n",
    "# https://www.johndcook.com/blog/distributions_scipy/\n",
    "df = speed_per_day.loc[speed_per_day[\"avg_speed\"]<14]\n",
    "from scipy import stats\n",
    "#list_of_dists = ['bradford','burr','burr12','cauchy','chi','chi2','cosine','dgamma','dweibull','erlang','expon','exponnorm','exponweib','exponpow','f','fatiguelife','fisk','foldcauchy','foldnorm','genlogistic','genpareto','gennorm','genexpon','genextreme','gausshyper','gamma','gengamma','genhalflogistic','gilbrat','gompertz','gumbel_r','gumbel_l','halfcauchy','halflogistic','halfnorm','halfgennorm','hypsecant','invgamma','invgauss','invweibull','johnsonsb','johnsonsu','kstwobign','laplace','levy','levy_l','logistic','loggamma','loglaplace','lognorm','lomax','maxwell','mielke','nakagami','ncx2','ncf','nct','norm','pareto','pearson3','powerlaw','powerlognorm','powernorm','rdist','reciprocal','rayleigh','rice','recipinvgauss','semicircular','t','triang','truncexpon','truncnorm','tukeylambda','uniform','vonmises','vonmises_line','wald','weibull_min','weibull_max']\n",
    "list_of_dists = [\"expon\",\"gamma\",\"lognorm\",\"norm\",'weibull_min','weibull_max',\"exponweib\"]\n",
    "# exponencial,gamma,lognormal,normal,weibull\n",
    "results = []\n",
    "for i in list_of_dists:\n",
    "    dist = getattr(stats, i)\n",
    "    param = dist.fit(df[\"avg_speed\"])\n",
    "    a = stats.kstest(df[\"avg_speed\"], i, args=param)\n",
    "    results.append((i,a[0],a[1]))\n",
    "    \n",
    "    \n",
    "results.sort(key=lambda x:float(x[2]), reverse=True)\n",
    "for j in results:\n",
    "    print(\"{}: statistic={}, pvalue={}\".format(j[0], j[1], j[2]))"
   ]
  },
  {
   "cell_type": "code",
   "execution_count": null,
   "metadata": {},
   "outputs": [],
   "source": [
    "# https://medium.com/@amirarsalan.rajabi/distribution-fitting-with-python-scipy-bb70a42c0aed\n",
    "# https://github.com/amirarsalan90/dist_fitting_medium/blob/master/dist_fitting.ipynb\n",
    "# https://glowingpython.blogspot.com/2012/07/distribution-fitting-with-scipy.html"
   ]
  },
  {
   "cell_type": "code",
   "execution_count": null,
   "metadata": {},
   "outputs": [],
   "source": [
    "plt.hist(speed_per_day[\"avg_speed\"])"
   ]
  },
  {
   "cell_type": "code",
   "execution_count": null,
   "metadata": {},
   "outputs": [],
   "source": [
    "dir(stats)"
   ]
  },
  {
   "cell_type": "code",
   "execution_count": null,
   "metadata": {},
   "outputs": [],
   "source": [
    "data = np.random.normal(0, 0.5, 1000)\n",
    "\n",
    "\n",
    "t1,t2,t3 = scipy.stats.distributions.gennorm.fit(data)\n",
    "\n",
    "\n",
    "x = np.linspace(-5,5,100)\n"
   ]
  },
  {
   "cell_type": "code",
   "execution_count": null,
   "metadata": {},
   "outputs": [],
   "source": [
    "(1.9753053701013514, -0.0008095699877689374, 0.6912687108373308)"
   ]
  },
  {
   "cell_type": "code",
   "execution_count": null,
   "metadata": {},
   "outputs": [],
   "source": [
    "list_of_dists = [\"expon\",\"gamma\",\"lognomr\",\"norm\",'weibull_min','weibull_max']"
   ]
  },
  {
   "cell_type": "code",
   "execution_count": 29,
   "metadata": {},
   "outputs": [
    {
     "data": {
      "image/png": "[encoded data removed]",
      "text/plain": [
       "<Figure size 432x288 with 1 Axes>"
      ]
     },
     "metadata": {
      "needs_background": "light"
     },
     "output_type": "display_data"
    }
   ],
   "source": [
    "import pandas as pd \n",
    "import numpy as np\n",
    "import matplotlib.pyplot as plt\n",
    "\n",
    "df = pd.read_parquet(\"./metrics-calculation/speed-calculation/speed-per-vehicle/MO_15101/\")\n",
    "\n",
    "\n",
    "x= np.sort(df[\"avg_speed\"])\n",
    "y= np.arange(1,len(x)+1) / len(x)\n",
    "plt.plot(x,y,marker=\".\",linestyle=\"none\")\n",
    "ax = plt.gca()\n",
    "plt.margins(0.02)\n",
    "\n",
    "ax.set_xlabel(\"velocidade média (km/h)\",size=15)\n",
    "# y axis label\n",
    "ax.set_ylabel(\"ECDF\",size=15)\n",
    "\n",
    "#title fontsize\n",
    "ax.title.set_size(20)\n",
    "plt.grid(True)\n",
    "# size of the number in both axis\n",
    "ax.tick_params(axis='both', which='major', labelsize=15)\n",
    "plt.savefig(\"./charts-results/speed-ecdf-1-10.png\",dpi=300)"
   ]
  },
  {
   "cell_type": "code",
   "execution_count": 3,
   "metadata": {},
   "outputs": [
    {
     "data": {
      "text/html": [
       "<div>\n",
       "<style scoped>\n",
       "    .dataframe tbody tr th:only-of-type {\n",
       "        vertical-align: middle;\n",
       "    }\n",
       "\n",
       "    .dataframe tbody tr th {\n",
       "        vertical-align: top;\n",
       "    }\n",
       "\n",
       "    .dataframe thead th {\n",
       "        text-align: right;\n",
       "    }\n",
       "</style>\n",
       "<table border=\"1\" class=\"dataframe\">\n",
       "  <thead>\n",
       "    <tr style=\"text-align: right;\">\n",
       "      <th></th>\n",
       "      <th>id_avl</th>\n",
       "      <th>line_id</th>\n",
       "      <th>avg_speed</th>\n",
       "      <th>speed_stddev</th>\n",
       "    </tr>\n",
       "  </thead>\n",
       "  <tbody>\n",
       "    <tr>\n",
       "      <th>0</th>\n",
       "      <td>11239</td>\n",
       "      <td>1695</td>\n",
       "      <td>10.575260</td>\n",
       "      <td>9.424090</td>\n",
       "    </tr>\n",
       "    <tr>\n",
       "      <th>1</th>\n",
       "      <td>11462</td>\n",
       "      <td>32874</td>\n",
       "      <td>11.875606</td>\n",
       "      <td>12.713971</td>\n",
       "    </tr>\n",
       "    <tr>\n",
       "      <th>2</th>\n",
       "      <td>13437</td>\n",
       "      <td>14</td>\n",
       "      <td>10.941400</td>\n",
       "      <td>9.580270</td>\n",
       "    </tr>\n",
       "    <tr>\n",
       "      <th>3</th>\n",
       "      <td>13710</td>\n",
       "      <td>34218</td>\n",
       "      <td>18.025252</td>\n",
       "      <td>17.073166</td>\n",
       "    </tr>\n",
       "    <tr>\n",
       "      <th>4</th>\n",
       "      <td>35883</td>\n",
       "      <td>501</td>\n",
       "      <td>17.007117</td>\n",
       "      <td>11.751169</td>\n",
       "    </tr>\n",
       "  </tbody>\n",
       "</table>\n",
       "</div>"
      ],
      "text/plain": [
       "   id_avl  line_id  avg_speed  speed_stddev\n",
       "0   11239     1695  10.575260      9.424090\n",
       "1   11462    32874  11.875606     12.713971\n",
       "2   13437       14  10.941400      9.580270\n",
       "3   13710    34218  18.025252     17.073166\n",
       "4   35883      501  17.007117     11.751169"
      ]
     },
     "execution_count": 3,
     "metadata": {},
     "output_type": "execute_result"
    }
   ],
   "source": []
  },
  {
   "cell_type": "code",
   "execution_count": null,
   "metadata": {},
   "outputs": [],
   "source": []
  },
  {
   "cell_type": "code",
   "execution_count": null,
   "metadata": {},
   "outputs": [],
   "source": []
  }
 ],
 "metadata": {
  "kernelspec": {
   "display_name": "Python 3",
   "language": "python",
   "name": "python3"
  },
  "language_info": {
   "codemirror_mode": {
    "name": "ipython",
    "version": 3
   },
   "file_extension": ".py",
   "mimetype": "text/x-python",
   "name": "python",
   "nbconvert_exporter": "python",
   "pygments_lexer": "ipython3",
   "version": "3.7.4"
  }
 },
 "nbformat": 4,
 "nbformat_minor": 2
}
