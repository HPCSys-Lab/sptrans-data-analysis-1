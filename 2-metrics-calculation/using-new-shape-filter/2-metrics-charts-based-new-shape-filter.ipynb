{
 "cells": [
  {
   "cell_type": "code",
   "execution_count": 5,
   "metadata": {},
   "outputs": [],
   "source": [
    "# Vehicle Degree 1 - hour\n",
    "import matplotlib.pyplot as plt\n",
    "import pandas as pd\n",
    "\n",
    "days_to_analyze = [1,5,4,17,12,20]\n",
    "\n",
    "for day in days_to_analyze:\n",
    "\n",
    "    df_degree_per_bus_graph = pd.read_parquet(f\"../metrics-calculation/using-new-map-matching-filter/connectivity-metrics/connections-degree-per-minute-one-hour/MO_1510{day}/\")\\\n",
    "        .sort_values(by=[\"time\"])\n",
    "\n",
    "    ax = df_degree_per_bus_graph.plot(x =\"time\",y = \"avg_degree\",title=f\"Average node degree - {day}/10/2015\",figsize=(15,8))\n",
    "    # x axis label\n",
    "    ax.set_xlabel(\"hour\",size=20)\n",
    "    # y axis label\n",
    "    ax.set_ylabel(\"Average node degree\",size=20)\n",
    "    \n",
    "    # title fontsize\n",
    "    ax.title.set_size(20)\n",
    "    plt.grid(True)\n",
    "    # size of the number in both axis\n",
    "    ax.tick_params(axis='both', which='major', labelsize=15)\n",
    "    \n",
    "    ax.get_figure().savefig(f'./one-hour-filter-day-{day}-degree-vehicles.png',bbox_inches='tight')\n",
    "    plt.close()\n"
   ]
  },
  {
   "cell_type": "code",
   "execution_count": 6,
   "metadata": {},
   "outputs": [],
   "source": [
    "# Vehicle Degree - 30 min\n",
    "import matplotlib.pyplot as plt\n",
    "import pandas as pd\n",
    "\n",
    "days_to_analyze = [1,5,4,17,12,20]\n",
    "\n",
    "for day in days_to_analyze:\n",
    "\n",
    "    df_degree_per_bus_graph = pd.read_parquet(f\"../metrics-calculation/using-new-map-matching-filter/connectivity-metrics/connections-degree-per-minute-30-min/MO_1510{day}/\")\\\n",
    "        .sort_values(by=[\"time\"])\n",
    "\n",
    "    ax = df_degree_per_bus_graph.plot(x =\"time\",y = \"avg_degree\",title=f\"Average node degree - {day}/10/2015\",figsize=(15,8))\n",
    "    # x axis label\n",
    "    ax.set_xlabel(\"hour\",size=20)\n",
    "    # y axis label\n",
    "    ax.set_ylabel(\"Average node degree\",size=20)\n",
    "    \n",
    "    # title fontsize\n",
    "    ax.title.set_size(20)\n",
    "    plt.grid(True)\n",
    "    # size of the number in both axis\n",
    "    ax.tick_params(axis='both', which='major', labelsize=15)\n",
    "    \n",
    "    ax.get_figure().savefig(f'./30-min-filter-day-{day}-degree-vehicles.png',bbox_inches='tight')\n",
    "    plt.close()\n"
   ]
  },
  {
   "cell_type": "code",
   "execution_count": 7,
   "metadata": {},
   "outputs": [],
   "source": [
    "# Vehicle Degree - 15 min - count 1\n",
    "import matplotlib.pyplot as plt\n",
    "import pandas as pd\n",
    "\n",
    "days_to_analyze = [1,5,4,17,12,20]\n",
    "\n",
    "for day in days_to_analyze:\n",
    "\n",
    "    df_degree_per_bus_graph = pd.read_parquet(f\"../metrics-calculation/using-new-map-matching-filter/connectivity-metrics/connections-degree-per-minute-15-min-count-1/MO_1510{day}/\")\\\n",
    "        .sort_values(by=[\"time\"])\n",
    "\n",
    "    ax = df_degree_per_bus_graph.plot(x =\"time\",y = \"avg_degree\",title=f\"Average node degree - {day}/10/2015\",figsize=(15,8))\n",
    "    # x axis label\n",
    "    ax.set_xlabel(\"hour\",size=20)\n",
    "    # y axis label\n",
    "    ax.set_ylabel(\"Average node degree\",size=20)\n",
    "    \n",
    "    # title fontsize\n",
    "    ax.title.set_size(20)\n",
    "    plt.grid(True)\n",
    "    # size of the number in both axis\n",
    "    ax.tick_params(axis='both', which='major', labelsize=15)\n",
    "    \n",
    "    ax.get_figure().savefig(f'./15-min-filter-count-1-day-{day}-degree-vehicles.png',bbox_inches='tight')\n",
    "    plt.close()\n"
   ]
  }
 ],
 "metadata": {
  "kernelspec": {
   "display_name": "Python 3",
   "language": "python",
   "name": "python3"
  },
  "language_info": {
   "codemirror_mode": {
    "name": "ipython",
    "version": 3
   },
   "file_extension": ".py",
   "mimetype": "text/x-python",
   "name": "python",
   "nbconvert_exporter": "python",
   "pygments_lexer": "ipython3",
   "version": "3.7.4"
  }
 },
 "nbformat": 4,
 "nbformat_minor": 2
}
