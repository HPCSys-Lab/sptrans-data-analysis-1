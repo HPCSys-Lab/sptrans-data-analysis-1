{
 "cells": [
  {
   "cell_type": "markdown",
   "metadata": {},
   "source": [
    "- How to identity contact between buses?\n",
    "- 100m range --> references\n",
    "    - Trajectory Improves Data Delivery in Vehicular Networks = 300m\n",
    "    - Classificando Comportamentos Sociais em Redes Veiculares = 100 to 150m, janelas de agregação --> 5,15,30,60\n",
    "    - Explorando Dados Urbanos: um estudo usando viagens deT ́axi da cidade de S ̃ao Francisco 100m e 15 min\n",
    "    - An Alternative Approach to Mobility Analysis inVehicular Ad Hoc Network - 100m\n",
    "    - CARACTERIZAÇÃO DA MOBILIDADE VEICULAR E O SEU IMPACTO NASREDES VEICULARES TOLERANTES A ATRASOS E DESCONEXÕES - 100m\n",
    "    - nsights on Metropolitan-Scale VehicularMobility from a Networking Perspectiv - 100m e grafo\n",
    "    - Generation and Analysis of a Large-Scale UrbanVehicular Mobility Dataset 100m\n",
    "- Temporal Graph --> references procurar depois\n"
   ]
  },
  {
   "cell_type": "code",
   "execution_count": 1,
   "metadata": {},
   "outputs": [
    {
     "data": {
      "application/vnd.jupyter.widget-view+json": {
       "model_id": "431ce1c2c9f1498a9e5923c5049e87e4",
       "version_major": 2,
       "version_minor": 0
      },
      "text/plain": [
       "VBox()"
      ]
     },
     "metadata": {},
     "output_type": "display_data"
    },
    {
     "name": "stdout",
     "output_type": "stream",
     "text": [
      "Starting Spark application\n"
     ]
    },
    {
     "data": {
      "text/html": [
       "<table>\n",
       "<tr><th>ID</th><th>YARN Application ID</th><th>Kind</th><th>State</th><th>Spark UI</th><th>Driver log</th><th>Current session?</th></tr><tr><td>9</td><td>application_1610034250435_0010</td><td>pyspark</td><td>idle</td><td><a target=\"_blank\" href=\"http://ip-172-31-80-111.ec2.internal:20888/proxy/application_1610034250435_0010/\" >Link</a></td><td><a target=\"_blank\" href=\"http://ip-172-31-93-80.ec2.internal:8042/node/containerlogs/container_1610034250435_0010_01_000001/livy\" >Link</a></td><td>✔</td></tr></table>"
      ],
      "text/plain": [
       "<IPython.core.display.HTML object>"
      ]
     },
     "metadata": {},
     "output_type": "display_data"
    },
    {
     "data": {
      "application/vnd.jupyter.widget-view+json": {
       "model_id": "",
       "version_major": 2,
       "version_minor": 0
      },
      "text/plain": [
       "FloatProgress(value=0.0, bar_style='info', description='Progress:', layout=Layout(height='25px', width='50%'),…"
      ]
     },
     "metadata": {},
     "output_type": "display_data"
    },
    {
     "name": "stdout",
     "output_type": "stream",
     "text": [
      "SparkSession available as 'spark'.\n"
     ]
    },
    {
     "data": {
      "application/vnd.jupyter.widget-view+json": {
       "model_id": "",
       "version_major": 2,
       "version_minor": 0
      },
      "text/plain": [
       "FloatProgress(value=0.0, bar_style='info', description='Progress:', layout=Layout(height='25px', width='50%'),…"
      ]
     },
     "metadata": {},
     "output_type": "display_data"
    }
   ],
   "source": [
    "# Getting the minute of the date_avl, and getting the graph_id\n",
    "# The register will be modeled in a temporal graph where there is a graph for a moment. \n",
    "# This graph is composed by nodes which are buses, \n",
    "# and edges are connections between buses (nodes) if they are closer from each other less 100 meters\n",
    "\n",
    "# A graph in the moment t in a region r is composed by register in a interval of 1 minute. Interval examples:\n",
    "# 10:00 - 10:00:59\n",
    "# 10:01:00 - 10:01:59\n",
    "# There will be a graph for each one of the interval above.\n",
    "# To define which interval the trace belong:\n",
    "# 1- We get the column hour_avl  (previous calculated) from the date of the register. Ex: 10:30 --> hour_avl = 10\n",
    "# 2- We get the column minute_avl the minute from the date of the register. Ex: 10:35 --> minute_avl = 35\n",
    "# 3- We concate the hour_avl,minute_avl,region = graph_id. So, we have graph_id"
   ]
  },
  {
   "cell_type": "code",
   "execution_count": null,
   "metadata": {},
   "outputs": [],
   "source": [
    "import pyspark.sql.functions as F\n",
    "\n",
    "days_to_analize = [1,4,12,17,20]\n",
    "days_to_analize_2 = [2,3,5,6,7,8,9,10,11,13,14,15,16,18,19,21,22,23,24,25,26,27,28,29,30,31]\n",
    "\n",
    "\n",
    "for day in days_to_analize_2:\n",
    "    traces = spark.read.parquet(\"s3://mobility-traces-sp/processed-data-avl-date/13-speed-calculation-filtered-columns/MO_1510\"+str(day)+\"/\")\n",
    "    df = traces.repartition(150)\n",
    "    \n",
    "    df_graph_id = df\\\n",
    "        .withColumn('minute_avl',F.minute(F.col(\"dt_avl\")))\\\n",
    "        .withColumn('graph_id',F.concat(F.col(\"hour_avl\"),F.lit(\"-\"),F.col(\"minute_avl\"),F.lit(\"-\"),F.col(\"region\")))\\\n",
    "        .drop(\"hour_diff\",\"dt_avl\",\"speed\")\n",
    "\n",
    "    df_graph_id.repartition(\"graph_id\").write.parquet(\"s3://mobility-traces-sp/processed-data-avl-date/15-traces-graph-1-minute/MO_1510\"+str(day)+\"/\")\n",
    "    "
   ]
  },
  {
   "cell_type": "code",
   "execution_count": null,
   "metadata": {},
   "outputs": [],
   "source": [
    "import pyspark.sql.functions as f\n",
    "days_to_analize = [1,4,12,17,20]\n",
    "days_to_analize_2 = [2,3,5,6,7,8,9,10,11,13,14,15,16,18,19,21,22,23,24,25,26,27,28,29,30,31]\n",
    "\n",
    "\n",
    "\n",
    "for day in days_to_analize_2:\n",
    "\n",
    "    traces = spark.read.parquet(\"s3://mobility-traces-sp/processed-data-avl-date/15-traces-graph-1-minute/MO_1510\"+str(day)+\"/\")\n",
    "    df = traces.repartition(150)\n",
    "    df2 = df\n",
    "    \n",
    "    df.alias('df1').join(df2.alias(\"df2\"),on=[\"graph_id\"],how=\"outer\")\\\n",
    "    .select(\n",
    "        f.col(\"df1.id_avl\").alias(\"id_avl_1\"),\n",
    "        f.col(\"df1.line_id\").alias(\"line_1\"),\n",
    "        f.col(\"df1.latitude\").alias(\"latitude_1\"),\n",
    "        f.col(\"df1.longitude\").alias(\"longitude_1\"),\n",
    "        f.col(\"df2.id_avl\").alias(\"id_avl_2\"),\n",
    "        f.col(\"df2.line_id\").alias(\"line_2\"),\n",
    "        f.col(\"df2.latitude\").alias(\"latitude_2\"),\n",
    "        f.col(\"df2.longitude\").alias(\"longitude_2\"),\n",
    "        f.col(\"df1.hour_avl\").alias(\"hour_avl\"),\n",
    "        f.col(\"df1.minute_avl\").alias(\"minute_avl\"),\n",
    "        f.col(\"df1.region\").alias(\"region\"),\n",
    "        f.col(\"graph_id\").alias(\"graph_id\"),\n",
    "    \n",
    ").write.parquet(\"s3://mobility-traces-sp/16-graph-joined-minute/MO_1510\"+str(day)+\"/\")"
   ]
  }
 ],
 "metadata": {
  "kernelspec": {
   "display_name": "Python 3",
   "language": "python",
   "name": "python3"
  },
  "language_info": {
   "codemirror_mode": {
    "name": "ipython",
    "version": 3
   },
   "file_extension": ".py",
   "mimetype": "text/x-python",
   "name": "python",
   "nbconvert_exporter": "python",
   "pygments_lexer": "ipython3",
   "version": "3.7.4"
  }
 },
 "nbformat": 4,
 "nbformat_minor": 4
}
