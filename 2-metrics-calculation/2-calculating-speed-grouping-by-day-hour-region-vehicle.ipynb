{
 "cells": [
  {
   "cell_type": "code",
   "execution_count": null,
   "metadata": {},
   "outputs": [],
   "source": [
    "# Calculating Speed per day, per vehicle, per region, "
   ]
  },
  {
   "cell_type": "code",
   "execution_count": null,
   "metadata": {},
   "outputs": [],
   "source": [
    "import pyspark.sql.functions as F\n",
    "\n",
    "# calculating speed per vehicle\n",
    "for day in range(1,32):\n",
    "    traces = spark.read.parquet(\"s3://mobility-traces-sp/processed-data-avl-date/13-speed-calculation-filtered-columns/MO_1510\"+str(day)+\"/\")\n",
    "    df_speed = traces.groupby(\"id_avl\",\"line_id\").agg(F.avg(\"speed\").alias(\"avg_speed\"),F.stddev(\"speed\").alias(\"speed_stddev\"))\n",
    "    df_speed.write.parquet(\"s3://mobility-traces-sp/metrics-calculation/speed-calculation/speed-per-vehicle/MO_1510\"+str(day)+\"/\")\n",
    "    \n",
    "    "
   ]
  },
  {
   "cell_type": "code",
   "execution_count": null,
   "metadata": {},
   "outputs": [],
   "source": [
    "# installing required packages for this notebook session\n",
    "sc.install_pypi_package(\"boto3\")"
   ]
  },
  {
   "cell_type": "code",
   "execution_count": null,
   "metadata": {},
   "outputs": [],
   "source": [
    "# avg speed per day\n",
    "\n",
    "import pyspark.sql.functions as F\n",
    "\n",
    "# statistics speed per vehicle\n",
    "csv_out_vehicle = \"day,n_vehicles,n_lines,n_vehicles_lines,avg_speed,avg_speed_min,avg_speed_max,avg_speed_stddev,avg_speed_quantile_6.25,avg_speed_quantile_12.5,avg_speed_quantile_25,avg_speed_quantile_50,avg_speed_quantile_75\\n\"\n",
    "\n",
    "for day in range(1,32):\n",
    "    # speed by vehicle per line\n",
    "    speeds_per_vehicle = spark.read.parquet(\"s3://mobility-traces-sp/metrics-calculation/speed-calculation/speed-per-vehicle/MO_1510\"+str(day)+\"/\")\n",
    "    \n",
    "    sizes = speeds_per_vehicle.select(F.countDistinct(\"id_avl\").alias(\"vehicles\"),\n",
    "                                      F.countDistinct(\"line_id\").alias(\"lines\"),\n",
    "                                      F.countDistinct(\"id_avl\",\"line_id\").alias(\"vehicles_lines\")\n",
    "                                    ).collect()\n",
    "    \n",
    "    stats = speeds_per_vehicle.agg(F.mean('avg_speed').alias('mean'),\n",
    "                       F.min('avg_speed').alias('min'),\n",
    "                       F.max('avg_speed').alias('max'),\n",
    "                       F.stddev('avg_speed').alias(\"stddev\")).collect()\n",
    "    \n",
    "    quantiles = speeds_per_vehicle.approxQuantile(\"avg_speed\", [0.0625,0.125,0.25,0.5,0.75], 0.0001)\n",
    "    \n",
    "    csv_out_vehicle += \"{},{},{},{},{},{},{},{},{},{},{},{},{}\\n\"\\\n",
    "        .format(\"MO_1510\"+str(day),\n",
    "                sizes[0][\"vehicles\"],sizes[0][\"lines\"],sizes[0][\"vehicles_lines\"],\n",
    "                stats[0][\"mean\"],stats[0][\"min\"],stats[0][\"max\"],stats[0][\"stddev\"],\n",
    "                quantiles[0],quantiles[1],quantiles[2],quantiles[3],quantiles[4]\n",
    "        )\n",
    "\n",
    "import boto3   \n",
    "s3 = boto3.client('s3')\n",
    "\n",
    "s3.put_object(Body=bytes(csv_out_vehicle,\"utf-8\"), Bucket='mobility-traces-sp', Key='metrics-calculation/speed-calculation/statistics/1-speed_per_vehicle_stats.csv')\n"
   ]
  },
  {
   "cell_type": "code",
   "execution_count": null,
   "metadata": {},
   "outputs": [],
   "source": [
    "# Calculating speed by region per day\n",
    "# 1- Calculating the avg speed per bus per region --> groupby id_avl,line_id,region\n",
    "# 2- Calculating the avg speed per region per day --> groupby region\n",
    "import pyspark.sql.functions as F\n",
    "\n",
    "# calculating speed per region per day\n",
    "for day in range(1,32):\n",
    "    # Reading traces\n",
    "    traces = spark.read.parquet(\"s3://mobility-traces-sp/processed-data-avl-date/13-speed-calculation-filtered-columns/MO_1510\"+str(day)+\"/\")\n",
    "    \n",
    "    # Calculating speed by vehicle per region\n",
    "    df_speed_region_per_vehicle = traces.groupby(\"id_avl\",\"line_id\",\"region\").agg(F.avg(\"speed\").alias(\"avg_speed\"),F.stddev(\"speed\").alias(\"speed_stddev\"))\n",
    "    df_speed_region_per_vehicle.write.parquet(\"s3://mobility-traces-sp/metrics-calculation/speed-calculation/speed-per-vehicle-per-region/MO_1510\"+str(day)+\"/\")\n",
    "    \n",
    "    # Calculating speed by region per day\n",
    "    df_speed_region_day = df_speed_region_per_vehicle.groupby(\"region\").agg(F.avg(\"avg_speed\").alias(\"avg_speed\"),F.stddev(\"avg_speed\").alias(\"speed_stddev\"))\n",
    "    df_speed_region_day.write.parquet(\"s3://mobility-traces-sp/metrics-calculation/speed-calculation/speed-per-region-per-day/MO_1510\"+str(day)+\"/\")\n"
   ]
  },
  {
   "cell_type": "code",
   "execution_count": null,
   "metadata": {},
   "outputs": [],
   "source": [
    "# installing required packages for this notebook session\n",
    "sc.install_pypi_package(\"boto3\")"
   ]
  },
  {
   "cell_type": "code",
   "execution_count": null,
   "metadata": {},
   "outputs": [],
   "source": [
    "import pyspark.sql.functions as F\n",
    "\n",
    "# statistics speed per region per day\n",
    "csv_out_region = \"day,avg_speed,avg_speed_min,avg_speed_max,avg_speed_stddev,avg_speed_quantile_6.25,avg_speed_quantile_12.5,avg_speed_quantile_25,avg_speed_quantile_50,avg_speed_quantile_75\\n\"\n",
    "\n",
    "for day in range(1,32):\n",
    "    \n",
    "    # speed by region per day\n",
    "    speeds_per_region = spark.read.parquet(\"s3://mobility-traces-sp/metrics-calculation/speed-calculation/speed-per-region-per-day/MO_1510\"+str(day)+\"/\") \n",
    "    \n",
    "    stats = speeds_per_region.agg(F.mean('avg_speed').alias('mean'),\n",
    "                       F.min('avg_speed').alias('min'),\n",
    "                       F.max('avg_speed').alias('max'),\n",
    "                       F.stddev('avg_speed').alias(\"stddev\")).collect()\n",
    "    \n",
    "    quantiles = speeds_per_region.approxQuantile(\"avg_speed\", [0.0625,0.125,0.25,0.5,0.75], 0.0001)\n",
    "    \n",
    "    csv_out_region += \"{},{},{},{},{},{},{},{},{},{}\\n\"\\\n",
    "        .format(\"MO_1510\"+str(day),\n",
    "                stats[0][\"mean\"],stats[0][\"min\"],stats[0][\"max\"],stats[0][\"stddev\"],\n",
    "                quantiles[0],quantiles[1],quantiles[2],quantiles[3],quantiles[4]\n",
    "        )\n",
    "\n",
    "import boto3   \n",
    "s3 = boto3.client('s3')\n",
    "\n",
    "s3.put_object(Body=bytes(csv_out_region,\"utf-8\"), Bucket='mobility-traces-sp', Key='metrics-calculation/speed-calculation/statistics/2-speed_per_region_stats.csv')\n"
   ]
  },
  {
   "cell_type": "code",
   "execution_count": 10,
   "metadata": {},
   "outputs": [
    {
     "data": {
      "application/vnd.jupyter.widget-view+json": {
       "model_id": "9eef55b6bf1e49e28cc4cba4f999bbeb",
       "version_major": 2,
       "version_minor": 0
      },
      "text/plain": [
       "VBox()"
      ]
     },
     "metadata": {},
     "output_type": "display_data"
    },
    {
     "data": {
      "application/vnd.jupyter.widget-view+json": {
       "model_id": "",
       "version_major": 2,
       "version_minor": 0
      },
      "text/plain": [
       "FloatProgress(value=0.0, bar_style='info', description='Progress:', layout=Layout(height='25px', width='50%'),…"
      ]
     },
     "metadata": {},
     "output_type": "display_data"
    }
   ],
   "source": [
    "# Calculating speed by hour per day\n",
    "# 1- Calculating the avg speed per bus per hour --> groupby id_avl,line_id,hour\n",
    "# 2- Calculating the avg speed per hour per day --> groupby hour\n",
    "import pyspark.sql.functions as F\n",
    "\n",
    "# calculating speed per hour per day\n",
    "for day in range(1,32):\n",
    "    # Reading traces\n",
    "    traces = spark.read.parquet(\"s3://mobility-traces-sp/processed-data-avl-date/13-speed-calculation-filtered-columns/MO_1510\"+str(day)+\"/\")\n",
    "    \n",
    "    # Calculating speed by vehicle per hour\n",
    "    df_speed_hour_per_vehicle = traces.groupby(\"id_avl\",\"line_id\",\"hour_avl\").agg(F.avg(\"speed\").alias(\"avg_speed\"),F.stddev(\"speed\").alias(\"speed_stddev\"))\n",
    "    df_speed_hour_per_vehicle.write.parquet(\"s3://mobility-traces-sp/metrics-calculation/speed-calculation/speed-per-vehicle-per-hour/MO_1510\"+str(day)+\"/\")\n",
    "    \n",
    "    # Calculating speed by hour per day\n",
    "    df_speed_hour_day = df_speed_hour_per_vehicle.groupby(\"hour_avl\").agg(F.avg(\"avg_speed\").alias(\"avg_speed\"),F.stddev(\"avg_speed\").alias(\"speed_stddev\"))\n",
    "    df_speed_hour_day.write.parquet(\"s3://mobility-traces-sp/metrics-calculation/speed-calculation/speed-per-hour-per-day/MO_1510\"+str(day)+\"/\")\n"
   ]
  },
  {
   "cell_type": "code",
   "execution_count": null,
   "metadata": {},
   "outputs": [],
   "source": [
    "# Calculating speed by hour and region per day\n",
    "# 1- Calculating the avg speed per bus per hour and region --> groupby id_avl,line_id,hour,region\n",
    "# 2- Calculating the avg speed per hour and region per day --> groupby hour, region\n",
    "import pyspark.sql.functions as F\n",
    "\n",
    "for day in range(1,32):\n",
    "    # Reading traces\n",
    "    traces = spark.read.parquet(f\"s3://mobility-traces-sp/processed-data-avl-date/13-speed-calculation-filtered-columns/MO_1510{day}/\")    \n",
    "   \n",
    "    # Calculating speed by vehicle per hour and region\n",
    "    df_speed_hour_region = traces.groupby(\"id_avl\",\"line_id\",\"hour_avl\",\"region\").agg(F.avg(\"speed\").alias(\"avg_speed\"),F.stddev(\"speed\").alias(\"speed_stddev\"))\n",
    "    df_speed_hour_region.write.parquet(\"s3://mobility-traces-sp/metrics-calculation/speed-calculation/speed-per-vehicle-hour-region-aggregration/MO_1510\"+str(day)+\"/\")\n",
    "    \n",
    "    # Calculating speed by hour and region per day\n",
    "    df_speed_hour_region_day = df_speed_hour_region.groupby(\"hour_avl\",\"region\").agg(F.avg(\"avg_speed\").alias(\"avg_speed\"),F.stddev(\"avg_speed\").alias(\"speed_stddev\"))\n",
    "    df_speed_hour_region_day.write.parquet(\"s3://mobility-traces-sp/metrics-calculation/speed-calculation/speed-per-hour-per-region-per-day/MO_1510\"+str(day)+\"/\")\n"
   ]
  }
 ],
 "metadata": {
  "kernelspec": {
   "display_name": "Python 3",
   "language": "python",
   "name": "python3"
  },
  "language_info": {
   "codemirror_mode": {
    "name": "ipython",
    "version": 3
   },
   "file_extension": ".py",
   "mimetype": "text/x-python",
   "name": "python",
   "nbconvert_exporter": "python",
   "pygments_lexer": "ipython3",
   "version": "3.7.4"
  }
 },
 "nbformat": 4,
 "nbformat_minor": 4
}
