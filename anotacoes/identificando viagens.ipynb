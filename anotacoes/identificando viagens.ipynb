{
 "cells": [
  {
   "cell_type": "code",
   "execution_count": null,
   "metadata": {},
   "outputs": [],
   "source": [
    "# se vc procura pro trajectory tu nao acha muita coisa, se tu procura por trips/rides tu acha um monte de notebook \n",
    "# com uber NY (colocar NY uber como referencia de dataset)\n",
    "# https://www.datalabserasaexperian.com.br/datalab/desafios-dados-transporte-publico-sp/\n",
    "# https://www.nature.coxsm/articles/sdata201889\n",
    "# no futuro posso voronoi para onibus juntos https://www.datalabserasaexperian.com.br/datalab/challenges-of-sao-paulos-public-transportations-data-analysis/"
   ]
  },
  {
   "cell_type": "code",
   "execution_count": null,
   "metadata": {},
   "outputs": [],
   "source": [
    "- tempo de diferenca entre dois pontos consect > 100s\n",
    "- origin\n",
    "- identificar onde um carro termina a rota dele (terminal ou endpoint)\n",
    "- posso utilizar a direcao em que o veiculo estava indo e agora está voltando\n",
    "- cuidado com onibus andando pra tras\n",
    "- onibus nao se movimentou de um ponto para o outro\n",
    "\n",
    "# A identificação e reconstituição das viagens é feita da seguinte forma. Para cada posição reportada \n",
    "# pelo equipamento, a coordenada é normalizada ao associá-la ao segmento mais próximo \n",
    "# no trajeto da linha configurada para  o  equipamento.  Em  seguida  a  sequência  de  segmentos  \n",
    "# é  analisada  para determinar-se a cobertura dos registros\n",
    "# identificados e se a viagem reconstituída  teve  sua  origem  no  ponto  inicial  e  término  no  ponto  final. \n",
    "\n",
    "# Para avaliar o tempo de deslocamento em uma linha específica, é necessário agregar várias solicitações e identificar \n",
    "# quando um carro termina sua rota, em um terminal ou em um ponto final, e inicia na outra direção.\n",
    "\n",
    "\n",
    "# Sempre que um carro muda de direção, também muda de sinal. \n",
    "# Ao agrupar conjuntos de pontos na mesma direção, ordenados \n",
    "# pela hora em que cada carro envia sua posição, um “salto” pode ser observado no momento do \n",
    "# envio sempre que o carro retornar ao seu ponto de origem (ou seja, quando a viagem for concluída).\n",
    "\n",
    "# Observing this distribution, we find it safe to consider as a new trip whenever \n",
    "# the next observation of a new position of a car occurs more than 100 seconds after the last \n",
    "# observation (the estimated probability of observing an interval greater than 100 seconds is ~10−34)."
   ]
  },
  {
   "cell_type": "code",
   "execution_count": null,
   "metadata": {},
   "outputs": [],
   "source": [
    "# recursos do dataset que podem ajudar \n",
    "# sites para achar gtfs abertos http://transit.land) and TransitFeeds (http://transitfeeds.com). \n",
    "- gtfs lourdes - stops\n",
    "- graph hopper\n",
    "- ver se o campo aberto fechado significa algo\n",
    "- onibus an"
   ]
  },
  {
   "cell_type": "code",
   "execution_count": null,
   "metadata": {},
   "outputs": [],
   "source": [
    "alguns problemas observados:\n",
    "- onibus manda localizacao\n",
    "- gtfs nao compreender info do periodo analisado\n",
    "- linha circular"
   ]
  },
  {
   "cell_type": "code",
   "execution_count": 1,
   "metadata": {},
   "outputs": [
    {
     "ename": "SyntaxError",
     "evalue": "invalid syntax (<ipython-input-1-93c5dc2cf7c0>, line 2)",
     "output_type": "error",
     "traceback": [
      "\u001b[0;36m  File \u001b[0;32m\"<ipython-input-1-93c5dc2cf7c0>\"\u001b[0;36m, line \u001b[0;32m2\u001b[0m\n\u001b[0;31m    - arquivo de shape\u001b[0m\n\u001b[0m               ^\u001b[0m\n\u001b[0;31mSyntaxError\u001b[0m\u001b[0;31m:\u001b[0m invalid syntax\n"
     ]
    }
   ],
   "source": [
    "# o que pode me ajudar\n",
    "- arquivo de shape\n",
    "- tem circulares\n",
    "- fazer estatisticas para cada arquivo\n",
    "- A linha é mudada na mao, portanto é passivel de erro\n",
    "- gtfs talvez esteja desatualizado/diferente do ano que estamos analisando"
   ]
  },
  {
   "cell_type": "code",
   "execution_count": null,
   "metadata": {},
   "outputs": [],
   "source": [
    "# Uma parte do processo \n",
    "# de funcionamento dos AVLs envolve operação manual, o que é uma outra \n",
    "# fonte de imprecisão dos dados. \n",
    "# O equipamento deve  ser  ajustado  para  a  linha  na  qual  \n",
    "# o  veículo  está  operando  e  esta  configuração é feita manualmente pela equipe de operação. \n",
    "# Muitas vezes o ônibus faz o trajeto de volta com o equipamento de AVL configurado para a ida, \n",
    "# ou o ônibus é realocado para outro trajeto mas o equipamento não "
   ]
  },
  {
   "cell_type": "markdown",
   "metadata": {},
   "source": [
    "perguntas básicas:\n",
    "\n",
    "        - mais importante: objetivo\n",
    "        - oque vou medir, pq é importante? como vou fazer?\n",
    "\n",
    "        \n",
    "        - quais sao as metricas relevantes que vou querer colocar? \n",
    "        - número de viagens: pq é revelante? **não é so maria vai com as outras**\n",
    "                \n",
    "                \n",
    "        "
   ]
  },
  {
   "cell_type": "code",
   "execution_count": 1,
   "metadata": {},
   "outputs": [
    {
     "ename": "SyntaxError",
     "evalue": "invalid syntax (<ipython-input-1-f9cbfc161226>, line 1)",
     "output_type": "error",
     "traceback": [
      "\u001b[0;36m  File \u001b[0;32m\"<ipython-input-1-f9cbfc161226>\"\u001b[0;36m, line \u001b[0;32m1\u001b[0m\n\u001b[0;31m    meia pagina com essas metricas\u001b[0m\n\u001b[0m              ^\u001b[0m\n\u001b[0;31mSyntaxError\u001b[0m\u001b[0;31m:\u001b[0m invalid syntax\n"
     ]
    }
   ],
   "source": [
    "meia pagina com essas metricas"
   ]
  },
  {
   "cell_type": "code",
   "execution_count": null,
   "metadata": {},
   "outputs": [],
   "source": [
    "o que vai medir? a justivificativa/ como vou fazer (algoritmo abstrato)?\n",
    "\n",
    "- quais sao as metricas\n",
    "- qual justificativa para cada uma delas? (pouca palavras/suscinto)\n",
    "- como pretende fazer isso? (descricao da estrategia bem resumida)\n"
   ]
  },
  {
   "cell_type": "markdown",
   "metadata": {},
   "source": [
    "- lembrar de colocar na monografia sobre GTFS o que cada arquivo signifca\n",
    "- talvez pesquisar mais trabalhos que descrevem datasets que nem eu\n",
    "- acrescentar dissertacao mino de sp\n",
    "- explicar melhor o que é cada metrica encontrada, mas fazer uma secao na dissertacao para dizer \n",
    "- verificar se metricas encontradas pertencem ao trabalho certo e se nao existe as mesmas com nomes diferentes\n",
    "- talvez procurar 1 ou 2 trabalhos que tenham mais a ver com a acuraria dos modelos/simuladores e tenham descricao de dataset\n",
    "- talvez traduzir de forma mais correta o nome das métricas\n",
    "- mudar/acrescentar que um dos objetivos é mostrar como fazer esse tipo caracterizacao --> um método ...\n",
    "- talvez num futuro fazer performance em segundos das ferramentas para executar mesma tarefas\n",
    "- Acrescentar Bahadir K. Polat nas meitrcas e nos trabs relacionados"
   ]
  },
  {
   "cell_type": "markdown",
   "metadata": {},
   "source": [
    "Martins, Cunha - Explorando Dados Urbanos: um estudo usando viagens de Táxi da cidade de São Francisco\n",
    "    - Objetivo da pesquisa: mostrar padroes na quanttidade de vezes que esses veículos se encontram, padroes nas rotinas\n",
    "    - redes veiculares\n",
    "    - VANETs sao altamente influenciadas pela mobilidade\n",
    "    - Táxis de São Francisco\n",
    "    - para melhorar a conectividade e os serviços das VANETs, seria interessante encontrar veículos \n",
    "    que apresentem os mesmos destinos e tenham um comportamento semelhante. (desenvolvimento de protocolos e serviços \n",
    "    para VANETs)\n",
    "    - mobilidade por si só\n",
    "    - mobilidade em termos de contato\n",
    "    - grafo\n",
    "    - aspecto espacial\n",
    "    - métricas:\n",
    "        - encontros repetidos ao longo do dia \n",
    "        - encontros repetidos ao longi do dia na mesma localização\n",
    "        - taxa de repetição\n",
    "    \n",
    "\n"
   ]
  },
  {
   "cell_type": "markdown",
   "metadata": {},
   "source": [
    "**Santana Kanashiro 2018 - Geração de rastros de mobilidade para experimento em redes veiculares**\n",
    "\n",
    "- testes e experimentos realistas\n",
    "- geração de rastros\n",
    "- carros e ônibus de Sao Paulo\n",
    "- simuladores\n",
    "- apresenta caracteristicas de cada simulador: congestionamentos, acidentes, populacao\n",
    "- pesquisa OD para gerar dados\n",
    "- IntersCSimulador\n",
    "- interesse apenas nas viagens de carro\n",
    "- atributo de quantas vezes a viagem deve ser replicada\n",
    "- dados de saída é um rastro de mobilidade (métricas para validacao)\n",
    "- métricas:\n",
    "    - distribuicao dessas viagens pela hora de inicio (numero de viagens por hora do dia)\n",
    "    - tempo média de das viagens (metrica gerado do traco)\n",
    "    - distancia das viagens (metrica gerado do traco)\n",
    "    - velocidade media (metrica gerado do traco gerado)\n",
    "    - numero de viagens (metrica gerado do traco gerado)\n",
    "    - o nu ́mero me ́dio de conexo ̃es por segundo (ja na simulacao do NS3)\n",
    "    \n",
    "- depois ele usa o traco no NS-3 - simulacao mostra a conexao entre veiculos que estao proximos"
   ]
  },
  {
   "cell_type": "markdown",
   "metadata": {},
   "source": [
    "**Criação de Modelo para Simulação de Movimentação de ônibus a Partir de Dados Reais - Wen 2018**\n",
    "\n",
    "- sistena de transporte publico precisam de otimizacao\n",
    "- uso de simuladores e uso de modelo que consistem com a realidade\n",
    "- processar dados de sistemas de onibus de Sao Paulo para melhorar o modelo de movimentacao no InterSCSimulador\n",
    "a fim ed que ele recrie cenario de mobilidade urbano\n",
    "-ainda n ̃ao levam em considerac ̧ ̃ao as estocasticidades da realidade dosistema de transporte coletivo\n",
    "- **objetivo**: apresentar modelo que incorpora alguns aspectos estocasticos da realidade do transporte coletivo\n",
    "- AVL e GTFS dados dos onbius de sao paulo\n",
    "- validacao: observacao dados reais x dados simulados\n",
    "- utilizacaod de metricas para qualificar cada linha \"qualidade\"\n",
    "- métricas:\n",
    "    - velocidade média (na areastas)\n",
    "    - duracao das viagens\n",
    "    - tempo da viagem (validar modelo x real)\n",
    " - utilizou infos de GTFS para acurar modelo\n",
    " Nessa arquitetura,os aspectos estoc ́asticos foram incorporados utilizando a m ́edia das velocidades m ́ediasdos ve ́ıculos, por seguimento entre paradas deˆonibus. Por fim, tamb ́em acrescentamos acada seguimento a descric ̧ ̃ao real do seu formato."
   ]
  },
  {
   "cell_type": "markdown",
   "metadata": {},
   "source": [
    "Doering Wolf 2015 - Opportunistic Vehicular Networking: Large-Scale Bus Movement Traces as base for Network Analysis\n",
    "\n",
    "é mais um estudo de exploracao de caracteristicas de onibus e como eles podem variar\n",
    "\n",
    "- vanets\n",
    "- bus como coletores de informacoes importantes da cidade ex: qualidade do ar\n",
    "- questoes: quanto de dados poderia ser distribuido por uma rede oportunistoca de onobis\n",
    "- traffic conditions modificam o comportamento do onibus, entao deve ser entendido\n",
    "- However, these technologies usually have a shorter range\n",
    "- onibus mais espalhadaos\n",
    "- vehicular and disrupstion-tolerant routing protocols\n",
    "- Além disso, traços reais produzem características especiais inesperadas em cenários do mundo real, por exemplo, diferentes distribuições dependentes da situação da duração do contato nas redes veiculares\n",
    "- o traço carece de informações de posição dos ônibus e, portanto, não é adequado para derivar conhecimentos gerais sobre o comportamento de movimento dos veículos.\n",
    "- conducao de simulacoes realisticas com dados reais\n",
    "- vamos apontar trace-speciffic common characteristics\n",
    "- contexto de diferentes zonas e horarios (zonas é o mais importante desse tarbalho nesse caso)\n",
    "- métricas: (que sao especificas para transporte publico)\n",
    "    - densidade de veículos\n",
    "    - velocidade\n",
    "    - distancia/tempo de atualizacoes entre posicoes consecutivas\n",
    "    - numero de linhas por onibus\n",
    "    - lugar da cidade onde há mais atualizacoes"
   ]
  },
  {
   "cell_type": "markdown",
   "metadata": {},
   "source": [
    "**Uppor et al 2014 - Generation and Analysis of a Large-Scale Urban Vehicular Mobility Dataset**\n",
    "\n",
    "- simulation\n",
    "- vanets\n",
    "- performance analysis\n",
    "- métricas:\n",
    "    - velocidade\n",
    "    - tempo de viagem (nas simulacao)\n",
    "    - numero de veiculos ativos\n",
    "    - comprimento de viagens\n",
    "    - numero of clusters\n",
    "    - tamanho dos cluster\n",
    "- carros\n"
   ]
  },
  {
   "cell_type": "markdown",
   "metadata": {},
   "source": [
    "Uppor, Fiore 2012 - Insights on Metropolitan-Scale Vehicular Mobility from a Networking Perspective -  como anterior mais conteudo exploratorio\n",
    "\n",
    "- entender a movimentacao de carros se torna importante para avaliacao de solucoes de rede\n",
    "- extrair metricas sob perspectiva de redes\n",
    "- determinar o potencial potenciais transferencias de dados v2v\n",
    "- avaliar redes oportunisticas entre carros\n",
    "- consideracoes fracas em relacao as premisssas de redes veiculares: contatos atomicos, densidade constante ao longo do tempo, movimentos aleatorios de carros, exponential inter-arrival and tempo de residencia nas visiznhances\n",
    "- colonia\n",
    "- avaliar protocolos e architeturas de rede\n",
    "- métricas:\n",
    "    - tempos de chegadas\n",
    "    - tempo de residencia em cada celula\n",
    "    - duracao do tempo de contato entre veículos\n",
    "    - numero de veiculos ativos\n",
    "    - analise de onde sai/pra onde vai o trafego"
   ]
  },
  {
   "cell_type": "markdown",
   "metadata": {},
   "source": [
    "Bahadir K. Polat - An Alternative Approach to Mobility Analysis in Vehicular Ad Hoc Networks\n",
    "- enteder mobilidade = protocolos de sucesso\n",
    "- vanets\n",
    "- entender flutuacoes de densidade\n",
    "- spatio-temporal vehicular mobility characteristics os large complex geographical areas\n",
    "- Este trabalho se concentra em propor um método para análise de informações de mobilidade real / real para extrair comportamentos espaço-temporais que podem ajudar no projeto de soluções de comunicação veicular.\n",
    "- descreve como calculou metricas\n",
    "- metricas:\n",
    "    - densidade\n",
    "    - traffic flow speed\n",
    "    - distancia entre veiculos\n",
    "    - cell residence duration\n",
    "    - velocidade media em cada celula\n"
   ]
  },
  {
   "cell_type": "markdown",
   "metadata": {},
   "source": [
    "Bahadir K. Polat - An Alternative Approach to Mobility Analysis in Vehicular Ad Hoc Networks\n",
    "- enteder mobilidade = protocolos de sucesso\n",
    "- vanets\n",
    "- entender flutuacoes de densidade\n",
    "- spatio-temporal vehicular mobility characteristics os large complex geographical areas\n",
    "- Este trabalho se concentra em propor um método para análise de informações de mobilidade real / real para extrair comportamentos espaço-temporais que podem ajudar no projeto de soluções de comunicação veicular.\n",
    "- descreve como calculou metricas\n",
    "- metricas:\n",
    "    - densidade\n",
    "    - traffic flow speed\n",
    "    - distancia entre veiculos\n",
    "    - cell residence duration\n",
    "    - velocidade media em cada celula\n"
   ]
  },
  {
   "cell_type": "markdown",
   "metadata": {},
   "source": [
    "CARACTERIZAÇÃO DA MOBILIDADE VEICULAR E O SEU IMPACTO NAS REDES VEICULARES TOLERANTES A ATRASOS E DESCONEXÕES\n",
    "\n",
    "- Onibus de Muriae Zona da Mata mineira\n",
    "- incorporar parametros nos modelos/ configurar modelos\n",
    "- métricas:\n",
    "    - velocidade\n",
    "    - aceleracao\n",
    "    - angulo de direcao\n",
    "    - tempo de pausa\n"
   ]
  },
  {
   "cell_type": "markdown",
   "metadata": {},
   "source": [
    "Andre Yai - Análise e visualização de dados do transporte público de ônibus da cidade de São Paulo\n",
    "\n",
    "- onibus de sao paulo\n",
    "- descricao do dataset\n",
    "- ano analisado\n",
    "- avaliar qualidade dos dados"
   ]
  },
  {
   "cell_type": "markdown",
   "metadata": {},
   "source": [
    "# Métricas relavantes\n",
    "\n",
    "- velocidade média --> motivações (por onibus? por viagem? por coletivo?)\n",
    "    - comum tanto na parte de simulações como parametro configuravel\n",
    "    - metrica exploratoria e usada até para metodo de validacao entre simulacao e dados reais\n",
    "    - velocidade é sempre analisada quando o cenario é de geracao de dataset ou incorporar em modelos de simuladores\n",
    "    \n",
    "- numero de onibus ativos (numero de viagens é diferente de numero ativos) --> motivacoes:\n",
    "    - configuracao em simuladores\n",
    "    - metrica de valicao e comparativo simulacao x dados reais\n",
    "    - metrica aplicada tanto em cenarios exploratorios de datasets para entender numero como um todos, como pode ser\n",
    "    aplicada em configuracoes de simulacoes\n",
    "    \n",
    "- duracao em segundo/hora de viagens --> motivacao (rever), tenho que decidir se é media por linha/geral/se é de todo mundo\n",
    "    - entender por quanto tempo aquele onibus em media deve ficar na simulacao \n",
    "    - entender se o tempo que o onibus fica na simulacao corresponde ao real (caso o dataset/modelo gerado for sintetico)\n",
    "    - parametro tambem configuravel em alguns simuladores\n",
    "    - entender o tempo que o onibus fica rodando ali\n",
    "    \n",
    "    - distribuicao estatistica similar\n",
    "    - alguem pode pegar o dataset existente e utilizar nos simuladores/gerador de trafego\n",
    "    \n",
    "- numero medio de conexoes de onibus ao longo das horas ou regiao\n",
    "    - entendimento da conectividade da rede para redes veiculares\n",
    "    - possibilide de implantacao vanets (regiao/horario)\n",
    "    - no simuladores seria o correspondente ao numero de conexoes a cada ciclo/segundo\n",
    " \n",
    " \n",
    "\n"
   ]
  },
  {
   "cell_type": "raw",
   "metadata": {},
   "source": [
    "Velocidade media --> identificada cada viagem, existe velocidade instantaneas entre os pontos, \n",
    "Vm = media das velocidades instantaneas\n",
    "\n",
    "Numero de onibus ativos --> dado um determinado periodo, quantos onibus estao percorrendo a cidade com viagens abertas\n",
    "\n",
    "Tempo de viagem - TInicio da viagem e Tempo Final da viagem\n",
    "\n",
    "Numero medio de conexoes de onibus ao longo das horas: \n",
    "    \n",
    "    1- dividir onibus por regioes para diminuir escopo de busca/por horario, naquele minutos vou ter n pontos\n",
    "    2- dado raio de 100m e time stamp do registro da localizacao do onibus quantos onibus tem ali ao redor?\n",
    "    3- tenho que determinar quantos segundos/tempo que considero que os onibus estao no mesmo lugar"
   ]
  },
  {
   "cell_type": "markdown",
   "metadata": {},
   "source": [
    "Próximos passos\n",
    "- decidir tipos de agregacao (se é media, media de um onbius so, se é media geral, se é de um dia) para cada métricas (por dia/por regiao/por linha/por viagem /por onibus/decidir pra quem vale) e qual janela de tempo ela se aplica\n",
    "\n",
    "- descrever de que maneira vou calcular essas metricas (por dia/ por onibus)\n",
    "\n",
    "- pensar num macro algoritmo para cada uma delas (pseudo algoritmo)\n",
    "\n",
    "- **SUBIR COISAS NO GIT DO HERMES**\n",
    "\n",
    "- ver conferencia, nome qualis link e deadline\n",
    "\n"
   ]
  },
  {
   "cell_type": "code",
   "execution_count": null,
   "metadata": {},
   "outputs": [],
   "source": [
    "ICEIS"
   ]
  }
 ],
 "metadata": {
  "kernelspec": {
   "display_name": "Python 3",
   "language": "python",
   "name": "python3"
  },
  "language_info": {
   "codemirror_mode": {
    "name": "ipython",
    "version": 3
   },
   "file_extension": ".py",
   "mimetype": "text/x-python",
   "name": "python",
   "nbconvert_exporter": "python",
   "pygments_lexer": "ipython3",
   "version": "3.7.4"
  }
 },
 "nbformat": 4,
 "nbformat_minor": 2
}
