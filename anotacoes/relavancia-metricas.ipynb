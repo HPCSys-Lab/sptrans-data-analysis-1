{
 "cells": [
  {
   "cell_type": "markdown",
   "metadata": {},
   "source": [
    "## Resumo de métricas"
   ]
  },
  {
   "cell_type": "markdown",
   "metadata": {},
   "source": [
    "- lembrar de colocar na monografia sobre GTFS o que cada arquivo signifca\n",
    "- talvez pesquisar mais trabalhos que descrevem datasets que nem eu\n",
    "- acrescentar discertacao mino de sp\n",
    "- explicar melhor o que é cada metrica encontrada, mas fazer uma secao na dissertacao para dizer \n",
    "- verificar se metricas encontradas pertencem ao trabalho certo e se nao existe as mesmas com nomes diferentes\n",
    "- talvez procurar 1 ou 2 trabalhos que tenham mais a ver com a acuraria dos modelos/simuladores e tenham descricao de dataset\n",
    "- talvez traduzir de forma mais correta o nome das métricas\n",
    "- mudar/acrescentar que um dos objetivos é mostrar como fazer esse tipo caracterizacao --> um método ...\n",
    "- talvez num futuro fazer performance em segundos das ferramentas para executar mesma tarefas\n",
    "- Acrescentar Bahadir K. Polat nas meitrcas e nos trabs relacionados"
   ]
  },
  {
   "cell_type": "markdown",
   "metadata": {},
   "source": [
    "Martins, Cunha - Explorando Dados Urbanos: um estudo usando viagens de Táxi da cidade de São Francisco\n",
    "    - Objetivo da pesquisa: mostrar padroes na quanttidade de vezes que esses veículos se encontram, padroes nas rotinas\n",
    "    - redes veiculares\n",
    "    - VANETs sao altamente influenciadas pela mobilidade\n",
    "    - Táxis de São Francisco\n",
    "    - para melhorar a conectividade e os serviços das VANETs, seria interessante encontrar veículos \n",
    "    que apresentem os mesmos destinos e tenham um comportamento semelhante. (desenvolvimento de protocolos e serviços \n",
    "    para VANETs)\n",
    "    - mobilidade por si só\n",
    "    - mobilidade em termos de contato\n",
    "    - grafo\n",
    "    - aspecto espacial\n",
    "    - métricas:\n",
    "        - encontros repetidos ao longo do dia \n",
    "        - encontros repetidos ao longi do dia na mesma localização\n",
    "        - taxa de repetição\n",
    "    \n",
    "\n"
   ]
  },
  {
   "cell_type": "markdown",
   "metadata": {},
   "source": [
    "**Santana Kanashiro 2018 - Geração de rastros de mobilidade para experimento em redes veiculares**\n",
    "\n",
    "- testes e experimentos realistas\n",
    "- geração de rastros\n",
    "- carros e ônibus de Sao Paulo\n",
    "- simuladores\n",
    "- apresenta caracteristicas de cada simulador: congestionamentos, acidentes, populacao\n",
    "- pesquisa OD para gerar dados\n",
    "- IntersCSimulador\n",
    "- interesse apenas nas viagens de carro\n",
    "- atributo de quantas vezes a viagem deve ser replicada\n",
    "- dados de saída é um rastro de mobilidade (métricas para validacao)\n",
    "- métricas:\n",
    "    - distribuicao dessas viagens pela hora de inicio (numero de viagens por hora do dia)\n",
    "    - tempo média de das viagens (metrica gerado do traco)\n",
    "    - distancia das viagens (metrica gerado do traco)\n",
    "    - velocidade media (metrica gerado do traco gerado)\n",
    "    - numero de viagens (metrica gerado do traco gerado)\n",
    "    - o nu ́mero me ́dio de conexo ̃es por segundo (ja na simulacao do NS3)\n",
    "    \n",
    "- depois ele usa o traco no NS-3 - simulacao mostra a conexao entre veiculos que estao proximos"
   ]
  },
  {
   "cell_type": "markdown",
   "metadata": {},
   "source": [
    "**Criação de Modelo para Simulação de Movimentação de ônibus a Partir de Dados Reais - Wen 2018**\n",
    "\n",
    "- sistena de transporte publico precisam de otimizacao\n",
    "- uso de simuladores e uso de modelo que consistem com a realidade\n",
    "- processar dados de sistemas de onibus de Sao Paulo para melhorar o modelo de movimentacao no InterSCSimulador\n",
    "a fim ed que ele recrie cenario de mobilidade urbano\n",
    "-ainda n ̃ao levam em considerac ̧ ̃ao as estocasticidades da realidade dosistema de transporte coletivo\n",
    "- **objetivo**: apresentar modelo que incorpora alguns aspectos estocasticos da realidade do transporte coletivo\n",
    "- AVL e GTFS dados dos onbius de sao paulo\n",
    "- validacao: observacao dados reais x dados simulados\n",
    "- utilizacaod de metricas para qualificar cada linha \"qualidade\"\n",
    "- métricas:\n",
    "    - velocidade média (na areastas)\n",
    "    - duracao das viagens\n",
    "    - tempo da viagem (validar modelo x real)\n",
    " - utilizou infos de GTFS para acurar modelo\n",
    " Nessa arquitetura,os aspectos estoc ́asticos foram incorporados utilizando a m ́edia das velocidades m ́ediasdos ve ́ıculos, por seguimento entre paradas deˆonibus. Por fim, tamb ́em acrescentamos acada seguimento a descric ̧ ̃ao real do seu formato."
   ]
  },
  {
   "cell_type": "markdown",
   "metadata": {},
   "source": [
    "Doering Wolf 2015 - Opportunistic Vehicular Networking: Large-Scale Bus Movement Traces as base for Network Analysis\n",
    "\n",
    "é mais um estudo de exploracao de caracteristicas de onibus e como eles podem variar\n",
    "\n",
    "- vanets\n",
    "- bus como coletores de informacoes importantes da cidade ex: qualidade do ar\n",
    "- questoes: quanto de dados poderia ser distribuido por uma rede oportunistoca de onobis\n",
    "- traffic conditions modificam o comportamento do onibus, entao deve ser entendido\n",
    "- However, these technologies usually have a shorter range\n",
    "- onibus mais espalhadaos\n",
    "- vehicular and disrupstion-tolerant routing protocols\n",
    "- Além disso, traços reais produzem características especiais inesperadas em cenários do mundo real, por exemplo, diferentes distribuições dependentes da situação da duração do contato nas redes veiculares\n",
    "- o traço carece de informações de posição dos ônibus e, portanto, não é adequado para derivar conhecimentos gerais sobre o comportamento de movimento dos veículos.\n",
    "- conducao de simulacoes realisticas com dados reais\n",
    "- vamos apontar trace-speciffic common characteristics\n",
    "- contexto de diferentes zonas e horarios (zonas é o mais importante desse tarbalho nesse caso)\n",
    "- métricas: (que sao especificas para transporte publico)\n",
    "    - densidade de veículos\n",
    "    - velocidade\n",
    "    - distancia/tempo de atualizacoes entre posicoes consecutivas\n",
    "    - numero de linhas por onibus\n",
    "    - lugar da cidade onde há mais atualizacoes"
   ]
  },
  {
   "cell_type": "markdown",
   "metadata": {},
   "source": [
    "**Uppor et al 2014 - Generation and Analysis of a Large-Scale Urban Vehicular Mobility Dataset**\n",
    "\n",
    "- simulation\n",
    "- vanets\n",
    "- performance analysis\n",
    "- métricas:\n",
    "    - velocidade\n",
    "    - tempo de viagem (nas simulacao)\n",
    "    - numero de veiculos ativos\n",
    "    - comprimento de viagens\n",
    "    - numero of clusters\n",
    "    - tamanho dos cluster\n",
    "- carros\n"
   ]
  },
  {
   "cell_type": "markdown",
   "metadata": {},
   "source": [
    "Uppor, Fiore 2012 - Insights on Metropolitan-Scale Vehicular Mobility from a Networking Perspective -  como anterior mais conteudo exploratorio\n",
    "\n",
    "- entender a movimentacao de carros se torna importante para avaliacao de solucoes de rede\n",
    "- extrair metricas sob perspectiva de redes\n",
    "- determinar o potencial potenciais transferencias de dados v2v\n",
    "- avaliar redes oportunisticas entre carros\n",
    "- consideracoes fracas em relacao as premisssas de redes veiculares: contatos atomicos, densidade constante ao longo do tempo, movimentos aleatorios de carros, exponential inter-arrival and tempo de residencia nas visiznhances\n",
    "- colonia\n",
    "- avaliar protocolos e architeturas de rede\n",
    "- métricas:\n",
    "    - tempos de chegadas\n",
    "    - tempo de residencia em cada celula\n",
    "    - duracao do tempo de contato entre veículos\n",
    "    - numero de veiculos ativos\n",
    "    - analise de onde sai/pra onde vai o trafego"
   ]
  },
  {
   "cell_type": "markdown",
   "metadata": {},
   "source": [
    "Bahadir K. Polat - An Alternative Approach to Mobility Analysis in Vehicular Ad Hoc Networks\n",
    "- enteder mobilidade = protocolos de sucesso\n",
    "- vanets\n",
    "- entender flutuacoes de densidade\n",
    "- spatio-temporal vehicular mobility characteristics os large complex geographical areas\n",
    "- Este trabalho se concentra em propor um método para análise de informações de mobilidade real / real para extrair comportamentos espaço-temporais que podem ajudar no projeto de soluções de comunicação veicular.\n",
    "- descreve como calculou metricas\n",
    "- metricas:\n",
    "    - densidade\n",
    "    - traffic flow speed\n",
    "    - distancia entre veiculos\n",
    "    - cell residence duration\n",
    "    - velocidade media em cada celula\n"
   ]
  },
  {
   "cell_type": "markdown",
   "metadata": {},
   "source": [
    "CARACTERIZAÇÃO DA MOBILIDADE VEICULAR E O SEU IMPACTO NAS REDES VEICULARES TOLERANTES A ATRASOS E DESCONEXÕES\n",
    "\n",
    "- Onibus de Muriae Zona da Mata mineira\n",
    "- incorporar parametros nos modelos/ configurar modelos\n",
    "- métricas:\n",
    "    - velocidade\n",
    "    - aceleracao\n",
    "    - angulo de direcao\n",
    "    - tempo de pausa\n"
   ]
  },
  {
   "cell_type": "markdown",
   "metadata": {},
   "source": [
    "Andre Yai - Análise e visualização de dados do transporte público de ônibus da cidade de São Paulo\n",
    "\n",
    "- onibus de sao paulo\n",
    "- descricao do dataset\n",
    "- ano analisado\n",
    "- avaliar qualidade dos dados"
   ]
  },
  {
   "cell_type": "markdown",
   "metadata": {},
   "source": [
    "# Métricas relavantes\n",
    "\n",
    "- velocidade média --> motivações\n",
    "    - comum tanto na parte de simulações como parametro configuravel\n",
    "    - metrica exploratoria e usada até para metodo de validacao entre simulacao e dados reais\n",
    "    - velocidade é sempre analisada quando o cenario é de geracao de dataset ou incorporar em modelos de simuladores\n",
    "    \n",
    "- numero de onibus ativos/numero de viagens --> motivacoes:\n",
    "    - configuracao em simuladores\n",
    "    - metrica de valicao e comparativo simulacao x dados reais\n",
    "    - metrica aplicada tanto em cenarios exploratorios de datasets para entender numero como um todos, como pode ser\n",
    "    aplicada em configuracoes de simulacoes\n",
    "    \n",
    "- tempo de viagens \n",
    "    - entender por quanto tempo aquele onibus em media deve ficar na simulacao \n",
    "    - entender se o tempo que o fica na simulacao corresponde ao real\n",
    "    - parametro tambem configuravel em alguns simuladores\n",
    "    - entender o tempo que o onibus fica rodando ali\n",
    "    \n",
    "- numero media de conexoes de onibus ao longo das horas ou regiao\n",
    "    - entendimento da conectividade da rede para redes veiculares\n",
    "    - possibilide de implantacao vanets (regiao/horario)\n",
    "    - no simuladores seria o correspondente ao numero de conexoes a cada ciclo/segundo\n",
    "    \n",
    "\n"
   ]
  },
  {
   "cell_type": "markdown",
   "metadata": {},
   "source": [
    "Velocidade media --> identificada cada viagem, existe velocidade instantaneas entre os pontos, \n",
    "Vm = media das velocidades instantaneas\n",
    "\n",
    "Numero de onibus ativos --> dado um determinado periodo, quantos onibus estao percorrendo a cidade com viagens abertas\n",
    "\n",
    "Tempo de viagem - Tinicio da viagem e Tempo Final da viagem\n",
    "\n",
    "Numero medio de conexoes de onibus ao longo das horas: \n",
    "    \n",
    "    1- divir onibus por regioes para diminuir escopo de busca\n",
    "    2- dado raio de 100m e time stamp do registro da localizacao do onibus quantos onibus tem ali ao redor?"
   ]
  },
  {
   "cell_type": "markdown",
   "metadata": {},
   "source": [
    "# Como vou calcular cada métrica?"
   ]
  },
  {
   "cell_type": "markdown",
   "metadata": {},
   "source": [
    "**Premissa:** tendo as viagens separadas aka um veículo pode ter mais de uma viagem por dia."
   ]
  },
  {
   "cell_type": "markdown",
   "metadata": {},
   "source": [
    "\n",
    "### Tempo das viagens\n",
    "\n",
    "1- Dada um viagem\n",
    "\n",
    "2- Calcula diferença em segundos/hora entre tempo inicial da viagem e tempo final da viagem\n",
    "\n",
    "3- Meios possíveis de agregaçao\n",
    "\n",
    "* Calcular tempo que ônibus permanece ativo por dia (soma de todos os tempo das viagens)\n",
    "\n",
    "* Calcular tempo médio em que ônibus permanecem ativos por hora ou por dia\n",
    "\n",
    "* Calcular tempo que ônibus permanece ativo em cada área da cidade por dia/hora\n",
    "\n",
    "Para calcular as formas de agregação/ basta fazer split da viagem de acordo com o atributo avaliado (dia, região, horário) e considerar essas novas divisões como novas viagens, então repetir os passos anteriores\n",
    "\n",
    "**essa info sera utilizada na segunda metrica de velocidade media, colocar ela primeiro que velocidade media**\n",
    "\n",
    "\n",
    "### Velocidade média de cada viagem\n",
    "pre-requisito: ter viagens ja isoladas por algum algoritmo/codigo\n",
    "\n",
    "consideracoes: talvez devesse considerar media ponderada. Por exemplo: somo distancia percorrida e tempo total transcorrido e ai tem uma metrica total para a viagem. x km em 1. Exemplo pq deveria ser de outro jeito: ex 100m a 5km/h e 900m a 25km/h, daria 15km/h a media.\n",
    "\n",
    "1- Dada uma viagem ( uma série de registros ordenados por timestamp)\n",
    "\n",
    "2- Dado dois pontos Xi,Yi e Xi+1 e Yi+1, calcular distância entre eles e a diferença em segundos deles\n",
    "\n",
    "3- Calcular velocidade instantanea distancia/diferenca em segundos para cada um dos pares de potnos. \n",
    "\n",
    "4- Converter velocidade instantanea de m/s para km/h\n",
    "\n",
    "5- Repetir o processo para os n-1 pontos da viagem de um veículo. Resultado: uma série de velocidades instantaneas entre os n - 1 pontos\n",
    "\n",
    "6- Calcular desvio padrão/quarters (25,50,75)\n",
    "\n",
    "7- Filtrar pontos cujas velocidades estejam muito descrepante com a velocidade encontradas (ver algoritmos de filtro por velocidade)\n",
    "\n",
    "8- Recalcular desvio padrão/quarters\n",
    "\n",
    "10- resultado até aqui: conjunto de velocidades instantaneas de cada viagem\n",
    "\n",
    "11- Calcular média das velocidade instantâneas. Resultado: velocidade média da viagem do veiculo\n",
    "\n",
    "12- formas de agregação\n",
    "\n",
    "- Calcular velocidade média para cada ônibus por dia a partir das viagens do ônibus num determinado dia\n",
    "\n",
    "- Calcular velocidade média por região da cidade em cada hora\n",
    "\n",
    "- Calcular velocidade média das viagens de forma geral em cada hora do dia/ em cada dia do mes\n",
    "\n",
    "\n",
    "Para calcular as formas de agregação/ basta fazer split da viagem de acordo com o atributo avaliado (dia, região, horário) e considerar essas novas divisões como novas viagens, então repetir os passos anteriores\n",
    "\n",
    "OBS: calcular duracao e comprimento total e calcular velocidade media. Ai nao faz sentido do desvio, pois havera so uma medida\n",
    "\n"
   ]
  },
  {
   "cell_type": "markdown",
   "metadata": {},
   "source": [
    "### Número de ônibus de ativos\n",
    "1- Dado um dia/hora\n",
    "\n",
    "2- Separar IDs distintos dos ônibus do período indicado\n",
    "\n",
    "3- Fazer contagem dos IDs separados\n",
    "\n",
    "4- Possíveis variações/agregações\n",
    "\n",
    "- Calcular número de ônibus ativos ao longo do dia\n",
    "- Calcular número de ônibus ativos para cada dia do mês (período separado)\n",
    "- Calcular número de ônibus ativos por região num dia ou em cada hora\n",
    "\n"
   ]
  },
  {
   "cell_type": "markdown",
   "metadata": {},
   "source": [
    "### Número médio de encontros que um ônibus faz ao longo do dia"
   ]
  },
  {
   "cell_type": "markdown",
   "metadata": {},
   "source": [
    "1- Dado os registros de um dia\n",
    "\n",
    "2- Particionar os registros por bairro da cidade, hora, minuto\n",
    "\n",
    "3- Para cada registro na partição, verificar a distância para os outros registros, computar e salvar distância\n",
    "\n",
    "4- Se a distância for menor ou igual a 100m, marcar contato como SIM\n",
    "\n",
    "5- Para cada veículo numa particição calcular número de contatos = SIM\n",
    "\n",
    "6- A partir daqui a agregação das particições dependenda da métrica desejada\n",
    "\n",
    "- Calcular número médio de encontros para todos veículos ao longo das horas de um dia\n",
    "- Calcular número médio de encontros por hora do dia\n",
    "- Calculuar número médio de encontros por região hora do dia\n",
    "\n",
    "- Trabalhar com intervalos de 1 minuto podem ajudar por conta do intervalo de update/report da posicao\n",
    "\n",
    "- Outro ponto que pode inteferir bairroX e bairroY mas estao a menos 100m --> talvez nao pese, tem que testar. \n",
    "\n",
    "- Talvez faca mais sentido nao particionar por bairro, mas so por hora e minuto\n"
   ]
  },
  {
   "cell_type": "markdown",
   "metadata": {},
   "source": [
    "Após calcular as metricas para onibus, a gente faz a estatistica descritiva. Ex: quantas viagens, distribuicoes, etc..."
   ]
  },
  {
   "cell_type": "markdown",
   "metadata": {},
   "source": [
    "Proximos passos:\n",
    "    - refinar descricao e algoritmos das metricas\n",
    "    - comecar implementacao das primeiras metricas\n",
    "    - verificar viabilidade das metricas de acordo com as implementacoes\n",
    "    "
   ]
  },
  {
   "cell_type": "code",
   "execution_count": null,
   "metadata": {},
   "outputs": [],
   "source": []
  }
 ],
 "metadata": {
  "kernelspec": {
   "display_name": "Python 3",
   "language": "python",
   "name": "python3"
  },
  "language_info": {
   "codemirror_mode": {
    "name": "ipython",
    "version": 3
   },
   "file_extension": ".py",
   "mimetype": "text/x-python",
   "name": "python",
   "nbconvert_exporter": "python",
   "pygments_lexer": "ipython3",
   "version": "3.7.4"
  }
 },
 "nbformat": 4,
 "nbformat_minor": 2
}
