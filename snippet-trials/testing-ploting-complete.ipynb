{
 "cells": [
  {
   "cell_type": "code",
   "execution_count": 1,
   "metadata": {},
   "outputs": [],
   "source": [
    "# https://github.com/dushyantkhichi/python\n",
    "import folium\n",
    "import csv"
   ]
  },
  {
   "cell_type": "code",
   "execution_count": null,
   "metadata": {},
   "outputs": [],
   "source": [
    "city=[]\n",
    "data_lon=[]\n",
    "data_lat=[]\n",
    "crime_name=[]#Reading csv file.\n",
    "y=0\n",
    "with open(\"crime_data.csv\") as crime:\n",
    "    read=csv.reader(crime,delimiter=\",\")\n",
    "    for i in read:\n",
    "        if(y%2==0):\n",
    "            city.append(i[0])\n",
    "            crime_name.append(i[1])\n",
    "            data_lon.append(i[8])\n",
    "            data_lat.append(i[9])\n",
    "        y+=1#for skiping columns name\n",
    "city=city[1:]\n",
    "data_lon=data_lon[1:]\n",
    "data_lat=data_lat[1:]\n",
    "print(len(data_lat))"
   ]
  },
  {
   "cell_type": "code",
   "execution_count": null,
   "metadata": {},
   "outputs": [],
   "source": [
    "map = folium.Map([20.5937,78.9629], zoom_start=5)"
   ]
  },
  {
   "cell_type": "code",
   "execution_count": null,
   "metadata": {},
   "outputs": [],
   "source": [
    "tile = folium.TileLayer('Mapbox Bright').add_to(map)\n",
    "tile = folium.TileLayer('Mapbox Control Room').add_to(map)\n",
    "tile = folium.TileLayer('Stamen Terrain').add_to(map)\n",
    "tile = folium.TileLayer('Stamen Toner').add_to(map)\n",
    "tile = folium.TileLayer('stamenwatercolor').add_to(map)\n",
    "tile = folium.TileLayer('cartodbpositron').add_to(map)\n",
    "tile = folium.TileLayer('cartodbdark_matter').add_to(map)"
   ]
  },
  {
   "cell_type": "code",
   "execution_count": null,
   "metadata": {},
   "outputs": [],
   "source": [
    "from folium.plugins import MarkerCluster\n",
    "marker_cluster = MarkerCluster().add_to(map)\n",
    "#adding marker and popup of city and crime-name\n",
    "for i in range(0,len(city)):\n",
    "    print(data_lon[i])\n",
    "    folium.Marker([float(data_lon[i])  ,float(data_lat[i])],popup=\"city name =\"+city[i]+\"\\n crime_of_city = \"+crime_name[i]).add_to(marker_cluster)#we can change tiles with help of LayerConrol\n",
    "folium.LayerControl().add_to(map)"
   ]
  },
  {
   "cell_type": "code",
   "execution_count": null,
   "metadata": {},
   "outputs": [],
   "source": [
    "map"
   ]
  },
  {
   "cell_type": "code",
   "execution_count": null,
   "metadata": {},
   "outputs": [],
   "source": [
    "map.save('crime_data.html')#creating a html iframe\n",
    "from IPython.display import HTML\n",
    "HTML('<iframe src=crime_data.html width=300 height=200></iframe>')"
   ]
  },
  {
   "cell_type": "code",
   "execution_count": null,
   "metadata": {},
   "outputs": [],
   "source": []
  }
 ],
 "metadata": {
  "kernelspec": {
   "display_name": "Python 3.7.4 64-bit",
   "language": "python",
   "name": "python37464bit7eb251d0873f4648b7425cc4ed950bfd"
  },
  "language_info": {
   "codemirror_mode": {
    "name": "ipython",
    "version": 3
   },
   "file_extension": ".py",
   "mimetype": "text/x-python",
   "name": "python",
   "nbconvert_exporter": "python",
   "pygments_lexer": "ipython3",
   "version": "3.7.4"
  }
 },
 "nbformat": 4,
 "nbformat_minor": 2
}
