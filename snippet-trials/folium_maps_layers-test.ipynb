{
 "cells": [
  {
   "cell_type": "code",
   "execution_count": null,
   "metadata": {},
   "outputs": [],
   "source": [
    "# installing required packages for this notebook session\n",
    "sc.install_pypi_package(\"matplotlib\")\n",
    "sc.install_pypi_package(\"descartes\")\n",
    "sc.install_pypi_package(\"shapely\")\n",
    "sc.install_pypi_package(\"geopandas\")\n",
    "sc.install_pypi_package(\"folium\")"
   ]
  },
  {
   "cell_type": "code",
   "execution_count": null,
   "metadata": {},
   "outputs": [],
   "source": [
    "import folium\n",
    "import pandas as pd\n",
    "# sc.install_pypi_package(\"pyarrow\")\n",
    "sc.install_pypi_package(\"s3fs\")"
   ]
  },
  {
   "cell_type": "code",
   "execution_count": null,
   "metadata": {},
   "outputs": [],
   "source": [
    "bus_1 = spark.read.parquet(\"s3a://mobility-traces-sp/processed-data/using-server-hour/exploring-data-on-map-only-sp-6-23-server-hour/MO_15101/BRASILANDIA/55250/\")\n",
    "bus_2 = spark.read.parquet(\"s3a://mobility-traces-sp/processed-data/using-server-hour/exploring-data-on-map-only-sp-6-23-server-hour/MO_15101/CAMBUCI/12928/\")\n",
    "bus_3 = spark.read.parquet(\"s3a://mobility-traces-sp/processed-data/using-server-hour/exploring-data-on-map-only-sp-6-23-server-hour/MO_15101/CIDADE DUTRA/11614/\")\n",
    "bus_4 = spark.read.parquet(\"s3a://mobility-traces-sp/processed-data/using-server-hour/exploring-data-on-map-only-sp-6-23-server-hour/MO_15101/ITAIM BIBI/57454/\")\n",
    "bus_5 = spark.read.parquet(\"s3a://mobility-traces-sp/processed-data/using-server-hour/exploring-data-on-map-only-sp-6-23-server-hour/MO_15101/MORUMBI/43521/\")\n",
    "bus_6 = spark.read.parquet(\"s3a://mobility-traces-sp/processed-data/using-server-hour/exploring-data-on-map-only-sp-6-23-server-hour/MO_15101/PONTE RASA/35586/\")\n",
    "bus_7 = spark.read.parquet(\"s3a://mobility-traces-sp/processed-data/using-server-hour/exploring-data-on-map-only-sp-6-23-server-hour/MO_15101/VILA MARIANA/37250/\")\n",
    "\n",
    "data_lon = [] \n",
    "data_lat = []\n",
    "\n",
    "data_lon.append(list(bus_1.select(\"longitude\").rdd.collect()))\n",
    "data_lon.append(list(bus_2.select(\"longitude\").rdd.collect()))\n",
    "data_lon.append(list(bus_3.select(\"longitude\").rdd.collect()))\n",
    "data_lon.append(list(bus_4.select(\"longitude\").rdd.collect()))\n",
    "data_lon.append(list(bus_5.select(\"longitude\").rdd.collect()))\n",
    "data_lon.append(list(bus_6.select(\"longitude\").rdd.collect()))\n",
    "data_lon.append(list(bus_7.select(\"longitude\").rdd.collect()))\n",
    "\n",
    "\n",
    "data_lat.append(list(bus_1.select(\"latitude\").rdd.collect()))\n",
    "data_lat.append(list(bus_2.select(\"latitude\").rdd.collect()))\n",
    "data_lat.append(list(bus_3.select(\"latitude\").rdd.collect()))\n",
    "data_lat.append(list(bus_4.select(\"latitude\").rdd.collect()))\n",
    "data_lat.append(list(bus_5.select(\"latitude\").rdd.collect()))\n",
    "data_lat.append(list(bus_6.select(\"latitude\").rdd.collect()))\n",
    "data_lat.append(list(bus_7.select(\"latitude\").rdd.collect()))"
   ]
  },
  {
   "cell_type": "code",
   "execution_count": null,
   "metadata": {},
   "outputs": [],
   "source": [
    "map = folium.Map([20.5937,78.9629], zoom_start=5)"
   ]
  },
  {
   "cell_type": "code",
   "execution_count": null,
   "metadata": {},
   "outputs": [],
   "source": [
    "tile = folium.TileLayer('Mapbox Bright').add_to(map)\n",
    "tile = folium.TileLayer('Mapbox Control Room').add_to(map)\n",
    "tile = folium.TileLayer('Stamen Terrain').add_to(map)\n",
    "tile = folium.TileLayer('Stamen Toner').add_to(map)\n",
    "tile = folium.TileLayer('stamenwatercolor').add_to(map)\n",
    "tile = folium.TileLayer('cartodbpositron').add_to(map)\n",
    "tile = folium.TileLayer('cartodbdark_matter').add_to(map)"
   ]
  },
  {
   "cell_type": "code",
   "execution_count": null,
   "metadata": {},
   "outputs": [],
   "source": [
    "from folium.plugins import MarkerCluster\n",
    "marker_cluster = MarkerCluster().add_to(map)\n",
    "#adding marker and popup of city and crime-name\n",
    "for i in range(0,len(data_lon)):\n",
    "    \n",
    "    for j in range(0,len(data_lon[i])):\n",
    "        folium.Marker([float(data_lat[i][j][\"latitude\"]),float(data_lon[i][j][\"longitude\"])]).add_to(marker_cluster) # we can change tiles with help of LayerConrol\n",
    "folium.LayerControl().add_to(map)"
   ]
  },
  {
   "cell_type": "code",
   "execution_count": null,
   "metadata": {},
   "outputs": [],
   "source": [
    "map.save('file://crime_data.html')"
   ]
  },
  {
   "cell_type": "code",
   "execution_count": null,
   "metadata": {},
   "outputs": [],
   "source": [
    "map.save(\"/tmp/teste4.html\")"
   ]
  },
  {
   "cell_type": "code",
   "execution_count": null,
   "metadata": {},
   "outputs": [],
   "source": []
  }
 ],
 "metadata": {
  "kernelspec": {
   "display_name": "Python 3",
   "language": "python",
   "name": "python3"
  },
  "language_info": {
   "codemirror_mode": {
    "name": "ipython",
    "version": 3
   },
   "file_extension": ".py",
   "mimetype": "text/x-python",
   "name": "python",
   "nbconvert_exporter": "python",
   "pygments_lexer": "ipython3",
   "version": "3.7.4"
  }
 },
 "nbformat": 4,
 "nbformat_minor": 4
}
