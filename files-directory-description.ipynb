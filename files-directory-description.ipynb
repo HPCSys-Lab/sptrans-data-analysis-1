{
 "cells": [
  {
   "cell_type": "markdown",
   "metadata": {},
   "source": [
    "# Descrição de arquivos e pastas"
   ]
  },
  {
   "cell_type": "markdown",
   "metadata": {},
   "source": [
    "# Files and folders description"
   ]
  },
  {
   "cell_type": "markdown",
   "metadata": {},
   "source": [
    "# aux-files\n",
    "\n",
    "\n",
    "Esta pasta contém arquivos auxiliares para o processamento de dados.\n",
    "\n",
    "This folder has auxiliary files to process data.\n",
    "\n",
    "\n",
    "### shape-file\n",
    "* **Descrição:** É uma pasta que contém arquivos de shape file da cidade de São Paulo\n",
    "* **Description:** This folder contains shape files of Sao Paulo\n",
    "* **Files:**\n",
    "    * **DISTRITO_MUNICIPAL_SP_SMDUPolygon.shp:**        \n",
    "        - Arquivo que contém os shapes dos 96 distritos do território de São Paulo\n",
    "        - File containing shapes of 96 districts of São Paulo"
   ]
  },
  {
   "cell_type": "markdown",
   "metadata": {},
   "source": [
    "# processed-data\n",
    "\n",
    "Esta pasta contém dados que passaram por algum processamento.\n",
    "\n",
    "This folder contains data which were processed. \n",
    "\n",
    "## using-avl-hour\n",
    "* **Descrição:** Pasta que possui arquivos que foram processados usando o campo hour_avl (hora do equipamento avl)\n",
    "* **Description:** This folder has files which were processed using hour_avl column (avl equipment hour)\n",
    "\n",
    "#### records-between-6-23-all-regions-avl-hour\n",
    "* **Descrição:** pasta com arquivos que contém registros entre 6:00 e 22:59 baseada hour_avl e coluna com a região de cada registro. Possui subpastas com o nome **MO_1510X** que contém arquivos **parquet** que representam os dados do dia X de outubro de 2015.\n",
    "* **Description:** folder that contains files with registers between 6:00 and 22:59, and a column with the \"region\" of each register. This folder has subfolders with the name **MO_1510X** which have **parquet** files containing data of the X october day of 2015.\n",
    "* **Arquivos/files:** Parquet\n",
    "* **Data Schema:** | dt_server | dt_avl | line_id | latitude | longitude | id_avl | event | id_point | hour_server | hour_avl | hour_diff | region | \n",
    "\n",
    "\n",
    "#### records-between-6-23-avl-hour\n",
    "* **Descrição:** pasta com arquivos que contém registros entre 6:00 e 22:59 baseada hour_avl. Possui subpastas com o nome **MO_1510X** que contém arquivos **parquet** que representam os dados do dia X de outubro de 2015.\n",
    "* **Description:** folder that contains files with registers between 6:00 and 22:59 based on hour_avl. This folder has subfolders with the name **MO_1510X** which have **parquet** files containing data of the X october day of 2015.\n",
    "* **Arquivos/files:** Parquet\n",
    "* **Data Schema:** | dt_server | dt_avl | line_id | latitude | longitude | id_avl | event | id_point | hour_server | hour_avl | hour_diff |\n",
    "\n",
    "#### records-between-6-23-only-sp-avl-hour\n",
    "* **Descrição:** pasta com arquivos que contém registros entre 6:00 e 22:59 baseado na hour_avl, somente registros **dentro** do território da cidade de **São Paulo**. Possui subpastas com o nome **MO_1510X** que contém arquivos **parquet** que representam os dados do dia X de outubro de 2015.\n",
    "* **Description:** folder that contains files with registers between 6:00 and 22:59 based on hour_avl, only registers **inside Sao Paulo** city territory. This folder has subfolders with the name **MO_1510X** which have **parquet** files containing data of the X october day of 2015.\n",
    "* **Arquivos/files:** Parquet\n",
    "* **Data Schema:** | dt_server | dt_avl | line_id | latitude | longitude | id_avl | event | id_point | hour_server | hour_avl | hour_diff | region |\n",
    "\n",
    "#### records-between-6-23-out-sp-avl-hour\n",
    "\n",
    "* **Descrição:** pasta com arquivos que contém registros entre 6:00 e 22:59 baseado na hour_avl, somente registros **fora** do território da cidade de **São Paulo**. Possui subpastas com o nome **MO_1510X** que contém arquivos **parquet** que representam os dados do dia X de outubro de 2015.\n",
    "* **Description:** folder that contains files with registers between 6:00 and 22:59 based on hour_avl, only registers **out of Sao Paulo** city territory. This folder has subfolders with the name **MO_1510X** which have **parquet** files containing data of the X october day of 2015.\n",
    "* **Arquivos/files:** Parquet\n",
    "* **Data Schema:** | dt_server | dt_avl | line_id | latitude | longitude | id_avl | event | id_point | hour_server | hour_avl | hour_diff | region |\n",
    "\n",
    "---------------------------------------------------------------------------------------------------------------------\n",
    "\n",
    "##  using-server-hour\n",
    "* **Descrição:** Pasta que possui arquivos que foram processados usando o campo hour_server (hora do servidor)\n",
    "* **Description:** This folder has files which were processed using hour_server column (server hour)\n",
    "\n",
    "\n",
    "#### records-between-6-23-only-sp-server-hour\n",
    "* **Descrição:** pasta com arquivos que contém registros entre 6:00 e 22:59 baseado na hour_server, somente registros **dentro** do território da cidade de **São Paulo**. Possui subpastas com o nome **MO_1510X** que contém arquivos **parquet** que representam os dados do dia X de outubro de 2015.\n",
    "* **Description:** folder that contains files with registers between 6:00 and 22:59 based on hour_server, only registers **inside Sao Paulo** city territory. This folder has subfolders with the name **MO_1510X** which have **parquet** files containing data of the X october day of 2015.\n",
    "* **Arquivos/files:** Parquet\n",
    "* **Data Schema:** | dt_server | dt_avl | line_id | latitude | longitude | id_avl | event | id_point | hour_server | hour_avl | hour_diff | region |\n",
    "\n",
    "\n",
    "#### records-between-6-23-out-of-sp-server-hour\n",
    "* **Descrição:** pasta com arquivos que contém registros entre 6:00 e 22:59 baseado na hour_server, somente registros **fora** do território da cidade de **São Paulo**. Possui subpastas com o nome **MO_1510X** que contém arquivos **parquet** que representam os dados do dia X de outubro de 2015.\n",
    "* **Description:** folder that contains files with registers between 6:00 and 22:59 based on hour_server, only registers **out of Sao Paulo** city territory. This folder has subfolders with the name **MO_1510X** which have **parquet** files containing data of the X october day of 2015.\n",
    "* **Arquivos/files:** Parquet\n",
    "* **Data Schema:** | dt_server | dt_avl | line_id | latitude | longitude | id_avl | event | id_point | hour_server | hour_avl | hour_diff | region |\n",
    "\n",
    "#### records-between-6-23-server-hour\n",
    "* **Descrição:** pasta com arquivos que contém registros entre 6:00 e 22:59 baseada hour_server. Possui subpastas com o nome **MO_1510X** que contém arquivos **parquet** que representam os dados do dia X de outubro de 2015.\n",
    "* **Description:** folder that contains files with registers between 6:00 and 22:59 based on hour_server. This folder has subfolders with the name **MO_1510X** which have **parquet** files containing data of the X october day of 2015.\n",
    "* **Arquivos/files:** Parquet\n",
    "* **Data Schema:** | dt_server | dt_avl | line_id | latitude | longitude | id_avl | event | id_point | hour_server | hour_avl | hour_diff |\n",
    "\n",
    "\n",
    "#### records_between-6-23-with-all-regions-server-hour\n",
    "* **Descrição:** pasta com arquivos que contém registros entre 6:00 e 22:59 e uma coluna com a região de cada registro. Possui subpastas com o nome **MO_1510X** que contém arquivos **parquet** que representam os dados do dia X de outubro de 2015.\n",
    "* **Description:** folder that contains files with registers between 6:00 and 22:59, and a column with the \"region\" of each register. This folder has subfolders with the name **MO_1510X** which have **parquet** files containing data of the X october day of 2015.\n",
    "* **Arquivos/files:** Parquet\n",
    "* **Data Schema:** | dt_server | dt_avl | line_id | latitude | longitude | id_avl | event | id_point | hour_server | hour_avl | hour_diff | region | \n",
    "\n"
   ]
  },
  {
   "cell_type": "markdown",
   "metadata": {},
   "source": [
    "\n",
    "# raw-data\n",
    "* **Descrição:** pasta com arquivos não processados (raw data). Na pasta, há vários arquivos **CSV**.\n",
    "* **Description:** folder with raw data files. There are multiple **CSV** files.\n",
    "* **Arquivos/files:** CSV\n",
    "* **Data Schema:** | dt_server | dt_avl | line_id | latitude | longitude | id_avl | event | id_point |"
   ]
  },
  {
   "cell_type": "markdown",
   "metadata": {},
   "source": [
    "# raw-hour-dt_server-dt_avl-hour_diff\n",
    "* **Descrição:** pasta com arquivos não processados e com colunas extras hour_server (hora inteira do dt_server), hour_avl (hora inteira do dt_avl), e hour_diff (diferença em segundos entre dt_server e dt_avl). Possui subpastas com o nome **MO_1510X** que contém arquivos **CSV** que representam os dados do dia X de outubro de 2015.\n",
    "* **Description:** folder with raw data files and extra columns in each file - hour_server (integer hour of dt_server), hour_avl (integer hour of dt_avl), hour_diff (difference in seconds between dt_server and dt_avl). This folder has subfolders with the name **MO_1510X** which have **CSV** files containing data of the X october day of 2015.\n",
    "* **Arquivos/files:** CSV\n",
    "* **Data Schema:** | dt_server | dt_avl | line_id | latitude | longitude | id_avl | event | id_point | hour_server | hour_avl | hour_diff |"
   ]
  },
  {
   "cell_type": "markdown",
   "metadata": {},
   "source": [
    "# statistics\n",
    "\n",
    "Esta pasta possui estatísticas básicas da exploração dos dados não processados e processados.\n",
    "\n",
    "This folder has basic statistics from raw and processed data exploration.\n",
    "\n",
    "## number-of-records\n",
    "* **Descrição:** Pasta que contém CSVs com a contagem de registros por a arquivo antes e depois dos processamentos.\n",
    "* **Description:** This folder contains CSVs files with number of registers per file after and before the processing processes.\n",
    "* **Data Format:** CSV\n",
    "* **Files:**\n",
    "    * **number-records-per-file-using-avl-hour.csv:**      \n",
    "        - Arquivo com contagem de registros por arquivo antes e depois de etapas de processamento usando como filtro o campo hour_avl.\n",
    "        - File with number of registers per file after and before processing steps using hour_avl as a filter for the processes.\n",
    "\n",
    "## null-values\n",
    "* **Descrição:** Pasta que contém CSVs contendo o nome de arquivos que possuem algum valor vazio ou nulo nas colunas. Há subpastas com o nome **PARTIALX** com CSV dentro que possuem o nome dos arquivos que contém algum valor nulo ou vazio nos campos. A pasta **PARTIAL_31** possui o resultado final da análise de nulos/vazios.\n",
    "* **Description:** This folder has CSVs containing the name of files that have some empty or null values in their fields. There are subfolders with the name **PARTIALX** with CSV inside. Each CSV has the names of the files which contain some null or empty values in their fields. The folder **PARTIAL_31** has the final result of the null/empty analysis.\n",
    "* **Data Format:** CSV"
   ]
  }
 ],
 "metadata": {
  "kernelspec": {
   "display_name": "Python 3",
   "language": "python",
   "name": "python3"
  },
  "language_info": {
   "codemirror_mode": {
    "name": "ipython",
    "version": 3
   },
   "file_extension": ".py",
   "mimetype": "text/x-python",
   "name": "python",
   "nbconvert_exporter": "python",
   "pygments_lexer": "ipython3",
   "version": "3.7.4"
  }
 },
 "nbformat": 4,
 "nbformat_minor": 2
}
