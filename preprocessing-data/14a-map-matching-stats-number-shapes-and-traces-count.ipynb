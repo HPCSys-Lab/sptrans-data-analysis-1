{
 "cells": [
  {
   "cell_type": "code",
   "execution_count": 1,
   "metadata": {},
   "outputs": [
    {
     "data": {
      "application/vnd.jupyter.widget-view+json": {
       "model_id": "5c55fa842c184e198f85fb715af442e2",
       "version_major": 2,
       "version_minor": 0
      },
      "text/plain": [
       "VBox()"
      ]
     },
     "metadata": {},
     "output_type": "display_data"
    },
    {
     "name": "stdout",
     "output_type": "stream",
     "text": [
      "Starting Spark application\n"
     ]
    },
    {
     "data": {
      "text/html": [
       "<table>\n",
       "<tr><th>ID</th><th>YARN Application ID</th><th>Kind</th><th>State</th><th>Spark UI</th><th>Driver log</th><th>Current session?</th></tr><tr><td>3</td><td>application_1609430674348_0005</td><td>pyspark</td><td>idle</td><td><a target=\"_blank\" href=\"http://ip-172-31-95-227.ec2.internal:20888/proxy/application_1609430674348_0005/\" >Link</a></td><td><a target=\"_blank\" href=\"http://ip-172-31-89-39.ec2.internal:8042/node/containerlogs/container_1609430674348_0005_01_000001/livy\" >Link</a></td><td>✔</td></tr></table>"
      ],
      "text/plain": [
       "<IPython.core.display.HTML object>"
      ]
     },
     "metadata": {},
     "output_type": "display_data"
    },
    {
     "data": {
      "application/vnd.jupyter.widget-view+json": {
       "model_id": "",
       "version_major": 2,
       "version_minor": 0
      },
      "text/plain": [
       "FloatProgress(value=0.0, bar_style='info', description='Progress:', layout=Layout(height='25px', width='50%'),…"
      ]
     },
     "metadata": {},
     "output_type": "display_data"
    },
    {
     "name": "stdout",
     "output_type": "stream",
     "text": [
      "SparkSession available as 'spark'.\n"
     ]
    },
    {
     "data": {
      "application/vnd.jupyter.widget-view+json": {
       "model_id": "",
       "version_major": 2,
       "version_minor": 0
      },
      "text/plain": [
       "FloatProgress(value=0.0, bar_style='info', description='Progress:', layout=Layout(height='25px', width='50%'),…"
      ]
     },
     "metadata": {},
     "output_type": "display_data"
    },
    {
     "name": "stdout",
     "output_type": "stream",
     "text": [
      "Collecting matplotlib\n",
      "  Using cached https://files.pythonhosted.org/packages/30/f2/10c822cb0ca5ebec58bd1892187bc3e3db64a867ac26531c6204663fc218/matplotlib-3.3.3-cp37-cp37m-manylinux1_x86_64.whl\n",
      "Requirement already satisfied: numpy>=1.15 in /usr/local/lib64/python3.7/site-packages (from matplotlib)\n",
      "Collecting python-dateutil>=2.1 (from matplotlib)\n",
      "  Using cached https://files.pythonhosted.org/packages/d4/70/d60450c3dd48ef87586924207ae8907090de0b306af2bce5d134d78615cb/python_dateutil-2.8.1-py2.py3-none-any.whl\n",
      "Collecting pyparsing!=2.0.4,!=2.1.2,!=2.1.6,>=2.0.3 (from matplotlib)\n",
      "  Using cached https://files.pythonhosted.org/packages/8a/bb/488841f56197b13700afd5658fc279a2025a39e22449b7cf29864669b15d/pyparsing-2.4.7-py2.py3-none-any.whl\n",
      "Collecting pillow>=6.2.0 (from matplotlib)\n",
      "  Using cached https://files.pythonhosted.org/packages/af/fa/c1302a26d5e1a17fa8e10e43417b6cf038b0648c4b79fcf2302a4a0c5d30/Pillow-8.0.1-cp37-cp37m-manylinux1_x86_64.whl\n",
      "Collecting cycler>=0.10 (from matplotlib)\n",
      "  Using cached https://files.pythonhosted.org/packages/f7/d2/e07d3ebb2bd7af696440ce7e754c59dd546ffe1bbe732c8ab68b9c834e61/cycler-0.10.0-py2.py3-none-any.whl\n",
      "Collecting kiwisolver>=1.0.1 (from matplotlib)\n",
      "  Using cached https://files.pythonhosted.org/packages/d2/46/231de802ade4225b76b96cffe419cf3ce52bbe92e3b092cf12db7d11c207/kiwisolver-1.3.1-cp37-cp37m-manylinux1_x86_64.whl\n",
      "Requirement already satisfied: six>=1.5 in /usr/local/lib/python3.7/site-packages (from python-dateutil>=2.1->matplotlib)\n",
      "Installing collected packages: python-dateutil, pyparsing, pillow, cycler, kiwisolver, matplotlib\n",
      "Successfully installed cycler-0.10.0 kiwisolver-1.3.1 matplotlib-3.3.3 pillow-8.0.1 pyparsing-2.4.7 python-dateutil-2.8.1\n",
      "\n",
      "Collecting descartes\n",
      "  Using cached https://files.pythonhosted.org/packages/e5/b6/1ed2eb03989ae574584664985367ba70cd9cf8b32ee8cad0e8aaeac819f3/descartes-1.1.0-py3-none-any.whl\n",
      "Requirement already satisfied: matplotlib in /mnt/tmp/1609443720928-0/lib/python3.7/site-packages (from descartes)\n",
      "Requirement already satisfied: numpy>=1.15 in /usr/local/lib64/python3.7/site-packages (from matplotlib->descartes)\n",
      "Requirement already satisfied: python-dateutil>=2.1 in /mnt/tmp/1609443720928-0/lib/python3.7/site-packages (from matplotlib->descartes)\n",
      "Requirement already satisfied: pyparsing!=2.0.4,!=2.1.2,!=2.1.6,>=2.0.3 in /mnt/tmp/1609443720928-0/lib/python3.7/site-packages (from matplotlib->descartes)\n",
      "Requirement already satisfied: pillow>=6.2.0 in /mnt/tmp/1609443720928-0/lib/python3.7/site-packages (from matplotlib->descartes)\n",
      "Requirement already satisfied: cycler>=0.10 in /mnt/tmp/1609443720928-0/lib/python3.7/site-packages (from matplotlib->descartes)\n",
      "Requirement already satisfied: kiwisolver>=1.0.1 in /mnt/tmp/1609443720928-0/lib/python3.7/site-packages (from matplotlib->descartes)\n",
      "Requirement already satisfied: six>=1.5 in /usr/local/lib/python3.7/site-packages (from python-dateutil>=2.1->matplotlib->descartes)\n",
      "Installing collected packages: descartes\n",
      "Successfully installed descartes-1.1.0\n",
      "\n",
      "Collecting shapely\n",
      "  Using cached https://files.pythonhosted.org/packages/98/f8/db4d3426a1aba9d5dfcc83ed5a3e2935d2b1deb73d350642931791a61c37/Shapely-1.7.1-cp37-cp37m-manylinux1_x86_64.whl\n",
      "Installing collected packages: shapely\n",
      "Successfully installed shapely-1.7.1\n",
      "\n",
      "Collecting pyproj==2.2.2\n",
      "  Using cached https://files.pythonhosted.org/packages/c9/28/1efec6032c100d956474e5fa4a4126b0cce1f43a4e2743f9c53c712c1453/pyproj-2.2.2-cp37-cp37m-manylinux1_x86_64.whl\n",
      "Installing collected packages: pyproj\n",
      "Successfully installed pyproj-2.2.2\n",
      "\n",
      "Collecting geopandas\n",
      "  Using cached https://files.pythonhosted.org/packages/f7/a4/e66aafbefcbb717813bf3a355c8c4fc3ed04ea1dd7feb2920f2f4f868921/geopandas-0.8.1-py2.py3-none-any.whl\n",
      "Requirement already satisfied: shapely in /mnt/tmp/1609443720928-0/lib/python3.7/site-packages (from geopandas)\n",
      "Collecting fiona (from geopandas)\n",
      "  Using cached https://files.pythonhosted.org/packages/47/c2/67d1d0acbaaee3b03e5e22e3b96c33219cb5dd392531c9ff9cee7c2eb3e4/Fiona-1.8.18-cp37-cp37m-manylinux1_x86_64.whl\n",
      "Requirement already satisfied: pyproj>=2.2.0 in /mnt/tmp/1609443720928-0/lib/python3.7/site-packages (from geopandas)\n",
      "Collecting pandas>=0.23.0 (from geopandas)\n",
      "  Using cached https://files.pythonhosted.org/packages/ff/bd/fb376f9fbad92b9a6efdbb30ff32c80f3cba1368689309cbb5566364af5c/pandas-1.2.0-cp37-cp37m-manylinux1_x86_64.whl\n",
      "Collecting cligj>=0.5 (from fiona->geopandas)\n",
      "  Using cached https://files.pythonhosted.org/packages/42/1e/947eadf10d6804bf276eb8a038bd5307996dceaaa41cfd21b7a15ec62f5d/cligj-0.7.1-py3-none-any.whl\n",
      "Collecting munch (from fiona->geopandas)\n",
      "  Using cached https://files.pythonhosted.org/packages/cc/ab/85d8da5c9a45e072301beb37ad7f833cd344e04c817d97e0cc75681d248f/munch-2.5.0-py2.py3-none-any.whl\n",
      "Collecting certifi (from fiona->geopandas)\n",
      "  Using cached https://files.pythonhosted.org/packages/5e/a0/5f06e1e1d463903cf0c0eebeb751791119ed7a4b3737fdc9a77f1cdfb51f/certifi-2020.12.5-py2.py3-none-any.whl\n",
      "Requirement already satisfied: click<8,>=4.0 in /usr/local/lib64/python3.7/site-packages (from fiona->geopandas)\n",
      "Requirement already satisfied: six>=1.7 in /usr/local/lib/python3.7/site-packages (from fiona->geopandas)\n",
      "Collecting attrs>=17 (from fiona->geopandas)\n",
      "  Using cached https://files.pythonhosted.org/packages/c3/aa/cb45262569fcc047bf070b5de61813724d6726db83259222cd7b4c79821a/attrs-20.3.0-py2.py3-none-any.whl\n",
      "Collecting click-plugins>=1.0 (from fiona->geopandas)\n",
      "  Using cached https://files.pythonhosted.org/packages/e9/da/824b92d9942f4e472702488857914bdd50f73021efea15b4cad9aca8ecef/click_plugins-1.1.1-py2.py3-none-any.whl\n",
      "Requirement already satisfied: numpy>=1.16.5 in /usr/local/lib64/python3.7/site-packages (from pandas>=0.23.0->geopandas)\n",
      "Requirement already satisfied: pytz>=2017.3 in /usr/local/lib/python3.7/site-packages (from pandas>=0.23.0->geopandas)\n",
      "Requirement already satisfied: python-dateutil>=2.7.3 in /mnt/tmp/1609443720928-0/lib/python3.7/site-packages (from pandas>=0.23.0->geopandas)\n",
      "Installing collected packages: cligj, munch, certifi, attrs, click-plugins, fiona, pandas, geopandas\n",
      "Successfully installed attrs-20.3.0 certifi-2020.12.5 click-plugins-1.1.1 cligj-0.7.1 fiona-1.8.18 geopandas-0.8.1 munch-2.5.0 pandas-1.2.0\n",
      "\n",
      "Collecting boto3\n",
      "  Using cached https://files.pythonhosted.org/packages/1d/da/c6eaf4c1c8eec70fea402495ee34112824241bc96e20756c0c0c6f97feab/boto3-1.16.46-py2.py3-none-any.whl\n",
      "Collecting botocore<1.20.0,>=1.19.46 (from boto3)\n",
      "  Using cached https://files.pythonhosted.org/packages/5c/48/8151aad820996a46373a4ffa2268a7209c10518d1b3eb48bbd0010c5b6a3/botocore-1.19.46-py2.py3-none-any.whl\n",
      "Requirement already satisfied: jmespath<1.0.0,>=0.7.1 in /usr/local/lib/python3.7/site-packages (from boto3)\n",
      "Collecting s3transfer<0.4.0,>=0.3.0 (from boto3)\n",
      "  Using cached https://files.pythonhosted.org/packages/69/79/e6afb3d8b0b4e96cefbdc690f741d7dd24547ff1f94240c997a26fa908d3/s3transfer-0.3.3-py2.py3-none-any.whl\n",
      "Requirement already satisfied: python-dateutil<3.0.0,>=2.1 in /mnt/tmp/1609443720928-0/lib/python3.7/site-packages (from botocore<1.20.0,>=1.19.46->boto3)\n",
      "Collecting urllib3<1.27,>=1.25.4; python_version != \"3.4\" (from botocore<1.20.0,>=1.19.46->boto3)\n",
      "  Using cached https://files.pythonhosted.org/packages/f5/71/45d36a8df68f3ebb098d6861b2c017f3d094538c0fb98fa61d4dc43e69b9/urllib3-1.26.2-py2.py3-none-any.whl\n",
      "Requirement already satisfied: six>=1.5 in /usr/local/lib/python3.7/site-packages (from python-dateutil<3.0.0,>=2.1->botocore<1.20.0,>=1.19.46->boto3)\n",
      "Installing collected packages: urllib3, botocore, s3transfer, boto3\n",
      "Successfully installed boto3-1.16.46 botocore-1.19.46 s3transfer-0.3.3 urllib3-1.26.2"
     ]
    }
   ],
   "source": [
    "from pyspark import SparkConf\n",
    "from pyspark import SparkContext\n",
    "\n",
    "spark_conf = (SparkConf().set(\"spark.speculation\", \"false\"))\n",
    "sc = SparkContext.getOrCreate(conf = spark_conf)\n",
    "\n",
    "# spark = sparkSession\n",
    "hadoop_conf = spark._jsc.hadoopConfiguration()\n",
    "hadoop_conf.set(\"fs.s3a.impl\", \"org.apache.hadoop.fs.s3a.S3AFileSystem\")\n",
    "hadoop_conf.set(\"mapreduce.fileoutputcommitter.algorithm.version\",\"2\")\n",
    "\n",
    "# installing required packages for this notebook session\n",
    "sc.install_pypi_package(\"matplotlib\")\n",
    "sc.install_pypi_package(\"descartes\")\n",
    "sc.install_pypi_package(\"shapely\")\n",
    "sc.install_pypi_package(\"pyproj==2.2.2\")\n",
    "sc.install_pypi_package(\"geopandas\")\n",
    "sc.install_pypi_package(\"boto3\")"
   ]
  },
  {
   "cell_type": "code",
   "execution_count": 4,
   "metadata": {},
   "outputs": [
    {
     "data": {
      "application/vnd.jupyter.widget-view+json": {
       "model_id": "3f49246eca1c4739b2d2459699ba167e",
       "version_major": 2,
       "version_minor": 0
      },
      "text/plain": [
       "VBox()"
      ]
     },
     "metadata": {},
     "output_type": "display_data"
    },
    {
     "data": {
      "application/vnd.jupyter.widget-view+json": {
       "model_id": "",
       "version_major": 2,
       "version_minor": 0
      },
      "text/plain": [
       "FloatProgress(value=0.0, bar_style='info', description='Progress:', layout=Layout(height='25px', width='50%'),…"
      ]
     },
     "metadata": {},
     "output_type": "display_data"
    },
    {
     "name": "stdout",
     "output_type": "stream",
     "text": [
      "+-----------------------+------+-------+----------+----------+--------+------------------+-------------+--------------+---------+---------+--------+--------------+--------+------------------+------------------+-------------------+-------------------+\n",
      "|dt_avl                 |id_avl|line_id|trace_y   |trace_x   |hour_avl|hour_diff         |region       |time_variation|trip_id  |direction|route_id|trip_head     |shape_id|min_distance      |min_shape_sequence|min_shape_coord_lat|min_shape_coord_lon|\n",
      "+-----------------------+------+-------+----------+----------+--------+------------------+-------------+--------------+---------+---------+--------+--------------+--------+------------------+------------------+-------------------+-------------------+\n",
      "|2015-10-01 07:38:03.000|11773 |1047   |-23.859152|-46.71662 |7       |106.44300079345703|PARELHEIROS  |80.0          |3751-10-0|0        |3751-10 |Metrô Itaquera|61772   |43173.726409340736|356.0             |-23.542494         |-46.471243         |\n",
      "|2015-10-01 07:51:58.000|11773 |1047   |-23.818273|-46.733985|7       |2.996999979019165 |PARELHEIROS  |45.0          |3751-10-0|0        |3751-10 |Metrô Itaquera|61772   |40696.707657594365|356.0             |-23.542494         |-46.471243         |\n",
      "|2015-10-01 07:32:38.000|11773 |1047   |-23.862173|-46.7126  |7       |423.7799987792969 |PARELHEIROS  |83.0          |3751-10-0|0        |3751-10 |Metrô Itaquera|61772   |43213.90495851456 |356.0             |-23.542494         |-46.471243         |\n",
      "|2015-10-01 07:53:27.000|11773 |1047   |-23.811258|-46.736438|7       |1.5770000219345093|PARELHEIROS  |20.0          |3751-10-0|0        |3751-10 |Metrô Itaquera|61772   |40279.76016886461 |356.0             |-23.542494         |-46.471243         |\n",
      "|2015-10-01 07:50:16.000|11773 |1047   |-23.826557|-46.732178|7       |1.5529999732971191|PARELHEIROS  |28.0          |3751-10-0|0        |3751-10 |Metrô Itaquera|61772   |41275.98367538093 |356.0             |-23.542494         |-46.471243         |\n",
      "|2015-10-01 07:48:18.000|11773 |1047   |-23.826815|-46.728877|7       |2.3929998874664307|PARELHEIROS  |45.0          |3751-10-0|0        |3751-10 |Metrô Itaquera|61772   |41082.462545524584|356.0             |-23.542494         |-46.471243         |\n",
      "|2015-10-01 07:46:07.000|11773 |1047   |-23.829243|-46.724068|7       |1.2829999923706055|PARELHEIROS  |45.0          |3751-10-0|0        |3751-10 |Metrô Itaquera|61772   |40981.0459614751  |356.0             |-23.542494         |-46.471243         |\n",
      "|2015-10-01 07:46:18.000|11773 |1047   |-23.829068|-46.724283|7       |2.819999933242798 |PARELHEIROS  |11.0          |3751-10-0|0        |3751-10 |Metrô Itaquera|61772   |40979.68060977184 |356.0             |-23.542494         |-46.471243         |\n",
      "|2015-10-01 07:42:23.000|11773 |1047   |-23.8489  |-46.713557|7       |115.30999755859375|PARELHEIROS  |60.0          |3751-10-0|0        |3751-10 |Metrô Itaquera|61772   |42066.06629855239 |356.0             |-23.542494         |-46.471243         |\n",
      "|2015-10-01 07:52:05.000|11773 |1047   |-23.817548|-46.734302|7       |6.302999973297119 |PARELHEIROS  |7.0           |3751-10-0|0        |3751-10 |Metrô Itaquera|61772   |40657.30792006341 |356.0             |-23.542494         |-46.471243         |\n",
      "|2015-10-01 07:40:15.000|11773 |1047   |-23.850418|-46.709648|7       |242.27699279785156|PARELHEIROS  |132.0         |3751-10-0|0        |3751-10 |Metrô Itaquera|61772   |41971.36896043122 |356.0             |-23.542494         |-46.471243         |\n",
      "|2015-10-01 07:44:37.000|11773 |1047   |-23.837792|-46.72021 |7       |1.2899999618530273|PARELHEIROS  |67.0          |3751-10-0|0        |3751-10 |Metrô Itaquera|61772   |41483.183904433914|356.0             |-23.542494         |-46.471243         |\n",
      "|2015-10-01 07:50:46.000|11773 |1047   |-23.824682|-46.73436 |7       |1.5470000505447388|PARELHEIROS  |30.0          |3751-10-0|0        |3751-10 |Metrô Itaquera|61772   |41260.71520815947 |356.0             |-23.542494         |-46.471243         |\n",
      "|2015-10-01 07:34:08.000|11773 |1047   |-23.86223 |-46.712577|7       |333.82000732421875|PARELHEIROS  |90.0          |3751-10-0|0        |3751-10 |Metrô Itaquera|61772   |43217.784192039915|356.0             |-23.542494         |-46.471243         |\n",
      "|2015-10-01 07:41:23.000|11773 |1047   |-23.849025|-46.710888|7       |175.04299926757812|PARELHEIROS  |68.0          |3751-10-0|0        |3751-10 |Metrô Itaquera|61772   |41918.54747282395 |356.0             |-23.542494         |-46.471243         |\n",
      "|2015-10-01 07:47:33.000|11773 |1047   |-23.828013|-46.727073|7       |2.736999988555908 |PARELHEIROS  |45.0          |3751-10-0|0        |3751-10 |Metrô Itaquera|61772   |41068.216623171655|356.0             |-23.542494         |-46.471243         |\n",
      "|2015-10-01 07:52:46.000|11773 |1047   |-23.814638|-46.735247|7       |1.5399999618530273|PARELHEIROS  |41.0          |3751-10-0|0        |3751-10 |Metrô Itaquera|61772   |40478.506423147344|356.0             |-23.542494         |-46.471243         |\n",
      "|2015-10-01 07:49:03.000|11773 |1047   |-23.826572|-46.731435|7       |3.5999999046325684|PARELHEIROS  |45.0          |3751-10-0|0        |3751-10 |Metrô Itaquera|61772   |41228.596971796454|356.0             |-23.542494         |-46.471243         |\n",
      "|2015-10-01 07:43:30.000|11773 |1047   |-23.843055|-46.717367|7       |48.426998138427734|PARELHEIROS  |67.0          |3751-10-0|0        |3751-10 |Metrô Itaquera|61772   |41773.31724542762 |356.0             |-23.542494         |-46.471243         |\n",
      "|2015-10-01 07:51:13.000|11773 |1047   |-23.822217|-46.735802|7       |1.440000057220459 |PARELHEIROS  |27.0          |3751-10-0|0        |3751-10 |Metrô Itaquera|61772   |41148.808775480764|356.0             |-23.542494         |-46.471243         |\n",
      "|2015-10-01 07:49:48.000|11773 |1047   |-23.82661 |-46.731397|7       |3.2669999599456787|PARELHEIROS  |45.0          |3751-10-0|0        |3751-10 |Metrô Itaquera|61772   |41229.34556670013 |356.0             |-23.542494         |-46.471243         |\n",
      "|2015-10-01 07:53:07.000|11773 |1047   |-23.812795|-46.735723|7       |1.559999942779541 |PARELHEIROS  |21.0          |3751-10-0|0        |3751-10 |Metrô Itaquera|61772   |40357.99140482287 |356.0             |-23.542494         |-46.471243         |\n",
      "|2015-10-01 07:45:22.000|11773 |1047   |-23.8331  |-46.722692|7       |1.2669999599456787|PARELHEIROS  |45.0          |3751-10-0|0        |3751-10 |Metrô Itaquera|61772   |41228.21294046304 |356.0             |-23.542494         |-46.471243         |\n",
      "|2015-10-01 07:53:52.000|11773 |1047   |-23.809158|-46.737132|7       |2.0899999141693115|PARELHEIROS  |25.0          |3751-10-0|0        |3751-10 |Metrô Itaquera|61772   |40154.58468914279 |356.0             |-23.542494         |-46.471243         |\n",
      "|2015-10-01 07:31:15.000|11773 |1047   |-23.862097|-46.71263 |7       |506.73699951171875|PARELHEIROS  |null          |3751-10-0|0        |3751-10 |Metrô Itaquera|61772   |43208.695142894154|356.0             |-23.542494         |-46.471243         |\n",
      "|2015-10-01 07:46:48.000|11773 |1047   |-23.828198|-46.726497|7       |1.5829999446868896|PARELHEIROS  |30.0          |3751-10-0|0        |3751-10 |Metrô Itaquera|61772   |41046.943750228784|356.0             |-23.542494         |-46.471243         |\n",
      "|2015-10-01 07:36:43.000|11773 |1047   |-23.85975 |-46.71311 |7       |186.21299743652344|PARELHEIROS  |72.0          |3751-10-0|0        |3751-10 |Metrô Itaquera|61772   |43022.38699672528 |356.0             |-23.542494         |-46.471243         |\n",
      "|2015-10-01 07:35:31.000|11773 |1047   |-23.862295|-46.712267|7       |258.1830139160156 |PARELHEIROS  |83.0          |3751-10-0|0        |3751-10 |Metrô Itaquera|61772   |43205.79207738381 |356.0             |-23.542494         |-46.471243         |\n",
      "|2015-10-01 22:12:37.000|13835 |33020  |-23.686137|-46.80146 |22      |73.9800033569336  |CAPAO REDONDO|12.0          |263C-10-1|1        |263C-10 |Jd. Helena    |52579   |40084.4746608359  |40.0              |-23.551343         |-46.436554         |\n",
      "|2015-10-01 22:13:09.000|13835 |33020  |-23.685875|-46.801008|22      |84.072998046875   |CAPAO REDONDO|32.0          |263C-10-1|1        |263C-10 |Jd. Helena    |52579   |40030.907380458244|40.0              |-23.551343         |-46.436554         |\n",
      "|2015-10-01 22:10:14.000|13835 |33020  |-23.692205|-46.797942|22      |1.5               |CAPAO REDONDO|7.0           |263C-10-1|1        |263C-10 |Jd. Helena    |52579   |40010.784464399425|40.0              |-23.551343         |-46.436554         |\n",
      "|2015-10-01 22:11:50.000|13835 |33020  |-23.687615|-46.800783|22      |4.192999839782715 |CAPAO REDONDO|10.0          |263C-10-1|1        |263C-10 |Jd. Helena    |52579   |40082.15964766643 |40.0              |-23.551343         |-46.436554         |\n",
      "|2015-10-01 22:11:40.000|13835 |33020  |-23.688033|-46.800527|22      |1.5529999732971191|CAPAO REDONDO|1.0           |263C-10-1|1        |263C-10 |Jd. Helena    |52579   |40075.565318005414|40.0              |-23.551343         |-46.436554         |\n",
      "|2015-10-01 22:10:59.000|13835 |33020  |-23.690258|-46.798962|22      |1.2300000190734863|CAPAO REDONDO|6.0           |263C-10-1|1        |263C-10 |Jd. Helena    |52579   |40022.62613406306 |40.0              |-23.551343         |-46.436554         |\n",
      "|2015-10-01 22:11:10.000|13835 |33020  |-23.689678|-46.799367|22      |1.590000033378601 |CAPAO REDONDO|11.0          |263C-10-1|1        |263C-10 |Jd. Helena    |52579   |40035.945812656995|40.0              |-23.551343         |-46.436554         |\n",
      "|2015-10-01 22:09:29.000|13835 |33020  |-23.693898|-46.797458|22      |1.3329999446868896|CAPAO REDONDO|8.0           |263C-10-1|1        |263C-10 |Jd. Helena    |52579   |40039.35147352946 |40.0              |-23.551343         |-46.436554         |\n",
      "+-----------------------+------+-------+----------+----------+--------+------------------+-------------+--------------+---------+---------+--------+--------------+--------+------------------+------------------+-------------------+-------------------+"
     ]
    }
   ],
   "source": [
    "traces = spark.read.parquet(\"s3://mobility-traces-sp/processed-data-avl-date/8-map-matching/MO_15101/\")\n",
    "# selecting traces which are far more than 40km from the nearest shape\n",
    "traces.filter(\"min_distance > 40000\").show(50,False)\n",
    "# Results --> id_avl --> 11773, line_id --> 1047"
   ]
  },
  {
   "cell_type": "code",
   "execution_count": 29,
   "metadata": {},
   "outputs": [
    {
     "data": {
      "application/vnd.jupyter.widget-view+json": {
       "model_id": "138a04d5488e47298de626675c6b5f9d",
       "version_major": 2,
       "version_minor": 0
      },
      "text/plain": [
       "VBox()"
      ]
     },
     "metadata": {},
     "output_type": "display_data"
    },
    {
     "data": {
      "application/vnd.jupyter.widget-view+json": {
       "model_id": "",
       "version_major": 2,
       "version_minor": 0
      },
      "text/plain": [
       "FloatProgress(value=0.0, bar_style='info', description='Progress:', layout=Layout(height='25px', width='50%'),…"
      ]
     },
     "metadata": {},
     "output_type": "display_data"
    }
   ],
   "source": [
    "from pyspark.sql.functions import f\n",
    "traces.filter((col(\"id_avl\") == 11773) & (col(\"line_id\") == 1047)) \\\n",
    "    .select(\"dt_avl\",\"min_shape_sequence\",\"trace_y\",\"trace_x\") \\\n",
    "    .sort(\"dt_avl\") \\\n",
    "    .repartition(1) \\\n",
    "    .write.csv(\"s3://mobility-traces-sp/tests-map-views/2-map-matchin-view/MO_15101_id_avl_11773_line_1047/\")\n",
    "    "
   ]
  },
  {
   "cell_type": "code",
   "execution_count": 31,
   "metadata": {},
   "outputs": [
    {
     "data": {
      "application/vnd.jupyter.widget-view+json": {
       "model_id": "e8974f414e1a498fa75933be81969b66",
       "version_major": 2,
       "version_minor": 0
      },
      "text/plain": [
       "VBox()"
      ]
     },
     "metadata": {},
     "output_type": "display_data"
    },
    {
     "data": {
      "application/vnd.jupyter.widget-view+json": {
       "model_id": "",
       "version_major": 2,
       "version_minor": 0
      },
      "text/plain": [
       "FloatProgress(value=0.0, bar_style='info', description='Progress:', layout=Layout(height='25px', width='50%'),…"
      ]
     },
     "metadata": {},
     "output_type": "display_data"
    },
    {
     "name": "stdout",
     "output_type": "stream",
     "text": [
      "+-------+\n",
      "|line_id|\n",
      "+-------+\n",
      "|  35148|\n",
      "|    474|\n",
      "|     65|\n",
      "|   1224|\n",
      "|    558|\n",
      "|    418|\n",
      "|   2184|\n",
      "|   1175|\n",
      "|    243|\n",
      "|  35216|\n",
      "+-------+\n",
      "only showing top 10 rows"
     ]
    }
   ],
   "source": [
    "traces.select(\"line_id\").distinct().show(10)"
   ]
  },
  {
   "cell_type": "code",
   "execution_count": 32,
   "metadata": {},
   "outputs": [
    {
     "data": {
      "application/vnd.jupyter.widget-view+json": {
       "model_id": "a1d5793d913549909fe926df0ca4e823",
       "version_major": 2,
       "version_minor": 0
      },
      "text/plain": [
       "VBox()"
      ]
     },
     "metadata": {},
     "output_type": "display_data"
    },
    {
     "data": {
      "application/vnd.jupyter.widget-view+json": {
       "model_id": "",
       "version_major": 2,
       "version_minor": 0
      },
      "text/plain": [
       "FloatProgress(value=0.0, bar_style='info', description='Progress:', layout=Layout(height='25px', width='50%'),…"
      ]
     },
     "metadata": {},
     "output_type": "display_data"
    },
    {
     "name": "stdout",
     "output_type": "stream",
     "text": [
      "+------+\n",
      "|id_avl|\n",
      "+------+\n",
      "| 10918|\n",
      "| 11070|\n",
      "| 11187|\n",
      "| 10822|\n",
      "| 11207|\n",
      "| 11205|\n",
      "| 47150|\n",
      "| 10835|\n",
      "+------+"
     ]
    }
   ],
   "source": [
    "traces.filter(\"line_id == 35148\").select(\"id_avl\").distinct().show()"
   ]
  },
  {
   "cell_type": "code",
   "execution_count": 42,
   "metadata": {},
   "outputs": [
    {
     "data": {
      "application/vnd.jupyter.widget-view+json": {
       "model_id": "448979d585e24b2eaf6ea5f92d47f3c3",
       "version_major": 2,
       "version_minor": 0
      },
      "text/plain": [
       "VBox()"
      ]
     },
     "metadata": {},
     "output_type": "display_data"
    },
    {
     "data": {
      "application/vnd.jupyter.widget-view+json": {
       "model_id": "",
       "version_major": 2,
       "version_minor": 0
      },
      "text/plain": [
       "FloatProgress(value=0.0, bar_style='info', description='Progress:', layout=Layout(height='25px', width='50%'),…"
      ]
     },
     "metadata": {},
     "output_type": "display_data"
    },
    {
     "name": "stdout",
     "output_type": "stream",
     "text": [
      "18"
     ]
    }
   ],
   "source": [
    "traces.filter((col(\"line_id\") == 35148) & (col(\"id_avl\") == 10835)).count()"
   ]
  },
  {
   "cell_type": "code",
   "execution_count": 54,
   "metadata": {},
   "outputs": [
    {
     "data": {
      "application/vnd.jupyter.widget-view+json": {
       "model_id": "94ca9b1842e84d97b727463fd34aabaa",
       "version_major": 2,
       "version_minor": 0
      },
      "text/plain": [
       "VBox()"
      ]
     },
     "metadata": {},
     "output_type": "display_data"
    },
    {
     "data": {
      "application/vnd.jupyter.widget-view+json": {
       "model_id": "",
       "version_major": 2,
       "version_minor": 0
      },
      "text/plain": [
       "FloatProgress(value=0.0, bar_style='info', description='Progress:', layout=Layout(height='25px', width='50%'),…"
      ]
     },
     "metadata": {},
     "output_type": "display_data"
    }
   ],
   "source": [
    "from pyspark.sql import functions as f\n",
    "df = traces.groupBy(\"line_id\",\"id_avl\").agg(f.count('id_avl').alias(\"count_traces\"))"
   ]
  },
  {
   "cell_type": "code",
   "execution_count": 56,
   "metadata": {},
   "outputs": [
    {
     "data": {
      "application/vnd.jupyter.widget-view+json": {
       "model_id": "fe44ff6bb3344e1db6e5b0503e5724c7",
       "version_major": 2,
       "version_minor": 0
      },
      "text/plain": [
       "VBox()"
      ]
     },
     "metadata": {},
     "output_type": "display_data"
    },
    {
     "data": {
      "application/vnd.jupyter.widget-view+json": {
       "model_id": "",
       "version_major": 2,
       "version_minor": 0
      },
      "text/plain": [
       "FloatProgress(value=0.0, bar_style='info', description='Progress:', layout=Layout(height='25px', width='50%'),…"
      ]
     },
     "metadata": {},
     "output_type": "display_data"
    },
    {
     "name": "stdout",
     "output_type": "stream",
     "text": [
      "+-------+------+------------+\n",
      "|line_id|id_avl|count_traces|\n",
      "+-------+------+------------+\n",
      "|  35148| 10835|          18|\n",
      "+-------+------+------------+"
     ]
    }
   ],
   "source": [
    "df.filter((col(\"line_id\") == 35148) & (col(\"id_avl\") == 10835)).show()"
   ]
  },
  {
   "cell_type": "code",
   "execution_count": 65,
   "metadata": {},
   "outputs": [
    {
     "data": {
      "application/vnd.jupyter.widget-view+json": {
       "model_id": "368bb957b6aa460abed3343771c6ed1b",
       "version_major": 2,
       "version_minor": 0
      },
      "text/plain": [
       "VBox()"
      ]
     },
     "metadata": {},
     "output_type": "display_data"
    },
    {
     "data": {
      "application/vnd.jupyter.widget-view+json": {
       "model_id": "",
       "version_major": 2,
       "version_minor": 0
      },
      "text/plain": [
       "FloatProgress(value=0.0, bar_style='info', description='Progress:', layout=Layout(height='25px', width='50%'),…"
      ]
     },
     "metadata": {},
     "output_type": "display_data"
    },
    {
     "name": "stdout",
     "output_type": "stream",
     "text": [
      "+-----------------+-----------------+-----------------+-------------------------+\n",
      "|avg(count_traces)|min(count_traces)|max(count_traces)|stddev_samp(count_traces)|\n",
      "+-----------------+-----------------+-----------------+-------------------------+\n",
      "|571.3859121388732|                1|            27060|       487.96158812725486|\n",
      "+-----------------+-----------------+-----------------+-------------------------+"
     ]
    }
   ],
   "source": [
    "df.select(f.mean(\"count_traces\"),f.min(\"count_traces\"),f.max(\"count_traces\"),f.stddev(\"count_traces\")).show()"
   ]
  },
  {
   "cell_type": "code",
   "execution_count": 63,
   "metadata": {},
   "outputs": [
    {
     "data": {
      "application/vnd.jupyter.widget-view+json": {
       "model_id": "05292f80e0de404e8abef9ec039e382d",
       "version_major": 2,
       "version_minor": 0
      },
      "text/plain": [
       "VBox()"
      ]
     },
     "metadata": {},
     "output_type": "display_data"
    },
    {
     "data": {
      "application/vnd.jupyter.widget-view+json": {
       "model_id": "",
       "version_major": 2,
       "version_minor": 0
      },
      "text/plain": [
       "FloatProgress(value=0.0, bar_style='info', description='Progress:', layout=Layout(height='25px', width='50%'),…"
      ]
     },
     "metadata": {},
     "output_type": "display_data"
    },
    {
     "name": "stdout",
     "output_type": "stream",
     "text": [
      "+-------+------+------------+\n",
      "|line_id|id_avl|count_traces|\n",
      "+-------+------+------------+\n",
      "|  32932| 36669|       27060|\n",
      "+-------+------+------------+"
     ]
    }
   ],
   "source": [
    "df.filter(\"count_traces == 27060\").show()"
   ]
  },
  {
   "cell_type": "code",
   "execution_count": 64,
   "metadata": {},
   "outputs": [
    {
     "data": {
      "application/vnd.jupyter.widget-view+json": {
       "model_id": "27aaacf1e31244dba7870e4927a412ee",
       "version_major": 2,
       "version_minor": 0
      },
      "text/plain": [
       "VBox()"
      ]
     },
     "metadata": {},
     "output_type": "display_data"
    },
    {
     "data": {
      "application/vnd.jupyter.widget-view+json": {
       "model_id": "",
       "version_major": 2,
       "version_minor": 0
      },
      "text/plain": [
       "FloatProgress(value=0.0, bar_style='info', description='Progress:', layout=Layout(height='25px', width='50%'),…"
      ]
     },
     "metadata": {},
     "output_type": "display_data"
    },
    {
     "name": "stdout",
     "output_type": "stream",
     "text": [
      "DataFrame[line_id: bigint, id_avl: bigint, count_traces: bigint]"
     ]
    }
   ],
   "source": [
    "# There is the buses with few registers 1, average  is 570 register, the max with 27060"
   ]
  },
  {
   "cell_type": "code",
   "execution_count": 68,
   "metadata": {},
   "outputs": [
    {
     "data": {
      "application/vnd.jupyter.widget-view+json": {
       "model_id": "7b6e51dbffc2469d9b0941e3f895f199",
       "version_major": 2,
       "version_minor": 0
      },
      "text/plain": [
       "VBox()"
      ]
     },
     "metadata": {},
     "output_type": "display_data"
    },
    {
     "data": {
      "application/vnd.jupyter.widget-view+json": {
       "model_id": "",
       "version_major": 2,
       "version_minor": 0
      },
      "text/plain": [
       "FloatProgress(value=0.0, bar_style='info', description='Progress:', layout=Layout(height='25px', width='50%'),…"
      ]
     },
     "metadata": {},
     "output_type": "display_data"
    },
    {
     "name": "stdout",
     "output_type": "stream",
     "text": [
      "+-----------------------+------------------+\n",
      "|dt_avl                 |min_shape_sequence|\n",
      "+-----------------------+------------------+\n",
      "|2015-10-01 07:22:49.000|436.0             |\n",
      "|2015-10-01 07:22:50.000|436.0             |\n",
      "|2015-10-01 07:22:51.000|436.0             |\n",
      "|2015-10-01 07:22:53.000|436.0             |\n",
      "|2015-10-01 07:22:54.000|436.0             |\n",
      "|2015-10-01 07:22:55.000|436.0             |\n",
      "|2015-10-01 07:22:56.000|436.0             |\n",
      "|2015-10-01 07:22:58.000|436.0             |\n",
      "|2015-10-01 07:23:00.000|436.0             |\n",
      "|2015-10-01 07:23:01.000|436.0             |\n",
      "|2015-10-01 07:23:02.000|436.0             |\n",
      "|2015-10-01 07:23:04.000|436.0             |\n",
      "|2015-10-01 07:23:05.000|436.0             |\n",
      "|2015-10-01 07:23:06.000|436.0             |\n",
      "|2015-10-01 07:23:07.000|436.0             |\n",
      "|2015-10-01 07:23:08.000|436.0             |\n",
      "|2015-10-01 07:23:10.000|436.0             |\n",
      "|2015-10-01 07:23:13.000|436.0             |\n",
      "|2015-10-01 07:23:14.000|436.0             |\n",
      "|2015-10-01 07:23:16.000|436.0             |\n",
      "|2015-10-01 07:23:17.000|436.0             |\n",
      "|2015-10-01 07:23:18.000|436.0             |\n",
      "|2015-10-01 07:23:19.000|436.0             |\n",
      "|2015-10-01 07:23:21.000|436.0             |\n",
      "|2015-10-01 07:23:22.000|436.0             |\n",
      "|2015-10-01 07:23:23.000|436.0             |\n",
      "|2015-10-01 07:23:25.000|436.0             |\n",
      "|2015-10-01 07:23:26.000|436.0             |\n",
      "|2015-10-01 07:23:27.000|436.0             |\n",
      "|2015-10-01 07:23:28.000|436.0             |\n",
      "|2015-10-01 07:23:30.000|436.0             |\n",
      "|2015-10-01 07:23:31.000|436.0             |\n",
      "|2015-10-01 07:23:34.000|436.0             |\n",
      "|2015-10-01 07:23:36.000|436.0             |\n",
      "|2015-10-01 07:23:37.000|436.0             |\n",
      "|2015-10-01 07:23:39.000|436.0             |\n",
      "|2015-10-01 07:23:40.000|436.0             |\n",
      "|2015-10-01 07:23:41.000|436.0             |\n",
      "|2015-10-01 07:23:42.000|436.0             |\n",
      "|2015-10-01 07:23:44.000|436.0             |\n",
      "|2015-10-01 07:23:45.000|436.0             |\n",
      "|2015-10-01 07:23:46.000|436.0             |\n",
      "|2015-10-01 07:23:47.000|436.0             |\n",
      "|2015-10-01 07:23:48.000|436.0             |\n",
      "|2015-10-01 07:23:49.000|436.0             |\n",
      "|2015-10-01 07:23:51.000|436.0             |\n",
      "|2015-10-01 07:23:52.000|436.0             |\n",
      "|2015-10-01 07:23:53.000|436.0             |\n",
      "|2015-10-01 07:23:54.000|436.0             |\n",
      "|2015-10-01 07:23:55.000|436.0             |\n",
      "|2015-10-01 07:23:56.000|436.0             |\n",
      "|2015-10-01 07:23:58.000|436.0             |\n",
      "|2015-10-01 07:23:59.000|436.0             |\n",
      "|2015-10-01 07:24:00.000|436.0             |\n",
      "|2015-10-01 07:24:01.000|436.0             |\n",
      "|2015-10-01 07:24:02.000|436.0             |\n",
      "|2015-10-01 07:24:04.000|436.0             |\n",
      "|2015-10-01 07:24:05.000|436.0             |\n",
      "|2015-10-01 07:24:06.000|436.0             |\n",
      "|2015-10-01 07:24:07.000|436.0             |\n",
      "|2015-10-01 07:24:08.000|436.0             |\n",
      "|2015-10-01 07:24:09.000|436.0             |\n",
      "|2015-10-01 07:24:11.000|436.0             |\n",
      "|2015-10-01 07:24:12.000|436.0             |\n",
      "|2015-10-01 07:24:13.000|436.0             |\n",
      "|2015-10-01 07:24:14.000|436.0             |\n",
      "|2015-10-01 07:24:15.000|436.0             |\n",
      "|2015-10-01 07:24:17.000|436.0             |\n",
      "|2015-10-01 07:24:19.000|436.0             |\n",
      "|2015-10-01 07:24:20.000|436.0             |\n",
      "|2015-10-01 07:24:21.000|436.0             |\n",
      "|2015-10-01 07:24:22.000|436.0             |\n",
      "|2015-10-01 07:24:23.000|436.0             |\n",
      "|2015-10-01 07:24:25.000|436.0             |\n",
      "|2015-10-01 07:24:26.000|436.0             |\n",
      "|2015-10-01 07:24:27.000|436.0             |\n",
      "|2015-10-01 07:24:28.000|436.0             |\n",
      "|2015-10-01 07:24:29.000|436.0             |\n",
      "|2015-10-01 07:24:31.000|436.0             |\n",
      "|2015-10-01 07:24:32.000|436.0             |\n",
      "|2015-10-01 07:24:33.000|436.0             |\n",
      "|2015-10-01 07:24:34.000|436.0             |\n",
      "|2015-10-01 07:24:35.000|436.0             |\n",
      "|2015-10-01 07:24:36.000|436.0             |\n",
      "|2015-10-01 07:24:40.000|436.0             |\n",
      "|2015-10-01 07:24:41.000|436.0             |\n",
      "|2015-10-01 07:25:44.000|436.0             |\n",
      "|2015-10-01 07:25:45.000|436.0             |\n",
      "|2015-10-01 07:25:46.000|436.0             |\n",
      "|2015-10-01 07:25:47.000|436.0             |\n",
      "|2015-10-01 07:25:49.000|436.0             |\n",
      "|2015-10-01 07:25:50.000|436.0             |\n",
      "|2015-10-01 07:25:51.000|436.0             |\n",
      "|2015-10-01 07:25:52.000|436.0             |\n",
      "|2015-10-01 07:25:53.000|436.0             |\n",
      "|2015-10-01 07:25:54.000|436.0             |\n",
      "|2015-10-01 07:25:56.000|436.0             |\n",
      "|2015-10-01 07:25:57.000|436.0             |\n",
      "|2015-10-01 07:25:58.000|436.0             |\n",
      "|2015-10-01 07:25:59.000|436.0             |\n",
      "|2015-10-01 07:26:00.000|436.0             |\n",
      "|2015-10-01 07:26:02.000|436.0             |\n",
      "|2015-10-01 07:26:03.000|436.0             |\n",
      "|2015-10-01 07:26:08.000|436.0             |\n",
      "|2015-10-01 07:26:09.000|436.0             |\n",
      "|2015-10-01 07:26:10.000|436.0             |\n",
      "|2015-10-01 07:26:12.000|436.0             |\n",
      "|2015-10-01 07:26:31.000|436.0             |\n",
      "|2015-10-01 07:26:32.000|436.0             |\n",
      "|2015-10-01 07:26:33.000|436.0             |\n",
      "|2015-10-01 07:26:34.000|436.0             |\n",
      "|2015-10-01 07:26:36.000|436.0             |\n",
      "|2015-10-01 07:26:38.000|436.0             |\n",
      "|2015-10-01 07:26:39.000|436.0             |\n",
      "|2015-10-01 07:26:40.000|436.0             |\n",
      "|2015-10-01 07:26:42.000|436.0             |\n",
      "|2015-10-01 07:26:43.000|436.0             |\n",
      "|2015-10-01 07:26:44.000|436.0             |\n",
      "|2015-10-01 07:26:45.000|436.0             |\n",
      "|2015-10-01 07:26:47.000|436.0             |\n",
      "|2015-10-01 07:26:49.000|436.0             |\n",
      "|2015-10-01 07:26:50.000|436.0             |\n",
      "|2015-10-01 07:26:51.000|436.0             |\n",
      "|2015-10-01 07:26:53.000|436.0             |\n",
      "|2015-10-01 07:26:54.000|436.0             |\n",
      "|2015-10-01 07:26:57.000|436.0             |\n",
      "|2015-10-01 07:26:58.000|436.0             |\n",
      "|2015-10-01 07:26:59.000|436.0             |\n",
      "|2015-10-01 07:27:00.000|436.0             |\n",
      "|2015-10-01 07:27:01.000|436.0             |\n",
      "|2015-10-01 07:27:03.000|436.0             |\n",
      "|2015-10-01 07:27:04.000|436.0             |\n",
      "|2015-10-01 07:27:05.000|436.0             |\n",
      "|2015-10-01 07:27:07.000|436.0             |\n",
      "|2015-10-01 07:27:08.000|436.0             |\n",
      "|2015-10-01 07:27:10.000|436.0             |\n",
      "|2015-10-01 07:27:11.000|436.0             |\n",
      "|2015-10-01 07:27:12.000|436.0             |\n",
      "|2015-10-01 07:27:14.000|436.0             |\n",
      "|2015-10-01 07:27:16.000|436.0             |\n",
      "|2015-10-01 07:27:17.000|436.0             |\n",
      "|2015-10-01 07:27:56.000|436.0             |\n",
      "|2015-10-01 07:27:57.000|436.0             |\n",
      "|2015-10-01 07:27:58.000|436.0             |\n",
      "|2015-10-01 07:28:00.000|436.0             |\n",
      "|2015-10-01 07:28:02.000|436.0             |\n",
      "|2015-10-01 07:28:03.000|436.0             |\n",
      "|2015-10-01 07:28:04.000|436.0             |\n",
      "|2015-10-01 07:28:15.000|436.0             |\n",
      "|2015-10-01 07:28:16.000|436.0             |\n",
      "|2015-10-01 07:28:17.000|436.0             |\n",
      "|2015-10-01 07:28:19.000|436.0             |\n",
      "|2015-10-01 07:28:20.000|436.0             |\n",
      "|2015-10-01 07:28:21.000|436.0             |\n",
      "|2015-10-01 07:28:22.000|436.0             |\n",
      "|2015-10-01 07:28:23.000|436.0             |\n",
      "|2015-10-01 07:28:25.000|436.0             |\n",
      "|2015-10-01 07:28:26.000|436.0             |\n",
      "|2015-10-01 07:28:27.000|436.0             |\n",
      "|2015-10-01 07:28:28.000|436.0             |\n",
      "|2015-10-01 07:28:29.000|436.0             |\n",
      "|2015-10-01 07:28:31.000|436.0             |\n",
      "|2015-10-01 07:28:32.000|436.0             |\n",
      "|2015-10-01 07:28:33.000|436.0             |\n",
      "|2015-10-01 07:28:34.000|436.0             |\n",
      "|2015-10-01 07:28:35.000|436.0             |\n",
      "|2015-10-01 07:28:36.000|436.0             |\n",
      "|2015-10-01 07:28:38.000|436.0             |\n",
      "|2015-10-01 07:28:39.000|436.0             |\n",
      "|2015-10-01 07:28:40.000|436.0             |\n",
      "|2015-10-01 07:28:41.000|436.0             |\n",
      "|2015-10-01 07:28:43.000|436.0             |\n",
      "|2015-10-01 07:30:03.000|436.0             |\n",
      "|2015-10-01 07:30:29.000|436.0             |\n",
      "|2015-10-01 07:30:31.000|436.0             |\n",
      "|2015-10-01 07:30:32.000|436.0             |\n",
      "|2015-10-01 07:30:33.000|436.0             |\n",
      "|2015-10-01 07:30:34.000|436.0             |\n",
      "|2015-10-01 07:30:36.000|436.0             |\n",
      "|2015-10-01 07:30:37.000|436.0             |\n",
      "|2015-10-01 07:30:38.000|436.0             |\n",
      "|2015-10-01 07:30:39.000|436.0             |\n",
      "|2015-10-01 07:30:41.000|436.0             |\n",
      "|2015-10-01 07:30:42.000|436.0             |\n",
      "|2015-10-01 07:30:43.000|436.0             |\n",
      "|2015-10-01 07:30:44.000|437.0             |\n",
      "|2015-10-01 07:30:47.000|437.0             |\n",
      "|2015-10-01 07:30:48.000|437.0             |\n",
      "|2015-10-01 07:30:49.000|437.0             |\n",
      "|2015-10-01 07:30:51.000|437.0             |\n",
      "|2015-10-01 07:31:00.000|437.0             |\n",
      "|2015-10-01 07:31:02.000|437.0             |\n",
      "|2015-10-01 07:31:03.000|437.0             |\n",
      "|2015-10-01 07:31:04.000|437.0             |\n",
      "|2015-10-01 07:31:05.000|437.0             |\n",
      "|2015-10-01 07:31:06.000|437.0             |\n",
      "|2015-10-01 07:31:07.000|437.0             |\n",
      "|2015-10-01 07:31:08.000|437.0             |\n",
      "|2015-10-01 07:31:10.000|437.0             |\n",
      "|2015-10-01 07:31:11.000|437.0             |\n",
      "|2015-10-01 07:31:12.000|437.0             |\n",
      "|2015-10-01 07:31:13.000|437.0             |\n",
      "|2015-10-01 07:31:14.000|437.0             |\n",
      "|2015-10-01 07:31:15.000|437.0             |\n",
      "|2015-10-01 07:31:17.000|437.0             |\n",
      "|2015-10-01 07:31:18.000|437.0             |\n",
      "|2015-10-01 07:31:19.000|437.0             |\n",
      "|2015-10-01 07:31:21.000|438.0             |\n",
      "|2015-10-01 07:31:22.000|438.0             |\n",
      "|2015-10-01 07:31:23.000|439.0             |\n",
      "|2015-10-01 07:31:25.000|439.0             |\n",
      "|2015-10-01 07:31:29.000|439.0             |\n",
      "|2015-10-01 07:31:31.000|439.0             |\n",
      "|2015-10-01 07:31:32.000|439.0             |\n",
      "|2015-10-01 07:31:33.000|439.0             |\n",
      "|2015-10-01 07:31:35.000|439.0             |\n",
      "|2015-10-01 07:31:36.000|439.0             |\n",
      "|2015-10-01 07:31:37.000|439.0             |\n",
      "|2015-10-01 07:31:39.000|439.0             |\n",
      "|2015-10-01 07:31:40.000|439.0             |\n",
      "|2015-10-01 07:31:44.000|439.0             |\n",
      "|2015-10-01 07:31:45.000|439.0             |\n",
      "|2015-10-01 07:31:46.000|439.0             |\n",
      "|2015-10-01 07:31:48.000|439.0             |\n",
      "|2015-10-01 07:31:49.000|439.0             |\n",
      "|2015-10-01 07:31:53.000|439.0             |\n",
      "|2015-10-01 07:31:54.000|439.0             |\n",
      "|2015-10-01 07:31:56.000|439.0             |\n",
      "|2015-10-01 07:31:57.000|439.0             |\n",
      "|2015-10-01 07:31:58.000|439.0             |\n",
      "|2015-10-01 07:32:00.000|439.0             |\n",
      "|2015-10-01 07:33:01.000|435.0             |\n",
      "|2015-10-01 07:33:02.000|435.0             |\n",
      "|2015-10-01 07:33:03.000|435.0             |\n",
      "|2015-10-01 07:33:05.000|435.0             |\n",
      "|2015-10-01 08:23:27.000|236.0             |\n",
      "|2015-10-01 08:23:28.000|236.0             |\n",
      "|2015-10-01 08:23:29.000|236.0             |\n",
      "|2015-10-01 08:23:31.000|236.0             |\n",
      "|2015-10-01 08:23:32.000|236.0             |\n",
      "|2015-10-01 08:23:34.000|236.0             |\n",
      "|2015-10-01 08:23:35.000|236.0             |\n",
      "|2015-10-01 08:23:36.000|236.0             |\n",
      "|2015-10-01 08:23:38.000|236.0             |\n",
      "|2015-10-01 08:23:39.000|236.0             |\n",
      "|2015-10-01 08:23:40.000|236.0             |\n",
      "|2015-10-01 08:23:42.000|236.0             |\n",
      "|2015-10-01 08:23:43.000|236.0             |\n",
      "|2015-10-01 08:23:44.000|236.0             |\n",
      "|2015-10-01 08:23:45.000|236.0             |\n",
      "|2015-10-01 08:23:46.000|236.0             |\n",
      "|2015-10-01 08:23:48.000|236.0             |\n",
      "|2015-10-01 08:23:50.000|236.0             |\n",
      "|2015-10-01 08:23:51.000|236.0             |\n",
      "|2015-10-01 08:23:52.000|236.0             |\n",
      "|2015-10-01 08:23:54.000|236.0             |\n",
      "|2015-10-01 08:23:55.000|236.0             |\n",
      "|2015-10-01 08:23:56.000|236.0             |\n",
      "|2015-10-01 08:23:58.000|236.0             |\n",
      "|2015-10-01 08:24:00.000|236.0             |\n",
      "|2015-10-01 08:24:04.000|236.0             |\n",
      "|2015-10-01 08:25:17.000|236.0             |\n",
      "|2015-10-01 08:25:19.000|236.0             |\n",
      "|2015-10-01 08:25:20.000|236.0             |\n",
      "|2015-10-01 08:25:21.000|236.0             |\n",
      "|2015-10-01 08:25:23.000|236.0             |\n",
      "|2015-10-01 08:25:28.000|236.0             |\n",
      "|2015-10-01 08:25:31.000|236.0             |\n",
      "|2015-10-01 08:25:34.000|236.0             |\n",
      "|2015-10-01 08:25:35.000|236.0             |\n",
      "|2015-10-01 08:25:36.000|236.0             |\n",
      "|2015-10-01 08:25:38.000|236.0             |\n",
      "|2015-10-01 08:25:39.000|236.0             |\n",
      "|2015-10-01 08:25:40.000|236.0             |\n",
      "|2015-10-01 08:25:42.000|236.0             |\n",
      "|2015-10-01 08:25:43.000|236.0             |\n",
      "|2015-10-01 08:25:45.000|236.0             |\n",
      "|2015-10-01 08:25:46.000|236.0             |\n",
      "|2015-10-01 08:25:47.000|236.0             |\n",
      "|2015-10-01 08:25:48.000|236.0             |\n",
      "|2015-10-01 08:25:50.000|236.0             |\n",
      "|2015-10-01 08:25:51.000|236.0             |\n",
      "|2015-10-01 08:25:52.000|236.0             |\n",
      "|2015-10-01 08:25:53.000|236.0             |\n",
      "|2015-10-01 08:25:54.000|236.0             |\n",
      "|2015-10-01 08:25:56.000|236.0             |\n",
      "|2015-10-01 08:25:57.000|236.0             |\n",
      "|2015-10-01 08:25:58.000|236.0             |\n",
      "|2015-10-01 08:26:02.000|236.0             |\n",
      "|2015-10-01 08:26:05.000|236.0             |\n",
      "|2015-10-01 08:26:06.000|236.0             |\n",
      "|2015-10-01 08:26:08.000|236.0             |\n",
      "|2015-10-01 08:26:09.000|236.0             |\n",
      "|2015-10-01 08:26:11.000|236.0             |\n",
      "|2015-10-01 08:26:12.000|236.0             |\n",
      "|2015-10-01 08:26:13.000|236.0             |\n",
      "|2015-10-01 08:26:15.000|236.0             |\n",
      "|2015-10-01 08:26:16.000|236.0             |\n",
      "|2015-10-01 08:26:17.000|236.0             |\n",
      "|2015-10-01 08:26:18.000|236.0             |\n",
      "|2015-10-01 08:26:20.000|236.0             |\n",
      "|2015-10-01 08:26:21.000|236.0             |\n",
      "|2015-10-01 08:26:22.000|236.0             |\n",
      "|2015-10-01 08:26:24.000|236.0             |\n",
      "|2015-10-01 08:26:25.000|236.0             |\n",
      "|2015-10-01 08:26:26.000|236.0             |\n",
      "|2015-10-01 08:26:28.000|236.0             |\n",
      "|2015-10-01 08:26:29.000|236.0             |\n",
      "|2015-10-01 08:26:31.000|236.0             |\n",
      "|2015-10-01 08:26:33.000|236.0             |\n",
      "|2015-10-01 08:26:34.000|236.0             |\n",
      "|2015-10-01 08:26:35.000|236.0             |\n",
      "|2015-10-01 08:26:36.000|236.0             |\n",
      "|2015-10-01 08:26:38.000|236.0             |\n",
      "|2015-10-01 08:26:39.000|236.0             |\n",
      "|2015-10-01 08:26:40.000|236.0             |\n",
      "|2015-10-01 08:26:43.000|236.0             |\n",
      "|2015-10-01 08:26:45.000|236.0             |\n",
      "|2015-10-01 08:26:46.000|236.0             |\n",
      "|2015-10-01 08:26:47.000|236.0             |\n",
      "|2015-10-01 08:26:48.000|236.0             |\n",
      "|2015-10-01 08:26:49.000|236.0             |\n",
      "|2015-10-01 08:26:51.000|236.0             |\n",
      "|2015-10-01 08:26:52.000|236.0             |\n",
      "|2015-10-01 08:26:53.000|236.0             |\n",
      "|2015-10-01 08:26:55.000|236.0             |\n",
      "|2015-10-01 08:26:56.000|236.0             |\n",
      "|2015-10-01 08:26:57.000|236.0             |\n",
      "|2015-10-01 08:26:58.000|236.0             |\n",
      "|2015-10-01 08:26:59.000|236.0             |\n",
      "|2015-10-01 08:27:00.000|236.0             |\n",
      "|2015-10-01 08:27:01.000|236.0             |\n",
      "|2015-10-01 08:27:03.000|236.0             |\n",
      "|2015-10-01 08:27:04.000|236.0             |\n",
      "|2015-10-01 08:27:05.000|236.0             |\n",
      "|2015-10-01 08:27:07.000|236.0             |\n",
      "|2015-10-01 08:27:08.000|236.0             |\n",
      "|2015-10-01 08:27:09.000|236.0             |\n",
      "|2015-10-01 08:27:11.000|236.0             |\n",
      "|2015-10-01 08:27:12.000|236.0             |\n",
      "|2015-10-01 08:27:13.000|236.0             |\n",
      "|2015-10-01 08:27:14.000|236.0             |\n",
      "|2015-10-01 08:27:16.000|236.0             |\n",
      "|2015-10-01 08:27:17.000|236.0             |\n",
      "|2015-10-01 08:27:18.000|236.0             |\n",
      "|2015-10-01 08:27:19.000|236.0             |\n",
      "|2015-10-01 08:27:23.000|236.0             |\n",
      "|2015-10-01 08:27:24.000|236.0             |\n",
      "|2015-10-01 08:27:26.000|236.0             |\n",
      "|2015-10-01 08:27:27.000|236.0             |\n",
      "|2015-10-01 08:27:28.000|236.0             |\n",
      "|2015-10-01 08:27:30.000|236.0             |\n",
      "|2015-10-01 08:27:32.000|236.0             |\n",
      "|2015-10-01 08:27:33.000|236.0             |\n",
      "|2015-10-01 08:27:34.000|236.0             |\n",
      "|2015-10-01 08:27:35.000|236.0             |\n",
      "|2015-10-01 08:27:36.000|236.0             |\n",
      "|2015-10-01 08:27:37.000|236.0             |\n",
      "|2015-10-01 08:27:39.000|236.0             |\n",
      "|2015-10-01 08:27:40.000|236.0             |\n",
      "|2015-10-01 08:27:41.000|236.0             |\n",
      "|2015-10-01 08:27:43.000|236.0             |\n",
      "|2015-10-01 08:27:44.000|236.0             |\n",
      "|2015-10-01 08:27:45.000|236.0             |\n",
      "|2015-10-01 08:27:46.000|236.0             |\n",
      "|2015-10-01 08:27:47.000|236.0             |\n",
      "|2015-10-01 08:27:49.000|236.0             |\n",
      "|2015-10-01 08:27:50.000|236.0             |\n",
      "|2015-10-01 08:27:51.000|236.0             |\n",
      "|2015-10-01 08:27:52.000|236.0             |\n",
      "|2015-10-01 08:27:54.000|236.0             |\n",
      "|2015-10-01 08:27:55.000|236.0             |\n",
      "|2015-10-01 08:27:56.000|236.0             |\n",
      "|2015-10-01 08:27:59.000|236.0             |\n",
      "|2015-10-01 08:28:00.000|236.0             |\n",
      "|2015-10-01 08:28:02.000|236.0             |\n",
      "|2015-10-01 08:28:03.000|236.0             |\n",
      "|2015-10-01 08:28:05.000|236.0             |\n",
      "|2015-10-01 08:28:06.000|236.0             |\n",
      "|2015-10-01 08:28:07.000|236.0             |\n",
      "|2015-10-01 08:28:08.000|236.0             |\n",
      "|2015-10-01 08:28:09.000|236.0             |\n",
      "|2015-10-01 08:28:11.000|236.0             |\n",
      "|2015-10-01 08:28:12.000|236.0             |\n",
      "|2015-10-01 08:28:13.000|236.0             |\n",
      "|2015-10-01 08:28:14.000|236.0             |\n",
      "|2015-10-01 08:28:15.000|236.0             |\n",
      "|2015-10-01 08:28:16.000|236.0             |\n",
      "|2015-10-01 08:28:18.000|236.0             |\n",
      "|2015-10-01 08:28:19.000|236.0             |\n",
      "|2015-10-01 08:28:21.000|236.0             |\n",
      "|2015-10-01 08:28:22.000|236.0             |\n",
      "|2015-10-01 08:28:23.000|236.0             |\n",
      "|2015-10-01 08:28:24.000|236.0             |\n",
      "|2015-10-01 08:28:26.000|236.0             |\n",
      "|2015-10-01 08:28:27.000|236.0             |\n",
      "|2015-10-01 08:28:28.000|236.0             |\n",
      "|2015-10-01 08:28:30.000|236.0             |\n",
      "|2015-10-01 08:28:31.000|236.0             |\n",
      "|2015-10-01 08:28:32.000|236.0             |\n",
      "|2015-10-01 08:28:33.000|236.0             |\n",
      "|2015-10-01 08:28:35.000|236.0             |\n",
      "|2015-10-01 08:28:37.000|236.0             |\n",
      "|2015-10-01 08:28:38.000|236.0             |\n",
      "|2015-10-01 08:28:40.000|236.0             |\n",
      "|2015-10-01 08:28:41.000|236.0             |\n",
      "|2015-10-01 08:28:42.000|236.0             |\n",
      "|2015-10-01 08:28:43.000|236.0             |\n",
      "|2015-10-01 08:28:44.000|236.0             |\n",
      "|2015-10-01 08:28:45.000|236.0             |\n",
      "|2015-10-01 08:28:47.000|236.0             |\n",
      "|2015-10-01 08:28:48.000|236.0             |\n",
      "|2015-10-01 08:28:50.000|236.0             |\n",
      "|2015-10-01 08:28:51.000|236.0             |\n",
      "|2015-10-01 08:28:52.000|236.0             |\n",
      "|2015-10-01 08:28:54.000|236.0             |\n",
      "|2015-10-01 08:28:56.000|236.0             |\n",
      "|2015-10-01 08:28:57.000|236.0             |\n",
      "|2015-10-01 08:28:58.000|236.0             |\n",
      "|2015-10-01 08:29:00.000|236.0             |\n",
      "|2015-10-01 08:29:01.000|236.0             |\n",
      "|2015-10-01 08:29:02.000|236.0             |\n",
      "|2015-10-01 08:29:04.000|236.0             |\n",
      "|2015-10-01 08:29:05.000|236.0             |\n",
      "|2015-10-01 08:29:06.000|236.0             |\n",
      "|2015-10-01 08:29:07.000|236.0             |\n",
      "|2015-10-01 08:29:09.000|236.0             |\n",
      "|2015-10-01 08:29:10.000|236.0             |\n",
      "|2015-10-01 08:29:11.000|236.0             |\n",
      "|2015-10-01 08:29:13.000|236.0             |\n",
      "|2015-10-01 08:29:15.000|236.0             |\n",
      "|2015-10-01 08:29:16.000|236.0             |\n",
      "|2015-10-01 08:29:17.000|236.0             |\n",
      "|2015-10-01 08:29:19.000|236.0             |\n",
      "|2015-10-01 08:29:20.000|236.0             |\n",
      "|2015-10-01 08:29:22.000|236.0             |\n",
      "|2015-10-01 08:29:24.000|236.0             |\n",
      "|2015-10-01 08:29:25.000|236.0             |\n",
      "|2015-10-01 08:29:26.000|236.0             |\n",
      "|2015-10-01 08:29:28.000|236.0             |\n",
      "|2015-10-01 08:29:29.000|236.0             |\n",
      "|2015-10-01 08:29:31.000|236.0             |\n",
      "|2015-10-01 08:29:32.000|236.0             |\n",
      "|2015-10-01 08:29:36.000|236.0             |\n",
      "|2015-10-01 08:29:38.000|236.0             |\n",
      "|2015-10-01 08:29:39.000|236.0             |\n",
      "|2015-10-01 08:29:40.000|236.0             |\n",
      "|2015-10-01 08:29:42.000|236.0             |\n",
      "|2015-10-01 08:29:43.000|236.0             |\n",
      "|2015-10-01 08:29:44.000|236.0             |\n",
      "|2015-10-01 08:29:48.000|236.0             |\n",
      "|2015-10-01 08:29:49.000|236.0             |\n",
      "|2015-10-01 08:29:51.000|236.0             |\n",
      "|2015-10-01 08:29:54.000|236.0             |\n",
      "|2015-10-01 08:29:55.000|236.0             |\n",
      "|2015-10-01 08:29:56.000|236.0             |\n",
      "|2015-10-01 08:30:01.000|236.0             |\n",
      "|2015-10-01 08:30:02.000|236.0             |\n",
      "|2015-10-01 08:30:03.000|236.0             |\n",
      "|2015-10-01 08:30:05.000|236.0             |\n",
      "|2015-10-01 08:30:09.000|236.0             |\n",
      "|2015-10-01 08:30:12.000|236.0             |\n",
      "|2015-10-01 08:30:14.000|236.0             |\n",
      "|2015-10-01 08:30:15.000|236.0             |\n",
      "|2015-10-01 08:30:16.000|236.0             |\n",
      "|2015-10-01 08:30:18.000|236.0             |\n",
      "|2015-10-01 08:30:21.000|236.0             |\n",
      "|2015-10-01 08:30:23.000|236.0             |\n",
      "|2015-10-01 08:30:24.000|236.0             |\n",
      "|2015-10-01 08:30:25.000|236.0             |\n",
      "|2015-10-01 08:30:29.000|236.0             |\n",
      "|2015-10-01 08:30:30.000|236.0             |\n",
      "|2015-10-01 08:30:33.000|236.0             |\n",
      "|2015-10-01 08:30:34.000|236.0             |\n",
      "|2015-10-01 08:30:35.000|236.0             |\n",
      "|2015-10-01 08:30:39.000|236.0             |\n",
      "|2015-10-01 08:30:40.000|236.0             |\n",
      "|2015-10-01 08:30:42.000|236.0             |\n",
      "|2015-10-01 08:30:43.000|236.0             |\n",
      "|2015-10-01 08:30:45.000|236.0             |\n",
      "|2015-10-01 08:30:46.000|236.0             |\n",
      "|2015-10-01 08:30:48.000|236.0             |\n",
      "|2015-10-01 08:30:49.000|236.0             |\n",
      "|2015-10-01 08:30:50.000|236.0             |\n",
      "|2015-10-01 08:30:52.000|236.0             |\n",
      "|2015-10-01 08:30:53.000|236.0             |\n",
      "|2015-10-01 08:30:54.000|236.0             |\n",
      "|2015-10-01 08:30:56.000|236.0             |\n",
      "|2015-10-01 08:30:58.000|236.0             |\n",
      "|2015-10-01 08:30:59.000|236.0             |\n",
      "|2015-10-01 08:31:00.000|236.0             |\n",
      "|2015-10-01 08:31:02.000|236.0             |\n",
      "|2015-10-01 08:31:03.000|236.0             |\n",
      "|2015-10-01 08:31:04.000|236.0             |\n",
      "|2015-10-01 08:31:05.000|236.0             |\n",
      "|2015-10-01 08:31:06.000|236.0             |\n",
      "|2015-10-01 08:31:08.000|236.0             |\n",
      "|2015-10-01 08:31:10.000|236.0             |\n",
      "|2015-10-01 08:31:11.000|236.0             |\n",
      "|2015-10-01 08:31:13.000|236.0             |\n",
      "|2015-10-01 08:31:14.000|236.0             |\n",
      "|2015-10-01 08:31:16.000|236.0             |\n",
      "|2015-10-01 08:31:18.000|236.0             |\n",
      "|2015-10-01 08:31:19.000|236.0             |\n",
      "|2015-10-01 08:31:21.000|236.0             |\n",
      "|2015-10-01 08:31:23.000|236.0             |\n",
      "|2015-10-01 08:31:25.000|236.0             |\n",
      "|2015-10-01 08:31:26.000|236.0             |\n",
      "|2015-10-01 08:31:27.000|236.0             |\n",
      "|2015-10-01 08:31:29.000|236.0             |\n",
      "|2015-10-01 08:31:30.000|236.0             |\n",
      "|2015-10-01 08:31:31.000|236.0             |\n",
      "|2015-10-01 08:31:32.000|236.0             |\n",
      "|2015-10-01 08:31:34.000|236.0             |\n",
      "|2015-10-01 08:31:35.000|236.0             |\n",
      "|2015-10-01 08:31:37.000|236.0             |\n",
      "|2015-10-01 08:31:39.000|236.0             |\n",
      "|2015-10-01 08:31:40.000|236.0             |\n",
      "|2015-10-01 08:31:41.000|236.0             |\n",
      "|2015-10-01 08:31:43.000|236.0             |\n",
      "|2015-10-01 08:31:44.000|236.0             |\n",
      "|2015-10-01 08:31:46.000|236.0             |\n",
      "|2015-10-01 08:31:47.000|236.0             |\n",
      "|2015-10-01 08:31:50.000|236.0             |\n",
      "|2015-10-01 08:31:51.000|236.0             |\n",
      "|2015-10-01 08:31:52.000|236.0             |\n",
      "|2015-10-01 08:31:53.000|236.0             |\n",
      "|2015-10-01 08:31:55.000|236.0             |\n",
      "|2015-10-01 08:31:56.000|236.0             |\n",
      "|2015-10-01 08:31:58.000|236.0             |\n",
      "|2015-10-01 08:31:59.000|236.0             |\n",
      "|2015-10-01 08:32:00.000|236.0             |\n",
      "|2015-10-01 08:32:01.000|236.0             |\n",
      "|2015-10-01 08:32:02.000|236.0             |\n",
      "|2015-10-01 08:32:04.000|236.0             |\n",
      "|2015-10-01 08:32:05.000|236.0             |\n",
      "|2015-10-01 08:32:06.000|236.0             |\n",
      "|2015-10-01 08:32:07.000|236.0             |\n",
      "|2015-10-01 08:32:09.000|236.0             |\n",
      "|2015-10-01 08:32:10.000|236.0             |\n",
      "|2015-10-01 08:32:11.000|236.0             |\n",
      "|2015-10-01 08:32:13.000|236.0             |\n",
      "|2015-10-01 08:32:14.000|236.0             |\n",
      "|2015-10-01 08:32:15.000|236.0             |\n",
      "|2015-10-01 08:32:17.000|236.0             |\n",
      "|2015-10-01 08:32:18.000|236.0             |\n",
      "|2015-10-01 08:32:19.000|236.0             |\n",
      "|2015-10-01 08:32:21.000|236.0             |\n",
      "|2015-10-01 08:32:22.000|236.0             |\n",
      "|2015-10-01 08:32:24.000|236.0             |\n",
      "|2015-10-01 08:32:25.000|236.0             |\n",
      "|2015-10-01 08:32:27.000|236.0             |\n",
      "|2015-10-01 08:32:30.000|236.0             |\n",
      "|2015-10-01 08:32:34.000|236.0             |\n",
      "|2015-10-01 08:32:35.000|236.0             |\n",
      "|2015-10-01 08:32:37.000|236.0             |\n",
      "|2015-10-01 08:32:39.000|236.0             |\n",
      "|2015-10-01 08:32:40.000|236.0             |\n",
      "|2015-10-01 08:32:42.000|236.0             |\n",
      "|2015-10-01 08:32:44.000|236.0             |\n",
      "|2015-10-01 08:32:47.000|236.0             |\n",
      "|2015-10-01 08:32:49.000|236.0             |\n",
      "|2015-10-01 08:32:51.000|236.0             |\n",
      "|2015-10-01 08:32:53.000|236.0             |\n",
      "|2015-10-01 08:32:55.000|236.0             |\n",
      "|2015-10-01 08:32:56.000|236.0             |\n",
      "|2015-10-01 08:32:58.000|236.0             |\n",
      "|2015-10-01 08:32:59.000|236.0             |\n",
      "|2015-10-01 08:33:01.000|236.0             |\n",
      "|2015-10-01 08:33:02.000|236.0             |\n",
      "|2015-10-01 08:33:04.000|236.0             |\n",
      "|2015-10-01 08:33:07.000|236.0             |\n",
      "|2015-10-01 08:33:08.000|236.0             |\n",
      "|2015-10-01 08:33:10.000|236.0             |\n",
      "|2015-10-01 08:33:11.000|236.0             |\n",
      "|2015-10-01 08:33:12.000|236.0             |\n",
      "|2015-10-01 08:33:16.000|236.0             |\n",
      "|2015-10-01 08:33:20.000|236.0             |\n",
      "|2015-10-01 08:33:21.000|236.0             |\n",
      "|2015-10-01 08:33:22.000|236.0             |\n",
      "|2015-10-01 08:33:24.000|236.0             |\n",
      "|2015-10-01 08:33:25.000|236.0             |\n",
      "|2015-10-01 08:33:27.000|236.0             |\n",
      "|2015-10-01 08:33:28.000|236.0             |\n",
      "|2015-10-01 08:33:29.000|236.0             |\n",
      "|2015-10-01 08:33:30.000|236.0             |\n",
      "|2015-10-01 08:33:31.000|236.0             |\n",
      "|2015-10-01 08:33:33.000|236.0             |\n",
      "|2015-10-01 08:33:34.000|236.0             |\n",
      "|2015-10-01 08:33:36.000|236.0             |\n",
      "|2015-10-01 08:33:38.000|236.0             |\n",
      "|2015-10-01 08:33:39.000|236.0             |\n",
      "|2015-10-01 08:33:40.000|236.0             |\n",
      "|2015-10-01 08:33:42.000|236.0             |\n",
      "|2015-10-01 08:33:43.000|236.0             |\n",
      "|2015-10-01 08:33:45.000|236.0             |\n",
      "|2015-10-01 08:33:46.000|236.0             |\n",
      "|2015-10-01 08:33:47.000|236.0             |\n",
      "|2015-10-01 08:33:49.000|236.0             |\n",
      "|2015-10-01 08:33:50.000|236.0             |\n",
      "|2015-10-01 08:33:51.000|236.0             |\n",
      "|2015-10-01 08:33:52.000|236.0             |\n",
      "|2015-10-01 08:33:54.000|236.0             |\n",
      "|2015-10-01 08:33:55.000|236.0             |\n",
      "|2015-10-01 08:33:57.000|236.0             |\n",
      "|2015-10-01 08:33:59.000|236.0             |\n",
      "|2015-10-01 08:34:00.000|236.0             |\n",
      "|2015-10-01 08:34:01.000|236.0             |\n",
      "|2015-10-01 08:34:03.000|236.0             |\n",
      "|2015-10-01 08:34:04.000|236.0             |\n",
      "|2015-10-01 08:34:05.000|236.0             |\n",
      "|2015-10-01 08:34:07.000|236.0             |\n",
      "|2015-10-01 08:34:08.000|236.0             |\n",
      "|2015-10-01 08:34:09.000|236.0             |\n",
      "|2015-10-01 08:34:11.000|236.0             |\n",
      "|2015-10-01 08:34:12.000|236.0             |\n",
      "|2015-10-01 08:34:14.000|236.0             |\n",
      "|2015-10-01 08:34:15.000|236.0             |\n",
      "|2015-10-01 08:34:18.000|236.0             |\n",
      "|2015-10-01 08:34:20.000|236.0             |\n",
      "|2015-10-01 08:34:21.000|236.0             |\n",
      "|2015-10-01 08:34:24.000|236.0             |\n",
      "|2015-10-01 08:34:26.000|236.0             |\n",
      "|2015-10-01 08:34:28.000|236.0             |\n",
      "|2015-10-01 08:34:29.000|236.0             |\n",
      "|2015-10-01 08:34:31.000|236.0             |\n",
      "|2015-10-01 08:34:32.000|236.0             |\n",
      "|2015-10-01 08:34:33.000|236.0             |\n",
      "|2015-10-01 08:34:35.000|236.0             |\n",
      "|2015-10-01 08:34:36.000|236.0             |\n",
      "|2015-10-01 08:34:37.000|236.0             |\n",
      "|2015-10-01 08:34:39.000|236.0             |\n",
      "|2015-10-01 08:34:40.000|236.0             |\n",
      "|2015-10-01 08:34:41.000|236.0             |\n",
      "|2015-10-01 08:34:43.000|236.0             |\n",
      "|2015-10-01 08:34:44.000|236.0             |\n",
      "|2015-10-01 08:34:46.000|236.0             |\n",
      "|2015-10-01 08:34:48.000|236.0             |\n",
      "|2015-10-01 08:34:49.000|236.0             |\n",
      "|2015-10-01 08:34:50.000|236.0             |\n",
      "|2015-10-01 08:34:53.000|236.0             |\n",
      "|2015-10-01 08:34:54.000|236.0             |\n",
      "|2015-10-01 08:34:55.000|236.0             |\n",
      "|2015-10-01 08:34:56.000|236.0             |\n",
      "|2015-10-01 08:34:58.000|236.0             |\n",
      "|2015-10-01 08:34:59.000|236.0             |\n",
      "|2015-10-01 08:35:02.000|236.0             |\n",
      "|2015-10-01 08:35:03.000|236.0             |\n",
      "|2015-10-01 08:35:05.000|236.0             |\n",
      "|2015-10-01 08:35:06.000|236.0             |\n",
      "|2015-10-01 08:35:07.000|236.0             |\n",
      "|2015-10-01 08:35:30.000|236.0             |\n",
      "|2015-10-01 08:35:31.000|236.0             |\n",
      "|2015-10-01 08:35:32.000|236.0             |\n",
      "|2015-10-01 08:35:34.000|236.0             |\n",
      "|2015-10-01 08:35:35.000|236.0             |\n",
      "|2015-10-01 08:35:36.000|236.0             |\n",
      "|2015-10-01 08:35:37.000|236.0             |\n",
      "|2015-10-01 08:35:38.000|236.0             |\n",
      "|2015-10-01 08:35:39.000|236.0             |\n",
      "|2015-10-01 08:35:41.000|236.0             |\n",
      "|2015-10-01 08:35:42.000|236.0             |\n",
      "|2015-10-01 08:35:43.000|236.0             |\n",
      "|2015-10-01 08:35:44.000|236.0             |\n",
      "|2015-10-01 08:35:45.000|236.0             |\n",
      "|2015-10-01 08:35:47.000|236.0             |\n",
      "|2015-10-01 08:35:48.000|236.0             |\n",
      "|2015-10-01 08:35:49.000|236.0             |\n",
      "|2015-10-01 08:35:50.000|236.0             |\n",
      "|2015-10-01 08:35:51.000|236.0             |\n",
      "|2015-10-01 08:35:52.000|236.0             |\n",
      "|2015-10-01 08:35:54.000|236.0             |\n",
      "|2015-10-01 08:35:56.000|236.0             |\n",
      "|2015-10-01 08:35:57.000|236.0             |\n",
      "|2015-10-01 08:35:58.000|236.0             |\n",
      "|2015-10-01 08:36:00.000|236.0             |\n",
      "|2015-10-01 08:36:01.000|236.0             |\n",
      "|2015-10-01 08:36:02.000|236.0             |\n",
      "|2015-10-01 08:36:08.000|236.0             |\n",
      "|2015-10-01 08:36:09.000|236.0             |\n",
      "|2015-10-01 08:36:11.000|236.0             |\n",
      "|2015-10-01 08:36:12.000|236.0             |\n",
      "|2015-10-01 08:36:16.000|236.0             |\n",
      "|2015-10-01 08:36:17.000|236.0             |\n",
      "|2015-10-01 08:36:20.000|236.0             |\n",
      "|2015-10-01 08:36:22.000|236.0             |\n",
      "|2015-10-01 08:36:24.000|236.0             |\n",
      "|2015-10-01 08:36:25.000|236.0             |\n",
      "|2015-10-01 08:36:28.000|236.0             |\n",
      "|2015-10-01 08:36:29.000|236.0             |\n",
      "|2015-10-01 08:36:31.000|236.0             |\n",
      "|2015-10-01 08:36:32.000|236.0             |\n",
      "|2015-10-01 08:36:33.000|236.0             |\n",
      "|2015-10-01 08:36:34.000|236.0             |\n",
      "|2015-10-01 08:36:35.000|236.0             |\n",
      "|2015-10-01 08:36:36.000|236.0             |\n",
      "|2015-10-01 08:36:38.000|236.0             |\n",
      "|2015-10-01 08:36:39.000|236.0             |\n",
      "|2015-10-01 08:36:40.000|236.0             |\n",
      "|2015-10-01 08:36:44.000|236.0             |\n",
      "|2015-10-01 08:36:45.000|236.0             |\n",
      "|2015-10-01 08:36:47.000|236.0             |\n",
      "|2015-10-01 08:36:48.000|236.0             |\n",
      "|2015-10-01 08:36:49.000|236.0             |\n",
      "|2015-10-01 08:36:50.000|236.0             |\n",
      "|2015-10-01 08:36:52.000|236.0             |\n",
      "|2015-10-01 08:36:54.000|236.0             |\n",
      "|2015-10-01 08:36:56.000|236.0             |\n",
      "|2015-10-01 08:37:43.000|236.0             |\n",
      "|2015-10-01 08:37:45.000|236.0             |\n",
      "|2015-10-01 08:37:46.000|236.0             |\n",
      "|2015-10-01 08:37:47.000|236.0             |\n",
      "|2015-10-01 08:37:48.000|236.0             |\n",
      "|2015-10-01 08:37:50.000|236.0             |\n",
      "|2015-10-01 08:37:51.000|236.0             |\n",
      "|2015-10-01 08:37:52.000|236.0             |\n",
      "|2015-10-01 08:37:53.000|236.0             |\n",
      "|2015-10-01 08:37:55.000|236.0             |\n",
      "|2015-10-01 08:37:56.000|236.0             |\n",
      "|2015-10-01 08:37:57.000|236.0             |\n",
      "|2015-10-01 08:37:58.000|236.0             |\n",
      "|2015-10-01 08:38:00.000|236.0             |\n",
      "|2015-10-01 08:38:01.000|236.0             |\n",
      "|2015-10-01 08:38:02.000|236.0             |\n",
      "|2015-10-01 08:38:03.000|236.0             |\n",
      "|2015-10-01 08:38:04.000|236.0             |\n",
      "|2015-10-01 08:38:05.000|236.0             |\n",
      "|2015-10-01 08:38:07.000|236.0             |\n",
      "|2015-10-01 08:38:08.000|236.0             |\n",
      "|2015-10-01 08:38:09.000|236.0             |\n",
      "|2015-10-01 08:38:10.000|236.0             |\n",
      "|2015-10-01 08:38:12.000|236.0             |\n",
      "|2015-10-01 08:38:27.000|236.0             |\n",
      "|2015-10-01 08:38:30.000|236.0             |\n",
      "|2015-10-01 08:38:31.000|236.0             |\n",
      "|2015-10-01 08:38:32.000|236.0             |\n",
      "|2015-10-01 08:38:33.000|236.0             |\n",
      "|2015-10-01 08:38:35.000|236.0             |\n",
      "|2015-10-01 08:38:36.000|236.0             |\n",
      "|2015-10-01 08:38:37.000|236.0             |\n",
      "|2015-10-01 08:38:38.000|236.0             |\n",
      "|2015-10-01 08:38:39.000|236.0             |\n",
      "|2015-10-01 08:38:41.000|236.0             |\n",
      "|2015-10-01 08:38:42.000|236.0             |\n",
      "|2015-10-01 08:38:43.000|236.0             |\n",
      "|2015-10-01 08:38:44.000|236.0             |\n",
      "|2015-10-01 08:38:45.000|236.0             |\n",
      "|2015-10-01 08:38:46.000|236.0             |\n",
      "|2015-10-01 08:38:48.000|236.0             |\n",
      "|2015-10-01 08:38:49.000|236.0             |\n",
      "|2015-10-01 08:38:50.000|236.0             |\n",
      "|2015-10-01 08:38:51.000|236.0             |\n",
      "|2015-10-01 08:38:53.000|236.0             |\n",
      "|2015-10-01 08:38:54.000|236.0             |\n",
      "|2015-10-01 08:38:55.000|236.0             |\n",
      "|2015-10-01 08:38:56.000|236.0             |\n",
      "|2015-10-01 08:38:57.000|236.0             |\n",
      "|2015-10-01 08:38:58.000|236.0             |\n",
      "|2015-10-01 08:39:00.000|236.0             |\n",
      "|2015-10-01 08:39:01.000|236.0             |\n",
      "|2015-10-01 08:39:02.000|236.0             |\n",
      "|2015-10-01 08:39:04.000|236.0             |\n",
      "|2015-10-01 08:39:07.000|236.0             |\n",
      "|2015-10-01 08:39:08.000|236.0             |\n",
      "|2015-10-01 08:39:09.000|236.0             |\n",
      "|2015-10-01 08:39:10.000|236.0             |\n",
      "|2015-10-01 08:39:11.000|236.0             |\n",
      "|2015-10-01 08:39:13.000|236.0             |\n",
      "|2015-10-01 08:39:14.000|236.0             |\n",
      "|2015-10-01 08:39:15.000|236.0             |\n",
      "|2015-10-01 08:39:16.000|236.0             |\n",
      "|2015-10-01 08:39:17.000|236.0             |\n",
      "|2015-10-01 08:39:19.000|236.0             |\n",
      "|2015-10-01 08:39:20.000|236.0             |\n",
      "|2015-10-01 08:39:21.000|236.0             |\n",
      "|2015-10-01 08:39:27.000|236.0             |\n",
      "|2015-10-01 08:39:28.000|236.0             |\n",
      "|2015-10-01 08:39:29.000|236.0             |\n",
      "|2015-10-01 08:39:31.000|236.0             |\n",
      "|2015-10-01 08:39:32.000|236.0             |\n",
      "|2015-10-01 08:39:33.000|236.0             |\n",
      "|2015-10-01 08:39:34.000|236.0             |\n",
      "|2015-10-01 08:39:35.000|236.0             |\n",
      "|2015-10-01 08:39:37.000|236.0             |\n",
      "|2015-10-01 08:39:38.000|236.0             |\n",
      "|2015-10-01 08:39:39.000|236.0             |\n",
      "|2015-10-01 08:39:40.000|236.0             |\n",
      "|2015-10-01 08:39:41.000|236.0             |\n",
      "|2015-10-01 08:39:42.000|236.0             |\n",
      "|2015-10-01 08:39:44.000|236.0             |\n",
      "|2015-10-01 08:39:45.000|236.0             |\n",
      "|2015-10-01 08:39:46.000|236.0             |\n",
      "|2015-10-01 08:39:48.000|236.0             |\n",
      "|2015-10-01 08:39:49.000|236.0             |\n",
      "|2015-10-01 08:39:53.000|236.0             |\n",
      "|2015-10-01 08:39:54.000|236.0             |\n",
      "|2015-10-01 08:39:55.000|236.0             |\n",
      "|2015-10-01 08:39:56.000|236.0             |\n",
      "|2015-10-01 08:39:58.000|236.0             |\n",
      "|2015-10-01 08:39:59.000|236.0             |\n",
      "|2015-10-01 08:40:00.000|236.0             |\n",
      "|2015-10-01 08:40:02.000|236.0             |\n",
      "|2015-10-01 08:40:03.000|236.0             |\n",
      "|2015-10-01 08:40:05.000|236.0             |\n",
      "|2015-10-01 08:40:07.000|236.0             |\n",
      "|2015-10-01 08:40:08.000|236.0             |\n",
      "|2015-10-01 08:40:10.000|236.0             |\n",
      "|2015-10-01 08:40:12.000|236.0             |\n",
      "|2015-10-01 08:40:13.000|236.0             |\n",
      "|2015-10-01 08:40:17.000|236.0             |\n",
      "|2015-10-01 08:40:18.000|236.0             |\n",
      "|2015-10-01 08:40:19.000|236.0             |\n",
      "|2015-10-01 08:40:21.000|236.0             |\n",
      "|2015-10-01 08:40:22.000|236.0             |\n",
      "|2015-10-01 08:40:23.000|236.0             |\n",
      "|2015-10-01 08:40:25.000|236.0             |\n",
      "|2015-10-01 08:40:26.000|236.0             |\n",
      "|2015-10-01 08:40:27.000|236.0             |\n",
      "|2015-10-01 08:40:29.000|236.0             |\n",
      "|2015-10-01 08:40:30.000|236.0             |\n",
      "|2015-10-01 08:40:31.000|236.0             |\n",
      "|2015-10-01 08:40:33.000|236.0             |\n",
      "|2015-10-01 08:40:34.000|236.0             |\n",
      "|2015-10-01 08:40:35.000|236.0             |\n",
      "|2015-10-01 08:40:37.000|236.0             |\n",
      "|2015-10-01 08:40:38.000|236.0             |\n",
      "|2015-10-01 08:40:39.000|236.0             |\n",
      "|2015-10-01 08:40:40.000|236.0             |\n",
      "|2015-10-01 08:40:41.000|236.0             |\n",
      "|2015-10-01 08:40:43.000|236.0             |\n",
      "|2015-10-01 08:40:44.000|236.0             |\n",
      "|2015-10-01 08:40:45.000|236.0             |\n",
      "|2015-10-01 08:40:47.000|236.0             |\n",
      "|2015-10-01 08:40:49.000|236.0             |\n",
      "|2015-10-01 08:40:51.000|236.0             |\n",
      "|2015-10-01 08:40:52.000|236.0             |\n",
      "|2015-10-01 08:40:54.000|236.0             |\n",
      "|2015-10-01 08:40:55.000|236.0             |\n",
      "|2015-10-01 08:40:56.000|236.0             |\n",
      "|2015-10-01 08:40:57.000|236.0             |\n",
      "|2015-10-01 08:40:59.000|236.0             |\n",
      "|2015-10-01 08:41:01.000|236.0             |\n",
      "|2015-10-01 08:41:02.000|236.0             |\n",
      "|2015-10-01 08:41:03.000|236.0             |\n",
      "|2015-10-01 08:41:04.000|236.0             |\n",
      "|2015-10-01 08:41:06.000|236.0             |\n",
      "|2015-10-01 08:41:10.000|236.0             |\n",
      "|2015-10-01 08:41:11.000|236.0             |\n",
      "|2015-10-01 08:41:12.000|236.0             |\n",
      "|2015-10-01 08:41:14.000|236.0             |\n",
      "|2015-10-01 08:41:15.000|236.0             |\n",
      "|2015-10-01 08:41:16.000|236.0             |\n",
      "|2015-10-01 08:41:18.000|236.0             |\n",
      "|2015-10-01 08:41:19.000|236.0             |\n",
      "|2015-10-01 08:41:20.000|236.0             |\n",
      "|2015-10-01 08:41:21.000|236.0             |\n",
      "|2015-10-01 08:41:22.000|236.0             |\n",
      "|2015-10-01 08:41:24.000|236.0             |\n",
      "|2015-10-01 08:41:25.000|236.0             |\n",
      "|2015-10-01 08:41:26.000|236.0             |\n",
      "|2015-10-01 08:41:28.000|236.0             |\n",
      "|2015-10-01 08:41:29.000|236.0             |\n",
      "|2015-10-01 08:41:30.000|236.0             |\n",
      "|2015-10-01 08:41:31.000|236.0             |\n",
      "|2015-10-01 08:41:32.000|236.0             |\n",
      "|2015-10-01 08:41:33.000|236.0             |\n",
      "|2015-10-01 08:41:36.000|236.0             |\n",
      "|2015-10-01 08:41:40.000|236.0             |\n",
      "|2015-10-01 08:41:41.000|236.0             |\n",
      "|2015-10-01 08:41:42.000|236.0             |\n",
      "|2015-10-01 08:41:44.000|236.0             |\n",
      "|2015-10-01 08:41:45.000|236.0             |\n",
      "|2015-10-01 08:41:46.000|236.0             |\n",
      "|2015-10-01 08:41:47.000|236.0             |\n",
      "|2015-10-01 08:41:49.000|236.0             |\n",
      "|2015-10-01 08:41:50.000|236.0             |\n",
      "|2015-10-01 08:41:51.000|236.0             |\n",
      "|2015-10-01 08:41:52.000|236.0             |\n",
      "|2015-10-01 08:41:54.000|236.0             |\n",
      "|2015-10-01 08:41:55.000|236.0             |\n",
      "|2015-10-01 08:41:56.000|236.0             |\n",
      "|2015-10-01 08:41:57.000|236.0             |\n",
      "|2015-10-01 08:41:58.000|236.0             |\n",
      "|2015-10-01 08:41:59.000|236.0             |\n",
      "|2015-10-01 08:42:01.000|236.0             |\n",
      "|2015-10-01 08:42:02.000|236.0             |\n",
      "|2015-10-01 08:42:03.000|236.0             |\n",
      "|2015-10-01 08:42:05.000|236.0             |\n",
      "|2015-10-01 08:42:06.000|236.0             |\n",
      "|2015-10-01 08:42:08.000|236.0             |\n",
      "|2015-10-01 08:42:09.000|236.0             |\n",
      "|2015-10-01 08:42:11.000|236.0             |\n",
      "|2015-10-01 08:42:12.000|236.0             |\n",
      "|2015-10-01 08:42:13.000|236.0             |\n",
      "|2015-10-01 08:42:14.000|236.0             |\n",
      "|2015-10-01 08:42:16.000|236.0             |\n",
      "|2015-10-01 08:42:17.000|236.0             |\n",
      "|2015-10-01 08:42:19.000|236.0             |\n",
      "|2015-10-01 08:42:20.000|236.0             |\n",
      "|2015-10-01 08:42:22.000|236.0             |\n",
      "|2015-10-01 08:42:23.000|236.0             |\n",
      "|2015-10-01 08:42:24.000|236.0             |\n",
      "|2015-10-01 08:42:25.000|236.0             |\n",
      "|2015-10-01 08:42:26.000|236.0             |\n",
      "|2015-10-01 08:42:28.000|236.0             |\n",
      "|2015-10-01 08:42:29.000|236.0             |\n",
      "|2015-10-01 08:42:30.000|236.0             |\n",
      "|2015-10-01 08:42:31.000|236.0             |\n",
      "|2015-10-01 08:42:34.000|236.0             |\n",
      "|2015-10-01 08:42:36.000|236.0             |\n",
      "|2015-10-01 08:42:37.000|236.0             |\n",
      "|2015-10-01 08:42:38.000|236.0             |\n",
      "|2015-10-01 08:42:39.000|236.0             |\n",
      "|2015-10-01 08:42:41.000|236.0             |\n",
      "|2015-10-01 08:42:42.000|236.0             |\n",
      "|2015-10-01 08:42:43.000|236.0             |\n",
      "|2015-10-01 08:42:45.000|236.0             |\n",
      "|2015-10-01 08:42:48.000|236.0             |\n",
      "|2015-10-01 08:42:50.000|236.0             |\n",
      "|2015-10-01 08:42:53.000|236.0             |\n",
      "|2015-10-01 08:42:54.000|236.0             |\n",
      "|2015-10-01 08:42:56.000|236.0             |\n",
      "|2015-10-01 08:42:58.000|236.0             |\n",
      "|2015-10-01 08:42:59.000|236.0             |\n",
      "|2015-10-01 08:43:00.000|236.0             |\n",
      "|2015-10-01 08:43:01.000|236.0             |\n",
      "|2015-10-01 08:43:02.000|236.0             |\n",
      "|2015-10-01 08:43:04.000|236.0             |\n",
      "|2015-10-01 08:43:05.000|236.0             |\n",
      "|2015-10-01 08:43:06.000|236.0             |\n",
      "|2015-10-01 08:43:07.000|236.0             |\n",
      "|2015-10-01 08:43:09.000|236.0             |\n",
      "|2015-10-01 08:43:10.000|236.0             |\n",
      "|2015-10-01 08:43:11.000|236.0             |\n",
      "|2015-10-01 08:43:13.000|236.0             |\n",
      "|2015-10-01 08:43:14.000|236.0             |\n",
      "|2015-10-01 08:43:15.000|236.0             |\n",
      "|2015-10-01 08:43:19.000|236.0             |\n",
      "|2015-10-01 08:43:20.000|236.0             |\n",
      "|2015-10-01 08:43:21.000|236.0             |\n",
      "|2015-10-01 08:43:23.000|236.0             |\n",
      "|2015-10-01 08:43:24.000|236.0             |\n",
      "|2015-10-01 08:43:25.000|236.0             |\n",
      "|2015-10-01 08:43:26.000|236.0             |\n",
      "|2015-10-01 08:43:29.000|236.0             |\n",
      "|2015-10-01 08:43:30.000|236.0             |\n",
      "|2015-10-01 08:43:31.000|236.0             |\n",
      "|2015-10-01 08:43:32.000|236.0             |\n",
      "|2015-10-01 08:43:34.000|236.0             |\n",
      "|2015-10-01 08:43:36.000|236.0             |\n",
      "|2015-10-01 08:43:37.000|236.0             |\n",
      "|2015-10-01 08:43:39.000|236.0             |\n",
      "|2015-10-01 08:43:40.000|236.0             |\n",
      "|2015-10-01 08:43:41.000|236.0             |\n",
      "|2015-10-01 08:43:42.000|236.0             |\n",
      "|2015-10-01 08:43:43.000|236.0             |\n",
      "|2015-10-01 08:43:45.000|236.0             |\n",
      "|2015-10-01 08:43:46.000|236.0             |\n",
      "|2015-10-01 08:43:47.000|236.0             |\n",
      "|2015-10-01 08:43:48.000|236.0             |\n",
      "|2015-10-01 08:43:50.000|236.0             |\n",
      "|2015-10-01 08:43:51.000|236.0             |\n",
      "|2015-10-01 08:43:52.000|236.0             |\n",
      "|2015-10-01 08:43:54.000|236.0             |\n",
      "|2015-10-01 08:43:55.000|236.0             |\n",
      "|2015-10-01 08:43:56.000|236.0             |\n",
      "|2015-10-01 08:43:58.000|236.0             |\n",
      "|2015-10-01 08:43:59.000|236.0             |\n",
      "|2015-10-01 08:44:00.000|236.0             |\n",
      "|2015-10-01 08:44:01.000|236.0             |\n",
      "|2015-10-01 08:44:03.000|236.0             |\n",
      "|2015-10-01 08:44:04.000|236.0             |\n",
      "|2015-10-01 08:44:05.000|236.0             |\n",
      "|2015-10-01 08:44:07.000|236.0             |\n",
      "|2015-10-01 08:44:08.000|236.0             |\n",
      "|2015-10-01 08:44:12.000|236.0             |\n",
      "|2015-10-01 08:44:13.000|236.0             |\n",
      "|2015-10-01 08:44:15.000|236.0             |\n",
      "|2015-10-01 08:44:16.000|236.0             |\n",
      "|2015-10-01 08:44:17.000|236.0             |\n",
      "|2015-10-01 08:44:19.000|236.0             |\n",
      "|2015-10-01 08:44:20.000|236.0             |\n",
      "|2015-10-01 08:44:21.000|236.0             |\n",
      "|2015-10-01 08:44:22.000|236.0             |\n",
      "|2015-10-01 08:44:24.000|236.0             |\n",
      "|2015-10-01 08:44:25.000|236.0             |\n",
      "|2015-10-01 08:44:28.000|236.0             |\n",
      "|2015-10-01 08:44:30.000|236.0             |\n",
      "|2015-10-01 08:44:31.000|236.0             |\n",
      "|2015-10-01 08:44:32.000|236.0             |\n",
      "|2015-10-01 08:44:33.000|236.0             |\n",
      "|2015-10-01 08:44:35.000|236.0             |\n",
      "|2015-10-01 08:44:36.000|236.0             |\n",
      "|2015-10-01 08:44:37.000|236.0             |\n",
      "|2015-10-01 08:44:39.000|236.0             |\n",
      "|2015-10-01 08:44:40.000|236.0             |\n",
      "|2015-10-01 08:44:41.000|236.0             |\n",
      "|2015-10-01 08:44:42.000|236.0             |\n",
      "|2015-10-01 08:44:44.000|236.0             |\n",
      "|2015-10-01 08:44:46.000|236.0             |\n",
      "|2015-10-01 08:44:47.000|236.0             |\n",
      "|2015-10-01 08:44:51.000|236.0             |\n",
      "|2015-10-01 08:44:53.000|236.0             |\n",
      "|2015-10-01 08:44:55.000|236.0             |\n",
      "|2015-10-01 08:44:56.000|236.0             |\n",
      "|2015-10-01 08:44:58.000|236.0             |\n",
      "|2015-10-01 08:45:01.000|236.0             |\n",
      "|2015-10-01 08:45:03.000|236.0             |\n",
      "|2015-10-01 08:45:06.000|236.0             |\n",
      "|2015-10-01 08:45:08.000|236.0             |\n",
      "|2015-10-01 08:45:09.000|236.0             |\n",
      "|2015-10-01 08:45:10.000|236.0             |\n",
      "|2015-10-01 08:45:11.000|236.0             |\n",
      "|2015-10-01 08:45:12.000|236.0             |\n",
      "|2015-10-01 08:45:14.000|236.0             |\n",
      "|2015-10-01 08:45:15.000|236.0             |\n",
      "|2015-10-01 08:45:16.000|236.0             |\n",
      "|2015-10-01 08:45:18.000|236.0             |\n",
      "|2015-10-01 08:45:19.000|236.0             |\n",
      "|2015-10-01 08:45:20.000|236.0             |\n",
      "|2015-10-01 08:45:22.000|236.0             |\n",
      "|2015-10-01 08:45:24.000|236.0             |\n",
      "|2015-10-01 08:45:25.000|236.0             |\n",
      "|2015-10-01 08:45:26.000|236.0             |\n",
      "|2015-10-01 08:45:28.000|236.0             |\n",
      "|2015-10-01 08:45:29.000|236.0             |\n",
      "|2015-10-01 08:45:31.000|236.0             |\n",
      "|2015-10-01 08:45:34.000|236.0             |\n",
      "|2015-10-01 08:45:35.000|236.0             |\n",
      "|2015-10-01 08:45:37.000|236.0             |\n",
      "|2015-10-01 08:45:38.000|236.0             |\n",
      "|2015-10-01 08:45:39.000|236.0             |\n",
      "|2015-10-01 08:45:40.000|236.0             |\n",
      "|2015-10-01 08:45:42.000|236.0             |\n",
      "|2015-10-01 08:45:43.000|236.0             |\n",
      "|2015-10-01 08:45:44.000|236.0             |\n",
      "|2015-10-01 08:45:45.000|236.0             |\n",
      "|2015-10-01 08:45:47.000|236.0             |\n",
      "|2015-10-01 08:45:48.000|236.0             |\n",
      "|2015-10-01 08:45:49.000|236.0             |\n",
      "|2015-10-01 08:45:51.000|236.0             |\n",
      "|2015-10-01 08:45:52.000|236.0             |\n",
      "|2015-10-01 08:45:56.000|236.0             |\n",
      "|2015-10-01 08:45:57.000|236.0             |\n",
      "|2015-10-01 08:46:03.000|236.0             |\n",
      "|2015-10-01 08:46:04.000|236.0             |\n",
      "|2015-10-01 08:46:05.000|236.0             |\n",
      "|2015-10-01 08:46:12.000|236.0             |\n",
      "|2015-10-01 08:46:13.000|236.0             |\n",
      "|2015-10-01 08:46:15.000|236.0             |\n",
      "|2015-10-01 08:46:16.000|236.0             |\n",
      "|2015-10-01 08:46:17.000|236.0             |\n",
      "|2015-10-01 08:46:26.000|236.0             |\n",
      "|2015-10-01 08:46:27.000|236.0             |\n",
      "|2015-10-01 08:46:28.000|236.0             |\n",
      "|2015-10-01 08:46:30.000|236.0             |\n",
      "|2015-10-01 08:46:31.000|236.0             |\n",
      "|2015-10-01 08:46:32.000|236.0             |\n",
      "|2015-10-01 08:46:34.000|236.0             |\n",
      "|2015-10-01 08:46:35.000|236.0             |\n",
      "|2015-10-01 08:46:36.000|236.0             |\n",
      "|2015-10-01 08:46:38.000|236.0             |\n",
      "|2015-10-01 08:46:39.000|236.0             |\n",
      "|2015-10-01 08:46:40.000|236.0             |\n",
      "|2015-10-01 08:46:41.000|236.0             |\n",
      "|2015-10-01 08:46:43.000|236.0             |\n",
      "|2015-10-01 08:46:44.000|236.0             |\n",
      "|2015-10-01 08:46:45.000|236.0             |\n",
      "|2015-10-01 08:46:47.000|236.0             |\n",
      "|2015-10-01 08:46:48.000|236.0             |\n",
      "|2015-10-01 08:46:50.000|236.0             |\n",
      "|2015-10-01 08:46:52.000|236.0             |\n",
      "|2015-10-01 08:46:53.000|236.0             |\n",
      "|2015-10-01 08:46:55.000|236.0             |\n",
      "|2015-10-01 08:46:56.000|236.0             |\n",
      "|2015-10-01 08:46:57.000|236.0             |\n",
      "|2015-10-01 08:46:58.000|236.0             |\n",
      "|2015-10-01 08:46:59.000|236.0             |\n",
      "|2015-10-01 08:47:00.000|236.0             |\n",
      "|2015-10-01 08:47:02.000|236.0             |\n",
      "|2015-10-01 08:47:03.000|236.0             |\n",
      "|2015-10-01 08:47:04.000|236.0             |\n",
      "|2015-10-01 08:47:18.000|236.0             |\n",
      "|2015-10-01 08:47:22.000|236.0             |\n",
      "|2015-10-01 08:47:23.000|236.0             |\n",
      "|2015-10-01 08:47:25.000|236.0             |\n",
      "|2015-10-01 08:47:27.000|236.0             |\n",
      "|2015-10-01 08:47:29.000|236.0             |\n",
      "|2015-10-01 08:47:30.000|236.0             |\n",
      "|2015-10-01 08:47:32.000|236.0             |\n",
      "|2015-10-01 08:47:33.000|236.0             |\n",
      "|2015-10-01 08:47:35.000|236.0             |\n",
      "|2015-10-01 08:47:36.000|236.0             |\n",
      "|2015-10-01 08:47:38.000|236.0             |\n",
      "|2015-10-01 08:47:40.000|236.0             |\n",
      "|2015-10-01 08:47:41.000|236.0             |\n",
      "|2015-10-01 08:47:43.000|236.0             |\n",
      "|2015-10-01 08:47:44.000|236.0             |\n",
      "|2015-10-01 08:47:46.000|236.0             |\n",
      "|2015-10-01 08:47:48.000|236.0             |\n",
      "|2015-10-01 08:47:49.000|236.0             |\n",
      "|2015-10-01 08:47:51.000|236.0             |\n",
      "|2015-10-01 08:47:53.000|236.0             |\n",
      "|2015-10-01 08:47:55.000|236.0             |\n",
      "|2015-10-01 08:47:57.000|236.0             |\n",
      "|2015-10-01 08:47:58.000|236.0             |\n",
      "|2015-10-01 08:48:00.000|236.0             |\n",
      "|2015-10-01 08:48:02.000|236.0             |\n",
      "|2015-10-01 08:48:03.000|236.0             |\n",
      "|2015-10-01 08:48:05.000|236.0             |\n",
      "|2015-10-01 08:48:06.000|236.0             |\n",
      "|2015-10-01 08:48:08.000|236.0             |\n",
      "|2015-10-01 08:48:10.000|236.0             |\n",
      "|2015-10-01 08:48:11.000|236.0             |\n",
      "|2015-10-01 08:48:13.000|236.0             |\n",
      "|2015-10-01 08:48:16.000|236.0             |\n",
      "|2015-10-01 08:48:18.000|236.0             |\n",
      "|2015-10-01 08:48:20.000|236.0             |\n",
      "|2015-10-01 08:48:21.000|236.0             |\n",
      "|2015-10-01 08:48:23.000|236.0             |\n",
      "|2015-10-01 08:48:25.000|236.0             |\n",
      "|2015-10-01 08:48:27.000|236.0             |\n",
      "|2015-10-01 08:48:28.000|236.0             |\n",
      "|2015-10-01 08:48:30.000|236.0             |\n",
      "|2015-10-01 08:48:32.000|236.0             |\n",
      "|2015-10-01 08:48:33.000|236.0             |\n",
      "|2015-10-01 08:48:35.000|236.0             |\n",
      "|2015-10-01 08:48:36.000|236.0             |\n",
      "|2015-10-01 08:48:38.000|236.0             |\n",
      "|2015-10-01 08:48:39.000|236.0             |\n",
      "|2015-10-01 08:48:43.000|236.0             |\n",
      "|2015-10-01 08:48:45.000|236.0             |\n",
      "|2015-10-01 08:48:46.000|236.0             |\n",
      "|2015-10-01 08:48:48.000|236.0             |\n",
      "|2015-10-01 08:48:50.000|236.0             |\n",
      "|2015-10-01 08:48:52.000|236.0             |\n",
      "|2015-10-01 08:48:53.000|236.0             |\n",
      "|2015-10-01 08:48:56.000|236.0             |\n",
      "|2015-10-01 08:48:58.000|236.0             |\n",
      "|2015-10-01 08:49:00.000|236.0             |\n",
      "|2015-10-01 08:49:01.000|236.0             |\n",
      "|2015-10-01 08:49:03.000|236.0             |\n",
      "|2015-10-01 08:49:04.000|236.0             |\n",
      "|2015-10-01 08:49:06.000|236.0             |\n",
      "|2015-10-01 08:49:07.000|236.0             |\n",
      "|2015-10-01 08:49:11.000|236.0             |\n",
      "|2015-10-01 08:49:13.000|236.0             |\n",
      "|2015-10-01 08:49:14.000|236.0             |\n",
      "|2015-10-01 08:49:16.000|236.0             |\n",
      "|2015-10-01 08:49:18.000|236.0             |\n",
      "|2015-10-01 08:49:20.000|236.0             |\n",
      "|2015-10-01 08:49:21.000|236.0             |\n",
      "|2015-10-01 08:49:23.000|236.0             |\n",
      "|2015-10-01 08:49:25.000|236.0             |\n",
      "|2015-10-01 08:49:27.000|236.0             |\n",
      "|2015-10-01 08:49:28.000|236.0             |\n",
      "|2015-10-01 08:49:30.000|236.0             |\n",
      "|2015-10-01 08:49:31.000|236.0             |\n",
      "|2015-10-01 08:49:33.000|236.0             |\n",
      "|2015-10-01 08:49:35.000|236.0             |\n",
      "|2015-10-01 08:49:36.000|236.0             |\n",
      "|2015-10-01 08:49:37.000|236.0             |\n",
      "|2015-10-01 08:49:39.000|236.0             |\n",
      "|2015-10-01 08:49:42.000|236.0             |\n",
      "|2015-10-01 08:49:43.000|236.0             |\n",
      "|2015-10-01 08:49:45.000|236.0             |\n",
      "|2015-10-01 08:49:47.000|236.0             |\n",
      "|2015-10-01 08:49:48.000|236.0             |\n",
      "|2015-10-01 08:49:52.000|236.0             |\n",
      "|2015-10-01 08:49:54.000|236.0             |\n",
      "|2015-10-01 08:49:56.000|236.0             |\n",
      "|2015-10-01 08:49:57.000|236.0             |\n",
      "|2015-10-01 08:49:59.000|236.0             |\n",
      "|2015-10-01 08:50:01.000|236.0             |\n",
      "|2015-10-01 08:50:03.000|236.0             |\n",
      "|2015-10-01 08:50:04.000|236.0             |\n",
      "|2015-10-01 08:50:06.000|236.0             |\n",
      "|2015-10-01 08:50:10.000|236.0             |\n",
      "|2015-10-01 08:50:35.000|236.0             |\n",
      "|2015-10-01 08:50:36.000|236.0             |\n",
      "|2015-10-01 08:50:38.000|236.0             |\n",
      "|2015-10-01 08:50:39.000|236.0             |\n",
      "|2015-10-01 08:50:41.000|236.0             |\n",
      "|2015-10-01 08:50:43.000|236.0             |\n",
      "|2015-10-01 08:50:45.000|236.0             |\n",
      "|2015-10-01 08:50:46.000|236.0             |\n",
      "|2015-10-01 08:50:48.000|236.0             |\n",
      "|2015-10-01 08:50:50.000|236.0             |\n",
      "|2015-10-01 08:50:51.000|236.0             |\n",
      "|2015-10-01 08:50:53.000|236.0             |\n",
      "|2015-10-01 08:50:55.000|236.0             |\n",
      "|2015-10-01 08:50:59.000|236.0             |\n",
      "|2015-10-01 08:51:01.000|236.0             |\n",
      "|2015-10-01 08:51:03.000|236.0             |\n",
      "|2015-10-01 08:51:04.000|236.0             |\n",
      "|2015-10-01 08:51:06.000|236.0             |\n",
      "|2015-10-01 08:51:08.000|236.0             |\n",
      "|2015-10-01 08:51:09.000|236.0             |\n",
      "|2015-10-01 08:51:10.000|236.0             |\n",
      "|2015-10-01 08:51:12.000|236.0             |\n",
      "|2015-10-01 08:51:13.000|236.0             |\n",
      "|2015-10-01 08:51:15.000|236.0             |\n",
      "|2015-10-01 08:51:17.000|236.0             |\n",
      "|2015-10-01 08:51:19.000|236.0             |\n",
      "|2015-10-01 08:51:24.000|236.0             |\n",
      "|2015-10-01 08:51:25.000|236.0             |\n",
      "|2015-10-01 08:51:26.000|236.0             |\n",
      "|2015-10-01 08:51:28.000|236.0             |\n",
      "|2015-10-01 08:51:29.000|236.0             |\n",
      "|2015-10-01 08:51:31.000|236.0             |\n",
      "|2015-10-01 08:51:33.000|236.0             |\n",
      "|2015-10-01 08:51:35.000|236.0             |\n",
      "|2015-10-01 08:51:36.000|236.0             |\n",
      "|2015-10-01 08:51:38.000|236.0             |\n",
      "|2015-10-01 08:51:40.000|236.0             |\n",
      "|2015-10-01 08:51:41.000|236.0             |\n",
      "|2015-10-01 08:51:43.000|236.0             |\n",
      "|2015-10-01 08:51:44.000|236.0             |\n",
      "|2015-10-01 08:51:46.000|236.0             |\n",
      "|2015-10-01 08:51:52.000|236.0             |\n",
      "|2015-10-01 08:51:53.000|236.0             |\n",
      "|2015-10-01 08:51:59.000|236.0             |\n",
      "|2015-10-01 08:52:00.000|236.0             |\n",
      "|2015-10-01 08:52:02.000|236.0             |\n",
      "|2015-10-01 08:52:03.000|236.0             |\n",
      "|2015-10-01 08:52:05.000|236.0             |\n",
      "|2015-10-01 08:52:06.000|236.0             |\n",
      "|2015-10-01 08:52:08.000|236.0             |\n",
      "|2015-10-01 08:52:09.000|236.0             |\n",
      "|2015-10-01 08:52:18.000|236.0             |\n",
      "|2015-10-01 08:52:19.000|236.0             |\n",
      "|2015-10-01 08:52:24.000|236.0             |\n",
      "|2015-10-01 08:52:25.000|236.0             |\n",
      "|2015-10-01 08:52:27.000|236.0             |\n",
      "|2015-10-01 08:52:28.000|236.0             |\n",
      "|2015-10-01 08:52:30.000|236.0             |\n",
      "|2015-10-01 08:52:32.000|236.0             |\n",
      "|2015-10-01 08:52:34.000|236.0             |\n",
      "|2015-10-01 08:52:35.000|236.0             |\n",
      "|2015-10-01 08:52:36.000|236.0             |\n",
      "|2015-10-01 08:52:38.000|236.0             |\n",
      "|2015-10-01 08:52:41.000|236.0             |\n",
      "|2015-10-01 08:52:43.000|236.0             |\n",
      "|2015-10-01 08:52:45.000|236.0             |\n",
      "|2015-10-01 08:52:47.000|236.0             |\n",
      "|2015-10-01 08:52:48.000|236.0             |\n",
      "|2015-10-01 08:52:50.000|236.0             |\n",
      "|2015-10-01 08:52:51.000|236.0             |\n",
      "|2015-10-01 08:52:52.000|236.0             |\n",
      "|2015-10-01 08:52:54.000|236.0             |\n",
      "|2015-10-01 08:52:55.000|236.0             |\n",
      "|2015-10-01 08:52:57.000|236.0             |\n",
      "|2015-10-01 08:52:59.000|236.0             |\n",
      "|2015-10-01 08:53:00.000|236.0             |\n",
      "|2015-10-01 08:53:02.000|236.0             |\n",
      "|2015-10-01 08:53:03.000|236.0             |\n",
      "|2015-10-01 08:53:05.000|236.0             |\n",
      "|2015-10-01 08:53:07.000|236.0             |\n",
      "|2015-10-01 08:53:08.000|236.0             |\n",
      "|2015-10-01 08:53:11.000|236.0             |\n",
      "|2015-10-01 08:53:13.000|236.0             |\n",
      "|2015-10-01 08:53:14.000|236.0             |\n",
      "|2015-10-01 08:53:16.000|236.0             |\n",
      "|2015-10-01 08:53:18.000|236.0             |\n",
      "|2015-10-01 08:53:19.000|236.0             |\n",
      "|2015-10-01 08:53:21.000|236.0             |\n",
      "|2015-10-01 08:53:23.000|236.0             |\n",
      "|2015-10-01 08:53:24.000|236.0             |\n",
      "|2015-10-01 08:53:26.000|236.0             |\n",
      "|2015-10-01 08:53:28.000|236.0             |\n",
      "|2015-10-01 08:53:29.000|236.0             |\n",
      "|2015-10-01 08:53:31.000|236.0             |\n",
      "|2015-10-01 08:53:32.000|236.0             |\n",
      "|2015-10-01 08:53:34.000|236.0             |\n",
      "|2015-10-01 08:53:36.000|236.0             |\n",
      "|2015-10-01 08:53:37.000|236.0             |\n",
      "|2015-10-01 08:53:40.000|236.0             |\n",
      "|2015-10-01 08:53:43.000|236.0             |\n",
      "|2015-10-01 08:53:49.000|236.0             |\n",
      "|2015-10-01 08:53:50.000|236.0             |\n",
      "|2015-10-01 08:53:52.000|236.0             |\n",
      "|2015-10-01 08:53:54.000|236.0             |\n",
      "|2015-10-01 08:53:55.000|236.0             |\n",
      "|2015-10-01 08:54:03.000|236.0             |\n",
      "|2015-10-01 08:54:04.000|236.0             |\n",
      "|2015-10-01 08:54:06.000|236.0             |\n",
      "|2015-10-01 08:54:07.000|236.0             |\n",
      "|2015-10-01 08:54:09.000|236.0             |\n",
      "|2015-10-01 08:54:10.000|236.0             |\n",
      "|2015-10-01 08:54:12.000|236.0             |\n",
      "|2015-10-01 08:54:13.000|236.0             |\n",
      "|2015-10-01 08:54:15.000|236.0             |\n",
      "|2015-10-01 08:54:17.000|236.0             |\n",
      "|2015-10-01 08:54:18.000|236.0             |\n",
      "|2015-10-01 08:54:20.000|236.0             |\n",
      "|2015-10-01 08:54:22.000|236.0             |\n",
      "|2015-10-01 08:54:24.000|236.0             |\n",
      "|2015-10-01 08:54:25.000|236.0             |\n",
      "|2015-10-01 08:54:27.000|236.0             |\n",
      "|2015-10-01 08:54:28.000|236.0             |\n",
      "|2015-10-01 08:54:29.000|236.0             |\n",
      "|2015-10-01 08:54:31.000|236.0             |\n",
      "|2015-10-01 08:54:33.000|236.0             |\n",
      "|2015-10-01 08:54:34.000|236.0             |\n",
      "|2015-10-01 08:54:37.000|236.0             |\n",
      "|2015-10-01 08:54:38.000|236.0             |\n",
      "|2015-10-01 08:54:40.000|236.0             |\n",
      "|2015-10-01 08:54:44.000|236.0             |\n",
      "|2015-10-01 08:54:46.000|236.0             |\n",
      "|2015-10-01 08:54:48.000|236.0             |\n",
      "|2015-10-01 08:54:49.000|236.0             |\n",
      "|2015-10-01 08:54:51.000|236.0             |\n",
      "|2015-10-01 08:54:53.000|236.0             |\n",
      "|2015-10-01 08:55:02.000|236.0             |\n",
      "|2015-10-01 08:55:06.000|236.0             |\n",
      "|2015-10-01 08:55:14.000|236.0             |\n",
      "|2015-10-01 08:55:17.000|236.0             |\n",
      "|2015-10-01 08:55:18.000|236.0             |\n",
      "|2015-10-01 08:55:20.000|236.0             |\n",
      "|2015-10-01 08:55:22.000|236.0             |\n",
      "|2015-10-01 08:55:24.000|236.0             |\n",
      "|2015-10-01 08:55:26.000|236.0             |\n",
      "|2015-10-01 08:55:28.000|236.0             |\n",
      "|2015-10-01 08:55:30.000|236.0             |\n",
      "|2015-10-01 08:55:32.000|236.0             |\n",
      "|2015-10-01 08:55:34.000|236.0             |\n",
      "|2015-10-01 08:55:35.000|236.0             |\n",
      "|2015-10-01 08:55:37.000|236.0             |\n",
      "|2015-10-01 08:55:39.000|236.0             |\n",
      "|2015-10-01 08:55:40.000|236.0             |\n",
      "|2015-10-01 08:55:46.000|236.0             |\n",
      "|2015-10-01 08:55:47.000|236.0             |\n",
      "|2015-10-01 08:55:49.000|236.0             |\n",
      "|2015-10-01 08:55:50.000|236.0             |\n",
      "|2015-10-01 08:55:52.000|236.0             |\n",
      "|2015-10-01 08:56:40.000|236.0             |\n",
      "|2015-10-01 08:56:43.000|236.0             |\n",
      "|2015-10-01 08:56:44.000|236.0             |\n",
      "|2015-10-01 08:56:51.000|236.0             |\n",
      "|2015-10-01 08:56:52.000|236.0             |\n",
      "|2015-10-01 08:56:55.000|236.0             |\n",
      "|2015-10-01 08:56:57.000|236.0             |\n",
      "|2015-10-01 08:57:04.000|236.0             |\n",
      "|2015-10-01 08:57:07.000|236.0             |\n",
      "|2015-10-01 08:57:09.000|236.0             |\n",
      "|2015-10-01 08:57:10.000|236.0             |\n",
      "|2015-10-01 08:57:12.000|236.0             |\n",
      "|2015-10-01 08:57:15.000|236.0             |\n",
      "|2015-10-01 08:57:16.000|236.0             |\n",
      "|2015-10-01 08:57:18.000|236.0             |\n",
      "|2015-10-01 08:57:19.000|236.0             |\n",
      "|2015-10-01 08:57:22.000|236.0             |\n",
      "|2015-10-01 08:57:23.000|236.0             |\n",
      "|2015-10-01 08:57:24.000|236.0             |\n",
      "|2015-10-01 08:57:26.000|236.0             |\n",
      "|2015-10-01 08:57:27.000|236.0             |\n",
      "|2015-10-01 08:57:28.000|236.0             |\n",
      "|2015-10-01 08:57:30.000|236.0             |\n",
      "|2015-10-01 08:57:34.000|236.0             |\n",
      "|2015-10-01 08:57:36.000|236.0             |\n",
      "|2015-10-01 08:57:40.000|236.0             |\n",
      "|2015-10-01 08:57:44.000|236.0             |\n",
      "|2015-10-01 08:57:45.000|236.0             |\n",
      "|2015-10-01 08:57:47.000|236.0             |\n",
      "|2015-10-01 08:57:48.000|236.0             |\n",
      "|2015-10-01 08:57:52.000|236.0             |\n",
      "|2015-10-01 08:57:53.000|236.0             |\n",
      "|2015-10-01 08:57:57.000|236.0             |\n",
      "|2015-10-01 08:57:59.000|236.0             |\n",
      "|2015-10-01 08:58:01.000|236.0             |\n",
      "|2015-10-01 08:58:02.000|236.0             |\n",
      "|2015-10-01 08:58:04.000|236.0             |\n",
      "|2015-10-01 08:58:06.000|236.0             |\n",
      "|2015-10-01 08:58:08.000|236.0             |\n",
      "|2015-10-01 08:58:09.000|236.0             |\n",
      "|2015-10-01 08:58:11.000|236.0             |\n",
      "|2015-10-01 08:58:13.000|236.0             |\n",
      "|2015-10-01 08:58:14.000|236.0             |\n",
      "|2015-10-01 08:58:16.000|236.0             |\n",
      "|2015-10-01 08:58:18.000|236.0             |\n",
      "|2015-10-01 08:58:19.000|236.0             |\n",
      "|2015-10-01 08:58:21.000|236.0             |\n",
      "|2015-10-01 08:58:24.000|236.0             |\n",
      "|2015-10-01 08:58:25.000|236.0             |\n",
      "|2015-10-01 08:58:28.000|236.0             |\n",
      "|2015-10-01 08:58:30.000|236.0             |\n",
      "|2015-10-01 08:58:32.000|236.0             |\n",
      "|2015-10-01 08:58:36.000|236.0             |\n",
      "|2015-10-01 08:58:37.000|236.0             |\n",
      "|2015-10-01 08:58:39.000|236.0             |\n",
      "|2015-10-01 08:58:40.000|236.0             |\n",
      "|2015-10-01 08:58:41.000|236.0             |\n",
      "|2015-10-01 08:58:43.000|236.0             |\n",
      "|2015-10-01 08:58:45.000|236.0             |\n",
      "|2015-10-01 08:58:47.000|236.0             |\n",
      "|2015-10-01 08:58:48.000|236.0             |\n",
      "|2015-10-01 08:58:51.000|236.0             |\n",
      "|2015-10-01 08:58:53.000|236.0             |\n",
      "|2015-10-01 08:58:54.000|236.0             |\n",
      "|2015-10-01 08:58:56.000|236.0             |\n",
      "|2015-10-01 08:58:59.000|236.0             |\n",
      "|2015-10-01 08:59:01.000|236.0             |\n",
      "|2015-10-01 08:59:03.000|236.0             |\n",
      "|2015-10-01 08:59:05.000|236.0             |\n",
      "|2015-10-01 08:59:06.000|236.0             |\n",
      "|2015-10-01 08:59:09.000|236.0             |\n",
      "|2015-10-01 08:59:11.000|236.0             |\n",
      "|2015-10-01 08:59:13.000|236.0             |\n",
      "|2015-10-01 08:59:16.000|236.0             |\n",
      "|2015-10-01 08:59:17.000|236.0             |\n",
      "|2015-10-01 08:59:23.000|236.0             |\n",
      "|2015-10-01 08:59:24.000|236.0             |\n",
      "|2015-10-01 08:59:29.000|236.0             |\n",
      "|2015-10-01 08:59:30.000|236.0             |\n",
      "|2015-10-01 08:59:32.000|236.0             |\n",
      "|2015-10-01 08:59:34.000|236.0             |\n",
      "|2015-10-01 08:59:36.000|236.0             |\n",
      "|2015-10-01 08:59:42.000|236.0             |\n",
      "|2015-10-01 08:59:43.000|236.0             |\n",
      "|2015-10-01 08:59:45.000|236.0             |\n",
      "|2015-10-01 08:59:48.000|236.0             |\n",
      "|2015-10-01 08:59:50.000|236.0             |\n",
      "|2015-10-01 08:59:57.000|236.0             |\n",
      "|2015-10-01 08:59:59.000|236.0             |\n",
      "|2015-10-01 09:00:01.000|236.0             |\n",
      "|2015-10-01 09:00:03.000|236.0             |\n",
      "|2015-10-01 09:00:04.000|236.0             |\n",
      "|2015-10-01 09:00:05.000|236.0             |\n",
      "|2015-10-01 09:00:07.000|236.0             |\n",
      "|2015-10-01 09:00:08.000|236.0             |\n",
      "|2015-10-01 09:00:10.000|236.0             |\n",
      "|2015-10-01 09:00:13.000|236.0             |\n",
      "|2015-10-01 09:00:14.000|236.0             |\n",
      "|2015-10-01 09:00:16.000|236.0             |\n",
      "|2015-10-01 09:00:17.000|236.0             |\n",
      "|2015-10-01 09:00:19.000|236.0             |\n",
      "|2015-10-01 09:00:20.000|236.0             |\n",
      "|2015-10-01 09:00:25.000|236.0             |\n",
      "|2015-10-01 09:00:27.000|236.0             |\n",
      "|2015-10-01 09:00:31.000|236.0             |\n",
      "|2015-10-01 09:00:32.000|236.0             |\n",
      "|2015-10-01 09:00:34.000|236.0             |\n",
      "|2015-10-01 09:00:37.000|236.0             |\n",
      "|2015-10-01 09:00:39.000|236.0             |\n",
      "|2015-10-01 09:00:42.000|236.0             |\n",
      "|2015-10-01 09:00:43.000|236.0             |\n",
      "|2015-10-01 09:00:46.000|236.0             |\n",
      "|2015-10-01 09:00:47.000|236.0             |\n",
      "|2015-10-01 09:00:49.000|236.0             |\n",
      "|2015-10-01 09:00:50.000|236.0             |\n",
      "|2015-10-01 09:00:52.000|236.0             |\n",
      "|2015-10-01 09:00:54.000|236.0             |\n",
      "|2015-10-01 09:00:55.000|236.0             |\n",
      "|2015-10-01 09:00:57.000|236.0             |\n",
      "|2015-10-01 09:00:59.000|236.0             |\n",
      "|2015-10-01 09:01:00.000|236.0             |\n",
      "|2015-10-01 09:01:02.000|236.0             |\n",
      "|2015-10-01 09:01:04.000|236.0             |\n",
      "|2015-10-01 09:01:05.000|236.0             |\n",
      "|2015-10-01 09:01:07.000|236.0             |\n",
      "|2015-10-01 09:01:09.000|236.0             |\n",
      "|2015-10-01 09:01:11.000|236.0             |\n",
      "|2015-10-01 09:01:13.000|236.0             |\n",
      "|2015-10-01 09:01:14.000|236.0             |\n",
      "|2015-10-01 09:01:16.000|236.0             |\n",
      "|2015-10-01 09:01:18.000|236.0             |\n",
      "|2015-10-01 09:01:21.000|236.0             |\n",
      "|2015-10-01 09:01:22.000|236.0             |\n",
      "|2015-10-01 09:01:24.000|236.0             |\n",
      "|2015-10-01 09:01:26.000|236.0             |\n",
      "|2015-10-01 09:01:28.000|236.0             |\n",
      "|2015-10-01 09:01:29.000|236.0             |\n",
      "|2015-10-01 09:01:31.000|236.0             |\n",
      "|2015-10-01 09:01:33.000|236.0             |\n",
      "|2015-10-01 09:01:36.000|236.0             |\n",
      "|2015-10-01 09:01:37.000|236.0             |\n",
      "|2015-10-01 09:01:39.000|236.0             |\n",
      "|2015-10-01 09:01:41.000|236.0             |\n",
      "|2015-10-01 09:01:44.000|236.0             |\n",
      "|2015-10-01 09:01:47.000|236.0             |\n",
      "|2015-10-01 09:01:49.000|236.0             |\n",
      "|2015-10-01 09:01:50.000|236.0             |\n",
      "|2015-10-01 09:01:52.000|236.0             |\n",
      "|2015-10-01 09:01:53.000|236.0             |\n",
      "|2015-10-01 09:01:55.000|236.0             |\n",
      "|2015-10-01 09:01:57.000|236.0             |\n",
      "|2015-10-01 09:01:59.000|236.0             |\n",
      "|2015-10-01 09:02:01.000|236.0             |\n",
      "|2015-10-01 09:02:03.000|236.0             |\n",
      "|2015-10-01 09:02:05.000|236.0             |\n",
      "|2015-10-01 09:02:10.000|236.0             |\n",
      "|2015-10-01 09:02:12.000|236.0             |\n",
      "|2015-10-01 09:02:13.000|236.0             |\n",
      "|2015-10-01 09:02:15.000|236.0             |\n",
      "|2015-10-01 09:02:17.000|236.0             |\n",
      "|2015-10-01 09:02:18.000|236.0             |\n",
      "|2015-10-01 09:02:19.000|236.0             |\n",
      "|2015-10-01 09:02:22.000|236.0             |\n",
      "|2015-10-01 09:02:23.000|236.0             |\n",
      "|2015-10-01 09:02:25.000|236.0             |\n",
      "+-----------------------+------------------+\n",
      "only showing top 1500 rows"
     ]
    }
   ],
   "source": [
    "traces.filter((f.col(\"id_avl\") == 36669) & (f.col(\"line_id\") == 32932)).sort(\"dt_avl\") \\\n",
    "    .select(\"dt_avl\",\"min_shape_sequence\").show(1500,False)"
   ]
  },
  {
   "cell_type": "code",
   "execution_count": null,
   "metadata": {},
   "outputs": [],
   "source": [
    "# There is buses starting by the end of the shape"
   ]
  },
  {
   "cell_type": "code",
   "execution_count": 74,
   "metadata": {},
   "outputs": [
    {
     "data": {
      "application/vnd.jupyter.widget-view+json": {
       "model_id": "680389abb600431fa1b013fc0df438d2",
       "version_major": 2,
       "version_minor": 0
      },
      "text/plain": [
       "VBox()"
      ]
     },
     "metadata": {},
     "output_type": "display_data"
    },
    {
     "data": {
      "application/vnd.jupyter.widget-view+json": {
       "model_id": "",
       "version_major": 2,
       "version_minor": 0
      },
      "text/plain": [
       "FloatProgress(value=0.0, bar_style='info', description='Progress:', layout=Layout(height='25px', width='50%'),…"
      ]
     },
     "metadata": {},
     "output_type": "display_data"
    }
   ],
   "source": [
    "df2 = traces.groupBy(\"id_avl\",\"line_id\").agg(f.countDistinct(\"min_shape_sequence\").alias(\"shape_seq_count\"))"
   ]
  },
  {
   "cell_type": "code",
   "execution_count": 75,
   "metadata": {},
   "outputs": [
    {
     "data": {
      "application/vnd.jupyter.widget-view+json": {
       "model_id": "681a5548466940e2a8f828690d709178",
       "version_major": 2,
       "version_minor": 0
      },
      "text/plain": [
       "VBox()"
      ]
     },
     "metadata": {},
     "output_type": "display_data"
    },
    {
     "data": {
      "application/vnd.jupyter.widget-view+json": {
       "model_id": "",
       "version_major": 2,
       "version_minor": 0
      },
      "text/plain": [
       "FloatProgress(value=0.0, bar_style='info', description='Progress:', layout=Layout(height='25px', width='50%'),…"
      ]
     },
     "metadata": {},
     "output_type": "display_data"
    },
    {
     "name": "stdout",
     "output_type": "stream",
     "text": [
      "+--------------------+--------------------+--------------------+----------------------------+\n",
      "|avg(shape_seq_count)|min(shape_seq_count)|max(shape_seq_count)|stddev_samp(shape_seq_count)|\n",
      "+--------------------+--------------------+--------------------+----------------------------+\n",
      "|  150.43614087861127|                   1|                 664|           80.82167888005603|\n",
      "+--------------------+--------------------+--------------------+----------------------------+"
     ]
    }
   ],
   "source": [
    "df2.select(f.mean(\"shape_seq_count\"),f.min(\"shape_seq_count\"),f.max(\"shape_seq_count\"),f.stddev(\"shape_seq_count\")).show()"
   ]
  },
  {
   "cell_type": "code",
   "execution_count": 83,
   "metadata": {},
   "outputs": [
    {
     "data": {
      "application/vnd.jupyter.widget-view+json": {
       "model_id": "d8a758b88ec54a819116aabcf1e9b0ae",
       "version_major": 2,
       "version_minor": 0
      },
      "text/plain": [
       "VBox()"
      ]
     },
     "metadata": {},
     "output_type": "display_data"
    },
    {
     "data": {
      "application/vnd.jupyter.widget-view+json": {
       "model_id": "",
       "version_major": 2,
       "version_minor": 0
      },
      "text/plain": [
       "FloatProgress(value=0.0, bar_style='info', description='Progress:', layout=Layout(height='25px', width='50%'),…"
      ]
     },
     "metadata": {},
     "output_type": "display_data"
    }
   ],
   "source": [
    "# Results there is buses that has few shapes matching \n",
    "# what means that even with thousand of traces the bus does not move like the bus with id_vl 36669 and line_id 3932"
   ]
  },
  {
   "cell_type": "code",
   "execution_count": 79,
   "metadata": {},
   "outputs": [
    {
     "data": {
      "application/vnd.jupyter.widget-view+json": {
       "model_id": "e96f573a5470403aa94d00185e5cc8c9",
       "version_major": 2,
       "version_minor": 0
      },
      "text/plain": [
       "VBox()"
      ]
     },
     "metadata": {},
     "output_type": "display_data"
    },
    {
     "data": {
      "application/vnd.jupyter.widget-view+json": {
       "model_id": "",
       "version_major": 2,
       "version_minor": 0
      },
      "text/plain": [
       "FloatProgress(value=0.0, bar_style='info', description='Progress:', layout=Layout(height='25px', width='50%'),…"
      ]
     },
     "metadata": {},
     "output_type": "display_data"
    }
   ],
   "source": [
    "traces.filter((f.col(\"id_avl\") == 36669) & (f.col(\"line_id\") == 32932)) \\\n",
    "    .sort(\"dt_avl\") \\\n",
    "    .repartition(1) \\\n",
    "    .write.csv(\"s3://mobility-traces-sp/tests-map-views/2-map-matchin-view/MO_15101_id_avl_36669_line_32932/\") "
   ]
  },
  {
   "cell_type": "code",
   "execution_count": 82,
   "metadata": {},
   "outputs": [
    {
     "data": {
      "application/vnd.jupyter.widget-view+json": {
       "model_id": "d1985bcdf0d844978cae9d399f84985f",
       "version_major": 2,
       "version_minor": 0
      },
      "text/plain": [
       "VBox()"
      ]
     },
     "metadata": {},
     "output_type": "display_data"
    },
    {
     "data": {
      "application/vnd.jupyter.widget-view+json": {
       "model_id": "",
       "version_major": 2,
       "version_minor": 0
      },
      "text/plain": [
       "FloatProgress(value=0.0, bar_style='info', description='Progress:', layout=Layout(height='25px', width='50%'),…"
      ]
     },
     "metadata": {},
     "output_type": "display_data"
    },
    {
     "name": "stdout",
     "output_type": "stream",
     "text": [
      "+------------------+\n",
      "|min_shape_sequence|\n",
      "+------------------+\n",
      "|             438.0|\n",
      "|             439.0|\n",
      "|             435.0|\n",
      "|             236.0|\n",
      "|             437.0|\n",
      "|             436.0|\n",
      "+------------------+"
     ]
    }
   ],
   "source": [
    "traces.filter((f.col(\"id_avl\") == 36669) & (f.col(\"line_id\") == 32932)).select(\"min_shape_sequence\").distinct().show()"
   ]
  },
  {
   "cell_type": "code",
   "execution_count": 84,
   "metadata": {},
   "outputs": [
    {
     "data": {
      "application/vnd.jupyter.widget-view+json": {
       "model_id": "dab8bda58fe34bd4a33ace28cf586186",
       "version_major": 2,
       "version_minor": 0
      },
      "text/plain": [
       "VBox()"
      ]
     },
     "metadata": {},
     "output_type": "display_data"
    },
    {
     "data": {
      "application/vnd.jupyter.widget-view+json": {
       "model_id": "",
       "version_major": 2,
       "version_minor": 0
      },
      "text/plain": [
       "FloatProgress(value=0.0, bar_style='info', description='Progress:', layout=Layout(height='25px', width='50%'),…"
      ]
     },
     "metadata": {},
     "output_type": "display_data"
    },
    {
     "name": "stdout",
     "output_type": "stream",
     "text": [
      "+------+-------+---------------+\n",
      "|id_avl|line_id|shape_seq_count|\n",
      "+------+-------+---------------+\n",
      "| 50124|   1132|            217|\n",
      "| 37021|  34490|            107|\n",
      "| 40127|  33992|            160|\n",
      "| 58180|   1123|            199|\n",
      "| 58209|   2198|            261|\n",
      "| 11801|  33191|            166|\n",
      "| 57416|   1131|            212|\n",
      "| 39263|  33916|            136|\n",
      "| 38721|   1993|            194|\n",
      "| 14084|      1|            183|\n",
      "| 40073|   1733|             53|\n",
      "| 51950|  33516|            330|\n",
      "| 11351|   1472|              1|\n",
      "| 56862|  33865|            129|\n",
      "| 55725|    947|            106|\n",
      "| 14064|    406|             75|\n",
      "| 12659|  33299|            228|\n",
      "| 12762|  34134|             58|\n",
      "| 12458|  33191|              2|\n",
      "| 35521|    402|              3|\n",
      "+------+-------+---------------+\n",
      "only showing top 20 rows"
     ]
    }
   ],
   "source": [
    "df2.show()"
   ]
  },
  {
   "cell_type": "code",
   "execution_count": 85,
   "metadata": {},
   "outputs": [
    {
     "data": {
      "application/vnd.jupyter.widget-view+json": {
       "model_id": "73f3450e90fb4f739142d72374c98296",
       "version_major": 2,
       "version_minor": 0
      },
      "text/plain": [
       "VBox()"
      ]
     },
     "metadata": {},
     "output_type": "display_data"
    },
    {
     "data": {
      "application/vnd.jupyter.widget-view+json": {
       "model_id": "",
       "version_major": 2,
       "version_minor": 0
      },
      "text/plain": [
       "FloatProgress(value=0.0, bar_style='info', description='Progress:', layout=Layout(height='25px', width='50%'),…"
      ]
     },
     "metadata": {},
     "output_type": "display_data"
    }
   ],
   "source": [
    "# Trying to analyze a bus with more than 200 shapes --> id_avl 50124, line_id 1132"
   ]
  },
  {
   "cell_type": "code",
   "execution_count": 95,
   "metadata": {},
   "outputs": [
    {
     "data": {
      "application/vnd.jupyter.widget-view+json": {
       "model_id": "2801aca9e97e4dec94f009420ed576b5",
       "version_major": 2,
       "version_minor": 0
      },
      "text/plain": [
       "VBox()"
      ]
     },
     "metadata": {},
     "output_type": "display_data"
    },
    {
     "data": {
      "application/vnd.jupyter.widget-view+json": {
       "model_id": "",
       "version_major": 2,
       "version_minor": 0
      },
      "text/plain": [
       "FloatProgress(value=0.0, bar_style='info', description='Progress:', layout=Layout(height='25px', width='50%'),…"
      ]
     },
     "metadata": {},
     "output_type": "display_data"
    }
   ],
   "source": [
    "traces.filter((f.col(\"id_avl\") == 50124) & (f.col(\"line_id\") == 1132)).sort(\"dt_avl\").repartition(1) \\\n",
    "    .write.csv(\"s3://mobility-traces-sp/tests-map-views/2-map-matchin-view/MO_15101_id_avl_50124_line_1132/\")"
   ]
  },
  {
   "cell_type": "markdown",
   "metadata": {},
   "source": [
    "### Results\n",
    "- There is traces far away from the nearest shape by km (like 40km)\n",
    "- There is bus with few registers in one day\n",
    "- There is bus with thousand of traces but only with few shape (meaning that the bus did not move by city)\n",
    "- By watching the file proceduced by the last test of the bus 50124 line 1132, I watched that the shape follows a sequence (ascending), but it did  start by shape sequence 1, started in shape 6 and in other trips started in other shapes"
   ]
  },
  {
   "cell_type": "code",
   "execution_count": 2,
   "metadata": {},
   "outputs": [
    {
     "data": {
      "application/vnd.jupyter.widget-view+json": {
       "model_id": "a63f309366cb4d72ad861767746a5ebc",
       "version_major": 2,
       "version_minor": 0
      },
      "text/plain": [
       "VBox()"
      ]
     },
     "metadata": {},
     "output_type": "display_data"
    },
    {
     "data": {
      "application/vnd.jupyter.widget-view+json": {
       "model_id": "",
       "version_major": 2,
       "version_minor": 0
      },
      "text/plain": [
       "FloatProgress(value=0.0, bar_style='info', description='Progress:', layout=Layout(height='25px', width='50%'),…"
      ]
     },
     "metadata": {},
     "output_type": "display_data"
    },
    {
     "name": "stdout",
     "output_type": "stream",
     "text": [
      "Collecting haversine\n",
      "  Downloading https://files.pythonhosted.org/packages/f4/52/a13286844780c7b1740edbbee8a8f0524e2a6d51c068b59dda39a6a119f5/haversine-2.3.0-py2.py3-none-any.whl\n",
      "Installing collected packages: haversine\n",
      "Successfully installed haversine-2.3.0"
     ]
    }
   ],
   "source": [
    "sc.install_pypi_package(\"haversine\")"
   ]
  },
  {
   "cell_type": "code",
   "execution_count": 63,
   "metadata": {},
   "outputs": [
    {
     "data": {
      "application/vnd.jupyter.widget-view+json": {
       "model_id": "6af236b6cb384ed4bcf7964cb890db23",
       "version_major": 2,
       "version_minor": 0
      },
      "text/plain": [
       "VBox()"
      ]
     },
     "metadata": {},
     "output_type": "display_data"
    },
    {
     "data": {
      "application/vnd.jupyter.widget-view+json": {
       "model_id": "",
       "version_major": 2,
       "version_minor": 0
      },
      "text/plain": [
       "FloatProgress(value=0.0, bar_style='info', description='Progress:', layout=Layout(height='25px', width='50%'),…"
      ]
     },
     "metadata": {},
     "output_type": "display_data"
    }
   ],
   "source": [
    "from haversine import haversine, Unit\n",
    "import pyspark.sql.functions as F\n",
    "from pyspark.sql.types import *\n",
    "from pyspark.sql.window import Window\n",
    "\n",
    "def calculate_distace(lon1,lat1,lon2,lat2,t):\n",
    "\n",
    "    if lon2 and lat2:\n",
    "        coord_1 = float(lon1),float(lat1)\n",
    "        coord_2 = float(lon2),float(lat2)\n",
    "        distance = haversine(coord_1,coord_2,unit=Unit.METERS)\n",
    "        \n",
    "        return (distance/float(t)) * 3.6\n",
    "    else:\n",
    "        return -1\n",
    "\n",
    "\n",
    "\n",
    "get_distance_udf = udf(calculate_distace, FloatType())\n",
    "\n",
    "window = Window.partitionBy(\"id_avl\",\"line_id\").orderBy('dt_avl')\n",
    "\n",
    "df333 = traces_mo.select(\"*\", get_distance_udf(F.col(\"trace_x\"),F.col(\"trace_y\"),F.lag(col(\"min_shape_coord_lon\")).over(window),F.lag(col(\"min_shape_coord_lat\")).over(window),F.col(\"time_variation\")).alias(\"maie\"))\n",
    "\n",
    "\n"
   ]
  },
  {
   "cell_type": "code",
   "execution_count": 72,
   "metadata": {},
   "outputs": [
    {
     "data": {
      "application/vnd.jupyter.widget-view+json": {
       "model_id": "7cca4bb53cfa444a9e65a04713b3c777",
       "version_major": 2,
       "version_minor": 0
      },
      "text/plain": [
       "VBox()"
      ]
     },
     "metadata": {},
     "output_type": "display_data"
    },
    {
     "data": {
      "application/vnd.jupyter.widget-view+json": {
       "model_id": "",
       "version_major": 2,
       "version_minor": 0
      },
      "text/plain": [
       "FloatProgress(value=0.0, bar_style='info', description='Progress:', layout=Layout(height='25px', width='50%'),…"
      ]
     },
     "metadata": {},
     "output_type": "display_data"
    },
    {
     "name": "stdout",
     "output_type": "stream",
     "text": [
      "+--------------------+------+-------+----------+----------+--------+------------------+-----------+--------------+---------+---------+--------+---------+--------+------------------+------------------+-------------------+-------------------+----------+\n",
      "|              dt_avl|id_avl|line_id|   trace_y|   trace_x|hour_avl|         hour_diff|     region|time_variation|  trip_id|direction|route_id|trip_head|shape_id|      min_distance|min_shape_sequence|min_shape_coord_lat|min_shape_coord_lon|      maie|\n",
      "+--------------------+------+-------+----------+----------+--------+------------------+-----------+--------------+---------+---------+--------+---------+--------+------------------+------------------+-------------------+-------------------+----------+\n",
      "|2015-10-01 06:56:...|  8577|  35033|-23.520062|-46.701605|       6|1.0399999618530273|       LAPA|          45.0|211L-10-1|        1| 211L-10| Mandaqui|   57855|  4.88280389883034|               3.0|         -23.520024|         -46.701629|      null|\n",
      "|2015-10-01 06:57:...|  8577|  35033|-23.520058|-46.701612|       6|1.4500000476837158|       LAPA|          45.0|211L-10-1|        1| 211L-10| Mandaqui|   57855| 4.159015315847188|               3.0|         -23.520024|         -46.701629|0.25669464|\n",
      "|2015-10-01 06:58:...|  8577|  35033|-23.520015|-46.701602|       6| 3.802999973297119|       LAPA|          45.0|211L-10-1|        1| 211L-10| Mandaqui|   57855|2.9291031022718506|               3.0|         -23.520024|         -46.701629|0.24637711|\n",
      "|2015-10-01 06:59:...|  8577|  35033|-23.520043|-46.701605|       6| 1.003000020980835|       LAPA|          45.0|211L-10-1|        1| 211L-10| Mandaqui|   57855| 3.232829751722874|               3.0|         -23.520024|         -46.701629| 0.2429307|\n",
      "|2015-10-01 07:00:...|  8577|  35033|-23.520082|-46.701602|       7|1.0729999542236328|       LAPA|          45.0|211L-10-1|        1| 211L-10| Mandaqui|   57855| 7.012259879173076|               3.0|         -23.520024|         -46.701629|0.42765132|\n",
      "|2015-10-01 07:01:...|  8577|  35033|-23.520103|-46.701577|       7|0.9570000171661377|       LAPA|          45.0|211L-10-1|        1| 211L-10| Mandaqui|   57855|10.260341314687631|               3.0|         -23.520024|         -46.701629|0.66801566|\n",
      "|2015-10-01 07:05:...|  8577|  35033|-23.519975|-46.701553|       7|1.5199999809265137|       LAPA|          42.0|211L-10-1|        1| 211L-10| Mandaqui|   57855|1.0197278571523036|               4.0|-23.519970999999998|         -46.701544|0.79200524|\n",
      "|2015-10-01 07:06:...|  8577|  35033|-23.520382|-46.700997|       7|0.9800000190734863|       LAPA|          44.0|211L-10-1|        1| 211L-10| Mandaqui|   57855| 22.74310561853821|              14.0|         -23.520584|         -46.701032| 5.5983267|\n",
      "|2015-10-01 07:06:...|  8577|  35033|-23.520292|-46.701323|       7|0.9769999980926514|       LAPA|          45.0|211L-10-1|        1| 211L-10| Mandaqui|   57855| 4.239872025907195|              20.0|         -23.520321|          -46.70135| 3.1423395|\n",
      "|2015-10-01 07:07:...|  8577|  35033|-23.516798|-46.698538|       7|1.8329999446868896|       LAPA|          45.0|211L-10-1|        1| 211L-10| Mandaqui|   57855| 18.26698968401776|              30.0|-23.516683999999998|-46.698409000000005|  32.97989|\n",
      "|2015-10-01 07:07:...|  8577|  35033|-23.516577|-46.698323|       7| 3.990000009536743|       LAPA|          15.0|211L-10-1|        1| 211L-10| Mandaqui|   57855|14.779938418939524|              30.0|-23.516683999999998|-46.698409000000005| 3.0170658|\n",
      "|2015-10-01 07:08:...|  8577|  35033|-23.516058|-46.698023|       7|1.2799999713897705|       LAPA|          12.0|211L-10-1|        1| 211L-10| Mandaqui|   57855| 29.42129579974574|              31.0|         -23.515836|         -46.697866| 19.259335|\n",
      "|2015-10-01 07:08:...|  8577|  35033|-23.515385|-46.695225|       7|0.9670000076293945|       LAPA|          45.0|211L-10-1|        1| 211L-10| Mandaqui|   57855| 56.81342191525547|              41.0|         -23.515371|         -46.694668| 23.653889|\n",
      "|2015-10-01 07:09:...|  8577|  35033| -23.51533| -46.69212|       7|0.8999999761581421|       LAPA|          45.0|211L-10-1|        1| 211L-10| Mandaqui|   57855|27.102056145954176|              45.0|         -23.515349|         -46.691855| 22.667385|\n",
      "|2015-10-01 07:10:...|  8577|  35033|-23.514455| -46.69063|       7|1.1629999876022339|BARRA FUNDA|          42.0|211L-10-1|        1| 211L-10| Mandaqui|   57855|22.462513749777635|              54.0|         -23.514255|         -46.690599| 13.056663|\n",
      "|2015-10-01 07:11:...|  8577|  35033|-23.510337|-46.689903|       7| 0.949999988079071|BARRA FUNDA|          45.0|211L-10-1|        1| 211L-10| Mandaqui|   57855| 9.681983445879405|              60.0|         -23.510421|         -46.689928| 24.695824|\n",
      "|2015-10-01 07:11:...|  8577|  35033| -23.50657|-46.688978|       7|1.0429999828338623|      LIMAO|          45.0|211L-10-1|        1| 211L-10| Mandaqui|   57855| 53.14558919422107|              70.0|         -23.506106|         -46.688853|  24.97205|\n",
      "|2015-10-01 07:12:...|  8577|  35033|-23.506113| -46.68883|       7|0.9700000286102295|      LIMAO|          45.0|211L-10-1|        1| 211L-10| Mandaqui|   57855|2.4710521897442805|              70.0|         -23.506106|         -46.688853|0.20901012|\n",
      "|2015-10-01 07:13:...|  8577|  35033|-23.505328|-46.688652|       7|1.1130000352859497|      LIMAO|          34.0|211L-10-1|        1| 211L-10| Mandaqui|   57855| 43.30123385842808|              71.0|         -23.504955|          -46.68853|  6.714182|\n",
      "|2015-10-01 07:13:...|  8577|  35033|-23.504532|-46.686393|       7|0.9829999804496765|      LIMAO|          45.0|211L-10-1|        1| 211L-10| Mandaqui|   57855|11.702133336579166|              77.0|         -23.504562|         -46.686503| 19.184355|\n",
      "+--------------------+------+-------+----------+----------+--------+------------------+-----------+--------------+---------+---------+--------+---------+--------+------------------+------------------+-------------------+-------------------+----------+\n",
      "only showing top 20 rows"
     ]
    }
   ],
   "source": [
    "df333.show()"
   ]
  },
  {
   "cell_type": "code",
   "execution_count": 1,
   "metadata": {},
   "outputs": [
    {
     "data": {
      "application/vnd.jupyter.widget-view+json": {
       "model_id": "e1d82be19651478ca14342f0422cac42",
       "version_major": 2,
       "version_minor": 0
      },
      "text/plain": [
       "VBox()"
      ]
     },
     "metadata": {},
     "output_type": "display_data"
    },
    {
     "name": "stdout",
     "output_type": "stream",
     "text": [
      "Starting Spark application\n"
     ]
    },
    {
     "data": {
      "text/html": [
       "<table>\n",
       "<tr><th>ID</th><th>YARN Application ID</th><th>Kind</th><th>State</th><th>Spark UI</th><th>Driver log</th><th>Current session?</th></tr><tr><td>1</td><td>application_1609430674348_0003</td><td>pyspark</td><td>idle</td><td><a target=\"_blank\" href=\"http://ip-172-31-95-227.ec2.internal:20888/proxy/application_1609430674348_0003/\" >Link</a></td><td><a target=\"_blank\" href=\"http://ip-172-31-82-180.ec2.internal:8042/node/containerlogs/container_1609430674348_0003_01_000001/livy\" >Link</a></td><td>✔</td></tr></table>"
      ],
      "text/plain": [
       "<IPython.core.display.HTML object>"
      ]
     },
     "metadata": {},
     "output_type": "display_data"
    },
    {
     "data": {
      "application/vnd.jupyter.widget-view+json": {
       "model_id": "",
       "version_major": 2,
       "version_minor": 0
      },
      "text/plain": [
       "FloatProgress(value=0.0, bar_style='info', description='Progress:', layout=Layout(height='25px', width='50%'),…"
      ]
     },
     "metadata": {},
     "output_type": "display_data"
    },
    {
     "name": "stdout",
     "output_type": "stream",
     "text": [
      "SparkSession available as 'spark'.\n"
     ]
    },
    {
     "data": {
      "application/vnd.jupyter.widget-view+json": {
       "model_id": "",
       "version_major": 2,
       "version_minor": 0
      },
      "text/plain": [
       "FloatProgress(value=0.0, bar_style='info', description='Progress:', layout=Layout(height='25px', width='50%'),…"
      ]
     },
     "metadata": {},
     "output_type": "display_data"
    }
   ],
   "source": [
    "# Getting statistic of the number of shapes per vehicle in a day and of traces per vehicle"
   ]
  },
  {
   "cell_type": "code",
   "execution_count": 2,
   "metadata": {},
   "outputs": [
    {
     "data": {
      "application/vnd.jupyter.widget-view+json": {
       "model_id": "9e450feff2f14165b4596f93ebfe13cf",
       "version_major": 2,
       "version_minor": 0
      },
      "text/plain": [
       "VBox()"
      ]
     },
     "metadata": {},
     "output_type": "display_data"
    },
    {
     "data": {
      "application/vnd.jupyter.widget-view+json": {
       "model_id": "",
       "version_major": 2,
       "version_minor": 0
      },
      "text/plain": [
       "FloatProgress(value=0.0, bar_style='info', description='Progress:', layout=Layout(height='25px', width='50%'),…"
      ]
     },
     "metadata": {},
     "output_type": "display_data"
    },
    {
     "name": "stdout",
     "output_type": "stream",
     "text": [
      "{'ResponseMetadata': {'RequestId': 'D45A435F71465B5E', 'HostId': 'W73X8HFn4ItlIgTtUOSloDHSZghMBIh+qGqqFFbSD2YAP6JwUZjosWMZ3I7CR1E7hSJ/yfqKujc=', 'HTTPStatusCode': 200, 'HTTPHeaders': {'x-amz-id-2': 'W73X8HFn4ItlIgTtUOSloDHSZghMBIh+qGqqFFbSD2YAP6JwUZjosWMZ3I7CR1E7hSJ/yfqKujc=', 'x-amz-request-id': 'D45A435F71465B5E', 'date': 'Thu, 31 Dec 2020 20:00:56 GMT', 'etag': '\"f7d8e106b5ed8460bab5e0ce5a262069\"', 'content-length': '0', 'server': 'AmazonS3'}, 'RetryAttempts': 0}, 'ETag': '\"f7d8e106b5ed8460bab5e0ce5a262069\"'}"
     ]
    }
   ],
   "source": [
    "import pyspark.sql.functions as f\n",
    "\n",
    "# files' statistics header\n",
    "csv_out_shape_count = \"day,total_size,shape_seq_count_mean,shape_seq_count_min,shape_seq_count_max,shape_seq_count_stddev,shape_seq_count_quantile_25,shape_seq_count_quantile_50,shape_seq_count_quantile_75,shape_seq_count_below_2,shape_seq_count_below_5\\n\"\n",
    "csv_out_trace_count = \"day,total_size,traces_count_mean,traces_count_min,traces_count_max,traces_count_stddev,traces_count_quantile_25,traces_count_quantile_50,traces_count_quantile_75,traces_count_below_2,traces_count_below_10\\n\"\n",
    "\n",
    "\n",
    "for day in range(1,32):\n",
    "    \n",
    "    # reading map matching files\n",
    "    traces = spark.read.parquet(\"s3://mobility-traces-sp/processed-data-avl-date/8-map-matching/MO_1510\"+ str(day) + \"/\")\n",
    "    \n",
    "    # getting the number of registers\n",
    "    total_size = traces.count()\n",
    "\n",
    "\n",
    "    # counting the number of different shape sequences for a bus in a day\n",
    "    shape_count = traces.groupBy(\"id_avl\",\"line_id\").agg(f.countDistinct(\"min_shape_sequence\").alias(\"shape_seq_count\"))\n",
    "    # getting some statistics\n",
    "    stats_shape_seq_count = shape_count.agg(f.mean('shape_seq_count').alias('mean'),\n",
    "                       f.min('shape_seq_count').alias('min'),\n",
    "                       f.max('shape_seq_count').alias('max'),\n",
    "                       f.stddev('shape_seq_count').alias(\"stddev\")).collect()\n",
    "    \n",
    "    # getting the quantiles\n",
    "    shape_seq_count_quantile = shape_count.approxQuantile(\"shape_seq_count\", [0.25,0.5,0.75], 0.0001)\n",
    "    \n",
    "    # selecting traces below 2 shapes in the traces --> it means the bus did not moved \n",
    "    shape_below_2 = shape_count.filter(\"shape_seq_count < 2\").count()\n",
    "    # selecting traces below 5 shapes in the traces --> it means the bus did not moved \n",
    "    shape_below_5 = shape_count.filter(\"shape_seq_count < 5\").count()\n",
    "    \n",
    "    csv_out_shape_count += \"MO_1510\" + str(day) +\",\"+ str(total_size) +\",\"+ str(stats_shape_seq_count[0][\"mean\"]) +\",\"+ str(stats_shape_seq_count[0][\"min\"]) + \",\" + str(stats_shape_seq_count[0][\"max\"]) + \",\" + str(stats_shape_seq_count[0][\"stddev\"]) + \",\" +str(shape_seq_count_quantile[0]) + \",\" +str(shape_seq_count_quantile[1]) +\",\" +str(shape_seq_count_quantile[2]) +\",\"+ str(shape_below_2) + \",\"+ str(shape_below_5) + \"\\n\"\n",
    "\n",
    "\n",
    "\n",
    "    # counting the number of traces for a bus in a day\n",
    "    trace_count = traces.groupBy(\"id_avl\",\"line_id\").agg(f.count(\"id_avl\").alias(\"traces_count_per_bus\"))\n",
    "    # getting some statistics\n",
    "    stats_trace_count = trace_count.agg(f.mean('traces_count_per_bus').alias('mean'),\n",
    "                       f.min('traces_count_per_bus').alias('min'),\n",
    "                       f.max('traces_count_per_bus').alias('max'),\n",
    "                       f.stddev('traces_count_per_bus').alias(\"stddev\")).collect()\n",
    "    # getting the quantiles\n",
    "    trace_count_quantile = trace_count.approxQuantile(\"traces_count_per_bus\", [0.25,0.5,0.75], 0.0001)\n",
    "\n",
    "    # selecting traces below 2 traces\n",
    "    traces_below_2 = trace_count.filter(\"traces_count_per_bus < 2\").count()\n",
    "    \n",
    "    # selecting traces below 10 traces\n",
    "    traces_below_10 = trace_count.filter(\"traces_count_per_bus < 10\").count()\n",
    "    \n",
    "    csv_out_trace_count += \"MO_1510\" + str(day) +\",\"+ str(total_size) +\",\"+ str(stats_trace_count[0][\"mean\"]) +\",\"+ str(stats_trace_count[0][\"min\"]) + \",\" + str(stats_trace_count[0][\"max\"]) + \",\" + str(stats_trace_count[0][\"stddev\"]) + \",\" +str(trace_count_quantile[0]) + \",\" +str(trace_count_quantile[1]) +\",\" +str(trace_count_quantile[2]) +\",\"+ str(traces_below_2) + \",\"+ str(traces_below_10) + \"\\n\"\n",
    "\n",
    "import boto3   \n",
    "s3 = boto3.client('s3')\n",
    "\n",
    "# writing results in S3\n",
    "s3.put_object(Body=bytes(csv_out_shape_count,\"utf-8\"), Bucket='mobility-traces-sp', Key='statistics/exploring-data/6-shapes_seq_per_bus.csv')    \n",
    "s3.put_object(Body=bytes(csv_out_trace_count,\"utf-8\"), Bucket='mobility-traces-sp', Key='statistics/exploring-data/7-traces_per_bus.csv')    "
   ]
  },
  {
   "cell_type": "markdown",
   "metadata": {},
   "source": [
    "# Results \n",
    "## Number of shapes per bus\n",
    "- There are buses with only one shape matched, and 678 shapes max\n",
    "- The mean of matched shape is between 98 and 153\n",
    "- First quantile 25% - there are value between 1 - 101. We find out there is 1 shape for buses in weekends\n",
    "- second quantile 50% - 97 and 160 shapes, \n",
    "- third quantile 75% - 178 and 211 shapes\n",
    "- there are between 1500 and 5900 buses with 2 or less shapes matched with their traces. \n",
    "- there are between 2200 and 8000 buses witn only 5 or less shapes matched with their traces.\n",
    "\n",
    "## Number of traces per bus\n",
    "- There are buses with only 1 traces per day\n",
    "- At average for max values, there are buses with over tahn 30000 traces in one day\n",
    "- Average between 493 and 776 traces per bus during a day\n",
    "- There are between 43 and 194 buses with 2 or less traces in a day\n",
    "- There are between 263 and 669 buses with 10 or less traces in a day\n",
    "\n",
    "## Next steps\n",
    "- understand the first quantile (25%) of number of shapes and traces per bus"
   ]
  }
 ],
 "metadata": {
  "kernelspec": {
   "display_name": "Python 3",
   "language": "python",
   "name": "python3"
  },
  "language_info": {
   "codemirror_mode": {
    "name": "ipython",
    "version": 3
   },
   "file_extension": ".py",
   "mimetype": "text/x-python",
   "name": "python",
   "nbconvert_exporter": "python",
   "pygments_lexer": "ipython3",
   "version": "3.7.4"
  }
 },
 "nbformat": 4,
 "nbformat_minor": 4
}
