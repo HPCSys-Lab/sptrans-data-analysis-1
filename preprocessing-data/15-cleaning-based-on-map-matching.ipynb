{
 "cells": [
  {
   "cell_type": "markdown",
   "metadata": {},
   "source": [
    "### Using the map matching with shape to clean the dataset\n",
    "I can use the shape matching for:\n",
    "\n",
    "- calculate speed\n",
    "- reduce number of register by:\n",
    "    - eliminating traces which are located in the final/start bus terminal (by shape sequence)\n",
    "    - eliminating traces with GPS error (too far from route)\n",
    "    - identifing where a bus trip start and ends (by shape sequence)\n",
    "- identify circular lines\n",
    "- identify bus driving backwards\n",
    "\n",
    "\n",
    "O que posso fazer com o shape matching:\n",
    "\n",
    "- calcular velocidades\n",
    "- reduzir numero de registros do trace:\n",
    "    - eliminar registros do trace que estao localizados dentro dos terminais de chegada/saída (shape sequence)\n",
    "    - eliminar traces que estao com GPS error\n",
    "    - identificar onde viagem do onibus começa e termina\n",
    "- identificar linha circulares\n",
    "- identificar se o ônibus está dirigindo para trás"
   ]
  },
  {
   "cell_type": "code",
   "execution_count": 2,
   "metadata": {},
   "outputs": [
    {
     "ename": "SyntaxError",
     "evalue": "invalid syntax (<ipython-input-2-50561774a39d>, line 2)",
     "output_type": "error",
     "traceback": [
      "\u001b[0;36m  File \u001b[0;32m\"<ipython-input-2-50561774a39d>\"\u001b[0;36m, line \u001b[0;32m2\u001b[0m\n\u001b[0;31m    1- Particionar os dados por Dia / hora /min /região --> 08/19/36/pompeia\u001b[0m\n\u001b[0m                    ^\u001b[0m\n\u001b[0;31mSyntaxError\u001b[0m\u001b[0;31m:\u001b[0m invalid syntax\n"
     ]
    }
   ],
   "source": [
    "# Como calcular as métricas de conectividade\n",
    "1- Particionar os dados por Dia / hora /min /região --> 08/19/36/pompeia\n",
    "2- Computar distância para registros de cada partição.\n",
    "    Se distancia < 100m, criar conectividade\n",
    "Será montado um grafo com pesos\n",
    "quais regioes há mais conexoes\n",
    "O numero de conexoes será o numero de contatos do onibus"
   ]
  }
 ],
 "metadata": {
  "kernelspec": {
   "display_name": "Python 3",
   "language": "python",
   "name": "python3"
  },
  "language_info": {
   "codemirror_mode": {
    "name": "ipython",
    "version": 3
   },
   "file_extension": ".py",
   "mimetype": "text/x-python",
   "name": "python",
   "nbconvert_exporter": "python",
   "pygments_lexer": "ipython3",
   "version": "3.7.4"
  }
 },
 "nbformat": 4,
 "nbformat_minor": 2
}
