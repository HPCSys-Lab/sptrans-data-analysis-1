{
 "cells": [
  {
   "cell_type": "code",
   "execution_count": 4,
   "metadata": {},
   "outputs": [
    {
     "data": {
      "application/vnd.jupyter.widget-view+json": {
       "model_id": "6b457af58bfe48aa8e9e9ccfdd795f25",
       "version_major": 2,
       "version_minor": 0
      },
      "text/plain": [
       "VBox()"
      ]
     },
     "metadata": {},
     "output_type": "display_data"
    },
    {
     "data": {
      "application/vnd.jupyter.widget-view+json": {
       "model_id": "",
       "version_major": 2,
       "version_minor": 0
      },
      "text/plain": [
       "FloatProgress(value=0.0, bar_style='info', description='Progress:', layout=Layout(height='25px', width='50%'),…"
      ]
     },
     "metadata": {},
     "output_type": "display_data"
    }
   ],
   "source": [
    "import pyspark.sql.functions as F\n",
    "\n",
    "\n",
    "traces = spark.read.parquet(f\"s3://mobility-traces-sp/processed-data-avl-date/2-register-between-6-23-with-all-region-of-sp/MO_1510{1}/\")\n",
    "df = traces.filter(\"region == 'None'\")\n",
    "\n",
    "df.write.parquet(\"s3://mobility-traces-sp/traces-out-of-sp/MO_15101/\")"
   ]
  },
  {
   "cell_type": "code",
   "execution_count": 24,
   "metadata": {},
   "outputs": [],
   "source": [
    "import folium\n",
    "import pandas as pd\n",
    "\n",
    "map_folium = folium.Map([-23.477476,-46.610409], zoom_start=12)\n",
    "\n",
    "tile = folium.TileLayer('OpenStreetMap').add_to(map_folium)\n",
    "\n",
    "df = pd.read_parquet(\"./plot-data/out-of-sp-MO_15101/\")\n",
    "\n",
    "bus = 57770\n",
    "df = df.loc[df[\"id_avl\"] == bus]\n",
    "\n",
    "coords = df[[\"latitude\",\"longitude\"]].values.tolist()\n",
    "\n",
    "for coord in coords:\n",
    "    icon = folium.features.CustomIcon('red-point.png', icon_size=(10,10))\n",
    "    folium.Marker(coord,icon=icon).add_to(map_folium)\n",
    "    \n",
    "\n",
    "\n",
    "    \n",
    "map_folium.save(f\"./plot-data/out_of-sp-bus-{bus}-MO_15101.html\")"
   ]
  },
  {
   "cell_type": "code",
   "execution_count": 15,
   "metadata": {},
   "outputs": [
    {
     "data": {
      "text/html": [
       "<div>\n",
       "<style scoped>\n",
       "    .dataframe tbody tr th:only-of-type {\n",
       "        vertical-align: middle;\n",
       "    }\n",
       "\n",
       "    .dataframe tbody tr th {\n",
       "        vertical-align: top;\n",
       "    }\n",
       "\n",
       "    .dataframe thead th {\n",
       "        text-align: right;\n",
       "    }\n",
       "</style>\n",
       "<table border=\"1\" class=\"dataframe\">\n",
       "  <thead>\n",
       "    <tr style=\"text-align: right;\">\n",
       "      <th></th>\n",
       "      <th>bus</th>\n",
       "      <th>count</th>\n",
       "    </tr>\n",
       "  </thead>\n",
       "  <tbody>\n",
       "    <tr>\n",
       "      <th>0</th>\n",
       "      <td>53154</td>\n",
       "      <td>1362</td>\n",
       "    </tr>\n",
       "    <tr>\n",
       "      <th>1</th>\n",
       "      <td>9214</td>\n",
       "      <td>1354</td>\n",
       "    </tr>\n",
       "    <tr>\n",
       "      <th>2</th>\n",
       "      <td>37774</td>\n",
       "      <td>1351</td>\n",
       "    </tr>\n",
       "    <tr>\n",
       "      <th>3</th>\n",
       "      <td>58227</td>\n",
       "      <td>1347</td>\n",
       "    </tr>\n",
       "    <tr>\n",
       "      <th>4</th>\n",
       "      <td>11477</td>\n",
       "      <td>1347</td>\n",
       "    </tr>\n",
       "  </tbody>\n",
       "</table>\n",
       "</div>"
      ],
      "text/plain": [
       "     bus  count\n",
       "0  53154   1362\n",
       "1   9214   1354\n",
       "2  37774   1351\n",
       "3  58227   1347\n",
       "4  11477   1347"
      ]
     },
     "execution_count": 15,
     "metadata": {},
     "output_type": "execute_result"
    }
   ],
   "source": [
    "import pandas as pd\n",
    "\n",
    "df = pd.read_parquet(\"./plot-data/out-of-sp-MO_15101/\")\n",
    "count_points_out_per_bus = df[\"id_avl\"].value_counts()\n",
    "df2 = pd.DataFrame({'bus':count_points_out_per_bus.index, 'count':count_points_out_per_bus.values})\n",
    "# df2.loc[df2[\"count\"] < 50]\n",
    "# df2.loc[df[\"id_avl\"] == 39508].sort_values(by=\"dt_avl\")\n",
    "df2.head()"
   ]
  },
  {
   "cell_type": "code",
   "execution_count": 21,
   "metadata": {},
   "outputs": [
    {
     "name": "stdout",
     "output_type": "stream",
     "text": [
      "Number of buses 3288\n",
      "Number of register 151356\n"
     ]
    }
   ],
   "source": [
    "print(\"Number of buses\",df2[\"bus\"].nunique())\n",
    "print(\"Number of register\",len(df))"
   ]
  },
  {
   "cell_type": "code",
   "execution_count": 22,
   "metadata": {},
   "outputs": [
    {
     "name": "stdout",
     "output_type": "stream",
     "text": [
      "Number of buses with 1 or 2 points 621\n"
     ]
    }
   ],
   "source": [
    "print(\"Number of buses with 1 or 2 points\", len(df2.loc[df2[\"count\"] < 3]))"
   ]
  }
 ],
 "metadata": {
  "kernelspec": {
   "display_name": "Python 3",
   "language": "python",
   "name": "python3"
  },
  "language_info": {
   "codemirror_mode": {
    "name": "ipython",
    "version": 3
   },
   "file_extension": ".py",
   "mimetype": "text/x-python",
   "name": "python",
   "nbconvert_exporter": "python",
   "pygments_lexer": "ipython3",
   "version": "3.7.4"
  }
 },
 "nbformat": 4,
 "nbformat_minor": 4
}
