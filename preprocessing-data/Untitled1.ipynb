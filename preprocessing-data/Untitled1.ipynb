{
 "cells": [
  {
   "cell_type": "code",
   "execution_count": null,
   "metadata": {},
   "outputs": [],
   "source": [
    "# Exploring the first quantile of shape and traces per bus"
   ]
  },
  {
   "cell_type": "code",
   "execution_count": null,
   "metadata": {},
   "outputs": [],
   "source": [
    "import pyspark.sql.functions as f\n",
    "\n",
    "# files' statistics header\n",
    "csv_out_shape_count = \"day,total_size,shape_seq_count_mean,shape_seq_count_min,shape_seq_count_max,shape_seq_count_stddev,shape_seq_count_quantile_25,shape_seq_count_quantile_50,shape_seq_count_quantile_75,shape_seq_count_below_2,shape_seq_count_below_5\\n\"\n",
    "csv_out_trace_count = \"day,total_size,traces_count_mean,traces_count_min,traces_count_max,traces_count_stddev,traces_count_quantile_25,traces_count_quantile_50,traces_count_quantile_75,traces_count_below_2,traces_count_below_10\\n\"\n",
    "\n",
    "\n",
    "for day in range(1,32):\n",
    "    \n",
    "    # reading map matching files\n",
    "    traces = spark.read.parquet(\"s3://mobility-traces-sp/processed-data-avl-date/8-map-matching/MO_1510\"+ str(day) + \"/\")\n",
    "    \n",
    "    # getting the number of registers\n",
    "    total_size = traces.count()\n",
    "\n",
    "\n",
    "    # counting the number of different shape sequences for a bus in a day\n",
    "    shape_count = traces.groupBy(\"id_avl\",\"line_id\").agg(f.countDistinct(\"min_shape_sequence\").alias(\"shape_seq_count\"))\n",
    "    # getting some statistics\n",
    "    stats_shape_seq_count = shape_count.agg(f.mean('shape_seq_count').alias('mean'),\n",
    "                       f.min('shape_seq_count').alias('min'),\n",
    "                       f.max('shape_seq_count').alias('max'),\n",
    "                       f.stddev('shape_seq_count').alias(\"stddev\")).collect()\n",
    "    \n",
    "    # getting the quantiles\n",
    "    shape_seq_count_quantile = shape_count.approxQuantile(\"shape_seq_count\", [0.25,0.5,0.75], 0.0001)\n",
    "    \n",
    "    # selecting traces below 2 shapes in the traces --> it means the bus did not moved \n",
    "    shape_below_2 = shape_count.filter(\"shape_seq_count < 2\").count()\n",
    "    # selecting traces below 5 shapes in the traces --> it means the bus did not moved \n",
    "    shape_below_5 = shape_count.filter(\"shape_seq_count < 5\").count()\n",
    "    \n",
    "    csv_out_shape_count += \"MO_1510\" + str(day) +\",\"+ str(total_size) +\",\"+ str(stats_shape_seq_count[0][\"mean\"]) +\",\"+ str(stats_shape_seq_count[0][\"min\"]) + \",\" + str(stats_shape_seq_count[0][\"max\"]) + \",\" + str(stats_shape_seq_count[0][\"stddev\"]) + \",\" +str(shape_seq_count_quantile[0]) + \",\" +str(shape_seq_count_quantile[1]) +\",\" +str(shape_seq_count_quantile[2]) +\",\"+ str(shape_below_2) + \",\"+ str(shape_below_5) + \"\\n\"\n",
    "\n",
    "\n",
    "\n",
    "    # counting the number of traces for a bus in a day\n",
    "    trace_count = traces.groupBy(\"id_avl\",\"line_id\").agg(f.count(\"id_avl\").alias(\"traces_count_per_bus\"))\n",
    "    # getting some statistics\n",
    "    stats_trace_count = trace_count.agg(f.mean('traces_count_per_bus').alias('mean'),\n",
    "                       f.min('traces_count_per_bus').alias('min'),\n",
    "                       f.max('traces_count_per_bus').alias('max'),\n",
    "                       f.stddev('traces_count_per_bus').alias(\"stddev\")).collect()\n",
    "    # getting the quantiles\n",
    "    trace_count_quantile = trace_count.approxQuantile(\"traces_count_per_bus\", [0.25,0.5,0.75], 0.0001)\n",
    "\n",
    "    # selecting traces below 2 traces\n",
    "    traces_below_2 = trace_count.filter(\"traces_count_per_bus < 2\").count()\n",
    "    \n",
    "    # selecting traces below 10 traces\n",
    "    traces_below_10 = trace_count.filter(\"traces_count_per_bus < 10\").count()\n",
    "    \n",
    "    csv_out_trace_count += \"MO_1510\" + str(day) +\",\"+ str(total_size) +\",\"+ str(stats_trace_count[0][\"mean\"]) +\",\"+ str(stats_trace_count[0][\"min\"]) + \",\" + str(stats_trace_count[0][\"max\"]) + \",\" + str(stats_trace_count[0][\"stddev\"]) + \",\" +str(trace_count_quantile[0]) + \",\" +str(trace_count_quantile[1]) +\",\" +str(trace_count_quantile[2]) +\",\"+ str(traces_below_2) + \",\"+ str(traces_below_10) + \"\\n\"\n",
    "\n",
    "import boto3   \n",
    "s3 = boto3.client('s3')\n",
    "\n",
    "# writing results in S3\n",
    "s3.put_object(Body=bytes(csv_out_shape_count,\"utf-8\"), Bucket='mobility-traces-sp', Key='statistics/exploring-data/6-shapes_seq_per_bus.csv')    \n",
    "s3.put_object(Body=bytes(csv_out_trace_count,\"utf-8\"), Bucket='mobility-traces-sp', Key='statistics/exploring-data/7-traces_per_bus.csv')    "
   ]
  }
 ],
 "metadata": {
  "kernelspec": {
   "display_name": "Python 3",
   "language": "python",
   "name": "python3"
  },
  "language_info": {
   "codemirror_mode": {
    "name": "ipython",
    "version": 3
   },
   "file_extension": ".py",
   "mimetype": "text/x-python",
   "name": "python",
   "nbconvert_exporter": "python",
   "pygments_lexer": "ipython3",
   "version": "3.7.4"
  }
 },
 "nbformat": 4,
 "nbformat_minor": 2
}
