{
 "cells": [
  {
   "cell_type": "markdown",
   "metadata": {},
   "source": [
    "### Filtering data based on map matching and the number traces\n",
    "##### Filters\n",
    "- number_min_shapes_per_bus_per_days = 3 --> a bus can be stopped or not matched with the shape\n",
    "- number_min_traces_per_bus_per_day = 10 --> low register for a day\n",
    "- min_distance_from_the_nearest_shape = 2100 m"
   ]
  },
  {
   "cell_type": "code",
   "execution_count": null,
   "metadata": {},
   "outputs": [
    {
     "data": {
      "application/vnd.jupyter.widget-view+json": {
       "model_id": "21d4a1dfe7c34e7e9669264c99f381e0",
       "version_major": 2,
       "version_minor": 0
      },
      "text/plain": [
       "VBox()"
      ]
     },
     "metadata": {},
     "output_type": "display_data"
    },
    {
     "name": "stdout",
     "output_type": "stream",
     "text": [
      "Starting Spark application\n"
     ]
    },
    {
     "data": {
      "text/html": [
       "<table>\n",
       "<tr><th>ID</th><th>YARN Application ID</th><th>Kind</th><th>State</th><th>Spark UI</th><th>Driver log</th><th>Current session?</th></tr><tr><td>3</td><td>application_1609535288268_0004</td><td>pyspark</td><td>idle</td><td><a target=\"_blank\" href=\"http://ip-172-31-85-173.ec2.internal:20888/proxy/application_1609535288268_0004/\" >Link</a></td><td><a target=\"_blank\" href=\"http://ip-172-31-83-107.ec2.internal:8042/node/containerlogs/container_1609535288268_0004_01_000001/livy\" >Link</a></td><td>✔</td></tr></table>"
      ],
      "text/plain": [
       "<IPython.core.display.HTML object>"
      ]
     },
     "metadata": {},
     "output_type": "display_data"
    },
    {
     "data": {
      "application/vnd.jupyter.widget-view+json": {
       "model_id": "",
       "version_major": 2,
       "version_minor": 0
      },
      "text/plain": [
       "FloatProgress(value=0.0, bar_style='info', description='Progress:', layout=Layout(height='25px', width='50%'),…"
      ]
     },
     "metadata": {},
     "output_type": "display_data"
    },
    {
     "name": "stdout",
     "output_type": "stream",
     "text": [
      "SparkSession available as 'spark'.\n"
     ]
    },
    {
     "data": {
      "application/vnd.jupyter.widget-view+json": {
       "model_id": "ccf19fae03de4207bffb5c9a6d234642",
       "version_major": 2,
       "version_minor": 0
      },
      "text/plain": [
       "FloatProgress(value=0.0, bar_style='info', description='Progress:', layout=Layout(height='25px', width='50%'),…"
      ]
     },
     "metadata": {},
     "output_type": "display_data"
    }
   ],
   "source": [
    "import pyspark.sql.functions as f\n",
    "\n",
    "columns_new = [\"dt_avl\",\"id_avl\",\"line_id\",\"latitude\",\"longitude\",\"hour_avl\",\"hour_diff\",\"region\",\"direction\",\"shape_id\",\"min_distance\",\"min_shape_sequence\",\"min_shape_coord_lat\",\"min_shape_coord_lon\"]\n",
    "\n",
    "for day in range(1,32):\n",
    "    # id_avl,line_id,shape_count,trace_count\n",
    "    trace_shape_count = spark.read.parquet(\"s3://mobility-traces-sp/statistics/buses_count_shape_traces/MO_1510\"+str(day)+\"/\")\n",
    "    \n",
    "    # selecting buses with 3 shapes or less, and 10 traces or less\n",
    "    traces_to_exclude = trace_shape_count.filter((f.col(\"shape_seq_count\") < 4) | (f.col(\"traces_count_per_bus\") < 10)).select(\"id_avl\",\"line_id\")\n",
    "    \n",
    "    # getting the list in tuples (id_avl,lind_id)\n",
    "    traces_to_exclude_L = [(row[\"id_avl\"],row[\"line_id\"]) for row in traces_to_exclude.collect()]\n",
    "    \n",
    "    # converting the tuples to string joined by \"-\"\n",
    "    traces_to_exclude_L_string = [\"-\".join([str(x) for x in item]) for item in traces_to_exclude_L]\n",
    "    \n",
    "    # reading traces from map matching\n",
    "    traces = spark.read.parquet(\"s3://mobility-traces-sp/processed-data-avl-date/8-map-matching/MO_1510\"+ str(day) + \"/\")\n",
    "    \n",
    "    # Filtering traces based on conditions\n",
    "    traces_filtered = traces.withColumn(\"combined_id_avl_line_id\", f.concat(f.col(\"id_avl\"), f.lit(\"-\"), f.col(\"line_id\")))\\\n",
    "        .where((f.col(\"combined_id_avl_line_id\").isin(traces_to_exclude_L_string) == False) & (f.col(\"min_distance\") < 2100))\n",
    "    \n",
    "    # dropping not useful columns\n",
    "    traces_no_columns = traces_filtered.drop(\"time_variation\",\"trip_id\",\"route_id\",\"trip_head\",\"combined_id_avl_line_id\")\n",
    "    \n",
    "    df = traces_no_columns\n",
    "    columns_old = traces_no_columns.schema.names\n",
    "    for i in range(len(columns_old)):\n",
    "        df = df.withColumnRenamed(columns_old[i], columns_new[i])\n",
    "    \n",
    "    df.write.parquet(\"s3://mobility-traces-sp/processed-data-avl-date/9-map-matching-filtered/MO_1510\"+ str(day) + \"/\")\n",
    "   "
   ]
  },
  {
   "cell_type": "code",
   "execution_count": 15,
   "metadata": {},
   "outputs": [
    {
     "data": {
      "application/vnd.jupyter.widget-view+json": {
       "model_id": "fd74080acc994b31bdc2dfd841d907f4",
       "version_major": 2,
       "version_minor": 0
      },
      "text/plain": [
       "VBox()"
      ]
     },
     "metadata": {},
     "output_type": "display_data"
    },
    {
     "data": {
      "application/vnd.jupyter.widget-view+json": {
       "model_id": "",
       "version_major": 2,
       "version_minor": 0
      },
      "text/plain": [
       "FloatProgress(value=0.0, bar_style='info', description='Progress:', layout=Layout(height='25px', width='50%'),…"
      ]
     },
     "metadata": {},
     "output_type": "display_data"
    },
    {
     "name": "stdout",
     "output_type": "stream",
     "text": [
      "MO_15101 18235210 16621820\n",
      "MO_15102 18385300 16755177\n",
      "MO_15103 17622015 12292168\n",
      "MO_15104 16560630 8609774\n",
      "MO_15105 18428187 16798757\n",
      "MO_15106 18475749 16926665\n",
      "MO_15107 18523974 16956014\n",
      "MO_15108 18577969 16993649\n",
      "MO_15109 18596342 17002000\n",
      "MO_151010 17811480 12408728\n",
      "MO_151011 16923105 8740817\n",
      "MO_151012 16990722 9126837\n",
      "MO_151013 17719681 16080639\n",
      "MO_151014 18450039 16816427\n",
      "MO_151015 18381536 16710627\n",
      "MO_151016 18269796 16616179\n",
      "MO_151017 17832181 12358311\n",
      "MO_151018 16871715 8841726\n",
      "MO_151019 18389942 16661462\n",
      "MO_151020 18459838 16759430\n",
      "MO_151021 18596607 16832662\n",
      "MO_151022 18051123 16394539\n",
      "MO_151023 15719670 14350918\n",
      "MO_151024 17761693 12350511\n",
      "MO_151025 16921001 9008124\n",
      "MO_151026 18375335 16656226\n",
      "MO_151027 18569325 16884156\n",
      "MO_151028 18565776 16950706\n",
      "MO_151029 18628360 17020522\n",
      "MO_151030 18676523 17093350\n",
      "MO_151031 17655188 12352555"
     ]
    }
   ],
   "source": [
    "# Analizing data reduction\n",
    "for day in range(1,32):\n",
    "    traces_before = spark.read.parquet(\"s3://mobility-traces-sp/processed-data-avl-date/8-map-matching/MO_1510\"+ str(day) + \"/\")\n",
    "    traces_after  = spark.read.parquet(\"s3://mobility-traces-sp/processed-data-avl-date/9-map-matching-filtered/MO_1510\"+ str(day) + \"/\")\n",
    "    print(\"MO_1510\"+str(day), traces_before.count(),traces_after.count())"
   ]
  }
 ],
 "metadata": {
  "kernelspec": {
   "display_name": "PySpark",
   "language": "",
   "name": "pysparkkernel"
  },
  "language_info": {
   "codemirror_mode": {
    "name": "python",
    "version": 3
   },
   "mimetype": "text/x-python",
   "name": "pyspark",
   "pygments_lexer": "python3"
  }
 },
 "nbformat": 4,
 "nbformat_minor": 4
}
