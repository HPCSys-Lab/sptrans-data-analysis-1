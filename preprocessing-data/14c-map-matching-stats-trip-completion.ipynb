{
 "cells": [
  {
   "cell_type": "code",
   "execution_count": 15,
   "metadata": {},
   "outputs": [
    {
     "data": {
      "application/vnd.jupyter.widget-view+json": {
       "model_id": "761f11e0ad5e4bd0af54ba7a1b3c2ea5",
       "version_major": 2,
       "version_minor": 0
      },
      "text/plain": [
       "VBox()"
      ]
     },
     "metadata": {},
     "output_type": "display_data"
    },
    {
     "data": {
      "application/vnd.jupyter.widget-view+json": {
       "model_id": "",
       "version_major": 2,
       "version_minor": 0
      },
      "text/plain": [
       "FloatProgress(value=0.0, bar_style='info', description='Progress:', layout=Layout(height='25px', width='50%'),…"
      ]
     },
     "metadata": {},
     "output_type": "display_data"
    }
   ],
   "source": [
    "# Getting the vehicules trajectory completion by the number of shapes traveled and the number of shapes planned"
   ]
  },
  {
   "cell_type": "code",
   "execution_count": 2,
   "metadata": {},
   "outputs": [
    {
     "data": {
      "application/vnd.jupyter.widget-view+json": {
       "model_id": "940a5c3e59684950a8a552589fc820aa",
       "version_major": 2,
       "version_minor": 0
      },
      "text/plain": [
       "VBox()"
      ]
     },
     "metadata": {},
     "output_type": "display_data"
    },
    {
     "data": {
      "application/vnd.jupyter.widget-view+json": {
       "model_id": "",
       "version_major": 2,
       "version_minor": 0
      },
      "text/plain": [
       "FloatProgress(value=0.0, bar_style='info', description='Progress:', layout=Layout(height='25px', width='50%'),…"
      ]
     },
     "metadata": {},
     "output_type": "display_data"
    },
    {
     "name": "stdout",
     "output_type": "stream",
     "text": [
      "Collecting boto3\n",
      "Collecting botocore<1.20.0,>=1.19.47 (from boto3)\n",
      "  Using cached https://files.pythonhosted.org/packages/8f/4a/16ffdfc33d93f02604ae9ed1ddb6369030b6f61b583f31dc84e0d0da05c1/botocore-1.19.47-py2.py3-none-any.whl\n",
      "Requirement already satisfied: jmespath<1.0.0,>=0.7.1 in /usr/local/lib/python3.7/site-packages (from boto3)\n",
      "Collecting s3transfer<0.4.0,>=0.3.0 (from boto3)\n",
      "  Using cached https://files.pythonhosted.org/packages/69/79/e6afb3d8b0b4e96cefbdc690f741d7dd24547ff1f94240c997a26fa908d3/s3transfer-0.3.3-py2.py3-none-any.whl\n",
      "Collecting python-dateutil<3.0.0,>=2.1 (from botocore<1.20.0,>=1.19.47->boto3)\n",
      "  Using cached https://files.pythonhosted.org/packages/d4/70/d60450c3dd48ef87586924207ae8907090de0b306af2bce5d134d78615cb/python_dateutil-2.8.1-py2.py3-none-any.whl\n",
      "Collecting urllib3<1.27,>=1.25.4; python_version != \"3.4\" (from botocore<1.20.0,>=1.19.47->boto3)\n",
      "  Using cached https://files.pythonhosted.org/packages/f5/71/45d36a8df68f3ebb098d6861b2c017f3d094538c0fb98fa61d4dc43e69b9/urllib3-1.26.2-py2.py3-none-any.whl\n",
      "Requirement already satisfied: six>=1.5 in /usr/local/lib/python3.7/site-packages (from python-dateutil<3.0.0,>=2.1->botocore<1.20.0,>=1.19.47->boto3)\n",
      "Installing collected packages: python-dateutil, urllib3, botocore, s3transfer, boto3\n",
      "Successfully installed boto3-1.16.47 botocore-1.19.47 python-dateutil-2.8.1 s3transfer-0.3.3 urllib3-1.26.2"
     ]
    }
   ],
   "source": [
    "from pyspark import SparkConf\n",
    "from pyspark import SparkContext\n",
    "\n",
    "spark_conf = (SparkConf().set(\"spark.speculation\", \"false\"))\n",
    "sc = SparkContext.getOrCreate(conf = spark_conf)\n",
    "\n",
    "# spark = sparkSession\n",
    "hadoop_conf = spark._jsc.hadoopConfiguration()\n",
    "hadoop_conf.set(\"fs.s3a.impl\", \"org.apache.hadoop.fs.s3a.S3AFileSystem\")\n",
    "hadoop_conf.set(\"mapreduce.fileoutputcommitter.algorithm.version\",\"2\")\n",
    "\n",
    "# installing required packages for this notebook session\n",
    "sc.install_pypi_package(\"boto3\")"
   ]
  },
  {
   "cell_type": "code",
   "execution_count": null,
   "metadata": {},
   "outputs": [],
   "source": [
    "import pyspark.sql.functions as f\n",
    "import boto3 \n",
    "\n",
    "shapes = spark.read.csv(\"s3://mobility-traces-sp/aux-files/gtfs/shapes.csv\",header=True)\n",
    "shape_df = shapes.groupBy(\"shape_id\").agg(f.countDistinct(\"shape_pt_sequence\").alias(\"shape_size\"))\n",
    "\n",
    "csv_out = \"day,mean,min,max,stddev,quantile_25,quantile_50,quantile_75\\n\"\n",
    "\n",
    "for day in range(1,32):\n",
    "    # reading map matching files\n",
    "    traces = spark.read.parquet(\"s3://mobility-traces-sp/processed-data-avl-date/8-map-matching/MO_1510\"+ str(day) + \"/\")\n",
    "    \n",
    "\n",
    "    # counting the number of different shape sequences for a bus in a day\n",
    "    shape_count = traces.groupBy(\"id_avl\",\"line_id\").agg(f.countDistinct(\"min_shape_sequence\").alias(\"shape_seq_count\"))\n",
    "    \n",
    "    # counting the number of traces for a bus in a day\n",
    "    trace_count = traces.groupBy(\"id_avl\",\"line_id\").agg(f.count(\"id_avl\").alias(\"traces_count_per_bus\"))\n",
    "    \n",
    "    trace_shape = trace_count.join(shape_count,on=[\"id_avl\",\"line_id\"],how=\"left\")\n",
    "    trace_shape_with_shape_id = trace_shape.join(traces,on=[\"id_avl\",\"line_id\"],how=\"left\").dropDuplicates(subset = [\"id_avl\",\"line_id\"]).select(\"id_avl\",\"line_id\",\"shape_id\",\"shape_seq_count\",\"traces_count_per_bus\")\n",
    "\n",
    "    trace_shape_with_size = trace_shape_with_shape_id.join(shape_df, on=[\"shape_id\"],how=\"left\")\n",
    "    df = trace_shape_with_size.withColumn(\"completion_trip\",(f.col(\"shape_seq_count\")/f.col(\"shape_size\") * 100))\n",
    "    stats = df.agg(f.mean('completion_trip').alias('mean'),\n",
    "                       f.min('completion_trip').alias('min'),\n",
    "                       f.max('completion_trip').alias('max'),\n",
    "                       f.stddev('completion_trip').alias(\"stddev\")).collect()\n",
    "    \n",
    "    quantiles = df.approxQuantile(\"completion_trip\", [0.25,0.5,0.75], 0.0001)\n",
    "    \n",
    "    csv_out += \"MO_1510\" + str(day) +\",\"+ str(stats[0][\"mean\"]) +\",\"+ str(stats[0][\"min\"]) + \",\" + str(stats[0][\"max\"]) + \",\" + str(stats[0][\"stddev\"]) + \",\" +str(quantiles[0]) + \",\" +str(quantiles[1]) +\",\" +str(quantiles[2]) + \"\\n\"\n",
    "\n",
    "\n",
    "import boto3   \n",
    "s3 = boto3.client('s3')\n",
    "\n",
    "# writing results in S3\n",
    "s3.put_object(Body=bytes(csv_out,\"utf-8\"), Bucket='mobility-traces-sp', Key='statistics/exploring-data/9-trip-completion.csv')\n",
    "\n"
   ]
  },
  {
   "cell_type": "code",
   "execution_count": null,
   "metadata": {},
   "outputs": [],
   "source": [
    "# Saving counting for shapes and traces for each bus\n",
    "import pyspark.sql.functions as f\n",
    "\n",
    "shapes = spark.read.csv(\"s3://mobility-traces-sp/aux-files/gtfs/shapes.csv\",header=True)\n",
    "shape_df = shapes.groupBy(\"shape_id\").agg(f.countDistinct(\"shape_pt_sequence\").alias(\"shape_size\"))\n",
    "\n",
    "csv_out = \"day,mean,min,max,stddev,quantile_25,quantile_50,quantile_75\\n\"\n",
    "\n",
    "for day in range(1,32):\n",
    "    # reading map matching files\n",
    "    traces = spark.read.parquet(\"s3://mobility-traces-sp/processed-data-avl-date/8-map-matching/MO_1510\"+ str(day) + \"/\")\n",
    "    \n",
    "\n",
    "    # counting the number of different shape sequences for a bus in a day\n",
    "    shape_count = traces.groupBy(\"id_avl\",\"line_id\").agg(f.countDistinct(\"min_shape_sequence\").alias(\"shape_seq_count\"))\n",
    "    \n",
    "    # counting the number of traces for a bus in a day\n",
    "    trace_count = traces.groupBy(\"id_avl\",\"line_id\").agg(f.count(\"id_avl\").alias(\"traces_count_per_bus\"))\n",
    "    \n",
    "    trace_shape = trace_count.join(shape_count,on=[\"id_avl\",\"line_id\"],how=\"left\")\n",
    "    trace_shape_with_shape_id = trace_shape.join(traces,on=[\"id_avl\",\"line_id\"],how=\"left\").dropDuplicates(subset = [\"id_avl\",\"line_id\"]).select(\"id_avl\",\"line_id\",\"shape_id\",\"shape_seq_count\",\"traces_count_per_bus\")\n",
    "\n",
    "    trace_shape_with_size = trace_shape_with_shape_id.join(shape_df, on=[\"shape_id\"],how=\"left\")\n",
    "    df = trace_shape_with_size.withColumn(\"completion_trip\",(f.col(\"shape_seq_count\")/f.col(\"shape_size\") * 100))\n",
    "   \n",
    "    df.write.parquet(\"s3://mobility-traces-sp/statistics/buses_count_shape_traces/MO_1510\"+ str(day) + \"/\")"
   ]
  }
 ],
 "metadata": {
  "kernelspec": {
   "display_name": "Python 3",
   "language": "python",
   "name": "python3"
  },
  "language_info": {
   "codemirror_mode": {
    "name": "ipython",
    "version": 3
   },
   "file_extension": ".py",
   "mimetype": "text/x-python",
   "name": "python",
   "nbconvert_exporter": "python",
   "pygments_lexer": "ipython3",
   "version": "3.7.4"
  }
 },
 "nbformat": 4,
 "nbformat_minor": 4
}
