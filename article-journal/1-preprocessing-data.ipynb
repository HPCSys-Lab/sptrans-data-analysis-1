{
 "cells": [
  {
   "cell_type": "markdown",
   "metadata": {},
   "source": [
    "# Preprocessing steps"
   ]
  },
  {
   "cell_type": "code",
   "execution_count": 5,
   "metadata": {},
   "outputs": [
    {
     "data": {
      "application/vnd.jupyter.widget-view+json": {
       "model_id": "6310aea957d04bcea5769674702315ea",
       "version_major": 2,
       "version_minor": 0
      },
      "text/plain": [
       "VBox()"
      ]
     },
     "metadata": {},
     "output_type": "display_data"
    },
    {
     "data": {
      "application/vnd.jupyter.widget-view+json": {
       "model_id": "",
       "version_major": 2,
       "version_minor": 0
      },
      "text/plain": [
       "FloatProgress(value=0.0, bar_style='info', description='Progress:', layout=Layout(height='25px', width='50%'),…"
      ]
     },
     "metadata": {},
     "output_type": "display_data"
    },
    {
     "name": "stdout",
     "output_type": "stream",
     "text": [
      "--- 1802.7558500766754 seconds ---"
     ]
    }
   ],
   "source": [
    "# Calculating partition 15min to clean data\n",
    "import pyspark.sql.functions as F\n",
    "\n",
    "import time\n",
    "# measure time execution\n",
    "start_time = time.time()\n",
    "\n",
    "# October 1 - Oct 31\n",
    "for day in range(1,32):\n",
    "    traces = spark.read.parquet(f\"s3://mobility-traces-sp/processed-data-avl-date/8-map-matching/MO_1510{day}/\")\n",
    "    traces = traces.repartition(150) \n",
    "    df_enriched = traces\\\n",
    "        .withColumn('minute_avl',F.minute(F.col(\"dt_avl\")))\\\n",
    "        .withColumn(\"15_min_partition\",F.concat(F.col(\"hour_avl\"),F.lit(\"-\"),F.floor(F.col(\"minute_avl\")/15)))\\\n",
    "        .drop(\"hour_diff\",\"time_variation\",\"trip_id\",\"direction\",\"route_id\",\"trip_head\")\n",
    "    df_enriched.repartition(150).write.parquet(f\"s3://mobility-traces-sp/processed-data-avl-date/using-15-min-filter/8-map-matching-enriched/MO_1510{day}/\")\n",
    "    \n",
    "print(\"--- %s seconds ---\" % (time.time() - start_time))\n",
    "# Cluster 1 Master Node - c5.9xlarge, Core Nodes - 8 c5.9xlarge\n",
    "# 1800 seconds"
   ]
  },
  {
   "cell_type": "code",
   "execution_count": 6,
   "metadata": {},
   "outputs": [
    {
     "data": {
      "application/vnd.jupyter.widget-view+json": {
       "model_id": "4d01c97a86454fdeb24105d5ded47798",
       "version_major": 2,
       "version_minor": 0
      },
      "text/plain": [
       "VBox()"
      ]
     },
     "metadata": {},
     "output_type": "display_data"
    },
    {
     "data": {
      "application/vnd.jupyter.widget-view+json": {
       "model_id": "",
       "version_major": 2,
       "version_minor": 0
      },
      "text/plain": [
       "FloatProgress(value=0.0, bar_style='info', description='Progress:', layout=Layout(height='25px', width='50%'),…"
      ]
     },
     "metadata": {},
     "output_type": "display_data"
    },
    {
     "name": "stdout",
     "output_type": "stream",
     "text": [
      "Day 1\n",
      "[Row(mean=436.36319595663747, min=0.0, max=43217.784192039915, stddev=1366.5488256293363)]\n",
      "[9.602056040873755, 20.891104443831036, 24.37105313880389, 28.67433231896753, 53.26550776259943, 77.95274141254562]\n",
      "Day 2\n",
      "[Row(mean=441.88437239728944, min=0.0, max=54529.50900703268, stddev=1382.2144781286675)]\n",
      "[9.848074753554256, 21.07382093061351, 24.55635231142709, 28.880025548690814, 53.76824384577271, 79.45578282938614]\n",
      "Day 3\n",
      "[Row(mean=1024.170590014718, min=0.0, max=42763.82291702403, stddev=1923.7103492875638)]\n",
      "[12.707925599866817, 38.388459189277725, 53.23005741874364, 95.58318178783884, 1385.362561469755, 1887.9414857372176]\n",
      "Day 4\n",
      "[Row(mean=1404.9278918485875, min=0.0, max=47059.875464543045, stddev=2134.757835324653)]\n",
      "[18.070756268892563, 205.84379574592904, 429.1106460696577, 929.9500850366549, 2089.3772051961523, 2627.9150612196154]\n",
      "Day 5\n",
      "[Row(mean=456.1455057304434, min=0.0, max=37157.14456906165, stddev=1426.9824488544034)]\n",
      "[9.636552342924771, 21.042093583851045, 24.599655240440274, 29.011404495677095, 54.364451713193375, 81.67088557230588]\n",
      "Day 6\n",
      "[Row(mean=425.91065570837065, min=0.0, max=47500.208491444675, stddev=1366.9215923935765)]\n",
      "[9.516277445992376, 20.707388932342436, 24.15771112821872, 28.372994476704076, 52.263906019577924, 74.68532247034348]\n",
      "Day 7\n",
      "[Row(mean=435.72563579973456, min=0.0, max=48432.639998733845, stddev=1383.8977494915537)]\n",
      "[9.549758245085537, 20.811282686735318, 24.30198563503866, 28.604883146188868, 53.21149523213711, 78.16069214181631]\n",
      "Day 8\n",
      "[Row(mean=426.7945581235925, min=0.0, max=47773.44723461922, stddev=1369.0589962286867)]\n",
      "[9.71309985412993, 20.994232805208792, 24.483444188130036, 28.794429913549067, 53.57897921399148, 78.53539004226081]\n",
      "Day 9\n",
      "[Row(mean=433.98115860821275, min=0.0, max=44524.25819573546, stddev=1422.24741214434)]\n",
      "[9.543770801514757, 20.785556342994578, 24.266805436130653, 28.55376249317506, 52.92238195950183, 77.25883925691565]\n",
      "Day 10\n",
      "[Row(mean=1007.7125327037656, min=0.0, max=47177.50963922777, stddev=1895.3770631540826)]\n",
      "[12.509983684546631, 37.669068348618936, 51.82825106675608, 90.0801079091346, 1330.4198904351833, 1873.243110212997]\n",
      "Day 11\n",
      "[Row(mean=1396.3110342479238, min=0.0, max=51997.20271855329, stddev=2093.2890668244127)]\n",
      "[18.081504202833674, 217.8229839970771, 444.9320799102022, 918.2780737548164, 2113.8445850138637, 2643.787427501018]\n",
      "Day 12\n",
      "[Row(mean=1363.872891124416, min=0.0, max=50150.08401684229, stddev=2049.1417497380826)]\n",
      "[17.263026211001268, 184.64689597150263, 372.8931551276631, 808.2340201979222, 2064.174938822736, 2622.225870329313]\n",
      "Day 13\n",
      "[Row(mean=458.3546458819919, min=0.0, max=39739.11130824425, stddev=1413.5297993976772)]\n",
      "[9.885720614415309, 21.520035857068144, 25.160071651574462, 29.72330911535572, 57.155193756823216, 90.30586379671973]\n",
      "Day 14\n",
      "[Row(mean=433.8660427908534, min=0.0, max=43276.19763707644, stddev=1367.4147825767943)]\n",
      "[9.627772306293046, 20.91887346999927, 24.419143607808003, 28.7511516773956, 53.55978394224355, 78.75875431480165]\n",
      "Day 15\n",
      "[Row(mean=451.2436132574404, min=0.0, max=47220.621283133776, stddev=1393.19813421345)]\n",
      "[9.91275915729901, 21.35609115951337, 24.94812214040201, 29.38079753440585, 55.561526068271014, 85.39221869045942]\n",
      "Day 16\n",
      "[Row(mean=443.56003445476364, min=0.0, max=47265.33335166784, stddev=1378.7072197573339)]\n",
      "[9.920720008047237, 21.28467523117054, 24.854461800449226, 29.27453232691044, 55.11328402692459, 83.87417888425001]\n",
      "Day 17\n",
      "[Row(mean=1030.775547706574, min=0.0, max=47193.11601182152, stddev=1919.7891907323528)]\n",
      "[12.788398408567677, 38.54200946722171, 53.42204015267779, 95.82027917385831, 1389.5743961163118, 1894.5203767333705]\n",
      "Day 18\n",
      "[Row(mean=1393.0034530379096, min=0.0, max=48360.645049542545, stddev=2090.582242235288)]\n",
      "[18.351311100900585, 211.24281170306992, 426.10778937902586, 911.4148221403223, 2098.257828444965, 2642.027112919951]\n",
      "Day 19\n",
      "[Row(mean=462.6792296413179, min=0.0, max=45829.83236670946, stddev=1418.996727452974)]\n",
      "[9.864131154428478, 21.281218610801552, 24.850771707151168, 29.307890188918247, 55.849749207078425, 86.7892971058362]\n",
      "Day 20\n",
      "[Row(mean=448.68288702629724, min=0.0, max=47949.38889211308, stddev=1379.033684118336)]\n",
      "[9.811137878439181, 21.23005043184026, 24.783643628044835, 29.211816953304407, 55.487130243021, 85.17304263946865]\n",
      "Day 21\n",
      "[Row(mean=463.4491672463551, min=0.0, max=49915.85119441432, stddev=1438.3251709469139)]\n",
      "[9.664881903309665, 21.17744391932552, 24.738918228132903, 29.215575563508366, 55.83981658888542, 87.33174524765697]\n",
      "Day 22\n",
      "[Row(mean=451.3753610808805, min=0.0, max=51502.75204270933, stddev=1436.5068040083418)]\n",
      "[9.894596100368021, 21.39753020344973, 24.985080249983984, 29.46984826355762, 55.836747935956744, 85.96985559798976]\n",
      "Day 23\n",
      "[Row(mean=433.2061968843478, min=0.0, max=39031.467494685254, stddev=1396.0676903774563)]\n",
      "[9.873684422983926, 21.04113599676558, 24.496957181469504, 28.78401160611593, 53.50095278922086, 78.4509674888744]\n",
      "Day 24\n",
      "[Row(mean=1016.4241469493354, min=0.0, max=40738.7025581073, stddev=1916.454758414408)]\n",
      "[12.607962888704641, 38.18919846032278, 52.636841669958564, 92.63752055825836, 1362.62622295369, 1886.6600677793028]\n",
      "Day 25\n",
      "[Row(mean=1382.5477544154164, min=0.0, max=37875.259792306606, stddev=2123.3588887137184)]\n",
      "[17.96449335788327, 187.39444236099777, 382.0344947512901, 830.535080179521, 2065.940824237592, 2591.3442596514224]\n",
      "Day 26\n",
      "[Row(mean=466.64770027509337, min=0.0, max=46944.242009996604, stddev=1445.458187696519)]\n",
      "[9.813332886082524, 21.312484344833027, 24.911021883185473, 29.42176324995495, 56.385813315997716, 88.76749470438698]\n",
      "Day 27\n",
      "[Row(mean=455.67425117366537, min=0.0, max=50649.73727590371, stddev=1441.8164724768892)]\n",
      "[9.78619972452827, 21.20062617879036, 24.753832096265583, 29.2022583810975, 55.38027981045468, 84.52364073113868]\n",
      "Day 28\n",
      "[Row(mean=434.8245110972375, min=0.0, max=46394.716631635, stddev=1402.3470833916103)]\n",
      "[9.78555948218447, 20.94372521218577, 24.413649463107777, 28.723800231857222, 53.40452354964437, 78.03077543932493]\n",
      "Day 29\n",
      "[Row(mean=430.55224923683653, min=0.0, max=47966.57175669165, stddev=1373.04424771188)]\n",
      "[9.52261232500302, 20.80247654752166, 24.289671040934905, 28.587552303205598, 53.03776788701655, 77.23484290973627]\n",
      "Day 30\n",
      "[Row(mean=418.4133634921879, min=0.0, max=48293.58147577742, stddev=1353.6585073881477)]\n",
      "[9.661206480152703, 20.788174775476055, 24.217984942256592, 28.470500731990498, 52.305668154552805, 75.17269031292994]\n",
      "Day 31\n",
      "[Row(mean=1012.657683496836, min=0.0, max=37542.535054625, stddev=1938.1984267699618)]\n",
      "[12.3637291947793, 36.91323319991037, 50.48401707951321, 85.03555527340522, 1340.4903066976112, 1859.729361399119]\n",
      "--- 60.69464612007141 seconds ---"
     ]
    }
   ],
   "source": [
    "# Statistics shape distance\n",
    "\n",
    "import pyspark.sql.functions as F\n",
    "\n",
    "import time\n",
    "# measure time execution\n",
    "start_time = time.time()\n",
    "\n",
    "# Oct 1- Oct 31\n",
    "for day in range(1,32):\n",
    "\n",
    "    traces = spark.read.parquet(f\"s3://mobility-traces-sp/processed-data-avl-date/using-15-min-filter/8-map-matching-enriched/MO_1510{day}/\")\n",
    "    \n",
    "    print(\"Day\", day)\n",
    "    stats = traces.agg(F.mean('min_distance').alias('mean'),\n",
    "                           F.min('min_distance').alias('min'),\n",
    "                           F.max('min_distance').alias('max'),\n",
    "                           F.stddev('min_distance').alias(\"stddev\")).collect()\n",
    "\n",
    "    print(stats)\n",
    "\n",
    "    quantiles = traces.approxQuantile(\"min_distance\", [0.25,0.5,0.55,0.6,0.75,0.8], 0.0001)\n",
    "    \n",
    "    print(quantiles)\n",
    "    \n",
    "print(\"--- %s seconds ---\" % (time.time() - start_time))\n",
    "# Cluster 1 Master Node - c5.9xlarge, Core Nodes - 8 c5.9xlarge\n",
    "# 60 seconds"
   ]
  },
  {
   "cell_type": "code",
   "execution_count": 3,
   "metadata": {
    "scrolled": true
   },
   "outputs": [
    {
     "data": {
      "application/vnd.jupyter.widget-view+json": {
       "model_id": "7ad0c01644d74f7e8041d4fa2cfd92ed",
       "version_major": 2,
       "version_minor": 0
      },
      "text/plain": [
       "VBox()"
      ]
     },
     "metadata": {},
     "output_type": "display_data"
    },
    {
     "data": {
      "application/vnd.jupyter.widget-view+json": {
       "model_id": "",
       "version_major": 2,
       "version_minor": 0
      },
      "text/plain": [
       "FloatProgress(value=0.0, bar_style='info', description='Progress:', layout=Layout(height='25px', width='50%'),…"
      ]
     },
     "metadata": {},
     "output_type": "display_data"
    },
    {
     "name": "stdout",
     "output_type": "stream",
     "text": [
      "--- 128.23097229003906 seconds ---"
     ]
    }
   ],
   "source": [
    "# Filtering data based on shape matching min_distance (distance between trace and shape sequence)\n",
    "\n",
    "import time\n",
    "# measure time execution\n",
    "start_time = time.time()\n",
    "\n",
    "for day in range(1,32):\n",
    "    traces = spark.read.parquet(f\"s3://mobility-traces-sp/processed-data-avl-date/using-15-min-filter/8-map-matching-enriched/MO_1510{day}/\")\n",
    "    traces_filtered = traces.filter(\"min_distance <= 450\")\n",
    "    traces_filtered.write.parquet(f\"s3://mobility-traces-sp/processed-data-avl-date/using-15-min-filter/9a-filtered-traces-based-shape-distance/MO_1510{day}/\")\n",
    "\n",
    "print(\"--- %s seconds ---\" % (time.time() - start_time))\n",
    "# Cluster 1 Master Node - c5.9xlarge, Core Nodes - 8 c5.9xlarge\n",
    "# 128 seconds"
   ]
  },
  {
   "cell_type": "code",
   "execution_count": 7,
   "metadata": {},
   "outputs": [
    {
     "data": {
      "application/vnd.jupyter.widget-view+json": {
       "model_id": "fbb7bc33eb0441e6bacaf88679a1b22f",
       "version_major": 2,
       "version_minor": 0
      },
      "text/plain": [
       "VBox()"
      ]
     },
     "metadata": {},
     "output_type": "display_data"
    },
    {
     "data": {
      "application/vnd.jupyter.widget-view+json": {
       "model_id": "",
       "version_major": 2,
       "version_minor": 0
      },
      "text/plain": [
       "FloatProgress(value=0.0, bar_style='info', description='Progress:', layout=Layout(height='25px', width='50%'),…"
      ]
     },
     "metadata": {},
     "output_type": "display_data"
    },
    {
     "name": "stdout",
     "output_type": "stream",
     "text": [
      "--- 194.5266535282135 seconds ---"
     ]
    }
   ],
   "source": [
    "# Counting the number of shapes and traces per bus after the first filter based on shape_distance\n",
    "\n",
    "import time\n",
    "# measure time execution\n",
    "start_time = time.time()\n",
    "\n",
    "import pyspark.sql.functions as F\n",
    "\n",
    "# Oct 1 - Oct 31\n",
    "for day in range(1,32):\n",
    "\n",
    "    traces = spark.read.parquet(f\"s3://mobility-traces-sp/processed-data-avl-date/using-15-min-filter/9a-filtered-traces-based-shape-distance/MO_1510{day}/\")\n",
    "    \n",
    "    # count the number of shapes in the 15 min partition\n",
    "    count_shape_per_15 = traces.groupby(\"id_avl\",\"15_min_partition\").agg(F.countDistinct(\"min_shape_sequence\").alias(\"count_shape\"))\n",
    "    \n",
    "    count_shape_per_15.write.parquet(f\"s3://mobility-traces-sp/processed-data-avl-date/using-15-min-filter/statistics/count-shape-per-15-min/MO_1510{day}/\")\n",
    "    \n",
    "    # count the number of traces per bus per day \n",
    "    count_traces_per_bus = traces.groupby(\"id_avl\").agg(F.count(\"id_avl\").alias(\"count_traces\"))\n",
    "    \n",
    "    count_traces_per_bus.write.parquet(f\"s3://mobility-traces-sp/processed-data-avl-date/using-15-min-filter/statistics/count-traces-per-bus/MO_1510{day}/\")\n",
    "    \n",
    "print(\"--- %s seconds ---\" % (time.time() - start_time))\n",
    "# Cluster 1 Master Node - c5.9xlarge, Core Nodes - 8 c5.9xlarge\n",
    "# 194 seconds"
   ]
  },
  {
   "cell_type": "code",
   "execution_count": 9,
   "metadata": {},
   "outputs": [
    {
     "data": {
      "application/vnd.jupyter.widget-view+json": {
       "model_id": "542a39e1b8454f309fd9c87591046185",
       "version_major": 2,
       "version_minor": 0
      },
      "text/plain": [
       "VBox()"
      ]
     },
     "metadata": {},
     "output_type": "display_data"
    },
    {
     "data": {
      "application/vnd.jupyter.widget-view+json": {
       "model_id": "",
       "version_major": 2,
       "version_minor": 0
      },
      "text/plain": [
       "FloatProgress(value=0.0, bar_style='info', description='Progress:', layout=Layout(height='25px', width='50%'),…"
      ]
     },
     "metadata": {},
     "output_type": "display_data"
    },
    {
     "name": "stdout",
     "output_type": "stream",
     "text": [
      "Day 1\n",
      "[Row(mean=13.095092878064778, min=1, max=118, stddev=7.316025382543044)]\n",
      "[1.0, 2.0, 7.0, 14.0, 19.0]\n",
      "Day 2\n",
      "[Row(mean=13.22835431693853, min=1, max=142, stddev=7.245230970352681)]\n",
      "[1.0, 3.0, 8.0, 15.0, 19.0]\n",
      "Day 3\n",
      "[Row(mean=12.28124938291108, min=1, max=139, stddev=7.978452832646986)]\n",
      "[1.0, 1.0, 5.0, 14.0, 19.0]\n",
      "Day 4\n",
      "[Row(mean=10.717148531410055, min=1, max=132, stddev=8.552036228283928)]\n",
      "[1.0, 1.0, 2.0, 10.0, 19.0]\n",
      "Day 5\n",
      "[Row(mean=13.234250047295275, min=1, max=142, stddev=7.3439870342518265)]\n",
      "[1.0, 2.0, 7.0, 15.0, 19.0]\n",
      "Day 6\n",
      "[Row(mean=13.268405719352364, min=1, max=133, stddev=7.319598599612858)]\n",
      "[1.0, 3.0, 8.0, 15.0, 19.0]\n",
      "Day 7\n",
      "[Row(mean=13.329297435674386, min=1, max=141, stddev=7.239826742567762)]\n",
      "[1.0, 3.0, 8.0, 15.0, 19.0]\n",
      "Day 8\n",
      "[Row(mean=13.280173448584263, min=1, max=134, stddev=7.292365174355095)]\n",
      "[1.0, 2.0, 8.0, 15.0, 19.0]\n",
      "Day 9\n",
      "[Row(mean=13.36215483580825, min=1, max=152, stddev=7.201804037456983)]\n",
      "[1.0, 3.0, 8.0, 15.0, 19.0]\n",
      "Day 10\n",
      "[Row(mean=12.241808592426572, min=1, max=126, stddev=8.05070051790821)]\n",
      "[1.0, 1.0, 4.0, 13.0, 19.0]\n",
      "Day 11\n",
      "[Row(mean=10.706274465663652, min=1, max=135, stddev=8.642403707476138)]\n",
      "[1.0, 1.0, 1.0, 10.0, 19.0]\n",
      "Day 12\n",
      "[Row(mean=10.843205682139912, min=1, max=142, stddev=8.607323630591056)]\n",
      "[1.0, 1.0, 2.0, 10.0, 19.0]\n",
      "Day 13\n",
      "[Row(mean=13.000867050169626, min=1, max=123, stddev=7.350386276576151)]\n",
      "[1.0, 2.0, 7.0, 14.0, 19.0]\n",
      "Day 14\n",
      "[Row(mean=13.234571649714168, min=1, max=135, stddev=7.309275764309365)]\n",
      "[1.0, 2.0, 7.0, 15.0, 19.0]\n",
      "Day 15\n",
      "[Row(mean=13.131706196476587, min=1, max=147, stddev=7.365765959554616)]\n",
      "[1.0, 2.0, 7.0, 15.0, 19.0]\n",
      "Day 16\n",
      "[Row(mean=13.149629248963068, min=1, max=153, stddev=7.3356865786609635)]\n",
      "[1.0, 2.0, 7.0, 15.0, 19.0]\n",
      "Day 17\n",
      "[Row(mean=12.209198370429059, min=1, max=138, stddev=8.095330200645693)]\n",
      "[1.0, 1.0, 4.0, 13.0, 19.0]\n",
      "Day 18\n",
      "[Row(mean=10.592016291422558, min=1, max=159, stddev=8.721933638134612)]\n",
      "[1.0, 1.0, 1.0, 10.0, 19.0]\n",
      "Day 19\n",
      "[Row(mean=13.144174337722724, min=1, max=149, stddev=7.41891080613635)]\n",
      "[1.0, 2.0, 7.0, 15.0, 19.0]\n",
      "Day 20\n",
      "[Row(mean=13.19097583539297, min=1, max=149, stddev=7.366010065819521)]\n",
      "[1.0, 2.0, 7.0, 15.0, 19.0]\n",
      "Day 21\n",
      "[Row(mean=13.298262361063186, min=1, max=140, stddev=7.401117849647732)]\n",
      "[1.0, 2.0, 8.0, 15.0, 19.0]\n",
      "Day 22\n",
      "[Row(mean=13.074652182223478, min=1, max=154, stddev=7.3874570988189)]\n",
      "[1.0, 2.0, 7.0, 15.0, 19.0]\n",
      "Day 23\n",
      "[Row(mean=12.923686213264212, min=1, max=127, stddev=7.313283394655883)]\n",
      "[1.0, 2.0, 7.0, 14.0, 19.0]\n",
      "Day 24\n",
      "[Row(mean=12.086120883206192, min=1, max=158, stddev=8.032435639014842)]\n",
      "[1.0, 1.0, 4.0, 13.0, 19.0]\n",
      "Day 25\n",
      "[Row(mean=10.726752080036752, min=1, max=173, stddev=8.58469125539036)]\n",
      "[1.0, 1.0, 2.0, 10.0, 19.0]\n",
      "Day 26\n",
      "[Row(mean=13.192650695742392, min=1, max=151, stddev=7.393661832236879)]\n",
      "[1.0, 2.0, 7.0, 15.0, 19.0]\n",
      "Day 27\n",
      "[Row(mean=13.278461692689406, min=1, max=171, stddev=7.3216524315672)]\n",
      "[1.0, 2.0, 8.0, 15.0, 19.0]\n",
      "Day 28\n",
      "[Row(mean=13.350964152289176, min=1, max=162, stddev=7.338576095312758)]\n",
      "[1.0, 3.0, 8.0, 15.0, 19.0]\n",
      "Day 29\n",
      "[Row(mean=13.290017194572387, min=1, max=163, stddev=7.380444466514596)]\n",
      "[1.0, 2.0, 8.0, 15.0, 19.0]\n",
      "Day 30\n",
      "[Row(mean=13.31010435218926, min=1, max=175, stddev=7.403509637608845)]\n",
      "[1.0, 2.0, 8.0, 15.0, 19.0]\n",
      "Day 31\n",
      "[Row(mean=12.231073958107691, min=1, max=162, stddev=8.155204876212823)]\n",
      "[1.0, 1.0, 4.0, 13.0, 19.0]"
     ]
    }
   ],
   "source": [
    "# Statistics shape count\n",
    "\n",
    "for day in range(1,32):\n",
    "\n",
    "    count_shape = spark.read.parquet(f\"s3://mobility-traces-sp/processed-data-avl-date/using-15-min-filter/statistics/count-shape-per-15-min/MO_1510{day}/\")\n",
    "\n",
    "    print(\"Day\", day)\n",
    "    stats = count_shape.agg(F.mean('count_shape').alias('mean'),\n",
    "                           F.min('count_shape').alias('min'),\n",
    "                           F.max('count_shape').alias('max'),\n",
    "                           F.stddev('count_shape').alias(\"stddev\")).collect()\n",
    "\n",
    "    print(stats)\n",
    "\n",
    "    quantiles = count_shape.approxQuantile(\"count_shape\", [0.0625,0.125,0.25,0.5,0.75], 0.0001)\n",
    "\n",
    "    print(quantiles)"
   ]
  },
  {
   "cell_type": "code",
   "execution_count": 10,
   "metadata": {},
   "outputs": [
    {
     "data": {
      "application/vnd.jupyter.widget-view+json": {
       "model_id": "f58297c539ea49928577a6f6a9f0a7ee",
       "version_major": 2,
       "version_minor": 0
      },
      "text/plain": [
       "VBox()"
      ]
     },
     "metadata": {},
     "output_type": "display_data"
    },
    {
     "data": {
      "application/vnd.jupyter.widget-view+json": {
       "model_id": "",
       "version_major": 2,
       "version_minor": 0
      },
      "text/plain": [
       "FloatProgress(value=0.0, bar_style='info', description='Progress:', layout=Layout(height='25px', width='50%'),…"
      ]
     },
     "metadata": {},
     "output_type": "display_data"
    },
    {
     "name": "stdout",
     "output_type": "stream",
     "text": [
      "Day 1\n",
      "[Row(mean=1122.1033356990774, min=1, max=25956, stddev=755.7302778034827)]\n",
      "[372.0, 539.0, 741.0, 1232.0, 1403.0]\n",
      "Day 2\n",
      "[Row(mean=1129.6661931818182, min=1, max=24974, stddev=704.9896598980055)]\n",
      "[387.0, 551.0, 775.0, 1243.0, 1403.0]\n",
      "Day 3\n",
      "[Row(mean=1081.5757823129252, min=1, max=28270, stddev=741.9633661413093)]\n",
      "[217.0, 448.0, 696.0, 1225.0, 1390.0]\n",
      "Day 4\n",
      "[Row(mean=1052.7197056794666, min=1, max=30499, stddev=676.3675794440411)]\n",
      "[161.0, 407.0, 651.0, 1203.0, 1376.0]\n",
      "Day 5\n",
      "[Row(mean=1134.1929649672459, min=1, max=27104, stddev=786.9617648107253)]\n",
      "[379.0, 547.0, 781.0, 1244.0, 1406.0]\n",
      "Day 6\n",
      "[Row(mean=1145.5489219383762, min=1, max=29889, stddev=834.4138551176568)]\n",
      "[401.0, 564.0, 808.0, 1248.0, 1407.0]\n",
      "Day 7\n",
      "[Row(mean=1142.036148865011, min=1, max=30216, stddev=755.4333933870798)]\n",
      "[405.0, 560.0, 809.0, 1252.0, 1406.0]\n",
      "Day 8\n",
      "[Row(mean=1147.0251885584175, min=1, max=30193, stddev=775.8133065138508)]\n",
      "[412.0, 568.0, 816.0, 1253.0, 1410.0]\n",
      "Day 9\n",
      "[Row(mean=1152.2321390412424, min=1, max=31071, stddev=852.2528838025543)]\n",
      "[413.0, 568.0, 819.0, 1255.0, 1408.0]\n",
      "Day 10\n",
      "[Row(mean=1101.8224578575312, min=1, max=28021, stddev=831.5471529387229)]\n",
      "[255.0, 479.0, 720.0, 1238.0, 1393.0]\n",
      "Day 11\n",
      "[Row(mean=1082.3482754616189, min=1, max=31435, stddev=872.9960329025749)]\n",
      "[197.0, 434.0, 670.0, 1247.0, 1384.0]\n",
      "Day 12\n",
      "[Row(mean=1078.5651044607566, min=1, max=31784, stddev=924.6220026459289)]\n",
      "[180.0, 408.0, 646.0, 1235.0, 1386.0]\n",
      "Day 13\n",
      "[Row(mean=1090.8726752503576, min=1, max=32190, stddev=700.8687821660062)]\n",
      "[368.0, 534.0, 779.0, 1195.0, 1352.0]\n",
      "Day 14\n",
      "[Row(mean=1141.866533438013, min=1, max=28030, stddev=703.2555838108483)]\n",
      "[408.0, 566.0, 819.0, 1252.0, 1406.0]\n",
      "Day 15\n",
      "[Row(mean=1127.5056243770468, min=1, max=30501, stddev=770.8547932099248)]\n",
      "[381.0, 550.0, 795.0, 1232.0, 1399.0]\n",
      "Day 16\n",
      "[Row(mean=1123.7582025677602, min=1, max=31037, stddev=755.3022980728929)]\n",
      "[377.0, 548.0, 780.0, 1231.0, 1400.0]\n",
      "Day 17\n",
      "[Row(mean=1088.18892096716, min=1, max=30984, stddev=825.5146924676018)]\n",
      "[242.0, 469.0, 703.0, 1221.0, 1391.0]\n",
      "Day 18\n",
      "[Row(mean=1073.6342443729905, min=1, max=30819, stddev=870.7691978866116)]\n",
      "[146.0, 397.0, 657.0, 1237.0, 1383.0]\n",
      "Day 19\n",
      "[Row(mean=1126.5276886893307, min=1, max=32699, stddev=779.6383204351057)]\n",
      "[386.0, 552.0, 777.0, 1232.0, 1400.0]\n",
      "Day 20\n",
      "[Row(mean=1131.246562655838, min=1, max=30347, stddev=751.1627410203432)]\n",
      "[394.0, 555.0, 786.0, 1239.0, 1403.0]\n",
      "Day 21\n",
      "[Row(mean=1140.3682405886134, min=1, max=30277, stddev=854.0118769369683)]\n",
      "[387.0, 552.0, 789.0, 1245.0, 1405.0]\n",
      "Day 22\n",
      "[Row(mean=1109.245957689294, min=1, max=30053, stddev=796.3948979189058)]\n",
      "[388.0, 542.0, 789.0, 1210.0, 1366.0]\n",
      "Day 23\n",
      "[Row(mean=973.355344790701, min=1, max=24695, stddev=620.1442888358113)]\n",
      "[373.0, 498.0, 721.0, 1055.0, 1189.0]\n",
      "Day 24\n",
      "[Row(mean=1096.9767124533794, min=1, max=30623, stddev=786.4444963137831)]\n",
      "[267.0, 496.0, 748.0, 1225.0, 1383.0]\n",
      "Day 25\n",
      "[Row(mean=1067.8332582751632, min=1, max=28418, stddev=718.199568665895)]\n",
      "[164.0, 424.0, 683.0, 1225.0, 1375.0]\n",
      "Day 26\n",
      "[Row(mean=1127.136512923033, min=1, max=29779, stddev=702.6514047319237)]\n",
      "[398.0, 561.0, 801.0, 1234.0, 1399.0]\n",
      "Day 27\n",
      "[Row(mean=1142.3755523877405, min=1, max=30446, stddev=797.4173033657278)]\n",
      "[399.0, 559.0, 823.0, 1244.0, 1405.0]\n",
      "Day 28\n",
      "[Row(mean=1148.3223440615209, min=1, max=28169, stddev=819.6084557734654)]\n",
      "[399.0, 562.0, 825.0, 1252.0, 1405.0]\n",
      "Day 29\n",
      "[Row(mean=1152.2895354627587, min=1, max=30193, stddev=911.1542635751696)]\n",
      "[401.0, 559.0, 836.0, 1250.0, 1402.0]\n",
      "Day 30\n",
      "[Row(mean=1161.0727687807662, min=1, max=30856, stddev=909.0930808111767)]\n",
      "[418.0, 571.0, 840.0, 1255.0, 1409.0]\n",
      "Day 31\n",
      "[Row(mean=1099.9985422740524, min=1, max=28491, stddev=798.190328463993)]\n",
      "[251.0, 481.0, 732.0, 1228.0, 1395.0]"
     ]
    },
    {
     "name": "stderr",
     "output_type": "stream",
     "text": [
      "Exception in thread cell_monitor-10:\n",
      "Traceback (most recent call last):\n",
      "  File \"/mnt/notebook-env/lib/python3.7/threading.py\", line 926, in _bootstrap_inner\n",
      "    self.run()\n",
      "  File \"/mnt/notebook-env/lib/python3.7/threading.py\", line 870, in run\n",
      "    self._target(*self._args, **self._kwargs)\n",
      "  File \"/mnt/notebook-env/lib/python3.7/site-packages/awseditorssparkmonitoringwidget-1.0-py3.7.egg/awseditorssparkmonitoringwidget/cellmonitor.py\", line 178, in cell_monitor\n",
      "    job_binned_stages[job_id][stage_id] = all_stages[stage_id]\n",
      "KeyError: 1297\n",
      "\n"
     ]
    }
   ],
   "source": [
    "# Statistics traces count per bus per day\n",
    "\n",
    "for day in range(1,32):\n",
    "\n",
    "    count_traces = spark.read.parquet(f\"s3://mobility-traces-sp/processed-data-avl-date/using-15-min-filter/statistics/count-traces-per-bus/MO_1510{day}/\")\n",
    "\n",
    "    print(\"Day\", day)\n",
    "    stats = count_traces.agg(F.mean('count_traces').alias('mean'),\n",
    "                           F.min('count_traces').alias('min'),\n",
    "                           F.max('count_traces').alias('max'),\n",
    "                           F.stddev('count_traces').alias(\"stddev\")).collect()\n",
    "\n",
    "    print(stats)\n",
    "\n",
    "    quantiles = count_traces.approxQuantile(\"count_traces\", [0.0625,0.125,0.25,0.5,0.75], 0.0001)\n",
    "\n",
    "    print(quantiles)"
   ]
  },
  {
   "cell_type": "code",
   "execution_count": 3,
   "metadata": {},
   "outputs": [
    {
     "data": {
      "application/vnd.jupyter.widget-view+json": {
       "model_id": "a43985e8671b4f32b7f6b2a0012c58f3",
       "version_major": 2,
       "version_minor": 0
      },
      "text/plain": [
       "VBox()"
      ]
     },
     "metadata": {},
     "output_type": "display_data"
    },
    {
     "data": {
      "application/vnd.jupyter.widget-view+json": {
       "model_id": "",
       "version_major": 2,
       "version_minor": 0
      },
      "text/plain": [
       "FloatProgress(value=0.0, bar_style='info', description='Progress:', layout=Layout(height='25px', width='50%'),…"
      ]
     },
     "metadata": {},
     "output_type": "display_data"
    },
    {
     "name": "stdout",
     "output_type": "stream",
     "text": [
      "--- 478.6115417480469 seconds ---"
     ]
    }
   ],
   "source": [
    "# Filtering data based on the number of shapes \n",
    "# If the partition of 15min for a bus contains 1 or 2 shapes\n",
    "\n",
    "import time\n",
    "# measure time execution\n",
    "start_time = time.time()\n",
    "\n",
    "import pyspark.sql.functions as f\n",
    "\n",
    "# Oct 1 - Oct 31\n",
    "for day in range(1,32):\n",
    "    count_shape = spark.read.parquet(f\"s3://mobility-traces-sp/processed-data-avl-date/using-15-min-filter/statistics/count-shape-per-15-min/MO_1510{day}/\")\n",
    "        \n",
    "    counts_15_min_to_exclude = count_shape.filter(\"count_shape < 3\")\n",
    "    \n",
    "    # concatenating id_avl + 15_min_parition\n",
    "    traces_to_exclude = [f\"{row['id_avl']}-{row['15_min_partition']}\" for row in counts_15_min_to_exclude.collect()]\n",
    "    \n",
    "    traces = spark.read.parquet(f\"s3://mobility-traces-sp/processed-data-avl-date/using-15-min-filter/9a-filtered-traces-based-shape-distance/MO_1510{day}/\")\n",
    "    \n",
    "    traces_filtered = traces.withColumn(\"combined_col\", f.concat(f.col(\"id_avl\"), f.lit(\"-\"), f.col(\"15_min_partition\")))\\\n",
    "                        .filter((f.col(\"combined_col\").isin(traces_to_exclude) == False))\\\n",
    "                        .drop(\"combined_col\")\n",
    "    \n",
    "    traces_filtered.write.parquet(f\"s3://mobility-traces-sp/processed-data-avl-date/using-15-min-filter/9b-filtered-stopped-buses-noise-based-number-shapes/MO_1510{day}/\")\n",
    "\n",
    "    \n",
    "print(\"--- %s seconds ---\" % (time.time() - start_time))\n",
    "# Cluster 1 Master Node - c5.9xlarge, Core Nodes - 8 c5.9xlarge\n",
    "# 478 seconds 2 items --> calculate again"
   ]
  },
  {
   "cell_type": "code",
   "execution_count": 2,
   "metadata": {},
   "outputs": [
    {
     "data": {
      "application/vnd.jupyter.widget-view+json": {
       "model_id": "a42bb8bcc6614912b975d387c3e742a7",
       "version_major": 2,
       "version_minor": 0
      },
      "text/plain": [
       "VBox()"
      ]
     },
     "metadata": {},
     "output_type": "display_data"
    },
    {
     "data": {
      "application/vnd.jupyter.widget-view+json": {
       "model_id": "",
       "version_major": 2,
       "version_minor": 0
      },
      "text/plain": [
       "FloatProgress(value=0.0, bar_style='info', description='Progress:', layout=Layout(height='25px', width='50%'),…"
      ]
     },
     "metadata": {},
     "output_type": "display_data"
    },
    {
     "name": "stdout",
     "output_type": "stream",
     "text": [
      "Collecting haversine\n",
      "  Downloading https://files.pythonhosted.org/packages/f4/52/a13286844780c7b1740edbbee8a8f0524e2a6d51c068b59dda39a6a119f5/haversine-2.3.0-py2.py3-none-any.whl\n",
      "Installing collected packages: haversine\n",
      "Successfully installed haversine-2.3.0"
     ]
    }
   ],
   "source": [
    "# install haversine\n",
    "sc.install_pypi_package(\"haversine\")"
   ]
  },
  {
   "cell_type": "code",
   "execution_count": 3,
   "metadata": {},
   "outputs": [
    {
     "data": {
      "application/vnd.jupyter.widget-view+json": {
       "model_id": "dcf6dcb332004069a7892fda80cb0bbe",
       "version_major": 2,
       "version_minor": 0
      },
      "text/plain": [
       "VBox()"
      ]
     },
     "metadata": {},
     "output_type": "display_data"
    },
    {
     "data": {
      "application/vnd.jupyter.widget-view+json": {
       "model_id": "",
       "version_major": 2,
       "version_minor": 0
      },
      "text/plain": [
       "FloatProgress(value=0.0, bar_style='info', description='Progress:', layout=Layout(height='25px', width='50%'),…"
      ]
     },
     "metadata": {},
     "output_type": "display_data"
    },
    {
     "name": "stdout",
     "output_type": "stream",
     "text": [
      "--- 435.7866313457489 seconds ---"
     ]
    }
   ],
   "source": [
    "# Calculating instantaneous speed = Speed between consecutive traces per bus\n",
    "\n",
    "from haversine import haversine, Unit\n",
    "import pyspark.sql.functions as F\n",
    "from pyspark.sql.types import *\n",
    "from pyspark.sql.window import Window\n",
    "\n",
    "import time\n",
    "# measure time execution\n",
    "start_time = time.time()\n",
    "\n",
    "# calculating speed for each register\n",
    "def calculate_speed(lon1,lat1,lon2,lat2,time_variation):\n",
    "    \n",
    "    # if lon2 and lat2 are available\n",
    "    if lon2 and lat2 and time_variation != 0:\n",
    "        coord_1 = float(lat1),float(lon1)\n",
    "        coord_2 = float(lat2),float(lon2)\n",
    "        distance = haversine(coord_1,coord_2,unit=Unit.METERS)\n",
    "        \n",
    "        # converting the speed from m/s to km/h multiplying by 3.6\n",
    "        return (distance/float(time_variation)) * 3.6\n",
    "    \n",
    "    # it there is no lat and long or time_variation = 0 \n",
    "    \n",
    "    else:\n",
    "        if time_variation == 0:\n",
    "            return 0\n",
    "        else:\n",
    "            return -1\n",
    "    \n",
    "get_speed_udf = F.udf(calculate_speed, FloatType())\n",
    "\n",
    "window = Window.partitionBy(\"id_avl\").orderBy('dt_avl') \n",
    "\n",
    "for day in range(1,32):\n",
    "    \n",
    "    # reading traces\n",
    "    traces = spark.read.parquet(f\"s3://mobility-traces-sp/processed-data-avl-date/using-15-min-filter/9b-filtered-stopped-buses-noise-based-number-shapes/MO_1510{day}/\")\n",
    "    \n",
    "    traces = traces.withColumnRenamed(\"trace_x\", \"longitude\").withColumnRenamed(\"trace_y\", \"latitude\")\n",
    "    \n",
    "    # getting time variation\n",
    "    traces_time_variation = traces.select(\"*\", (F.to_timestamp('dt_avl').cast(LongType()) - F.to_timestamp(F.lag(\"dt_avl\").over(window)).cast(LongType())).alias(\"time_variation\"))\n",
    "    \n",
    "    # getting speed based on bus location\n",
    "    traces_speed_bus_location = traces_time_variation.select(\"*\", get_speed_udf(F.col(\"longitude\"),F.col(\"latitude\"),F.lag(F.col(\"longitude\")).over(window),F.lag(F.col(\"latitude\")).over(window),F.col(\"time_variation\")).alias(\"speed\"))\n",
    "    \n",
    "    traces_speed_bus_location.write.parquet(\"s3://mobility-traces-sp/processed-data-avl-date/using-15-min-filter/10-speed-calculation/MO_1510\"+str(day)+\"/\")\n",
    "    \n",
    "print(\"--- %s seconds ---\" % (time.time() - start_time))\n",
    "# Cluster 1 Master Node - c5.9xlarge, Core Nodes - 8 c5.9xlarge\n",
    "# 435 seconds "
   ]
  },
  {
   "cell_type": "code",
   "execution_count": 4,
   "metadata": {},
   "outputs": [
    {
     "data": {
      "application/vnd.jupyter.widget-view+json": {
       "model_id": "1d87c957dda64111845bf82bb70eb6ab",
       "version_major": 2,
       "version_minor": 0
      },
      "text/plain": [
       "VBox()"
      ]
     },
     "metadata": {},
     "output_type": "display_data"
    },
    {
     "data": {
      "application/vnd.jupyter.widget-view+json": {
       "model_id": "",
       "version_major": 2,
       "version_minor": 0
      },
      "text/plain": [
       "FloatProgress(value=0.0, bar_style='info', description='Progress:', layout=Layout(height='25px', width='50%'),…"
      ]
     },
     "metadata": {},
     "output_type": "display_data"
    },
    {
     "name": "stdout",
     "output_type": "stream",
     "text": [
      "--- 269.15069794654846 seconds ---"
     ]
    }
   ],
   "source": [
    "# Speed Filter \n",
    "# Filtering Speed between 0.1 km/h and 80 km/h\n",
    "\n",
    "import time\n",
    "# measure time execution\n",
    "start_time = time.time()\n",
    "\n",
    "# October 1 - October 31\n",
    "for day in range(1,32):\n",
    "    traces = spark.read.parquet(\"s3://mobility-traces-sp/processed-data-avl-date/using-15-min-filter/10-speed-calculation/MO_1510\"+str(day)+\"/\")\n",
    "    traces_new = traces.filter(\"speed >= 0.1\").filter(\"speed <= 80\")\n",
    "    traces_new.write.parquet(\"s3://mobility-traces-sp/processed-data-avl-date/using-15-min-filter/11-speed-calculation-filtered/MO_1510\"+str(day)+\"/\")\n",
    "\n",
    "    \n",
    "print(\"--- %s seconds ---\" % (time.time() - start_time))\n",
    "# Cluster 1 Master Node - c5.9xlarge, Core Nodes - 8 c5.9xlarge\n",
    "# 269 seconds "
   ]
  }
 ],
 "metadata": {
  "kernelspec": {
   "display_name": "Python 3",
   "language": "python",
   "name": "python3"
  },
  "language_info": {
   "codemirror_mode": {
    "name": "ipython",
    "version": 3
   },
   "file_extension": ".py",
   "mimetype": "text/x-python",
   "name": "python",
   "nbconvert_exporter": "python",
   "pygments_lexer": "ipython3",
   "version": "3.7.4"
  }
 },
 "nbformat": 4,
 "nbformat_minor": 4
}
