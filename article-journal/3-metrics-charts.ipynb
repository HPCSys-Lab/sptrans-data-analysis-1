{
 "cells": [
  {
   "cell_type": "markdown",
   "metadata": {},
   "source": [
    "# Complementary material for the paper \"Characterizing a mobility dataset of buses of Sao Paulo\""
   ]
  },
  {
   "cell_type": "markdown",
   "metadata": {},
   "source": [
    "*Authors: Carolina J. Ferreira and Hermes Senger*\n",
    "\n",
    "*University: Federal University of Sao Carlos*\n",
    "                     "
   ]
  },
  {
   "cell_type": "markdown",
   "metadata": {},
   "source": [
    "This notebook shows the charts and values obtained for the metrics collected to characterize the dataset of this work.\n",
    "\n",
    "The dataset of this work contains mobility traces of more than 14000 buses of the city of São Paulo collected in October 2015. The dataset was provided by SpTrans a government organization which controls the organization of buses in Sao Paulo. \n",
    "\n",
    "Sao Paulo is a city with 12 million of people. The public transportation can provide usefull information and data to the area of Vehicular Networks - VANETs.\n",
    "\n",
    "\n",
    "The goal of this complementary material is to provide a descriptive view of the dataset for any interested researcher.\n",
    "\n",
    "The dataset passed by preprocessing steps to remove possible outliers that can affect the metrics value. These steps are described in other notebook -  - [Preprocessing Data](./1-preprocessing-data.ipynb)\n",
    "\n",
    "### Dataset summary\n",
    "- **Number of buses:** more than 14000 buses\n",
    "- **Days coverage:** 31 days of October 2015 - 9 weekends days, 21 weekdays, and 1 holidays (October 12)\n",
    "- **Hours**: traces between 6:00 and 22:59\n"
   ]
  },
  {
   "cell_type": "markdown",
   "metadata": {},
   "source": [
    "## First metric: Speed of the buses\n",
    "\n",
    "Previous of calculation, we pre processed the dataset to remove the stopped buses (stopped more than 15 minutes)\n",
    "\n",
    "This metrics represents the average speed of the buses per hour.\n"
   ]
  },
  {
   "cell_type": "code",
   "execution_count": 29,
   "metadata": {},
   "outputs": [
    {
     "data": {
      "image/png": "[encoded data removed]",
      "text/plain": [
       "<Figure size 864x504 with 1 Axes>"
      ]
     },
     "metadata": {
      "needs_background": "light"
     },
     "output_type": "display_data"
    }
   ],
   "source": [
    "# Avg Speed per hour - weekdays\n",
    "\n",
    "import numpy as np\n",
    "import pandas as pd\n",
    "from sklearn import datasets\n",
    "import matplotlib.pyplot as plt\n",
    ",\n",
    "# Visualize petal length distribution for all species\n",
    "fig, ax = plt.subplots(figsize=(12, 7))\n",
    "\n",
    "# Remove top and right border\n",
    "# ax.spines['top'].set_visible(False)\n",
    "# ax.spines['right'].set_visible(False)\n",
    "# ax.spines['left'].set_visible(False)# Remove y-axis tick marks\n",
    "# ax.yaxis.set_ticks_position('none')# Add major gridlines in the y-axis\n",
    "ax.grid(color='grey', axis='y', linestyle='-', linewidth=0.25, alpha=0.5)# Set plot title\n",
    "\n",
    "\n",
    "dataset = []\n",
    "df = pd.read_parquet(\"./metrics-calculation-data/speed-calculation/speed-per-hour-all-weekdays/\")\n",
    "plt.title(\"Average speed per hour on weekdays\")\n",
    "for hour in range(6,23):\n",
    "    dataset.append(df.loc[df[\"hour_avl\"] == hour][\"avg_speed\"])\n",
    "    \n",
    "\n",
    "ax.boxplot(dataset,labels=[hour for hour in range(6,23)])\n",
    "\n",
    "plt.savefig(f'./charts-results/avg-speed-weekdays.png',bbox_inches='tight')\n"
   ]
  },
  {
   "cell_type": "code",
   "execution_count": 28,
   "metadata": {},
   "outputs": [
    {
     "data": {
      "image/png": "[encoded data removed]",
      "text/plain": [
       "<Figure size 864x504 with 1 Axes>"
      ]
     },
     "metadata": {
      "needs_background": "light"
     },
     "output_type": "display_data"
    }
   ],
   "source": [
    "# Avg Speed per hour - weekends\n",
    "\n",
    "import numpy as np\n",
    "import pandas as pd\n",
    "from sklearn import datasets\n",
    "import matplotlib.pyplot as plt\n",
    "\n",
    "# Visualize petal length distribution for all species\n",
    "fig, ax = plt.subplots(figsize=(12, 7))\n",
    "\n",
    "# Remove top and right border\n",
    "# ax.spines['top'].set_visible(False)\n",
    "# ax.spines['right'].set_visible(False)\n",
    "# ax.spines['left'].set_visible(False)# Remove y-axis tick marks\n",
    "# ax.yaxis.set_ticks_position('none')# Add major gridlines in the y-axis\n",
    "ax.grid(color='grey', axis='y', linestyle='-', linewidth=0.25, alpha=0.5)# Set plot title\n",
    "\n",
    "\n",
    "dataset = []\n",
    "df = pd.read_parquet(\"./metrics-calculation-data/speed-calculation/spped-per-hour-all-weekends/\")\n",
    "plt.title(\"Average speed per hour on weekends\")\n",
    "for hour in range(6,23):\n",
    "    dataset.append(df.loc[df[\"hour_avl\"] == hour][\"avg_speed\"])\n",
    "    \n",
    "\n",
    "ax.boxplot(dataset,labels=[hour for hour in range(6,23)])\n",
    "\n",
    "plt.savefig(f'./charts-results/avg-speed-weekends.png',bbox_inches='tight')\n"
   ]
  },
  {
   "cell_type": "code",
   "execution_count": 2,
   "metadata": {},
   "outputs": [
    {
     "data": {
      "text/html": [
       "<div>\n",
       "<style scoped>\n",
       "    .dataframe tbody tr th:only-of-type {\n",
       "        vertical-align: middle;\n",
       "    }\n",
       "\n",
       "    .dataframe tbody tr th {\n",
       "        vertical-align: top;\n",
       "    }\n",
       "\n",
       "    .dataframe thead th {\n",
       "        text-align: right;\n",
       "    }\n",
       "</style>\n",
       "<table border=\"1\" class=\"dataframe\">\n",
       "  <thead>\n",
       "    <tr style=\"text-align: right;\">\n",
       "      <th></th>\n",
       "      <th>hour_avl</th>\n",
       "      <th>avg_speed</th>\n",
       "      <th>speed_stddev</th>\n",
       "      <th>day</th>\n",
       "    </tr>\n",
       "  </thead>\n",
       "  <tbody>\n",
       "    <tr>\n",
       "      <th>0</th>\n",
       "      <td>18</td>\n",
       "      <td>14.084157</td>\n",
       "      <td>4.471689</td>\n",
       "      <td>3</td>\n",
       "    </tr>\n",
       "    <tr>\n",
       "      <th>1</th>\n",
       "      <td>21</td>\n",
       "      <td>16.142491</td>\n",
       "      <td>5.306035</td>\n",
       "      <td>3</td>\n",
       "    </tr>\n",
       "    <tr>\n",
       "      <th>2</th>\n",
       "      <td>17</td>\n",
       "      <td>14.393693</td>\n",
       "      <td>4.537030</td>\n",
       "      <td>3</td>\n",
       "    </tr>\n",
       "    <tr>\n",
       "      <th>3</th>\n",
       "      <td>19</td>\n",
       "      <td>13.965265</td>\n",
       "      <td>4.513032</td>\n",
       "      <td>3</td>\n",
       "    </tr>\n",
       "    <tr>\n",
       "      <th>4</th>\n",
       "      <td>22</td>\n",
       "      <td>16.514048</td>\n",
       "      <td>5.495311</td>\n",
       "      <td>3</td>\n",
       "    </tr>\n",
       "    <tr>\n",
       "      <th>5</th>\n",
       "      <td>6</td>\n",
       "      <td>17.034513</td>\n",
       "      <td>5.439211</td>\n",
       "      <td>3</td>\n",
       "    </tr>\n",
       "    <tr>\n",
       "      <th>6</th>\n",
       "      <td>9</td>\n",
       "      <td>15.412448</td>\n",
       "      <td>4.737591</td>\n",
       "      <td>3</td>\n",
       "    </tr>\n",
       "    <tr>\n",
       "      <th>7</th>\n",
       "      <td>10</td>\n",
       "      <td>14.624567</td>\n",
       "      <td>4.783147</td>\n",
       "      <td>3</td>\n",
       "    </tr>\n",
       "    <tr>\n",
       "      <th>8</th>\n",
       "      <td>12</td>\n",
       "      <td>13.639454</td>\n",
       "      <td>4.583282</td>\n",
       "      <td>3</td>\n",
       "    </tr>\n",
       "    <tr>\n",
       "      <th>9</th>\n",
       "      <td>11</td>\n",
       "      <td>13.919722</td>\n",
       "      <td>4.793602</td>\n",
       "      <td>3</td>\n",
       "    </tr>\n",
       "  </tbody>\n",
       "</table>\n",
       "</div>"
      ],
      "text/plain": [
       "   hour_avl  avg_speed  speed_stddev  day\n",
       "0        18  14.084157      4.471689    3\n",
       "1        21  16.142491      5.306035    3\n",
       "2        17  14.393693      4.537030    3\n",
       "3        19  13.965265      4.513032    3\n",
       "4        22  16.514048      5.495311    3\n",
       "5         6  17.034513      5.439211    3\n",
       "6         9  15.412448      4.737591    3\n",
       "7        10  14.624567      4.783147    3\n",
       "8        12  13.639454      4.583282    3\n",
       "9        11  13.919722      4.793602    3"
      ]
     },
     "execution_count": 2,
     "metadata": {},
     "output_type": "execute_result"
    }
   ],
   "source": [
    "import pandas as pd\n",
    "\n",
    "df = pd.read_parquet(\"./metrics-calculation-data/speed-calculation/spped-per-hour-all-weekends/\")\n",
    "df.head(10)"
   ]
  },
  {
   "cell_type": "code",
   "execution_count": 7,
   "metadata": {},
   "outputs": [
    {
     "data": {
      "image/png": "[encoded data removed]",
      "text/plain": [
       "<Figure size 864x504 with 1 Axes>"
      ]
     },
     "metadata": {
      "needs_background": "light"
     },
     "output_type": "display_data"
    }
   ],
   "source": [
    "# Avg Speed per hour - saturdays\n",
    "\n",
    "import numpy as np\n",
    "import pandas as pd\n",
    "from sklearn import datasets\n",
    "import matplotlib.pyplot as plt\n",
    "\n",
    "# Visualize petal length distribution for all species\n",
    "fig, ax = plt.subplots(figsize=(12, 7))\n",
    "\n",
    "# Remove top and right border\n",
    "# ax.spines['top'].set_visible(False)\n",
    "# ax.spines['right'].set_visible(False)\n",
    "# ax.spines['left'].set_visible(False)# Remove y-axis tick marks\n",
    "# ax.yaxis.set_ticks_position('none')# Add major gridlines in the y-axis\n",
    "ax.grid(color='grey', axis='y', linestyle='-', linewidth=0.25, alpha=0.5)# Set plot title\n",
    "\n",
    "\n",
    "dataset = []\n",
    "df = pd.read_parquet(\"./metrics-calculation-data/speed-calculation/speed-per-hour-all-saturdays/\")\n",
    "plt.title(\"Average speed per hour on saturdays\")\n",
    "for hour in range(6,23):\n",
    "    dataset.append(df.loc[df[\"hour_avl\"] == hour][\"avg_speed\"])\n",
    "    \n",
    "\n",
    "ax.boxplot(dataset,labels=[hour for hour in range(6,23)])\n",
    "\n",
    "plt.savefig(f'./charts-results/avg-speed-saturdays.png',bbox_inches='tight')\n",
    "plt.show()"
   ]
  },
  {
   "cell_type": "code",
   "execution_count": 8,
   "metadata": {},
   "outputs": [
    {
     "data": {
      "image/png": "[encoded data removed]",
      "text/plain": [
       "<Figure size 864x504 with 1 Axes>"
      ]
     },
     "metadata": {
      "needs_background": "light"
     },
     "output_type": "display_data"
    }
   ],
   "source": [
    "# Avg Speed per hour - sundays\n",
    "\n",
    "import numpy as np\n",
    "import pandas as pd\n",
    "from sklearn import datasets\n",
    "import matplotlib.pyplot as plt\n",
    "\n",
    "# Visualize petal length distribution for all species\n",
    "fig, ax = plt.subplots(figsize=(12, 7))\n",
    "\n",
    "# Remove top and right border\n",
    "# ax.spines['top'].set_visible(False)\n",
    "# ax.spines['right'].set_visible(False)\n",
    "# ax.spines['left'].set_visible(False)# Remove y-axis tick marks\n",
    "# ax.yaxis.set_ticks_position('none')# Add major gridlines in the y-axis\n",
    "ax.grid(color='grey', axis='y', linestyle='-', linewidth=0.25, alpha=0.5)# Set plot title\n",
    "\n",
    "\n",
    "dataset = []\n",
    "df = pd.read_parquet(\"./metrics-calculation-data/speed-calculation/speed-per-hour-all-sundays/\")\n",
    "plt.title(\"Average speed per hour on sundays\")\n",
    "for hour in range(6,23):\n",
    "    dataset.append(df.loc[df[\"hour_avl\"] == hour][\"avg_speed\"])\n",
    "    \n",
    "\n",
    "ax.boxplot(dataset,labels=[hour for hour in range(6,23)])\n",
    "\n",
    "plt.savefig(f'./charts-results/avg-speed-sundays.png',bbox_inches='tight')\n",
    "plt.show()"
   ]
  },
  {
   "cell_type": "code",
   "execution_count": 9,
   "metadata": {},
   "outputs": [
    {
     "data": {
      "image/png": "[encoded data removed]",
      "text/plain": [
       "<Figure size 864x504 with 1 Axes>"
      ]
     },
     "metadata": {
      "needs_background": "light"
     },
     "output_type": "display_data"
    }
   ],
   "source": [
    "# Avg Speed per vehicle per hour - weekdays\n",
    "\n",
    "import numpy as np\n",
    "import pandas as pd\n",
    "from sklearn import datasets\n",
    "import matplotlib.pyplot as plt\n",
    "\n",
    "# Visualize petal length distribution for all species\n",
    "fig, ax = plt.subplots(figsize=(12, 7))\n",
    "\n",
    "# Remove top and right border\n",
    "# ax.spines['top'].set_visible(False)\n",
    "# ax.spines['right'].set_visible(False)\n",
    "# ax.spines['left'].set_visible(False)# Remove y-axis tick marks\n",
    "# ax.yaxis.set_ticks_position('none')# Add major gridlines in the y-axis\n",
    "ax.grid(color='grey', axis='y', linestyle='-', linewidth=0.25, alpha=0.5)# Set plot title\n",
    "\n",
    "\n",
    "dataset = []\n",
    "df = pd.read_parquet(\"./metrics-calculation-data/speed-calculation/speed-per-vehicle-per-hour-all-weekdays/\")\n",
    "plt.title(\"Average speed per hour on weekdays\")\n",
    "for hour in range(6,23):\n",
    "    dataset.append(df.loc[df[\"hour_avl\"] == hour][\"avg_speed\"])\n",
    "    \n",
    "\n",
    "ax.boxplot(dataset,labels=[hour for hour in range(6,23)])\n",
    "\n",
    "plt.savefig(f'./charts-results/avg-speed-per-vehicle-weekdays.png',bbox_inches='tight')\n",
    "plt.show()\n"
   ]
  },
  {
   "cell_type": "code",
   "execution_count": 41,
   "metadata": {},
   "outputs": [
    {
     "data": {
      "text/html": [
       "<div>\n",
       "<style scoped>\n",
       "    .dataframe tbody tr th:only-of-type {\n",
       "        vertical-align: middle;\n",
       "    }\n",
       "\n",
       "    .dataframe tbody tr th {\n",
       "        vertical-align: top;\n",
       "    }\n",
       "\n",
       "    .dataframe thead th {\n",
       "        text-align: right;\n",
       "    }\n",
       "</style>\n",
       "<table border=\"1\" class=\"dataframe\">\n",
       "  <thead>\n",
       "    <tr style=\"text-align: right;\">\n",
       "      <th></th>\n",
       "      <th>id_avl</th>\n",
       "      <th>hour_avl</th>\n",
       "      <th>avg_speed</th>\n",
       "      <th>speed_stddev</th>\n",
       "      <th>day</th>\n",
       "    </tr>\n",
       "  </thead>\n",
       "  <tbody>\n",
       "    <tr>\n",
       "      <th>0</th>\n",
       "      <td>38243</td>\n",
       "      <td>6</td>\n",
       "      <td>14.208491</td>\n",
       "      <td>10.127391</td>\n",
       "      <td>1</td>\n",
       "    </tr>\n",
       "    <tr>\n",
       "      <th>1</th>\n",
       "      <td>42076</td>\n",
       "      <td>20</td>\n",
       "      <td>13.958900</td>\n",
       "      <td>10.286029</td>\n",
       "      <td>1</td>\n",
       "    </tr>\n",
       "    <tr>\n",
       "      <th>2</th>\n",
       "      <td>44462</td>\n",
       "      <td>9</td>\n",
       "      <td>12.633265</td>\n",
       "      <td>14.795820</td>\n",
       "      <td>1</td>\n",
       "    </tr>\n",
       "    <tr>\n",
       "      <th>3</th>\n",
       "      <td>55552</td>\n",
       "      <td>14</td>\n",
       "      <td>7.659283</td>\n",
       "      <td>10.600821</td>\n",
       "      <td>1</td>\n",
       "    </tr>\n",
       "    <tr>\n",
       "      <th>4</th>\n",
       "      <td>9095</td>\n",
       "      <td>21</td>\n",
       "      <td>21.037001</td>\n",
       "      <td>10.670290</td>\n",
       "      <td>1</td>\n",
       "    </tr>\n",
       "  </tbody>\n",
       "</table>\n",
       "</div>"
      ],
      "text/plain": [
       "   id_avl  hour_avl  avg_speed  speed_stddev  day\n",
       "0   38243         6  14.208491     10.127391    1\n",
       "1   42076        20  13.958900     10.286029    1\n",
       "2   44462         9  12.633265     14.795820    1\n",
       "3   55552        14   7.659283     10.600821    1\n",
       "4    9095        21  21.037001     10.670290    1"
      ]
     },
     "execution_count": 41,
     "metadata": {},
     "output_type": "execute_result"
    }
   ],
   "source": [
    "df = pd.read_parquet(\"./metrics-calculation-data/speed-calculation/speed-per-vehicle-per-hour-all-weekdays/\")\n",
    "df.head()"
   ]
  },
  {
   "cell_type": "code",
   "execution_count": 13,
   "metadata": {},
   "outputs": [
    {
     "data": {
      "image/png": "[encoded data removed]",
      "text/plain": [
       "<Figure size 864x504 with 1 Axes>"
      ]
     },
     "metadata": {
      "needs_background": "light"
     },
     "output_type": "display_data"
    }
   ],
   "source": [
    "# Avg Speed per vehicle per hour - weekends\n",
    "\n",
    "import numpy as np\n",
    "import pandas as pd\n",
    "from sklearn import datasets\n",
    "import matplotlib.pyplot as plt\n",
    "\n",
    "# Visualize petal length distribution for all species\n",
    "fig, ax = plt.subplots(figsize=(12, 7))\n",
    "\n",
    "# Remove top and right border\n",
    "# ax.spines['top'].set_visible(False)\n",
    "# ax.spines['right'].set_visible(False)\n",
    "# ax.spines['left'].set_visible(False)# Remove y-axis tick marks\n",
    "# ax.yaxis.set_ticks_position('none')# Add major gridlines in the y-axis\n",
    "ax.grid(color='grey', axis='y', linestyle='-', linewidth=0.25, alpha=0.5)# Set plot title\n",
    "\n",
    "\n",
    "dataset = []\n",
    "df = pd.read_parquet(\"./metrics-calculation-data/speed-calculation/speed-per-vehicle-per-hour-all-weekends/\")\n",
    "plt.title(\"Average speed per hour on weekends\")\n",
    "for hour in range(6,23):\n",
    "    dataset.append(df.loc[df[\"hour_avl\"] == hour][\"avg_speed\"])\n",
    "    \n",
    "\n",
    "ax.boxplot(dataset,labels=[hour for hour in range(6,23)])\n",
    "\n",
    "plt.savefig(f'./charts-results/avg-speed-per-vehicle-weekends.png',bbox_inches='tight')\n",
    "plt.show()\n"
   ]
  },
  {
   "cell_type": "code",
   "execution_count": 12,
   "metadata": {},
   "outputs": [
    {
     "data": {
      "text/html": [
       "<div>\n",
       "<style scoped>\n",
       "    .dataframe tbody tr th:only-of-type {\n",
       "        vertical-align: middle;\n",
       "    }\n",
       "\n",
       "    .dataframe tbody tr th {\n",
       "        vertical-align: top;\n",
       "    }\n",
       "\n",
       "    .dataframe thead th {\n",
       "        text-align: right;\n",
       "    }\n",
       "</style>\n",
       "<table border=\"1\" class=\"dataframe\">\n",
       "  <thead>\n",
       "    <tr style=\"text-align: right;\">\n",
       "      <th></th>\n",
       "      <th>id_avl</th>\n",
       "      <th>hour_avl</th>\n",
       "      <th>avg_speed</th>\n",
       "      <th>speed_stddev</th>\n",
       "      <th>day</th>\n",
       "    </tr>\n",
       "  </thead>\n",
       "  <tbody>\n",
       "    <tr>\n",
       "      <th>0</th>\n",
       "      <td>38243</td>\n",
       "      <td>6</td>\n",
       "      <td>14.208491</td>\n",
       "      <td>10.127391</td>\n",
       "      <td>1</td>\n",
       "    </tr>\n",
       "    <tr>\n",
       "      <th>1</th>\n",
       "      <td>42076</td>\n",
       "      <td>20</td>\n",
       "      <td>13.958900</td>\n",
       "      <td>10.286029</td>\n",
       "      <td>1</td>\n",
       "    </tr>\n",
       "    <tr>\n",
       "      <th>2</th>\n",
       "      <td>44462</td>\n",
       "      <td>9</td>\n",
       "      <td>12.633265</td>\n",
       "      <td>14.795820</td>\n",
       "      <td>1</td>\n",
       "    </tr>\n",
       "    <tr>\n",
       "      <th>3</th>\n",
       "      <td>55552</td>\n",
       "      <td>14</td>\n",
       "      <td>7.659283</td>\n",
       "      <td>10.600821</td>\n",
       "      <td>1</td>\n",
       "    </tr>\n",
       "    <tr>\n",
       "      <th>4</th>\n",
       "      <td>9095</td>\n",
       "      <td>21</td>\n",
       "      <td>21.037001</td>\n",
       "      <td>10.670290</td>\n",
       "      <td>1</td>\n",
       "    </tr>\n",
       "  </tbody>\n",
       "</table>\n",
       "</div>"
      ],
      "text/plain": [
       "   id_avl  hour_avl  avg_speed  speed_stddev  day\n",
       "0   38243         6  14.208491     10.127391    1\n",
       "1   42076        20  13.958900     10.286029    1\n",
       "2   44462         9  12.633265     14.795820    1\n",
       "3   55552        14   7.659283     10.600821    1\n",
       "4    9095        21  21.037001     10.670290    1"
      ]
     },
     "execution_count": 12,
     "metadata": {},
     "output_type": "execute_result"
    }
   ],
   "source": [
    "df = pd.read_parquet(\"./metrics-calculation-data/speed-calculation/speed-per-vehicle-per-hour-all-weekdays/\")\n",
    "df.head(5)"
   ]
  },
  {
   "cell_type": "code",
   "execution_count": 14,
   "metadata": {},
   "outputs": [
    {
     "data": {
      "image/png": "[encoded data removed]",
      "text/plain": [
       "<Figure size 864x504 with 1 Axes>"
      ]
     },
     "metadata": {
      "needs_background": "light"
     },
     "output_type": "display_data"
    }
   ],
   "source": [
    "# Avg Speed per vehicle per hour - saturdays\n",
    "\n",
    "import numpy as np\n",
    "import pandas as pd\n",
    "from sklearn import datasets\n",
    "import matplotlib.pyplot as plt\n",
    "\n",
    "# Visualize petal length distribution for all species\n",
    "fig, ax = plt.subplots(figsize=(12, 7))\n",
    "\n",
    "# Remove top and right border\n",
    "# ax.spines['top'].set_visible(False)\n",
    "# ax.spines['right'].set_visible(False)\n",
    "# ax.spines['left'].set_visible(False)# Remove y-axis tick marks\n",
    "# ax.yaxis.set_ticks_position('none')# Add major gridlines in the y-axis\n",
    "ax.grid(color='grey', axis='y', linestyle='-', linewidth=0.25, alpha=0.5)# Set plot title\n",
    "\n",
    "\n",
    "dataset = []\n",
    "df = pd.read_parquet(\"./metrics-calculation-data/speed-calculation/speed-per-vehicle-per-hour-all-saturdays/\")\n",
    "plt.title(\"Average speed per hour on saturdays\")\n",
    "for hour in range(6,23):\n",
    "    dataset.append(df.loc[df[\"hour_avl\"] == hour][\"avg_speed\"])\n",
    "    \n",
    "\n",
    "ax.boxplot(dataset,labels=[hour for hour in range(6,23)])\n",
    "\n",
    "plt.savefig(f'./charts-results/avg-speed-per-vehicle-saturdays.png',bbox_inches='tight')\n",
    "plt.show()\n"
   ]
  },
  {
   "cell_type": "code",
   "execution_count": 15,
   "metadata": {},
   "outputs": [
    {
     "data": {
      "image/png": "[encoded data removed]",
      "text/plain": [
       "<Figure size 864x504 with 1 Axes>"
      ]
     },
     "metadata": {
      "needs_background": "light"
     },
     "output_type": "display_data"
    }
   ],
   "source": [
    "# Avg Speed per vehicle per hour - sundays\n",
    "\n",
    "import numpy as np\n",
    "import pandas as pd\n",
    "from sklearn import datasets\n",
    "import matplotlib.pyplot as plt\n",
    "\n",
    "# Visualize petal length distribution for all species\n",
    "fig, ax = plt.subplots(figsize=(12, 7))\n",
    "\n",
    "# Remove top and right border\n",
    "# ax.spines['top'].set_visible(False)\n",
    "# ax.spines['right'].set_visible(False)\n",
    "# ax.spines['left'].set_visible(False)# Remove y-axis tick marks\n",
    "# ax.yaxis.set_ticks_position('none')# Add major gridlines in the y-axis\n",
    "ax.grid(color='grey', axis='y', linestyle='-', linewidth=0.25, alpha=0.5)# Set plot title\n",
    "\n",
    "\n",
    "dataset = []\n",
    "df = pd.read_parquet(\"./metrics-calculation-data/speed-calculation/speed-per-vehicle-per-hour-all-sundays/\")\n",
    "plt.title(\"Average speed per hour on sundays\")\n",
    "for hour in range(6,23):\n",
    "    dataset.append(df.loc[df[\"hour_avl\"] == hour][\"avg_speed\"])\n",
    "    \n",
    "\n",
    "ax.boxplot(dataset,labels=[hour for hour in range(6,23)])\n",
    "\n",
    "plt.savefig(f'./charts-results/avg-speed-per-vehicle-sundays.png',bbox_inches='tight')\n",
    "plt.show()\n"
   ]
  },
  {
   "cell_type": "markdown",
   "metadata": {},
   "source": [
    "## Active buses per hour"
   ]
  },
  {
   "cell_type": "code",
   "execution_count": 31,
   "metadata": {},
   "outputs": [
    {
     "data": {
      "image/png": "[encoded data removed]",
      "text/plain": [
       "<Figure size 864x504 with 1 Axes>"
      ]
     },
     "metadata": {
      "needs_background": "light"
     },
     "output_type": "display_data"
    }
   ],
   "source": [
    "# Active buses - Weekdays\n",
    "\n",
    "import numpy as np\n",
    "import pandas as pd\n",
    "from sklearn import datasets\n",
    "import matplotlib.pyplot as plt\n",
    "\n",
    "# Visualize petal length distribution for all species\n",
    "fig, ax = plt.subplots(figsize=(12, 7))\n",
    "\n",
    "# Remove top and right border\n",
    "# ax.spines['top'].set_visible(False)\n",
    "# ax.spines['right'].set_visible(False)\n",
    "# ax.spines['left'].set_visible(False)# Remove y-axis tick marks\n",
    "# ax.yaxis.set_ticks_position('none')# Add major gridlines in the y-axis\n",
    "ax.grid(color='grey', axis='y', linestyle='-', linewidth=0.25, alpha=0.5)# Set plot title\n",
    "\n",
    "\n",
    "dataset = []\n",
    "df = pd.read_parquet(\"./metrics-calculation-data/actives-buses/active-buses-per-hour-all-weekdays/\")\n",
    "plt.title(\"Active buses per hour on weekdays\")\n",
    "for hour in range(6,23):\n",
    "    dataset.append(df.loc[df[\"hour_avl\"] == hour][\"number_buses\"])\n",
    "\n",
    "ax.boxplot(dataset,labels=[hour for hour in range(6,23)])\n",
    "\n",
    "plt.savefig(f'./charts-results/active-buses-weekdays.png',bbox_inches='tight')\n",
    "\n",
    "\n",
    "# num ro de onibus ativos revela o planejamento das empresas, a baixa dispersao pois reflete o planejamento das empresas"
   ]
  },
  {
   "cell_type": "code",
   "execution_count": 26,
   "metadata": {},
   "outputs": [
    {
     "data": {
      "text/html": [
       "<div>\n",
       "<style scoped>\n",
       "    .dataframe tbody tr th:only-of-type {\n",
       "        vertical-align: middle;\n",
       "    }\n",
       "\n",
       "    .dataframe tbody tr th {\n",
       "        vertical-align: top;\n",
       "    }\n",
       "\n",
       "    .dataframe thead th {\n",
       "        text-align: right;\n",
       "    }\n",
       "</style>\n",
       "<table border=\"1\" class=\"dataframe\">\n",
       "  <thead>\n",
       "    <tr style=\"text-align: right;\">\n",
       "      <th></th>\n",
       "      <th>hour_avl</th>\n",
       "      <th>number_buses</th>\n",
       "      <th>day</th>\n",
       "    </tr>\n",
       "  </thead>\n",
       "  <tbody>\n",
       "    <tr>\n",
       "      <th>263</th>\n",
       "      <td>12</td>\n",
       "      <td>1351</td>\n",
       "      <td>23</td>\n",
       "    </tr>\n",
       "    <tr>\n",
       "      <th>265</th>\n",
       "      <td>13</td>\n",
       "      <td>6039</td>\n",
       "      <td>23</td>\n",
       "    </tr>\n",
       "  </tbody>\n",
       "</table>\n",
       "</div>"
      ],
      "text/plain": [
       "     hour_avl  number_buses  day\n",
       "263        12          1351   23\n",
       "265        13          6039   23"
      ]
     },
     "execution_count": 26,
     "metadata": {},
     "output_type": "execute_result"
    }
   ],
   "source": [
    "# Studying weekdays anomalies for active buses per hour\n",
    "df = pd.read_parquet(\"./metrics-calculation-data/actives-buses/active-buses-per-hour-all-weekdays/\")\n",
    "df.loc[df[\"number_buses\"] < 8000]\n",
    "\n",
    "# dia 23 dia atipico --> menção no artigo"
   ]
  },
  {
   "cell_type": "code",
   "execution_count": 32,
   "metadata": {},
   "outputs": [
    {
     "data": {
      "image/png": "[encoded data removed]",
      "text/plain": [
       "<Figure size 864x504 with 1 Axes>"
      ]
     },
     "metadata": {
      "needs_background": "light"
     },
     "output_type": "display_data"
    }
   ],
   "source": [
    "# Active buses - Weekends\n",
    "\n",
    "import numpy as np\n",
    "import pandas as pd\n",
    "from sklearn import datasets\n",
    "import matplotlib.pyplot as plt\n",
    "\n",
    "# Visualize petal length distribution for all species\n",
    "fig, ax = plt.subplots(figsize=(12, 7))\n",
    "\n",
    "# Remove top and right border\n",
    "# ax.spines['top'].set_visible(False)\n",
    "# ax.spines['right'].set_visible(False)\n",
    "# ax.spines['left'].set_visible(False)# Remove y-axis tick marks\n",
    "# ax.yaxis.set_ticks_position('none')# Add major gridlines in the y-axis\n",
    "ax.grid(color='grey', axis='y', linestyle='-', linewidth=0.25, alpha=0.5)# Set plot title\n",
    "\n",
    "\n",
    "dataset = []\n",
    "df = pd.read_parquet(\"./metrics-calculation-data/actives-buses/active-buses-per-hour-all-weekends/\")\n",
    "plt.title(\"Active buses per hour on weekends\")\n",
    "for hour in range(6,23):\n",
    "    dataset.append(df.loc[df[\"hour_avl\"] == hour][\"number_buses\"])\n",
    "\n",
    "ax.boxplot(dataset,labels=[hour for hour in range(6,23)])\n",
    "\n",
    "plt.savefig(f'./charts-results/active-buses-weekends.png',bbox_inches='tight')\n"
   ]
  },
  {
   "cell_type": "code",
   "execution_count": 3,
   "metadata": {},
   "outputs": [
    {
     "data": {
      "text/html": [
       "<div>\n",
       "<style scoped>\n",
       "    .dataframe tbody tr th:only-of-type {\n",
       "        vertical-align: middle;\n",
       "    }\n",
       "\n",
       "    .dataframe tbody tr th {\n",
       "        vertical-align: top;\n",
       "    }\n",
       "\n",
       "    .dataframe thead th {\n",
       "        text-align: right;\n",
       "    }\n",
       "</style>\n",
       "<table border=\"1\" class=\"dataframe\">\n",
       "  <thead>\n",
       "    <tr style=\"text-align: right;\">\n",
       "      <th></th>\n",
       "      <th>hour_avl</th>\n",
       "      <th>number_buses</th>\n",
       "      <th>day</th>\n",
       "    </tr>\n",
       "  </thead>\n",
       "  <tbody>\n",
       "    <tr>\n",
       "      <th>0</th>\n",
       "      <td>18</td>\n",
       "      <td>8385</td>\n",
       "      <td>3</td>\n",
       "    </tr>\n",
       "    <tr>\n",
       "      <th>1</th>\n",
       "      <td>21</td>\n",
       "      <td>7309</td>\n",
       "      <td>3</td>\n",
       "    </tr>\n",
       "    <tr>\n",
       "      <th>2</th>\n",
       "      <td>17</td>\n",
       "      <td>8455</td>\n",
       "      <td>3</td>\n",
       "    </tr>\n",
       "    <tr>\n",
       "      <th>3</th>\n",
       "      <td>19</td>\n",
       "      <td>8278</td>\n",
       "      <td>3</td>\n",
       "    </tr>\n",
       "    <tr>\n",
       "      <th>4</th>\n",
       "      <td>22</td>\n",
       "      <td>6424</td>\n",
       "      <td>3</td>\n",
       "    </tr>\n",
       "    <tr>\n",
       "      <th>5</th>\n",
       "      <td>6</td>\n",
       "      <td>8008</td>\n",
       "      <td>3</td>\n",
       "    </tr>\n",
       "    <tr>\n",
       "      <th>6</th>\n",
       "      <td>9</td>\n",
       "      <td>8610</td>\n",
       "      <td>3</td>\n",
       "    </tr>\n",
       "    <tr>\n",
       "      <th>7</th>\n",
       "      <td>10</td>\n",
       "      <td>8579</td>\n",
       "      <td>3</td>\n",
       "    </tr>\n",
       "    <tr>\n",
       "      <th>8</th>\n",
       "      <td>12</td>\n",
       "      <td>8629</td>\n",
       "      <td>3</td>\n",
       "    </tr>\n",
       "    <tr>\n",
       "      <th>9</th>\n",
       "      <td>11</td>\n",
       "      <td>8622</td>\n",
       "      <td>3</td>\n",
       "    </tr>\n",
       "  </tbody>\n",
       "</table>\n",
       "</div>"
      ],
      "text/plain": [
       "   hour_avl  number_buses  day\n",
       "0        18          8385    3\n",
       "1        21          7309    3\n",
       "2        17          8455    3\n",
       "3        19          8278    3\n",
       "4        22          6424    3\n",
       "5         6          8008    3\n",
       "6         9          8610    3\n",
       "7        10          8579    3\n",
       "8        12          8629    3\n",
       "9        11          8622    3"
      ]
     },
     "execution_count": 3,
     "metadata": {},
     "output_type": "execute_result"
    }
   ],
   "source": [
    "df = pd.read_parquet(\"./metrics-calculation-data/actives-buses/active-buses-per-hour-all-weekends/\")\n",
    "df.head(10)"
   ]
  },
  {
   "cell_type": "code",
   "execution_count": 3,
   "metadata": {},
   "outputs": [
    {
     "data": {
      "image/png": "[encoded data removed]",
      "text/plain": [
       "<Figure size 864x504 with 1 Axes>"
      ]
     },
     "metadata": {
      "needs_background": "light"
     },
     "output_type": "display_data"
    }
   ],
   "source": [
    "# Active buses - saturdays\n",
    "\n",
    "import numpy as np\n",
    "import pandas as pd\n",
    "from sklearn import datasets\n",
    "import matplotlib.pyplot as plt\n",
    "\n",
    "# Visualize petal length distribution for all species\n",
    "fig, ax = plt.subplots(figsize=(12, 7))\n",
    "\n",
    "# Remove top and right border\n",
    "# ax.spines['top'].set_visible(False)\n",
    "# ax.spines['right'].set_visible(False)\n",
    "# ax.spines['left'].set_visible(False)# Remove y-axis tick marks\n",
    "# ax.yaxis.set_ticks_position('none')# Add major gridlines in the y-axis\n",
    "ax.grid(color='grey', axis='y', linestyle='-', linewidth=0.25, alpha=0.5)# Set plot title\n",
    "\n",
    "\n",
    "dataset = []\n",
    "df = pd.read_parquet(\"./metrics-calculation-data/actives-buses/active-buses-per-hour-all-saturdays/\")\n",
    "plt.title(\"Active buses per hour on saturdays\")\n",
    "for hour in range(6,23):\n",
    "    dataset.append(df.loc[df[\"hour_avl\"] == hour][\"number_buses\"])\n",
    "\n",
    "ax.boxplot(dataset,labels=[hour for hour in range(6,23)])\n",
    "\n",
    "plt.savefig(f'./charts-results/active-buses-saturdays.png',bbox_inches='tight')\n",
    "plt.show()"
   ]
  },
  {
   "cell_type": "code",
   "execution_count": 4,
   "metadata": {},
   "outputs": [
    {
     "data": {
      "image/png": "[encoded data removed]",
      "text/plain": [
       "<Figure size 864x504 with 1 Axes>"
      ]
     },
     "metadata": {
      "needs_background": "light"
     },
     "output_type": "display_data"
    }
   ],
   "source": [
    "# Active buses - sundays\n",
    "\n",
    "import numpy as np\n",
    "import pandas as pd\n",
    "from sklearn import datasets\n",
    "import matplotlib.pyplot as plt\n",
    "\n",
    "# Visualize petal length distribution for all species\n",
    "fig, ax = plt.subplots(figsize=(12, 7))\n",
    "\n",
    "# Remove top and right border\n",
    "# ax.spines['top'].set_visible(False)\n",
    "# ax.spines['right'].set_visible(False)\n",
    "# ax.spines['left'].set_visible(False)# Remove y-axis tick marks\n",
    "# ax.yaxis.set_ticks_position('none')# Add major gridlines in the y-axis\n",
    "ax.grid(color='grey', axis='y', linestyle='-', linewidth=0.25, alpha=0.5)# Set plot title\n",
    "\n",
    "\n",
    "dataset = []\n",
    "df = pd.read_parquet(\"./metrics-calculation-data/actives-buses/active-buses-per-hour-all-sundays/\")\n",
    "plt.title(\"Active buses per hour on sundays\")\n",
    "for hour in range(6,23):\n",
    "    dataset.append(df.loc[df[\"hour_avl\"] == hour][\"number_buses\"])\n",
    "\n",
    "ax.boxplot(dataset,labels=[hour for hour in range(6,23)])\n",
    "\n",
    "plt.savefig(f'./charts-results/active-buses-sundays.png',bbox_inches='tight')\n",
    "plt.show()"
   ]
  },
  {
   "cell_type": "code",
   "execution_count": null,
   "metadata": {},
   "outputs": [],
   "source": [
    "# number of encounters - 1 chart\n",
    "- refazer igual o de antes (monografia) 1 dia com a mediana\n",
    "- por minuto"
   ]
  },
  {
   "cell_type": "code",
   "execution_count": null,
   "metadata": {},
   "outputs": [],
   "source": [
    "# number of encounters - 2 chart\n",
    "- 1 - filtros de contato\n",
    "- 2 - repetir o passo 1 para cada um dos 22 dias de semana\n",
    "- 3 - contar os encontros por onibus (por grafo) dos 22 dias separadamente\n",
    "- 4 - concatenar os 22 dias num tabelao \n",
    "- 5 - agrupar hora minuto (vai ser um pontinho para cada hora-minuto e nao mais 22 pontos)\n",
    "- 6 - fazer mediana por hora minuto\n",
    "#- 7 - plotar os 22 pontos para cada hora minutos"
   ]
  },
  {
   "cell_type": "markdown",
   "metadata": {},
   "source": [
    "## Connectivity metrics"
   ]
  },
  {
   "cell_type": "code",
   "execution_count": 6,
   "metadata": {},
   "outputs": [
    {
     "data": {
      "image/png": "[encoded data removed]",
      "text/plain": [
       "<Figure size 1080x576 with 1 Axes>"
      ]
     },
     "metadata": {
      "needs_background": "light"
     },
     "output_type": "display_data"
    }
   ],
   "source": [
    "# Median Vehicle Degree per minute - weekdays\n",
    "\n",
    "import matplotlib.pyplot as plt\n",
    "import pandas as pd\n",
    "\n",
    "\n",
    "df = pd.read_parquet(f\"./metrics-calculation-data/connectivity-metrics/median-connections-per-minute-weekdays/\")\\\n",
    "\n",
    "df[[\"hour\",\"minute\"]] = df[\"hour-minute\"].str.split(\":\",expand=True,)    \n",
    "\n",
    "df[\"hour-minute\"] = pd.to_datetime(df[\"hour-minute\"], format=\"%H:%M\").dt.strftime('%H:%M')\n",
    "\n",
    "df = df.sort_values(by=[\"hour-minute\"])\n",
    "\n",
    "ax = df.plot(x =\"hour-minute\",y = \"median\",title=f\"Grau médio de conectividade - 1/10/2015\",figsize=(15,8))\n",
    "# x axis label\n",
    "ax.set_xlabel(\"hora\",size=20)\n",
    "# y axis label\n",
    "ax.set_ylabel(\"grau médio de conectividade\",size=20)\n",
    "    \n",
    "# title fontsize\n",
    "ax.title.set_size(20)\n",
    "plt.grid(True)\n",
    "# size of the number in both axis\n",
    "ax.tick_params(axis='both', which='major', labelsize=15)\n",
    "plt.show()\n",
    "\n",
    "\n",
    "\n",
    "#     ax.get_figure().savefig(f'./charts-results/degree-vertices-per-minute/day-{day}-degree-vehicles.png',bbox_inches='tight')"
   ]
  },
  {
   "cell_type": "code",
   "execution_count": 36,
   "metadata": {},
   "outputs": [
    {
     "data": {
      "text/html": [
       "<div>\n",
       "<style scoped>\n",
       "    .dataframe tbody tr th:only-of-type {\n",
       "        vertical-align: middle;\n",
       "    }\n",
       "\n",
       "    .dataframe tbody tr th {\n",
       "        vertical-align: top;\n",
       "    }\n",
       "\n",
       "    .dataframe thead th {\n",
       "        text-align: right;\n",
       "    }\n",
       "</style>\n",
       "<table border=\"1\" class=\"dataframe\">\n",
       "  <thead>\n",
       "    <tr style=\"text-align: right;\">\n",
       "      <th></th>\n",
       "      <th>hour-minute</th>\n",
       "      <th>median</th>\n",
       "      <th>hour</th>\n",
       "      <th>minute</th>\n",
       "    </tr>\n",
       "  </thead>\n",
       "  <tbody>\n",
       "    <tr>\n",
       "      <th>199</th>\n",
       "      <td>10:00</td>\n",
       "      <td>3</td>\n",
       "      <td>10</td>\n",
       "      <td>0</td>\n",
       "    </tr>\n",
       "    <tr>\n",
       "      <th>72</th>\n",
       "      <td>10:01</td>\n",
       "      <td>3</td>\n",
       "      <td>10</td>\n",
       "      <td>1</td>\n",
       "    </tr>\n",
       "    <tr>\n",
       "      <th>831</th>\n",
       "      <td>10:10</td>\n",
       "      <td>3</td>\n",
       "      <td>10</td>\n",
       "      <td>10</td>\n",
       "    </tr>\n",
       "    <tr>\n",
       "      <th>458</th>\n",
       "      <td>10:11</td>\n",
       "      <td>3</td>\n",
       "      <td>10</td>\n",
       "      <td>11</td>\n",
       "    </tr>\n",
       "    <tr>\n",
       "      <th>978</th>\n",
       "      <td>10:12</td>\n",
       "      <td>3</td>\n",
       "      <td>10</td>\n",
       "      <td>12</td>\n",
       "    </tr>\n",
       "  </tbody>\n",
       "</table>\n",
       "</div>"
      ],
      "text/plain": [
       "    hour-minute  median hour minute\n",
       "199       10:00       3   10      0\n",
       "72        10:01       3   10      1\n",
       "831       10:10       3   10     10\n",
       "458       10:11       3   10     11\n",
       "978       10:12       3   10     12"
      ]
     },
     "execution_count": 36,
     "metadata": {},
     "output_type": "execute_result"
    }
   ],
   "source": [
    "# Boxplot Vehicle degree per hour - weekdays"
   ]
  },
  {
   "cell_type": "code",
   "execution_count": 3,
   "metadata": {},
   "outputs": [
    {
     "data": {
      "text/html": [
       "<div>\n",
       "<style scoped>\n",
       "    .dataframe tbody tr th:only-of-type {\n",
       "        vertical-align: middle;\n",
       "    }\n",
       "\n",
       "    .dataframe tbody tr th {\n",
       "        vertical-align: top;\n",
       "    }\n",
       "\n",
       "    .dataframe thead th {\n",
       "        text-align: right;\n",
       "    }\n",
       "</style>\n",
       "<table border=\"1\" class=\"dataframe\">\n",
       "  <thead>\n",
       "    <tr style=\"text-align: right;\">\n",
       "      <th></th>\n",
       "      <th>id_avl_1</th>\n",
       "      <th>graph_id</th>\n",
       "      <th>number_connections</th>\n",
       "      <th>hour</th>\n",
       "      <th>minute</th>\n",
       "      <th>hour-minute</th>\n",
       "      <th>region</th>\n",
       "      <th>day</th>\n",
       "    </tr>\n",
       "  </thead>\n",
       "  <tbody>\n",
       "    <tr>\n",
       "      <th>0</th>\n",
       "      <td>38645</td>\n",
       "      <td>17-29-MOEMA</td>\n",
       "      <td>3</td>\n",
       "      <td>17</td>\n",
       "      <td>29</td>\n",
       "      <td>17:29</td>\n",
       "      <td>MOEMA</td>\n",
       "      <td>4</td>\n",
       "    </tr>\n",
       "    <tr>\n",
       "      <th>1</th>\n",
       "      <td>56847</td>\n",
       "      <td>18-51-BELEM</td>\n",
       "      <td>6</td>\n",
       "      <td>18</td>\n",
       "      <td>51</td>\n",
       "      <td>18:51</td>\n",
       "      <td>BELEM</td>\n",
       "      <td>4</td>\n",
       "    </tr>\n",
       "    <tr>\n",
       "      <th>2</th>\n",
       "      <td>14005</td>\n",
       "      <td>18-35-CAPAO REDONDO</td>\n",
       "      <td>7</td>\n",
       "      <td>18</td>\n",
       "      <td>35</td>\n",
       "      <td>18:35</td>\n",
       "      <td>CAPAO REDONDO</td>\n",
       "      <td>4</td>\n",
       "    </tr>\n",
       "    <tr>\n",
       "      <th>3</th>\n",
       "      <td>43511</td>\n",
       "      <td>10-41-CAMPO LIMPO</td>\n",
       "      <td>2</td>\n",
       "      <td>10</td>\n",
       "      <td>41</td>\n",
       "      <td>10:41</td>\n",
       "      <td>CAMPO LIMPO</td>\n",
       "      <td>4</td>\n",
       "    </tr>\n",
       "    <tr>\n",
       "      <th>4</th>\n",
       "      <td>9772</td>\n",
       "      <td>21-22-SE</td>\n",
       "      <td>12</td>\n",
       "      <td>21</td>\n",
       "      <td>22</td>\n",
       "      <td>21:22</td>\n",
       "      <td>SE</td>\n",
       "      <td>4</td>\n",
       "    </tr>\n",
       "    <tr>\n",
       "      <th>5</th>\n",
       "      <td>56810</td>\n",
       "      <td>11-5-BELEM</td>\n",
       "      <td>7</td>\n",
       "      <td>11</td>\n",
       "      <td>5</td>\n",
       "      <td>11:5</td>\n",
       "      <td>BELEM</td>\n",
       "      <td>4</td>\n",
       "    </tr>\n",
       "    <tr>\n",
       "      <th>6</th>\n",
       "      <td>12343</td>\n",
       "      <td>6-44-PIRITUBA</td>\n",
       "      <td>11</td>\n",
       "      <td>6</td>\n",
       "      <td>44</td>\n",
       "      <td>6:44</td>\n",
       "      <td>PIRITUBA</td>\n",
       "      <td>4</td>\n",
       "    </tr>\n",
       "    <tr>\n",
       "      <th>7</th>\n",
       "      <td>39639</td>\n",
       "      <td>16-42-CAMPO LIMPO</td>\n",
       "      <td>3</td>\n",
       "      <td>16</td>\n",
       "      <td>42</td>\n",
       "      <td>16:42</td>\n",
       "      <td>CAMPO LIMPO</td>\n",
       "      <td>4</td>\n",
       "    </tr>\n",
       "    <tr>\n",
       "      <th>8</th>\n",
       "      <td>55067</td>\n",
       "      <td>11-4-LIMAO</td>\n",
       "      <td>2</td>\n",
       "      <td>11</td>\n",
       "      <td>4</td>\n",
       "      <td>11:4</td>\n",
       "      <td>LIMAO</td>\n",
       "      <td>4</td>\n",
       "    </tr>\n",
       "    <tr>\n",
       "      <th>9</th>\n",
       "      <td>12563</td>\n",
       "      <td>18-48-LAPA</td>\n",
       "      <td>9</td>\n",
       "      <td>18</td>\n",
       "      <td>48</td>\n",
       "      <td>18:48</td>\n",
       "      <td>LAPA</td>\n",
       "      <td>4</td>\n",
       "    </tr>\n",
       "  </tbody>\n",
       "</table>\n",
       "</div>"
      ],
      "text/plain": [
       "   id_avl_1             graph_id  number_connections hour minute hour-minute  \\\n",
       "0     38645          17-29-MOEMA                   3   17     29       17:29   \n",
       "1     56847          18-51-BELEM                   6   18     51       18:51   \n",
       "2     14005  18-35-CAPAO REDONDO                   7   18     35       18:35   \n",
       "3     43511    10-41-CAMPO LIMPO                   2   10     41       10:41   \n",
       "4      9772             21-22-SE                  12   21     22       21:22   \n",
       "5     56810           11-5-BELEM                   7   11      5        11:5   \n",
       "6     12343        6-44-PIRITUBA                  11    6     44        6:44   \n",
       "7     39639    16-42-CAMPO LIMPO                   3   16     42       16:42   \n",
       "8     55067           11-4-LIMAO                   2   11      4        11:4   \n",
       "9     12563           18-48-LAPA                   9   18     48       18:48   \n",
       "\n",
       "          region  day  \n",
       "0          MOEMA    4  \n",
       "1          BELEM    4  \n",
       "2  CAPAO REDONDO    4  \n",
       "3    CAMPO LIMPO    4  \n",
       "4             SE    4  \n",
       "5          BELEM    4  \n",
       "6       PIRITUBA    4  \n",
       "7    CAMPO LIMPO    4  \n",
       "8          LIMAO    4  \n",
       "9           LAPA    4  "
      ]
     },
     "execution_count": 3,
     "metadata": {},
     "output_type": "execute_result"
    }
   ],
   "source": [
    "# Vehicle Degree per minute - weekdays\n",
    "import pandas as pd\n",
    "df = pd.read_parquet(f\"./metrics-calculation-data/connectivity-metrics/all-connections-per-vehicle-per-graph-sundays/\")\n",
    "df.head(10)"
   ]
  },
  {
   "cell_type": "code",
   "execution_count": 4,
   "metadata": {},
   "outputs": [
    {
     "data": {
      "image/png": "[encoded data removed]",
      "text/plain": [
       "<Figure size 864x504 with 1 Axes>"
      ]
     },
     "metadata": {
      "needs_background": "light"
     },
     "output_type": "display_data"
    }
   ],
   "source": [
    "# Vehicle Degree per minute - sundays\n",
    "\n",
    "import numpy as np\n",
    "import pandas as pd\n",
    "import matplotlib.pyplot as plt\n",
    "\n",
    "# Visualize petal length distribution for all species\n",
    "fig, ax = plt.subplots(figsize=(12, 7))\n",
    "\n",
    "# Remove top and right border\n",
    "# ax.spines['top'].set_visible(False)\n",
    "# ax.spines['right'].set_visible(False)\n",
    "# ax.spines['left'].set_visible(False)# Remove y-axis tick marks\n",
    "# ax.yaxis.set_ticks_position('none')# Add major gridlines in the y-axis\n",
    "ax.grid(color='grey', axis='y', linestyle='-', linewidth=0.25, alpha=0.5)# Set plot title\n",
    "\n",
    "\n",
    "dataset = []\n",
    "df = pd.read_parquet(f\"./metrics-calculation-data/connectivity-metrics/all-connections-per-vehicle-per-graph-sundays/\")\n",
    "plt.title(\"Vehicle Degree per hour - sundays\")\n",
    "for hour in range(6,23):\n",
    "    dataset.append(df.loc[df[\"hour\"] == str(hour)][\"number_connections\"])\n",
    "    \n",
    "ax.set_yscale('log')\n",
    "ax.boxplot(dataset,labels=[str(hour) for hour in range(6,23)])\n",
    "\n",
    "plt.savefig(f'./charts-results/vehicle-degree-per-hour-boxplot-sundays.png',bbox_inches='tight')\n",
    "plt.show()\n"
   ]
  },
  {
   "cell_type": "code",
   "execution_count": 7,
   "metadata": {},
   "outputs": [
    {
     "data": {
      "text/html": [
       "<div>\n",
       "<style scoped>\n",
       "    .dataframe tbody tr th:only-of-type {\n",
       "        vertical-align: middle;\n",
       "    }\n",
       "\n",
       "    .dataframe tbody tr th {\n",
       "        vertical-align: top;\n",
       "    }\n",
       "\n",
       "    .dataframe thead th {\n",
       "        text-align: right;\n",
       "    }\n",
       "</style>\n",
       "<table border=\"1\" class=\"dataframe\">\n",
       "  <thead>\n",
       "    <tr style=\"text-align: right;\">\n",
       "      <th></th>\n",
       "      <th>id_avl_1</th>\n",
       "      <th>graph_id</th>\n",
       "      <th>number_connections</th>\n",
       "      <th>hour</th>\n",
       "      <th>minute</th>\n",
       "      <th>hour-minute</th>\n",
       "      <th>region</th>\n",
       "      <th>day</th>\n",
       "    </tr>\n",
       "  </thead>\n",
       "  <tbody>\n",
       "    <tr>\n",
       "      <th>37</th>\n",
       "      <td>40442</td>\n",
       "      <td>22-48-PARELHEIROS</td>\n",
       "      <td>5</td>\n",
       "      <td>22</td>\n",
       "      <td>48</td>\n",
       "      <td>22:48</td>\n",
       "      <td>PARELHEIROS</td>\n",
       "      <td>4</td>\n",
       "    </tr>\n",
       "    <tr>\n",
       "      <th>57</th>\n",
       "      <td>9496</td>\n",
       "      <td>22-51-REPUBLICA</td>\n",
       "      <td>4</td>\n",
       "      <td>22</td>\n",
       "      <td>51</td>\n",
       "      <td>22:51</td>\n",
       "      <td>REPUBLICA</td>\n",
       "      <td>4</td>\n",
       "    </tr>\n",
       "    <tr>\n",
       "      <th>102</th>\n",
       "      <td>50463</td>\n",
       "      <td>22-59-CAMPO GRANDE</td>\n",
       "      <td>3</td>\n",
       "      <td>22</td>\n",
       "      <td>59</td>\n",
       "      <td>22:59</td>\n",
       "      <td>CAMPO GRANDE</td>\n",
       "      <td>4</td>\n",
       "    </tr>\n",
       "    <tr>\n",
       "      <th>178</th>\n",
       "      <td>39873</td>\n",
       "      <td>22-57-CAPAO REDONDO</td>\n",
       "      <td>5</td>\n",
       "      <td>22</td>\n",
       "      <td>57</td>\n",
       "      <td>22:57</td>\n",
       "      <td>CAPAO REDONDO</td>\n",
       "      <td>4</td>\n",
       "    </tr>\n",
       "    <tr>\n",
       "      <th>183</th>\n",
       "      <td>11795</td>\n",
       "      <td>22-8-CIDADE DUTRA</td>\n",
       "      <td>3</td>\n",
       "      <td>22</td>\n",
       "      <td>8</td>\n",
       "      <td>22:8</td>\n",
       "      <td>CIDADE DUTRA</td>\n",
       "      <td>4</td>\n",
       "    </tr>\n",
       "    <tr>\n",
       "      <th>231</th>\n",
       "      <td>50324</td>\n",
       "      <td>22-25-PEDREIRA</td>\n",
       "      <td>2</td>\n",
       "      <td>22</td>\n",
       "      <td>25</td>\n",
       "      <td>22:25</td>\n",
       "      <td>PEDREIRA</td>\n",
       "      <td>4</td>\n",
       "    </tr>\n",
       "    <tr>\n",
       "      <th>233</th>\n",
       "      <td>14364</td>\n",
       "      <td>22-28-LAPA</td>\n",
       "      <td>1</td>\n",
       "      <td>22</td>\n",
       "      <td>28</td>\n",
       "      <td>22:28</td>\n",
       "      <td>LAPA</td>\n",
       "      <td>4</td>\n",
       "    </tr>\n",
       "    <tr>\n",
       "      <th>246</th>\n",
       "      <td>21983</td>\n",
       "      <td>22-3-SE</td>\n",
       "      <td>7</td>\n",
       "      <td>22</td>\n",
       "      <td>3</td>\n",
       "      <td>22:3</td>\n",
       "      <td>SE</td>\n",
       "      <td>4</td>\n",
       "    </tr>\n",
       "    <tr>\n",
       "      <th>257</th>\n",
       "      <td>42240</td>\n",
       "      <td>22-53-TATUAPE</td>\n",
       "      <td>7</td>\n",
       "      <td>22</td>\n",
       "      <td>53</td>\n",
       "      <td>22:53</td>\n",
       "      <td>TATUAPE</td>\n",
       "      <td>4</td>\n",
       "    </tr>\n",
       "    <tr>\n",
       "      <th>265</th>\n",
       "      <td>55001</td>\n",
       "      <td>22-1-LAPA</td>\n",
       "      <td>3</td>\n",
       "      <td>22</td>\n",
       "      <td>1</td>\n",
       "      <td>22:1</td>\n",
       "      <td>LAPA</td>\n",
       "      <td>4</td>\n",
       "    </tr>\n",
       "  </tbody>\n",
       "</table>\n",
       "</div>"
      ],
      "text/plain": [
       "     id_avl_1             graph_id  number_connections hour minute  \\\n",
       "37      40442    22-48-PARELHEIROS                   5   22     48   \n",
       "57       9496      22-51-REPUBLICA                   4   22     51   \n",
       "102     50463   22-59-CAMPO GRANDE                   3   22     59   \n",
       "178     39873  22-57-CAPAO REDONDO                   5   22     57   \n",
       "183     11795    22-8-CIDADE DUTRA                   3   22      8   \n",
       "231     50324       22-25-PEDREIRA                   2   22     25   \n",
       "233     14364           22-28-LAPA                   1   22     28   \n",
       "246     21983              22-3-SE                   7   22      3   \n",
       "257     42240        22-53-TATUAPE                   7   22     53   \n",
       "265     55001            22-1-LAPA                   3   22      1   \n",
       "\n",
       "    hour-minute         region  day  \n",
       "37        22:48    PARELHEIROS    4  \n",
       "57        22:51      REPUBLICA    4  \n",
       "102       22:59   CAMPO GRANDE    4  \n",
       "178       22:57  CAPAO REDONDO    4  \n",
       "183        22:8   CIDADE DUTRA    4  \n",
       "231       22:25       PEDREIRA    4  \n",
       "233       22:28           LAPA    4  \n",
       "246        22:3             SE    4  \n",
       "257       22:53        TATUAPE    4  \n",
       "265        22:1           LAPA    4  "
      ]
     },
     "execution_count": 7,
     "metadata": {},
     "output_type": "execute_result"
    }
   ],
   "source": [
    "df = pd.read_parquet(f\"./metrics-calculation-data/connectivity-metrics/all-connections-per-vehicle-per-graph-sundays/\")\n",
    "df.loc[df[\"hour\"] == '22'].head(10)"
   ]
  },
  {
   "cell_type": "code",
   "execution_count": 8,
   "metadata": {},
   "outputs": [
    {
     "ename": "SyntaxError",
     "evalue": "invalid syntax (<ipython-input-8-0b40c068407c>, line 1)",
     "output_type": "error",
     "traceback": [
      "\u001b[0;36m  File \u001b[0;32m\"<ipython-input-8-0b40c068407c>\"\u001b[0;36m, line \u001b[0;32m1\u001b[0m\n\u001b[0;31m    - Consigo passar o eixo vertical para base 10?\u001b[0m\n\u001b[0m                   ^\u001b[0m\n\u001b[0;31mSyntaxError\u001b[0m\u001b[0;31m:\u001b[0m invalid syntax\n"
     ]
    }
   ],
   "source": [
    "- Consigo passar o eixo vertical para base 10?\n",
    "- opcoes: tabela ou escala exponencial\n",
    "    \n",
    "- colocar serrilhado com média(media tem problema, \n",
    "pois representa agregacao distorce a informação, pra isso foi feito o boxplot). Explicar outlier do boxplot --> sao onibus que pode estar parados por um periodo de tempo dentro dos terminais\n",
    "- escrever no notebook, todos os gráficos no notebook\n",
    "- o que é a métrica, como foi calculada, pq ela acontece (onibus parado, outliers)\n",
    "\n",
    "\n",
    "- ir colocando descricoes nas celulas do notebook\n",
    "- dar acabamento nos gráficos e eliminar comentarios/código nao pertinente\n",
    "- colocar figuras no overleaf, e breve descrição"
   ]
  }
 ],
 "metadata": {
  "kernelspec": {
   "display_name": "Python 3",
   "language": "python",
   "name": "python3"
  },
  "language_info": {
   "codemirror_mode": {
    "name": "ipython",
    "version": 3
   },
   "file_extension": ".py",
   "mimetype": "text/x-python",
   "name": "python",
   "nbconvert_exporter": "python",
   "pygments_lexer": "ipython3",
   "version": "3.7.4"
  }
 },
 "nbformat": 4,
 "nbformat_minor": 2
}
