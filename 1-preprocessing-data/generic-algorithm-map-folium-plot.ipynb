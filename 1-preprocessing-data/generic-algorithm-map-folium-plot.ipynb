{
 "cells": [
  {
   "cell_type": "code",
   "execution_count": null,
   "metadata": {},
   "outputs": [],
   "source": [
    "import folium\n",
    "import pandas as pd\n",
    "\n",
    "map_folium = folium.Map([-23.477476,-46.610409], zoom_start=12)\n",
    "\n",
    "tile = folium.TileLayer('OpenStreetMap').add_to(map_folium)\n",
    "\n",
    "df = pd.read_parquet(\"./plot-data/out-of-sp-MO_15101/\")\n",
    "\n",
    "bus = 57770\n",
    "df = df.loc[df[\"id_avl\"] == bus]\n",
    "\n",
    "coords = df[[\"latitude\",\"longitude\"]].values.tolist()\n",
    "\n",
    "for coord in coords:\n",
    "    icon = folium.features.CustomIcon('red-point.png', icon_size=(10,10))\n",
    "    folium.Marker(coord,icon=icon).add_to(map_folium)\n",
    "    \n",
    "\n",
    "\n",
    "    \n",
    "map_folium.save(f\"./plot-data/out_of-sp-bus-{bus}-MO_15101.html\")"
   ]
  }
 ],
 "metadata": {
  "kernelspec": {
   "display_name": "Python 3",
   "language": "python",
   "name": "python3"
  },
  "language_info": {
   "codemirror_mode": {
    "name": "ipython",
    "version": 3
   },
   "file_extension": ".py",
   "mimetype": "text/x-python",
   "name": "python",
   "nbconvert_exporter": "python",
   "pygments_lexer": "ipython3",
   "version": "3.7.4"
  }
 },
 "nbformat": 4,
 "nbformat_minor": 2
}
