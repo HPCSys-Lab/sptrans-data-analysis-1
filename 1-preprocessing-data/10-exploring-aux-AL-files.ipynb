{
 "cells": [
  {
   "cell_type": "code",
   "execution_count": 2,
   "metadata": {},
   "outputs": [
    {
     "data": {
      "application/vnd.jupyter.widget-view+json": {
       "model_id": "4b70c211f0c743098c85387cbf506b5f",
       "version_major": 2,
       "version_minor": 0
      },
      "text/plain": [
       "VBox()"
      ]
     },
     "metadata": {},
     "output_type": "display_data"
    },
    {
     "data": {
      "application/vnd.jupyter.widget-view+json": {
       "model_id": "",
       "version_major": 2,
       "version_minor": 0
      },
      "text/plain": [
       "FloatProgress(value=0.0, bar_style='info', description='Progress:', layout=Layout(height='25px', width='50%'),…"
      ]
     },
     "metadata": {},
     "output_type": "display_data"
    },
    {
     "name": "stdout",
     "output_type": "stream",
     "text": [
      "Collecting boto3\n",
      "  Downloading https://files.pythonhosted.org/packages/35/8e/828879111f9a5fe2092c8aacd664700864c58f4c2dd74947595cc6f884b1/boto3-1.16.38-py2.py3-none-any.whl (130kB)\n",
      "Requirement already satisfied: jmespath<1.0.0,>=0.7.1 in /usr/local/lib/python3.7/site-packages (from boto3)\n",
      "Collecting botocore<1.20.0,>=1.19.38 (from boto3)\n",
      "  Downloading https://files.pythonhosted.org/packages/86/33/a87bdbb4d572783a512039bc75ea88bd6c85868074b1af857683e98dac69/botocore-1.19.38-py2.py3-none-any.whl (7.1MB)\n",
      "Collecting s3transfer<0.4.0,>=0.3.0 (from boto3)\n",
      "  Downloading https://files.pythonhosted.org/packages/69/79/e6afb3d8b0b4e96cefbdc690f741d7dd24547ff1f94240c997a26fa908d3/s3transfer-0.3.3-py2.py3-none-any.whl (69kB)\n",
      "Collecting python-dateutil<3.0.0,>=2.1 (from botocore<1.20.0,>=1.19.38->boto3)\n",
      "  Downloading https://files.pythonhosted.org/packages/d4/70/d60450c3dd48ef87586924207ae8907090de0b306af2bce5d134d78615cb/python_dateutil-2.8.1-py2.py3-none-any.whl (227kB)\n",
      "Collecting urllib3<1.27,>=1.25.4; python_version != \"3.4\" (from botocore<1.20.0,>=1.19.38->boto3)\n",
      "  Downloading https://files.pythonhosted.org/packages/f5/71/45d36a8df68f3ebb098d6861b2c017f3d094538c0fb98fa61d4dc43e69b9/urllib3-1.26.2-py2.py3-none-any.whl (136kB)\n",
      "Requirement already satisfied: six>=1.5 in /usr/local/lib/python3.7/site-packages (from python-dateutil<3.0.0,>=2.1->botocore<1.20.0,>=1.19.38->boto3)\n",
      "Installing collected packages: python-dateutil, urllib3, botocore, s3transfer, boto3\n",
      "Successfully installed boto3-1.16.38 botocore-1.19.38 python-dateutil-2.8.1 s3transfer-0.3.3 urllib3-1.26.2"
     ]
    }
   ],
   "source": [
    "# Studying Aux GTFS files to support in the cleaning\n",
    "# Spark Config\n",
    "from pyspark import SparkConf\n",
    "from pyspark import SparkContext\n",
    "\n",
    "spark_conf = (SparkConf().set(\"spark.speculation\", \"false\"))\n",
    "sc = SparkContext.getOrCreate(conf = spark_conf)\n",
    "\n",
    "# spark = sparkSession\n",
    "hadoop_conf = spark._jsc.hadoopConfiguration()\n",
    "hadoop_conf.set(\"fs.s3a.impl\", \"org.apache.hadoop.fs.s3a.S3AFileSystem\")\n",
    "hadoop_conf.set(\"mapreduce.fileoutputcommitter.algorithm.version\",\"2\")\n",
    "\n",
    "# installing necessary packages for notebook session\n",
    "sc.install_pypi_package(\"boto3\")"
   ]
  },
  {
   "cell_type": "code",
   "execution_count": 5,
   "metadata": {},
   "outputs": [
    {
     "data": {
      "application/vnd.jupyter.widget-view+json": {
       "model_id": "48fe78407f0447d0b2e3eabdfd721b57",
       "version_major": 2,
       "version_minor": 0
      },
      "text/plain": [
       "VBox()"
      ]
     },
     "metadata": {},
     "output_type": "display_data"
    },
    {
     "data": {
      "application/vnd.jupyter.widget-view+json": {
       "model_id": "",
       "version_major": 2,
       "version_minor": 0
      },
      "text/plain": [
       "FloatProgress(value=0.0, bar_style='info', description='Progress:', layout=Layout(height='25px', width='50%'),…"
      ]
     },
     "metadata": {},
     "output_type": "display_data"
    },
    {
     "name": "stdout",
     "output_type": "stream",
     "text": [
      "total unique_line_id unique_line_number_complement\n",
      "2782 2782 1391\n",
      "[Row(_c3='1'), Row(_c3='2')]\n",
      "2782 2782 1391\n",
      "[Row(_c3='1'), Row(_c3='2')]\n",
      "2782 2782 1391\n",
      "[Row(_c3='1'), Row(_c3='2')]\n",
      "2782 2782 1391\n",
      "[Row(_c3='1'), Row(_c3='2')]\n",
      "2782 2782 1391\n",
      "[Row(_c3='1'), Row(_c3='2')]\n",
      "2782 2782 1391\n",
      "[Row(_c3='1'), Row(_c3='2')]\n",
      "2782 2782 1391\n",
      "[Row(_c3='1'), Row(_c3='2')]\n",
      "2782 2782 1391\n",
      "[Row(_c3='1'), Row(_c3='2')]\n",
      "2782 2782 1391\n",
      "[Row(_c3='1'), Row(_c3='2')]\n",
      "2782 2782 1391\n",
      "[Row(_c3='1'), Row(_c3='2')]\n",
      "2782 2782 1391\n",
      "[Row(_c3='1'), Row(_c3='2')]\n",
      "2782 2782 1391\n",
      "[Row(_c3='1'), Row(_c3='2')]\n",
      "2782 2782 1391\n",
      "[Row(_c3='1'), Row(_c3='2')]\n",
      "2782 2782 1391\n",
      "[Row(_c3='1'), Row(_c3='2')]\n",
      "2784 2784 1392\n",
      "[Row(_c3='1'), Row(_c3='2')]\n",
      "2784 2784 1392\n",
      "[Row(_c3='1'), Row(_c3='2')]\n",
      "2784 2784 1392\n",
      "[Row(_c3='1'), Row(_c3='2')]\n",
      "2784 2784 1392\n",
      "[Row(_c3='1'), Row(_c3='2')]\n",
      "2784 2784 1392\n",
      "[Row(_c3='1'), Row(_c3='2')]\n",
      "2784 2784 1392\n",
      "[Row(_c3='1'), Row(_c3='2')]\n",
      "2784 2784 1392\n",
      "[Row(_c3='1'), Row(_c3='2')]\n",
      "2784 2784 1392\n",
      "[Row(_c3='1'), Row(_c3='2')]\n",
      "2784 2784 1392\n",
      "[Row(_c3='1'), Row(_c3='2')]\n",
      "2784 2784 1392\n",
      "[Row(_c3='1'), Row(_c3='2')]\n",
      "2784 2784 1392\n",
      "[Row(_c3='1'), Row(_c3='2')]\n",
      "2784 2784 1392\n",
      "[Row(_c3='1'), Row(_c3='2')]\n",
      "2786 2786 1393\n",
      "[Row(_c3='1'), Row(_c3='2')]\n",
      "2786 2786 1393\n",
      "[Row(_c3='1'), Row(_c3='2')]\n",
      "2784 2784 1392\n",
      "[Row(_c3='1'), Row(_c3='2')]\n",
      "2784 2784 1392\n",
      "[Row(_c3='1'), Row(_c3='2')]\n",
      "2786 2786 1393\n",
      "[Row(_c3='1'), Row(_c3='2')]"
     ]
    }
   ],
   "source": [
    "# _c0 = line number in GTFS system\n",
    "# _c1 = complement of the line\n",
    "# _c2 = line_id in the MO file\n",
    "# _c3 = direction\n",
    "\n",
    "print(\"total\",\"unique_line_id\",\"unique_line_number_complement\")\n",
    "for day in range(1,32):\n",
    "    routes = spark.read.csv(\"s3://mobility-traces-sp/aux-files/route-files/AL_1510\"+ str(day) + \".txt\",header=False)\n",
    "    \n",
    "    # checking if a line of MO file can have more than one route in AL file (different directions)\n",
    "    checking_line_id_duplicate = routes.drop_duplicates(subset=[\"_c2\"])\n",
    "    \n",
    "    # Checking it there are same line_numer+complement belonging to omre than one line_id from MO file\n",
    "    checking_line_number_duplicate = routes.drop_duplicates(subset=[\"_c0\",\"_c1\"])\n",
    "    \n",
    "    print(routes.count(),checking_line_id_duplicate.count(),checking_line_number_duplicate.count())\n",
    "    \n",
    "    # checking unique values for direction in AL file (1 or 2)\n",
    "    print(routes.select(\"_c3\").distinct().collect())"
   ]
  },
  {
   "cell_type": "code",
   "execution_count": 4,
   "metadata": {},
   "outputs": [
    {
     "data": {
      "application/vnd.jupyter.widget-view+json": {
       "model_id": "193129f8dc31486b842c4b16d3a269c4",
       "version_major": 2,
       "version_minor": 0
      },
      "text/plain": [
       "VBox()"
      ]
     },
     "metadata": {},
     "output_type": "display_data"
    },
    {
     "data": {
      "application/vnd.jupyter.widget-view+json": {
       "model_id": "",
       "version_major": 2,
       "version_minor": 0
      },
      "text/plain": [
       "FloatProgress(value=0.0, bar_style='info', description='Progress:', layout=Layout(height='25px', width='50%'),…"
      ]
     },
     "metadata": {},
     "output_type": "display_data"
    }
   ],
   "source": [
    "# Results\n",
    "# There are no cases where the line_id from MO file has more than route_id in AL_file\n",
    "# There are# In the GFTS the direction is represented by 1 or 0, \n",
    "# so you have to find out which one (1 or 2) represents the direction 1 and the direction 0 more than one line_id for a line_number+complement\n",
    "# The options to indicate direction are 1 and 2"
   ]
  },
  {
   "cell_type": "code",
   "execution_count": null,
   "metadata": {},
   "outputs": [],
   "source": [
    "# In the GFTS the direction is represented by 1 or 0, \n",
    "# so you have to find out which one (1 or 2) represents the direction 1 and the direction 0"
   ]
  },
  {
   "cell_type": "code",
   "execution_count": 8,
   "metadata": {},
   "outputs": [
    {
     "data": {
      "application/vnd.jupyter.widget-view+json": {
       "model_id": "1cda7389522647efb1e341d8fd247d24",
       "version_major": 2,
       "version_minor": 0
      },
      "text/plain": [
       "VBox()"
      ]
     },
     "metadata": {},
     "output_type": "display_data"
    },
    {
     "data": {
      "application/vnd.jupyter.widget-view+json": {
       "model_id": "",
       "version_major": 2,
       "version_minor": 0
      },
      "text/plain": [
       "FloatProgress(value=0.0, bar_style='info', description='Progress:', layout=Layout(height='25px', width='50%'),…"
      ]
     },
     "metadata": {},
     "output_type": "display_data"
    },
    {
     "name": "stdout",
     "output_type": "stream",
     "text": [
      "[Row(line_number='2435', complement='10', line_id=210, direction=1)]"
     ]
    }
   ],
   "source": [
    "from pyspark.sql.types import *\n",
    "\n",
    "AL_schema = StructType([\n",
    "    StructField(\"line_number\", StringType()),\n",
    "    StructField(\"complement\", StringType()),\n",
    "    StructField(\"line_id\", IntegerType()),\n",
    "    StructField(\"direction\", IntegerType())\n",
    "])\n",
    "\n",
    "# reading bus records of october 1 2015\n",
    "traces = spark.read.parquet(\"s3://mobility-traces-sp/processed-data-avl-date/6-records-inside-sp-in-october-with-time-variation/MO_15101/\")\n",
    "AL_df = spark.read.csv(\"s3://mobility-traces-sp/aux-files/route-files/AL_15101.txt\",header ='false',schema=AL_schema)\n",
    "\n",
    "# select distinct line_ids in MO file\n",
    "line_id_distinct = traces.select('line_id').distinct()\n",
    "\n",
    "import random\n",
    "\n",
    "# list of distinct line_id in MO file\n",
    "lines = list(line_id_distinct.collect())\n",
    "\n",
    "random_num = random.randint(0,len(lines))\n",
    "\n",
    "# selecting random line_id\n",
    "line_id = lines[random_num][\"line_id\"]\n",
    "\n",
    "# finding the liner_number for line_id\n",
    "\n",
    "# error no treated --> line_id can not have a AL, for prod code, this error must be treated\n",
    "line_number_row = AL_df.filter(\"line_id == \" +  str(line_id)).collect()\n",
    "\n",
    "print(line_number_row)"
   ]
  },
  {
   "cell_type": "code",
   "execution_count": 9,
   "metadata": {},
   "outputs": [
    {
     "data": {
      "application/vnd.jupyter.widget-view+json": {
       "model_id": "3b95c1cc45384c50b8f8e1d287c6f226",
       "version_major": 2,
       "version_minor": 0
      },
      "text/plain": [
       "VBox()"
      ]
     },
     "metadata": {},
     "output_type": "display_data"
    },
    {
     "data": {
      "application/vnd.jupyter.widget-view+json": {
       "model_id": "",
       "version_major": 2,
       "version_minor": 0
      },
      "text/plain": [
       "FloatProgress(value=0.0, bar_style='info', description='Progress:', layout=Layout(height='25px', width='50%'),…"
      ]
     },
     "metadata": {},
     "output_type": "display_data"
    }
   ],
   "source": [
    "line_number = line_number_row[0][\"line_number\"]\n",
    "line_complement = line_number_row[0][\"complement\"]\n",
    "line_direction = line_number_row[0][\"direction\"]"
   ]
  },
  {
   "cell_type": "code",
   "execution_count": null,
   "metadata": {},
   "outputs": [],
   "source": [
    "# In the GTFS files the direction is represented by 1 and 0, and in the AL file the direction can be 1 or 2\n",
    "# so we need to identify the right ones\n",
    "# Identifying direction 1= 0 or 1= 1 and 2 = 1 or 2 =0?"
   ]
  },
  {
   "cell_type": "code",
   "execution_count": 11,
   "metadata": {},
   "outputs": [
    {
     "data": {
      "application/vnd.jupyter.widget-view+json": {
       "model_id": "33a20cc6150f403085f9c7ace5625367",
       "version_major": 2,
       "version_minor": 0
      },
      "text/plain": [
       "VBox()"
      ]
     },
     "metadata": {},
     "output_type": "display_data"
    },
    {
     "data": {
      "application/vnd.jupyter.widget-view+json": {
       "model_id": "",
       "version_major": 2,
       "version_minor": 0
      },
      "text/plain": [
       "FloatProgress(value=0.0, bar_style='info', description='Progress:', layout=Layout(height='25px', width='50%'),…"
      ]
     },
     "metadata": {},
     "output_type": "display_data"
    },
    {
     "name": "stdout",
     "output_type": "stream",
     "text": [
      "2435-10-0 2435-10-1"
     ]
    }
   ],
   "source": [
    "# The random selection was [Row(line_number='2435', complement='10', line_id=210, direction=1)]\n",
    "\n",
    "# reading trips.txt (csv)\n",
    "trips = spark.read.csv(\"s3://mobility-traces-sp/aux-files/gtfs/trips.csv\",header=True)\n",
    "\n",
    "# possible trips - direction 1 and 0\n",
    "trip_id_0 = f'{line_number}-{line_complement}-0'\n",
    "trip_id_1 = f'{line_number}-{line_complement}-1'\n",
    "print(trip_id_0,trip_id_1)"
   ]
  },
  {
   "cell_type": "code",
   "execution_count": 12,
   "metadata": {},
   "outputs": [
    {
     "data": {
      "application/vnd.jupyter.widget-view+json": {
       "model_id": "8a7ce4fd2d844752930b4c4c8ddccc3d",
       "version_major": 2,
       "version_minor": 0
      },
      "text/plain": [
       "VBox()"
      ]
     },
     "metadata": {},
     "output_type": "display_data"
    },
    {
     "data": {
      "application/vnd.jupyter.widget-view+json": {
       "model_id": "",
       "version_major": 2,
       "version_minor": 0
      },
      "text/plain": [
       "FloatProgress(value=0.0, bar_style='info', description='Progress:', layout=Layout(height='25px', width='50%'),…"
      ]
     },
     "metadata": {},
     "output_type": "display_data"
    },
    {
     "name": "stdout",
     "output_type": "stream",
     "text": [
      "+--------+----------+---------+--------------------+------------+--------+\n",
      "|route_id|service_id|  trip_id|       trip_headsign|direction_id|shape_id|\n",
      "+--------+----------+---------+--------------------+------------+--------+\n",
      "| 1015-10|       USD|1015-10-0|Chácara Maria Tri...|           0|   61150|\n",
      "| 1016-10|       USD|1016-10-0|        Center Norte|           0|   53755|\n",
      "| 1016-10|       USD|1016-10-1|  Cemiterio Do Horto|           1|   53756|\n",
      "| 1017-10|       USD|1017-10-0|  Conexão Vila Iorio|           0|   61079|\n",
      "| 1017-10|       USD|1017-10-1|               Perus|           1|   61080|\n",
      "| 1018-10|       USD|1018-10-0|       Metrô Santana|           0|   52197|\n",
      "| 1018-10|       USD|1018-10-1|           Vila Rosa|           1|   52198|\n",
      "| 1021-10|       US_|1021-10-0|   Terminal Pirituba|           0|   58785|\n",
      "| 1021-10|       US_|1021-10-1|   Cohab Brasilândia|           1|   58786|\n",
      "| 1024-10|       USD|1024-10-0|Conexão Petrônio ...|           0|   58765|\n",
      "| 1024-10|       USD|1024-10-1|         Jd. Carombe|           1|   58766|\n",
      "| 1025-10|       USD|1025-10-0|Conexão Petrônio ...|           0|   58767|\n",
      "| 1025-10|       USD|1025-10-1|         Jd. Carombe|           1|   58768|\n",
      "| 1026-10|       USD|1026-10-0|Conexão Petrônio ...|           0|   60399|\n",
      "| 1026-10|       USD|1026-10-1|           Vila Iara|           1|   60400|\n",
      "| 1034-10|       USD|1034-10-0|  Conexão Vila Iório|           0|   60393|\n",
      "| 1034-10|       USD|1034-10-1|           Vila Iara|           1|   60394|\n",
      "| 1036-10|       USD|1036-10-0|  Conexão Vila Iório|           0|   61076|\n",
      "| 1036-10|       USD|1036-10-1|   Cohab Brasilândia|           1|   59459|\n",
      "| 106A-10|       USD|106A-10-0|          Itaim Bibi|           0|   60966|\n",
      "+--------+----------+---------+--------------------+------------+--------+\n",
      "only showing top 20 rows"
     ]
    }
   ],
   "source": [
    "trips.show()"
   ]
  },
  {
   "cell_type": "code",
   "execution_count": 14,
   "metadata": {},
   "outputs": [
    {
     "data": {
      "application/vnd.jupyter.widget-view+json": {
       "model_id": "7dec148d692349b5b58c6e8a3458f49f",
       "version_major": 2,
       "version_minor": 0
      },
      "text/plain": [
       "VBox()"
      ]
     },
     "metadata": {},
     "output_type": "display_data"
    },
    {
     "data": {
      "application/vnd.jupyter.widget-view+json": {
       "model_id": "",
       "version_major": 2,
       "version_minor": 0
      },
      "text/plain": [
       "FloatProgress(value=0.0, bar_style='info', description='Progress:', layout=Layout(height='25px', width='50%'),…"
      ]
     },
     "metadata": {},
     "output_type": "display_data"
    },
    {
     "name": "stdout",
     "output_type": "stream",
     "text": [
      "58695 53709"
     ]
    }
   ],
   "source": [
    "# remember to treat the shape can not exists\n",
    "\n",
    "# Selecting shapes for the trips\n",
    "shape_id_0 = trips.filter(\"trip_id == '\" + trip_id_0+ \"'\").collect()[0][\"shape_id\"]\n",
    "shape_id_1 = trips.filter(\"trip_id == '\" + trip_id_1+ \"'\").collect()[0][\"shape_id\"]\n",
    "print(shape_id_0,shape_id_1)"
   ]
  },
  {
   "cell_type": "code",
   "execution_count": 16,
   "metadata": {},
   "outputs": [
    {
     "data": {
      "application/vnd.jupyter.widget-view+json": {
       "model_id": "15683ec5a0394234a566e7e4c43ac5f0",
       "version_major": 2,
       "version_minor": 0
      },
      "text/plain": [
       "VBox()"
      ]
     },
     "metadata": {},
     "output_type": "display_data"
    },
    {
     "data": {
      "application/vnd.jupyter.widget-view+json": {
       "model_id": "",
       "version_major": 2,
       "version_minor": 0
      },
      "text/plain": [
       "FloatProgress(value=0.0, bar_style='info', description='Progress:', layout=Layout(height='25px', width='50%'),…"
      ]
     },
     "metadata": {},
     "output_type": "display_data"
    }
   ],
   "source": [
    "# reading shapes from GTFS file collection\n",
    "shapes = spark.read.csv(\"s3a://mobility-traces-sp/aux-files/gtfs/shapes.csv\",header = True)"
   ]
  },
  {
   "cell_type": "code",
   "execution_count": 17,
   "metadata": {},
   "outputs": [
    {
     "data": {
      "application/vnd.jupyter.widget-view+json": {
       "model_id": "45cce07c18f2403d9fba2a779f25dc24",
       "version_major": 2,
       "version_minor": 0
      },
      "text/plain": [
       "VBox()"
      ]
     },
     "metadata": {},
     "output_type": "display_data"
    },
    {
     "data": {
      "application/vnd.jupyter.widget-view+json": {
       "model_id": "",
       "version_major": 2,
       "version_minor": 0
      },
      "text/plain": [
       "FloatProgress(value=0.0, bar_style='info', description='Progress:', layout=Layout(height='25px', width='50%'),…"
      ]
     },
     "metadata": {},
     "output_type": "display_data"
    }
   ],
   "source": [
    "# selecting the points of the shapes\n",
    "shape_0 = shapes.filter(\"shape_id == '\" + shape_id_0+ \"'\")\n",
    "shape_1 = shapes.filter(\"shape_id == '\" + shape_id_1+ \"'\")\n",
    "\n",
    "shape_0.repartition(1).write.csv(\"s3://mobility-traces-sp/tests-map-views/1-shapes-direction-AL-file/day_15101_shape_\"+shape_id_0+\"/\")\n",
    "shape_1.repartition(1).write.csv(\"s3://mobility-traces-sp/tests-map-views/1-shapes-direction-AL-file/day_15101_shape_\"+shape_id_1+\"/\")"
   ]
  },
  {
   "cell_type": "code",
   "execution_count": 18,
   "metadata": {},
   "outputs": [
    {
     "data": {
      "application/vnd.jupyter.widget-view+json": {
       "model_id": "bbde1042caf7453d83268e01091536e6",
       "version_major": 2,
       "version_minor": 0
      },
      "text/plain": [
       "VBox()"
      ]
     },
     "metadata": {},
     "output_type": "display_data"
    },
    {
     "data": {
      "application/vnd.jupyter.widget-view+json": {
       "model_id": "",
       "version_major": 2,
       "version_minor": 0
      },
      "text/plain": [
       "FloatProgress(value=0.0, bar_style='info', description='Progress:', layout=Layout(height='25px', width='50%'),…"
      ]
     },
     "metadata": {},
     "output_type": "display_data"
    }
   ],
   "source": [
    "# selecting and saving traces with the line_id\n",
    "traces_selected = traces.filter(\"line_id == \"+ str(line_id))\n",
    "traces_selected.repartition(1).write.csv(\"s3://mobility-traces-sp/tests-map-views/1-shapes-direction-AL-file/day_15101_line_\"+str(line_id)+\"/\")"
   ]
  },
  {
   "cell_type": "code",
   "execution_count": null,
   "metadata": {},
   "outputs": [],
   "source": [
    "# https://towardsdatascience.com/mapping-geograph-data-in-python-610a963d2d7f"
   ]
  },
  {
   "cell_type": "code",
   "execution_count": 38,
   "metadata": {},
   "outputs": [
    {
     "data": {
      "application/vnd.jupyter.widget-view+json": {
       "model_id": "e9ac4db7d58b40cd849c23ab423d1dc3",
       "version_major": 2,
       "version_minor": 0
      },
      "text/plain": [
       "VBox()"
      ]
     },
     "metadata": {},
     "output_type": "display_data"
    },
    {
     "data": {
      "application/vnd.jupyter.widget-view+json": {
       "model_id": "",
       "version_major": 2,
       "version_minor": 0
      },
      "text/plain": [
       "FloatProgress(value=0.0, bar_style='info', description='Progress:', layout=Layout(height='25px', width='50%'),…"
      ]
     },
     "metadata": {},
     "output_type": "display_data"
    }
   ],
   "source": [
    "# # Using folium to plot map\n",
    "# import folium\n",
    "\n",
    "# map_folium = folium.Map([-23.550164466,-46.633664132], zoom_start=5)\n",
    "\n",
    "# tile = folium.TileLayer('cartodbpositron').add_to(map_folium)\n",
    "\n",
    "# # Plotting shapes 53709\n",
    "# for coord in coords_shape_53709:\n",
    "#     icon = folium.features.CustomIcon('/home/hadoop/green-point.png', icon_size=(10,10))\n",
    "#     folium.Marker(coord,icon=icon).add_to(map_folium)\n",
    "\n",
    "# # Plotting shapes 53709\n",
    "# for coord in coords_shape_58695:\n",
    "#     icon = folium.features.CustomIcon('/home/hadoop/blue-point.png', icon_size=(10,10))\n",
    "#     folium.Marker(coord,icon=icon).add_to(map_folium)\n",
    "    \n",
    "# # Plotting traces from line 210\n",
    "# for coord in coords_trace_line_210:\n",
    "#     icon = folium.features.CustomIcon('/home/hadoop/red-point.png', icon_size=(10,10))\n",
    "#     folium.Marker(coord,icon=icon).add_to(map_folium)\n",
    "\n",
    "    \n",
    "# map_folium.save(\"/tmp/testing-shapes-AL-direction.html\")"
   ]
  }
 ],
 "metadata": {
  "kernelspec": {
   "display_name": "Python 3",
   "language": "python",
   "name": "python3"
  },
  "language_info": {
   "codemirror_mode": {
    "name": "ipython",
    "version": 3
   },
   "file_extension": ".py",
   "mimetype": "text/x-python",
   "name": "python",
   "nbconvert_exporter": "python",
   "pygments_lexer": "ipython3",
   "version": "3.7.4"
  }
 },
 "nbformat": 4,
 "nbformat_minor": 4
}
