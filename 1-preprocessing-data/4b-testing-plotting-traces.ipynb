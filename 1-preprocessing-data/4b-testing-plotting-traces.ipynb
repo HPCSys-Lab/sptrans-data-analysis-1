{
 "cells": [
  {
   "cell_type": "code",
   "execution_count": 30,
   "metadata": {},
   "outputs": [
    {
     "data": {
      "application/vnd.jupyter.widget-view+json": {
       "model_id": "5ad1ebb7353e4877925b00cacdb85942",
       "version_major": 2,
       "version_minor": 0
      },
      "text/plain": [
       "VBox()"
      ]
     },
     "metadata": {},
     "output_type": "display_data"
    },
    {
     "data": {
      "application/vnd.jupyter.widget-view+json": {
       "model_id": "",
       "version_major": 2,
       "version_minor": 0
      },
      "text/plain": [
       "FloatProgress(value=0.0, bar_style='info', description='Progress:', layout=Layout(height='25px', width='50%'),…"
      ]
     },
     "metadata": {},
     "output_type": "display_data"
    }
   ],
   "source": [
    "import pyspark.sql.functions as F\n",
    "traces = spark.read.parquet(\"s3://mobility-traces-sp/processed-data-avl-date/2-register-between-6-23-with-all-region-of-sp/MO_15101/\")\n",
    "df = traces.filter((F.col(\"id_avl\") == '52086') & (F.col(\"line_id\") == 33893))\n",
    "\n",
    "df.write.parquet(\"s3://mobility-traces-sp/testing-traces-on-map/MO_15101_bus_52086_line_33893/\")"
   ]
  },
  {
   "cell_type": "code",
   "execution_count": 31,
   "metadata": {},
   "outputs": [
    {
     "data": {
      "application/vnd.jupyter.widget-view+json": {
       "model_id": "67559f0a40994e26ab20ffeb9a4bce8a",
       "version_major": 2,
       "version_minor": 0
      },
      "text/plain": [
       "VBox()"
      ]
     },
     "metadata": {},
     "output_type": "display_data"
    },
    {
     "data": {
      "application/vnd.jupyter.widget-view+json": {
       "model_id": "",
       "version_major": 2,
       "version_minor": 0
      },
      "text/plain": [
       "FloatProgress(value=0.0, bar_style='info', description='Progress:', layout=Layout(height='25px', width='50%'),…"
      ]
     },
     "metadata": {},
     "output_type": "display_data"
    }
   ],
   "source": [
    "import pyspark.sql.functions as F\n",
    "traces = spark.read.parquet(\"s3://mobility-traces-sp/processed-data-avl-date/2-register-between-6-23-with-all-region-of-sp/MO_15101/\")\n",
    "df = traces.filter((F.col(\"id_avl\") == 11194) & (F.col(\"line_id\") == 1851)).sort(\"dt_avl\")\n",
    "\n",
    "\n",
    "df.write.parquet(\"s3://mobility-traces-sp/testing-traces-on-map/MO_15101_bus_11194_line_1851/\")"
   ]
  },
  {
   "cell_type": "code",
   "execution_count": null,
   "metadata": {},
   "outputs": [],
   "source": [
    "import pyspark.sql.functions as F\n",
    "traces = spark.read.parquet(\"s3://mobility-traces-sp/processed-data-avl-date/2-register-between-6-23-with-all-region-of-sp/MO_15101/\")\n",
    "df = traces.filter((F.col(\"id_avl\") == 51187) & (F.col(\"line_id\") == 1881)).sort(\"dt_avl\")\n",
    "\n",
    "\n",
    "df.write.parquet(\"s3://mobility-traces-sp/testing-traces-on-map/MO_15101_bus_51187_line_1881/\")"
   ]
  },
  {
   "cell_type": "code",
   "execution_count": 37,
   "metadata": {},
   "outputs": [
    {
     "data": {
      "application/vnd.jupyter.widget-view+json": {
       "model_id": "4ed5b216988149dabe6c9a3b84c9f2e5",
       "version_major": 2,
       "version_minor": 0
      },
      "text/plain": [
       "VBox()"
      ]
     },
     "metadata": {},
     "output_type": "display_data"
    },
    {
     "data": {
      "application/vnd.jupyter.widget-view+json": {
       "model_id": "",
       "version_major": 2,
       "version_minor": 0
      },
      "text/plain": [
       "FloatProgress(value=0.0, bar_style='info', description='Progress:', layout=Layout(height='25px', width='50%'),…"
      ]
     },
     "metadata": {},
     "output_type": "display_data"
    }
   ],
   "source": [
    "import pyspark.sql.functions as F\n",
    "traces = spark.read.parquet(\"s3://mobility-traces-sp/processed-data-avl-date/2-register-between-6-23-with-all-region-of-sp/MO_15101/\")\n",
    "df = traces.filter((F.col(\"id_avl\") == 14663) & (F.col(\"line_id\") == 33230)).sort(\"dt_avl\")\n",
    "\n",
    "\n",
    "df.write.parquet(\"s3://mobility-traces-sp/testing-traces-on-map/MO_15101_bus_14663_line_33230/\")"
   ]
  },
  {
   "cell_type": "code",
   "execution_count": 39,
   "metadata": {},
   "outputs": [
    {
     "data": {
      "application/vnd.jupyter.widget-view+json": {
       "model_id": "9a9a00c6c81f446c8cd62ab8a6dc41f5",
       "version_major": 2,
       "version_minor": 0
      },
      "text/plain": [
       "VBox()"
      ]
     },
     "metadata": {},
     "output_type": "display_data"
    },
    {
     "data": {
      "application/vnd.jupyter.widget-view+json": {
       "model_id": "",
       "version_major": 2,
       "version_minor": 0
      },
      "text/plain": [
       "FloatProgress(value=0.0, bar_style='info', description='Progress:', layout=Layout(height='25px', width='50%'),…"
      ]
     },
     "metadata": {},
     "output_type": "display_data"
    }
   ],
   "source": [
    "import pyspark.sql.functions as F\n",
    "traces = spark.read.parquet(\"s3://mobility-traces-sp/processed-data-avl-date/2-register-between-6-23-with-all-region-of-sp/MO_15101/\")\n",
    "df = traces.filter((F.col(\"id_avl\") == 13702) & (F.col(\"line_id\") == 57)).sort(\"dt_avl\")\n",
    "\n",
    "\n",
    "df.write.parquet(\"s3://mobility-traces-sp/testing-traces-on-map/MO_15101_bus_13702_line_57/\")"
   ]
  },
  {
   "cell_type": "code",
   "execution_count": 43,
   "metadata": {},
   "outputs": [
    {
     "data": {
      "application/vnd.jupyter.widget-view+json": {
       "model_id": "62edbde0a65844c2b7824683c2549f04",
       "version_major": 2,
       "version_minor": 0
      },
      "text/plain": [
       "VBox()"
      ]
     },
     "metadata": {},
     "output_type": "display_data"
    },
    {
     "data": {
      "application/vnd.jupyter.widget-view+json": {
       "model_id": "",
       "version_major": 2,
       "version_minor": 0
      },
      "text/plain": [
       "FloatProgress(value=0.0, bar_style='info', description='Progress:', layout=Layout(height='25px', width='50%'),…"
      ]
     },
     "metadata": {},
     "output_type": "display_data"
    }
   ],
   "source": [
    "import pyspark.sql.functions as F\n",
    "traces = spark.read.parquet(\"s3://mobility-traces-sp/processed-data-avl-date/2-register-between-6-23-with-all-region-of-sp/MO_15101/\")\n",
    "df = traces.filter((F.col(\"id_avl\") == 44129) & (F.col(\"line_id\") == 900)).sort(\"dt_avl\")\n",
    "\n",
    "\n",
    "df.write.parquet(\"s3://mobility-traces-sp/testing-traces-on-map/MO_15101_bus_44129_line_900/\")"
   ]
  }
 ],
 "metadata": {
  "kernelspec": {
   "display_name": "Python 3",
   "language": "python",
   "name": "python3"
  },
  "language_info": {
   "codemirror_mode": {
    "name": "ipython",
    "version": 3
   },
   "file_extension": ".py",
   "mimetype": "text/x-python",
   "name": "python",
   "nbconvert_exporter": "python",
   "pygments_lexer": "ipython3",
   "version": "3.7.4"
  }
 },
 "nbformat": 4,
 "nbformat_minor": 4
}
