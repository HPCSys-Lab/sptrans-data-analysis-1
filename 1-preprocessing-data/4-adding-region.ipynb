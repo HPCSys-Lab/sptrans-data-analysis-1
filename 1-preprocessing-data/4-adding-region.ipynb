{
 "cells": [
  {
   "cell_type": "code",
   "execution_count": 1,
   "metadata": {},
   "outputs": [
    {
     "data": {
      "application/vnd.jupyter.widget-view+json": {
       "model_id": "86ceefc105f0459bb91db58efaad366b",
       "version_major": 2,
       "version_minor": 0
      },
      "text/plain": [
       "VBox()"
      ]
     },
     "metadata": {},
     "output_type": "display_data"
    },
    {
     "name": "stdout",
     "output_type": "stream",
     "text": [
      "Starting Spark application\n"
     ]
    },
    {
     "data": {
      "text/html": [
       "<table>\n",
       "<tr><th>ID</th><th>YARN Application ID</th><th>Kind</th><th>State</th><th>Spark UI</th><th>Driver log</th><th>Current session?</th></tr><tr><td>1</td><td>application_1607311183213_0002</td><td>pyspark</td><td>idle</td><td><a target=\"_blank\" href=\"http://ip-172-31-86-49.ec2.internal:20888/proxy/application_1607311183213_0002/\" >Link</a></td><td><a target=\"_blank\" href=\"http://ip-172-31-92-75.ec2.internal:8042/node/containerlogs/container_1607311183213_0002_01_000001/livy\" >Link</a></td><td>✔</td></tr></table>"
      ],
      "text/plain": [
       "<IPython.core.display.HTML object>"
      ]
     },
     "metadata": {},
     "output_type": "display_data"
    },
    {
     "data": {
      "application/vnd.jupyter.widget-view+json": {
       "model_id": "",
       "version_major": 2,
       "version_minor": 0
      },
      "text/plain": [
       "FloatProgress(value=0.0, bar_style='info', description='Progress:', layout=Layout(height='25px', width='50%'),…"
      ]
     },
     "metadata": {},
     "output_type": "display_data"
    },
    {
     "name": "stdout",
     "output_type": "stream",
     "text": [
      "SparkSession available as 'spark'.\n"
     ]
    },
    {
     "data": {
      "application/vnd.jupyter.widget-view+json": {
       "model_id": "",
       "version_major": 2,
       "version_minor": 0
      },
      "text/plain": [
       "FloatProgress(value=0.0, bar_style='info', description='Progress:', layout=Layout(height='25px', width='50%'),…"
      ]
     },
     "metadata": {},
     "output_type": "display_data"
    }
   ],
   "source": [
    "# Descrição\n",
    "# Após filtrar os dados mantendo os registros entre às 06:00 e 22:59 baseado no horario do avl, \n",
    "# este notebook identifica a região da cidade de São Paulo \n",
    "# em que a localização do trace (lat/long de cada linha) foi registrada.\n",
    "# A cidade de São Paulo é divida em 96 distritos segundo Secretaria Municipal de Desenvolvimento Urbano de São Paulo.\n",
    "# \n",
    "#\n",
    "# Description\n",
    "# After filtering data keeping registers between 6:00 and 22:59 based in hour_avl, \n",
    "# this notebook identifies the district/region of each\n",
    "# line/register based in fields lat/long and Sao Paulo districts' shape file.\n",
    "# Sao Paulo is a city splitted in 96 districts by Municipal Urban Planning and Licensing.\n",
    "#\n",
    "# Fontes de dados/ Data resources:\n",
    "# - Shapes/maps: http://geosampa.prefeitura.sp.gov.br/PaginasPublicas/_SBC.aspx\n",
    "# - Shapes: http://datageo.ambiente.sp.gov.br/coffey?_48_INSTANCE_KDzpt1cNV1RS_iframe_text=distrito+sao+paulo&enviar=Consultar&p_p_id=48_INSTANCE_KDzpt1cNV1RS&_48_INSTANCE_KDzpt1cNV1RS_iframe_avancado=false#_48_INSTANCE_KDzpt1cNV1RS_%3Dhttp%253A%252F%252Fdatageo.ambiente.sp.gov.br%252Fgeoportal%252Fcatalog%252Fsearch%252Fsearch.page%253Ftext%253Ddistrito%252520sao%252520paulo%2526avancado%253Dfalse\n",
    "# - Shapes: http://dados.prefeitura.sp.gov.br/pt_PT/dataset/referencia-urbana-do-municipio-de-sao-paulo\n",
    "# \n",
    "#\n",
    "# Tutoriais úteis/ useful tutorials:\n",
    "# https://databricks.com/blog/2019/12/05/processing-geospatial-data-at-scale-with-databricks.html\n",
    "# Geopandas - https://databricks.com/notebooks/geopandas-notebook.html"
   ]
  },
  {
   "cell_type": "code",
   "execution_count": 2,
   "metadata": {},
   "outputs": [
    {
     "data": {
      "application/vnd.jupyter.widget-view+json": {
       "model_id": "3aae3a1a0b9a4f8083205886022dea4a",
       "version_major": 2,
       "version_minor": 0
      },
      "text/plain": [
       "VBox()"
      ]
     },
     "metadata": {},
     "output_type": "display_data"
    },
    {
     "data": {
      "application/vnd.jupyter.widget-view+json": {
       "model_id": "",
       "version_major": 2,
       "version_minor": 0
      },
      "text/plain": [
       "FloatProgress(value=0.0, bar_style='info', description='Progress:', layout=Layout(height='25px', width='50%'),…"
      ]
     },
     "metadata": {},
     "output_type": "display_data"
    },
    {
     "name": "stdout",
     "output_type": "stream",
     "text": [
      "Collecting matplotlib\n",
      "  Using cached https://files.pythonhosted.org/packages/30/f2/10c822cb0ca5ebec58bd1892187bc3e3db64a867ac26531c6204663fc218/matplotlib-3.3.3-cp37-cp37m-manylinux1_x86_64.whl\n",
      "Requirement already satisfied: numpy>=1.15 in /usr/local/lib64/python3.7/site-packages (from matplotlib)\n",
      "Collecting python-dateutil>=2.1 (from matplotlib)\n",
      "  Using cached https://files.pythonhosted.org/packages/d4/70/d60450c3dd48ef87586924207ae8907090de0b306af2bce5d134d78615cb/python_dateutil-2.8.1-py2.py3-none-any.whl\n",
      "Collecting pyparsing!=2.0.4,!=2.1.2,!=2.1.6,>=2.0.3 (from matplotlib)\n",
      "  Using cached https://files.pythonhosted.org/packages/8a/bb/488841f56197b13700afd5658fc279a2025a39e22449b7cf29864669b15d/pyparsing-2.4.7-py2.py3-none-any.whl\n",
      "Collecting pillow>=6.2.0 (from matplotlib)\n",
      "  Using cached https://files.pythonhosted.org/packages/af/fa/c1302a26d5e1a17fa8e10e43417b6cf038b0648c4b79fcf2302a4a0c5d30/Pillow-8.0.1-cp37-cp37m-manylinux1_x86_64.whl\n",
      "Collecting cycler>=0.10 (from matplotlib)\n",
      "  Using cached https://files.pythonhosted.org/packages/f7/d2/e07d3ebb2bd7af696440ce7e754c59dd546ffe1bbe732c8ab68b9c834e61/cycler-0.10.0-py2.py3-none-any.whl\n",
      "Collecting kiwisolver>=1.0.1 (from matplotlib)\n",
      "  Using cached https://files.pythonhosted.org/packages/d2/46/231de802ade4225b76b96cffe419cf3ce52bbe92e3b092cf12db7d11c207/kiwisolver-1.3.1-cp37-cp37m-manylinux1_x86_64.whl\n",
      "Requirement already satisfied: six>=1.5 in /usr/local/lib/python3.7/site-packages (from python-dateutil>=2.1->matplotlib)\n",
      "Installing collected packages: python-dateutil, pyparsing, pillow, cycler, kiwisolver, matplotlib\n",
      "Successfully installed cycler-0.10.0 kiwisolver-1.3.1 matplotlib-3.3.3 pillow-8.0.1 pyparsing-2.4.7 python-dateutil-2.8.1\n",
      "\n",
      "Collecting descartes\n",
      "  Using cached https://files.pythonhosted.org/packages/e5/b6/1ed2eb03989ae574584664985367ba70cd9cf8b32ee8cad0e8aaeac819f3/descartes-1.1.0-py3-none-any.whl\n",
      "Requirement already satisfied: matplotlib in /mnt/tmp/1607312535127-0/lib/python3.7/site-packages (from descartes)\n",
      "Requirement already satisfied: numpy>=1.15 in /usr/local/lib64/python3.7/site-packages (from matplotlib->descartes)\n",
      "Requirement already satisfied: python-dateutil>=2.1 in /mnt/tmp/1607312535127-0/lib/python3.7/site-packages (from matplotlib->descartes)\n",
      "Requirement already satisfied: pyparsing!=2.0.4,!=2.1.2,!=2.1.6,>=2.0.3 in /mnt/tmp/1607312535127-0/lib/python3.7/site-packages (from matplotlib->descartes)\n",
      "Requirement already satisfied: pillow>=6.2.0 in /mnt/tmp/1607312535127-0/lib/python3.7/site-packages (from matplotlib->descartes)\n",
      "Requirement already satisfied: cycler>=0.10 in /mnt/tmp/1607312535127-0/lib/python3.7/site-packages (from matplotlib->descartes)\n",
      "Requirement already satisfied: kiwisolver>=1.0.1 in /mnt/tmp/1607312535127-0/lib/python3.7/site-packages (from matplotlib->descartes)\n",
      "Requirement already satisfied: six>=1.5 in /usr/local/lib/python3.7/site-packages (from python-dateutil>=2.1->matplotlib->descartes)\n",
      "Installing collected packages: descartes\n",
      "Successfully installed descartes-1.1.0\n",
      "\n",
      "Collecting shapely\n",
      "  Using cached https://files.pythonhosted.org/packages/98/f8/db4d3426a1aba9d5dfcc83ed5a3e2935d2b1deb73d350642931791a61c37/Shapely-1.7.1-cp37-cp37m-manylinux1_x86_64.whl\n",
      "Installing collected packages: shapely\n",
      "Successfully installed shapely-1.7.1\n",
      "\n",
      "Collecting pyproj==2.2.2\n",
      "  Using cached https://files.pythonhosted.org/packages/c9/28/1efec6032c100d956474e5fa4a4126b0cce1f43a4e2743f9c53c712c1453/pyproj-2.2.2-cp37-cp37m-manylinux1_x86_64.whl\n",
      "Installing collected packages: pyproj\n",
      "Successfully installed pyproj-2.2.2\n",
      "\n",
      "Collecting geopandas\n",
      "  Using cached https://files.pythonhosted.org/packages/f7/a4/e66aafbefcbb717813bf3a355c8c4fc3ed04ea1dd7feb2920f2f4f868921/geopandas-0.8.1-py2.py3-none-any.whl\n",
      "Requirement already satisfied: shapely in /mnt/tmp/1607312535127-0/lib/python3.7/site-packages (from geopandas)\n",
      "Collecting fiona (from geopandas)\n",
      "  Using cached https://files.pythonhosted.org/packages/47/c2/67d1d0acbaaee3b03e5e22e3b96c33219cb5dd392531c9ff9cee7c2eb3e4/Fiona-1.8.18-cp37-cp37m-manylinux1_x86_64.whl\n",
      "Requirement already satisfied: pyproj>=2.2.0 in /mnt/tmp/1607312535127-0/lib/python3.7/site-packages (from geopandas)\n",
      "Collecting pandas>=0.23.0 (from geopandas)\n",
      "  Using cached https://files.pythonhosted.org/packages/bf/4c/cb7da76f3a5e077e545f9cf8575b8f488a4e8ad60490838f89c5cdd5bb57/pandas-1.1.4-cp37-cp37m-manylinux1_x86_64.whl\n",
      "Collecting cligj>=0.5 (from fiona->geopandas)\n",
      "  Using cached https://files.pythonhosted.org/packages/42/1e/947eadf10d6804bf276eb8a038bd5307996dceaaa41cfd21b7a15ec62f5d/cligj-0.7.1-py3-none-any.whl\n",
      "Collecting munch (from fiona->geopandas)\n",
      "  Using cached https://files.pythonhosted.org/packages/cc/ab/85d8da5c9a45e072301beb37ad7f833cd344e04c817d97e0cc75681d248f/munch-2.5.0-py2.py3-none-any.whl\n",
      "Collecting certifi (from fiona->geopandas)\n",
      "  Using cached https://files.pythonhosted.org/packages/5e/a0/5f06e1e1d463903cf0c0eebeb751791119ed7a4b3737fdc9a77f1cdfb51f/certifi-2020.12.5-py2.py3-none-any.whl\n",
      "Requirement already satisfied: click<8,>=4.0 in /usr/local/lib64/python3.7/site-packages (from fiona->geopandas)\n",
      "Requirement already satisfied: six>=1.7 in /usr/local/lib/python3.7/site-packages (from fiona->geopandas)\n",
      "Collecting attrs>=17 (from fiona->geopandas)\n",
      "  Using cached https://files.pythonhosted.org/packages/c3/aa/cb45262569fcc047bf070b5de61813724d6726db83259222cd7b4c79821a/attrs-20.3.0-py2.py3-none-any.whl\n",
      "Collecting click-plugins>=1.0 (from fiona->geopandas)\n",
      "  Using cached https://files.pythonhosted.org/packages/e9/da/824b92d9942f4e472702488857914bdd50f73021efea15b4cad9aca8ecef/click_plugins-1.1.1-py2.py3-none-any.whl\n",
      "Requirement already satisfied: numpy>=1.15.4 in /usr/local/lib64/python3.7/site-packages (from pandas>=0.23.0->geopandas)\n",
      "Requirement already satisfied: pytz>=2017.2 in /usr/local/lib/python3.7/site-packages (from pandas>=0.23.0->geopandas)\n",
      "Requirement already satisfied: python-dateutil>=2.7.3 in /mnt/tmp/1607312535127-0/lib/python3.7/site-packages (from pandas>=0.23.0->geopandas)\n",
      "Installing collected packages: cligj, munch, certifi, attrs, click-plugins, fiona, pandas, geopandas\n",
      "Successfully installed attrs-20.3.0 certifi-2020.12.5 click-plugins-1.1.1 cligj-0.7.1 fiona-1.8.18 geopandas-0.8.1 munch-2.5.0 pandas-1.1.4\n",
      "\n",
      "Collecting boto3\n",
      "  Using cached https://files.pythonhosted.org/packages/50/9c/544396572c05841b7a2482c88be5dd54dcd18ba97abeb1e8d34daf921a54/boto3-1.16.30-py2.py3-none-any.whl\n",
      "Requirement already satisfied: jmespath<1.0.0,>=0.7.1 in /usr/local/lib/python3.7/site-packages (from boto3)\n",
      "Collecting botocore<1.20.0,>=1.19.30 (from boto3)\n",
      "  Using cached https://files.pythonhosted.org/packages/9c/a3/1ee497faf994d180df5d14d456eef1ef46ca1ffce617816faa4ff8164608/botocore-1.19.30-py2.py3-none-any.whl\n",
      "Collecting s3transfer<0.4.0,>=0.3.0 (from boto3)\n",
      "  Using cached https://files.pythonhosted.org/packages/69/79/e6afb3d8b0b4e96cefbdc690f741d7dd24547ff1f94240c997a26fa908d3/s3transfer-0.3.3-py2.py3-none-any.whl\n",
      "Requirement already satisfied: python-dateutil<3.0.0,>=2.1 in /mnt/tmp/1607312535127-0/lib/python3.7/site-packages (from botocore<1.20.0,>=1.19.30->boto3)\n",
      "Collecting urllib3<1.27,>=1.25.4; python_version != \"3.4\" (from botocore<1.20.0,>=1.19.30->boto3)\n",
      "  Using cached https://files.pythonhosted.org/packages/f5/71/45d36a8df68f3ebb098d6861b2c017f3d094538c0fb98fa61d4dc43e69b9/urllib3-1.26.2-py2.py3-none-any.whl\n",
      "Requirement already satisfied: six>=1.5 in /usr/local/lib/python3.7/site-packages (from python-dateutil<3.0.0,>=2.1->botocore<1.20.0,>=1.19.30->boto3)\n",
      "Installing collected packages: urllib3, botocore, s3transfer, boto3\n",
      "Successfully installed boto3-1.16.30 botocore-1.19.30 s3transfer-0.3.3 urllib3-1.26.2"
     ]
    }
   ],
   "source": [
    "# Spark Config\n",
    "from pyspark import SparkConf\n",
    "from pyspark import SparkContext\n",
    "\n",
    "spark_conf = (SparkConf().set(\"spark.speculation\", \"false\"))\n",
    "sc = SparkContext.getOrCreate(conf = spark_conf)\n",
    "\n",
    "# spark = sparkSession\n",
    "hadoop_conf = spark._jsc.hadoopConfiguration()\n",
    "hadoop_conf.set(\"fs.s3a.impl\", \"org.apache.hadoop.fs.s3a.S3AFileSystem\")\n",
    "hadoop_conf.set(\"mapreduce.fileoutputcommitter.algorithm.version\",\"2\")\n",
    "\n",
    "# installing required packages for this notebook session\n",
    "# installing required packages for this notebook session\n",
    "sc.install_pypi_package(\"matplotlib\")\n",
    "sc.install_pypi_package(\"descartes\")\n",
    "sc.install_pypi_package(\"shapely\")\n",
    "sc.install_pypi_package(\"pyproj==2.2.2\")\n",
    "sc.install_pypi_package(\"geopandas\")\n",
    "sc.install_pypi_package(\"boto3\")"
   ]
  },
  {
   "cell_type": "code",
   "execution_count": null,
   "metadata": {},
   "outputs": [
    {
     "data": {
      "application/vnd.jupyter.widget-view+json": {
       "model_id": "aa542519940d4c91b236424cb0fc408c",
       "version_major": 2,
       "version_minor": 0
      },
      "text/plain": [
       "VBox()"
      ]
     },
     "metadata": {},
     "output_type": "display_data"
    },
    {
     "data": {
      "application/vnd.jupyter.widget-view+json": {
       "model_id": "64e6d885c467420aba7b431b52a80d91",
       "version_major": 2,
       "version_minor": 0
      },
      "text/plain": [
       "FloatProgress(value=0.0, bar_style='info', description='Progress:', layout=Layout(height='25px', width='50%'),…"
      ]
     },
     "metadata": {},
     "output_type": "display_data"
    }
   ],
   "source": [
    "# libs\n",
    "import geopandas as gpd\n",
    "from shapely.geometry import Point, Polygon\n",
    "from pyspark.sql.functions import *\n",
    "\n",
    "# Reading São Paulo ESRI shape file\n",
    "sp_shape = gpd.read_file('s3://mobility-traces-sp/aux-files/shape-sp/DISTRITO_MUNICIPAL_SP_SMDUPolygon.shp')\n",
    "\n",
    "# Receives a point (lat,long) in a row, and sp variable shape file\n",
    "def get_region(row, sp):\n",
    "    # row[0] = longitude, row[1] = latitude\n",
    "    point = Point((float(row[0]), float(row[1])))\n",
    "    \n",
    "    # 96 districts\n",
    "    for i in range(96):\n",
    "        # if the point is within that region, the function return the region Name\n",
    "        if point.within(sp.loc[i, \"geometry\"]):\n",
    "            return sp.loc[i, \"Nome\"]\n",
    "    # if the point is outside sp, the function returns \"None\"\n",
    "    return \"None\"\n",
    "\n",
    "\n",
    "# user definied function for spark\n",
    "def get_region_udf(sp):\n",
    "    return udf(lambda x: get_region(x, sp))\n",
    "\n",
    "# october day 1 to day 31\n",
    "for day in range(1,32):   \n",
    "    # reading file with records between 6:00 and 22:59\n",
    "    traces = spark.read.parquet(\"s3a://mobility-traces-sp/processed-data-avl-date/1-records-between-6-23-avl-hour-dropped-columns-no-duplicates-t-x-y/MO_1510\"+str(day)+\"/\")\n",
    "    # reparting data in 200 partitions\n",
    "    traces = traces.repartition(100)  \n",
    "    \n",
    "    # adding a new column \"region\" in the traces dataframe\n",
    "    # the new column has the Sao Paulo district of the register lat/long\n",
    "    df_transformed = traces.withColumn(\"region\", get_region_udf(sc.broadcast(sp_shape).value)\n",
    "                                                           (struct(traces[\"longitude\"],\n",
    "                                                             traces[\"latitude\"])))\n",
    "    print(day)\n",
    "    \n",
    "    # saves the dataframe data \n",
    "    df_transformed.repartition(100).write.parquet(\"s3://mobility-traces-sp/processed-data-avl-date/2-register-between-6-23-with-all-region-of-sp/MO_1510\"+str(day)+\"/\")"
   ]
  }
 ],
 "metadata": {
  "kernelspec": {
   "display_name": "Python 3",
   "language": "python",
   "name": "python3"
  },
  "language_info": {
   "codemirror_mode": {
    "name": "ipython",
    "version": 3
   },
   "file_extension": ".py",
   "mimetype": "text/x-python",
   "name": "python",
   "nbconvert_exporter": "python",
   "pygments_lexer": "ipython3",
   "version": "3.7.4"
  }
 },
 "nbformat": 4,
 "nbformat_minor": 4
}
